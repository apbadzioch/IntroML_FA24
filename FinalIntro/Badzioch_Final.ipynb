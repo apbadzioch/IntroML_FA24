{
 "cells": [
  {
   "cell_type": "markdown",
   "metadata": {},
   "source": [
    "# Andrew Badzioch\n",
    "## Final: Profit Margins"
   ]
  },
  {
   "cell_type": "markdown",
   "metadata": {},
   "source": [
    "### Introduction"
   ]
  },
  {
   "cell_type": "markdown",
   "metadata": {},
   "source": [
    "- <code>Case Scenario:</code> Smart Electronics Store – Maximizing Profit Margins\n",
    "\n",
    "- <code>Background:</code> Smart Electronics Store (SES) is a retailer that has rapidly expanded to become a significant player in the electronics market, selling a variety of gadgets and accessories both online and in brick-and-mortar stores. Their product range includes smartphones, charging cables, headphones, monitors, and more niche items like smartwatches and gaming accessories.\n",
    "\n",
    "- <code>Challenge:</code> SES operates in a highly competitive market where customer preferences and technology trends shift rapidly. The leadership team wants to ensure the company's growth remains robust by maximizing profit margins across its diverse product lines. They seek to understand which products yield the highest profit margins and how they can predict these margins to strategize effectively.\n",
    "\n",
    "- <code>Data at Hand:</code> SES has collected detailed sales data that includes the cost price, selling price, and quantities sold for their inventory. This dataset is a valuable asset that can be leveraged to predict future profit margins.\n",
    "\n",
    "- <code>Importance of Margin Prediction:</code>\n",
    "    1.\t**Strategic Stocking:** Predicting profit margins will allow SES to prioritize products that offer the best return on investment in terms of shelf space and inventory holdings.\n",
    "    2.\t**Dynamic Pricing:** By understanding projected margins, SES can apply dynamic pricing strategies, adjusting prices in real time based on demand, competition, and expected profitability.\n",
    "    3.\t**Tailored Promotions:** Products with substantial predicted margins are bundled or promoted to enhance sales volume while maintaining profitability.\n",
    "    4.\t**Supplier Negotiations:** With clear insights into which products are likely to be more profitable, SES can negotiate better terms with suppliers or seek cost-effective alternatives.\n",
    "    5.\t**Cost Management:** Margin prediction can help identify less profitable products, prompting a review of associated costs or a strategic decision to phase out specific items.\n",
    "    6.\t**Budget Allocation:** Accurate margin forecasts are crucial for financial planning, determining where to allocate marketing dollars, and making decisions on product development.\n",
    "\n",
    "- <code>Proposed Solution:</code> To address the challenge, SES plans to use its sales data to build predictive models. By applying algorithms that can handle the variety and complexity of the data, such as Lasso Regression and Support Vector Machines (SVM), SES can predict future profit margins with greater accuracy.\n",
    "\n",
    "- <code>Lasso Regression vs. SVM:</code>\n",
    "    - **Lasso Regression:** This method is suitable for scenarios where we need to reduce the complexity of a model by performing feature selection. Lasso can identify which product features are most influential on profit margins by penalizing less significant variables to zero.\n",
    "    - **Support Vector Machines (SVM):** SVM is effective when the relationship between product features and profit margins is not linear or straightforward. Using kernel functions like the radial basis function (RBF), SVM can model complex, non-linear relationships in the data.\n",
    "\n",
    "- <code>Conclusion:</code> By effectively predicting profit margins, SES can make data-driven decisions to streamline their operations, focus on the most profitable products, and adapt their business strategy to the ever-changing market dynamics. This forward-looking approach is essential for maintaining a competitive edge in the technology retail space.\n",
    "Profit margin, also known as net margin, is a financial metric used to assess a company's profitability. It is the percentage of revenue that exceeds the cost of goods sold (COGS), and it is a clear indicator of a company's financial health and efficiency. Essentially, profit margin measures how much of every dollar of sales a company actually keeps in earnings.\n",
    "\n",
    "- A higher profit margin indicates a more profitable company that has better control over its costs compared to its competitors. Profit margins can vary by industry, and a 'good' margin will often depend on the norms within the particular sector of operation.\n",
    "- The profit margin for each product can be calculated using the 'Price Each' and 'Cost price' columns from the sales_data.csv file. The 'Price Each' column indicates the selling price of the product, while the 'Cost price' column shows the cost of the product to the business. The difference between these two gives you the gross profit for each product.\n",
    "\n",
    "- <code>Data Discription:</code>\n",
    "    - Order Date: The date and time when the order was placed. Data Type: String (should ideally be datetime).\n",
    "    - Order ID: A unique identifier for the order. Data Type: Integer.\n",
    "    - Product: The name of the product ordered. Data Type: String.\n",
    "    - Product_ean: The European Article Number (EAN), which is a barcode standard, a 12- or 13-digit product identification code. Data Type: String (should be numeric or string due to leading zeroes).\n",
    "    - catégorie: The French word for 'category,' this column likely represents the category of the product. Data Type: String.\n",
    "    - Purchase Address: The address where the product was delivered. Data Type: String.\n",
    "    - Quantity Ordered: The number of units of the product ordered. Data Type: Integer.\n",
    "    - Price Each: The price of one unit of the product. Data Type: Float.\n",
    "    - Cost price: The cost to the company of one unit of the product. Data Type: Float.\n",
    "    - Turnover: This is likely the total revenue from this order line (Quantity Ordered * Price Each). Data Type: Float.\n",
    "    - Margin: The profit margin per product could be the absolute margin (Price Each - Cost price) or a percentage. Data Type: Float.\n"
   ]
  },
  {
   "cell_type": "markdown",
   "metadata": {},
   "source": [
    "### Importing the libraries needed"
   ]
  },
  {
   "cell_type": "code",
   "execution_count": 1,
   "metadata": {},
   "outputs": [],
   "source": [
    "import pandas as pd\n",
    "import numpy as np\n",
    "\n",
    "import matplotlib.pyplot as plt\n",
    "import seaborn as sns\n",
    "\n",
    "import warnings\n",
    "warnings.filterwarnings('ignore')\n",
    "\n",
    "import os"
   ]
  },
  {
   "cell_type": "markdown",
   "metadata": {},
   "source": [
    "### Loading the Dataset"
   ]
  },
  {
   "cell_type": "code",
   "execution_count": 2,
   "metadata": {},
   "outputs": [
    {
     "data": {
      "text/html": [
       "<div>\n",
       "<style scoped>\n",
       "    .dataframe tbody tr th:only-of-type {\n",
       "        vertical-align: middle;\n",
       "    }\n",
       "\n",
       "    .dataframe tbody tr th {\n",
       "        vertical-align: top;\n",
       "    }\n",
       "\n",
       "    .dataframe thead th {\n",
       "        text-align: right;\n",
       "    }\n",
       "</style>\n",
       "<table border=\"1\" class=\"dataframe\">\n",
       "  <thead>\n",
       "    <tr style=\"text-align: right;\">\n",
       "      <th></th>\n",
       "      <th>Order Date</th>\n",
       "      <th>Order ID</th>\n",
       "      <th>Product</th>\n",
       "      <th>Product_ean</th>\n",
       "      <th>catégorie</th>\n",
       "      <th>Purchase Address</th>\n",
       "      <th>Quantity Ordered</th>\n",
       "      <th>Price Each</th>\n",
       "      <th>Cost price</th>\n",
       "      <th>turnover</th>\n",
       "      <th>margin</th>\n",
       "    </tr>\n",
       "  </thead>\n",
       "  <tbody>\n",
       "    <tr>\n",
       "      <th>0</th>\n",
       "      <td>1/22/2019 21:25</td>\n",
       "      <td>141234</td>\n",
       "      <td>iPhone</td>\n",
       "      <td>5.638010e+12</td>\n",
       "      <td>Vêtements</td>\n",
       "      <td>944 Walnut St, Boston, MA 02215</td>\n",
       "      <td>1</td>\n",
       "      <td>700.00</td>\n",
       "      <td>231.0000</td>\n",
       "      <td>700.00</td>\n",
       "      <td>469.0000</td>\n",
       "    </tr>\n",
       "    <tr>\n",
       "      <th>1</th>\n",
       "      <td>1/28/2019 14:15</td>\n",
       "      <td>141235</td>\n",
       "      <td>Lightning Charging Cable</td>\n",
       "      <td>5.563320e+12</td>\n",
       "      <td>Alimentation</td>\n",
       "      <td>185 Maple St, Portland, OR 97035</td>\n",
       "      <td>1</td>\n",
       "      <td>14.95</td>\n",
       "      <td>7.4750</td>\n",
       "      <td>14.95</td>\n",
       "      <td>7.4750</td>\n",
       "    </tr>\n",
       "    <tr>\n",
       "      <th>2</th>\n",
       "      <td>1/17/2019 13:33</td>\n",
       "      <td>141236</td>\n",
       "      <td>Wired Headphones</td>\n",
       "      <td>2.113970e+12</td>\n",
       "      <td>Vêtements</td>\n",
       "      <td>538 Adams St, San Francisco, CA 94016</td>\n",
       "      <td>2</td>\n",
       "      <td>11.99</td>\n",
       "      <td>5.9950</td>\n",
       "      <td>23.98</td>\n",
       "      <td>11.9900</td>\n",
       "    </tr>\n",
       "    <tr>\n",
       "      <th>3</th>\n",
       "      <td>1/5/2019 20:33</td>\n",
       "      <td>141237</td>\n",
       "      <td>27in FHD Monitor</td>\n",
       "      <td>3.069160e+12</td>\n",
       "      <td>Sports</td>\n",
       "      <td>738 10th St, Los Angeles, CA 90001</td>\n",
       "      <td>1</td>\n",
       "      <td>149.99</td>\n",
       "      <td>97.4935</td>\n",
       "      <td>149.99</td>\n",
       "      <td>52.4965</td>\n",
       "    </tr>\n",
       "    <tr>\n",
       "      <th>4</th>\n",
       "      <td>1/25/2019 11:59</td>\n",
       "      <td>141238</td>\n",
       "      <td>Wired Headphones</td>\n",
       "      <td>9.692680e+12</td>\n",
       "      <td>Électronique</td>\n",
       "      <td>387 10th St, Austin, TX 73301</td>\n",
       "      <td>1</td>\n",
       "      <td>11.99</td>\n",
       "      <td>5.9950</td>\n",
       "      <td>11.99</td>\n",
       "      <td>5.9950</td>\n",
       "    </tr>\n",
       "  </tbody>\n",
       "</table>\n",
       "</div>"
      ],
      "text/plain": [
       "        Order Date  Order ID                   Product   Product_ean  \\\n",
       "0  1/22/2019 21:25    141234                    iPhone  5.638010e+12   \n",
       "1  1/28/2019 14:15    141235  Lightning Charging Cable  5.563320e+12   \n",
       "2  1/17/2019 13:33    141236          Wired Headphones  2.113970e+12   \n",
       "3   1/5/2019 20:33    141237          27in FHD Monitor  3.069160e+12   \n",
       "4  1/25/2019 11:59    141238          Wired Headphones  9.692680e+12   \n",
       "\n",
       "      catégorie                       Purchase Address  Quantity Ordered  \\\n",
       "0     Vêtements        944 Walnut St, Boston, MA 02215                 1   \n",
       "1  Alimentation       185 Maple St, Portland, OR 97035                 1   \n",
       "2     Vêtements  538 Adams St, San Francisco, CA 94016                 2   \n",
       "3        Sports     738 10th St, Los Angeles, CA 90001                 1   \n",
       "4  Électronique          387 10th St, Austin, TX 73301                 1   \n",
       "\n",
       "   Price Each  Cost price  turnover    margin  \n",
       "0      700.00    231.0000    700.00  469.0000  \n",
       "1       14.95      7.4750     14.95    7.4750  \n",
       "2       11.99      5.9950     23.98   11.9900  \n",
       "3      149.99     97.4935    149.99   52.4965  \n",
       "4       11.99      5.9950     11.99    5.9950  "
      ]
     },
     "execution_count": 2,
     "metadata": {},
     "output_type": "execute_result"
    }
   ],
   "source": [
    "df = pd.read_csv('sales_data.csv')\n",
    "df.head()"
   ]
  },
  {
   "cell_type": "code",
   "execution_count": 3,
   "metadata": {},
   "outputs": [],
   "source": [
    "sales = df.copy()"
   ]
  },
  {
   "cell_type": "markdown",
   "metadata": {},
   "source": [
    "### Basic Data Exploration"
   ]
  },
  {
   "cell_type": "code",
   "execution_count": 4,
   "metadata": {},
   "outputs": [
    {
     "name": "stdout",
     "output_type": "stream",
     "text": [
      "sales dimensions:  2 \n",
      "\n",
      "sales shape:  (185950, 11) \n",
      "\n",
      "sales size:  2045450 \n",
      "\n",
      "sales dtype: \n",
      "  Order Date           object\n",
      "Order ID              int64\n",
      "Product              object\n",
      "Product_ean         float64\n",
      "catégorie            object\n",
      "Purchase Address     object\n",
      "Quantity Ordered      int64\n",
      "Price Each          float64\n",
      "Cost price          float64\n",
      "turnover            float64\n",
      "margin              float64\n",
      "dtype: object\n",
      "sales columns:  Index(['Order Date', 'Order ID', 'Product', 'Product_ean', 'catégorie',\n",
      "       'Purchase Address', 'Quantity Ordered', 'Price Each', 'Cost price',\n",
      "       'turnover', 'margin'],\n",
      "      dtype='object')\n"
     ]
    }
   ],
   "source": [
    "print(\"sales dimensions: \", sales.ndim, '\\n')\n",
    "print(\"sales shape: \", sales.shape, '\\n')\n",
    "print(\"sales size: \", sales.size, '\\n')\n",
    "print(\"sales dtype: \\n \", sales.dtypes,)\n",
    "print(\"sales columns: \", sales.columns)\n"
   ]
  },
  {
   "cell_type": "code",
   "execution_count": 5,
   "metadata": {},
   "outputs": [
    {
     "name": "stdout",
     "output_type": "stream",
     "text": [
      "<class 'pandas.core.frame.DataFrame'>\n",
      "RangeIndex: 185950 entries, 0 to 185949\n",
      "Data columns (total 11 columns):\n",
      " #   Column            Non-Null Count   Dtype  \n",
      "---  ------            --------------   -----  \n",
      " 0   Order Date        185950 non-null  object \n",
      " 1   Order ID          185950 non-null  int64  \n",
      " 2   Product           185950 non-null  object \n",
      " 3   Product_ean       185950 non-null  float64\n",
      " 4   catégorie         185950 non-null  object \n",
      " 5   Purchase Address  185950 non-null  object \n",
      " 6   Quantity Ordered  185950 non-null  int64  \n",
      " 7   Price Each        185950 non-null  float64\n",
      " 8   Cost price        185950 non-null  float64\n",
      " 9   turnover          185950 non-null  float64\n",
      " 10  margin            185950 non-null  float64\n",
      "dtypes: float64(5), int64(2), object(4)\n",
      "memory usage: 15.6+ MB\n"
     ]
    }
   ],
   "source": [
    "sales.info()"
   ]
  },
  {
   "cell_type": "code",
   "execution_count": 6,
   "metadata": {},
   "outputs": [],
   "source": [
    "# lowercase all the column names and replace spaces with underscaores\n",
    "sales.columns = sales.columns.str.lower().str.replace(' ', '_')\n",
    "\n",
    "# select only columns with string values\n",
    "string_column = list(sales.dtypes[sales.dtypes == 'object'].index)\n",
    "\n",
    "# lowercase and replace spaces with underscores in all columns in all string columns\n",
    "for col in string_column:\n",
    "    sales[col] = sales[col].str.lower().str.replace(' ', '_')"
   ]
  },
  {
   "cell_type": "code",
   "execution_count": 7,
   "metadata": {},
   "outputs": [
    {
     "data": {
      "text/plain": [
       "Index(['order_date', 'order_id', 'product', 'product_ean', 'catégorie',\n",
       "       'purchase_address', 'quantity_ordered', 'price_each', 'cost_price',\n",
       "       'turnover', 'margin'],\n",
       "      dtype='object')"
      ]
     },
     "execution_count": 7,
     "metadata": {},
     "output_type": "execute_result"
    }
   ],
   "source": [
    "# checking the column names to see what might be able to be changed, merged, or dropped\n",
    "sales.columns"
   ]
  },
  {
   "cell_type": "code",
   "execution_count": 8,
   "metadata": {},
   "outputs": [
    {
     "data": {
      "text/plain": [
       "0    1/22/2019_21:25\n",
       "Name: order_date, dtype: object"
      ]
     },
     "execution_count": 8,
     "metadata": {},
     "output_type": "execute_result"
    }
   ],
   "source": [
    "# looking at the format of the order date column\n",
    "sales['order_date'].head(1)"
   ]
  },
  {
   "cell_type": "code",
   "execution_count": 9,
   "metadata": {},
   "outputs": [],
   "source": [
    "# seting the datetime format to be able to change the columns (separation) with pd.to_datetime() method\n",
    "sales['order_dt'] = pd.to_datetime(sales['order_date'], format='%m/%d/%Y_%H:%M')"
   ]
  },
  {
   "cell_type": "code",
   "execution_count": 10,
   "metadata": {},
   "outputs": [
    {
     "data": {
      "text/plain": [
       "Index(['order_date', 'order_id', 'product', 'product_ean', 'catégorie',\n",
       "       'purchase_address', 'quantity_ordered', 'price_each', 'cost_price',\n",
       "       'turnover', 'margin', 'order_dt', 'order_year', 'order_month'],\n",
       "      dtype='object')"
      ]
     },
     "execution_count": 10,
     "metadata": {},
     "output_type": "execute_result"
    }
   ],
   "source": [
    "# creating new columns using pandas pd.to_datetime() method\n",
    "sales['order_year'] = pd.to_datetime(sales['order_dt']).dt.year\n",
    "sales['order_month'] = pd.to_datetime(sales['order_dt']).dt.month\n",
    "sales.columns"
   ]
  },
  {
   "cell_type": "code",
   "execution_count": 11,
   "metadata": {},
   "outputs": [
    {
     "data": {
      "text/plain": [
       "Index(['product', 'category', 'quantity_ordered', 'price_each', 'cost_price',\n",
       "       'turnover', 'margin', 'order_year', 'order_month'],\n",
       "      dtype='object')"
      ]
     },
     "execution_count": 11,
     "metadata": {},
     "output_type": "execute_result"
    }
   ],
   "source": [
    "# dropping unneeded columns\n",
    "sales.drop(columns={'order_date', 'order_id', 'product_ean', 'purchase_address', 'order_dt'}, axis=1, inplace=True)\n",
    "\n",
    "# changing 'catégorie' to 'category'\n",
    "sales = sales.rename(columns={'catégorie':'category'})\n",
    "\n",
    "sales.columns"
   ]
  },
  {
   "cell_type": "code",
   "execution_count": 12,
   "metadata": {},
   "outputs": [
    {
     "data": {
      "text/html": [
       "<div>\n",
       "<style scoped>\n",
       "    .dataframe tbody tr th:only-of-type {\n",
       "        vertical-align: middle;\n",
       "    }\n",
       "\n",
       "    .dataframe tbody tr th {\n",
       "        vertical-align: top;\n",
       "    }\n",
       "\n",
       "    .dataframe thead th {\n",
       "        text-align: right;\n",
       "    }\n",
       "</style>\n",
       "<table border=\"1\" class=\"dataframe\">\n",
       "  <thead>\n",
       "    <tr style=\"text-align: right;\">\n",
       "      <th></th>\n",
       "      <th>product</th>\n",
       "      <th>category</th>\n",
       "      <th>quantity_ordered</th>\n",
       "      <th>price_each</th>\n",
       "      <th>cost_price</th>\n",
       "      <th>turnover</th>\n",
       "      <th>margin</th>\n",
       "      <th>order_year</th>\n",
       "      <th>order_month</th>\n",
       "    </tr>\n",
       "  </thead>\n",
       "  <tbody>\n",
       "    <tr>\n",
       "      <th>0</th>\n",
       "      <td>iphone</td>\n",
       "      <td>vêtements</td>\n",
       "      <td>1</td>\n",
       "      <td>700.00</td>\n",
       "      <td>231.0000</td>\n",
       "      <td>700.00</td>\n",
       "      <td>469.0000</td>\n",
       "      <td>2019</td>\n",
       "      <td>1</td>\n",
       "    </tr>\n",
       "    <tr>\n",
       "      <th>1</th>\n",
       "      <td>lightning_charging_cable</td>\n",
       "      <td>alimentation</td>\n",
       "      <td>1</td>\n",
       "      <td>14.95</td>\n",
       "      <td>7.4750</td>\n",
       "      <td>14.95</td>\n",
       "      <td>7.4750</td>\n",
       "      <td>2019</td>\n",
       "      <td>1</td>\n",
       "    </tr>\n",
       "    <tr>\n",
       "      <th>2</th>\n",
       "      <td>wired_headphones</td>\n",
       "      <td>vêtements</td>\n",
       "      <td>2</td>\n",
       "      <td>11.99</td>\n",
       "      <td>5.9950</td>\n",
       "      <td>23.98</td>\n",
       "      <td>11.9900</td>\n",
       "      <td>2019</td>\n",
       "      <td>1</td>\n",
       "    </tr>\n",
       "    <tr>\n",
       "      <th>3</th>\n",
       "      <td>27in_fhd_monitor</td>\n",
       "      <td>sports</td>\n",
       "      <td>1</td>\n",
       "      <td>149.99</td>\n",
       "      <td>97.4935</td>\n",
       "      <td>149.99</td>\n",
       "      <td>52.4965</td>\n",
       "      <td>2019</td>\n",
       "      <td>1</td>\n",
       "    </tr>\n",
       "    <tr>\n",
       "      <th>4</th>\n",
       "      <td>wired_headphones</td>\n",
       "      <td>électronique</td>\n",
       "      <td>1</td>\n",
       "      <td>11.99</td>\n",
       "      <td>5.9950</td>\n",
       "      <td>11.99</td>\n",
       "      <td>5.9950</td>\n",
       "      <td>2019</td>\n",
       "      <td>1</td>\n",
       "    </tr>\n",
       "    <tr>\n",
       "      <th>5</th>\n",
       "      <td>aaa_batteries_(4-pack)</td>\n",
       "      <td>alimentation</td>\n",
       "      <td>1</td>\n",
       "      <td>2.99</td>\n",
       "      <td>1.4950</td>\n",
       "      <td>2.99</td>\n",
       "      <td>1.4950</td>\n",
       "      <td>2019</td>\n",
       "      <td>1</td>\n",
       "    </tr>\n",
       "    <tr>\n",
       "      <th>6</th>\n",
       "      <td>27in_4k_gaming_monitor</td>\n",
       "      <td>vêtements</td>\n",
       "      <td>1</td>\n",
       "      <td>389.99</td>\n",
       "      <td>128.6967</td>\n",
       "      <td>389.99</td>\n",
       "      <td>261.2933</td>\n",
       "      <td>2019</td>\n",
       "      <td>1</td>\n",
       "    </tr>\n",
       "    <tr>\n",
       "      <th>7</th>\n",
       "      <td>usb-c_charging_cable</td>\n",
       "      <td>vêtements</td>\n",
       "      <td>1</td>\n",
       "      <td>11.95</td>\n",
       "      <td>5.9750</td>\n",
       "      <td>11.95</td>\n",
       "      <td>5.9750</td>\n",
       "      <td>2019</td>\n",
       "      <td>1</td>\n",
       "    </tr>\n",
       "    <tr>\n",
       "      <th>8</th>\n",
       "      <td>bose_soundsport_headphones</td>\n",
       "      <td>électronique</td>\n",
       "      <td>1</td>\n",
       "      <td>99.99</td>\n",
       "      <td>49.9950</td>\n",
       "      <td>99.99</td>\n",
       "      <td>49.9950</td>\n",
       "      <td>2019</td>\n",
       "      <td>1</td>\n",
       "    </tr>\n",
       "    <tr>\n",
       "      <th>9</th>\n",
       "      <td>apple_airpods_headphones</td>\n",
       "      <td>électronique</td>\n",
       "      <td>1</td>\n",
       "      <td>150.00</td>\n",
       "      <td>97.5000</td>\n",
       "      <td>150.00</td>\n",
       "      <td>52.5000</td>\n",
       "      <td>2019</td>\n",
       "      <td>1</td>\n",
       "    </tr>\n",
       "  </tbody>\n",
       "</table>\n",
       "</div>"
      ],
      "text/plain": [
       "                      product      category  quantity_ordered  price_each  \\\n",
       "0                      iphone     vêtements                 1      700.00   \n",
       "1    lightning_charging_cable  alimentation                 1       14.95   \n",
       "2            wired_headphones     vêtements                 2       11.99   \n",
       "3            27in_fhd_monitor        sports                 1      149.99   \n",
       "4            wired_headphones  électronique                 1       11.99   \n",
       "5      aaa_batteries_(4-pack)  alimentation                 1        2.99   \n",
       "6      27in_4k_gaming_monitor     vêtements                 1      389.99   \n",
       "7        usb-c_charging_cable     vêtements                 1       11.95   \n",
       "8  bose_soundsport_headphones  électronique                 1       99.99   \n",
       "9    apple_airpods_headphones  électronique                 1      150.00   \n",
       "\n",
       "   cost_price  turnover    margin  order_year  order_month  \n",
       "0    231.0000    700.00  469.0000        2019            1  \n",
       "1      7.4750     14.95    7.4750        2019            1  \n",
       "2      5.9950     23.98   11.9900        2019            1  \n",
       "3     97.4935    149.99   52.4965        2019            1  \n",
       "4      5.9950     11.99    5.9950        2019            1  \n",
       "5      1.4950      2.99    1.4950        2019            1  \n",
       "6    128.6967    389.99  261.2933        2019            1  \n",
       "7      5.9750     11.95    5.9750        2019            1  \n",
       "8     49.9950     99.99   49.9950        2019            1  \n",
       "9     97.5000    150.00   52.5000        2019            1  "
      ]
     },
     "execution_count": 12,
     "metadata": {},
     "output_type": "execute_result"
    }
   ],
   "source": [
    "sales.head(10)"
   ]
  },
  {
   "cell_type": "code",
   "execution_count": 13,
   "metadata": {},
   "outputs": [
    {
     "data": {
      "text/plain": [
       "product\n",
       "usb-c_charging_cable          21903\n",
       "lightning_charging_cable      21658\n",
       "aaa_batteries_(4-pack)        20641\n",
       "aa_batteries_(4-pack)         20577\n",
       "wired_headphones              18882\n",
       "apple_airpods_headphones      15549\n",
       "bose_soundsport_headphones    13325\n",
       "27in_fhd_monitor               7507\n",
       "iphone                         6842\n",
       "27in_4k_gaming_monitor         6230\n",
       "34in_ultrawide_monitor         6181\n",
       "google_phone                   5525\n",
       "flatscreen_tv                  4800\n",
       "macbook_pro_laptop             4724\n",
       "thinkpad_laptop                4128\n",
       "20in_monitor                   4101\n",
       "vareebadd_phone                2065\n",
       "lg_washing_machine              666\n",
       "lg_dryer                        646\n",
       "Name: count, dtype: int64"
      ]
     },
     "execution_count": 13,
     "metadata": {},
     "output_type": "execute_result"
    }
   ],
   "source": [
    "sales['product'].value_counts()"
   ]
  },
  {
   "cell_type": "code",
   "execution_count": 14,
   "metadata": {},
   "outputs": [
    {
     "data": {
      "text/html": [
       "<div>\n",
       "<style scoped>\n",
       "    .dataframe tbody tr th:only-of-type {\n",
       "        vertical-align: middle;\n",
       "    }\n",
       "\n",
       "    .dataframe tbody tr th {\n",
       "        vertical-align: top;\n",
       "    }\n",
       "\n",
       "    .dataframe thead th {\n",
       "        text-align: right;\n",
       "    }\n",
       "</style>\n",
       "<table border=\"1\" class=\"dataframe\">\n",
       "  <thead>\n",
       "    <tr style=\"text-align: right;\">\n",
       "      <th></th>\n",
       "      <th>product</th>\n",
       "      <th>category</th>\n",
       "      <th>quantity_ordered</th>\n",
       "      <th>price_each</th>\n",
       "      <th>cost_price</th>\n",
       "      <th>turnover</th>\n",
       "      <th>margin</th>\n",
       "      <th>order_year</th>\n",
       "      <th>order_month</th>\n",
       "    </tr>\n",
       "  </thead>\n",
       "  <tbody>\n",
       "    <tr>\n",
       "      <th>0</th>\n",
       "      <td>iphone</td>\n",
       "      <td>phone</td>\n",
       "      <td>1</td>\n",
       "      <td>700.00</td>\n",
       "      <td>231.0000</td>\n",
       "      <td>700.00</td>\n",
       "      <td>469.0000</td>\n",
       "      <td>2019</td>\n",
       "      <td>1</td>\n",
       "    </tr>\n",
       "    <tr>\n",
       "      <th>1</th>\n",
       "      <td>lightning_charging_cable</td>\n",
       "      <td>cables</td>\n",
       "      <td>1</td>\n",
       "      <td>14.95</td>\n",
       "      <td>7.4750</td>\n",
       "      <td>14.95</td>\n",
       "      <td>7.4750</td>\n",
       "      <td>2019</td>\n",
       "      <td>1</td>\n",
       "    </tr>\n",
       "    <tr>\n",
       "      <th>2</th>\n",
       "      <td>wired_headphones</td>\n",
       "      <td>headphones</td>\n",
       "      <td>2</td>\n",
       "      <td>11.99</td>\n",
       "      <td>5.9950</td>\n",
       "      <td>23.98</td>\n",
       "      <td>11.9900</td>\n",
       "      <td>2019</td>\n",
       "      <td>1</td>\n",
       "    </tr>\n",
       "    <tr>\n",
       "      <th>3</th>\n",
       "      <td>27in_fhd_monitor</td>\n",
       "      <td>monitor</td>\n",
       "      <td>1</td>\n",
       "      <td>149.99</td>\n",
       "      <td>97.4935</td>\n",
       "      <td>149.99</td>\n",
       "      <td>52.4965</td>\n",
       "      <td>2019</td>\n",
       "      <td>1</td>\n",
       "    </tr>\n",
       "    <tr>\n",
       "      <th>4</th>\n",
       "      <td>wired_headphones</td>\n",
       "      <td>headphones</td>\n",
       "      <td>1</td>\n",
       "      <td>11.99</td>\n",
       "      <td>5.9950</td>\n",
       "      <td>11.99</td>\n",
       "      <td>5.9950</td>\n",
       "      <td>2019</td>\n",
       "      <td>1</td>\n",
       "    </tr>\n",
       "    <tr>\n",
       "      <th>5</th>\n",
       "      <td>aaa_batteries_(4-pack)</td>\n",
       "      <td>batteries</td>\n",
       "      <td>1</td>\n",
       "      <td>2.99</td>\n",
       "      <td>1.4950</td>\n",
       "      <td>2.99</td>\n",
       "      <td>1.4950</td>\n",
       "      <td>2019</td>\n",
       "      <td>1</td>\n",
       "    </tr>\n",
       "    <tr>\n",
       "      <th>6</th>\n",
       "      <td>27in_4k_gaming_monitor</td>\n",
       "      <td>monitor</td>\n",
       "      <td>1</td>\n",
       "      <td>389.99</td>\n",
       "      <td>128.6967</td>\n",
       "      <td>389.99</td>\n",
       "      <td>261.2933</td>\n",
       "      <td>2019</td>\n",
       "      <td>1</td>\n",
       "    </tr>\n",
       "    <tr>\n",
       "      <th>7</th>\n",
       "      <td>usb-c_charging_cable</td>\n",
       "      <td>cables</td>\n",
       "      <td>1</td>\n",
       "      <td>11.95</td>\n",
       "      <td>5.9750</td>\n",
       "      <td>11.95</td>\n",
       "      <td>5.9750</td>\n",
       "      <td>2019</td>\n",
       "      <td>1</td>\n",
       "    </tr>\n",
       "    <tr>\n",
       "      <th>8</th>\n",
       "      <td>bose_soundsport_headphones</td>\n",
       "      <td>headphones</td>\n",
       "      <td>1</td>\n",
       "      <td>99.99</td>\n",
       "      <td>49.9950</td>\n",
       "      <td>99.99</td>\n",
       "      <td>49.9950</td>\n",
       "      <td>2019</td>\n",
       "      <td>1</td>\n",
       "    </tr>\n",
       "    <tr>\n",
       "      <th>9</th>\n",
       "      <td>apple_airpods_headphones</td>\n",
       "      <td>headphones</td>\n",
       "      <td>1</td>\n",
       "      <td>150.00</td>\n",
       "      <td>97.5000</td>\n",
       "      <td>150.00</td>\n",
       "      <td>52.5000</td>\n",
       "      <td>2019</td>\n",
       "      <td>1</td>\n",
       "    </tr>\n",
       "  </tbody>\n",
       "</table>\n",
       "</div>"
      ],
      "text/plain": [
       "                      product    category  quantity_ordered  price_each  \\\n",
       "0                      iphone       phone                 1      700.00   \n",
       "1    lightning_charging_cable      cables                 1       14.95   \n",
       "2            wired_headphones  headphones                 2       11.99   \n",
       "3            27in_fhd_monitor     monitor                 1      149.99   \n",
       "4            wired_headphones  headphones                 1       11.99   \n",
       "5      aaa_batteries_(4-pack)   batteries                 1        2.99   \n",
       "6      27in_4k_gaming_monitor     monitor                 1      389.99   \n",
       "7        usb-c_charging_cable      cables                 1       11.95   \n",
       "8  bose_soundsport_headphones  headphones                 1       99.99   \n",
       "9    apple_airpods_headphones  headphones                 1      150.00   \n",
       "\n",
       "   cost_price  turnover    margin  order_year  order_month  \n",
       "0    231.0000    700.00  469.0000        2019            1  \n",
       "1      7.4750     14.95    7.4750        2019            1  \n",
       "2      5.9950     23.98   11.9900        2019            1  \n",
       "3     97.4935    149.99   52.4965        2019            1  \n",
       "4      5.9950     11.99    5.9950        2019            1  \n",
       "5      1.4950      2.99    1.4950        2019            1  \n",
       "6    128.6967    389.99  261.2933        2019            1  \n",
       "7      5.9750     11.95    5.9750        2019            1  \n",
       "8     49.9950     99.99   49.9950        2019            1  \n",
       "9     97.5000    150.00   52.5000        2019            1  "
      ]
     },
     "execution_count": 14,
     "metadata": {},
     "output_type": "execute_result"
    }
   ],
   "source": [
    "# changing the values of category to make more effecient\n",
    "sales.loc[sales['product'].isin(['iphone', 'google_phone', 'vareebadd_phone']), 'category'] = 'phone'\n",
    "sales.loc[sales['product'].isin(['aaa_batteries_(4-pack)', 'aa_batteries_(4-pack)']), 'category'] = 'batteries'\n",
    "sales.loc[sales['product'].isin(['wired_headphones', 'apple_airpods_headphones', 'bose_soundsport_headphones']), 'category'] = 'headphones'\n",
    "sales.loc[sales['product'].isin(['macbook_pro_laptop', 'thinkpad_laptop']), 'category'] = 'laptop'\n",
    "sales.loc[sales['product'].isin(['27in_fhd_monitor', '27in_4k_gaming_monitor', '34in_ultrawide_monitor', 'flatscreen_tv', '20in_monitor']), 'category'] = 'monitor'\n",
    "sales.loc[sales['product'].isin(['usb-c_charging_cable', 'lightning_charging_cable']), 'category'] = 'cables'\n",
    "sales.loc[sales['product'].isin(['lg_washing_machine', 'lg_dryer']), 'category'] = 'misc'\n",
    "\n",
    "sales.head(10)"
   ]
  },
  {
   "cell_type": "code",
   "execution_count": 15,
   "metadata": {},
   "outputs": [
    {
     "data": {
      "text/plain": [
       "<Axes: xlabel='category', ylabel='margin'>"
      ]
     },
     "execution_count": 15,
     "metadata": {},
     "output_type": "execute_result"
    },
    {
     "data": {
      "image/png": "[encoded data removed]",
      "text/plain": [
       "<Figure size 640x480 with 1 Axes>"
      ]
     },
     "metadata": {},
     "output_type": "display_data"
    }
   ],
   "source": [
    "sns.boxplot(x='category', y='margin', data=sales, color='orange')"
   ]
  },
  {
   "cell_type": "markdown",
   "metadata": {},
   "source": [
    "## Case Scenario: Maximizing Profit Margin"
   ]
  },
  {
   "cell_type": "code",
   "execution_count": 16,
   "metadata": {},
   "outputs": [
    {
     "data": {
      "text/html": [
       "<div>\n",
       "<style scoped>\n",
       "    .dataframe tbody tr th:only-of-type {\n",
       "        vertical-align: middle;\n",
       "    }\n",
       "\n",
       "    .dataframe tbody tr th {\n",
       "        vertical-align: top;\n",
       "    }\n",
       "\n",
       "    .dataframe thead th {\n",
       "        text-align: right;\n",
       "    }\n",
       "</style>\n",
       "<table border=\"1\" class=\"dataframe\">\n",
       "  <thead>\n",
       "    <tr style=\"text-align: right;\">\n",
       "      <th></th>\n",
       "      <th>product</th>\n",
       "      <th>category</th>\n",
       "      <th>quantity_ordered</th>\n",
       "      <th>price_each</th>\n",
       "      <th>cost_price</th>\n",
       "      <th>turnover</th>\n",
       "      <th>margin</th>\n",
       "      <th>order_year</th>\n",
       "      <th>order_month</th>\n",
       "    </tr>\n",
       "  </thead>\n",
       "  <tbody>\n",
       "    <tr>\n",
       "      <th>0</th>\n",
       "      <td>iphone</td>\n",
       "      <td>phone</td>\n",
       "      <td>1</td>\n",
       "      <td>700.00</td>\n",
       "      <td>231.0000</td>\n",
       "      <td>700.00</td>\n",
       "      <td>469.0000</td>\n",
       "      <td>2019</td>\n",
       "      <td>1</td>\n",
       "    </tr>\n",
       "    <tr>\n",
       "      <th>1</th>\n",
       "      <td>lightning_charging_cable</td>\n",
       "      <td>cables</td>\n",
       "      <td>1</td>\n",
       "      <td>14.95</td>\n",
       "      <td>7.4750</td>\n",
       "      <td>14.95</td>\n",
       "      <td>7.4750</td>\n",
       "      <td>2019</td>\n",
       "      <td>1</td>\n",
       "    </tr>\n",
       "    <tr>\n",
       "      <th>2</th>\n",
       "      <td>wired_headphones</td>\n",
       "      <td>headphones</td>\n",
       "      <td>2</td>\n",
       "      <td>11.99</td>\n",
       "      <td>5.9950</td>\n",
       "      <td>23.98</td>\n",
       "      <td>11.9900</td>\n",
       "      <td>2019</td>\n",
       "      <td>1</td>\n",
       "    </tr>\n",
       "    <tr>\n",
       "      <th>3</th>\n",
       "      <td>27in_fhd_monitor</td>\n",
       "      <td>monitor</td>\n",
       "      <td>1</td>\n",
       "      <td>149.99</td>\n",
       "      <td>97.4935</td>\n",
       "      <td>149.99</td>\n",
       "      <td>52.4965</td>\n",
       "      <td>2019</td>\n",
       "      <td>1</td>\n",
       "    </tr>\n",
       "    <tr>\n",
       "      <th>4</th>\n",
       "      <td>wired_headphones</td>\n",
       "      <td>headphones</td>\n",
       "      <td>1</td>\n",
       "      <td>11.99</td>\n",
       "      <td>5.9950</td>\n",
       "      <td>11.99</td>\n",
       "      <td>5.9950</td>\n",
       "      <td>2019</td>\n",
       "      <td>1</td>\n",
       "    </tr>\n",
       "  </tbody>\n",
       "</table>\n",
       "</div>"
      ],
      "text/plain": [
       "                    product    category  quantity_ordered  price_each  \\\n",
       "0                    iphone       phone                 1      700.00   \n",
       "1  lightning_charging_cable      cables                 1       14.95   \n",
       "2          wired_headphones  headphones                 2       11.99   \n",
       "3          27in_fhd_monitor     monitor                 1      149.99   \n",
       "4          wired_headphones  headphones                 1       11.99   \n",
       "\n",
       "   cost_price  turnover    margin  order_year  order_month  \n",
       "0    231.0000    700.00  469.0000        2019            1  \n",
       "1      7.4750     14.95    7.4750        2019            1  \n",
       "2      5.9950     23.98   11.9900        2019            1  \n",
       "3     97.4935    149.99   52.4965        2019            1  \n",
       "4      5.9950     11.99    5.9950        2019            1  "
      ]
     },
     "execution_count": 16,
     "metadata": {},
     "output_type": "execute_result"
    }
   ],
   "source": [
    "# creating a new dataframe for this scenario\n",
    "sales1 = sales.copy()\n",
    "sales1.head()"
   ]
  },
  {
   "cell_type": "code",
   "execution_count": 17,
   "metadata": {},
   "outputs": [
    {
     "name": "stdout",
     "output_type": "stream",
     "text": [
      "The total sales revenue is:  21334257.74\n"
     ]
    }
   ],
   "source": [
    "# creating a new column to check the total revenue\n",
    "sales1['pro_mar'] = (sales1['price_each'] - sales1['cost_price'])\n",
    "total_pro = sales1['pro_mar'].sum()\n",
    "print(\"The total sales revenue is: \", f\"{total_pro:.2f}\")"
   ]
  },
  {
   "cell_type": "code",
   "execution_count": 18,
   "metadata": {},
   "outputs": [
    {
     "name": "stdout",
     "output_type": "stream",
     "text": [
      "the total margin is: 21438067.93\n"
     ]
    }
   ],
   "source": [
    "# checking that the turnover is the same \n",
    "print(f\"the total margin is: {sales1['margin'].sum():.2f}\")"
   ]
  },
  {
   "cell_type": "code",
   "execution_count": 19,
   "metadata": {},
   "outputs": [
    {
     "name": "stdout",
     "output_type": "stream",
     "text": [
      "There are 35204 'margin' and 'pro_mar' rows that do not equal each other.\n"
     ]
    }
   ],
   "source": [
    "# checking if there is a difference between 'pro_mar' and 'margin'\n",
    "diff = (sales1['margin'] != sales1['pro_mar']).sum()\n",
    "print(f\"There are {diff} 'margin' and 'pro_mar' rows that do not equal each other.\")"
   ]
  },
  {
   "cell_type": "code",
   "execution_count": 20,
   "metadata": {},
   "outputs": [
    {
     "name": "stdout",
     "output_type": "stream",
     "text": [
      "the margin of error is:  103810.19\n"
     ]
    }
   ],
   "source": [
    "print(\"the margin of error is: \", f\"{abs(total_pro - sales1['margin'].sum()):.2f}\")"
   ]
  },
  {
   "cell_type": "markdown",
   "metadata": {},
   "source": [
    "### Importing the Libraries for Regression Analysis"
   ]
  },
  {
   "cell_type": "code",
   "execution_count": 21,
   "metadata": {},
   "outputs": [],
   "source": [
    "from sklearn.model_selection import train_test_split, GridSearchCV, RandomizedSearchCV\n",
    "from sklearn.linear_model import LassoCV\n",
    "from sklearn.svm import SVR \n",
    "from sklearn.metrics import mean_squared_error, r2_score\n",
    "from sklearn.preprocessing import OneHotEncoder, StandardScaler"
   ]
  },
  {
   "cell_type": "code",
   "execution_count": 22,
   "metadata": {},
   "outputs": [],
   "source": [
    "sales1 = sales1.drop(columns='margin')"
   ]
  },
  {
   "cell_type": "code",
   "execution_count": 23,
   "metadata": {},
   "outputs": [
    {
     "data": {
      "text/plain": [
       "product             0\n",
       "category            0\n",
       "quantity_ordered    0\n",
       "price_each          0\n",
       "cost_price          0\n",
       "turnover            0\n",
       "order_year          0\n",
       "order_month         0\n",
       "pro_mar             0\n",
       "dtype: int64"
      ]
     },
     "execution_count": 23,
     "metadata": {},
     "output_type": "execute_result"
    }
   ],
   "source": [
    "# making sure thare are no empty cells (double checking)\n",
    "sales1.isnull().sum()"
   ]
  },
  {
   "cell_type": "code",
   "execution_count": 24,
   "metadata": {},
   "outputs": [],
   "source": [
    "# defining features and target variable\n",
    "X = sales1.drop('pro_mar', axis=1)\n",
    "y = sales1['pro_mar']\n",
    "\n",
    "# splitting the dataset into training and testing sets\n",
    "X_train, X_test, y_train, y_test = train_test_split(X, y, test_size=0.2, random_state=42)\n"
   ]
  },
  {
   "cell_type": "code",
   "execution_count": 25,
   "metadata": {},
   "outputs": [],
   "source": [
    "# use pd.get_dummies to one_hot encode categorical features\n",
    "X_train_encoded = pd.get_dummies(X_train[['product', 'category']], drop_first=True)\n",
    "X_test_encoded = pd.get_dummies(X_test[['product', 'category']], drop_first=True)"
   ]
  },
  {
   "cell_type": "code",
   "execution_count": 26,
   "metadata": {},
   "outputs": [],
   "source": [
    "X_train_encoded, X_test_encoded = X_train_encoded.align(X_test_encoded, join='left', axis=1)"
   ]
  },
  {
   "cell_type": "code",
   "execution_count": 27,
   "metadata": {},
   "outputs": [],
   "source": [
    "# scaling the numerical columns (only the numerical features)\n",
    "numb_cols = ['quantity_ordered', 'price_each', 'cost_price', 'order_year', 'order_month']\n",
    "scaler = StandardScaler()\n",
    "\n",
    "X_train_scaled = scaler.fit_transform(X_train[numb_cols])\n",
    "X_test_scaled = scaler.transform(X_test[numb_cols])"
   ]
  },
  {
   "cell_type": "code",
   "execution_count": 28,
   "metadata": {},
   "outputs": [],
   "source": [
    "X_train_scaled_df = pd.DataFrame(X_train_scaled, columns=numb_cols, index=X_train.index)\n",
    "X_test_scaled_df = pd.DataFrame(X_test_scaled, columns=numb_cols, index=X_test.index)\n",
    "\n",
    "X_train_final = pd.concat([X_train_encoded, X_train_scaled_df], axis=1)\n",
    "X_test_final = pd.concat([X_test_encoded, X_test_scaled_df], axis=1)"
   ]
  },
  {
   "cell_type": "code",
   "execution_count": 29,
   "metadata": {},
   "outputs": [
    {
     "data": {
      "text/html": [
       "<style>#sk-container-id-1 {color: black;background-color: white;}#sk-container-id-1 pre{padding: 0;}#sk-container-id-1 div.sk-toggleable {background-color: white;}#sk-container-id-1 label.sk-toggleable__label {cursor: pointer;display: block;width: 100%;margin-bottom: 0;padding: 0.3em;box-sizing: border-box;text-align: center;}#sk-container-id-1 label.sk-toggleable__label-arrow:before {content: \"▸\";float: left;margin-right: 0.25em;color: #696969;}#sk-container-id-1 label.sk-toggleable__label-arrow:hover:before {color: black;}#sk-container-id-1 div.sk-estimator:hover label.sk-toggleable__label-arrow:before {color: black;}#sk-container-id-1 div.sk-toggleable__content {max-height: 0;max-width: 0;overflow: hidden;text-align: left;background-color: #f0f8ff;}#sk-container-id-1 div.sk-toggleable__content pre {margin: 0.2em;color: black;border-radius: 0.25em;background-color: #f0f8ff;}#sk-container-id-1 input.sk-toggleable__control:checked~div.sk-toggleable__content {max-height: 200px;max-width: 100%;overflow: auto;}#sk-container-id-1 input.sk-toggleable__control:checked~label.sk-toggleable__label-arrow:before {content: \"▾\";}#sk-container-id-1 div.sk-estimator input.sk-toggleable__control:checked~label.sk-toggleable__label {background-color: #d4ebff;}#sk-container-id-1 div.sk-label input.sk-toggleable__control:checked~label.sk-toggleable__label {background-color: #d4ebff;}#sk-container-id-1 input.sk-hidden--visually {border: 0;clip: rect(1px 1px 1px 1px);clip: rect(1px, 1px, 1px, 1px);height: 1px;margin: -1px;overflow: hidden;padding: 0;position: absolute;width: 1px;}#sk-container-id-1 div.sk-estimator {font-family: monospace;background-color: #f0f8ff;border: 1px dotted black;border-radius: 0.25em;box-sizing: border-box;margin-bottom: 0.5em;}#sk-container-id-1 div.sk-estimator:hover {background-color: #d4ebff;}#sk-container-id-1 div.sk-parallel-item::after {content: \"\";width: 100%;border-bottom: 1px solid gray;flex-grow: 1;}#sk-container-id-1 div.sk-label:hover label.sk-toggleable__label {background-color: #d4ebff;}#sk-container-id-1 div.sk-serial::before {content: \"\";position: absolute;border-left: 1px solid gray;box-sizing: border-box;top: 0;bottom: 0;left: 50%;z-index: 0;}#sk-container-id-1 div.sk-serial {display: flex;flex-direction: column;align-items: center;background-color: white;padding-right: 0.2em;padding-left: 0.2em;position: relative;}#sk-container-id-1 div.sk-item {position: relative;z-index: 1;}#sk-container-id-1 div.sk-parallel {display: flex;align-items: stretch;justify-content: center;background-color: white;position: relative;}#sk-container-id-1 div.sk-item::before, #sk-container-id-1 div.sk-parallel-item::before {content: \"\";position: absolute;border-left: 1px solid gray;box-sizing: border-box;top: 0;bottom: 0;left: 50%;z-index: -1;}#sk-container-id-1 div.sk-parallel-item {display: flex;flex-direction: column;z-index: 1;position: relative;background-color: white;}#sk-container-id-1 div.sk-parallel-item:first-child::after {align-self: flex-end;width: 50%;}#sk-container-id-1 div.sk-parallel-item:last-child::after {align-self: flex-start;width: 50%;}#sk-container-id-1 div.sk-parallel-item:only-child::after {width: 0;}#sk-container-id-1 div.sk-dashed-wrapped {border: 1px dashed gray;margin: 0 0.4em 0.5em 0.4em;box-sizing: border-box;padding-bottom: 0.4em;background-color: white;}#sk-container-id-1 div.sk-label label {font-family: monospace;font-weight: bold;display: inline-block;line-height: 1.2em;}#sk-container-id-1 div.sk-label-container {text-align: center;}#sk-container-id-1 div.sk-container {/* jupyter's `normalize.less` sets `[hidden] { display: none; }` but bootstrap.min.css set `[hidden] { display: none !important; }` so we also need the `!important` here to be able to override the default hidden behavior on the sphinx rendered scikit-learn.org. See: https://github.com/scikit-learn/scikit-learn/issues/21755 */display: inline-block !important;position: relative;}#sk-container-id-1 div.sk-text-repr-fallback {display: none;}</style><div id=\"sk-container-id-1\" class=\"sk-top-container\"><div class=\"sk-text-repr-fallback\"><pre>LassoCV(cv=5, random_state=0)</pre><b>In a Jupyter environment, please rerun this cell to show the HTML representation or trust the notebook. <br />On GitHub, the HTML representation is unable to render, please try loading this page with nbviewer.org.</b></div><div class=\"sk-container\" hidden><div class=\"sk-item\"><div class=\"sk-estimator sk-toggleable\"><input class=\"sk-toggleable__control sk-hidden--visually\" id=\"sk-estimator-id-1\" type=\"checkbox\" checked><label for=\"sk-estimator-id-1\" class=\"sk-toggleable__label sk-toggleable__label-arrow\">LassoCV</label><div class=\"sk-toggleable__content\"><pre>LassoCV(cv=5, random_state=0)</pre></div></div></div></div></div>"
      ],
      "text/plain": [
       "LassoCV(cv=5, random_state=0)"
      ]
     },
     "execution_count": 29,
     "metadata": {},
     "output_type": "execute_result"
    }
   ],
   "source": [
    "lasso = LassoCV(cv=5, random_state=0)\n",
    "lasso.fit(X_train_final, y_train)"
   ]
  },
  {
   "cell_type": "code",
   "execution_count": 30,
   "metadata": {},
   "outputs": [],
   "source": [
    "y_pred_lasso = lasso.predict(X_test_final)"
   ]
  },
  {
   "cell_type": "code",
   "execution_count": 31,
   "metadata": {},
   "outputs": [
    {
     "data": {
      "image/png": "[encoded data removed]",
      "text/plain": [
       "<Figure size 640x480 with 1 Axes>"
      ]
     },
     "metadata": {},
     "output_type": "display_data"
    }
   ],
   "source": [
    "# plotting for visualization\n",
    "residuals = y_test - y_pred_lasso\n",
    "plt.scatter(y_pred_lasso, residuals, color='blue', alpha=0.6)\n",
    "plt.axhline(0, color='red', linestyle='--', linewidth=1)\n",
    "plt.xlabel('predicted values')\n",
    "plt.ylabel('residuals')\n",
    "plt.title('residual plot')\n",
    "plt.show();"
   ]
  },
  {
   "cell_type": "code",
   "execution_count": 32,
   "metadata": {},
   "outputs": [
    {
     "name": "stdout",
     "output_type": "stream",
     "text": [
      "Lasso Regression RMSE: 4.922092566682225\n",
      "Lasso Regression R^2: 0.999521945406097\n"
     ]
    }
   ],
   "source": [
    "print(f\"Lasso Regression RMSE: {np.sqrt(mean_squared_error(y_test, y_pred_lasso))}\")\n",
    "print(f\"Lasso Regression R^2: {r2_score(y_test, y_pred_lasso)}\")"
   ]
  },
  {
   "cell_type": "code",
   "execution_count": 33,
   "metadata": {},
   "outputs": [],
   "source": [
    "# Sample a subset of data\n",
    "X_train_sample = X_train_scaled[:1000]\n",
    "y_train_sample = y_train[:1000]"
   ]
  },
  {
   "cell_type": "code",
   "execution_count": 34,
   "metadata": {},
   "outputs": [],
   "source": [
    "# Parameter grid\n",
    "param_grid = {\n",
    "    'C': [0.1, 1, 10],\n",
    "    'gamma': ['scale', 'auto']\n",
    "}"
   ]
  },
  {
   "cell_type": "code",
   "execution_count": 35,
   "metadata": {},
   "outputs": [
    {
     "data": {
      "text/html": [
       "<style>#sk-container-id-2 {color: black;background-color: white;}#sk-container-id-2 pre{padding: 0;}#sk-container-id-2 div.sk-toggleable {background-color: white;}#sk-container-id-2 label.sk-toggleable__label {cursor: pointer;display: block;width: 100%;margin-bottom: 0;padding: 0.3em;box-sizing: border-box;text-align: center;}#sk-container-id-2 label.sk-toggleable__label-arrow:before {content: \"▸\";float: left;margin-right: 0.25em;color: #696969;}#sk-container-id-2 label.sk-toggleable__label-arrow:hover:before {color: black;}#sk-container-id-2 div.sk-estimator:hover label.sk-toggleable__label-arrow:before {color: black;}#sk-container-id-2 div.sk-toggleable__content {max-height: 0;max-width: 0;overflow: hidden;text-align: left;background-color: #f0f8ff;}#sk-container-id-2 div.sk-toggleable__content pre {margin: 0.2em;color: black;border-radius: 0.25em;background-color: #f0f8ff;}#sk-container-id-2 input.sk-toggleable__control:checked~div.sk-toggleable__content {max-height: 200px;max-width: 100%;overflow: auto;}#sk-container-id-2 input.sk-toggleable__control:checked~label.sk-toggleable__label-arrow:before {content: \"▾\";}#sk-container-id-2 div.sk-estimator input.sk-toggleable__control:checked~label.sk-toggleable__label {background-color: #d4ebff;}#sk-container-id-2 div.sk-label input.sk-toggleable__control:checked~label.sk-toggleable__label {background-color: #d4ebff;}#sk-container-id-2 input.sk-hidden--visually {border: 0;clip: rect(1px 1px 1px 1px);clip: rect(1px, 1px, 1px, 1px);height: 1px;margin: -1px;overflow: hidden;padding: 0;position: absolute;width: 1px;}#sk-container-id-2 div.sk-estimator {font-family: monospace;background-color: #f0f8ff;border: 1px dotted black;border-radius: 0.25em;box-sizing: border-box;margin-bottom: 0.5em;}#sk-container-id-2 div.sk-estimator:hover {background-color: #d4ebff;}#sk-container-id-2 div.sk-parallel-item::after {content: \"\";width: 100%;border-bottom: 1px solid gray;flex-grow: 1;}#sk-container-id-2 div.sk-label:hover label.sk-toggleable__label {background-color: #d4ebff;}#sk-container-id-2 div.sk-serial::before {content: \"\";position: absolute;border-left: 1px solid gray;box-sizing: border-box;top: 0;bottom: 0;left: 50%;z-index: 0;}#sk-container-id-2 div.sk-serial {display: flex;flex-direction: column;align-items: center;background-color: white;padding-right: 0.2em;padding-left: 0.2em;position: relative;}#sk-container-id-2 div.sk-item {position: relative;z-index: 1;}#sk-container-id-2 div.sk-parallel {display: flex;align-items: stretch;justify-content: center;background-color: white;position: relative;}#sk-container-id-2 div.sk-item::before, #sk-container-id-2 div.sk-parallel-item::before {content: \"\";position: absolute;border-left: 1px solid gray;box-sizing: border-box;top: 0;bottom: 0;left: 50%;z-index: -1;}#sk-container-id-2 div.sk-parallel-item {display: flex;flex-direction: column;z-index: 1;position: relative;background-color: white;}#sk-container-id-2 div.sk-parallel-item:first-child::after {align-self: flex-end;width: 50%;}#sk-container-id-2 div.sk-parallel-item:last-child::after {align-self: flex-start;width: 50%;}#sk-container-id-2 div.sk-parallel-item:only-child::after {width: 0;}#sk-container-id-2 div.sk-dashed-wrapped {border: 1px dashed gray;margin: 0 0.4em 0.5em 0.4em;box-sizing: border-box;padding-bottom: 0.4em;background-color: white;}#sk-container-id-2 div.sk-label label {font-family: monospace;font-weight: bold;display: inline-block;line-height: 1.2em;}#sk-container-id-2 div.sk-label-container {text-align: center;}#sk-container-id-2 div.sk-container {/* jupyter's `normalize.less` sets `[hidden] { display: none; }` but bootstrap.min.css set `[hidden] { display: none !important; }` so we also need the `!important` here to be able to override the default hidden behavior on the sphinx rendered scikit-learn.org. See: https://github.com/scikit-learn/scikit-learn/issues/21755 */display: inline-block !important;position: relative;}#sk-container-id-2 div.sk-text-repr-fallback {display: none;}</style><div id=\"sk-container-id-2\" class=\"sk-top-container\"><div class=\"sk-text-repr-fallback\"><pre>RandomizedSearchCV(cv=3, estimator=SVR(), n_iter=5, n_jobs=-1,\n",
       "                   param_distributions={&#x27;C&#x27;: [0.1, 1, 10],\n",
       "                                        &#x27;gamma&#x27;: [&#x27;scale&#x27;, &#x27;auto&#x27;]})</pre><b>In a Jupyter environment, please rerun this cell to show the HTML representation or trust the notebook. <br />On GitHub, the HTML representation is unable to render, please try loading this page with nbviewer.org.</b></div><div class=\"sk-container\" hidden><div class=\"sk-item sk-dashed-wrapped\"><div class=\"sk-label-container\"><div class=\"sk-label sk-toggleable\"><input class=\"sk-toggleable__control sk-hidden--visually\" id=\"sk-estimator-id-2\" type=\"checkbox\" ><label for=\"sk-estimator-id-2\" class=\"sk-toggleable__label sk-toggleable__label-arrow\">RandomizedSearchCV</label><div class=\"sk-toggleable__content\"><pre>RandomizedSearchCV(cv=3, estimator=SVR(), n_iter=5, n_jobs=-1,\n",
       "                   param_distributions={&#x27;C&#x27;: [0.1, 1, 10],\n",
       "                                        &#x27;gamma&#x27;: [&#x27;scale&#x27;, &#x27;auto&#x27;]})</pre></div></div></div><div class=\"sk-parallel\"><div class=\"sk-parallel-item\"><div class=\"sk-item\"><div class=\"sk-label-container\"><div class=\"sk-label sk-toggleable\"><input class=\"sk-toggleable__control sk-hidden--visually\" id=\"sk-estimator-id-3\" type=\"checkbox\" ><label for=\"sk-estimator-id-3\" class=\"sk-toggleable__label sk-toggleable__label-arrow\">estimator: SVR</label><div class=\"sk-toggleable__content\"><pre>SVR()</pre></div></div></div><div class=\"sk-serial\"><div class=\"sk-item\"><div class=\"sk-estimator sk-toggleable\"><input class=\"sk-toggleable__control sk-hidden--visually\" id=\"sk-estimator-id-4\" type=\"checkbox\" ><label for=\"sk-estimator-id-4\" class=\"sk-toggleable__label sk-toggleable__label-arrow\">SVR</label><div class=\"sk-toggleable__content\"><pre>SVR()</pre></div></div></div></div></div></div></div></div></div></div>"
      ],
      "text/plain": [
       "RandomizedSearchCV(cv=3, estimator=SVR(), n_iter=5, n_jobs=-1,\n",
       "                   param_distributions={'C': [0.1, 1, 10],\n",
       "                                        'gamma': ['scale', 'auto']})"
      ]
     },
     "execution_count": 35,
     "metadata": {},
     "output_type": "execute_result"
    }
   ],
   "source": [
    "# Randomized search\n",
    "random_search = RandomizedSearchCV(\n",
    "    SVR(kernel='rbf'),\n",
    "    param_distributions=param_grid,\n",
    "    n_iter=5,  # Test fewer combinations\n",
    "    cv=3,\n",
    "    n_jobs=-1  # Parallelize\n",
    ")\n",
    "random_search.fit(X_train_sample, y_train_sample)"
   ]
  },
  {
   "cell_type": "code",
   "execution_count": 36,
   "metadata": {},
   "outputs": [
    {
     "name": "stdout",
     "output_type": "stream",
     "text": [
      "SVM Regression RMSE: 114.86085466887933\n",
      "SVM Regression R^2: 0.7396713123473979\n"
     ]
    }
   ],
   "source": [
    "# Evaluate best model\n",
    "best_svm = random_search.best_estimator_\n",
    "y_pred_svm = best_svm.predict(X_test_scaled)\n",
    "print(f\"SVM Regression RMSE: {np.sqrt(mean_squared_error(y_test, y_pred_svm))}\")\n",
    "print(f\"SVM Regression R^2: {r2_score(y_test, y_pred_svm)}\")"
   ]
  },
  {
   "cell_type": "code",
   "execution_count": 37,
   "metadata": {},
   "outputs": [
    {
     "data": {
      "image/png": "[encoded data removed]",
      "text/plain": [
       "<Figure size 800x800 with 1 Axes>"
      ]
     },
     "metadata": {},
     "output_type": "display_data"
    }
   ],
   "source": [
    "# plotting output\n",
    "\n",
    "plt.figure(figsize=(8, 8))\n",
    "plt.scatter(y_test, y_pred_svm, alpha=0.5)\n",
    "plt.plot([y_test.min(), y_test.max()], [y_test.min(), y_test.max()], 'r--', lw=2)\n",
    "plt.xlabel(\"True Values\")\n",
    "plt.ylabel(\"Predictions\")\n",
    "plt.title(\"SVR Predictions vs. True Values\")\n",
    "plt.grid()\n",
    "plt.show()"
   ]
  },
  {
   "cell_type": "code",
   "execution_count": null,
   "metadata": {},
   "outputs": [],
   "source": []
  }
 ],
 "metadata": {
  "kernelspec": {
   "display_name": "base",
   "language": "python",
   "name": "python3"
  },
  "language_info": {
   "codemirror_mode": {
    "name": "ipython",
    "version": 3
   },
   "file_extension": ".py",
   "mimetype": "text/x-python",
   "name": "python",
   "nbconvert_exporter": "python",
   "pygments_lexer": "ipython3",
   "version": "3.11.7"
  }
 },
 "nbformat": 4,
 "nbformat_minor": 2
}
