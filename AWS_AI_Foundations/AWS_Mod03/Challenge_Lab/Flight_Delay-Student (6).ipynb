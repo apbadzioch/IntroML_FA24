{
 "cells": [
  {
   "cell_type": "markdown",
   "metadata": {},
   "source": [
    "# Problem: Predicting Airplane Delays\n",
    "\n",
    "The goals of this notebook are:\n",
    "- Process and create a dataset from downloaded .zip files\n",
    "- Perform exploratory data analysis (EDA)\n",
    "- Establish a baseline model\n",
    "- Move from a simple model to an ensemble model\n",
    "- Perform hyperparameter optimization\n",
    "- Check feature importance\n",
    "\n",
    "\n",
    "## Introduction to business scenario\n",
    "\n",
    "You work for a travel booking website that wants to improve the customer experience for flights that were delayed. The company wants to create a feature to let customers know if the flight will be delayed because of weather when they book a flight to or from the busiest airports for domestic travel in the US. \n",
    "\n",
    "You are tasked with solving part of this problem by using machine learning (ML) to identify whether the flight will be delayed because of weather. You have been given access to the a dataset about the on-time performance of domestic flights that were operated by large air carriers. You can use this data to train an ML model to predict if the flight is going to be delayed for the busiest airports.\n",
    "\n",
    "\n",
    "## About this dataset\n",
    "\n",
    "This dataset contains scheduled and actual departure and arrival times reported by certified US air carriers that account for at least 1 percent of domestic scheduled passenger revenues. The data was collected by the U.S. Office of Airline Information, Bureau of Transportation Statistics (BTS). The dataset contains date, time, origin, destination, airline, distance, and delay status of flights for flights between 2013 and 2018.\n",
    "\n",
    "\n",
    "### Features\n",
    "\n",
    "For more information about features in the dataset, see [On-time delay dataset features](https://www.transtats.bts.gov/Fields.asp).\n",
    "\n",
    "### Dataset attributions  \n",
    "Website: https://www.transtats.bts.gov/\n",
    "\n",
    "Dataset(s) used in this lab were compiled by the U.S. Office of Airline Information, Bureau of Transportation Statistics (BTS), Airline On-Time Performance Data, available at https://www.transtats.bts.gov/DatabaseInfo.asp?DB_ID=120&DB_URL=Mode_ID=1&Mode_Desc=Aviation&Subject_ID2=0."
   ]
  },
  {
   "cell_type": "markdown",
   "metadata": {},
   "source": [
    "# Step 1: Problem formulation and data collection\n",
    "\n",
    "Start this project by writing a few sentences that summarize the business problem and the business goal that you want to achieve in this scenario. You can write down your ideas in the following sections. Include a business metric that you would like your team to aspire toward. After you define that information, write the ML problem statement. Finally, add a comment or two about the type of ML this activity represents. \n",
    "\n",
    "#### <span style=\"color: blue;\">Project presentation: Include a summary of these details in your project presentation.</span>\n",
    "\n",
    "### 1. Determine if and why ML is an appropriate solution to deploy for this scenario."
   ]
  },
  {
   "cell_type": "code",
   "execution_count": null,
   "metadata": {},
   "outputs": [],
   "source": [
    "# Write your answer here"
   ]
  },
  {
   "cell_type": "markdown",
   "metadata": {},
   "source": [
    "### 2. Formulate the business problem, success metrics, and desired ML output."
   ]
  },
  {
   "cell_type": "code",
   "execution_count": null,
   "metadata": {},
   "outputs": [],
   "source": [
    "# Write your answer here"
   ]
  },
  {
   "cell_type": "markdown",
   "metadata": {},
   "source": [
    "### 3. Identify the type of ML problem that you're working with."
   ]
  },
  {
   "cell_type": "code",
   "execution_count": null,
   "metadata": {},
   "outputs": [],
   "source": [
    "# Write your answer here"
   ]
  },
  {
   "cell_type": "markdown",
   "metadata": {},
   "source": [
    "### 4. Analyze the appropriateness of the data that you're working with."
   ]
  },
  {
   "cell_type": "code",
   "execution_count": null,
   "metadata": {},
   "outputs": [],
   "source": [
    "# Write your answer here"
   ]
  },
  {
   "cell_type": "markdown",
   "metadata": {},
   "source": [
    "### Setup\n",
    "\n",
    "Now that you have decided where you want to focus your attention, you will set up this lab so that you can start solving the problem.\n",
    "\n",
    "**Note:** This notebook was created and tested on an `ml.m4.xlarge` notebook instance with 25 GB storage. "
   ]
  },
  {
   "cell_type": "code",
   "execution_count": 1,
   "metadata": {
    "tags": []
   },
   "outputs": [
    {
     "name": "stderr",
     "output_type": "stream",
     "text": [
      "Matplotlib is building the font cache; this may take a moment.\n"
     ]
    }
   ],
   "source": [
    "import os\n",
    "from pathlib2 import Path\n",
    "from zipfile import ZipFile\n",
    "import time\n",
    "\n",
    "import pandas as pd\n",
    "import numpy as np\n",
    "import subprocess\n",
    "\n",
    "import matplotlib.pyplot as plt\n",
    "import seaborn as sns\n",
    "\n",
    "sns.set()\n",
    "instance_type='ml.m4.xlarge'\n",
    "\n",
    "import warnings\n",
    "warnings.filterwarnings('ignore')\n",
    "\n",
    "%matplotlib inline"
   ]
  },
  {
   "cell_type": "markdown",
   "metadata": {},
   "source": [
    "# Step 2: Data preprocessing and visualization  \n",
    "In this data preprocessing phase, you explore and visualize your data to better understand it. First, import the necessary libraries and read the data into a pandas DataFrame. After you import the data, explore the dataset. Look for the shape of the dataset and explore your columns and the types of columns that you will work with (numerical, categorical). Consider performing basic statistics on the features to get a sense of feature means and ranges. Examine your target column closely, and determine its distribution.\n",
    "\n",
    "\n",
    "### Specific questions to consider\n",
    "\n",
    "Throughout this section of the lab, consider the following questions:\n",
    "\n",
    "1. What can you deduce from the basic statistics that you ran on the features? \n",
    "2. What can you deduce from the distributions of the target classes?\n",
    "3. Is there anything else you can deduce by exploring the data?\n",
    "\n",
    "#### <span style=\"color: blue;\">Project presentation: Include a summary of your answers to these questions (and other similar questions) in your project presentation.</span>"
   ]
  },
  {
   "cell_type": "markdown",
   "metadata": {},
   "source": [
    "Start by bringing in the dataset from a public Amazon Simple Storage Service (Amazon S3) bucket to this notebook environment."
   ]
  },
  {
   "cell_type": "code",
   "execution_count": 2,
   "metadata": {
    "tags": []
   },
   "outputs": [
    {
     "name": "stdout",
     "output_type": "stream",
     "text": [
      "download: s3://aws-tc-largeobjects/CUR-TF-200-ACMLFO-1/flight_delay_project/data/On_Time_Reporting_Carrier_On_Time_Performance_1987_present_2014_2.zip to ../project/data/FlightDelays/On_Time_Reporting_Carrier_On_Time_Performance_1987_present_2014_2.zip\n",
      "download: s3://aws-tc-largeobjects/CUR-TF-200-ACMLFO-1/flight_delay_project/data/On_Time_Reporting_Carrier_On_Time_Performance_1987_present_2014_12.zip to ../project/data/FlightDelays/On_Time_Reporting_Carrier_On_Time_Performance_1987_present_2014_12.zip\n",
      "download: s3://aws-tc-largeobjects/CUR-TF-200-ACMLFO-1/flight_delay_project/data/On_Time_Reporting_Carrier_On_Time_Performance_1987_present_2014_11.zip to ../project/data/FlightDelays/On_Time_Reporting_Carrier_On_Time_Performance_1987_present_2014_11.zip\n",
      "download: s3://aws-tc-largeobjects/CUR-TF-200-ACMLFO-1/flight_delay_project/data/On_Time_Reporting_Carrier_On_Time_Performance_1987_present_2014_3.zip to ../project/data/FlightDelays/On_Time_Reporting_Carrier_On_Time_Performance_1987_present_2014_3.zip\n",
      "download: s3://aws-tc-largeobjects/CUR-TF-200-ACMLFO-1/flight_delay_project/data/On_Time_Reporting_Carrier_On_Time_Performance_1987_present_2014_5.zip to ../project/data/FlightDelays/On_Time_Reporting_Carrier_On_Time_Performance_1987_present_2014_5.zip\n",
      "download: s3://aws-tc-largeobjects/CUR-TF-200-ACMLFO-1/flight_delay_project/data/On_Time_Reporting_Carrier_On_Time_Performance_1987_present_2014_4.zip to ../project/data/FlightDelays/On_Time_Reporting_Carrier_On_Time_Performance_1987_present_2014_4.zip\n",
      "download: s3://aws-tc-largeobjects/CUR-TF-200-ACMLFO-1/flight_delay_project/data/On_Time_Reporting_Carrier_On_Time_Performance_1987_present_2014_7.zip to ../project/data/FlightDelays/On_Time_Reporting_Carrier_On_Time_Performance_1987_present_2014_7.zip\n",
      "download: s3://aws-tc-largeobjects/CUR-TF-200-ACMLFO-1/flight_delay_project/data/On_Time_Reporting_Carrier_On_Time_Performance_1987_present_2014_8.zip to ../project/data/FlightDelays/On_Time_Reporting_Carrier_On_Time_Performance_1987_present_2014_8.zip\n",
      "download: s3://aws-tc-largeobjects/CUR-TF-200-ACMLFO-1/flight_delay_project/data/On_Time_Reporting_Carrier_On_Time_Performance_1987_present_2014_6.zip to ../project/data/FlightDelays/On_Time_Reporting_Carrier_On_Time_Performance_1987_present_2014_6.zip\n",
      "download: s3://aws-tc-largeobjects/CUR-TF-200-ACMLFO-1/flight_delay_project/data/On_Time_Reporting_Carrier_On_Time_Performance_1987_present_2014_9.zip to ../project/data/FlightDelays/On_Time_Reporting_Carrier_On_Time_Performance_1987_present_2014_9.zip\n",
      "download: s3://aws-tc-largeobjects/CUR-TF-200-ACMLFO-1/flight_delay_project/data/On_Time_Reporting_Carrier_On_Time_Performance_1987_present_2014_10.zip to ../project/data/FlightDelays/On_Time_Reporting_Carrier_On_Time_Performance_1987_present_2014_10.zip\n",
      "download: s3://aws-tc-largeobjects/CUR-TF-200-ACMLFO-1/flight_delay_project/data/On_Time_Reporting_Carrier_On_Time_Performance_1987_present_2015_1.zip to ../project/data/FlightDelays/On_Time_Reporting_Carrier_On_Time_Performance_1987_present_2015_1.zip\n",
      "download: s3://aws-tc-largeobjects/CUR-TF-200-ACMLFO-1/flight_delay_project/data/On_Time_Reporting_Carrier_On_Time_Performance_1987_present_2015_10.zip to ../project/data/FlightDelays/On_Time_Reporting_Carrier_On_Time_Performance_1987_present_2015_10.zip\n",
      "download: s3://aws-tc-largeobjects/CUR-TF-200-ACMLFO-1/flight_delay_project/data/On_Time_Reporting_Carrier_On_Time_Performance_1987_present_2015_2.zip to ../project/data/FlightDelays/On_Time_Reporting_Carrier_On_Time_Performance_1987_present_2015_2.zip\n",
      "download: s3://aws-tc-largeobjects/CUR-TF-200-ACMLFO-1/flight_delay_project/data/On_Time_Reporting_Carrier_On_Time_Performance_1987_present_2015_11.zip to ../project/data/FlightDelays/On_Time_Reporting_Carrier_On_Time_Performance_1987_present_2015_11.zip\n",
      "download: s3://aws-tc-largeobjects/CUR-TF-200-ACMLFO-1/flight_delay_project/data/On_Time_Reporting_Carrier_On_Time_Performance_1987_present_2015_3.zip to ../project/data/FlightDelays/On_Time_Reporting_Carrier_On_Time_Performance_1987_present_2015_3.zip\n",
      "download: s3://aws-tc-largeobjects/CUR-TF-200-ACMLFO-1/flight_delay_project/data/On_Time_Reporting_Carrier_On_Time_Performance_1987_present_2015_5.zip to ../project/data/FlightDelays/On_Time_Reporting_Carrier_On_Time_Performance_1987_present_2015_5.zip\n",
      "download: s3://aws-tc-largeobjects/CUR-TF-200-ACMLFO-1/flight_delay_project/data/On_Time_Reporting_Carrier_On_Time_Performance_1987_present_2015_4.zip to ../project/data/FlightDelays/On_Time_Reporting_Carrier_On_Time_Performance_1987_present_2015_4.zip\n",
      "download: s3://aws-tc-largeobjects/CUR-TF-200-ACMLFO-1/flight_delay_project/data/On_Time_Reporting_Carrier_On_Time_Performance_1987_present_2014_1.zip to ../project/data/FlightDelays/On_Time_Reporting_Carrier_On_Time_Performance_1987_present_2014_1.zip\n",
      "download: s3://aws-tc-largeobjects/CUR-TF-200-ACMLFO-1/flight_delay_project/data/On_Time_Reporting_Carrier_On_Time_Performance_1987_present_2015_7.zip to ../project/data/FlightDelays/On_Time_Reporting_Carrier_On_Time_Performance_1987_present_2015_7.zip\n",
      "download: s3://aws-tc-largeobjects/CUR-TF-200-ACMLFO-1/flight_delay_project/data/On_Time_Reporting_Carrier_On_Time_Performance_1987_present_2015_6.zip to ../project/data/FlightDelays/On_Time_Reporting_Carrier_On_Time_Performance_1987_present_2015_6.zip\n",
      "download: s3://aws-tc-largeobjects/CUR-TF-200-ACMLFO-1/flight_delay_project/data/On_Time_Reporting_Carrier_On_Time_Performance_1987_present_2015_9.zip to ../project/data/FlightDelays/On_Time_Reporting_Carrier_On_Time_Performance_1987_present_2015_9.zip\n",
      "download: s3://aws-tc-largeobjects/CUR-TF-200-ACMLFO-1/flight_delay_project/data/On_Time_Reporting_Carrier_On_Time_Performance_1987_present_2015_12.zip to ../project/data/FlightDelays/On_Time_Reporting_Carrier_On_Time_Performance_1987_present_2015_12.zip\n",
      "download: s3://aws-tc-largeobjects/CUR-TF-200-ACMLFO-1/flight_delay_project/data/On_Time_Reporting_Carrier_On_Time_Performance_1987_present_2015_8.zip to ../project/data/FlightDelays/On_Time_Reporting_Carrier_On_Time_Performance_1987_present_2015_8.zip\n",
      "download: s3://aws-tc-largeobjects/CUR-TF-200-ACMLFO-1/flight_delay_project/data/On_Time_Reporting_Carrier_On_Time_Performance_1987_present_2016_12.zip to ../project/data/FlightDelays/On_Time_Reporting_Carrier_On_Time_Performance_1987_present_2016_12.zip\n",
      "download: s3://aws-tc-largeobjects/CUR-TF-200-ACMLFO-1/flight_delay_project/data/On_Time_Reporting_Carrier_On_Time_Performance_1987_present_2016_11.zip to ../project/data/FlightDelays/On_Time_Reporting_Carrier_On_Time_Performance_1987_present_2016_11.zip\n",
      "download: s3://aws-tc-largeobjects/CUR-TF-200-ACMLFO-1/flight_delay_project/data/On_Time_Reporting_Carrier_On_Time_Performance_1987_present_2016_2.zip to ../project/data/FlightDelays/On_Time_Reporting_Carrier_On_Time_Performance_1987_present_2016_2.zip\n",
      "download: s3://aws-tc-largeobjects/CUR-TF-200-ACMLFO-1/flight_delay_project/data/On_Time_Reporting_Carrier_On_Time_Performance_1987_present_2016_1.zip to ../project/data/FlightDelays/On_Time_Reporting_Carrier_On_Time_Performance_1987_present_2016_1.zip\n",
      "download: s3://aws-tc-largeobjects/CUR-TF-200-ACMLFO-1/flight_delay_project/data/On_Time_Reporting_Carrier_On_Time_Performance_1987_present_2016_3.zip to ../project/data/FlightDelays/On_Time_Reporting_Carrier_On_Time_Performance_1987_present_2016_3.zip\n",
      "download: s3://aws-tc-largeobjects/CUR-TF-200-ACMLFO-1/flight_delay_project/data/On_Time_Reporting_Carrier_On_Time_Performance_1987_present_2016_10.zip to ../project/data/FlightDelays/On_Time_Reporting_Carrier_On_Time_Performance_1987_present_2016_10.zip\n",
      "download: s3://aws-tc-largeobjects/CUR-TF-200-ACMLFO-1/flight_delay_project/data/On_Time_Reporting_Carrier_On_Time_Performance_1987_present_2016_4.zip to ../project/data/FlightDelays/On_Time_Reporting_Carrier_On_Time_Performance_1987_present_2016_4.zip\n",
      "download: s3://aws-tc-largeobjects/CUR-TF-200-ACMLFO-1/flight_delay_project/data/On_Time_Reporting_Carrier_On_Time_Performance_1987_present_2016_5.zip to ../project/data/FlightDelays/On_Time_Reporting_Carrier_On_Time_Performance_1987_present_2016_5.zip\n",
      "download: s3://aws-tc-largeobjects/CUR-TF-200-ACMLFO-1/flight_delay_project/data/On_Time_Reporting_Carrier_On_Time_Performance_1987_present_2016_6.zip to ../project/data/FlightDelays/On_Time_Reporting_Carrier_On_Time_Performance_1987_present_2016_6.zip\n",
      "download: s3://aws-tc-largeobjects/CUR-TF-200-ACMLFO-1/flight_delay_project/data/On_Time_Reporting_Carrier_On_Time_Performance_1987_present_2016_7.zip to ../project/data/FlightDelays/On_Time_Reporting_Carrier_On_Time_Performance_1987_present_2016_7.zip\n",
      "download: s3://aws-tc-largeobjects/CUR-TF-200-ACMLFO-1/flight_delay_project/data/On_Time_Reporting_Carrier_On_Time_Performance_1987_present_2017_1.zip to ../project/data/FlightDelays/On_Time_Reporting_Carrier_On_Time_Performance_1987_present_2017_1.zip\n",
      "download: s3://aws-tc-largeobjects/CUR-TF-200-ACMLFO-1/flight_delay_project/data/On_Time_Reporting_Carrier_On_Time_Performance_1987_present_2016_9.zip to ../project/data/FlightDelays/On_Time_Reporting_Carrier_On_Time_Performance_1987_present_2016_9.zip\n",
      "download: s3://aws-tc-largeobjects/CUR-TF-200-ACMLFO-1/flight_delay_project/data/On_Time_Reporting_Carrier_On_Time_Performance_1987_present_2017_10.zip to ../project/data/FlightDelays/On_Time_Reporting_Carrier_On_Time_Performance_1987_present_2017_10.zip\n",
      "download: s3://aws-tc-largeobjects/CUR-TF-200-ACMLFO-1/flight_delay_project/data/On_Time_Reporting_Carrier_On_Time_Performance_1987_present_2017_11.zip to ../project/data/FlightDelays/On_Time_Reporting_Carrier_On_Time_Performance_1987_present_2017_11.zip\n",
      "download: s3://aws-tc-largeobjects/CUR-TF-200-ACMLFO-1/flight_delay_project/data/On_Time_Reporting_Carrier_On_Time_Performance_1987_present_2016_8.zip to ../project/data/FlightDelays/On_Time_Reporting_Carrier_On_Time_Performance_1987_present_2016_8.zip\n",
      "download: s3://aws-tc-largeobjects/CUR-TF-200-ACMLFO-1/flight_delay_project/data/On_Time_Reporting_Carrier_On_Time_Performance_1987_present_2017_2.zip to ../project/data/FlightDelays/On_Time_Reporting_Carrier_On_Time_Performance_1987_present_2017_2.zip\n",
      "download: s3://aws-tc-largeobjects/CUR-TF-200-ACMLFO-1/flight_delay_project/data/On_Time_Reporting_Carrier_On_Time_Performance_1987_present_2017_12.zip to ../project/data/FlightDelays/On_Time_Reporting_Carrier_On_Time_Performance_1987_present_2017_12.zip\n",
      "download: s3://aws-tc-largeobjects/CUR-TF-200-ACMLFO-1/flight_delay_project/data/On_Time_Reporting_Carrier_On_Time_Performance_1987_present_2017_3.zip to ../project/data/FlightDelays/On_Time_Reporting_Carrier_On_Time_Performance_1987_present_2017_3.zip\n",
      "download: s3://aws-tc-largeobjects/CUR-TF-200-ACMLFO-1/flight_delay_project/data/On_Time_Reporting_Carrier_On_Time_Performance_1987_present_2017_5.zip to ../project/data/FlightDelays/On_Time_Reporting_Carrier_On_Time_Performance_1987_present_2017_5.zip\n",
      "download: s3://aws-tc-largeobjects/CUR-TF-200-ACMLFO-1/flight_delay_project/data/On_Time_Reporting_Carrier_On_Time_Performance_1987_present_2017_4.zip to ../project/data/FlightDelays/On_Time_Reporting_Carrier_On_Time_Performance_1987_present_2017_4.zip\n",
      "download: s3://aws-tc-largeobjects/CUR-TF-200-ACMLFO-1/flight_delay_project/data/On_Time_Reporting_Carrier_On_Time_Performance_1987_present_2017_7.zip to ../project/data/FlightDelays/On_Time_Reporting_Carrier_On_Time_Performance_1987_present_2017_7.zip\n",
      "download: s3://aws-tc-largeobjects/CUR-TF-200-ACMLFO-1/flight_delay_project/data/On_Time_Reporting_Carrier_On_Time_Performance_1987_present_2017_6.zip to ../project/data/FlightDelays/On_Time_Reporting_Carrier_On_Time_Performance_1987_present_2017_6.zip\n",
      "download: s3://aws-tc-largeobjects/CUR-TF-200-ACMLFO-1/flight_delay_project/data/On_Time_Reporting_Carrier_On_Time_Performance_1987_present_2017_9.zip to ../project/data/FlightDelays/On_Time_Reporting_Carrier_On_Time_Performance_1987_present_2017_9.zip\n",
      "download: s3://aws-tc-largeobjects/CUR-TF-200-ACMLFO-1/flight_delay_project/data/On_Time_Reporting_Carrier_On_Time_Performance_1987_present_2017_8.zip to ../project/data/FlightDelays/On_Time_Reporting_Carrier_On_Time_Performance_1987_present_2017_8.zip\n",
      "download: s3://aws-tc-largeobjects/CUR-TF-200-ACMLFO-1/flight_delay_project/data/On_Time_Reporting_Carrier_On_Time_Performance_1987_present_2018_1.zip to ../project/data/FlightDelays/On_Time_Reporting_Carrier_On_Time_Performance_1987_present_2018_1.zip\n",
      "download: s3://aws-tc-largeobjects/CUR-TF-200-ACMLFO-1/flight_delay_project/data/On_Time_Reporting_Carrier_On_Time_Performance_1987_present_2018_11.zip to ../project/data/FlightDelays/On_Time_Reporting_Carrier_On_Time_Performance_1987_present_2018_11.zip\n",
      "download: s3://aws-tc-largeobjects/CUR-TF-200-ACMLFO-1/flight_delay_project/data/On_Time_Reporting_Carrier_On_Time_Performance_1987_present_2018_12.zip to ../project/data/FlightDelays/On_Time_Reporting_Carrier_On_Time_Performance_1987_present_2018_12.zip\n",
      "download: s3://aws-tc-largeobjects/CUR-TF-200-ACMLFO-1/flight_delay_project/data/On_Time_Reporting_Carrier_On_Time_Performance_1987_present_2018_10.zip to ../project/data/FlightDelays/On_Time_Reporting_Carrier_On_Time_Performance_1987_present_2018_10.zip\n",
      "download: s3://aws-tc-largeobjects/CUR-TF-200-ACMLFO-1/flight_delay_project/data/On_Time_Reporting_Carrier_On_Time_Performance_1987_present_2018_2.zip to ../project/data/FlightDelays/On_Time_Reporting_Carrier_On_Time_Performance_1987_present_2018_2.zip\n",
      "download: s3://aws-tc-largeobjects/CUR-TF-200-ACMLFO-1/flight_delay_project/data/On_Time_Reporting_Carrier_On_Time_Performance_1987_present_2018_3.zip to ../project/data/FlightDelays/On_Time_Reporting_Carrier_On_Time_Performance_1987_present_2018_3.zip\n",
      "download: s3://aws-tc-largeobjects/CUR-TF-200-ACMLFO-1/flight_delay_project/data/On_Time_Reporting_Carrier_On_Time_Performance_1987_present_2018_6.zip to ../project/data/FlightDelays/On_Time_Reporting_Carrier_On_Time_Performance_1987_present_2018_6.zip\n",
      "download: s3://aws-tc-largeobjects/CUR-TF-200-ACMLFO-1/flight_delay_project/data/On_Time_Reporting_Carrier_On_Time_Performance_1987_present_2018_4.zip to ../project/data/FlightDelays/On_Time_Reporting_Carrier_On_Time_Performance_1987_present_2018_4.zip\n",
      "download: s3://aws-tc-largeobjects/CUR-TF-200-ACMLFO-1/flight_delay_project/data/On_Time_Reporting_Carrier_On_Time_Performance_1987_present_2018_5.zip to ../project/data/FlightDelays/On_Time_Reporting_Carrier_On_Time_Performance_1987_present_2018_5.zip\n",
      "download: s3://aws-tc-largeobjects/CUR-TF-200-ACMLFO-1/flight_delay_project/data/On_Time_Reporting_Carrier_On_Time_Performance_1987_present_2018_7.zip to ../project/data/FlightDelays/On_Time_Reporting_Carrier_On_Time_Performance_1987_present_2018_7.zip\n",
      "download: s3://aws-tc-largeobjects/CUR-TF-200-ACMLFO-1/flight_delay_project/data/On_Time_Reporting_Carrier_On_Time_Performance_1987_present_2018_9.zip to ../project/data/FlightDelays/On_Time_Reporting_Carrier_On_Time_Performance_1987_present_2018_9.zip\n",
      "download: s3://aws-tc-largeobjects/CUR-TF-200-ACMLFO-1/flight_delay_project/data/On_Time_Reporting_Carrier_On_Time_Performance_1987_present_2018_8.zip to ../project/data/FlightDelays/On_Time_Reporting_Carrier_On_Time_Performance_1987_present_2018_8.zip\n"
     ]
    }
   ],
   "source": [
    "# download the files\n",
    "\n",
    "zip_path = '/home/ec2-user/SageMaker/project/data/FlightDelays/'\n",
    "base_path = '/home/ec2-user/SageMaker/project/data/FlightDelays/'\n",
    "csv_base_path = '/home/ec2-user/SageMaker/project/data/csvFlightDelays/'\n",
    "\n",
    "!mkdir -p {zip_path}\n",
    "!mkdir -p {csv_base_path}\n",
    "!aws s3 cp s3://aws-tc-largeobjects/CUR-TF-200-ACMLFO-1/flight_delay_project/data/ {zip_path} --recursive\n"
   ]
  },
  {
   "cell_type": "code",
   "execution_count": 3,
   "metadata": {
    "tags": []
   },
   "outputs": [
    {
     "data": {
      "text/plain": [
       "60"
      ]
     },
     "execution_count": 3,
     "metadata": {},
     "output_type": "execute_result"
    }
   ],
   "source": [
    "zip_files = [str(file) for file in list(Path(base_path).iterdir()) if '.zip' in str(file)]\n",
    "len(zip_files)"
   ]
  },
  {
   "cell_type": "markdown",
   "metadata": {},
   "source": [
    "Extract comma-separated values (CSV) files from the .zip files."
   ]
  },
  {
   "cell_type": "code",
   "execution_count": 4,
   "metadata": {
    "tags": []
   },
   "outputs": [
    {
     "name": "stdout",
     "output_type": "stream",
     "text": [
      "Extracting /home/ec2-user/SageMaker/project/data/FlightDelays/On_Time_Reporting_Carrier_On_Time_Performance_1987_present_2016_11.zip \n",
      "Extracting /home/ec2-user/SageMaker/project/data/FlightDelays/On_Time_Reporting_Carrier_On_Time_Performance_1987_present_2014_3.zip \n",
      "Extracting /home/ec2-user/SageMaker/project/data/FlightDelays/On_Time_Reporting_Carrier_On_Time_Performance_1987_present_2014_6.zip \n",
      "Extracting /home/ec2-user/SageMaker/project/data/FlightDelays/On_Time_Reporting_Carrier_On_Time_Performance_1987_present_2018_2.zip \n",
      "Extracting /home/ec2-user/SageMaker/project/data/FlightDelays/On_Time_Reporting_Carrier_On_Time_Performance_1987_present_2017_4.zip \n",
      "Extracting /home/ec2-user/SageMaker/project/data/FlightDelays/On_Time_Reporting_Carrier_On_Time_Performance_1987_present_2015_2.zip \n",
      "Extracting /home/ec2-user/SageMaker/project/data/FlightDelays/On_Time_Reporting_Carrier_On_Time_Performance_1987_present_2015_1.zip \n",
      "Extracting /home/ec2-user/SageMaker/project/data/FlightDelays/On_Time_Reporting_Carrier_On_Time_Performance_1987_present_2016_10.zip \n",
      "Extracting /home/ec2-user/SageMaker/project/data/FlightDelays/On_Time_Reporting_Carrier_On_Time_Performance_1987_present_2017_5.zip \n",
      "Extracting /home/ec2-user/SageMaker/project/data/FlightDelays/On_Time_Reporting_Carrier_On_Time_Performance_1987_present_2015_7.zip \n",
      "Extracting /home/ec2-user/SageMaker/project/data/FlightDelays/On_Time_Reporting_Carrier_On_Time_Performance_1987_present_2016_2.zip \n",
      "Extracting /home/ec2-user/SageMaker/project/data/FlightDelays/On_Time_Reporting_Carrier_On_Time_Performance_1987_present_2015_12.zip \n",
      "Extracting /home/ec2-user/SageMaker/project/data/FlightDelays/On_Time_Reporting_Carrier_On_Time_Performance_1987_present_2016_8.zip \n",
      "Extracting /home/ec2-user/SageMaker/project/data/FlightDelays/On_Time_Reporting_Carrier_On_Time_Performance_1987_present_2018_9.zip \n",
      "Extracting /home/ec2-user/SageMaker/project/data/FlightDelays/On_Time_Reporting_Carrier_On_Time_Performance_1987_present_2018_12.zip \n",
      "Extracting /home/ec2-user/SageMaker/project/data/FlightDelays/On_Time_Reporting_Carrier_On_Time_Performance_1987_present_2015_8.zip \n",
      "Extracting /home/ec2-user/SageMaker/project/data/FlightDelays/On_Time_Reporting_Carrier_On_Time_Performance_1987_present_2014_1.zip \n",
      "Extracting /home/ec2-user/SageMaker/project/data/FlightDelays/On_Time_Reporting_Carrier_On_Time_Performance_1987_present_2015_5.zip \n",
      "Extracting /home/ec2-user/SageMaker/project/data/FlightDelays/On_Time_Reporting_Carrier_On_Time_Performance_1987_present_2016_7.zip \n",
      "Extracting /home/ec2-user/SageMaker/project/data/FlightDelays/On_Time_Reporting_Carrier_On_Time_Performance_1987_present_2017_1.zip \n",
      "Extracting /home/ec2-user/SageMaker/project/data/FlightDelays/On_Time_Reporting_Carrier_On_Time_Performance_1987_present_2018_6.zip \n",
      "Extracting /home/ec2-user/SageMaker/project/data/FlightDelays/On_Time_Reporting_Carrier_On_Time_Performance_1987_present_2018_10.zip \n",
      "Extracting /home/ec2-user/SageMaker/project/data/FlightDelays/On_Time_Reporting_Carrier_On_Time_Performance_1987_present_2018_8.zip \n",
      "Extracting /home/ec2-user/SageMaker/project/data/FlightDelays/On_Time_Reporting_Carrier_On_Time_Performance_1987_present_2018_1.zip \n",
      "Extracting /home/ec2-user/SageMaker/project/data/FlightDelays/On_Time_Reporting_Carrier_On_Time_Performance_1987_present_2015_3.zip \n",
      "Extracting /home/ec2-user/SageMaker/project/data/FlightDelays/On_Time_Reporting_Carrier_On_Time_Performance_1987_present_2017_6.zip \n",
      "Extracting /home/ec2-user/SageMaker/project/data/FlightDelays/On_Time_Reporting_Carrier_On_Time_Performance_1987_present_2016_12.zip \n",
      "Extracting /home/ec2-user/SageMaker/project/data/FlightDelays/On_Time_Reporting_Carrier_On_Time_Performance_1987_present_2016_6.zip \n",
      "Extracting /home/ec2-user/SageMaker/project/data/FlightDelays/On_Time_Reporting_Carrier_On_Time_Performance_1987_present_2017_2.zip \n",
      "Extracting /home/ec2-user/SageMaker/project/data/FlightDelays/On_Time_Reporting_Carrier_On_Time_Performance_1987_present_2015_4.zip \n",
      "Extracting /home/ec2-user/SageMaker/project/data/FlightDelays/On_Time_Reporting_Carrier_On_Time_Performance_1987_present_2018_4.zip \n",
      "Extracting /home/ec2-user/SageMaker/project/data/FlightDelays/On_Time_Reporting_Carrier_On_Time_Performance_1987_present_2017_10.zip \n",
      "Extracting /home/ec2-user/SageMaker/project/data/FlightDelays/On_Time_Reporting_Carrier_On_Time_Performance_1987_present_2014_12.zip \n",
      "Extracting /home/ec2-user/SageMaker/project/data/FlightDelays/On_Time_Reporting_Carrier_On_Time_Performance_1987_present_2016_4.zip \n",
      "Extracting /home/ec2-user/SageMaker/project/data/FlightDelays/On_Time_Reporting_Carrier_On_Time_Performance_1987_present_2015_6.zip \n",
      "Extracting /home/ec2-user/SageMaker/project/data/FlightDelays/On_Time_Reporting_Carrier_On_Time_Performance_1987_present_2017_7.zip \n",
      "Extracting /home/ec2-user/SageMaker/project/data/FlightDelays/On_Time_Reporting_Carrier_On_Time_Performance_1987_present_2014_8.zip \n",
      "Extracting /home/ec2-user/SageMaker/project/data/FlightDelays/On_Time_Reporting_Carrier_On_Time_Performance_1987_present_2017_3.zip \n",
      "Extracting /home/ec2-user/SageMaker/project/data/FlightDelays/On_Time_Reporting_Carrier_On_Time_Performance_1987_present_2016_3.zip \n",
      "Extracting /home/ec2-user/SageMaker/project/data/FlightDelays/On_Time_Reporting_Carrier_On_Time_Performance_1987_present_2015_10.zip \n",
      "Extracting /home/ec2-user/SageMaker/project/data/FlightDelays/On_Time_Reporting_Carrier_On_Time_Performance_1987_present_2016_9.zip \n",
      "Extracting /home/ec2-user/SageMaker/project/data/FlightDelays/On_Time_Reporting_Carrier_On_Time_Performance_1987_present_2014_2.zip \n",
      "Extracting /home/ec2-user/SageMaker/project/data/FlightDelays/On_Time_Reporting_Carrier_On_Time_Performance_1987_present_2017_9.zip \n",
      "Extracting /home/ec2-user/SageMaker/project/data/FlightDelays/On_Time_Reporting_Carrier_On_Time_Performance_1987_present_2014_5.zip \n",
      "Extracting /home/ec2-user/SageMaker/project/data/FlightDelays/On_Time_Reporting_Carrier_On_Time_Performance_1987_present_2018_5.zip \n",
      "Extracting /home/ec2-user/SageMaker/project/data/FlightDelays/On_Time_Reporting_Carrier_On_Time_Performance_1987_present_2014_9.zip \n",
      "Extracting /home/ec2-user/SageMaker/project/data/FlightDelays/On_Time_Reporting_Carrier_On_Time_Performance_1987_present_2015_11.zip \n",
      "Extracting /home/ec2-user/SageMaker/project/data/FlightDelays/On_Time_Reporting_Carrier_On_Time_Performance_1987_present_2017_8.zip \n",
      "Extracting /home/ec2-user/SageMaker/project/data/FlightDelays/On_Time_Reporting_Carrier_On_Time_Performance_1987_present_2018_3.zip \n",
      "Extracting /home/ec2-user/SageMaker/project/data/FlightDelays/On_Time_Reporting_Carrier_On_Time_Performance_1987_present_2017_11.zip \n",
      "Extracting /home/ec2-user/SageMaker/project/data/FlightDelays/On_Time_Reporting_Carrier_On_Time_Performance_1987_present_2014_11.zip \n",
      "Extracting /home/ec2-user/SageMaker/project/data/FlightDelays/On_Time_Reporting_Carrier_On_Time_Performance_1987_present_2018_11.zip \n",
      "Extracting /home/ec2-user/SageMaker/project/data/FlightDelays/On_Time_Reporting_Carrier_On_Time_Performance_1987_present_2016_1.zip \n",
      "Extracting /home/ec2-user/SageMaker/project/data/FlightDelays/On_Time_Reporting_Carrier_On_Time_Performance_1987_present_2017_12.zip \n",
      "Extracting /home/ec2-user/SageMaker/project/data/FlightDelays/On_Time_Reporting_Carrier_On_Time_Performance_1987_present_2016_5.zip \n",
      "Extracting /home/ec2-user/SageMaker/project/data/FlightDelays/On_Time_Reporting_Carrier_On_Time_Performance_1987_present_2018_7.zip \n",
      "Extracting /home/ec2-user/SageMaker/project/data/FlightDelays/On_Time_Reporting_Carrier_On_Time_Performance_1987_present_2014_10.zip \n",
      "Extracting /home/ec2-user/SageMaker/project/data/FlightDelays/On_Time_Reporting_Carrier_On_Time_Performance_1987_present_2014_4.zip \n",
      "Extracting /home/ec2-user/SageMaker/project/data/FlightDelays/On_Time_Reporting_Carrier_On_Time_Performance_1987_present_2014_7.zip \n",
      "Extracting /home/ec2-user/SageMaker/project/data/FlightDelays/On_Time_Reporting_Carrier_On_Time_Performance_1987_present_2015_9.zip \n",
      "Files Extracted\n"
     ]
    }
   ],
   "source": [
    "def zip2csv(zipFile_name , file_path):\n",
    "    \"\"\"\n",
    "    Extract csv from zip files\n",
    "    zipFile_name: name of the zip file\n",
    "    file_path : name of the folder to store csv\n",
    "    \"\"\"\n",
    "\n",
    "    try:\n",
    "        with ZipFile(zipFile_name, 'r') as z: \n",
    "            print(f'Extracting {zipFile_name} ') \n",
    "            z.extractall(path=file_path) \n",
    "    except:\n",
    "        print(f'zip2csv failed for {zipFile_name}')\n",
    "\n",
    "for file in zip_files:\n",
    "    zip2csv(file, csv_base_path)\n",
    "\n",
    "print(\"Files Extracted\")"
   ]
  },
  {
   "cell_type": "code",
   "execution_count": 5,
   "metadata": {
    "tags": []
   },
   "outputs": [
    {
     "data": {
      "text/plain": [
       "60"
      ]
     },
     "execution_count": 5,
     "metadata": {},
     "output_type": "execute_result"
    }
   ],
   "source": [
    "csv_files = [str(file) for file in list(Path(csv_base_path).iterdir()) if '.csv' in str(file)]\n",
    "len(csv_files)"
   ]
  },
  {
   "cell_type": "markdown",
   "metadata": {},
   "source": [
    "Before you load the CSV file, read the HTML file from the extracted folder. This HTML file includes the background and more information about the features that are included in the dataset."
   ]
  },
  {
   "cell_type": "code",
   "execution_count": 6,
   "metadata": {
    "tags": []
   },
   "outputs": [
    {
     "data": {
      "text/html": [
       "\n",
       "        <iframe\n",
       "            width=\"1000\"\n",
       "            height=\"600\"\n",
       "            src=\"../project/data/csvFlightDelays/readme.html\"\n",
       "            frameborder=\"0\"\n",
       "            allowfullscreen\n",
       "            \n",
       "        ></iframe>\n",
       "        "
      ],
      "text/plain": [
       "<IPython.lib.display.IFrame at 0x7ffbb0193040>"
      ]
     },
     "execution_count": 6,
     "metadata": {},
     "output_type": "execute_result"
    }
   ],
   "source": [
    "from IPython.display import IFrame\n",
    "\n",
    "IFrame(src=os.path.relpath(f\"{csv_base_path}readme.html\"), width=1000, height=600)"
   ]
  },
  {
   "cell_type": "markdown",
   "metadata": {},
   "source": [
    "#### Load sample CSV file\n",
    "\n",
    "Before you combine all the CSV files, examine the data from a single CSV file. By using pandas, read the `On_Time_Reporting_Carrier_On_Time_Performance_(1987_present)_2018_9.csv` file first. You can use the built-in `read_csv` function in Python ([pandas.read_csv documentation](https://pandas.pydata.org/pandas-docs/stable/reference/api/pandas.read_csv.html))."
   ]
  },
  {
   "cell_type": "code",
   "execution_count": 7,
   "metadata": {
    "tags": []
   },
   "outputs": [],
   "source": [
    "df_temp = pd.read_csv(f\"{csv_base_path}On_Time_Reporting_Carrier_On_Time_Performance_(1987_present)_2018_9.csv\")"
   ]
  },
  {
   "cell_type": "markdown",
   "metadata": {},
   "source": [
    "**Question**: Print the row and column length in the dataset, and print the column names.\n",
    "\n",
    "**Hint**: To view the rows and columns of a DataFrame, use the `<DataFrame>.shape` function. To view the column names, use the `<DataFrame>.columns` function."
   ]
  },
  {
   "cell_type": "code",
   "execution_count": 8,
   "metadata": {
    "tags": []
   },
   "outputs": [
    {
     "name": "stdout",
     "output_type": "stream",
     "text": [
      "Rows and columns in one CSV file is (585749, 110)\n"
     ]
    }
   ],
   "source": [
    "# **ENTER YOUR CODE HERE**\n",
    "df_shape = df_temp.shape\n",
    "print(f'Rows and columns in one CSV file is {df_shape}')"
   ]
  },
  {
   "cell_type": "markdown",
   "metadata": {},
   "source": [
    "**Question**: Print the first 10 rows of the dataset.  \n",
    "\n",
    "**Hint**: To print `x` number of rows, use the built-in `head(x)` function in pandas."
   ]
  },
  {
   "cell_type": "code",
   "execution_count": 9,
   "metadata": {
    "tags": []
   },
   "outputs": [
    {
     "data": {
      "text/html": [
       "<div>\n",
       "<style scoped>\n",
       "    .dataframe tbody tr th:only-of-type {\n",
       "        vertical-align: middle;\n",
       "    }\n",
       "\n",
       "    .dataframe tbody tr th {\n",
       "        vertical-align: top;\n",
       "    }\n",
       "\n",
       "    .dataframe thead th {\n",
       "        text-align: right;\n",
       "    }\n",
       "</style>\n",
       "<table border=\"1\" class=\"dataframe\">\n",
       "  <thead>\n",
       "    <tr style=\"text-align: right;\">\n",
       "      <th></th>\n",
       "      <th>Year</th>\n",
       "      <th>Quarter</th>\n",
       "      <th>Month</th>\n",
       "      <th>DayofMonth</th>\n",
       "      <th>DayOfWeek</th>\n",
       "      <th>FlightDate</th>\n",
       "      <th>Reporting_Airline</th>\n",
       "      <th>DOT_ID_Reporting_Airline</th>\n",
       "      <th>IATA_CODE_Reporting_Airline</th>\n",
       "      <th>Tail_Number</th>\n",
       "      <th>...</th>\n",
       "      <th>Div4TailNum</th>\n",
       "      <th>Div5Airport</th>\n",
       "      <th>Div5AirportID</th>\n",
       "      <th>Div5AirportSeqID</th>\n",
       "      <th>Div5WheelsOn</th>\n",
       "      <th>Div5TotalGTime</th>\n",
       "      <th>Div5LongestGTime</th>\n",
       "      <th>Div5WheelsOff</th>\n",
       "      <th>Div5TailNum</th>\n",
       "      <th>Unnamed: 109</th>\n",
       "    </tr>\n",
       "  </thead>\n",
       "  <tbody>\n",
       "    <tr>\n",
       "      <th>0</th>\n",
       "      <td>2018</td>\n",
       "      <td>3</td>\n",
       "      <td>9</td>\n",
       "      <td>3</td>\n",
       "      <td>1</td>\n",
       "      <td>2018-09-03</td>\n",
       "      <td>9E</td>\n",
       "      <td>20363</td>\n",
       "      <td>9E</td>\n",
       "      <td>N908XJ</td>\n",
       "      <td>...</td>\n",
       "      <td>NaN</td>\n",
       "      <td>NaN</td>\n",
       "      <td>NaN</td>\n",
       "      <td>NaN</td>\n",
       "      <td>NaN</td>\n",
       "      <td>NaN</td>\n",
       "      <td>NaN</td>\n",
       "      <td>NaN</td>\n",
       "      <td>NaN</td>\n",
       "      <td>NaN</td>\n",
       "    </tr>\n",
       "    <tr>\n",
       "      <th>1</th>\n",
       "      <td>2018</td>\n",
       "      <td>3</td>\n",
       "      <td>9</td>\n",
       "      <td>9</td>\n",
       "      <td>7</td>\n",
       "      <td>2018-09-09</td>\n",
       "      <td>9E</td>\n",
       "      <td>20363</td>\n",
       "      <td>9E</td>\n",
       "      <td>N315PQ</td>\n",
       "      <td>...</td>\n",
       "      <td>NaN</td>\n",
       "      <td>NaN</td>\n",
       "      <td>NaN</td>\n",
       "      <td>NaN</td>\n",
       "      <td>NaN</td>\n",
       "      <td>NaN</td>\n",
       "      <td>NaN</td>\n",
       "      <td>NaN</td>\n",
       "      <td>NaN</td>\n",
       "      <td>NaN</td>\n",
       "    </tr>\n",
       "    <tr>\n",
       "      <th>2</th>\n",
       "      <td>2018</td>\n",
       "      <td>3</td>\n",
       "      <td>9</td>\n",
       "      <td>10</td>\n",
       "      <td>1</td>\n",
       "      <td>2018-09-10</td>\n",
       "      <td>9E</td>\n",
       "      <td>20363</td>\n",
       "      <td>9E</td>\n",
       "      <td>N582CA</td>\n",
       "      <td>...</td>\n",
       "      <td>NaN</td>\n",
       "      <td>NaN</td>\n",
       "      <td>NaN</td>\n",
       "      <td>NaN</td>\n",
       "      <td>NaN</td>\n",
       "      <td>NaN</td>\n",
       "      <td>NaN</td>\n",
       "      <td>NaN</td>\n",
       "      <td>NaN</td>\n",
       "      <td>NaN</td>\n",
       "    </tr>\n",
       "    <tr>\n",
       "      <th>3</th>\n",
       "      <td>2018</td>\n",
       "      <td>3</td>\n",
       "      <td>9</td>\n",
       "      <td>13</td>\n",
       "      <td>4</td>\n",
       "      <td>2018-09-13</td>\n",
       "      <td>9E</td>\n",
       "      <td>20363</td>\n",
       "      <td>9E</td>\n",
       "      <td>N292PQ</td>\n",
       "      <td>...</td>\n",
       "      <td>NaN</td>\n",
       "      <td>NaN</td>\n",
       "      <td>NaN</td>\n",
       "      <td>NaN</td>\n",
       "      <td>NaN</td>\n",
       "      <td>NaN</td>\n",
       "      <td>NaN</td>\n",
       "      <td>NaN</td>\n",
       "      <td>NaN</td>\n",
       "      <td>NaN</td>\n",
       "    </tr>\n",
       "    <tr>\n",
       "      <th>4</th>\n",
       "      <td>2018</td>\n",
       "      <td>3</td>\n",
       "      <td>9</td>\n",
       "      <td>14</td>\n",
       "      <td>5</td>\n",
       "      <td>2018-09-14</td>\n",
       "      <td>9E</td>\n",
       "      <td>20363</td>\n",
       "      <td>9E</td>\n",
       "      <td>N600LR</td>\n",
       "      <td>...</td>\n",
       "      <td>NaN</td>\n",
       "      <td>NaN</td>\n",
       "      <td>NaN</td>\n",
       "      <td>NaN</td>\n",
       "      <td>NaN</td>\n",
       "      <td>NaN</td>\n",
       "      <td>NaN</td>\n",
       "      <td>NaN</td>\n",
       "      <td>NaN</td>\n",
       "      <td>NaN</td>\n",
       "    </tr>\n",
       "    <tr>\n",
       "      <th>5</th>\n",
       "      <td>2018</td>\n",
       "      <td>3</td>\n",
       "      <td>9</td>\n",
       "      <td>16</td>\n",
       "      <td>7</td>\n",
       "      <td>2018-09-16</td>\n",
       "      <td>9E</td>\n",
       "      <td>20363</td>\n",
       "      <td>9E</td>\n",
       "      <td>N316PQ</td>\n",
       "      <td>...</td>\n",
       "      <td>NaN</td>\n",
       "      <td>NaN</td>\n",
       "      <td>NaN</td>\n",
       "      <td>NaN</td>\n",
       "      <td>NaN</td>\n",
       "      <td>NaN</td>\n",
       "      <td>NaN</td>\n",
       "      <td>NaN</td>\n",
       "      <td>NaN</td>\n",
       "      <td>NaN</td>\n",
       "    </tr>\n",
       "    <tr>\n",
       "      <th>6</th>\n",
       "      <td>2018</td>\n",
       "      <td>3</td>\n",
       "      <td>9</td>\n",
       "      <td>17</td>\n",
       "      <td>1</td>\n",
       "      <td>2018-09-17</td>\n",
       "      <td>9E</td>\n",
       "      <td>20363</td>\n",
       "      <td>9E</td>\n",
       "      <td>N916XJ</td>\n",
       "      <td>...</td>\n",
       "      <td>NaN</td>\n",
       "      <td>NaN</td>\n",
       "      <td>NaN</td>\n",
       "      <td>NaN</td>\n",
       "      <td>NaN</td>\n",
       "      <td>NaN</td>\n",
       "      <td>NaN</td>\n",
       "      <td>NaN</td>\n",
       "      <td>NaN</td>\n",
       "      <td>NaN</td>\n",
       "    </tr>\n",
       "    <tr>\n",
       "      <th>7</th>\n",
       "      <td>2018</td>\n",
       "      <td>3</td>\n",
       "      <td>9</td>\n",
       "      <td>20</td>\n",
       "      <td>4</td>\n",
       "      <td>2018-09-20</td>\n",
       "      <td>9E</td>\n",
       "      <td>20363</td>\n",
       "      <td>9E</td>\n",
       "      <td>N371CA</td>\n",
       "      <td>...</td>\n",
       "      <td>NaN</td>\n",
       "      <td>NaN</td>\n",
       "      <td>NaN</td>\n",
       "      <td>NaN</td>\n",
       "      <td>NaN</td>\n",
       "      <td>NaN</td>\n",
       "      <td>NaN</td>\n",
       "      <td>NaN</td>\n",
       "      <td>NaN</td>\n",
       "      <td>NaN</td>\n",
       "    </tr>\n",
       "    <tr>\n",
       "      <th>8</th>\n",
       "      <td>2018</td>\n",
       "      <td>3</td>\n",
       "      <td>9</td>\n",
       "      <td>21</td>\n",
       "      <td>5</td>\n",
       "      <td>2018-09-21</td>\n",
       "      <td>9E</td>\n",
       "      <td>20363</td>\n",
       "      <td>9E</td>\n",
       "      <td>N601LR</td>\n",
       "      <td>...</td>\n",
       "      <td>NaN</td>\n",
       "      <td>NaN</td>\n",
       "      <td>NaN</td>\n",
       "      <td>NaN</td>\n",
       "      <td>NaN</td>\n",
       "      <td>NaN</td>\n",
       "      <td>NaN</td>\n",
       "      <td>NaN</td>\n",
       "      <td>NaN</td>\n",
       "      <td>NaN</td>\n",
       "    </tr>\n",
       "    <tr>\n",
       "      <th>9</th>\n",
       "      <td>2018</td>\n",
       "      <td>3</td>\n",
       "      <td>9</td>\n",
       "      <td>23</td>\n",
       "      <td>7</td>\n",
       "      <td>2018-09-23</td>\n",
       "      <td>9E</td>\n",
       "      <td>20363</td>\n",
       "      <td>9E</td>\n",
       "      <td>N906XJ</td>\n",
       "      <td>...</td>\n",
       "      <td>NaN</td>\n",
       "      <td>NaN</td>\n",
       "      <td>NaN</td>\n",
       "      <td>NaN</td>\n",
       "      <td>NaN</td>\n",
       "      <td>NaN</td>\n",
       "      <td>NaN</td>\n",
       "      <td>NaN</td>\n",
       "      <td>NaN</td>\n",
       "      <td>NaN</td>\n",
       "    </tr>\n",
       "  </tbody>\n",
       "</table>\n",
       "<p>10 rows × 110 columns</p>\n",
       "</div>"
      ],
      "text/plain": [
       "   Year  Quarter  Month  DayofMonth  DayOfWeek  FlightDate Reporting_Airline  \\\n",
       "0  2018        3      9           3          1  2018-09-03                9E   \n",
       "1  2018        3      9           9          7  2018-09-09                9E   \n",
       "2  2018        3      9          10          1  2018-09-10                9E   \n",
       "3  2018        3      9          13          4  2018-09-13                9E   \n",
       "4  2018        3      9          14          5  2018-09-14                9E   \n",
       "5  2018        3      9          16          7  2018-09-16                9E   \n",
       "6  2018        3      9          17          1  2018-09-17                9E   \n",
       "7  2018        3      9          20          4  2018-09-20                9E   \n",
       "8  2018        3      9          21          5  2018-09-21                9E   \n",
       "9  2018        3      9          23          7  2018-09-23                9E   \n",
       "\n",
       "   DOT_ID_Reporting_Airline IATA_CODE_Reporting_Airline Tail_Number  ...  \\\n",
       "0                     20363                          9E      N908XJ  ...   \n",
       "1                     20363                          9E      N315PQ  ...   \n",
       "2                     20363                          9E      N582CA  ...   \n",
       "3                     20363                          9E      N292PQ  ...   \n",
       "4                     20363                          9E      N600LR  ...   \n",
       "5                     20363                          9E      N316PQ  ...   \n",
       "6                     20363                          9E      N916XJ  ...   \n",
       "7                     20363                          9E      N371CA  ...   \n",
       "8                     20363                          9E      N601LR  ...   \n",
       "9                     20363                          9E      N906XJ  ...   \n",
       "\n",
       "   Div4TailNum  Div5Airport  Div5AirportID  Div5AirportSeqID Div5WheelsOn  \\\n",
       "0          NaN          NaN            NaN               NaN          NaN   \n",
       "1          NaN          NaN            NaN               NaN          NaN   \n",
       "2          NaN          NaN            NaN               NaN          NaN   \n",
       "3          NaN          NaN            NaN               NaN          NaN   \n",
       "4          NaN          NaN            NaN               NaN          NaN   \n",
       "5          NaN          NaN            NaN               NaN          NaN   \n",
       "6          NaN          NaN            NaN               NaN          NaN   \n",
       "7          NaN          NaN            NaN               NaN          NaN   \n",
       "8          NaN          NaN            NaN               NaN          NaN   \n",
       "9          NaN          NaN            NaN               NaN          NaN   \n",
       "\n",
       "  Div5TotalGTime Div5LongestGTime  Div5WheelsOff Div5TailNum  Unnamed: 109  \n",
       "0            NaN              NaN            NaN         NaN           NaN  \n",
       "1            NaN              NaN            NaN         NaN           NaN  \n",
       "2            NaN              NaN            NaN         NaN           NaN  \n",
       "3            NaN              NaN            NaN         NaN           NaN  \n",
       "4            NaN              NaN            NaN         NaN           NaN  \n",
       "5            NaN              NaN            NaN         NaN           NaN  \n",
       "6            NaN              NaN            NaN         NaN           NaN  \n",
       "7            NaN              NaN            NaN         NaN           NaN  \n",
       "8            NaN              NaN            NaN         NaN           NaN  \n",
       "9            NaN              NaN            NaN         NaN           NaN  \n",
       "\n",
       "[10 rows x 110 columns]"
      ]
     },
     "execution_count": 9,
     "metadata": {},
     "output_type": "execute_result"
    }
   ],
   "source": [
    "# Enter your code here\n",
    "df_temp.head(10)"
   ]
  },
  {
   "cell_type": "markdown",
   "metadata": {},
   "source": [
    "**Question**: Print all the columns in the dataset. To view the column names, use `<DataFrame>.columns`."
   ]
  },
  {
   "cell_type": "code",
   "execution_count": 10,
   "metadata": {
    "tags": []
   },
   "outputs": [
    {
     "name": "stdout",
     "output_type": "stream",
     "text": [
      "The column names are :\n",
      "#########\n",
      "Year\n",
      "Quarter\n",
      "Month\n",
      "DayofMonth\n",
      "DayOfWeek\n",
      "FlightDate\n",
      "Reporting_Airline\n",
      "DOT_ID_Reporting_Airline\n",
      "IATA_CODE_Reporting_Airline\n",
      "Tail_Number\n",
      "Flight_Number_Reporting_Airline\n",
      "OriginAirportID\n",
      "OriginAirportSeqID\n",
      "OriginCityMarketID\n",
      "Origin\n",
      "OriginCityName\n",
      "OriginState\n",
      "OriginStateFips\n",
      "OriginStateName\n",
      "OriginWac\n",
      "DestAirportID\n",
      "DestAirportSeqID\n",
      "DestCityMarketID\n",
      "Dest\n",
      "DestCityName\n",
      "DestState\n",
      "DestStateFips\n",
      "DestStateName\n",
      "DestWac\n",
      "CRSDepTime\n",
      "DepTime\n",
      "DepDelay\n",
      "DepDelayMinutes\n",
      "DepDel15\n",
      "DepartureDelayGroups\n",
      "DepTimeBlk\n",
      "TaxiOut\n",
      "WheelsOff\n",
      "WheelsOn\n",
      "TaxiIn\n",
      "CRSArrTime\n",
      "ArrTime\n",
      "ArrDelay\n",
      "ArrDelayMinutes\n",
      "ArrDel15\n",
      "ArrivalDelayGroups\n",
      "ArrTimeBlk\n",
      "Cancelled\n",
      "CancellationCode\n",
      "Diverted\n",
      "CRSElapsedTime\n",
      "ActualElapsedTime\n",
      "AirTime\n",
      "Flights\n",
      "Distance\n",
      "DistanceGroup\n",
      "CarrierDelay\n",
      "WeatherDelay\n",
      "NASDelay\n",
      "SecurityDelay\n",
      "LateAircraftDelay\n",
      "FirstDepTime\n",
      "TotalAddGTime\n",
      "LongestAddGTime\n",
      "DivAirportLandings\n",
      "DivReachedDest\n",
      "DivActualElapsedTime\n",
      "DivArrDelay\n",
      "DivDistance\n",
      "Div1Airport\n",
      "Div1AirportID\n",
      "Div1AirportSeqID\n",
      "Div1WheelsOn\n",
      "Div1TotalGTime\n",
      "Div1LongestGTime\n",
      "Div1WheelsOff\n",
      "Div1TailNum\n",
      "Div2Airport\n",
      "Div2AirportID\n",
      "Div2AirportSeqID\n",
      "Div2WheelsOn\n",
      "Div2TotalGTime\n",
      "Div2LongestGTime\n",
      "Div2WheelsOff\n",
      "Div2TailNum\n",
      "Div3Airport\n",
      "Div3AirportID\n",
      "Div3AirportSeqID\n",
      "Div3WheelsOn\n",
      "Div3TotalGTime\n",
      "Div3LongestGTime\n",
      "Div3WheelsOff\n",
      "Div3TailNum\n",
      "Div4Airport\n",
      "Div4AirportID\n",
      "Div4AirportSeqID\n",
      "Div4WheelsOn\n",
      "Div4TotalGTime\n",
      "Div4LongestGTime\n",
      "Div4WheelsOff\n",
      "Div4TailNum\n",
      "Div5Airport\n",
      "Div5AirportID\n",
      "Div5AirportSeqID\n",
      "Div5WheelsOn\n",
      "Div5TotalGTime\n",
      "Div5LongestGTime\n",
      "Div5WheelsOff\n",
      "Div5TailNum\n",
      "Unnamed: 109\n"
     ]
    }
   ],
   "source": [
    "# **ENTER YOUR CODE HERE**\n",
    "print(f'The column names are :')\n",
    "print('#########')\n",
    "for col in df_temp.columns:\n",
    "    print(col)"
   ]
  },
  {
   "cell_type": "markdown",
   "metadata": {},
   "source": [
    "**Question**: Print all the columns in the dataset that contain the word *Del*. This will help you see how many columns have *delay data* in them.\n",
    "\n",
    "**Hint**: To include values that pass certain `if` statement criteria, you can use a Python list comprehension.\n",
    "\n",
    "For example: `[x for x in [1,2,3,4,5] if x > 2]`  \n",
    "\n",
    "**Hint**: To check if the value is in a list, you can use the `in` keyword ([Python in Keyword documentation](https://www.w3schools.com/python/ref_keyword_in.asp)). \n",
    "\n",
    "For example: `5 in [1,2,3,4,5]`"
   ]
  },
  {
   "cell_type": "code",
   "execution_count": 11,
   "metadata": {
    "tags": []
   },
   "outputs": [
    {
     "name": "stdout",
     "output_type": "stream",
     "text": [
      "The columns containing \"Del\" are:\n",
      "#############\n",
      "DepDelay\n",
      "DepDelayMinutes\n",
      "DepDel15\n",
      "DepartureDelayGroups\n",
      "ArrDelay\n",
      "ArrDelayMinutes\n",
      "ArrDel15\n",
      "ArrivalDelayGroups\n",
      "CarrierDelay\n",
      "WeatherDelay\n",
      "NASDelay\n",
      "SecurityDelay\n",
      "LateAircraftDelay\n",
      "DivArrDelay\n"
     ]
    }
   ],
   "source": [
    "# Enter your code here\n",
    "delay = [col for col in df_temp.columns if 'Del' in col]\n",
    "\n",
    "print(f'The columns containing \"Del\" are:')\n",
    "print('#############')\n",
    "for col in delay:\n",
    "    print(col)"
   ]
  },
  {
   "cell_type": "markdown",
   "metadata": {},
   "source": [
    "Here are some more questions to help you learn more about your dataset.\n",
    "\n",
    "**Questions**   \n",
    "\n",
    "1. How many rows and columns does the dataset have?   \n",
    "2. How many years are included in the dataset?   \n",
    "3. What is the date range for the dataset?   \n",
    "4. Which airlines are included in the dataset?   \n",
    "5. Which origin and destination airports are covered?\n",
    "\n",
    "**Hints**\n",
    "- To show the dimensions of the DataFrame, use `df_temp.shape`.\n",
    "- To refer to a specific column, use `df_temp.columnName` (for example, `df_temp.CarrierDelay`).\n",
    "- To get unique values for a column, use `df_temp.column.unique()` (for, example `df_temp.Year.unique()`)."
   ]
  },
  {
   "cell_type": "code",
   "execution_count": 12,
   "metadata": {
    "tags": []
   },
   "outputs": [
    {
     "name": "stdout",
     "output_type": "stream",
     "text": [
      "The #rows and #columns are  585749  and  110\n",
      "The years in this dataset are:  [2018]\n",
      "The months covered in this dataset are:  [9]\n",
      "The date range for data is : 2018-09-01  to  2018-09-30\n",
      "The airlines covered in this dataset are:  ['9E', 'B6', 'WN', 'YV', 'YX', 'EV', 'AA', 'AS', 'DL', 'HA', 'UA', 'F9', 'G4', 'MQ', 'NK', 'OH', 'OO']\n",
      "The Origin airports covered are:  [11298, 12953, 13485, 13487, 10397, 10529, 15607, 12478, 14492, 10994, 11433, 11977, 14307, 14814, 11721, 14122, 14524, 14633, 14635, 11193, 12992, 13930, 12451, 15323, 10721, 11203, 11278, 10990, 10434, 12339, 11986, 10781, 13244, 15370, 11042, 15016, 10785, 13871, 13277, 15380, 14685, 11996, 11618, 13795, 10693, 13198, 15249, 14576, 12945, 14321, 10792, 10208, 11057, 11995, 10821, 14683, 14100, 15412, 10154, 11423, 11953, 10431, 10581, 13296, 12323, 13433, 12266, 14696, 15096, 13931, 13342, 15919, 13495, 14027, 10135, 12197, 11612, 10257, 13029, 10423, 14098, 10980, 12007, 10685, 10731, 11003, 10874, 10408, 10146, 10868, 14986, 13367, 10599, 12264, 11150, 11066, 13204, 13184, 11697, 14730, 15304, 13541, 12889, 12954, 14771, 14679, 12892, 14570, 14057, 10299, 10140, 14869, 11292, 14107, 13796, 14893, 14843, 14747, 12191, 15027, 10800, 15070, 14831, 11252, 10732, 14254, 13933, 12250, 15024, 13891, 12206, 12278, 12391, 12896, 13158, 13232, 13851, 14193, 14908, 15376, 10279, 10713, 11140, 11259, 11481, 11540, 11884, 12951, 13256, 13230, 12448, 11109, 13422, 15624, 13502, 11413, 11973, 10561, 13476, 14689, 14262, 11775, 10747, 14457, 11111, 15023, 14108, 11638, 14698, 11778, 12217, 10627, 11267, 10849, 13303, 11624, 13577, 12124, 11921, 11637, 14783, 12177, 11049, 13061, 10185, 11577, 13377, 12915, 14574, 12891, 13290, 11982, 14674, 11980, 12511, 14588, 11823, 11146, 12884, 13830, 12173, 12758, 11503, 12982, 13360, 12441, 11630, 14489, 10170, 10551, 10754, 14709, 12819, 15991, 10926, 12523, 14828, 14256, 15841, 13873, 13970, 10165, 11648, 11641, 14252, 10620, 13486, 12402, 14222, 13264, 11603, 12016, 14955, 11337, 15356, 10643, 14761, 14112, 14082, 10466, 14905, 14512, 14716, 13983, 12223, 10676, 12265, 12544, 11898, 10666, 11537, 14025, 12917, 12003, 13829, 12280, 14314, 15295, 14259, 11027, 12119, 14952, 15008, 10155, 15411, 10136, 10469, 11067, 10728, 11867, 13459, 10268, 15401, 14960, 15074, 11274, 15048, 14842, 11905, 13076, 12898, 10158, 13139, 14092, 12244, 11617, 11308, 14113, 12335, 15897, 11122, 14711, 12156, 15041, 12389, 11076, 11471, 13121, 14802, 12899, 12255, 14877, 11468, 15582, 11092, 11865, 14543, 14288, 12902, 13344, 14006, 10967, 15454, 10558, 11447, 12519, 12888, 14794, 14237, 10372, 14487, 10157, 13964, 11097, 13127, 10141, 10333, 11587, 14150, 10631, 10739, 10779, 10918, 11013, 11525, 15389, 12129, 10577, 14520, 12397, 12343, 11695, 16218, 13241, 14109, 12094]\n",
      "The Destination airports covered are:  [11193, 14321, 14492, 13487, 13485, 14814, 11057, 14122, 14524, 12266, 10397, 12478, 11278, 11433, 12953, 15412, 14307, 11721, 12992, 10792, 13930, 15323, 12339, 10581, 10434, 10821, 12945, 10529, 11986, 11203, 15370, 13244, 10208, 11618, 13277, 14100, 15096, 13871, 15016, 15380, 13931, 11042, 10146, 10721, 13795, 15249, 10781, 14683, 12451, 10693, 10990, 15607, 14576, 11298, 11953, 10154, 14027, 10994, 11977, 13433, 13342, 11423, 12323, 11995, 13198, 14696, 10785, 13541, 15919, 14633, 11612, 12197, 14635, 13230, 14574, 11996, 13204, 11150, 14685, 14098, 10257, 10980, 10135, 10685, 13495, 12264, 12007, 11003, 10874, 10408, 10423, 10731, 13367, 10868, 11066, 10431, 13184, 11697, 14730, 15304, 13029, 14986, 13296, 10599, 12889, 14771, 14679, 14570, 12954, 10299, 14057, 14843, 10140, 14869, 11292, 12892, 14107, 13796, 14893, 14747, 15027, 10800, 11252, 14831, 15070, 12191, 10732, 14254, 13933, 12250, 15024, 13891, 11259, 11481, 11540, 12206, 13158, 13232, 13851, 14193, 14908, 10279, 10713, 11884, 12278, 12896, 15376, 12391, 11140, 13256, 12951, 15624, 12448, 11109, 13422, 11413, 11973, 10561, 11111, 14698, 13502, 14689, 14262, 11775, 11778, 10747, 14108, 15023, 11638, 14457, 13476, 12217, 10627, 11267, 10849, 13303, 11624, 13577, 12124, 11921, 11637, 13377, 13061, 11049, 12915, 11823, 11982, 14783, 12177, 12891, 13290, 14674, 12511, 14588, 11980, 10185, 11146, 12884, 11577, 12173, 12758, 13830, 11503, 12982, 12441, 13360, 14489, 10551, 10170, 10754, 14709, 11630, 12523, 10926, 15991, 14828, 12819, 15841, 14256, 13873, 13970, 10165, 11648, 10620, 14252, 11641, 13486, 12402, 14222, 13264, 11337, 11603, 12016, 14955, 15356, 10643, 10466, 14761, 12917, 10666, 14716, 14112, 14512, 14314, 14025, 10676, 14082, 14952, 12544, 15295, 12280, 11537, 12223, 12119, 14905, 13829, 11898, 15008, 12003, 12265, 11027, 13983, 14259, 10136, 15411, 10268, 15048, 10469, 10155, 11067, 10728, 15401, 15074, 14960, 11274, 14842, 11905, 13076, 13459, 11867, 12898, 10158, 13139, 14092, 12244, 11617, 11308, 14113, 15897, 14711, 12335, 12156, 10372, 15041, 12389, 11468, 14794, 15582, 14802, 13121, 13344, 14877, 12255, 10558, 14288, 12902, 11076, 11471, 14006, 15454, 14543, 10967, 11092, 12519, 11447, 12888, 11865, 12899, 14237, 14487, 10157, 13964, 11097, 13127, 10141, 10333, 14150, 10631, 11122, 10739, 10779, 10918, 11013, 11587, 11525, 12397, 12129, 10577, 15389, 14520, 12343, 11695, 16218, 13241, 14109, 12094]\n"
     ]
    }
   ],
   "source": [
    "print(\"The #rows and #columns are \", df_temp.shape[0], \" and \", df_temp.shape[1])\n",
    "print(\"The years in this dataset are: \", df_temp.Year.unique())\n",
    "print(\"The months covered in this dataset are: \", df_temp.Month.unique())\n",
    "print(\"The date range for data is :\" , min(df_temp.FlightDate.unique()), \" to \", max(df_temp.FlightDate.unique()))\n",
    "print(\"The airlines covered in this dataset are: \", list(df_temp.Reporting_Airline.unique()))\n",
    "print(\"The Origin airports covered are: \", list(df_temp.OriginAirportID.unique()))\n",
    "print(\"The Destination airports covered are: \", list(df_temp.DestAirportID.unique()))"
   ]
  },
  {
   "cell_type": "markdown",
   "metadata": {},
   "source": [
    "**Question**: What is the count of all the origin and destination airports?\n",
    "\n",
    "**Hint**: To find the values for each airport by using the **Origin** and **Dest** columns, you can use the `values_count` function in pandas ([pandas.Series.value_counts documentation](https://pandas.pydata.org/pandas-docs/stable/reference/api/pandas.Series.value_counts.html))."
   ]
  },
  {
   "cell_type": "code",
   "execution_count": 13,
   "metadata": {
    "tags": []
   },
   "outputs": [
    {
     "data": {
      "text/html": [
       "<div>\n",
       "<style scoped>\n",
       "    .dataframe tbody tr th:only-of-type {\n",
       "        vertical-align: middle;\n",
       "    }\n",
       "\n",
       "    .dataframe tbody tr th {\n",
       "        vertical-align: top;\n",
       "    }\n",
       "\n",
       "    .dataframe thead th {\n",
       "        text-align: right;\n",
       "    }\n",
       "</style>\n",
       "<table border=\"1\" class=\"dataframe\">\n",
       "  <thead>\n",
       "    <tr style=\"text-align: right;\">\n",
       "      <th></th>\n",
       "      <th>Origin</th>\n",
       "      <th>Destination</th>\n",
       "    </tr>\n",
       "  </thead>\n",
       "  <tbody>\n",
       "    <tr>\n",
       "      <th>ABE</th>\n",
       "      <td>303</td>\n",
       "      <td>303</td>\n",
       "    </tr>\n",
       "    <tr>\n",
       "      <th>ABI</th>\n",
       "      <td>169</td>\n",
       "      <td>169</td>\n",
       "    </tr>\n",
       "    <tr>\n",
       "      <th>ABQ</th>\n",
       "      <td>2077</td>\n",
       "      <td>2076</td>\n",
       "    </tr>\n",
       "    <tr>\n",
       "      <th>ABR</th>\n",
       "      <td>60</td>\n",
       "      <td>60</td>\n",
       "    </tr>\n",
       "    <tr>\n",
       "      <th>ABY</th>\n",
       "      <td>79</td>\n",
       "      <td>79</td>\n",
       "    </tr>\n",
       "    <tr>\n",
       "      <th>...</th>\n",
       "      <td>...</td>\n",
       "      <td>...</td>\n",
       "    </tr>\n",
       "    <tr>\n",
       "      <th>WRG</th>\n",
       "      <td>60</td>\n",
       "      <td>60</td>\n",
       "    </tr>\n",
       "    <tr>\n",
       "      <th>WYS</th>\n",
       "      <td>52</td>\n",
       "      <td>52</td>\n",
       "    </tr>\n",
       "    <tr>\n",
       "      <th>XNA</th>\n",
       "      <td>1004</td>\n",
       "      <td>1004</td>\n",
       "    </tr>\n",
       "    <tr>\n",
       "      <th>YAK</th>\n",
       "      <td>60</td>\n",
       "      <td>60</td>\n",
       "    </tr>\n",
       "    <tr>\n",
       "      <th>YUM</th>\n",
       "      <td>96</td>\n",
       "      <td>96</td>\n",
       "    </tr>\n",
       "  </tbody>\n",
       "</table>\n",
       "<p>346 rows × 2 columns</p>\n",
       "</div>"
      ],
      "text/plain": [
       "     Origin  Destination\n",
       "ABE     303          303\n",
       "ABI     169          169\n",
       "ABQ    2077         2076\n",
       "ABR      60           60\n",
       "ABY      79           79\n",
       "..      ...          ...\n",
       "WRG      60           60\n",
       "WYS      52           52\n",
       "XNA    1004         1004\n",
       "YAK      60           60\n",
       "YUM      96           96\n",
       "\n",
       "[346 rows x 2 columns]"
      ]
     },
     "execution_count": 13,
     "metadata": {},
     "output_type": "execute_result"
    }
   ],
   "source": [
    "counts = pd.DataFrame({'Origin':df_temp['Origin'].value_counts(), 'Destination':df_temp['Dest'].value_counts()})\n",
    "counts"
   ]
  },
  {
   "cell_type": "markdown",
   "metadata": {},
   "source": [
    "**Question**: Print the top 15 origin and destination airports based on number of flights in the dataset.\n",
    "\n",
    "**Hint**: You can use the `sort_values` function in pandas ([pandas.DataFrame.sort_values documentation](https://pandas.pydata.org/pandas-docs/stable/reference/api/pandas.DataFrame.sort_values.html))."
   ]
  },
  {
   "cell_type": "code",
   "execution_count": 14,
   "metadata": {
    "tags": []
   },
   "outputs": [
    {
     "data": {
      "text/html": [
       "<div>\n",
       "<style scoped>\n",
       "    .dataframe tbody tr th:only-of-type {\n",
       "        vertical-align: middle;\n",
       "    }\n",
       "\n",
       "    .dataframe tbody tr th {\n",
       "        vertical-align: top;\n",
       "    }\n",
       "\n",
       "    .dataframe thead th {\n",
       "        text-align: right;\n",
       "    }\n",
       "</style>\n",
       "<table border=\"1\" class=\"dataframe\">\n",
       "  <thead>\n",
       "    <tr style=\"text-align: right;\">\n",
       "      <th></th>\n",
       "      <th>Origin</th>\n",
       "      <th>Destination</th>\n",
       "    </tr>\n",
       "  </thead>\n",
       "  <tbody>\n",
       "    <tr>\n",
       "      <th>ATL</th>\n",
       "      <td>31525</td>\n",
       "      <td>31521</td>\n",
       "    </tr>\n",
       "    <tr>\n",
       "      <th>ORD</th>\n",
       "      <td>28257</td>\n",
       "      <td>28250</td>\n",
       "    </tr>\n",
       "    <tr>\n",
       "      <th>DFW</th>\n",
       "      <td>22802</td>\n",
       "      <td>22795</td>\n",
       "    </tr>\n",
       "    <tr>\n",
       "      <th>DEN</th>\n",
       "      <td>19807</td>\n",
       "      <td>19807</td>\n",
       "    </tr>\n",
       "    <tr>\n",
       "      <th>CLT</th>\n",
       "      <td>19655</td>\n",
       "      <td>19654</td>\n",
       "    </tr>\n",
       "    <tr>\n",
       "      <th>LAX</th>\n",
       "      <td>17875</td>\n",
       "      <td>17873</td>\n",
       "    </tr>\n",
       "    <tr>\n",
       "      <th>SFO</th>\n",
       "      <td>14332</td>\n",
       "      <td>14348</td>\n",
       "    </tr>\n",
       "    <tr>\n",
       "      <th>IAH</th>\n",
       "      <td>14210</td>\n",
       "      <td>14203</td>\n",
       "    </tr>\n",
       "    <tr>\n",
       "      <th>LGA</th>\n",
       "      <td>13850</td>\n",
       "      <td>13850</td>\n",
       "    </tr>\n",
       "    <tr>\n",
       "      <th>MSP</th>\n",
       "      <td>13349</td>\n",
       "      <td>13347</td>\n",
       "    </tr>\n",
       "    <tr>\n",
       "      <th>LAS</th>\n",
       "      <td>13318</td>\n",
       "      <td>13322</td>\n",
       "    </tr>\n",
       "    <tr>\n",
       "      <th>PHX</th>\n",
       "      <td>13126</td>\n",
       "      <td>13128</td>\n",
       "    </tr>\n",
       "    <tr>\n",
       "      <th>DTW</th>\n",
       "      <td>12725</td>\n",
       "      <td>12724</td>\n",
       "    </tr>\n",
       "    <tr>\n",
       "      <th>BOS</th>\n",
       "      <td>12223</td>\n",
       "      <td>12227</td>\n",
       "    </tr>\n",
       "    <tr>\n",
       "      <th>SEA</th>\n",
       "      <td>11872</td>\n",
       "      <td>11877</td>\n",
       "    </tr>\n",
       "  </tbody>\n",
       "</table>\n",
       "</div>"
      ],
      "text/plain": [
       "     Origin  Destination\n",
       "ATL   31525        31521\n",
       "ORD   28257        28250\n",
       "DFW   22802        22795\n",
       "DEN   19807        19807\n",
       "CLT   19655        19654\n",
       "LAX   17875        17873\n",
       "SFO   14332        14348\n",
       "IAH   14210        14203\n",
       "LGA   13850        13850\n",
       "MSP   13349        13347\n",
       "LAS   13318        13322\n",
       "PHX   13126        13128\n",
       "DTW   12725        12724\n",
       "BOS   12223        12227\n",
       "SEA   11872        11877"
      ]
     },
     "execution_count": 14,
     "metadata": {},
     "output_type": "execute_result"
    }
   ],
   "source": [
    "# Enter your code here\n",
    "counts.sort_values(by='Origin', ascending=False).head(15) "
   ]
  },
  {
   "cell_type": "markdown",
   "metadata": {},
   "source": [
    "**Given all the information about a flight trip, can you predict if it would be delayed?**"
   ]
  },
  {
   "cell_type": "markdown",
   "metadata": {},
   "source": [
    "The **ArrDel15** column is an indicator variable that takes the value *1* when the delay is more than 15 minutes. Otherwise, it takes a value of *0*.\n",
    "\n",
    "You could use this as a target column for the classification problem."
   ]
  },
  {
   "cell_type": "markdown",
   "metadata": {},
   "source": [
    "Now, assume that you are traveling from San Francisco to Los Angeles on a work trip. You want to better manage your reservations in Los Angeles. Thus, want to have an idea of whether your flight will be delayed, given a set of features. How many features from this dataset would you need to know before your flight?\n",
    "\n",
    "Columns such as `DepDelay`, `ArrDelay`, `CarrierDelay`, `WeatherDelay`, `NASDelay`, `SecurityDelay`, `LateAircraftDelay`, and `DivArrDelay` contain information about a delay. But this delay could have occured at the origin or the destination. If there were a sudden weather delay 10 minutes before landing, this data wouldn't be helpful to managing your Los Angeles reservations.\n",
    "\n",
    "So to simplify the problem statement, consider the following columns to predict an arrival delay:<br>\n",
    "\n",
    "`Year`, `Quarter`, `Month`, `DayofMonth`, `DayOfWeek`, `FlightDate`, `Reporting_Airline`, `Origin`, `OriginState`, `Dest`, `DestState`, `CRSDepTime`, `DepDelayMinutes`, `DepartureDelayGroups`, `Cancelled`, `Diverted`, `Distance`, `DistanceGroup`, `ArrDelay`, `ArrDelayMinutes`, `ArrDel15`, `AirTime`\n",
    "\n",
    "You will also filter the source and destination airports to be:\n",
    "- Top airports: ATL, ORD, DFW, DEN, CLT, LAX, IAH, PHX, SFO\n",
    "- Top five airlines: UA, OO, WN, AA, DL\n",
    "\n",
    "This information should help reduce the size of data across the CSV files that will be combined."
   ]
  },
  {
   "cell_type": "markdown",
   "metadata": {},
   "source": [
    "#### Combine all CSV files\n",
    " \n",
    "First, create an empy DataFrame that you will use to copy your individual DataFrames from each file. Then, for each file in the `csv_files` list:\n",
    "\n",
    "1. Read the CSV file into a dataframe \n",
    "2. Filter the columns based on the `filter_cols` variable\n",
    "\n",
    "```\n",
    "        columns = ['col1', 'col2']\n",
    "        df_filter = df[columns]\n",
    "```\n",
    "\n",
    "3. Keep only the `subset_vals` in each of the `subset_cols`. To check if the `val` is in the DataFrame column, use the `isin` function in pandas ([pandas.DataFram.isin documentation](https://pandas.pydata.org/pandas-docs/stable/reference/api/pandas.DataFrame.isin.html)). Then, choose the rows that include it.\n",
    "\n",
    "```\n",
    "        df_eg[df_eg['col1'].isin('5')]\n",
    "```\n",
    "\n",
    "4. Concatenate the DataFrame with the empty DataFrame "
   ]
  },
  {
   "cell_type": "code",
   "execution_count": 15,
   "metadata": {
    "tags": []
   },
   "outputs": [],
   "source": [
    "def combine_csv(csv_files, filter_cols, subset_cols, subset_vals, file_name):\n",
    "\n",
    "    \"\"\"\n",
    "    Combine csv files into one Data Frame\n",
    "    csv_files: list of csv file paths\n",
    "    filter_cols: list of columns to filter\n",
    "    subset_cols: list of columns to subset rows\n",
    "    subset_vals: list of list of values to subset rows\n",
    "    \"\"\"\n",
    "\n",
    "    df = pd.DataFrame()\n",
    "    \n",
    "    for file in csv_files:\n",
    "        df_temp = pd.read_csv(file)\n",
    "        df_temp = df_temp[filter_cols]\n",
    "        for col, val in zip(subset_cols,subset_vals):\n",
    "            df_temp = df_temp[df_temp[col].isin(val)]      \n",
    "        \n",
    "        df = pd.concat([df, df_temp], axis=0)\n",
    "      \n",
    "    df.to_csv(file_name, index=False)\n",
    "    print(f'Combined csv stored at {file_name}')"
   ]
  },
  {
   "cell_type": "code",
   "execution_count": 16,
   "metadata": {
    "tags": []
   },
   "outputs": [],
   "source": [
    "#cols is the list of columns to predict Arrival Delay \n",
    "cols = ['Year','Quarter','Month','DayofMonth','DayOfWeek','FlightDate',\n",
    "        'Reporting_Airline','Origin','OriginState','Dest','DestState',\n",
    "        'CRSDepTime','Cancelled','Diverted','Distance','DistanceGroup',\n",
    "        'ArrDelay','ArrDelayMinutes','ArrDel15','AirTime']\n",
    "\n",
    "subset_cols = ['Origin', 'Dest', 'Reporting_Airline']\n",
    "\n",
    "# subset_vals is a list collection of the top origin and destination airports and top 5 airlines\n",
    "subset_vals = [['ATL', 'ORD', 'DFW', 'DEN', 'CLT', 'LAX', 'IAH', 'PHX', 'SFO'], \n",
    "               ['ATL', 'ORD', 'DFW', 'DEN', 'CLT', 'LAX', 'IAH', 'PHX', 'SFO'], \n",
    "               ['UA', 'OO', 'WN', 'AA', 'DL']]"
   ]
  },
  {
   "cell_type": "markdown",
   "metadata": {},
   "source": [
    "Use the previous function to merge all the different files into a single file that you can read easily. \n",
    "\n",
    "**Note**: This process will take 5-7 minutes to complete."
   ]
  },
  {
   "cell_type": "code",
   "execution_count": 17,
   "metadata": {
    "tags": []
   },
   "outputs": [
    {
     "name": "stdout",
     "output_type": "stream",
     "text": [
      "Combined csv stored at /home/ec2-user/SageMaker/project/data/FlightDelays/combined_files.csv\n",
      "CSVs merged in 5.0 minutes\n"
     ]
    }
   ],
   "source": [
    "start = time.time()\n",
    "combined_csv_filename = f\"{base_path}combined_files.csv\"\n",
    "combine_csv(csv_files, cols, subset_cols, subset_vals, combined_csv_filename)\n",
    "print(f'CSVs merged in {round((time.time() - start)/60,2)} minutes')"
   ]
  },
  {
   "cell_type": "markdown",
   "metadata": {},
   "source": [
    "#### Load the dataset\n",
    "\n",
    "Load the combined dataset."
   ]
  },
  {
   "cell_type": "code",
   "execution_count": 18,
   "metadata": {
    "tags": []
   },
   "outputs": [],
   "source": [
    "data = pd.read_csv(combined_csv_filename)"
   ]
  },
  {
   "cell_type": "markdown",
   "metadata": {},
   "source": [
    "Print the first five records."
   ]
  },
  {
   "cell_type": "code",
   "execution_count": 19,
   "metadata": {
    "tags": []
   },
   "outputs": [
    {
     "data": {
      "text/html": [
       "<div>\n",
       "<style scoped>\n",
       "    .dataframe tbody tr th:only-of-type {\n",
       "        vertical-align: middle;\n",
       "    }\n",
       "\n",
       "    .dataframe tbody tr th {\n",
       "        vertical-align: top;\n",
       "    }\n",
       "\n",
       "    .dataframe thead th {\n",
       "        text-align: right;\n",
       "    }\n",
       "</style>\n",
       "<table border=\"1\" class=\"dataframe\">\n",
       "  <thead>\n",
       "    <tr style=\"text-align: right;\">\n",
       "      <th></th>\n",
       "      <th>Year</th>\n",
       "      <th>Quarter</th>\n",
       "      <th>Month</th>\n",
       "      <th>DayofMonth</th>\n",
       "      <th>DayOfWeek</th>\n",
       "      <th>FlightDate</th>\n",
       "      <th>Reporting_Airline</th>\n",
       "      <th>Origin</th>\n",
       "      <th>OriginState</th>\n",
       "      <th>Dest</th>\n",
       "      <th>DestState</th>\n",
       "      <th>CRSDepTime</th>\n",
       "      <th>Cancelled</th>\n",
       "      <th>Diverted</th>\n",
       "      <th>Distance</th>\n",
       "      <th>DistanceGroup</th>\n",
       "      <th>ArrDelay</th>\n",
       "      <th>ArrDelayMinutes</th>\n",
       "      <th>ArrDel15</th>\n",
       "      <th>AirTime</th>\n",
       "    </tr>\n",
       "  </thead>\n",
       "  <tbody>\n",
       "    <tr>\n",
       "      <th>0</th>\n",
       "      <td>2016</td>\n",
       "      <td>3</td>\n",
       "      <td>8</td>\n",
       "      <td>1</td>\n",
       "      <td>1</td>\n",
       "      <td>2016-08-01</td>\n",
       "      <td>AA</td>\n",
       "      <td>SFO</td>\n",
       "      <td>CA</td>\n",
       "      <td>DFW</td>\n",
       "      <td>TX</td>\n",
       "      <td>757</td>\n",
       "      <td>0.0</td>\n",
       "      <td>0.0</td>\n",
       "      <td>1464.0</td>\n",
       "      <td>6</td>\n",
       "      <td>700.0</td>\n",
       "      <td>700.0</td>\n",
       "      <td>1.0</td>\n",
       "      <td>180.0</td>\n",
       "    </tr>\n",
       "    <tr>\n",
       "      <th>1</th>\n",
       "      <td>2016</td>\n",
       "      <td>3</td>\n",
       "      <td>8</td>\n",
       "      <td>2</td>\n",
       "      <td>2</td>\n",
       "      <td>2016-08-02</td>\n",
       "      <td>AA</td>\n",
       "      <td>SFO</td>\n",
       "      <td>CA</td>\n",
       "      <td>DFW</td>\n",
       "      <td>TX</td>\n",
       "      <td>757</td>\n",
       "      <td>0.0</td>\n",
       "      <td>0.0</td>\n",
       "      <td>1464.0</td>\n",
       "      <td>6</td>\n",
       "      <td>16.0</td>\n",
       "      <td>16.0</td>\n",
       "      <td>1.0</td>\n",
       "      <td>181.0</td>\n",
       "    </tr>\n",
       "    <tr>\n",
       "      <th>2</th>\n",
       "      <td>2016</td>\n",
       "      <td>3</td>\n",
       "      <td>8</td>\n",
       "      <td>3</td>\n",
       "      <td>3</td>\n",
       "      <td>2016-08-03</td>\n",
       "      <td>AA</td>\n",
       "      <td>SFO</td>\n",
       "      <td>CA</td>\n",
       "      <td>DFW</td>\n",
       "      <td>TX</td>\n",
       "      <td>757</td>\n",
       "      <td>0.0</td>\n",
       "      <td>0.0</td>\n",
       "      <td>1464.0</td>\n",
       "      <td>6</td>\n",
       "      <td>41.0</td>\n",
       "      <td>41.0</td>\n",
       "      <td>1.0</td>\n",
       "      <td>176.0</td>\n",
       "    </tr>\n",
       "    <tr>\n",
       "      <th>3</th>\n",
       "      <td>2016</td>\n",
       "      <td>3</td>\n",
       "      <td>8</td>\n",
       "      <td>4</td>\n",
       "      <td>4</td>\n",
       "      <td>2016-08-04</td>\n",
       "      <td>AA</td>\n",
       "      <td>SFO</td>\n",
       "      <td>CA</td>\n",
       "      <td>DFW</td>\n",
       "      <td>TX</td>\n",
       "      <td>757</td>\n",
       "      <td>0.0</td>\n",
       "      <td>0.0</td>\n",
       "      <td>1464.0</td>\n",
       "      <td>6</td>\n",
       "      <td>-14.0</td>\n",
       "      <td>0.0</td>\n",
       "      <td>0.0</td>\n",
       "      <td>180.0</td>\n",
       "    </tr>\n",
       "    <tr>\n",
       "      <th>4</th>\n",
       "      <td>2016</td>\n",
       "      <td>3</td>\n",
       "      <td>8</td>\n",
       "      <td>5</td>\n",
       "      <td>5</td>\n",
       "      <td>2016-08-05</td>\n",
       "      <td>AA</td>\n",
       "      <td>SFO</td>\n",
       "      <td>CA</td>\n",
       "      <td>DFW</td>\n",
       "      <td>TX</td>\n",
       "      <td>757</td>\n",
       "      <td>0.0</td>\n",
       "      <td>0.0</td>\n",
       "      <td>1464.0</td>\n",
       "      <td>6</td>\n",
       "      <td>35.0</td>\n",
       "      <td>35.0</td>\n",
       "      <td>1.0</td>\n",
       "      <td>176.0</td>\n",
       "    </tr>\n",
       "  </tbody>\n",
       "</table>\n",
       "</div>"
      ],
      "text/plain": [
       "   Year  Quarter  Month  DayofMonth  DayOfWeek  FlightDate Reporting_Airline  \\\n",
       "0  2016        3      8           1          1  2016-08-01                AA   \n",
       "1  2016        3      8           2          2  2016-08-02                AA   \n",
       "2  2016        3      8           3          3  2016-08-03                AA   \n",
       "3  2016        3      8           4          4  2016-08-04                AA   \n",
       "4  2016        3      8           5          5  2016-08-05                AA   \n",
       "\n",
       "  Origin OriginState Dest DestState  CRSDepTime  Cancelled  Diverted  \\\n",
       "0    SFO          CA  DFW        TX         757        0.0       0.0   \n",
       "1    SFO          CA  DFW        TX         757        0.0       0.0   \n",
       "2    SFO          CA  DFW        TX         757        0.0       0.0   \n",
       "3    SFO          CA  DFW        TX         757        0.0       0.0   \n",
       "4    SFO          CA  DFW        TX         757        0.0       0.0   \n",
       "\n",
       "   Distance  DistanceGroup  ArrDelay  ArrDelayMinutes  ArrDel15  AirTime  \n",
       "0    1464.0              6     700.0            700.0       1.0    180.0  \n",
       "1    1464.0              6      16.0             16.0       1.0    181.0  \n",
       "2    1464.0              6      41.0             41.0       1.0    176.0  \n",
       "3    1464.0              6     -14.0              0.0       0.0    180.0  \n",
       "4    1464.0              6      35.0             35.0       1.0    176.0  "
      ]
     },
     "execution_count": 19,
     "metadata": {},
     "output_type": "execute_result"
    }
   ],
   "source": [
    "# Enter your code here\n",
    "data.head()"
   ]
  },
  {
   "cell_type": "markdown",
   "metadata": {},
   "source": [
    "Here are some more questions to help you learn more about your dataset.\n",
    "\n",
    "**Questions**   \n",
    "\n",
    "1. How many rows and columns does the dataset have?   \n",
    "2. How many years are included in the dataset?   \n",
    "3. What is the date range for the dataset?   \n",
    "4. Which airlines are included in the dataset?   \n",
    "5. Which origin and destination airports are covered?"
   ]
  },
  {
   "cell_type": "code",
   "execution_count": 20,
   "metadata": {
    "tags": []
   },
   "outputs": [
    {
     "name": "stdout",
     "output_type": "stream",
     "text": [
      "The #rows and #columns are  1658130  and  20\n",
      "The years in this dataset are:  [2016, 2014, 2018, 2015, 2017]\n",
      "The months covered in this dataset are:  [1, 2, 3, 4, 5, 6, 7, 8, 9, 10, 11, 12]\n",
      "The date range for data is : 2014-01-01  to  2018-12-31\n",
      "The airlines covered in this dataset are:  ['AA', 'DL', 'OO', 'UA', 'WN']\n",
      "The Origin airports covered are:  ['SFO', 'DFW', 'LAX', 'ORD', 'IAH', 'CLT', 'PHX', 'ATL', 'DEN']\n",
      "The Destination airports covered are:  ['DFW', 'SFO', 'LAX', 'ORD', 'PHX', 'IAH', 'DEN', 'ATL', 'CLT']\n"
     ]
    }
   ],
   "source": [
    "print(\"The #rows and #columns are \", data.shape[0], \" and \", data.shape[1])\n",
    "print(\"The years in this dataset are: \", list(data.Year.unique()))\n",
    "print(\"The months covered in this dataset are: \", sorted(list(data.Month.unique())))\n",
    "print(\"The date range for data is :\" , min(data.FlightDate.unique()), \" to \", max(data.FlightDate.unique()))\n",
    "print(\"The airlines covered in this dataset are: \", list(data.Reporting_Airline.unique()))\n",
    "print(\"The Origin airports covered are: \", list(data.Origin.unique()))\n",
    "print(\"The Destination airports covered are: \", list(data.Dest.unique()))"
   ]
  },
  {
   "cell_type": "markdown",
   "metadata": {},
   "source": [
    "Define your target column: **is_delay** (*1* means that the arrival time delayed more than 15 minutes, and *0* means all other cases). To rename the column from **ArrDel15** to *is_delay*, use the `rename` method .\n",
    "\n",
    "**Hint**: You can use the `rename` function in pandas ([pandas.DataFrame.rename documentation](https://pandas.pydata.org/pandas-docs/stable/reference/api/pandas.DataFrame.rename.html)).\n",
    "\n",
    "For example:\n",
    "```\n",
    "data.rename(columns={'col1':'column1'}, inplace=True)\n",
    "```"
   ]
  },
  {
   "cell_type": "code",
   "execution_count": 21,
   "metadata": {
    "tags": []
   },
   "outputs": [],
   "source": [
    "# Enter your code here\n",
    "data.rename(columns={'ArrDel15': 'is_delay'}, inplace=True) "
   ]
  },
  {
   "cell_type": "markdown",
   "metadata": {},
   "source": [
    "Look for nulls across columns. You can use the `isnull()` function ([pandas.isnull documentation](https://pandas.pydata.org/pandas-docs/version/0.17.0/generated/pandas.isnull.html)).\n",
    "\n",
    "**Hint**: `isnull()` detects whether the particular value is null or not. It returns a boolean (*True* or *False*) in its place. To sum the number of columns, use the `sum(axis=0)` function (for example, `df.isnull().sum(axis=0)`)."
   ]
  },
  {
   "cell_type": "code",
   "execution_count": 22,
   "metadata": {
    "tags": []
   },
   "outputs": [
    {
     "data": {
      "text/plain": [
       "Year                     0\n",
       "Quarter                  0\n",
       "Month                    0\n",
       "DayofMonth               0\n",
       "DayOfWeek                0\n",
       "FlightDate               0\n",
       "Reporting_Airline        0\n",
       "Origin                   0\n",
       "OriginState              0\n",
       "Dest                     0\n",
       "DestState                0\n",
       "CRSDepTime               0\n",
       "Cancelled                0\n",
       "Diverted                 0\n",
       "Distance                 0\n",
       "DistanceGroup            0\n",
       "ArrDelay             22540\n",
       "ArrDelayMinutes      22540\n",
       "is_delay             22540\n",
       "AirTime              22540\n",
       "dtype: int64"
      ]
     },
     "execution_count": 22,
     "metadata": {},
     "output_type": "execute_result"
    }
   ],
   "source": [
    "# Enter your code here\n",
    "data.isnull().sum(axis=0)"
   ]
  },
  {
   "cell_type": "markdown",
   "metadata": {},
   "source": [
    "The arrival delay details and airtime are missing for 22,540 out of 1,658,130 rows, which is 1.3 percent. You can either remove or impute these rows. The documentation doesn't mention any information about missing rows.\n"
   ]
  },
  {
   "cell_type": "code",
   "execution_count": 23,
   "metadata": {
    "tags": []
   },
   "outputs": [
    {
     "data": {
      "text/plain": [
       "Year                 0\n",
       "Quarter              0\n",
       "Month                0\n",
       "DayofMonth           0\n",
       "DayOfWeek            0\n",
       "FlightDate           0\n",
       "Reporting_Airline    0\n",
       "Origin               0\n",
       "OriginState          0\n",
       "Dest                 0\n",
       "DestState            0\n",
       "CRSDepTime           0\n",
       "Cancelled            0\n",
       "Diverted             0\n",
       "Distance             0\n",
       "DistanceGroup        0\n",
       "ArrDelay             0\n",
       "ArrDelayMinutes      0\n",
       "is_delay             0\n",
       "AirTime              0\n",
       "dtype: int64"
      ]
     },
     "execution_count": 23,
     "metadata": {},
     "output_type": "execute_result"
    }
   ],
   "source": [
    "### Remove null columns\n",
    "data = data[~data.is_delay.isnull()]\n",
    "data.isnull().sum(axis = 0)"
   ]
  },
  {
   "cell_type": "markdown",
   "metadata": {},
   "source": [
    "Get the hour of the day in 24-hour-time format from CRSDepTime."
   ]
  },
  {
   "cell_type": "code",
   "execution_count": 24,
   "metadata": {
    "tags": []
   },
   "outputs": [],
   "source": [
    "data['DepHourofDay'] = (data['CRSDepTime']//100)"
   ]
  },
  {
   "cell_type": "markdown",
   "metadata": {},
   "source": [
    "## **The ML problem statement**\n",
    "- Given a set of features, can you predict if a flight is going to be delayed more than 15 minutes?\n",
    "- Because the target variable takes only a value of *0* or *1*, you could use a classification algorithm. \n",
    "\n",
    "Before you start modeling, it's a good practice to look at feature distribution, correlations, and others.\n",
    "- This will give you an idea of any non-linearity or patterns in the data\n",
    "    - Linear models: Add power, exponential, or interaction features\n",
    "    - Try a non-linear model\n",
    "- Data imbalance \n",
    "    - Choose metrics that won't give biased model performance (accuracy versus the area under the curve, or AUC)\n",
    "    - Use weighted or custom loss functions\n",
    "- Missing data\n",
    "    - Do imputation based on simple statistics -- mean, median, mode (numerical variables), frequent class (categorical variables)\n",
    "    - Clustering-based imputation (k-nearest neighbors, or KNNs, to predict column value)\n",
    "    - Drop column"
   ]
  },
  {
   "cell_type": "markdown",
   "metadata": {},
   "source": [
    "### Data exploration\n",
    "\n",
    "Check the classes *delay* versus *no delay*.\n"
   ]
  },
  {
   "cell_type": "code",
   "execution_count": 25,
   "metadata": {
    "tags": []
   },
   "outputs": [
    {
     "data": {
      "image/png": "[encoded data removed]",
      "text/plain": [
       "<Figure size 640x480 with 1 Axes>"
      ]
     },
     "metadata": {},
     "output_type": "display_data"
    }
   ],
   "source": [
    "# Enter your code here\n",
    "(data.groupby('is_delay').size()/len(data) ).plot(kind='bar')\n",
    "plt.ylabel('Frequency')\n",
    "plt.title('Distribution of classes')\n",
    "plt.show()"
   ]
  },
  {
   "cell_type": "markdown",
   "metadata": {},
   "source": [
    "**Question**: What can you deduce from the bar plot about the ratio of *delay* versus *no delay*?"
   ]
  },
  {
   "cell_type": "code",
   "execution_count": null,
   "metadata": {},
   "outputs": [],
   "source": [
    "# Enter your answer here"
   ]
  },
  {
   "cell_type": "markdown",
   "metadata": {},
   "source": [
    "Run the following two cells and answer the questions."
   ]
  },
  {
   "cell_type": "code",
   "execution_count": 26,
   "metadata": {
    "tags": []
   },
   "outputs": [
    {
     "data": {
      "image/png": "[encoded data removed]",
      "text/plain": [
       "<Figure size 2000x2000 with 6 Axes>"
      ]
     },
     "metadata": {},
     "output_type": "display_data"
    }
   ],
   "source": [
    "viz_columns = ['Month', 'DepHourofDay', 'DayOfWeek', 'Reporting_Airline', 'Origin', 'Dest']\n",
    "fig, axes = plt.subplots(3, 2, figsize=(20,20), squeeze=False)\n",
    "# fig.autofmt_xdate(rotation=90)\n",
    "\n",
    "for idx, column in enumerate(viz_columns):\n",
    "    ax = axes[idx//2, idx%2]\n",
    "    temp = data.groupby(column)['is_delay'].value_counts(normalize=True).rename('percentage').\\\n",
    "    mul(100).reset_index().sort_values(column)\n",
    "    sns.barplot(x=column, y=\"percentage\", hue=\"is_delay\", data=temp, ax=ax)\n",
    "    plt.ylabel('% delay/no-delay')\n",
    "    \n",
    "\n",
    "plt.show()"
   ]
  },
  {
   "cell_type": "code",
   "execution_count": 27,
   "metadata": {
    "tags": []
   },
   "outputs": [
    {
     "data": {
      "image/png": "[encoded data removed]",
      "text/plain": [
       "<Figure size 500x500 with 1 Axes>"
      ]
     },
     "metadata": {},
     "output_type": "display_data"
    }
   ],
   "source": [
    "sns.lmplot( x=\"is_delay\", y=\"Distance\", data=data, fit_reg=False, hue='is_delay', legend=False)\n",
    "plt.legend(loc='center')\n",
    "plt.xlabel('is_delay')\n",
    "plt.ylabel('Distance')\n",
    "plt.show()"
   ]
  },
  {
   "cell_type": "markdown",
   "metadata": {},
   "source": [
    "**Questions**\n",
    "\n",
    "Using the data from the previous charts, answer these questions:\n",
    "\n",
    "- Which months have the most delays?\n",
    "- What time of the day has the most delays?\n",
    "- What day of the week has the most delays?\n",
    "- Which airline has the most delays?\n",
    "- Which origin and destination airports have the most delays?\n",
    "- Is flight distance a factor in the delays?"
   ]
  },
  {
   "cell_type": "code",
   "execution_count": null,
   "metadata": {},
   "outputs": [],
   "source": [
    "# Enter your answers here"
   ]
  },
  {
   "cell_type": "markdown",
   "metadata": {},
   "source": [
    "### Features\n",
    "\n",
    "Look at all the columns and what their specific types are."
   ]
  },
  {
   "cell_type": "code",
   "execution_count": 28,
   "metadata": {
    "tags": []
   },
   "outputs": [
    {
     "data": {
      "text/plain": [
       "Index(['Year', 'Quarter', 'Month', 'DayofMonth', 'DayOfWeek', 'FlightDate',\n",
       "       'Reporting_Airline', 'Origin', 'OriginState', 'Dest', 'DestState',\n",
       "       'CRSDepTime', 'Cancelled', 'Diverted', 'Distance', 'DistanceGroup',\n",
       "       'ArrDelay', 'ArrDelayMinutes', 'is_delay', 'AirTime', 'DepHourofDay'],\n",
       "      dtype='object')"
      ]
     },
     "execution_count": 28,
     "metadata": {},
     "output_type": "execute_result"
    }
   ],
   "source": [
    "data.columns"
   ]
  },
  {
   "cell_type": "code",
   "execution_count": 29,
   "metadata": {
    "tags": []
   },
   "outputs": [
    {
     "data": {
      "text/plain": [
       "Year                   int64\n",
       "Quarter                int64\n",
       "Month                  int64\n",
       "DayofMonth             int64\n",
       "DayOfWeek              int64\n",
       "FlightDate            object\n",
       "Reporting_Airline     object\n",
       "Origin                object\n",
       "OriginState           object\n",
       "Dest                  object\n",
       "DestState             object\n",
       "CRSDepTime             int64\n",
       "Cancelled            float64\n",
       "Diverted             float64\n",
       "Distance             float64\n",
       "DistanceGroup          int64\n",
       "ArrDelay             float64\n",
       "ArrDelayMinutes      float64\n",
       "is_delay             float64\n",
       "AirTime              float64\n",
       "DepHourofDay           int64\n",
       "dtype: object"
      ]
     },
     "execution_count": 29,
     "metadata": {},
     "output_type": "execute_result"
    }
   ],
   "source": [
    "data.dtypes"
   ]
  },
  {
   "cell_type": "markdown",
   "metadata": {},
   "source": [
    "Filtering the required columns:\n",
    "- *Date* is redundant, because you have *Year*, *Quarter*, *Month*, *DayofMonth*, and *DayOfWeek* to describe the date.\n",
    "- Use *Origin* and *Dest* codes instead of *OriginState* and *DestState*.\n",
    "- Because you are only classifying whether the flight is delayed or not, you don't need *TotalDelayMinutes*, *DepDelayMinutes*, and *ArrDelayMinutes*.\n",
    "\n",
    "Treat *DepHourofDay* as a categorical variable because it doesn't have any quantitative relation with the target.\n",
    "- If you needed to do a one-hot encoding of this variable, it would result in 23 more columns.\n",
    "- Other alternatives to handling categorical variables include hash encoding, regularized mean encoding, and bucketizing the values, among others.\n",
    "- In this case, you only need to split into buckets.\n",
    "\n",
    "To change a column type to category, use the `astype` function ([pandas.DataFrame.astype documentation](https://pandas.pydata.org/pandas-docs/stable/reference/api/pandas.DataFrame.astype.html))."
   ]
  },
  {
   "cell_type": "code",
   "execution_count": 30,
   "metadata": {
    "tags": []
   },
   "outputs": [],
   "source": [
    "data_orig = data.copy()\n",
    "data = data[[ 'is_delay', 'Quarter', 'Month', 'DayofMonth', 'DayOfWeek', \n",
    "       'Reporting_Airline', 'Origin', 'Dest','Distance','DepHourofDay']]\n",
    "categorical_columns  = ['Quarter', 'Month', 'DayofMonth', 'DayOfWeek', \n",
    "       'Reporting_Airline', 'Origin', 'Dest', 'DepHourofDay']\n",
    "for c in categorical_columns:\n",
    "    data[c] = data[c].astype('category')"
   ]
  },
  {
   "cell_type": "markdown",
   "metadata": {},
   "source": [
    "To use one-hot encoding, use the `get_dummies` function in pandas for the categorical columns that you selected. Then, you can concatenate those generated features to your original dataset by using the `concat` function in pandas. For encoding categorical variables, you can also use *dummy encoding* by using a keyword `drop_first=True`. For more information about dummy encoding, see [Dummy variable (statistics)](https://en.wikiversity.org/wiki/Dummy_variable_(statistics)).\n",
    "\n",
    "For example:\n",
    "```\n",
    "pd.get_dummies(df[['column1','columns2']], drop_first=True)\n",
    "```"
   ]
  },
  {
   "cell_type": "code",
   "execution_count": 32,
   "metadata": {
    "tags": []
   },
   "outputs": [],
   "source": [
    "# Enter your code here\n",
    "data_dummies = pd.get_dummies(data[categorical_columns], drop_first=True) \n",
    "data_dummies = data_dummies.replace({True: 1, False: 0})\n",
    "data = pd.concat([data, data_dummies], axis = 1)\n",
    "data.drop(categorical_columns,axis=1, inplace=True)"
   ]
  },
  {
   "cell_type": "markdown",
   "metadata": {},
   "source": [
    "Check the length of the dataset and the new columns.\n",
    "\n",
    "**Hint**: Use the `shape` and `columns` properties."
   ]
  },
  {
   "cell_type": "code",
   "execution_count": 33,
   "metadata": {
    "tags": []
   },
   "outputs": [
    {
     "data": {
      "text/plain": [
       "(1635590, 94)"
      ]
     },
     "execution_count": 33,
     "metadata": {},
     "output_type": "execute_result"
    }
   ],
   "source": [
    "# Enter your code here\n",
    "data.shape"
   ]
  },
  {
   "cell_type": "code",
   "execution_count": 34,
   "metadata": {
    "tags": []
   },
   "outputs": [
    {
     "data": {
      "text/plain": [
       "Index(['is_delay', 'Distance', 'Quarter_2', 'Quarter_3', 'Quarter_4',\n",
       "       'Month_2', 'Month_3', 'Month_4', 'Month_5', 'Month_6', 'Month_7',\n",
       "       'Month_8', 'Month_9', 'Month_10', 'Month_11', 'Month_12',\n",
       "       'DayofMonth_2', 'DayofMonth_3', 'DayofMonth_4', 'DayofMonth_5',\n",
       "       'DayofMonth_6', 'DayofMonth_7', 'DayofMonth_8', 'DayofMonth_9',\n",
       "       'DayofMonth_10', 'DayofMonth_11', 'DayofMonth_12', 'DayofMonth_13',\n",
       "       'DayofMonth_14', 'DayofMonth_15', 'DayofMonth_16', 'DayofMonth_17',\n",
       "       'DayofMonth_18', 'DayofMonth_19', 'DayofMonth_20', 'DayofMonth_21',\n",
       "       'DayofMonth_22', 'DayofMonth_23', 'DayofMonth_24', 'DayofMonth_25',\n",
       "       'DayofMonth_26', 'DayofMonth_27', 'DayofMonth_28', 'DayofMonth_29',\n",
       "       'DayofMonth_30', 'DayofMonth_31', 'DayOfWeek_2', 'DayOfWeek_3',\n",
       "       'DayOfWeek_4', 'DayOfWeek_5', 'DayOfWeek_6', 'DayOfWeek_7',\n",
       "       'Reporting_Airline_DL', 'Reporting_Airline_OO', 'Reporting_Airline_UA',\n",
       "       'Reporting_Airline_WN', 'Origin_CLT', 'Origin_DEN', 'Origin_DFW',\n",
       "       'Origin_IAH', 'Origin_LAX', 'Origin_ORD', 'Origin_PHX', 'Origin_SFO',\n",
       "       'Dest_CLT', 'Dest_DEN', 'Dest_DFW', 'Dest_IAH', 'Dest_LAX', 'Dest_ORD',\n",
       "       'Dest_PHX', 'Dest_SFO', 'DepHourofDay_1', 'DepHourofDay_2',\n",
       "       'DepHourofDay_4', 'DepHourofDay_5', 'DepHourofDay_6', 'DepHourofDay_7',\n",
       "       'DepHourofDay_8', 'DepHourofDay_9', 'DepHourofDay_10',\n",
       "       'DepHourofDay_11', 'DepHourofDay_12', 'DepHourofDay_13',\n",
       "       'DepHourofDay_14', 'DepHourofDay_15', 'DepHourofDay_16',\n",
       "       'DepHourofDay_17', 'DepHourofDay_18', 'DepHourofDay_19',\n",
       "       'DepHourofDay_20', 'DepHourofDay_21', 'DepHourofDay_22',\n",
       "       'DepHourofDay_23'],\n",
       "      dtype='object')"
      ]
     },
     "execution_count": 34,
     "metadata": {},
     "output_type": "execute_result"
    }
   ],
   "source": [
    "# Enter your code here\n",
    "data.columns"
   ]
  },
  {
   "cell_type": "markdown",
   "metadata": {},
   "source": [
    "You are now ready to train the model. Before you split the data, rename the **is_delay** column to *target*.\n",
    "\n",
    "**Hint**: You can use the `rename` function in pandas ([pandas.DataFrame.rename documentation](https://pandas.pydata.org/pandas-docs/stable/reference/api/pandas.DataFrame.rename.html))."
   ]
  },
  {
   "cell_type": "code",
   "execution_count": 35,
   "metadata": {
    "tags": []
   },
   "outputs": [],
   "source": [
    "# Enter your code here\n",
    "data.rename(columns={'is_delay': 'target'}, inplace=True)"
   ]
  },
  {
   "cell_type": "markdown",
   "metadata": {},
   "source": [
    "## <span style=\"color:red\"> End of Step 2 </span>\n",
    "\n",
    "Save the project file to your local computer. Follow these steps:\n",
    "\n",
    "1. In the file explorer on the left, right-click the notebook that you're working on. \n",
    "\n",
    "2. Choose **Download**, and save the file locally.  \n",
    "\n",
    "This action downloads the current notebook to the default download folder on your computer."
   ]
  },
  {
   "cell_type": "markdown",
   "metadata": {},
   "source": [
    "# Step 3: Model training and evaluation\n",
    "\n",
    "You must include some preliminary steps when you convert the dataset from a DataFrame to a format that a machine learning algorithm can use. For Amazon SageMaker, you must perform these steps:\n",
    "\n",
    "1. Split the data into `train_data`, `validation_data`, and `test_data` by using `sklearn.model_selection.train_test_split`.  \n",
    "\n",
    "2. Convert the dataset to an appropriate file format that the Amazon SageMaker training job can use. This can be either a CSV file or record protobuf. For more information, see [Common Data Formats for Training](https://docs.aws.amazon.com/sagemaker/latest/dg/cdf-training.html).  \n",
    "\n",
    "3. Upload the data to your S3 bucket. If you haven't created one before, see [Create a Bucket](https://docs.aws.amazon.com/AmazonS3/latest/gsg/CreatingABucket.html).  \n",
    "\n",
    "Use the following cells to complete these steps. Insert and delete cells where needed.\n",
    "\n",
    "#### <span style=\"color: blue;\">Project presentation: In your project presentation, write down the key decisions that you made in this phase.</span>"
   ]
  },
  {
   "cell_type": "markdown",
   "metadata": {},
   "source": [
    "### Train-test split"
   ]
  },
  {
   "cell_type": "code",
   "execution_count": 36,
   "metadata": {
    "tags": []
   },
   "outputs": [],
   "source": [
    "from sklearn.model_selection import train_test_split\n",
    "def split_data(data):\n",
    "    train, test_and_validate = train_test_split(data, test_size=0.2, random_state=42, stratify=data['target'])\n",
    "    test, validate = train_test_split(test_and_validate, test_size=0.5, random_state=42, stratify=test_and_validate['target'])\n",
    "    return train, validate, test"
   ]
  },
  {
   "cell_type": "code",
   "execution_count": 37,
   "metadata": {
    "tags": []
   },
   "outputs": [
    {
     "name": "stdout",
     "output_type": "stream",
     "text": [
      "target\n",
      "0.0    1033806\n",
      "1.0     274666\n",
      "Name: count, dtype: int64\n",
      "target\n",
      "0.0    129226\n",
      "1.0     34333\n",
      "Name: count, dtype: int64\n",
      "target\n",
      "0.0    129226\n",
      "1.0     34333\n",
      "Name: count, dtype: int64\n"
     ]
    }
   ],
   "source": [
    "train, validate, test = split_data(data)\n",
    "print(train['target'].value_counts())\n",
    "print(test['target'].value_counts())\n",
    "print(validate['target'].value_counts())"
   ]
  },
  {
   "cell_type": "markdown",
   "metadata": {},
   "source": [
    "**Sample answer**\n",
    "```\n",
    "0.0    1033570\n",
    "1.0     274902\n",
    "Name: target, dtype: int64\n",
    "0.0    129076\n",
    "1.0     34483\n",
    "Name: target, dtype: int64\n",
    "0.0    129612\n",
    "1.0     33947\n",
    "Name: target, dtype: int64\n",
    "```"
   ]
  },
  {
   "cell_type": "markdown",
   "metadata": {},
   "source": [
    "### Baseline classification model"
   ]
  },
  {
   "cell_type": "code",
   "execution_count": 38,
   "metadata": {
    "tags": []
   },
   "outputs": [
    {
     "name": "stdout",
     "output_type": "stream",
     "text": [
      "sagemaker.config INFO - Not applying SDK defaults from location: /etc/xdg/sagemaker/config.yaml\n",
      "sagemaker.config INFO - Not applying SDK defaults from location: /home/ec2-user/.config/sagemaker/config.yaml\n"
     ]
    }
   ],
   "source": [
    "import sagemaker\n",
    "from sagemaker.serializers import CSVSerializer\n",
    "from sagemaker.amazon.amazon_estimator import RecordSet\n",
    "import boto3\n",
    "\n",
    "# Instantiate the LinearLearner estimator object with 1 ml.m4.xlarge\n",
    "classifier_estimator = sagemaker.LinearLearner(role=sagemaker.get_execution_role(),\n",
    "                                               instance_count=1,\n",
    "                                               instance_type='ml.m4.xlarge',\n",
    "                                               predictor_type='binary_classifier',\n",
    "                                               binary_classifier_model_selection_criteria='cross_entropy_loss')"
   ]
  },
  {
   "cell_type": "markdown",
   "metadata": {},
   "source": [
    "### Sample code\n",
    "```\n",
    "num_classes = len(pd.unique(train_labels))\n",
    "classifier_estimator = sagemaker.LinearLearner(role=sagemaker.get_execution_role(),\n",
    "                                              instance_count=1,\n",
    "                                              instance_type='ml.m4.xlarge',\n",
    "                                              predictor_type='binary_classifier',\n",
    "                                              binary_classifier_model_selection_criteria = 'cross_entropy_loss')\n",
    "                                              \n",
    "```"
   ]
  },
  {
   "cell_type": "markdown",
   "metadata": {},
   "source": [
    "Linear learner accepts training data in protobuf or CSV content types. It also accepts inference requests in protobuf, CSV, or JavaScript Object Notation (JSON) content types. Training data has features and ground-truth labels, but the data in an inference request has only features.\n",
    "\n",
    "In a production pipeline, AWS recommends converting the data to the Amazon SageMaker protobuf format and storing it in Amazon S3. To get up and running quickly, AWS provides the `record_set` operation for converting and uploading the dataset when it's small enough to fit in local memory. It accepts NumPy arrays like the ones you already have, so you will use it for this step. The `RecordSet` object will track the temporary Amazon S3 location of your data. Create train, validation, and test records by using the `estimator.record_set` function. Then, start your training job by using the `estimator.fit` function."
   ]
  },
  {
   "cell_type": "code",
   "execution_count": 39,
   "metadata": {
    "tags": []
   },
   "outputs": [],
   "source": [
    "### Create train, validate, and test records\n",
    "train_records = classifier_estimator.record_set(train.values[:, 1:].astype(np.float32), train.values[:, 0].astype(np.float32), channel='train')\n",
    "val_records = classifier_estimator.record_set(validate.values[:, 1:].astype(np.float32), validate.values[:, 0].astype(np.float32), channel='validation')\n",
    "test_records = classifier_estimator.record_set(test.values[:, 1:].astype(np.float32), test.values[:, 0].astype(np.float32), channel='test')"
   ]
  },
  {
   "cell_type": "markdown",
   "metadata": {},
   "source": [
    "Now, train your model on the dataset that you just uploaded.\n",
    "\n",
    "### Sample code\n",
    "```\n",
    "linear.fit([train_records,val_records,test_records])\n",
    "```"
   ]
  },
  {
   "cell_type": "code",
   "execution_count": 41,
   "metadata": {
    "tags": []
   },
   "outputs": [
    {
     "name": "stderr",
     "output_type": "stream",
     "text": [
      "INFO:sagemaker.image_uris:Same images used for training and inference. Defaulting to image scope: inference.\n",
      "INFO:sagemaker.image_uris:Ignoring unnecessary instance type: None.\n",
      "INFO:sagemaker:Creating training-job with name: linear-learner-2024-10-23-19-26-37-765\n"
     ]
    },
    {
     "name": "stdout",
     "output_type": "stream",
     "text": [
      "2024-10-23 19:26:39 Starting - Starting the training job...\n",
      "2024-10-23 19:26:54 Starting - Preparing the instances for training...\n",
      "2024-10-23 19:27:26 Downloading - Downloading input data......\n",
      "2024-10-23 19:28:16 Downloading - Downloading the training image......\n",
      "2024-10-23 19:29:22 Training - Training image download completed. Training in progress..\u001b[34mDocker entrypoint called with argument(s): train\u001b[0m\n",
      "\u001b[34mRunning default environment configuration script\u001b[0m\n",
      "\u001b[34m[10/23/2024 19:29:42 INFO 140356875958080] Reading default configuration from /opt/amazon/lib/python3.8/site-packages/algorithm/resources/default-input.json: {'mini_batch_size': '1000', 'epochs': '15', 'feature_dim': 'auto', 'use_bias': 'true', 'binary_classifier_model_selection_criteria': 'accuracy', 'f_beta': '1.0', 'target_recall': '0.8', 'target_precision': '0.8', 'num_models': 'auto', 'num_calibration_samples': '10000000', 'init_method': 'uniform', 'init_scale': '0.07', 'init_sigma': '0.01', 'init_bias': '0.0', 'optimizer': 'auto', 'loss': 'auto', 'margin': '1.0', 'quantile': '0.5', 'loss_insensitivity': '0.01', 'huber_delta': '1.0', 'num_classes': '1', 'accuracy_top_k': '3', 'wd': 'auto', 'l1': 'auto', 'momentum': 'auto', 'learning_rate': 'auto', 'beta_1': 'auto', 'beta_2': 'auto', 'bias_lr_mult': 'auto', 'bias_wd_mult': 'auto', 'use_lr_scheduler': 'true', 'lr_scheduler_step': 'auto', 'lr_scheduler_factor': 'auto', 'lr_scheduler_minimum_lr': 'auto', 'positive_example_weight_mult': '1.0', 'balance_multiclass_weights': 'false', 'normalize_data': 'true', 'normalize_label': 'auto', 'unbias_data': 'auto', 'unbias_label': 'auto', 'num_point_for_scaler': '10000', '_kvstore': 'auto', '_num_gpus': 'auto', '_num_kv_servers': 'auto', '_log_level': 'info', '_tuning_objective_metric': '', 'early_stopping_patience': '3', 'early_stopping_tolerance': '0.001', '_enable_profiler': 'false'}\u001b[0m\n",
      "\u001b[34m[10/23/2024 19:29:42 INFO 140356875958080] Merging with provided configuration from /opt/ml/input/config/hyperparameters.json: {'binary_classifier_model_selection_criteria': 'cross_entropy_loss', 'feature_dim': '93', 'mini_batch_size': '1000', 'predictor_type': 'binary_classifier'}\u001b[0m\n",
      "\u001b[34m[10/23/2024 19:29:42 INFO 140356875958080] Final configuration: {'mini_batch_size': '1000', 'epochs': '15', 'feature_dim': '93', 'use_bias': 'true', 'binary_classifier_model_selection_criteria': 'cross_entropy_loss', 'f_beta': '1.0', 'target_recall': '0.8', 'target_precision': '0.8', 'num_models': 'auto', 'num_calibration_samples': '10000000', 'init_method': 'uniform', 'init_scale': '0.07', 'init_sigma': '0.01', 'init_bias': '0.0', 'optimizer': 'auto', 'loss': 'auto', 'margin': '1.0', 'quantile': '0.5', 'loss_insensitivity': '0.01', 'huber_delta': '1.0', 'num_classes': '1', 'accuracy_top_k': '3', 'wd': 'auto', 'l1': 'auto', 'momentum': 'auto', 'learning_rate': 'auto', 'beta_1': 'auto', 'beta_2': 'auto', 'bias_lr_mult': 'auto', 'bias_wd_mult': 'auto', 'use_lr_scheduler': 'true', 'lr_scheduler_step': 'auto', 'lr_scheduler_factor': 'auto', 'lr_scheduler_minimum_lr': 'auto', 'positive_example_weight_mult': '1.0', 'balance_multiclass_weights': 'false', 'normalize_data': 'true', 'normalize_label': 'auto', 'unbias_data': 'auto', 'unbias_label': 'auto', 'num_point_for_scaler': '10000', '_kvstore': 'auto', '_num_gpus': 'auto', '_num_kv_servers': 'auto', '_log_level': 'info', '_tuning_objective_metric': '', 'early_stopping_patience': '3', 'early_stopping_tolerance': '0.001', '_enable_profiler': 'false', 'predictor_type': 'binary_classifier'}\u001b[0m\n",
      "\u001b[34m/opt/amazon/lib/python3.8/site-packages/mxnet/model.py:97: SyntaxWarning: \"is\" with a literal. Did you mean \"==\"?\n",
      "  if num_device is 1 and 'dist' not in kvstore:\u001b[0m\n",
      "\u001b[34m/opt/amazon/lib/python3.8/site-packages/scipy/optimize/_shgo.py:495: SyntaxWarning: \"is\" with a literal. Did you mean \"==\"?\n",
      "  if cons['type'] is 'ineq':\u001b[0m\n",
      "\u001b[34m/opt/amazon/lib/python3.8/site-packages/scipy/optimize/_shgo.py:743: SyntaxWarning: \"is not\" with a literal. Did you mean \"!=\"?\n",
      "  if len(self.X_min) is not 0:\u001b[0m\n",
      "\u001b[34m[10/23/2024 19:29:45 WARNING 140356875958080] Loggers have already been setup.\u001b[0m\n",
      "\u001b[34m[10/23/2024 19:29:45 INFO 140356875958080] Final configuration: {'mini_batch_size': '1000', 'epochs': '15', 'feature_dim': '93', 'use_bias': 'true', 'binary_classifier_model_selection_criteria': 'cross_entropy_loss', 'f_beta': '1.0', 'target_recall': '0.8', 'target_precision': '0.8', 'num_models': 'auto', 'num_calibration_samples': '10000000', 'init_method': 'uniform', 'init_scale': '0.07', 'init_sigma': '0.01', 'init_bias': '0.0', 'optimizer': 'auto', 'loss': 'auto', 'margin': '1.0', 'quantile': '0.5', 'loss_insensitivity': '0.01', 'huber_delta': '1.0', 'num_classes': '1', 'accuracy_top_k': '3', 'wd': 'auto', 'l1': 'auto', 'momentum': 'auto', 'learning_rate': 'auto', 'beta_1': 'auto', 'beta_2': 'auto', 'bias_lr_mult': 'auto', 'bias_wd_mult': 'auto', 'use_lr_scheduler': 'true', 'lr_scheduler_step': 'auto', 'lr_scheduler_factor': 'auto', 'lr_scheduler_minimum_lr': 'auto', 'positive_example_weight_mult': '1.0', 'balance_multiclass_weights': 'false', 'normalize_data': 'true', 'normalize_label': 'auto', 'unbias_data': 'auto', 'unbias_label': 'auto', 'num_point_for_scaler': '10000', '_kvstore': 'auto', '_num_gpus': 'auto', '_num_kv_servers': 'auto', '_log_level': 'info', '_tuning_objective_metric': '', 'early_stopping_patience': '3', 'early_stopping_tolerance': '0.001', '_enable_profiler': 'false', 'predictor_type': 'binary_classifier'}\u001b[0m\n",
      "\u001b[34m[10/23/2024 19:29:45 WARNING 140356875958080] Loggers have already been setup.\u001b[0m\n",
      "\u001b[34mProcess 7 is a worker.\u001b[0m\n",
      "\u001b[34m[10/23/2024 19:29:45 INFO 140356875958080] Using default worker.\u001b[0m\n",
      "\u001b[34m[10/23/2024 19:29:45 INFO 140356875958080] Checkpoint loading and saving are disabled.\u001b[0m\n",
      "\u001b[34m[2024-10-23 19:29:45.865] [tensorio] [warning] TensorIO is already initialized; ignoring the initialization routine.\u001b[0m\n",
      "\u001b[34m[2024-10-23 19:29:45.870] [tensorio] [warning] TensorIO is already initialized; ignoring the initialization routine.\u001b[0m\n",
      "\u001b[34m[2024-10-23 19:29:45.927] [tensorio] [info] epoch_stats={\"data_pipeline\": \"/opt/ml/input/data/train\", \"epoch\": 0, \"duration\": 65, \"num_examples\": 1, \"num_bytes\": 420000}\u001b[0m\n",
      "\u001b[34m[10/23/2024 19:29:45 INFO 140356875958080] Create Store: local\u001b[0m\n",
      "\u001b[34m[2024-10-23 19:29:46.025] [tensorio] [info] epoch_stats={\"data_pipeline\": \"/opt/ml/input/data/train\", \"epoch\": 1, \"duration\": 96, \"num_examples\": 11, \"num_bytes\": 4620000}\u001b[0m\n",
      "\u001b[34m[10/23/2024 19:29:46 INFO 140356875958080] Scaler algorithm parameters\n",
      " <algorithm.scaler.ScalerAlgorithmStable object at 0x7fa6d0e7cb50>\u001b[0m\n",
      "\u001b[34m[10/23/2024 19:29:46 INFO 140356875958080] Scaling model computed with parameters:\n",
      " {'stdev_label': None, 'stdev_weight': \u001b[0m\n",
      "\u001b[34m[5.3940924e+02 4.3364072e-01 4.4060445e-01 4.3190485e-01 2.6528886e-01\n",
      " 2.7847543e-01 2.7030548e-01 2.7711493e-01 2.8316265e-01 2.8526789e-01\n",
      " 2.8369114e-01 2.8036404e-01 2.8408653e-01 2.8009540e-01 2.6132658e-01\n",
      " 1.7624155e-01 1.7768294e-01 1.6729523e-01 1.8029132e-01 1.7058724e-01\n",
      " 1.8400961e-01 1.7648272e-01 1.8146269e-01 1.7911111e-01 1.7863652e-01\n",
      " 1.7600001e-01 1.7958423e-01 1.7527308e-01 1.8262550e-01 1.8192887e-01\n",
      " 1.7816046e-01 1.7958425e-01 1.8764298e-01 1.8122914e-01 1.7551576e-01\n",
      " 1.7600001e-01 1.7257784e-01 1.8239360e-01 1.7696394e-01 1.7356342e-01\n",
      " 1.7624155e-01 1.7816049e-01 1.7792191e-01 1.7503002e-01 1.2790464e-01\n",
      " 3.5626763e-01 3.5016555e-01 3.5849139e-01 3.5963666e-01 3.2011586e-01\n",
      " 3.4288508e-01 3.6669037e-01 2.3339933e-01 4.6170431e-01 3.1770080e-01\n",
      " 2.3511356e-01 3.1581336e-01 3.2801935e-01 2.8076640e-01 3.5751641e-01\n",
      " 3.3509928e-01 2.9694557e-01 3.3388731e-01 2.4891664e-01 3.1989762e-01\n",
      " 3.2686538e-01 2.6917037e-01 3.5419646e-01 3.3829302e-01 2.9975742e-01\n",
      " 3.3030611e-01 5.4690041e-02 1.3482771e-02 1.0000000e+00 1.5886413e-01\n",
      " 2.3114648e-01 2.5283477e-01 2.5283477e-01 2.4572210e-01 2.4716642e-01\n",
      " 2.4459094e-01 2.4197930e-01 2.3916347e-01 2.4312641e-01 2.3866209e-01\n",
      " 2.3009719e-01 2.3664278e-01 2.2275925e-01 2.2868867e-01 1.9272673e-01\n",
      " 1.4990331e-01 1.7380884e-01 1.0724253e-01]\u001b[0m\n",
      "\u001b[34m<NDArray 93 @cpu(0)>, 'mean_label': None, 'mean_weight': \u001b[0m\n",
      "\u001b[34m[1.00970422e+03 2.51090914e-01 2.63636380e-01 2.48090953e-01\n",
      " 7.61818141e-02 8.47272724e-02 7.93636441e-02 8.38181898e-02\n",
      " 8.79091024e-02 8.93636495e-02 8.82727355e-02 8.60000104e-02\n",
      " 8.85454640e-02 8.58181864e-02 7.37272799e-02 3.20909135e-02\n",
      " 3.26363631e-02 2.88181826e-02 3.36363651e-02 3.00000031e-02\n",
      " 3.50909159e-02 3.21818180e-02 3.40909138e-02 3.31818238e-02\n",
      " 3.30000035e-02 3.20000015e-02 3.33636366e-02 3.17272767e-02\n",
      " 3.45454589e-02 3.42727304e-02 3.28181833e-02 3.33636366e-02\n",
      " 3.65454555e-02 3.39999981e-02 3.18181813e-02 3.20000015e-02\n",
      " 3.07272747e-02 3.44545506e-02 3.23636346e-02 3.10909096e-02\n",
      " 3.20909098e-02 3.28181870e-02 3.27272713e-02 3.16363685e-02\n",
      " 1.66363642e-02 1.49181843e-01 1.43090934e-01 1.51454538e-01\n",
      " 1.52636379e-01 1.15909100e-01 1.36090919e-01 1.60090923e-01\n",
      " 5.78181893e-02 3.08090925e-01 1.13909103e-01 5.87272793e-02\n",
      " 1.12363644e-01 1.22636370e-01 8.62727389e-02 1.50454551e-01\n",
      " 1.28909096e-01 9.77272764e-02 1.27818182e-01 6.63636327e-02\n",
      " 1.15727283e-01 1.21636376e-01 7.86363780e-02 1.47090927e-01\n",
      " 1.31818190e-01 9.98181924e-02 1.24636374e-01 3.00000026e-03\n",
      " 1.81818163e-04 0.00000000e+00 2.59090923e-02 5.66363707e-02\n",
      " 6.86363801e-02 6.86363578e-02 6.45454526e-02 6.53636381e-02\n",
      " 6.39090911e-02 6.24545515e-02 6.09090962e-02 6.30909055e-02\n",
      " 6.06363639e-02 5.60909100e-02 5.95454611e-02 5.23636378e-02\n",
      " 5.53636402e-02 3.86363715e-02 2.30000019e-02 3.11818197e-02\n",
      " 1.16363652e-02]\u001b[0m\n",
      "\u001b[34m<NDArray 93 @cpu(0)>}\u001b[0m\n",
      "\u001b[34m/opt/amazon/python3.8/lib/python3.8/subprocess.py:848: RuntimeWarning: line buffering (buffering=1) isn't supported in binary mode, the default buffer size will be used\n",
      "  self.stdout = io.open(c2pread, 'rb', bufsize)\u001b[0m\n",
      "\u001b[34m[10/23/2024 19:29:46 INFO 140356875958080] nvidia-smi: took 0.039 seconds to run.\u001b[0m\n",
      "\u001b[34m[10/23/2024 19:29:46 INFO 140356875958080] nvidia-smi identified 0 GPUs.\u001b[0m\n",
      "\u001b[34m[10/23/2024 19:29:46 INFO 140356875958080] Number of GPUs being used: 0\u001b[0m\n",
      "\u001b[34m#metrics {\"StartTime\": 1729711786.1385772, \"EndTime\": 1729711786.1386223, \"Dimensions\": {\"Algorithm\": \"Linear Learner\", \"Host\": \"algo-1\", \"Operation\": \"training\", \"Meta\": \"init_train_data_iter\"}, \"Metrics\": {\"Total Records Seen\": {\"sum\": 12000.0, \"count\": 1, \"min\": 12000, \"max\": 12000}, \"Total Batches Seen\": {\"sum\": 12.0, \"count\": 1, \"min\": 12, \"max\": 12}, \"Max Records Seen Between Resets\": {\"sum\": 11000.0, \"count\": 1, \"min\": 11000, \"max\": 11000}, \"Max Batches Seen Between Resets\": {\"sum\": 11.0, \"count\": 1, \"min\": 11, \"max\": 11}, \"Reset Count\": {\"sum\": 2.0, \"count\": 1, \"min\": 2, \"max\": 2}, \"Number of Records Since Last Reset\": {\"sum\": 0.0, \"count\": 1, \"min\": 0, \"max\": 0}, \"Number of Batches Since Last Reset\": {\"sum\": 0.0, \"count\": 1, \"min\": 0, \"max\": 0}}}\u001b[0m\n",
      "\u001b[34m[2024-10-23 19:30:17.978] [tensorio] [info] epoch_stats={\"data_pipeline\": \"/opt/ml/input/data/train\", \"epoch\": 3, \"duration\": 31838, \"num_examples\": 1309, \"num_bytes\": 549558240}\u001b[0m\n",
      "\u001b[34m#metrics {\"StartTime\": 1729711817.9782536, \"EndTime\": 1729711817.9783258, \"Dimensions\": {\"Algorithm\": \"Linear Learner\", \"Host\": \"algo-1\", \"Operation\": \"training\", \"epoch\": 0, \"model\": 0}, \"Metrics\": {\"train_binary_classification_cross_entropy_objective\": {\"sum\": 0.49441907802196816, \"count\": 1, \"min\": 0.49441907802196816, \"max\": 0.49441907802196816}}}\u001b[0m\n",
      "\u001b[34m#metrics {\"StartTime\": 1729711817.9784071, \"EndTime\": 1729711817.978423, \"Dimensions\": {\"Algorithm\": \"Linear Learner\", \"Host\": \"algo-1\", \"Operation\": \"training\", \"epoch\": 0, \"model\": 1}, \"Metrics\": {\"train_binary_classification_cross_entropy_objective\": {\"sum\": 0.4950530540629629, \"count\": 1, \"min\": 0.4950530540629629, \"max\": 0.4950530540629629}}}\u001b[0m\n",
      "\u001b[34m#metrics {\"StartTime\": 1729711817.9784687, \"EndTime\": 1729711817.9784799, \"Dimensions\": {\"Algorithm\": \"Linear Learner\", \"Host\": \"algo-1\", \"Operation\": \"training\", \"epoch\": 0, \"model\": 2}, \"Metrics\": {\"train_binary_classification_cross_entropy_objective\": {\"sum\": 0.4945577261221883, \"count\": 1, \"min\": 0.4945577261221883, \"max\": 0.4945577261221883}}}\u001b[0m\n",
      "\u001b[34m#metrics {\"StartTime\": 1729711817.978511, \"EndTime\": 1729711817.9785206, \"Dimensions\": {\"Algorithm\": \"Linear Learner\", \"Host\": \"algo-1\", \"Operation\": \"training\", \"epoch\": 0, \"model\": 3}, \"Metrics\": {\"train_binary_classification_cross_entropy_objective\": {\"sum\": 0.4950926843112397, \"count\": 1, \"min\": 0.4950926843112397, \"max\": 0.4950926843112397}}}\u001b[0m\n",
      "\u001b[34m#metrics {\"StartTime\": 1729711817.9785516, \"EndTime\": 1729711817.978562, \"Dimensions\": {\"Algorithm\": \"Linear Learner\", \"Host\": \"algo-1\", \"Operation\": \"training\", \"epoch\": 0, \"model\": 4}, \"Metrics\": {\"train_binary_classification_cross_entropy_objective\": {\"sum\": 0.5078070864662847, \"count\": 1, \"min\": 0.5078070864662847, \"max\": 0.5078070864662847}}}\u001b[0m\n",
      "\u001b[34m#metrics {\"StartTime\": 1729711817.978595, \"EndTime\": 1729711817.978605, \"Dimensions\": {\"Algorithm\": \"Linear Learner\", \"Host\": \"algo-1\", \"Operation\": \"training\", \"epoch\": 0, \"model\": 5}, \"Metrics\": {\"train_binary_classification_cross_entropy_objective\": {\"sum\": 0.5180549059526636, \"count\": 1, \"min\": 0.5180549059526636, \"max\": 0.5180549059526636}}}\u001b[0m\n",
      "\u001b[34m#metrics {\"StartTime\": 1729711817.9786427, \"EndTime\": 1729711817.9786532, \"Dimensions\": {\"Algorithm\": \"Linear Learner\", \"Host\": \"algo-1\", \"Operation\": \"training\", \"epoch\": 0, \"model\": 6}, \"Metrics\": {\"train_binary_classification_cross_entropy_objective\": {\"sum\": 0.5077660869633386, \"count\": 1, \"min\": 0.5077660869633386, \"max\": 0.5077660869633386}}}\u001b[0m\n",
      "\u001b[34m#metrics {\"StartTime\": 1729711817.9787092, \"EndTime\": 1729711817.9787204, \"Dimensions\": {\"Algorithm\": \"Linear Learner\", \"Host\": \"algo-1\", \"Operation\": \"training\", \"epoch\": 0, \"model\": 7}, \"Metrics\": {\"train_binary_classification_cross_entropy_objective\": {\"sum\": 0.517978221694993, \"count\": 1, \"min\": 0.517978221694993, \"max\": 0.517978221694993}}}\u001b[0m\n",
      "\u001b[34m#metrics {\"StartTime\": 1729711817.978751, \"EndTime\": 1729711817.9787607, \"Dimensions\": {\"Algorithm\": \"Linear Learner\", \"Host\": \"algo-1\", \"Operation\": \"training\", \"epoch\": 0, \"model\": 8}, \"Metrics\": {\"train_binary_classification_cross_entropy_objective\": {\"sum\": 0.49459183180222815, \"count\": 1, \"min\": 0.49459183180222815, \"max\": 0.49459183180222815}}}\u001b[0m\n",
      "\u001b[34m#metrics {\"StartTime\": 1729711817.9787884, \"EndTime\": 1729711817.9787977, \"Dimensions\": {\"Algorithm\": \"Linear Learner\", \"Host\": \"algo-1\", \"Operation\": \"training\", \"epoch\": 0, \"model\": 9}, \"Metrics\": {\"train_binary_classification_cross_entropy_objective\": {\"sum\": 0.495060396060302, \"count\": 1, \"min\": 0.495060396060302, \"max\": 0.495060396060302}}}\u001b[0m\n",
      "\u001b[34m#metrics {\"StartTime\": 1729711817.9792268, \"EndTime\": 1729711817.9792447, \"Dimensions\": {\"Algorithm\": \"Linear Learner\", \"Host\": \"algo-1\", \"Operation\": \"training\", \"epoch\": 0, \"model\": 10}, \"Metrics\": {\"train_binary_classification_cross_entropy_objective\": {\"sum\": 0.49464722197646394, \"count\": 1, \"min\": 0.49464722197646394, \"max\": 0.49464722197646394}}}\u001b[0m\n",
      "\u001b[34m#metrics {\"StartTime\": 1729711817.979279, \"EndTime\": 1729711817.97929, \"Dimensions\": {\"Algorithm\": \"Linear Learner\", \"Host\": \"algo-1\", \"Operation\": \"training\", \"epoch\": 0, \"model\": 11}, \"Metrics\": {\"train_binary_classification_cross_entropy_objective\": {\"sum\": 0.4950538455601497, \"count\": 1, \"min\": 0.4950538455601497, \"max\": 0.4950538455601497}}}\u001b[0m\n",
      "\u001b[34m#metrics {\"StartTime\": 1729711817.979318, \"EndTime\": 1729711817.9793284, \"Dimensions\": {\"Algorithm\": \"Linear Learner\", \"Host\": \"algo-1\", \"Operation\": \"training\", \"epoch\": 0, \"model\": 12}, \"Metrics\": {\"train_binary_classification_cross_entropy_objective\": {\"sum\": 0.5069008852524131, \"count\": 1, \"min\": 0.5069008852524131, \"max\": 0.5069008852524131}}}\u001b[0m\n",
      "\u001b[34m#metrics {\"StartTime\": 1729711817.9793556, \"EndTime\": 1729711817.9793658, \"Dimensions\": {\"Algorithm\": \"Linear Learner\", \"Host\": \"algo-1\", \"Operation\": \"training\", \"epoch\": 0, \"model\": 13}, \"Metrics\": {\"train_binary_classification_cross_entropy_objective\": {\"sum\": 0.5162808814559143, \"count\": 1, \"min\": 0.5162808814559143, \"max\": 0.5162808814559143}}}\u001b[0m\n",
      "\u001b[34m#metrics {\"StartTime\": 1729711817.9793952, \"EndTime\": 1729711817.9794052, \"Dimensions\": {\"Algorithm\": \"Linear Learner\", \"Host\": \"algo-1\", \"Operation\": \"training\", \"epoch\": 0, \"model\": 14}, \"Metrics\": {\"train_binary_classification_cross_entropy_objective\": {\"sum\": 0.5069324212263848, \"count\": 1, \"min\": 0.5069324212263848, \"max\": 0.5069324212263848}}}\u001b[0m\n",
      "\u001b[34m#metrics {\"StartTime\": 1729711817.9794402, \"EndTime\": 1729711817.979451, \"Dimensions\": {\"Algorithm\": \"Linear Learner\", \"Host\": \"algo-1\", \"Operation\": \"training\", \"epoch\": 0, \"model\": 15}, \"Metrics\": {\"train_binary_classification_cross_entropy_objective\": {\"sum\": 0.5162835408248668, \"count\": 1, \"min\": 0.5162835408248668, \"max\": 0.5162835408248668}}}\u001b[0m\n",
      "\u001b[34m#metrics {\"StartTime\": 1729711817.979476, \"EndTime\": 1729711817.9794853, \"Dimensions\": {\"Algorithm\": \"Linear Learner\", \"Host\": \"algo-1\", \"Operation\": \"training\", \"epoch\": 0, \"model\": 16}, \"Metrics\": {\"train_binary_classification_cross_entropy_objective\": {\"sum\": 0.5092474207280243, \"count\": 1, \"min\": 0.5092474207280243, \"max\": 0.5092474207280243}}}\u001b[0m\n",
      "\u001b[34m#metrics {\"StartTime\": 1729711817.9795198, \"EndTime\": 1729711817.9795303, \"Dimensions\": {\"Algorithm\": \"Linear Learner\", \"Host\": \"algo-1\", \"Operation\": \"training\", \"epoch\": 0, \"model\": 17}, \"Metrics\": {\"train_binary_classification_cross_entropy_objective\": {\"sum\": 0.509342530510112, \"count\": 1, \"min\": 0.509342530510112, \"max\": 0.509342530510112}}}\u001b[0m\n",
      "\u001b[34m#metrics {\"StartTime\": 1729711817.9795609, \"EndTime\": 1729711817.979571, \"Dimensions\": {\"Algorithm\": \"Linear Learner\", \"Host\": \"algo-1\", \"Operation\": \"training\", \"epoch\": 0, \"model\": 18}, \"Metrics\": {\"train_binary_classification_cross_entropy_objective\": {\"sum\": 0.5092492774473418, \"count\": 1, \"min\": 0.5092492774473418, \"max\": 0.5092492774473418}}}\u001b[0m\n",
      "\u001b[34m#metrics {\"StartTime\": 1729711817.9796019, \"EndTime\": 1729711817.9796119, \"Dimensions\": {\"Algorithm\": \"Linear Learner\", \"Host\": \"algo-1\", \"Operation\": \"training\", \"epoch\": 0, \"model\": 19}, \"Metrics\": {\"train_binary_classification_cross_entropy_objective\": {\"sum\": 0.5093191935221354, \"count\": 1, \"min\": 0.5093191935221354, \"max\": 0.5093191935221354}}}\u001b[0m\n",
      "\u001b[34m#metrics {\"StartTime\": 1729711817.9796424, \"EndTime\": 1729711817.979652, \"Dimensions\": {\"Algorithm\": \"Linear Learner\", \"Host\": \"algo-1\", \"Operation\": \"training\", \"epoch\": 0, \"model\": 20}, \"Metrics\": {\"train_binary_classification_cross_entropy_objective\": {\"sum\": 0.5106103767838318, \"count\": 1, \"min\": 0.5106103767838318, \"max\": 0.5106103767838318}}}\u001b[0m\n",
      "\u001b[34m#metrics {\"StartTime\": 1729711817.9796865, \"EndTime\": 1729711817.9796953, \"Dimensions\": {\"Algorithm\": \"Linear Learner\", \"Host\": \"algo-1\", \"Operation\": \"training\", \"epoch\": 0, \"model\": 21}, \"Metrics\": {\"train_binary_classification_cross_entropy_objective\": {\"sum\": 0.5123927879916783, \"count\": 1, \"min\": 0.5123927879916783, \"max\": 0.5123927879916783}}}\u001b[0m\n",
      "\u001b[34m#metrics {\"StartTime\": 1729711817.9797316, \"EndTime\": 1729711817.9797423, \"Dimensions\": {\"Algorithm\": \"Linear Learner\", \"Host\": \"algo-1\", \"Operation\": \"training\", \"epoch\": 0, \"model\": 22}, \"Metrics\": {\"train_binary_classification_cross_entropy_objective\": {\"sum\": 0.5106277964880707, \"count\": 1, \"min\": 0.5106277964880707, \"max\": 0.5106277964880707}}}\u001b[0m\n",
      "\u001b[34m#metrics {\"StartTime\": 1729711817.979778, \"EndTime\": 1729711817.9797873, \"Dimensions\": {\"Algorithm\": \"Linear Learner\", \"Host\": \"algo-1\", \"Operation\": \"training\", \"epoch\": 0, \"model\": 23}, \"Metrics\": {\"train_binary_classification_cross_entropy_objective\": {\"sum\": 0.5123758518090671, \"count\": 1, \"min\": 0.5123758518090671, \"max\": 0.5123758518090671}}}\u001b[0m\n",
      "\u001b[34m#metrics {\"StartTime\": 1729711817.979822, \"EndTime\": 1729711817.9798317, \"Dimensions\": {\"Algorithm\": \"Linear Learner\", \"Host\": \"algo-1\", \"Operation\": \"training\", \"epoch\": 0, \"model\": 24}, \"Metrics\": {\"train_binary_classification_cross_entropy_objective\": {\"sum\": 0.5150557616580882, \"count\": 1, \"min\": 0.5150557616580882, \"max\": 0.5150557616580882}}}\u001b[0m\n",
      "\u001b[34m#metrics {\"StartTime\": 1729711817.9798667, \"EndTime\": 1729711817.979876, \"Dimensions\": {\"Algorithm\": \"Linear Learner\", \"Host\": \"algo-1\", \"Operation\": \"training\", \"epoch\": 0, \"model\": 25}, \"Metrics\": {\"train_binary_classification_cross_entropy_objective\": {\"sum\": 0.5150919902696522, \"count\": 1, \"min\": 0.5150919902696522, \"max\": 0.5150919902696522}}}\u001b[0m\n",
      "\u001b[34m#metrics {\"StartTime\": 1729711817.979907, \"EndTime\": 1729711817.9799166, \"Dimensions\": {\"Algorithm\": \"Linear Learner\", \"Host\": \"algo-1\", \"Operation\": \"training\", \"epoch\": 0, \"model\": 26}, \"Metrics\": {\"train_binary_classification_cross_entropy_objective\": {\"sum\": 0.5150556517201461, \"count\": 1, \"min\": 0.5150556517201461, \"max\": 0.5150556517201461}}}\u001b[0m\n",
      "\u001b[34m#metrics {\"StartTime\": 1729711817.9799433, \"EndTime\": 1729711817.9799519, \"Dimensions\": {\"Algorithm\": \"Linear Learner\", \"Host\": \"algo-1\", \"Operation\": \"training\", \"epoch\": 0, \"model\": 27}, \"Metrics\": {\"train_binary_classification_cross_entropy_objective\": {\"sum\": 0.5151178542904169, \"count\": 1, \"min\": 0.5151178542904169, \"max\": 0.5151178542904169}}}\u001b[0m\n",
      "\u001b[34m#metrics {\"StartTime\": 1729711817.9799883, \"EndTime\": 1729711817.979998, \"Dimensions\": {\"Algorithm\": \"Linear Learner\", \"Host\": \"algo-1\", \"Operation\": \"training\", \"epoch\": 0, \"model\": 28}, \"Metrics\": {\"train_binary_classification_cross_entropy_objective\": {\"sum\": 0.5150849417823535, \"count\": 1, \"min\": 0.5150849417823535, \"max\": 0.5150849417823535}}}\u001b[0m\n",
      "\u001b[34m#metrics {\"StartTime\": 1729711817.9800203, \"EndTime\": 1729711817.9800289, \"Dimensions\": {\"Algorithm\": \"Linear Learner\", \"Host\": \"algo-1\", \"Operation\": \"training\", \"epoch\": 0, \"model\": 29}, \"Metrics\": {\"train_binary_classification_cross_entropy_objective\": {\"sum\": 0.5158225962787594, \"count\": 1, \"min\": 0.5158225962787594, \"max\": 0.5158225962787594}}}\u001b[0m\n",
      "\u001b[34m#metrics {\"StartTime\": 1729711817.9800558, \"EndTime\": 1729711817.980065, \"Dimensions\": {\"Algorithm\": \"Linear Learner\", \"Host\": \"algo-1\", \"Operation\": \"training\", \"epoch\": 0, \"model\": 30}, \"Metrics\": {\"train_binary_classification_cross_entropy_objective\": {\"sum\": 0.5150726150606021, \"count\": 1, \"min\": 0.5150726150606021, \"max\": 0.5150726150606021}}}\u001b[0m\n",
      "\u001b[34m#metrics {\"StartTime\": 1729711817.9800954, \"EndTime\": 1729711817.9801047, \"Dimensions\": {\"Algorithm\": \"Linear Learner\", \"Host\": \"algo-1\", \"Operation\": \"training\", \"epoch\": 0, \"model\": 31}, \"Metrics\": {\"train_binary_classification_cross_entropy_objective\": {\"sum\": 0.5158060659706045, \"count\": 1, \"min\": 0.5158060659706045, \"max\": 0.5158060659706045}}}\u001b[0m\n",
      "\u001b[34m[10/23/2024 19:30:17 INFO 140356875958080] #quality_metric: host=algo-1, epoch=0, train binary_classification_cross_entropy_objective <loss>=0.49441907802196816\u001b[0m\n",
      "\u001b[34m[2024-10-23 19:30:17.999] [tensorio] [info] epoch_stats={\"data_pipeline\": \"/opt/ml/input/data/validation\", \"epoch\": 0, \"duration\": 32134, \"num_examples\": 1, \"num_bytes\": 420000}\u001b[0m\n",
      "\u001b[34m[2024-10-23 19:30:21.263] [tensorio] [info] epoch_stats={\"data_pipeline\": \"/opt/ml/input/data/validation\", \"epoch\": 2, \"duration\": 3264, \"num_examples\": 164, \"num_bytes\": 68694780}\u001b[0m\n",
      "\u001b[34m#metrics {\"StartTime\": 1729711821.2689993, \"EndTime\": 1729711821.2690516, \"Dimensions\": {\"Algorithm\": \"Linear Learner\", \"Host\": \"algo-1\", \"Operation\": \"training\", \"epoch\": 0, \"model\": 0}, \"Metrics\": {\"validation_binary_classification_cross_entropy_objective\": {\"sum\": 0.4922361828876067, \"count\": 1, \"min\": 0.4922361828876067, \"max\": 0.4922361828876067}}}\u001b[0m\n",
      "\u001b[34m#metrics {\"StartTime\": 1729711821.2691188, \"EndTime\": 1729711821.2691326, \"Dimensions\": {\"Algorithm\": \"Linear Learner\", \"Host\": \"algo-1\", \"Operation\": \"training\", \"epoch\": 0, \"model\": 1}, \"Metrics\": {\"validation_binary_classification_cross_entropy_objective\": {\"sum\": 0.49371799426103025, \"count\": 1, \"min\": 0.49371799426103025, \"max\": 0.49371799426103025}}}\u001b[0m\n",
      "\u001b[34m#metrics {\"StartTime\": 1729711821.2691736, \"EndTime\": 1729711821.2691853, \"Dimensions\": {\"Algorithm\": \"Linear Learner\", \"Host\": \"algo-1\", \"Operation\": \"training\", \"epoch\": 0, \"model\": 2}, \"Metrics\": {\"validation_binary_classification_cross_entropy_objective\": {\"sum\": 0.49224402802049355, \"count\": 1, \"min\": 0.49224402802049355, \"max\": 0.49224402802049355}}}\u001b[0m\n",
      "\u001b[34m#metrics {\"StartTime\": 1729711821.2692204, \"EndTime\": 1729711821.2692306, \"Dimensions\": {\"Algorithm\": \"Linear Learner\", \"Host\": \"algo-1\", \"Operation\": \"training\", \"epoch\": 0, \"model\": 3}, \"Metrics\": {\"validation_binary_classification_cross_entropy_objective\": {\"sum\": 0.493714807024195, \"count\": 1, \"min\": 0.493714807024195, \"max\": 0.493714807024195}}}\u001b[0m\n",
      "\u001b[34m#metrics {\"StartTime\": 1729711821.2692642, \"EndTime\": 1729711821.2692747, \"Dimensions\": {\"Algorithm\": \"Linear Learner\", \"Host\": \"algo-1\", \"Operation\": \"training\", \"epoch\": 0, \"model\": 4}, \"Metrics\": {\"validation_binary_classification_cross_entropy_objective\": {\"sum\": 0.5024027179489942, \"count\": 1, \"min\": 0.5024027179489942, \"max\": 0.5024027179489942}}}\u001b[0m\n",
      "\u001b[34m#metrics {\"StartTime\": 1729711821.2693105, \"EndTime\": 1729711821.2693202, \"Dimensions\": {\"Algorithm\": \"Linear Learner\", \"Host\": \"algo-1\", \"Operation\": \"training\", \"epoch\": 0, \"model\": 5}, \"Metrics\": {\"validation_binary_classification_cross_entropy_objective\": {\"sum\": 0.5137233577749706, \"count\": 1, \"min\": 0.5137233577749706, \"max\": 0.5137233577749706}}}\u001b[0m\n",
      "\u001b[34m#metrics {\"StartTime\": 1729711821.2693489, \"EndTime\": 1729711821.2693594, \"Dimensions\": {\"Algorithm\": \"Linear Learner\", \"Host\": \"algo-1\", \"Operation\": \"training\", \"epoch\": 0, \"model\": 6}, \"Metrics\": {\"validation_binary_classification_cross_entropy_objective\": {\"sum\": 0.502408973941492, \"count\": 1, \"min\": 0.502408973941492, \"max\": 0.502408973941492}}}\u001b[0m\n",
      "\u001b[34m#metrics {\"StartTime\": 1729711821.2693963, \"EndTime\": 1729711821.2694056, \"Dimensions\": {\"Algorithm\": \"Linear Learner\", \"Host\": \"algo-1\", \"Operation\": \"training\", \"epoch\": 0, \"model\": 7}, \"Metrics\": {\"validation_binary_classification_cross_entropy_objective\": {\"sum\": 0.513738437722767, \"count\": 1, \"min\": 0.513738437722767, \"max\": 0.513738437722767}}}\u001b[0m\n",
      "\u001b[34m#metrics {\"StartTime\": 1729711821.2694454, \"EndTime\": 1729711821.269453, \"Dimensions\": {\"Algorithm\": \"Linear Learner\", \"Host\": \"algo-1\", \"Operation\": \"training\", \"epoch\": 0, \"model\": 8}, \"Metrics\": {\"validation_binary_classification_cross_entropy_objective\": {\"sum\": 0.4924442656802171, \"count\": 1, \"min\": 0.4924442656802171, \"max\": 0.4924442656802171}}}\u001b[0m\n",
      "\u001b[34m#metrics {\"StartTime\": 1729711821.2694733, \"EndTime\": 1729711821.2694795, \"Dimensions\": {\"Algorithm\": \"Linear Learner\", \"Host\": \"algo-1\", \"Operation\": \"training\", \"epoch\": 0, \"model\": 9}, \"Metrics\": {\"validation_binary_classification_cross_entropy_objective\": {\"sum\": 0.4938504306499179, \"count\": 1, \"min\": 0.4938504306499179, \"max\": 0.4938504306499179}}}\u001b[0m\n",
      "\u001b[34m#metrics {\"StartTime\": 1729711821.269498, \"EndTime\": 1729711821.269504, \"Dimensions\": {\"Algorithm\": \"Linear Learner\", \"Host\": \"algo-1\", \"Operation\": \"training\", \"epoch\": 0, \"model\": 10}, \"Metrics\": {\"validation_binary_classification_cross_entropy_objective\": {\"sum\": 0.49244313908286247, \"count\": 1, \"min\": 0.49244313908286247, \"max\": 0.49244313908286247}}}\u001b[0m\n",
      "\u001b[34m#metrics {\"StartTime\": 1729711821.269523, \"EndTime\": 1729711821.2695286, \"Dimensions\": {\"Algorithm\": \"Linear Learner\", \"Host\": \"algo-1\", \"Operation\": \"training\", \"epoch\": 0, \"model\": 11}, \"Metrics\": {\"validation_binary_classification_cross_entropy_objective\": {\"sum\": 0.49385162665671534, \"count\": 1, \"min\": 0.49385162665671534, \"max\": 0.49385162665671534}}}\u001b[0m\n",
      "\u001b[34m#metrics {\"StartTime\": 1729711821.2695472, \"EndTime\": 1729711821.269553, \"Dimensions\": {\"Algorithm\": \"Linear Learner\", \"Host\": \"algo-1\", \"Operation\": \"training\", \"epoch\": 0, \"model\": 12}, \"Metrics\": {\"validation_binary_classification_cross_entropy_objective\": {\"sum\": 0.5018372500400275, \"count\": 1, \"min\": 0.5018372500400275, \"max\": 0.5018372500400275}}}\u001b[0m\n",
      "\u001b[34m#metrics {\"StartTime\": 1729711821.2695715, \"EndTime\": 1729711821.2695773, \"Dimensions\": {\"Algorithm\": \"Linear Learner\", \"Host\": \"algo-1\", \"Operation\": \"training\", \"epoch\": 0, \"model\": 13}, \"Metrics\": {\"validation_binary_classification_cross_entropy_objective\": {\"sum\": 0.511969967402818, \"count\": 1, \"min\": 0.511969967402818, \"max\": 0.511969967402818}}}\u001b[0m\n",
      "\u001b[34m#metrics {\"StartTime\": 1729711821.2695954, \"EndTime\": 1729711821.269601, \"Dimensions\": {\"Algorithm\": \"Linear Learner\", \"Host\": \"algo-1\", \"Operation\": \"training\", \"epoch\": 0, \"model\": 14}, \"Metrics\": {\"validation_binary_classification_cross_entropy_objective\": {\"sum\": 0.5018420978791245, \"count\": 1, \"min\": 0.5018420978791245, \"max\": 0.5018420978791245}}}\u001b[0m\n",
      "\u001b[34m#metrics {\"StartTime\": 1729711821.2696195, \"EndTime\": 1729711821.2696254, \"Dimensions\": {\"Algorithm\": \"Linear Learner\", \"Host\": \"algo-1\", \"Operation\": \"training\", \"epoch\": 0, \"model\": 15}, \"Metrics\": {\"validation_binary_classification_cross_entropy_objective\": {\"sum\": 0.5119747949042017, \"count\": 1, \"min\": 0.5119747949042017, \"max\": 0.5119747949042017}}}\u001b[0m\n",
      "\u001b[34m#metrics {\"StartTime\": 1729711821.2696462, \"EndTime\": 1729711821.2696538, \"Dimensions\": {\"Algorithm\": \"Linear Learner\", \"Host\": \"algo-1\", \"Operation\": \"training\", \"epoch\": 0, \"model\": 16}, \"Metrics\": {\"validation_binary_classification_cross_entropy_objective\": {\"sum\": 0.507389666816822, \"count\": 1, \"min\": 0.507389666816822, \"max\": 0.507389666816822}}}\u001b[0m\n",
      "\u001b[34m#metrics {\"StartTime\": 1729711821.2696729, \"EndTime\": 1729711821.2696788, \"Dimensions\": {\"Algorithm\": \"Linear Learner\", \"Host\": \"algo-1\", \"Operation\": \"training\", \"epoch\": 0, \"model\": 17}, \"Metrics\": {\"validation_binary_classification_cross_entropy_objective\": {\"sum\": 0.507958198816838, \"count\": 1, \"min\": 0.507958198816838, \"max\": 0.507958198816838}}}\u001b[0m\n",
      "\u001b[34m#metrics {\"StartTime\": 1729711821.269697, \"EndTime\": 1729711821.2697027, \"Dimensions\": {\"Algorithm\": \"Linear Learner\", \"Host\": \"algo-1\", \"Operation\": \"training\", \"epoch\": 0, \"model\": 18}, \"Metrics\": {\"validation_binary_classification_cross_entropy_objective\": {\"sum\": 0.5073919821441775, \"count\": 1, \"min\": 0.5073919821441775, \"max\": 0.5073919821441775}}}\u001b[0m\n",
      "\u001b[34m#metrics {\"StartTime\": 1729711821.2697232, \"EndTime\": 1729711821.2697291, \"Dimensions\": {\"Algorithm\": \"Linear Learner\", \"Host\": \"algo-1\", \"Operation\": \"training\", \"epoch\": 0, \"model\": 19}, \"Metrics\": {\"validation_binary_classification_cross_entropy_objective\": {\"sum\": 0.5079694099345339, \"count\": 1, \"min\": 0.5079694099345339, \"max\": 0.5079694099345339}}}\u001b[0m\n",
      "\u001b[34m#metrics {\"StartTime\": 1729711821.2697475, \"EndTime\": 1729711821.2697527, \"Dimensions\": {\"Algorithm\": \"Linear Learner\", \"Host\": \"algo-1\", \"Operation\": \"training\", \"epoch\": 0, \"model\": 20}, \"Metrics\": {\"validation_binary_classification_cross_entropy_objective\": {\"sum\": 0.5094055405653384, \"count\": 1, \"min\": 0.5094055405653384, \"max\": 0.5094055405653384}}}\u001b[0m\n",
      "\u001b[34m#metrics {\"StartTime\": 1729711821.2697713, \"EndTime\": 1729711821.2697766, \"Dimensions\": {\"Algorithm\": \"Linear Learner\", \"Host\": \"algo-1\", \"Operation\": \"training\", \"epoch\": 0, \"model\": 21}, \"Metrics\": {\"validation_binary_classification_cross_entropy_objective\": {\"sum\": 0.5087711326601874, \"count\": 1, \"min\": 0.5087711326601874, \"max\": 0.5087711326601874}}}\u001b[0m\n",
      "\u001b[34m#metrics {\"StartTime\": 1729711821.2697947, \"EndTime\": 1729711821.2698004, \"Dimensions\": {\"Algorithm\": \"Linear Learner\", \"Host\": \"algo-1\", \"Operation\": \"training\", \"epoch\": 0, \"model\": 22}, \"Metrics\": {\"validation_binary_classification_cross_entropy_objective\": {\"sum\": 0.5093914670544631, \"count\": 1, \"min\": 0.5093914670544631, \"max\": 0.5093914670544631}}}\u001b[0m\n",
      "\u001b[34m#metrics {\"StartTime\": 1729711821.2698188, \"EndTime\": 1729711821.2698243, \"Dimensions\": {\"Algorithm\": \"Linear Learner\", \"Host\": \"algo-1\", \"Operation\": \"training\", \"epoch\": 0, \"model\": 23}, \"Metrics\": {\"validation_binary_classification_cross_entropy_objective\": {\"sum\": 0.5087676648002284, \"count\": 1, \"min\": 0.5087676648002284, \"max\": 0.5087676648002284}}}\u001b[0m\n",
      "\u001b[34m#metrics {\"StartTime\": 1729711821.2698421, \"EndTime\": 1729711821.269848, \"Dimensions\": {\"Algorithm\": \"Linear Learner\", \"Host\": \"algo-1\", \"Operation\": \"training\", \"epoch\": 0, \"model\": 24}, \"Metrics\": {\"validation_binary_classification_cross_entropy_objective\": {\"sum\": 0.5137445026527124, \"count\": 1, \"min\": 0.5137445026527124, \"max\": 0.5137445026527124}}}\u001b[0m\n",
      "\u001b[34m#metrics {\"StartTime\": 1729711821.2698667, \"EndTime\": 1729711821.269875, \"Dimensions\": {\"Algorithm\": \"Linear Learner\", \"Host\": \"algo-1\", \"Operation\": \"training\", \"epoch\": 0, \"model\": 25}, \"Metrics\": {\"validation_binary_classification_cross_entropy_objective\": {\"sum\": 0.5144406922387932, \"count\": 1, \"min\": 0.5144406922387932, \"max\": 0.5144406922387932}}}\u001b[0m\n",
      "\u001b[34m#metrics {\"StartTime\": 1729711821.2699049, \"EndTime\": 1729711821.2699134, \"Dimensions\": {\"Algorithm\": \"Linear Learner\", \"Host\": \"algo-1\", \"Operation\": \"training\", \"epoch\": 0, \"model\": 26}, \"Metrics\": {\"validation_binary_classification_cross_entropy_objective\": {\"sum\": 0.513748712745907, \"count\": 1, \"min\": 0.513748712745907, \"max\": 0.513748712745907}}}\u001b[0m\n",
      "\u001b[34m#metrics {\"StartTime\": 1729711821.2699404, \"EndTime\": 1729711821.2699497, \"Dimensions\": {\"Algorithm\": \"Linear Learner\", \"Host\": \"algo-1\", \"Operation\": \"training\", \"epoch\": 0, \"model\": 27}, \"Metrics\": {\"validation_binary_classification_cross_entropy_objective\": {\"sum\": 0.5144327125784646, \"count\": 1, \"min\": 0.5144327125784646, \"max\": 0.5144327125784646}}}\u001b[0m\n",
      "\u001b[34m#metrics {\"StartTime\": 1729711821.2699695, \"EndTime\": 1729711821.2699752, \"Dimensions\": {\"Algorithm\": \"Linear Learner\", \"Host\": \"algo-1\", \"Operation\": \"training\", \"epoch\": 0, \"model\": 28}, \"Metrics\": {\"validation_binary_classification_cross_entropy_objective\": {\"sum\": 0.5153379775868222, \"count\": 1, \"min\": 0.5153379775868222, \"max\": 0.5153379775868222}}}\u001b[0m\n",
      "\u001b[34m#metrics {\"StartTime\": 1729711821.2699938, \"EndTime\": 1729711821.269999, \"Dimensions\": {\"Algorithm\": \"Linear Learner\", \"Host\": \"algo-1\", \"Operation\": \"training\", \"epoch\": 0, \"model\": 29}, \"Metrics\": {\"validation_binary_classification_cross_entropy_objective\": {\"sum\": 0.5140370569238514, \"count\": 1, \"min\": 0.5140370569238514, \"max\": 0.5140370569238514}}}\u001b[0m\n",
      "\u001b[34m#metrics {\"StartTime\": 1729711821.2700186, \"EndTime\": 1729711821.2700243, \"Dimensions\": {\"Algorithm\": \"Linear Learner\", \"Host\": \"algo-1\", \"Operation\": \"training\", \"epoch\": 0, \"model\": 30}, \"Metrics\": {\"validation_binary_classification_cross_entropy_objective\": {\"sum\": 0.5153071971111032, \"count\": 1, \"min\": 0.5153071971111032, \"max\": 0.5153071971111032}}}\u001b[0m\n",
      "\u001b[34m#metrics {\"StartTime\": 1729711821.2700427, \"EndTime\": 1729711821.270048, \"Dimensions\": {\"Algorithm\": \"Linear Learner\", \"Host\": \"algo-1\", \"Operation\": \"training\", \"epoch\": 0, \"model\": 31}, \"Metrics\": {\"validation_binary_classification_cross_entropy_objective\": {\"sum\": 0.5141748693726227, \"count\": 1, \"min\": 0.5141748693726227, \"max\": 0.5141748693726227}}}\u001b[0m\n",
      "\u001b[34m[10/23/2024 19:30:21 INFO 140356875958080] #quality_metric: host=algo-1, epoch=0, validation binary_classification_cross_entropy_objective <loss>=0.4922361828876067\u001b[0m\n",
      "\u001b[34m[10/23/2024 19:30:21 INFO 140356875958080] #early_stopping_criteria_metric: host=algo-1, epoch=0, criteria=binary_classification_cross_entropy_objective, value=0.4922361828876067\u001b[0m\n",
      "\u001b[34m[10/23/2024 19:30:21 INFO 140356875958080] Epoch 0: Loss improved. Updating best model\u001b[0m\n",
      "\u001b[34m[10/23/2024 19:30:21 INFO 140356875958080] Saving model for epoch: 0\u001b[0m\n",
      "\u001b[34m[10/23/2024 19:30:21 INFO 140356875958080] Saved checkpoint to \"/tmp/tmp15zuuy1v/mx-mod-0000.params\"\u001b[0m\n",
      "\u001b[34m[10/23/2024 19:30:21 INFO 140356875958080] #progress_metric: host=algo-1, completed 6.666666666666667 % of epochs\u001b[0m\n",
      "\u001b[34m#metrics {\"StartTime\": 1729711786.1389039, \"EndTime\": 1729711821.2769628, \"Dimensions\": {\"Algorithm\": \"Linear Learner\", \"Host\": \"algo-1\", \"Operation\": \"training\", \"epoch\": 0, \"Meta\": \"training_data_iter\"}, \"Metrics\": {\"Total Records Seen\": {\"sum\": 1320472.0, \"count\": 1, \"min\": 1320472, \"max\": 1320472}, \"Total Batches Seen\": {\"sum\": 1321.0, \"count\": 1, \"min\": 1321, \"max\": 1321}, \"Max Records Seen Between Resets\": {\"sum\": 1308472.0, \"count\": 1, \"min\": 1308472, \"max\": 1308472}, \"Max Batches Seen Between Resets\": {\"sum\": 1309.0, \"count\": 1, \"min\": 1309, \"max\": 1309}, \"Reset Count\": {\"sum\": 3.0, \"count\": 1, \"min\": 3, \"max\": 3}, \"Number of Records Since Last Reset\": {\"sum\": 1308472.0, \"count\": 1, \"min\": 1308472, \"max\": 1308472}, \"Number of Batches Since Last Reset\": {\"sum\": 1309.0, \"count\": 1, \"min\": 1309, \"max\": 1309}}}\u001b[0m\n",
      "\u001b[34m[10/23/2024 19:30:21 INFO 140356875958080] #throughput_metric: host=algo-1, train throughput=37237.918749631186 records/second\u001b[0m\n",
      "\u001b[34m[2024-10-23 19:30:52.887] [tensorio] [info] epoch_stats={\"data_pipeline\": \"/opt/ml/input/data/train\", \"epoch\": 5, \"duration\": 31609, \"num_examples\": 1309, \"num_bytes\": 549558240}\u001b[0m\n",
      "\u001b[34m#metrics {\"StartTime\": 1729711852.8874452, \"EndTime\": 1729711852.8875148, \"Dimensions\": {\"Algorithm\": \"Linear Learner\", \"Host\": \"algo-1\", \"Operation\": \"training\", \"epoch\": 1, \"model\": 0}, \"Metrics\": {\"train_binary_classification_cross_entropy_objective\": {\"sum\": 0.49228314006000484, \"count\": 1, \"min\": 0.49228314006000484, \"max\": 0.49228314006000484}}}\u001b[0m\n",
      "\u001b[34m#metrics {\"StartTime\": 1729711852.8875873, \"EndTime\": 1729711852.887603, \"Dimensions\": {\"Algorithm\": \"Linear Learner\", \"Host\": \"algo-1\", \"Operation\": \"training\", \"epoch\": 1, \"model\": 1}, \"Metrics\": {\"train_binary_classification_cross_entropy_objective\": {\"sum\": 0.49331374074486783, \"count\": 1, \"min\": 0.49331374074486783, \"max\": 0.49331374074486783}}}\u001b[0m\n",
      "\u001b[34m#metrics {\"StartTime\": 1729711852.8876405, \"EndTime\": 1729711852.8876526, \"Dimensions\": {\"Algorithm\": \"Linear Learner\", \"Host\": \"algo-1\", \"Operation\": \"training\", \"epoch\": 1, \"model\": 2}, \"Metrics\": {\"train_binary_classification_cross_entropy_objective\": {\"sum\": 0.49228742414002025, \"count\": 1, \"min\": 0.49228742414002025, \"max\": 0.49228742414002025}}}\u001b[0m\n",
      "\u001b[34m#metrics {\"StartTime\": 1729711852.8876846, \"EndTime\": 1729711852.8876946, \"Dimensions\": {\"Algorithm\": \"Linear Learner\", \"Host\": \"algo-1\", \"Operation\": \"training\", \"epoch\": 1, \"model\": 3}, \"Metrics\": {\"train_binary_classification_cross_entropy_objective\": {\"sum\": 0.49331079283548057, \"count\": 1, \"min\": 0.49331079283548057, \"max\": 0.49331079283548057}}}\u001b[0m\n",
      "\u001b[34m#metrics {\"StartTime\": 1729711852.8877273, \"EndTime\": 1729711852.8877385, \"Dimensions\": {\"Algorithm\": \"Linear Learner\", \"Host\": \"algo-1\", \"Operation\": \"training\", \"epoch\": 1, \"model\": 4}, \"Metrics\": {\"train_binary_classification_cross_entropy_objective\": {\"sum\": 0.49646136619264564, \"count\": 1, \"min\": 0.49646136619264564, \"max\": 0.49646136619264564}}}\u001b[0m\n",
      "\u001b[34m#metrics {\"StartTime\": 1729711852.8877702, \"EndTime\": 1729711852.8877795, \"Dimensions\": {\"Algorithm\": \"Linear Learner\", \"Host\": \"algo-1\", \"Operation\": \"training\", \"epoch\": 1, \"model\": 5}, \"Metrics\": {\"train_binary_classification_cross_entropy_objective\": {\"sum\": 0.5144310009924279, \"count\": 1, \"min\": 0.5144310009924279, \"max\": 0.5144310009924279}}}\u001b[0m\n",
      "\u001b[34m#metrics {\"StartTime\": 1729711852.8878143, \"EndTime\": 1729711852.8878243, \"Dimensions\": {\"Algorithm\": \"Linear Learner\", \"Host\": \"algo-1\", \"Operation\": \"training\", \"epoch\": 1, \"model\": 6}, \"Metrics\": {\"train_binary_classification_cross_entropy_objective\": {\"sum\": 0.4964607098314011, \"count\": 1, \"min\": 0.4964607098314011, \"max\": 0.4964607098314011}}}\u001b[0m\n",
      "\u001b[34m#metrics {\"StartTime\": 1729711852.8878462, \"EndTime\": 1729711852.8878522, \"Dimensions\": {\"Algorithm\": \"Linear Learner\", \"Host\": \"algo-1\", \"Operation\": \"training\", \"epoch\": 1, \"model\": 7}, \"Metrics\": {\"train_binary_classification_cross_entropy_objective\": {\"sum\": 0.5144362137587428, \"count\": 1, \"min\": 0.5144362137587428, \"max\": 0.5144362137587428}}}\u001b[0m\n",
      "\u001b[34m#metrics {\"StartTime\": 1729711852.8878798, \"EndTime\": 1729711852.8878891, \"Dimensions\": {\"Algorithm\": \"Linear Learner\", \"Host\": \"algo-1\", \"Operation\": \"training\", \"epoch\": 1, \"model\": 8}, \"Metrics\": {\"train_binary_classification_cross_entropy_objective\": {\"sum\": 0.49245717459862387, \"count\": 1, \"min\": 0.49245717459862387, \"max\": 0.49245717459862387}}}\u001b[0m\n",
      "\u001b[34m#metrics {\"StartTime\": 1729711852.8879192, \"EndTime\": 1729711852.8879282, \"Dimensions\": {\"Algorithm\": \"Linear Learner\", \"Host\": \"algo-1\", \"Operation\": \"training\", \"epoch\": 1, \"model\": 9}, \"Metrics\": {\"train_binary_classification_cross_entropy_objective\": {\"sum\": 0.4934426046482284, \"count\": 1, \"min\": 0.4934426046482284, \"max\": 0.4934426046482284}}}\u001b[0m\n",
      "\u001b[34m#metrics {\"StartTime\": 1729711852.8879547, \"EndTime\": 1729711852.8879633, \"Dimensions\": {\"Algorithm\": \"Linear Learner\", \"Host\": \"algo-1\", \"Operation\": \"training\", \"epoch\": 1, \"model\": 10}, \"Metrics\": {\"train_binary_classification_cross_entropy_objective\": {\"sum\": 0.49245665831959573, \"count\": 1, \"min\": 0.49245665831959573, \"max\": 0.49245665831959573}}}\u001b[0m\n",
      "\u001b[34m#metrics {\"StartTime\": 1729711852.8879938, \"EndTime\": 1729711852.8880007, \"Dimensions\": {\"Algorithm\": \"Linear Learner\", \"Host\": \"algo-1\", \"Operation\": \"training\", \"epoch\": 1, \"model\": 11}, \"Metrics\": {\"train_binary_classification_cross_entropy_objective\": {\"sum\": 0.4934425971821543, \"count\": 1, \"min\": 0.4934425971821543, \"max\": 0.4934425971821543}}}\u001b[0m\n",
      "\u001b[34m#metrics {\"StartTime\": 1729711852.8880312, \"EndTime\": 1729711852.8880398, \"Dimensions\": {\"Algorithm\": \"Linear Learner\", \"Host\": \"algo-1\", \"Operation\": \"training\", \"epoch\": 1, \"model\": 12}, \"Metrics\": {\"train_binary_classification_cross_entropy_objective\": {\"sum\": 0.49639215120554697, \"count\": 1, \"min\": 0.49639215120554697, \"max\": 0.49639215120554697}}}\u001b[0m\n",
      "\u001b[34m#metrics {\"StartTime\": 1729711852.8880773, \"EndTime\": 1729711852.888088, \"Dimensions\": {\"Algorithm\": \"Linear Learner\", \"Host\": \"algo-1\", \"Operation\": \"training\", \"epoch\": 1, \"model\": 13}, \"Metrics\": {\"train_binary_classification_cross_entropy_objective\": {\"sum\": 0.5130147625284457, \"count\": 1, \"min\": 0.5130147625284457, \"max\": 0.5130147625284457}}}\u001b[0m\n",
      "\u001b[34m#metrics {\"StartTime\": 1729711852.8881137, \"EndTime\": 1729711852.888122, \"Dimensions\": {\"Algorithm\": \"Linear Learner\", \"Host\": \"algo-1\", \"Operation\": \"training\", \"epoch\": 1, \"model\": 14}, \"Metrics\": {\"train_binary_classification_cross_entropy_objective\": {\"sum\": 0.4963917771085687, \"count\": 1, \"min\": 0.4963917771085687, \"max\": 0.4963917771085687}}}\u001b[0m\n",
      "\u001b[34m#metrics {\"StartTime\": 1729711852.8881493, \"EndTime\": 1729711852.888458, \"Dimensions\": {\"Algorithm\": \"Linear Learner\", \"Host\": \"algo-1\", \"Operation\": \"training\", \"epoch\": 1, \"model\": 15}, \"Metrics\": {\"train_binary_classification_cross_entropy_objective\": {\"sum\": 0.5130139476764457, \"count\": 1, \"min\": 0.5130139476764457, \"max\": 0.5130139476764457}}}\u001b[0m\n",
      "\u001b[34m#metrics {\"StartTime\": 1729711852.88851, \"EndTime\": 1729711852.8885264, \"Dimensions\": {\"Algorithm\": \"Linear Learner\", \"Host\": \"algo-1\", \"Operation\": \"training\", \"epoch\": 1, \"model\": 16}, \"Metrics\": {\"train_binary_classification_cross_entropy_objective\": {\"sum\": 0.5078463724585484, \"count\": 1, \"min\": 0.5078463724585484, \"max\": 0.5078463724585484}}}\u001b[0m\n",
      "\u001b[34m#metrics {\"StartTime\": 1729711852.8885517, \"EndTime\": 1729711852.8885612, \"Dimensions\": {\"Algorithm\": \"Linear Learner\", \"Host\": \"algo-1\", \"Operation\": \"training\", \"epoch\": 1, \"model\": 17}, \"Metrics\": {\"train_binary_classification_cross_entropy_objective\": {\"sum\": 0.5080711916302322, \"count\": 1, \"min\": 0.5080711916302322, \"max\": 0.5080711916302322}}}\u001b[0m\n",
      "\u001b[34m#metrics {\"StartTime\": 1729711852.8885949, \"EndTime\": 1729711852.8886032, \"Dimensions\": {\"Algorithm\": \"Linear Learner\", \"Host\": \"algo-1\", \"Operation\": \"training\", \"epoch\": 1, \"model\": 18}, \"Metrics\": {\"train_binary_classification_cross_entropy_objective\": {\"sum\": 0.507846385757493, \"count\": 1, \"min\": 0.507846385757493, \"max\": 0.507846385757493}}}\u001b[0m\n",
      "\u001b[34m#metrics {\"StartTime\": 1729711852.8886356, \"EndTime\": 1729711852.888645, \"Dimensions\": {\"Algorithm\": \"Linear Learner\", \"Host\": \"algo-1\", \"Operation\": \"training\", \"epoch\": 1, \"model\": 19}, \"Metrics\": {\"train_binary_classification_cross_entropy_objective\": {\"sum\": 0.5080714449167981, \"count\": 1, \"min\": 0.5080714449167981, \"max\": 0.5080714449167981}}}\u001b[0m\n",
      "\u001b[34m#metrics {\"StartTime\": 1729711852.8886802, \"EndTime\": 1729711852.8886902, \"Dimensions\": {\"Algorithm\": \"Linear Learner\", \"Host\": \"algo-1\", \"Operation\": \"training\", \"epoch\": 1, \"model\": 20}, \"Metrics\": {\"train_binary_classification_cross_entropy_objective\": {\"sum\": 0.5086650011721736, \"count\": 1, \"min\": 0.5086650011721736, \"max\": 0.5086650011721736}}}\u001b[0m\n",
      "\u001b[34m#metrics {\"StartTime\": 1729711852.888723, \"EndTime\": 1729711852.8887298, \"Dimensions\": {\"Algorithm\": \"Linear Learner\", \"Host\": \"algo-1\", \"Operation\": \"training\", \"epoch\": 1, \"model\": 21}, \"Metrics\": {\"train_binary_classification_cross_entropy_objective\": {\"sum\": 0.5115934850710248, \"count\": 1, \"min\": 0.5115934850710248, \"max\": 0.5115934850710248}}}\u001b[0m\n",
      "\u001b[34m#metrics {\"StartTime\": 1729711852.888752, \"EndTime\": 1729711852.888761, \"Dimensions\": {\"Algorithm\": \"Linear Learner\", \"Host\": \"algo-1\", \"Operation\": \"training\", \"epoch\": 1, \"model\": 22}, \"Metrics\": {\"train_binary_classification_cross_entropy_objective\": {\"sum\": 0.5086647254640538, \"count\": 1, \"min\": 0.5086647254640538, \"max\": 0.5086647254640538}}}\u001b[0m\n",
      "\u001b[34m#metrics {\"StartTime\": 1729711852.888791, \"EndTime\": 1729711852.888799, \"Dimensions\": {\"Algorithm\": \"Linear Learner\", \"Host\": \"algo-1\", \"Operation\": \"training\", \"epoch\": 1, \"model\": 23}, \"Metrics\": {\"train_binary_classification_cross_entropy_objective\": {\"sum\": 0.5115928985875681, \"count\": 1, \"min\": 0.5115928985875681, \"max\": 0.5115928985875681}}}\u001b[0m\n",
      "\u001b[34m#metrics {\"StartTime\": 1729711852.8888338, \"EndTime\": 1729711852.8888443, \"Dimensions\": {\"Algorithm\": \"Linear Learner\", \"Host\": \"algo-1\", \"Operation\": \"training\", \"epoch\": 1, \"model\": 24}, \"Metrics\": {\"train_binary_classification_cross_entropy_objective\": {\"sum\": 0.5137818192881546, \"count\": 1, \"min\": 0.5137818192881546, \"max\": 0.5137818192881546}}}\u001b[0m\n",
      "\u001b[34m#metrics {\"StartTime\": 1729711852.8888829, \"EndTime\": 1729711852.8888924, \"Dimensions\": {\"Algorithm\": \"Linear Learner\", \"Host\": \"algo-1\", \"Operation\": \"training\", \"epoch\": 1, \"model\": 25}, \"Metrics\": {\"train_binary_classification_cross_entropy_objective\": {\"sum\": 0.5138797507096503, \"count\": 1, \"min\": 0.5138797507096503, \"max\": 0.5138797507096503}}}\u001b[0m\n",
      "\u001b[34m#metrics {\"StartTime\": 1729711852.8889294, \"EndTime\": 1729711852.8889387, \"Dimensions\": {\"Algorithm\": \"Linear Learner\", \"Host\": \"algo-1\", \"Operation\": \"training\", \"epoch\": 1, \"model\": 26}, \"Metrics\": {\"train_binary_classification_cross_entropy_objective\": {\"sum\": 0.5137817303252147, \"count\": 1, \"min\": 0.5137817303252147, \"max\": 0.5137817303252147}}}\u001b[0m\n",
      "\u001b[34m#metrics {\"StartTime\": 1729711852.8889735, \"EndTime\": 1729711852.8889835, \"Dimensions\": {\"Algorithm\": \"Linear Learner\", \"Host\": \"algo-1\", \"Operation\": \"training\", \"epoch\": 1, \"model\": 27}, \"Metrics\": {\"train_binary_classification_cross_entropy_objective\": {\"sum\": 0.5138796918443219, \"count\": 1, \"min\": 0.5138796918443219, \"max\": 0.5138796918443219}}}\u001b[0m\n",
      "\u001b[34m#metrics {\"StartTime\": 1729711852.8890169, \"EndTime\": 1729711852.8890266, \"Dimensions\": {\"Algorithm\": \"Linear Learner\", \"Host\": \"algo-1\", \"Operation\": \"training\", \"epoch\": 1, \"model\": 28}, \"Metrics\": {\"train_binary_classification_cross_entropy_objective\": {\"sum\": 0.5141631708174306, \"count\": 1, \"min\": 0.5141631708174306, \"max\": 0.5141631708174306}}}\u001b[0m\n",
      "\u001b[34m#metrics {\"StartTime\": 1729711852.8890595, \"EndTime\": 1729711852.8890665, \"Dimensions\": {\"Algorithm\": \"Linear Learner\", \"Host\": \"algo-1\", \"Operation\": \"training\", \"epoch\": 1, \"model\": 29}, \"Metrics\": {\"train_binary_classification_cross_entropy_objective\": {\"sum\": 0.5152498789096097, \"count\": 1, \"min\": 0.5152498789096097, \"max\": 0.5152498789096097}}}\u001b[0m\n",
      "\u001b[34m#metrics {\"StartTime\": 1729711852.8890932, \"EndTime\": 1729711852.8891013, \"Dimensions\": {\"Algorithm\": \"Linear Learner\", \"Host\": \"algo-1\", \"Operation\": \"training\", \"epoch\": 1, \"model\": 30}, \"Metrics\": {\"train_binary_classification_cross_entropy_objective\": {\"sum\": 0.5141634028023536, \"count\": 1, \"min\": 0.5141634028023536, \"max\": 0.5141634028023536}}}\u001b[0m\n",
      "\u001b[34m#metrics {\"StartTime\": 1729711852.8891385, \"EndTime\": 1729711852.8891482, \"Dimensions\": {\"Algorithm\": \"Linear Learner\", \"Host\": \"algo-1\", \"Operation\": \"training\", \"epoch\": 1, \"model\": 31}, \"Metrics\": {\"train_binary_classification_cross_entropy_objective\": {\"sum\": 0.5152488002952086, \"count\": 1, \"min\": 0.5152488002952086, \"max\": 0.5152488002952086}}}\u001b[0m\n",
      "\u001b[34m[10/23/2024 19:30:52 INFO 140356875958080] #quality_metric: host=algo-1, epoch=1, train binary_classification_cross_entropy_objective <loss>=0.49228314006000484\u001b[0m\n",
      "\u001b[34m[2024-10-23 19:30:55.768] [tensorio] [info] epoch_stats={\"data_pipeline\": \"/opt/ml/input/data/validation\", \"epoch\": 5, \"duration\": 2864, \"num_examples\": 164, \"num_bytes\": 68694780}\u001b[0m\n",
      "\u001b[34m#metrics {\"StartTime\": 1729711855.7744513, \"EndTime\": 1729711855.7745078, \"Dimensions\": {\"Algorithm\": \"Linear Learner\", \"Host\": \"algo-1\", \"Operation\": \"training\", \"epoch\": 1, \"model\": 0}, \"Metrics\": {\"validation_binary_classification_cross_entropy_objective\": {\"sum\": 0.4919544577956435, \"count\": 1, \"min\": 0.4919544577956435, \"max\": 0.4919544577956435}}}\u001b[0m\n",
      "\u001b[34m#metrics {\"StartTime\": 1729711855.774577, \"EndTime\": 1729711855.7745912, \"Dimensions\": {\"Algorithm\": \"Linear Learner\", \"Host\": \"algo-1\", \"Operation\": \"training\", \"epoch\": 1, \"model\": 1}, \"Metrics\": {\"validation_binary_classification_cross_entropy_objective\": {\"sum\": 0.49366273613480555, \"count\": 1, \"min\": 0.49366273613480555, \"max\": 0.49366273613480555}}}\u001b[0m\n",
      "\u001b[34m#metrics {\"StartTime\": 1729711855.7746358, \"EndTime\": 1729711855.7746463, \"Dimensions\": {\"Algorithm\": \"Linear Learner\", \"Host\": \"algo-1\", \"Operation\": \"training\", \"epoch\": 1, \"model\": 2}, \"Metrics\": {\"validation_binary_classification_cross_entropy_objective\": {\"sum\": 0.4919607927133949, \"count\": 1, \"min\": 0.4919607927133949, \"max\": 0.4919607927133949}}}\u001b[0m\n",
      "\u001b[34m#metrics {\"StartTime\": 1729711855.7747006, \"EndTime\": 1729711855.7747118, \"Dimensions\": {\"Algorithm\": \"Linear Learner\", \"Host\": \"algo-1\", \"Operation\": \"training\", \"epoch\": 1, \"model\": 3}, \"Metrics\": {\"validation_binary_classification_cross_entropy_objective\": {\"sum\": 0.4936616095374509, \"count\": 1, \"min\": 0.4936616095374509, \"max\": 0.4936616095374509}}}\u001b[0m\n",
      "\u001b[34m#metrics {\"StartTime\": 1729711855.774747, \"EndTime\": 1729711855.7747567, \"Dimensions\": {\"Algorithm\": \"Linear Learner\", \"Host\": \"algo-1\", \"Operation\": \"training\", \"epoch\": 1, \"model\": 4}, \"Metrics\": {\"validation_binary_classification_cross_entropy_objective\": {\"sum\": 0.49411696291044777, \"count\": 1, \"min\": 0.49411696291044777, \"max\": 0.49411696291044777}}}\u001b[0m\n",
      "\u001b[34m#metrics {\"StartTime\": 1729711855.7747874, \"EndTime\": 1729711855.7747982, \"Dimensions\": {\"Algorithm\": \"Linear Learner\", \"Host\": \"algo-1\", \"Operation\": \"training\", \"epoch\": 1, \"model\": 5}, \"Metrics\": {\"validation_binary_classification_cross_entropy_objective\": {\"sum\": 0.5095651000001099, \"count\": 1, \"min\": 0.5095651000001099, \"max\": 0.5095651000001099}}}\u001b[0m\n",
      "\u001b[34m#metrics {\"StartTime\": 1729711855.7748308, \"EndTime\": 1729711855.7748415, \"Dimensions\": {\"Algorithm\": \"Linear Learner\", \"Host\": \"algo-1\", \"Operation\": \"training\", \"epoch\": 1, \"model\": 6}, \"Metrics\": {\"validation_binary_classification_cross_entropy_objective\": {\"sum\": 0.4941175038189822, \"count\": 1, \"min\": 0.4941175038189822, \"max\": 0.4941175038189822}}}\u001b[0m\n",
      "\u001b[34m#metrics {\"StartTime\": 1729711855.7748692, \"EndTime\": 1729711855.774879, \"Dimensions\": {\"Algorithm\": \"Linear Learner\", \"Host\": \"algo-1\", \"Operation\": \"training\", \"epoch\": 1, \"model\": 7}, \"Metrics\": {\"validation_binary_classification_cross_entropy_objective\": {\"sum\": 0.5098241261518326, \"count\": 1, \"min\": 0.5098241261518326, \"max\": 0.5098241261518326}}}\u001b[0m\n",
      "\u001b[34m#metrics {\"StartTime\": 1729711855.774908, \"EndTime\": 1729711855.774918, \"Dimensions\": {\"Algorithm\": \"Linear Learner\", \"Host\": \"algo-1\", \"Operation\": \"training\", \"epoch\": 1, \"model\": 8}, \"Metrics\": {\"validation_binary_classification_cross_entropy_objective\": {\"sum\": 0.4922052369114151, \"count\": 1, \"min\": 0.4922052369114151, \"max\": 0.4922052369114151}}}\u001b[0m\n",
      "\u001b[34m#metrics {\"StartTime\": 1729711855.7749474, \"EndTime\": 1729711855.7749574, \"Dimensions\": {\"Algorithm\": \"Linear Learner\", \"Host\": \"algo-1\", \"Operation\": \"training\", \"epoch\": 1, \"model\": 9}, \"Metrics\": {\"validation_binary_classification_cross_entropy_objective\": {\"sum\": 0.49382413678565773, \"count\": 1, \"min\": 0.49382413678565773, \"max\": 0.49382413678565773}}}\u001b[0m\n",
      "\u001b[34m#metrics {\"StartTime\": 1729711855.7749898, \"EndTime\": 1729711855.7749987, \"Dimensions\": {\"Algorithm\": \"Linear Learner\", \"Host\": \"algo-1\", \"Operation\": \"training\", \"epoch\": 1, \"model\": 10}, \"Metrics\": {\"validation_binary_classification_cross_entropy_objective\": {\"sum\": 0.4922050279367485, \"count\": 1, \"min\": 0.4922050279367485, \"max\": 0.4922050279367485}}}\u001b[0m\n",
      "\u001b[34m#metrics {\"StartTime\": 1729711855.7750278, \"EndTime\": 1729711855.7750375, \"Dimensions\": {\"Algorithm\": \"Linear Learner\", \"Host\": \"algo-1\", \"Operation\": \"training\", \"epoch\": 1, \"model\": 11}, \"Metrics\": {\"validation_binary_classification_cross_entropy_objective\": {\"sum\": 0.4938242825081708, \"count\": 1, \"min\": 0.4938242825081708, \"max\": 0.4938242825081708}}}\u001b[0m\n",
      "\u001b[34m#metrics {\"StartTime\": 1729711855.7750688, \"EndTime\": 1729711855.7750793, \"Dimensions\": {\"Algorithm\": \"Linear Learner\", \"Host\": \"algo-1\", \"Operation\": \"training\", \"epoch\": 1, \"model\": 12}, \"Metrics\": {\"validation_binary_classification_cross_entropy_objective\": {\"sum\": 0.4941902212188506, \"count\": 1, \"min\": 0.4941902212188506, \"max\": 0.4941902212188506}}}\u001b[0m\n",
      "\u001b[34m#metrics {\"StartTime\": 1729711855.7751162, \"EndTime\": 1729711855.775124, \"Dimensions\": {\"Algorithm\": \"Linear Learner\", \"Host\": \"algo-1\", \"Operation\": \"training\", \"epoch\": 1, \"model\": 13}, \"Metrics\": {\"validation_binary_classification_cross_entropy_objective\": {\"sum\": 0.5087741374173583, \"count\": 1, \"min\": 0.5087741374173583, \"max\": 0.5087741374173583}}}\u001b[0m\n",
      "\u001b[34m#metrics {\"StartTime\": 1729711855.7751546, \"EndTime\": 1729711855.7751641, \"Dimensions\": {\"Algorithm\": \"Linear Learner\", \"Host\": \"algo-1\", \"Operation\": \"training\", \"epoch\": 1, \"model\": 14}, \"Metrics\": {\"validation_binary_classification_cross_entropy_objective\": {\"sum\": 0.4941905542722255, \"count\": 1, \"min\": 0.4941905542722255, \"max\": 0.4941905542722255}}}\u001b[0m\n",
      "\u001b[34m#metrics {\"StartTime\": 1729711855.7752047, \"EndTime\": 1729711855.7752156, \"Dimensions\": {\"Algorithm\": \"Linear Learner\", \"Host\": \"algo-1\", \"Operation\": \"training\", \"epoch\": 1, \"model\": 15}, \"Metrics\": {\"validation_binary_classification_cross_entropy_objective\": {\"sum\": 0.5087737942884191, \"count\": 1, \"min\": 0.5087737942884191, \"max\": 0.5087737942884191}}}\u001b[0m\n",
      "\u001b[34m#metrics {\"StartTime\": 1729711855.7752454, \"EndTime\": 1729711855.775253, \"Dimensions\": {\"Algorithm\": \"Linear Learner\", \"Host\": \"algo-1\", \"Operation\": \"training\", \"epoch\": 1, \"model\": 16}, \"Metrics\": {\"validation_binary_classification_cross_entropy_objective\": {\"sum\": 0.5076688810408486, \"count\": 1, \"min\": 0.5076688810408486, \"max\": 0.5076688810408486}}}\u001b[0m\n",
      "\u001b[34m#metrics {\"StartTime\": 1729711855.7752771, \"EndTime\": 1729711855.7752845, \"Dimensions\": {\"Algorithm\": \"Linear Learner\", \"Host\": \"algo-1\", \"Operation\": \"training\", \"epoch\": 1, \"model\": 17}, \"Metrics\": {\"validation_binary_classification_cross_entropy_objective\": {\"sum\": 0.508176686122248, \"count\": 1, \"min\": 0.508176686122248, \"max\": 0.508176686122248}}}\u001b[0m\n",
      "\u001b[34m#metrics {\"StartTime\": 1729711855.7753134, \"EndTime\": 1729711855.7753222, \"Dimensions\": {\"Algorithm\": \"Linear Learner\", \"Host\": \"algo-1\", \"Operation\": \"training\", \"epoch\": 1, \"model\": 18}, \"Metrics\": {\"validation_binary_classification_cross_entropy_objective\": {\"sum\": 0.5076679475584761, \"count\": 1, \"min\": 0.5076679475584761, \"max\": 0.5076679475584761}}}\u001b[0m\n",
      "\u001b[34m#metrics {\"StartTime\": 1729711855.7753549, \"EndTime\": 1729711855.7753642, \"Dimensions\": {\"Algorithm\": \"Linear Learner\", \"Host\": \"algo-1\", \"Operation\": \"training\", \"epoch\": 1, \"model\": 19}, \"Metrics\": {\"validation_binary_classification_cross_entropy_objective\": {\"sum\": 0.5081798231678463, \"count\": 1, \"min\": 0.5081798231678463, \"max\": 0.5081798231678463}}}\u001b[0m\n",
      "\u001b[34m#metrics {\"StartTime\": 1729711855.7753966, \"EndTime\": 1729711855.7754035, \"Dimensions\": {\"Algorithm\": \"Linear Learner\", \"Host\": \"algo-1\", \"Operation\": \"training\", \"epoch\": 1, \"model\": 20}, \"Metrics\": {\"validation_binary_classification_cross_entropy_objective\": {\"sum\": 0.5072742945155566, \"count\": 1, \"min\": 0.5072742945155566, \"max\": 0.5072742945155566}}}\u001b[0m\n",
      "\u001b[34m#metrics {\"StartTime\": 1729711855.7754304, \"EndTime\": 1729711855.775439, \"Dimensions\": {\"Algorithm\": \"Linear Learner\", \"Host\": \"algo-1\", \"Operation\": \"training\", \"epoch\": 1, \"model\": 21}, \"Metrics\": {\"validation_binary_classification_cross_entropy_objective\": {\"sum\": 0.5093994110771476, \"count\": 1, \"min\": 0.5093994110771476, \"max\": 0.5093994110771476}}}\u001b[0m\n",
      "\u001b[34m#metrics {\"StartTime\": 1729711855.7754762, \"EndTime\": 1729711855.7754865, \"Dimensions\": {\"Algorithm\": \"Linear Learner\", \"Host\": \"algo-1\", \"Operation\": \"training\", \"epoch\": 1, \"model\": 22}, \"Metrics\": {\"validation_binary_classification_cross_entropy_objective\": {\"sum\": 0.5072750475706945, \"count\": 1, \"min\": 0.5072750475706945, \"max\": 0.5072750475706945}}}\u001b[0m\n",
      "\u001b[34m#metrics {\"StartTime\": 1729711855.775524, \"EndTime\": 1729711855.7755332, \"Dimensions\": {\"Algorithm\": \"Linear Learner\", \"Host\": \"algo-1\", \"Operation\": \"training\", \"epoch\": 1, \"model\": 23}, \"Metrics\": {\"validation_binary_classification_cross_entropy_objective\": {\"sum\": 0.5093994252575714, \"count\": 1, \"min\": 0.5093994252575714, \"max\": 0.5093994252575714}}}\u001b[0m\n",
      "\u001b[34m#metrics {\"StartTime\": 1729711855.7755675, \"EndTime\": 1729711855.775579, \"Dimensions\": {\"Algorithm\": \"Linear Learner\", \"Host\": \"algo-1\", \"Operation\": \"training\", \"epoch\": 1, \"model\": 24}, \"Metrics\": {\"validation_binary_classification_cross_entropy_objective\": {\"sum\": 0.5137531392771493, \"count\": 1, \"min\": 0.5137531392771493, \"max\": 0.5137531392771493}}}\u001b[0m\n",
      "\u001b[34m#metrics {\"StartTime\": 1729711855.7756138, \"EndTime\": 1729711855.775624, \"Dimensions\": {\"Algorithm\": \"Linear Learner\", \"Host\": \"algo-1\", \"Operation\": \"training\", \"epoch\": 1, \"model\": 25}, \"Metrics\": {\"validation_binary_classification_cross_entropy_objective\": {\"sum\": 0.5145680210629269, \"count\": 1, \"min\": 0.5145680210629269, \"max\": 0.5145680210629269}}}\u001b[0m\n",
      "\u001b[34m#metrics {\"StartTime\": 1729711855.7761307, \"EndTime\": 1729711855.7761447, \"Dimensions\": {\"Algorithm\": \"Linear Learner\", \"Host\": \"algo-1\", \"Operation\": \"training\", \"epoch\": 1, \"model\": 26}, \"Metrics\": {\"validation_binary_classification_cross_entropy_objective\": {\"sum\": 0.5137609429882718, \"count\": 1, \"min\": 0.5137609429882718, \"max\": 0.5137609429882718}}}\u001b[0m\n",
      "\u001b[34m#metrics {\"StartTime\": 1729711855.7761848, \"EndTime\": 1729711855.7761924, \"Dimensions\": {\"Algorithm\": \"Linear Learner\", \"Host\": \"algo-1\", \"Operation\": \"training\", \"epoch\": 1, \"model\": 27}, \"Metrics\": {\"validation_binary_classification_cross_entropy_objective\": {\"sum\": 0.514563943071575, \"count\": 1, \"min\": 0.514563943071575, \"max\": 0.514563943071575}}}\u001b[0m\n",
      "\u001b[34m#metrics {\"StartTime\": 1729711855.7762256, \"EndTime\": 1729711855.7762344, \"Dimensions\": {\"Algorithm\": \"Linear Learner\", \"Host\": \"algo-1\", \"Operation\": \"training\", \"epoch\": 1, \"model\": 28}, \"Metrics\": {\"validation_binary_classification_cross_entropy_objective\": {\"sum\": 0.5139011892455714, \"count\": 1, \"min\": 0.5139011892455714, \"max\": 0.5139011892455714}}}\u001b[0m\n",
      "\u001b[34m#metrics {\"StartTime\": 1729711855.7762723, \"EndTime\": 1729711855.776281, \"Dimensions\": {\"Algorithm\": \"Linear Learner\", \"Host\": \"algo-1\", \"Operation\": \"training\", \"epoch\": 1, \"model\": 29}, \"Metrics\": {\"validation_binary_classification_cross_entropy_objective\": {\"sum\": 0.5141915789496498, \"count\": 1, \"min\": 0.5141915789496498, \"max\": 0.5141915789496498}}}\u001b[0m\n",
      "\u001b[34m#metrics {\"StartTime\": 1729711855.776315, \"EndTime\": 1729711855.7763221, \"Dimensions\": {\"Algorithm\": \"Linear Learner\", \"Host\": \"algo-1\", \"Operation\": \"training\", \"epoch\": 1, \"model\": 30}, \"Metrics\": {\"validation_binary_classification_cross_entropy_objective\": {\"sum\": 0.5139277118624577, \"count\": 1, \"min\": 0.5139277118624577, \"max\": 0.5139277118624577}}}\u001b[0m\n",
      "\u001b[34m#metrics {\"StartTime\": 1729711855.7763555, \"EndTime\": 1729711855.7763655, \"Dimensions\": {\"Algorithm\": \"Linear Learner\", \"Host\": \"algo-1\", \"Operation\": \"training\", \"epoch\": 1, \"model\": 31}, \"Metrics\": {\"validation_binary_classification_cross_entropy_objective\": {\"sum\": 0.5142022163199351, \"count\": 1, \"min\": 0.5142022163199351, \"max\": 0.5142022163199351}}}\u001b[0m\n",
      "\u001b[34m[10/23/2024 19:30:55 INFO 140356875958080] #quality_metric: host=algo-1, epoch=1, validation binary_classification_cross_entropy_objective <loss>=0.4919544577956435\u001b[0m\n",
      "\u001b[34m[10/23/2024 19:30:55 INFO 140356875958080] #early_stopping_criteria_metric: host=algo-1, epoch=1, criteria=binary_classification_cross_entropy_objective, value=0.4919544577956435\u001b[0m\n",
      "\u001b[34m[10/23/2024 19:30:55 INFO 140356875958080] Saving model for epoch: 1\u001b[0m\n",
      "\u001b[34m[10/23/2024 19:30:55 INFO 140356875958080] Saved checkpoint to \"/tmp/tmpy31jk7he/mx-mod-0000.params\"\u001b[0m\n",
      "\u001b[34m[10/23/2024 19:30:55 INFO 140356875958080] #progress_metric: host=algo-1, completed 13.333333333333334 % of epochs\u001b[0m\n",
      "\u001b[34m#metrics {\"StartTime\": 1729711821.2779522, \"EndTime\": 1729711855.7818673, \"Dimensions\": {\"Algorithm\": \"Linear Learner\", \"Host\": \"algo-1\", \"Operation\": \"training\", \"epoch\": 1, \"Meta\": \"training_data_iter\"}, \"Metrics\": {\"Total Records Seen\": {\"sum\": 2628944.0, \"count\": 1, \"min\": 2628944, \"max\": 2628944}, \"Total Batches Seen\": {\"sum\": 2630.0, \"count\": 1, \"min\": 2630, \"max\": 2630}, \"Max Records Seen Between Resets\": {\"sum\": 1308472.0, \"count\": 1, \"min\": 1308472, \"max\": 1308472}, \"Max Batches Seen Between Resets\": {\"sum\": 1309.0, \"count\": 1, \"min\": 1309, \"max\": 1309}, \"Reset Count\": {\"sum\": 4.0, \"count\": 1, \"min\": 4, \"max\": 4}, \"Number of Records Since Last Reset\": {\"sum\": 1308472.0, \"count\": 1, \"min\": 1308472, \"max\": 1308472}, \"Number of Batches Since Last Reset\": {\"sum\": 1309.0, \"count\": 1, \"min\": 1309, \"max\": 1309}}}\u001b[0m\n",
      "\u001b[34m[10/23/2024 19:30:55 INFO 140356875958080] #throughput_metric: host=algo-1, train throughput=37922.00245322211 records/second\u001b[0m\n",
      "\u001b[34m[2024-10-23 19:31:27.693] [tensorio] [info] epoch_stats={\"data_pipeline\": \"/opt/ml/input/data/train\", \"epoch\": 7, \"duration\": 31908, \"num_examples\": 1309, \"num_bytes\": 549558240}\u001b[0m\n",
      "\u001b[34m#metrics {\"StartTime\": 1729711887.6936266, \"EndTime\": 1729711887.6937034, \"Dimensions\": {\"Algorithm\": \"Linear Learner\", \"Host\": \"algo-1\", \"Operation\": \"training\", \"epoch\": 2, \"model\": 0}, \"Metrics\": {\"train_binary_classification_cross_entropy_objective\": {\"sum\": 0.4921140892425444, \"count\": 1, \"min\": 0.4921140892425444, \"max\": 0.4921140892425444}}}\u001b[0m\n",
      "\u001b[34m#metrics {\"StartTime\": 1729711887.6937866, \"EndTime\": 1729711887.6938019, \"Dimensions\": {\"Algorithm\": \"Linear Learner\", \"Host\": \"algo-1\", \"Operation\": \"training\", \"epoch\": 2, \"model\": 1}, \"Metrics\": {\"train_binary_classification_cross_entropy_objective\": {\"sum\": 0.49316691682681396, \"count\": 1, \"min\": 0.49316691682681396, \"max\": 0.49316691682681396}}}\u001b[0m\n",
      "\u001b[34m#metrics {\"StartTime\": 1729711887.6938403, \"EndTime\": 1729711887.6938517, \"Dimensions\": {\"Algorithm\": \"Linear Learner\", \"Host\": \"algo-1\", \"Operation\": \"training\", \"epoch\": 2, \"model\": 2}, \"Metrics\": {\"train_binary_classification_cross_entropy_objective\": {\"sum\": 0.49211817194854085, \"count\": 1, \"min\": 0.49211817194854085, \"max\": 0.49211817194854085}}}\u001b[0m\n",
      "\u001b[34m#metrics {\"StartTime\": 1729711887.6938784, \"EndTime\": 1729711887.6938853, \"Dimensions\": {\"Algorithm\": \"Linear Learner\", \"Host\": \"algo-1\", \"Operation\": \"training\", \"epoch\": 2, \"model\": 3}, \"Metrics\": {\"train_binary_classification_cross_entropy_objective\": {\"sum\": 0.49316589017162266, \"count\": 1, \"min\": 0.49316589017162266, \"max\": 0.49316589017162266}}}\u001b[0m\n",
      "\u001b[34m#metrics {\"StartTime\": 1729711887.6939154, \"EndTime\": 1729711887.693925, \"Dimensions\": {\"Algorithm\": \"Linear Learner\", \"Host\": \"algo-1\", \"Operation\": \"training\", \"epoch\": 2, \"model\": 4}, \"Metrics\": {\"train_binary_classification_cross_entropy_objective\": {\"sum\": 0.49326083952644184, \"count\": 1, \"min\": 0.49326083952644184, \"max\": 0.49326083952644184}}}\u001b[0m\n",
      "\u001b[34m#metrics {\"StartTime\": 1729711887.6939507, \"EndTime\": 1729711887.693957, \"Dimensions\": {\"Algorithm\": \"Linear Learner\", \"Host\": \"algo-1\", \"Operation\": \"training\", \"epoch\": 2, \"model\": 5}, \"Metrics\": {\"train_binary_classification_cross_entropy_objective\": {\"sum\": 0.5116758955509291, \"count\": 1, \"min\": 0.5116758955509291, \"max\": 0.5116758955509291}}}\u001b[0m\n",
      "\u001b[34m#metrics {\"StartTime\": 1729711887.6939776, \"EndTime\": 1729711887.6939867, \"Dimensions\": {\"Algorithm\": \"Linear Learner\", \"Host\": \"algo-1\", \"Operation\": \"training\", \"epoch\": 2, \"model\": 6}, \"Metrics\": {\"train_binary_classification_cross_entropy_objective\": {\"sum\": 0.49326079948961915, \"count\": 1, \"min\": 0.49326079948961915, \"max\": 0.49326079948961915}}}\u001b[0m\n",
      "\u001b[34m#metrics {\"StartTime\": 1729711887.6940074, \"EndTime\": 1729711887.6940134, \"Dimensions\": {\"Algorithm\": \"Linear Learner\", \"Host\": \"algo-1\", \"Operation\": \"training\", \"epoch\": 2, \"model\": 7}, \"Metrics\": {\"train_binary_classification_cross_entropy_objective\": {\"sum\": 0.5116428243654584, \"count\": 1, \"min\": 0.5116428243654584, \"max\": 0.5116428243654584}}}\u001b[0m\n",
      "\u001b[34m#metrics {\"StartTime\": 1729711887.694038, \"EndTime\": 1729711887.694046, \"Dimensions\": {\"Algorithm\": \"Linear Learner\", \"Host\": \"algo-1\", \"Operation\": \"training\", \"epoch\": 2, \"model\": 8}, \"Metrics\": {\"train_binary_classification_cross_entropy_objective\": {\"sum\": 0.4922975872168118, \"count\": 1, \"min\": 0.4922975872168118, \"max\": 0.4922975872168118}}}\u001b[0m\n",
      "\u001b[34m#metrics {\"StartTime\": 1729711887.6940732, \"EndTime\": 1729711887.6940823, \"Dimensions\": {\"Algorithm\": \"Linear Learner\", \"Host\": \"algo-1\", \"Operation\": \"training\", \"epoch\": 2, \"model\": 9}, \"Metrics\": {\"train_binary_classification_cross_entropy_objective\": {\"sum\": 0.49331232184080537, \"count\": 1, \"min\": 0.49331232184080537, \"max\": 0.49331232184080537}}}\u001b[0m\n",
      "\u001b[34m#metrics {\"StartTime\": 1729711887.69412, \"EndTime\": 1729711887.69413, \"Dimensions\": {\"Algorithm\": \"Linear Learner\", \"Host\": \"algo-1\", \"Operation\": \"training\", \"epoch\": 2, \"model\": 10}, \"Metrics\": {\"train_binary_classification_cross_entropy_objective\": {\"sum\": 0.4922973523154536, \"count\": 1, \"min\": 0.4922973523154536, \"max\": 0.4922973523154536}}}\u001b[0m\n",
      "\u001b[34m#metrics {\"StartTime\": 1729711887.694167, \"EndTime\": 1729711887.6941867, \"Dimensions\": {\"Algorithm\": \"Linear Learner\", \"Host\": \"algo-1\", \"Operation\": \"training\", \"epoch\": 2, \"model\": 11}, \"Metrics\": {\"train_binary_classification_cross_entropy_objective\": {\"sum\": 0.4933123144680571, \"count\": 1, \"min\": 0.4933123144680571, \"max\": 0.4933123144680571}}}\u001b[0m\n",
      "\u001b[34m#metrics {\"StartTime\": 1729711887.694224, \"EndTime\": 1729711887.6942344, \"Dimensions\": {\"Algorithm\": \"Linear Learner\", \"Host\": \"algo-1\", \"Operation\": \"training\", \"epoch\": 2, \"model\": 12}, \"Metrics\": {\"train_binary_classification_cross_entropy_objective\": {\"sum\": 0.49340087850961484, \"count\": 1, \"min\": 0.49340087850961484, \"max\": 0.49340087850961484}}}\u001b[0m\n",
      "\u001b[34m#metrics {\"StartTime\": 1729711887.694271, \"EndTime\": 1729711887.6942816, \"Dimensions\": {\"Algorithm\": \"Linear Learner\", \"Host\": \"algo-1\", \"Operation\": \"training\", \"epoch\": 2, \"model\": 13}, \"Metrics\": {\"train_binary_classification_cross_entropy_objective\": {\"sum\": 0.5105291507965928, \"count\": 1, \"min\": 0.5105291507965928, \"max\": 0.5105291507965928}}}\u001b[0m\n",
      "\u001b[34m#metrics {\"StartTime\": 1729711887.6943204, \"EndTime\": 1729711887.6943312, \"Dimensions\": {\"Algorithm\": \"Linear Learner\", \"Host\": \"algo-1\", \"Operation\": \"training\", \"epoch\": 2, \"model\": 14}, \"Metrics\": {\"train_binary_classification_cross_entropy_objective\": {\"sum\": 0.4934008797695148, \"count\": 1, \"min\": 0.4934008797695148, \"max\": 0.4934008797695148}}}\u001b[0m\n",
      "\u001b[34m#metrics {\"StartTime\": 1729711887.6943657, \"EndTime\": 1729711887.694376, \"Dimensions\": {\"Algorithm\": \"Linear Learner\", \"Host\": \"algo-1\", \"Operation\": \"training\", \"epoch\": 2, \"model\": 15}, \"Metrics\": {\"train_binary_classification_cross_entropy_objective\": {\"sum\": 0.5105291331113296, \"count\": 1, \"min\": 0.5105291331113296, \"max\": 0.5105291331113296}}}\u001b[0m\n",
      "\u001b[34m#metrics {\"StartTime\": 1729711887.6944275, \"EndTime\": 1729711887.6944363, \"Dimensions\": {\"Algorithm\": \"Linear Learner\", \"Host\": \"algo-1\", \"Operation\": \"training\", \"epoch\": 2, \"model\": 16}, \"Metrics\": {\"train_binary_classification_cross_entropy_objective\": {\"sum\": 0.5078075780139422, \"count\": 1, \"min\": 0.5078075780139422, \"max\": 0.5078075780139422}}}\u001b[0m\n",
      "\u001b[34m#metrics {\"StartTime\": 1729711887.6944635, \"EndTime\": 1729711887.6944702, \"Dimensions\": {\"Algorithm\": \"Linear Learner\", \"Host\": \"algo-1\", \"Operation\": \"training\", \"epoch\": 2, \"model\": 17}, \"Metrics\": {\"train_binary_classification_cross_entropy_objective\": {\"sum\": 0.5080542036517315, \"count\": 1, \"min\": 0.5080542036517315, \"max\": 0.5080542036517315}}}\u001b[0m\n",
      "\u001b[34m#metrics {\"StartTime\": 1729711887.6944952, \"EndTime\": 1729711887.6945019, \"Dimensions\": {\"Algorithm\": \"Linear Learner\", \"Host\": \"algo-1\", \"Operation\": \"training\", \"epoch\": 2, \"model\": 18}, \"Metrics\": {\"train_binary_classification_cross_entropy_objective\": {\"sum\": 0.5078075798104662, \"count\": 1, \"min\": 0.5078075798104662, \"max\": 0.5078075798104662}}}\u001b[0m\n",
      "\u001b[34m#metrics {\"StartTime\": 1729711887.6945262, \"EndTime\": 1729711887.6945326, \"Dimensions\": {\"Algorithm\": \"Linear Learner\", \"Host\": \"algo-1\", \"Operation\": \"training\", \"epoch\": 2, \"model\": 19}, \"Metrics\": {\"train_binary_classification_cross_entropy_objective\": {\"sum\": 0.5080542390922523, \"count\": 1, \"min\": 0.5080542390922523, \"max\": 0.5080542390922523}}}\u001b[0m\n",
      "\u001b[34m#metrics {\"StartTime\": 1729711887.6945562, \"EndTime\": 1729711887.6945622, \"Dimensions\": {\"Algorithm\": \"Linear Learner\", \"Host\": \"algo-1\", \"Operation\": \"training\", \"epoch\": 2, \"model\": 20}, \"Metrics\": {\"train_binary_classification_cross_entropy_objective\": {\"sum\": 0.5080492421421436, \"count\": 1, \"min\": 0.5080492421421436, \"max\": 0.5080492421421436}}}\u001b[0m\n",
      "\u001b[34m#metrics {\"StartTime\": 1729711887.694586, \"EndTime\": 1729711887.6945922, \"Dimensions\": {\"Algorithm\": \"Linear Learner\", \"Host\": \"algo-1\", \"Operation\": \"training\", \"epoch\": 2, \"model\": 21}, \"Metrics\": {\"train_binary_classification_cross_entropy_objective\": {\"sum\": 0.5111700643836905, \"count\": 1, \"min\": 0.5111700643836905, \"max\": 0.5111700643836905}}}\u001b[0m\n",
      "\u001b[34m#metrics {\"StartTime\": 1729711887.6946156, \"EndTime\": 1729711887.6946218, \"Dimensions\": {\"Algorithm\": \"Linear Learner\", \"Host\": \"algo-1\", \"Operation\": \"training\", \"epoch\": 2, \"model\": 22}, \"Metrics\": {\"train_binary_classification_cross_entropy_objective\": {\"sum\": 0.5080492394823547, \"count\": 1, \"min\": 0.5080492394823547, \"max\": 0.5080492394823547}}}\u001b[0m\n",
      "\u001b[34m#metrics {\"StartTime\": 1729711887.694645, \"EndTime\": 1729711887.6946511, \"Dimensions\": {\"Algorithm\": \"Linear Learner\", \"Host\": \"algo-1\", \"Operation\": \"training\", \"epoch\": 2, \"model\": 23}, \"Metrics\": {\"train_binary_classification_cross_entropy_objective\": {\"sum\": 0.5111700789192036, \"count\": 1, \"min\": 0.5111700789192036, \"max\": 0.5111700789192036}}}\u001b[0m\n",
      "\u001b[34m#metrics {\"StartTime\": 1729711887.6946907, \"EndTime\": 1729711887.6946971, \"Dimensions\": {\"Algorithm\": \"Linear Learner\", \"Host\": \"algo-1\", \"Operation\": \"training\", \"epoch\": 2, \"model\": 24}, \"Metrics\": {\"train_binary_classification_cross_entropy_objective\": {\"sum\": 0.513773487965995, \"count\": 1, \"min\": 0.513773487965995, \"max\": 0.513773487965995}}}\u001b[0m\n",
      "\u001b[34m#metrics {\"StartTime\": 1729711887.6947205, \"EndTime\": 1729711887.6947267, \"Dimensions\": {\"Algorithm\": \"Linear Learner\", \"Host\": \"algo-1\", \"Operation\": \"training\", \"epoch\": 2, \"model\": 25}, \"Metrics\": {\"train_binary_classification_cross_entropy_objective\": {\"sum\": 0.513882167687839, \"count\": 1, \"min\": 0.513882167687839, \"max\": 0.513882167687839}}}\u001b[0m\n",
      "\u001b[34m#metrics {\"StartTime\": 1729711887.6947494, \"EndTime\": 1729711887.6947553, \"Dimensions\": {\"Algorithm\": \"Linear Learner\", \"Host\": \"algo-1\", \"Operation\": \"training\", \"epoch\": 2, \"model\": 26}, \"Metrics\": {\"train_binary_classification_cross_entropy_objective\": {\"sum\": 0.5137732463218385, \"count\": 1, \"min\": 0.5137732463218385, \"max\": 0.5137732463218385}}}\u001b[0m\n",
      "\u001b[34m#metrics {\"StartTime\": 1729711887.694781, \"EndTime\": 1729711887.69479, \"Dimensions\": {\"Algorithm\": \"Linear Learner\", \"Host\": \"algo-1\", \"Operation\": \"training\", \"epoch\": 2, \"model\": 27}, \"Metrics\": {\"train_binary_classification_cross_entropy_objective\": {\"sum\": 0.5138802350012169, \"count\": 1, \"min\": 0.5138802350012169, \"max\": 0.5138802350012169}}}\u001b[0m\n",
      "\u001b[34m#metrics {\"StartTime\": 1729711887.6948223, \"EndTime\": 1729711887.6948328, \"Dimensions\": {\"Algorithm\": \"Linear Learner\", \"Host\": \"algo-1\", \"Operation\": \"training\", \"epoch\": 2, \"model\": 28}, \"Metrics\": {\"train_binary_classification_cross_entropy_objective\": {\"sum\": 0.5138755366474117, \"count\": 1, \"min\": 0.5138755366474117, \"max\": 0.5138755366474117}}}\u001b[0m\n",
      "\u001b[34m#metrics {\"StartTime\": 1729711887.6948633, \"EndTime\": 1729711887.6948729, \"Dimensions\": {\"Algorithm\": \"Linear Learner\", \"Host\": \"algo-1\", \"Operation\": \"training\", \"epoch\": 2, \"model\": 29}, \"Metrics\": {\"train_binary_classification_cross_entropy_objective\": {\"sum\": 0.5150562953890646, \"count\": 1, \"min\": 0.5150562953890646, \"max\": 0.5150562953890646}}}\u001b[0m\n",
      "\u001b[34m#metrics {\"StartTime\": 1729711887.6949093, \"EndTime\": 1729711887.6949213, \"Dimensions\": {\"Algorithm\": \"Linear Learner\", \"Host\": \"algo-1\", \"Operation\": \"training\", \"epoch\": 2, \"model\": 30}, \"Metrics\": {\"train_binary_classification_cross_entropy_objective\": {\"sum\": 0.5138754702926775, \"count\": 1, \"min\": 0.5138754702926775, \"max\": 0.5138754702926775}}}\u001b[0m\n",
      "\u001b[34m#metrics {\"StartTime\": 1729711887.6949577, \"EndTime\": 1729711887.694968, \"Dimensions\": {\"Algorithm\": \"Linear Learner\", \"Host\": \"algo-1\", \"Operation\": \"training\", \"epoch\": 2, \"model\": 31}, \"Metrics\": {\"train_binary_classification_cross_entropy_objective\": {\"sum\": 0.5150566797285634, \"count\": 1, \"min\": 0.5150566797285634, \"max\": 0.5150566797285634}}}\u001b[0m\n",
      "\u001b[34m[10/23/2024 19:31:27 INFO 140356875958080] #quality_metric: host=algo-1, epoch=2, train binary_classification_cross_entropy_objective <loss>=0.4921140892425444\u001b[0m\n",
      "\u001b[34m[2024-10-23 19:31:30.511] [tensorio] [info] epoch_stats={\"data_pipeline\": \"/opt/ml/input/data/validation\", \"epoch\": 8, \"duration\": 2801, \"num_examples\": 164, \"num_bytes\": 68694780}\u001b[0m\n",
      "\u001b[34m#metrics {\"StartTime\": 1729711890.5169282, \"EndTime\": 1729711890.5169837, \"Dimensions\": {\"Algorithm\": \"Linear Learner\", \"Host\": \"algo-1\", \"Operation\": \"training\", \"epoch\": 2, \"model\": 0}, \"Metrics\": {\"validation_binary_classification_cross_entropy_objective\": {\"sum\": 0.49186094517743073, \"count\": 1, \"min\": 0.49186094517743073, \"max\": 0.49186094517743073}}}\u001b[0m\n",
      "\u001b[34m#metrics {\"StartTime\": 1729711890.5170553, \"EndTime\": 1729711890.5170696, \"Dimensions\": {\"Algorithm\": \"Linear Learner\", \"Host\": \"algo-1\", \"Operation\": \"training\", \"epoch\": 2, \"model\": 1}, \"Metrics\": {\"validation_binary_classification_cross_entropy_objective\": {\"sum\": 0.49348486119001067, \"count\": 1, \"min\": 0.49348486119001067, \"max\": 0.49348486119001067}}}\u001b[0m\n",
      "\u001b[34m#metrics {\"StartTime\": 1729711890.5171094, \"EndTime\": 1729711890.5171213, \"Dimensions\": {\"Algorithm\": \"Linear Learner\", \"Host\": \"algo-1\", \"Operation\": \"training\", \"epoch\": 2, \"model\": 2}, \"Metrics\": {\"validation_binary_classification_cross_entropy_objective\": {\"sum\": 0.49186684274105835, \"count\": 1, \"min\": 0.49186684274105835, \"max\": 0.49186684274105835}}}\u001b[0m\n",
      "\u001b[34m#metrics {\"StartTime\": 1729711890.517151, \"EndTime\": 1729711890.517161, \"Dimensions\": {\"Algorithm\": \"Linear Learner\", \"Host\": \"algo-1\", \"Operation\": \"training\", \"epoch\": 2, \"model\": 3}, \"Metrics\": {\"validation_binary_classification_cross_entropy_objective\": {\"sum\": 0.4934844730942012, \"count\": 1, \"min\": 0.4934844730942012, \"max\": 0.4934844730942012}}}\u001b[0m\n",
      "\u001b[34m#metrics {\"StartTime\": 1729711890.5171945, \"EndTime\": 1729711890.517203, \"Dimensions\": {\"Algorithm\": \"Linear Learner\", \"Host\": \"algo-1\", \"Operation\": \"training\", \"epoch\": 2, \"model\": 4}, \"Metrics\": {\"validation_binary_classification_cross_entropy_objective\": {\"sum\": 0.492614235971662, \"count\": 1, \"min\": 0.492614235971662, \"max\": 0.492614235971662}}}\u001b[0m\n",
      "\u001b[34m#metrics {\"StartTime\": 1729711890.517233, \"EndTime\": 1729711890.5172422, \"Dimensions\": {\"Algorithm\": \"Linear Learner\", \"Host\": \"algo-1\", \"Operation\": \"training\", \"epoch\": 2, \"model\": 5}, \"Metrics\": {\"validation_binary_classification_cross_entropy_objective\": {\"sum\": 0.5068864349221005, \"count\": 1, \"min\": 0.5068864349221005, \"max\": 0.5068864349221005}}}\u001b[0m\n",
      "\u001b[34m#metrics {\"StartTime\": 1729711890.517276, \"EndTime\": 1729711890.517285, \"Dimensions\": {\"Algorithm\": \"Linear Learner\", \"Host\": \"algo-1\", \"Operation\": \"training\", \"epoch\": 2, \"model\": 6}, \"Metrics\": {\"validation_binary_classification_cross_entropy_objective\": {\"sum\": 0.4926141742121846, \"count\": 1, \"min\": 0.4926141742121846, \"max\": 0.4926141742121846}}}\u001b[0m\n",
      "\u001b[34m#metrics {\"StartTime\": 1729711890.5173159, \"EndTime\": 1729711890.5173247, \"Dimensions\": {\"Algorithm\": \"Linear Learner\", \"Host\": \"algo-1\", \"Operation\": \"training\", \"epoch\": 2, \"model\": 7}, \"Metrics\": {\"validation_binary_classification_cross_entropy_objective\": {\"sum\": 0.5069868668407931, \"count\": 1, \"min\": 0.5069868668407931, \"max\": 0.5069868668407931}}}\u001b[0m\n",
      "\u001b[34m#metrics {\"StartTime\": 1729711890.5173514, \"EndTime\": 1729711890.5173602, \"Dimensions\": {\"Algorithm\": \"Linear Learner\", \"Host\": \"algo-1\", \"Operation\": \"training\", \"epoch\": 2, \"model\": 8}, \"Metrics\": {\"validation_binary_classification_cross_entropy_objective\": {\"sum\": 0.49212479883053717, \"count\": 1, \"min\": 0.49212479883053717, \"max\": 0.49212479883053717}}}\u001b[0m\n",
      "\u001b[34m#metrics {\"StartTime\": 1729711890.51739, \"EndTime\": 1729711890.5174007, \"Dimensions\": {\"Algorithm\": \"Linear Learner\", \"Host\": \"algo-1\", \"Operation\": \"training\", \"epoch\": 2, \"model\": 9}, \"Metrics\": {\"validation_binary_classification_cross_entropy_objective\": {\"sum\": 0.49366054413982013, \"count\": 1, \"min\": 0.49366054413982013, \"max\": 0.49366054413982013}}}\u001b[0m\n",
      "\u001b[34m#metrics {\"StartTime\": 1729711890.5174315, \"EndTime\": 1729711890.5174422, \"Dimensions\": {\"Algorithm\": \"Linear Learner\", \"Host\": \"algo-1\", \"Operation\": \"training\", \"epoch\": 2, \"model\": 10}, \"Metrics\": {\"validation_binary_classification_cross_entropy_objective\": {\"sum\": 0.4921244943245944, \"count\": 1, \"min\": 0.4921244943245944, \"max\": 0.4921244943245944}}}\u001b[0m\n",
      "\u001b[34m#metrics {\"StartTime\": 1729711890.517473, \"EndTime\": 1729711890.5174835, \"Dimensions\": {\"Algorithm\": \"Linear Learner\", \"Host\": \"algo-1\", \"Operation\": \"training\", \"epoch\": 2, \"model\": 11}, \"Metrics\": {\"validation_binary_classification_cross_entropy_objective\": {\"sum\": 0.4936605592531666, \"count\": 1, \"min\": 0.4936605592531666, \"max\": 0.4936605592531666}}}\u001b[0m\n",
      "\u001b[34m#metrics {\"StartTime\": 1729711890.5175135, \"EndTime\": 1729711890.5175235, \"Dimensions\": {\"Algorithm\": \"Linear Learner\", \"Host\": \"algo-1\", \"Operation\": \"training\", \"epoch\": 2, \"model\": 12}, \"Metrics\": {\"validation_binary_classification_cross_entropy_objective\": {\"sum\": 0.4928298116255784, \"count\": 1, \"min\": 0.4928298116255784, \"max\": 0.4928298116255784}}}\u001b[0m\n",
      "\u001b[34m#metrics {\"StartTime\": 1729711890.5175571, \"EndTime\": 1729711890.5175674, \"Dimensions\": {\"Algorithm\": \"Linear Learner\", \"Host\": \"algo-1\", \"Operation\": \"training\", \"epoch\": 2, \"model\": 13}, \"Metrics\": {\"validation_binary_classification_cross_entropy_objective\": {\"sum\": 0.5060243543420183, \"count\": 1, \"min\": 0.5060243543420183, \"max\": 0.5060243543420183}}}\u001b[0m\n",
      "\u001b[34m#metrics {\"StartTime\": 1729711890.5176032, \"EndTime\": 1729711890.5176132, \"Dimensions\": {\"Algorithm\": \"Linear Learner\", \"Host\": \"algo-1\", \"Operation\": \"training\", \"epoch\": 2, \"model\": 14}, \"Metrics\": {\"validation_binary_classification_cross_entropy_objective\": {\"sum\": 0.4928297716964903, \"count\": 1, \"min\": 0.4928297716964903, \"max\": 0.4928297716964903}}}\u001b[0m\n",
      "\u001b[34m#metrics {\"StartTime\": 1729711890.5176473, \"EndTime\": 1729711890.517657, \"Dimensions\": {\"Algorithm\": \"Linear Learner\", \"Host\": \"algo-1\", \"Operation\": \"training\", \"epoch\": 2, \"model\": 15}, \"Metrics\": {\"validation_binary_classification_cross_entropy_objective\": {\"sum\": 0.5060244146088195, \"count\": 1, \"min\": 0.5060244146088195, \"max\": 0.5060244146088195}}}\u001b[0m\n",
      "\u001b[34m#metrics {\"StartTime\": 1729711890.5176888, \"EndTime\": 1729711890.5176988, \"Dimensions\": {\"Algorithm\": \"Linear Learner\", \"Host\": \"algo-1\", \"Operation\": \"training\", \"epoch\": 2, \"model\": 16}, \"Metrics\": {\"validation_binary_classification_cross_entropy_objective\": {\"sum\": 0.5077702589430768, \"count\": 1, \"min\": 0.5077702589430768, \"max\": 0.5077702589430768}}}\u001b[0m\n",
      "\u001b[34m#metrics {\"StartTime\": 1729711890.5177329, \"EndTime\": 1729711890.5177424, \"Dimensions\": {\"Algorithm\": \"Linear Learner\", \"Host\": \"algo-1\", \"Operation\": \"training\", \"epoch\": 2, \"model\": 17}, \"Metrics\": {\"validation_binary_classification_cross_entropy_objective\": {\"sum\": 0.5081819681435317, \"count\": 1, \"min\": 0.5081819681435317, \"max\": 0.5081819681435317}}}\u001b[0m\n",
      "\u001b[34m#metrics {\"StartTime\": 1729711890.517774, \"EndTime\": 1729711890.517784, \"Dimensions\": {\"Algorithm\": \"Linear Learner\", \"Host\": \"algo-1\", \"Operation\": \"training\", \"epoch\": 2, \"model\": 18}, \"Metrics\": {\"validation_binary_classification_cross_entropy_objective\": {\"sum\": 0.5077692788145735, \"count\": 1, \"min\": 0.5077692788145735, \"max\": 0.5077692788145735}}}\u001b[0m\n",
      "\u001b[34m#metrics {\"StartTime\": 1729711890.5178156, \"EndTime\": 1729711890.5178251, \"Dimensions\": {\"Algorithm\": \"Linear Learner\", \"Host\": \"algo-1\", \"Operation\": \"training\", \"epoch\": 2, \"model\": 19}, \"Metrics\": {\"validation_binary_classification_cross_entropy_objective\": {\"sum\": 0.508182775494766, \"count\": 1, \"min\": 0.508182775494766, \"max\": 0.508182775494766}}}\u001b[0m\n",
      "\u001b[34m#metrics {\"StartTime\": 1729711890.5178657, \"EndTime\": 1729711890.5178761, \"Dimensions\": {\"Algorithm\": \"Linear Learner\", \"Host\": \"algo-1\", \"Operation\": \"training\", \"epoch\": 2, \"model\": 20}, \"Metrics\": {\"validation_binary_classification_cross_entropy_objective\": {\"sum\": 0.5075775419457533, \"count\": 1, \"min\": 0.5075775419457533, \"max\": 0.5075775419457533}}}\u001b[0m\n",
      "\u001b[34m#metrics {\"StartTime\": 1729711890.5179136, \"EndTime\": 1729711890.517924, \"Dimensions\": {\"Algorithm\": \"Linear Learner\", \"Host\": \"algo-1\", \"Operation\": \"training\", \"epoch\": 2, \"model\": 21}, \"Metrics\": {\"validation_binary_classification_cross_entropy_objective\": {\"sum\": 0.5091088653884073, \"count\": 1, \"min\": 0.5091088653884073, \"max\": 0.5091088653884073}}}\u001b[0m\n",
      "\u001b[34m#metrics {\"StartTime\": 1729711890.5179577, \"EndTime\": 1729711890.5179665, \"Dimensions\": {\"Algorithm\": \"Linear Learner\", \"Host\": \"algo-1\", \"Operation\": \"training\", \"epoch\": 2, \"model\": 22}, \"Metrics\": {\"validation_binary_classification_cross_entropy_objective\": {\"sum\": 0.5075775425055069, \"count\": 1, \"min\": 0.5075775425055069, \"max\": 0.5075775425055069}}}\u001b[0m\n",
      "\u001b[34m#metrics {\"StartTime\": 1729711890.517999, \"EndTime\": 1729711890.5180082, \"Dimensions\": {\"Algorithm\": \"Linear Learner\", \"Host\": \"algo-1\", \"Operation\": \"training\", \"epoch\": 2, \"model\": 23}, \"Metrics\": {\"validation_binary_classification_cross_entropy_objective\": {\"sum\": 0.5091091122397322, \"count\": 1, \"min\": 0.5091091122397322, \"max\": 0.5091091122397322}}}\u001b[0m\n",
      "\u001b[34m#metrics {\"StartTime\": 1729711890.5180395, \"EndTime\": 1729711890.5180497, \"Dimensions\": {\"Algorithm\": \"Linear Learner\", \"Host\": \"algo-1\", \"Operation\": \"training\", \"epoch\": 2, \"model\": 24}, \"Metrics\": {\"validation_binary_classification_cross_entropy_objective\": {\"sum\": 0.5137524220462398, \"count\": 1, \"min\": 0.5137524220462398, \"max\": 0.5137524220462398}}}\u001b[0m\n",
      "\u001b[34m#metrics {\"StartTime\": 1729711890.5180836, \"EndTime\": 1729711890.5180924, \"Dimensions\": {\"Algorithm\": \"Linear Learner\", \"Host\": \"algo-1\", \"Operation\": \"training\", \"epoch\": 2, \"model\": 25}, \"Metrics\": {\"validation_binary_classification_cross_entropy_objective\": {\"sum\": 0.5145079139780981, \"count\": 1, \"min\": 0.5145079139780981, \"max\": 0.5145079139780981}}}\u001b[0m\n",
      "\u001b[34m#metrics {\"StartTime\": 1729711890.5181196, \"EndTime\": 1729711890.5181284, \"Dimensions\": {\"Algorithm\": \"Linear Learner\", \"Host\": \"algo-1\", \"Operation\": \"training\", \"epoch\": 2, \"model\": 26}, \"Metrics\": {\"validation_binary_classification_cross_entropy_objective\": {\"sum\": 0.5137560675346654, \"count\": 1, \"min\": 0.5137560675346654, \"max\": 0.5137560675346654}}}\u001b[0m\n",
      "\u001b[34m#metrics {\"StartTime\": 1729711890.5181625, \"EndTime\": 1729711890.5181694, \"Dimensions\": {\"Algorithm\": \"Linear Learner\", \"Host\": \"algo-1\", \"Operation\": \"training\", \"epoch\": 2, \"model\": 27}, \"Metrics\": {\"validation_binary_classification_cross_entropy_objective\": {\"sum\": 0.5144864946345217, \"count\": 1, \"min\": 0.5144864946345217, \"max\": 0.5144864946345217}}}\u001b[0m\n",
      "\u001b[34m#metrics {\"StartTime\": 1729711890.5182142, \"EndTime\": 1729711890.518225, \"Dimensions\": {\"Algorithm\": \"Linear Learner\", \"Host\": \"algo-1\", \"Operation\": \"training\", \"epoch\": 2, \"model\": 28}, \"Metrics\": {\"validation_binary_classification_cross_entropy_objective\": {\"sum\": 0.5139719600091032, \"count\": 1, \"min\": 0.5139719600091032, \"max\": 0.5139719600091032}}}\u001b[0m\n",
      "\u001b[34m#metrics {\"StartTime\": 1729711890.5182624, \"EndTime\": 1729711890.5182729, \"Dimensions\": {\"Algorithm\": \"Linear Learner\", \"Host\": \"algo-1\", \"Operation\": \"training\", \"epoch\": 2, \"model\": 29}, \"Metrics\": {\"validation_binary_classification_cross_entropy_objective\": {\"sum\": 0.5141081432018129, \"count\": 1, \"min\": 0.5141081432018129, \"max\": 0.5141081432018129}}}\u001b[0m\n",
      "\u001b[34m#metrics {\"StartTime\": 1729711890.5183086, \"EndTime\": 1729711890.5183184, \"Dimensions\": {\"Algorithm\": \"Linear Learner\", \"Host\": \"algo-1\", \"Operation\": \"training\", \"epoch\": 2, \"model\": 30}, \"Metrics\": {\"validation_binary_classification_cross_entropy_objective\": {\"sum\": 0.5139773519286713, \"count\": 1, \"min\": 0.5139773519286713, \"max\": 0.5139773519286713}}}\u001b[0m\n",
      "\u001b[34m#metrics {\"StartTime\": 1729711890.5183463, \"EndTime\": 1729711890.5183554, \"Dimensions\": {\"Algorithm\": \"Linear Learner\", \"Host\": \"algo-1\", \"Operation\": \"training\", \"epoch\": 2, \"model\": 31}, \"Metrics\": {\"validation_binary_classification_cross_entropy_objective\": {\"sum\": 0.5141082174624534, \"count\": 1, \"min\": 0.5141082174624534, \"max\": 0.5141082174624534}}}\u001b[0m\n",
      "\u001b[34m[10/23/2024 19:31:30 INFO 140356875958080] #quality_metric: host=algo-1, epoch=2, validation binary_classification_cross_entropy_objective <loss>=0.49186094517743073\u001b[0m\n",
      "\u001b[34m[10/23/2024 19:31:30 INFO 140356875958080] #early_stopping_criteria_metric: host=algo-1, epoch=2, criteria=binary_classification_cross_entropy_objective, value=0.49186094517743073\u001b[0m\n",
      "\u001b[34m[10/23/2024 19:31:30 INFO 140356875958080] Saving model for epoch: 2\u001b[0m\n",
      "\u001b[34m[10/23/2024 19:31:30 INFO 140356875958080] Saved checkpoint to \"/tmp/tmpekezbqa0/mx-mod-0000.params\"\u001b[0m\n",
      "\u001b[34m[10/23/2024 19:31:30 INFO 140356875958080] #progress_metric: host=algo-1, completed 20.0 % of epochs\u001b[0m\n",
      "\u001b[34m#metrics {\"StartTime\": 1729711855.7848675, \"EndTime\": 1729711890.5247283, \"Dimensions\": {\"Algorithm\": \"Linear Learner\", \"Host\": \"algo-1\", \"Operation\": \"training\", \"epoch\": 2, \"Meta\": \"training_data_iter\"}, \"Metrics\": {\"Total Records Seen\": {\"sum\": 3937416.0, \"count\": 1, \"min\": 3937416, \"max\": 3937416}, \"Total Batches Seen\": {\"sum\": 3939.0, \"count\": 1, \"min\": 3939, \"max\": 3939}, \"Max Records Seen Between Resets\": {\"sum\": 1308472.0, \"count\": 1, \"min\": 1308472, \"max\": 1308472}, \"Max Batches Seen Between Resets\": {\"sum\": 1309.0, \"count\": 1, \"min\": 1309, \"max\": 1309}, \"Reset Count\": {\"sum\": 5.0, \"count\": 1, \"min\": 5, \"max\": 5}, \"Number of Records Since Last Reset\": {\"sum\": 1308472.0, \"count\": 1, \"min\": 1308472, \"max\": 1308472}, \"Number of Batches Since Last Reset\": {\"sum\": 1309.0, \"count\": 1, \"min\": 1309, \"max\": 1309}}}\u001b[0m\n",
      "\u001b[34m[10/23/2024 19:31:30 INFO 140356875958080] #throughput_metric: host=algo-1, train throughput=37664.73717552959 records/second\u001b[0m\n",
      "\u001b[34m[2024-10-23 19:32:02.181] [tensorio] [info] epoch_stats={\"data_pipeline\": \"/opt/ml/input/data/train\", \"epoch\": 9, \"duration\": 31650, \"num_examples\": 1309, \"num_bytes\": 549558240}\u001b[0m\n",
      "\u001b[34m#metrics {\"StartTime\": 1729711922.1817122, \"EndTime\": 1729711922.181781, \"Dimensions\": {\"Algorithm\": \"Linear Learner\", \"Host\": \"algo-1\", \"Operation\": \"training\", \"epoch\": 3, \"model\": 0}, \"Metrics\": {\"train_binary_classification_cross_entropy_objective\": {\"sum\": 0.4920451676721602, \"count\": 1, \"min\": 0.4920451676721602, \"max\": 0.4920451676721602}}}\u001b[0m\n",
      "\u001b[34m#metrics {\"StartTime\": 1729711922.181862, \"EndTime\": 1729711922.181875, \"Dimensions\": {\"Algorithm\": \"Linear Learner\", \"Host\": \"algo-1\", \"Operation\": \"training\", \"epoch\": 3, \"model\": 1}, \"Metrics\": {\"train_binary_classification_cross_entropy_objective\": {\"sum\": 0.49302732657802945, \"count\": 1, \"min\": 0.49302732657802945, \"max\": 0.49302732657802945}}}\u001b[0m\n",
      "\u001b[34m#metrics {\"StartTime\": 1729711922.1819088, \"EndTime\": 1729711922.1821833, \"Dimensions\": {\"Algorithm\": \"Linear Learner\", \"Host\": \"algo-1\", \"Operation\": \"training\", \"epoch\": 3, \"model\": 2}, \"Metrics\": {\"train_binary_classification_cross_entropy_objective\": {\"sum\": 0.49206418198985064, \"count\": 1, \"min\": 0.49206418198985064, \"max\": 0.49206418198985064}}}\u001b[0m\n",
      "\u001b[34m#metrics {\"StartTime\": 1729711922.1822293, \"EndTime\": 1729711922.1822386, \"Dimensions\": {\"Algorithm\": \"Linear Learner\", \"Host\": \"algo-1\", \"Operation\": \"training\", \"epoch\": 3, \"model\": 3}, \"Metrics\": {\"train_binary_classification_cross_entropy_objective\": {\"sum\": 0.49302688675626705, \"count\": 1, \"min\": 0.49302688675626705, \"max\": 0.49302688675626705}}}\u001b[0m\n",
      "\u001b[34m#metrics {\"StartTime\": 1729711922.1822598, \"EndTime\": 1729711922.1822665, \"Dimensions\": {\"Algorithm\": \"Linear Learner\", \"Host\": \"algo-1\", \"Operation\": \"training\", \"epoch\": 3, \"model\": 4}, \"Metrics\": {\"train_binary_classification_cross_entropy_objective\": {\"sum\": 0.4923573859211866, \"count\": 1, \"min\": 0.4923573859211866, \"max\": 0.4923573859211866}}}\u001b[0m\n",
      "\u001b[34m#metrics {\"StartTime\": 1729711922.182286, \"EndTime\": 1729711922.1822917, \"Dimensions\": {\"Algorithm\": \"Linear Learner\", \"Host\": \"algo-1\", \"Operation\": \"training\", \"epoch\": 3, \"model\": 5}, \"Metrics\": {\"train_binary_classification_cross_entropy_objective\": {\"sum\": 0.509277724659771, \"count\": 1, \"min\": 0.509277724659771, \"max\": 0.509277724659771}}}\u001b[0m\n",
      "\u001b[34m#metrics {\"StartTime\": 1729711922.1823165, \"EndTime\": 1729711922.1823246, \"Dimensions\": {\"Algorithm\": \"Linear Learner\", \"Host\": \"algo-1\", \"Operation\": \"training\", \"epoch\": 3, \"model\": 6}, \"Metrics\": {\"train_binary_classification_cross_entropy_objective\": {\"sum\": 0.49235738573453475, \"count\": 1, \"min\": 0.49235738573453475, \"max\": 0.49235738573453475}}}\u001b[0m\n",
      "\u001b[34m#metrics {\"StartTime\": 1729711922.182345, \"EndTime\": 1729711922.1823506, \"Dimensions\": {\"Algorithm\": \"Linear Learner\", \"Host\": \"algo-1\", \"Operation\": \"training\", \"epoch\": 3, \"model\": 7}, \"Metrics\": {\"train_binary_classification_cross_entropy_objective\": {\"sum\": 0.5092659972304598, \"count\": 1, \"min\": 0.5092659972304598, \"max\": 0.5092659972304598}}}\u001b[0m\n",
      "\u001b[34m#metrics {\"StartTime\": 1729711922.182369, \"EndTime\": 1729711922.1823747, \"Dimensions\": {\"Algorithm\": \"Linear Learner\", \"Host\": \"algo-1\", \"Operation\": \"training\", \"epoch\": 3, \"model\": 8}, \"Metrics\": {\"train_binary_classification_cross_entropy_objective\": {\"sum\": 0.49223604135775784, \"count\": 1, \"min\": 0.49223604135775784, \"max\": 0.49223604135775784}}}\u001b[0m\n",
      "\u001b[34m#metrics {\"StartTime\": 1729711922.1823928, \"EndTime\": 1729711922.1823986, \"Dimensions\": {\"Algorithm\": \"Linear Learner\", \"Host\": \"algo-1\", \"Operation\": \"training\", \"epoch\": 3, \"model\": 9}, \"Metrics\": {\"train_binary_classification_cross_entropy_objective\": {\"sum\": 0.49318331862516723, \"count\": 1, \"min\": 0.49318331862516723, \"max\": 0.49318331862516723}}}\u001b[0m\n",
      "\u001b[34m#metrics {\"StartTime\": 1729711922.1824174, \"EndTime\": 1729711922.1824257, \"Dimensions\": {\"Algorithm\": \"Linear Learner\", \"Host\": \"algo-1\", \"Operation\": \"training\", \"epoch\": 3, \"model\": 10}, \"Metrics\": {\"train_binary_classification_cross_entropy_objective\": {\"sum\": 0.49225232631205057, \"count\": 1, \"min\": 0.49225232631205057, \"max\": 0.49225232631205057}}}\u001b[0m\n",
      "\u001b[34m#metrics {\"StartTime\": 1729711922.1824489, \"EndTime\": 1729711922.182455, \"Dimensions\": {\"Algorithm\": \"Linear Learner\", \"Host\": \"algo-1\", \"Operation\": \"training\", \"epoch\": 3, \"model\": 11}, \"Metrics\": {\"train_binary_classification_cross_entropy_objective\": {\"sum\": 0.4931833173885987, \"count\": 1, \"min\": 0.4931833173885987, \"max\": 0.4931833173885987}}}\u001b[0m\n",
      "\u001b[34m#metrics {\"StartTime\": 1729711922.182477, \"EndTime\": 1729711922.1824825, \"Dimensions\": {\"Algorithm\": \"Linear Learner\", \"Host\": \"algo-1\", \"Operation\": \"training\", \"epoch\": 3, \"model\": 12}, \"Metrics\": {\"train_binary_classification_cross_entropy_objective\": {\"sum\": 0.49255123313413846, \"count\": 1, \"min\": 0.49255123313413846, \"max\": 0.49255123313413846}}}\u001b[0m\n",
      "\u001b[34m#metrics {\"StartTime\": 1729711922.1825006, \"EndTime\": 1729711922.1825063, \"Dimensions\": {\"Algorithm\": \"Linear Learner\", \"Host\": \"algo-1\", \"Operation\": \"training\", \"epoch\": 3, \"model\": 13}, \"Metrics\": {\"train_binary_classification_cross_entropy_objective\": {\"sum\": 0.5083454976913032, \"count\": 1, \"min\": 0.5083454976913032, \"max\": 0.5083454976913032}}}\u001b[0m\n",
      "\u001b[34m#metrics {\"StartTime\": 1729711922.1825247, \"EndTime\": 1729711922.1825309, \"Dimensions\": {\"Algorithm\": \"Linear Learner\", \"Host\": \"algo-1\", \"Operation\": \"training\", \"epoch\": 3, \"model\": 14}, \"Metrics\": {\"train_binary_classification_cross_entropy_objective\": {\"sum\": 0.49255123378741994, \"count\": 1, \"min\": 0.49255123378741994, \"max\": 0.49255123378741994}}}\u001b[0m\n",
      "\u001b[34m#metrics {\"StartTime\": 1729711922.1825566, \"EndTime\": 1729711922.1825628, \"Dimensions\": {\"Algorithm\": \"Linear Learner\", \"Host\": \"algo-1\", \"Operation\": \"training\", \"epoch\": 3, \"model\": 15}, \"Metrics\": {\"train_binary_classification_cross_entropy_objective\": {\"sum\": 0.5083455038741459, \"count\": 1, \"min\": 0.5083455038741459, \"max\": 0.5083455038741459}}}\u001b[0m\n",
      "\u001b[34m#metrics {\"StartTime\": 1729711922.1825814, \"EndTime\": 1729711922.1825874, \"Dimensions\": {\"Algorithm\": \"Linear Learner\", \"Host\": \"algo-1\", \"Operation\": \"training\", \"epoch\": 3, \"model\": 16}, \"Metrics\": {\"train_binary_classification_cross_entropy_objective\": {\"sum\": 0.5077940574202698, \"count\": 1, \"min\": 0.5077940574202698, \"max\": 0.5077940574202698}}}\u001b[0m\n",
      "\u001b[34m#metrics {\"StartTime\": 1729711922.1826055, \"EndTime\": 1729711922.182611, \"Dimensions\": {\"Algorithm\": \"Linear Learner\", \"Host\": \"algo-1\", \"Operation\": \"training\", \"epoch\": 3, \"model\": 17}, \"Metrics\": {\"train_binary_classification_cross_entropy_objective\": {\"sum\": 0.5080252472763761, \"count\": 1, \"min\": 0.5080252472763761, \"max\": 0.5080252472763761}}}\u001b[0m\n",
      "\u001b[34m#metrics {\"StartTime\": 1729711922.182629, \"EndTime\": 1729711922.182635, \"Dimensions\": {\"Algorithm\": \"Linear Learner\", \"Host\": \"algo-1\", \"Operation\": \"training\", \"epoch\": 3, \"model\": 18}, \"Metrics\": {\"train_binary_classification_cross_entropy_objective\": {\"sum\": 0.5077996905032284, \"count\": 1, \"min\": 0.5077996905032284, \"max\": 0.5077996905032284}}}\u001b[0m\n",
      "\u001b[34m#metrics {\"StartTime\": 1729711922.1826816, \"EndTime\": 1729711922.1826892, \"Dimensions\": {\"Algorithm\": \"Linear Learner\", \"Host\": \"algo-1\", \"Operation\": \"training\", \"epoch\": 3, \"model\": 19}, \"Metrics\": {\"train_binary_classification_cross_entropy_objective\": {\"sum\": 0.5080252508694243, \"count\": 1, \"min\": 0.5080252508694243, \"max\": 0.5080252508694243}}}\u001b[0m\n",
      "\u001b[34m#metrics {\"StartTime\": 1729711922.1827102, \"EndTime\": 1729711922.1827164, \"Dimensions\": {\"Algorithm\": \"Linear Learner\", \"Host\": \"algo-1\", \"Operation\": \"training\", \"epoch\": 3, \"model\": 20}, \"Metrics\": {\"train_binary_classification_cross_entropy_objective\": {\"sum\": 0.5078694283488329, \"count\": 1, \"min\": 0.5078694283488329, \"max\": 0.5078694283488329}}}\u001b[0m\n",
      "\u001b[34m#metrics {\"StartTime\": 1729711922.1827447, \"EndTime\": 1729711922.1827538, \"Dimensions\": {\"Algorithm\": \"Linear Learner\", \"Host\": \"algo-1\", \"Operation\": \"training\", \"epoch\": 3, \"model\": 21}, \"Metrics\": {\"train_binary_classification_cross_entropy_objective\": {\"sum\": 0.5107635032583814, \"count\": 1, \"min\": 0.5107635032583814, \"max\": 0.5107635032583814}}}\u001b[0m\n",
      "\u001b[34m#metrics {\"StartTime\": 1729711922.1827855, \"EndTime\": 1729711922.182795, \"Dimensions\": {\"Algorithm\": \"Linear Learner\", \"Host\": \"algo-1\", \"Operation\": \"training\", \"epoch\": 3, \"model\": 22}, \"Metrics\": {\"train_binary_classification_cross_entropy_objective\": {\"sum\": 0.5078694290487774, \"count\": 1, \"min\": 0.5078694290487774, \"max\": 0.5078694290487774}}}\u001b[0m\n",
      "\u001b[34m#metrics {\"StartTime\": 1729711922.182831, \"EndTime\": 1729711922.18284, \"Dimensions\": {\"Algorithm\": \"Linear Learner\", \"Host\": \"algo-1\", \"Operation\": \"training\", \"epoch\": 3, \"model\": 23}, \"Metrics\": {\"train_binary_classification_cross_entropy_objective\": {\"sum\": 0.5107635041449777, \"count\": 1, \"min\": 0.5107635041449777, \"max\": 0.5107635041449777}}}\u001b[0m\n",
      "\u001b[34m#metrics {\"StartTime\": 1729711922.1828744, \"EndTime\": 1729711922.182884, \"Dimensions\": {\"Algorithm\": \"Linear Learner\", \"Host\": \"algo-1\", \"Operation\": \"training\", \"epoch\": 3, \"model\": 24}, \"Metrics\": {\"train_binary_classification_cross_entropy_objective\": {\"sum\": 0.5137688112404732, \"count\": 1, \"min\": 0.5137688112404732, \"max\": 0.5137688112404732}}}\u001b[0m\n",
      "\u001b[34m#metrics {\"StartTime\": 1729711922.1829152, \"EndTime\": 1729711922.182925, \"Dimensions\": {\"Algorithm\": \"Linear Learner\", \"Host\": \"algo-1\", \"Operation\": \"training\", \"epoch\": 3, \"model\": 25}, \"Metrics\": {\"train_binary_classification_cross_entropy_objective\": {\"sum\": 0.5138708804535939, \"count\": 1, \"min\": 0.5138708804535939, \"max\": 0.5138708804535939}}}\u001b[0m\n",
      "\u001b[34m#metrics {\"StartTime\": 1729711922.182955, \"EndTime\": 1729711922.1829646, \"Dimensions\": {\"Algorithm\": \"Linear Learner\", \"Host\": \"algo-1\", \"Operation\": \"training\", \"epoch\": 3, \"model\": 26}, \"Metrics\": {\"train_binary_classification_cross_entropy_objective\": {\"sum\": 0.5137703132979367, \"count\": 1, \"min\": 0.5137703132979367, \"max\": 0.5137703132979367}}}\u001b[0m\n",
      "\u001b[34m#metrics {\"StartTime\": 1729711922.1829975, \"EndTime\": 1729711922.1830072, \"Dimensions\": {\"Algorithm\": \"Linear Learner\", \"Host\": \"algo-1\", \"Operation\": \"training\", \"epoch\": 3, \"model\": 27}, \"Metrics\": {\"train_binary_classification_cross_entropy_objective\": {\"sum\": 0.5138708925393014, \"count\": 1, \"min\": 0.5138708925393014, \"max\": 0.5138708925393014}}}\u001b[0m\n",
      "\u001b[34m#metrics {\"StartTime\": 1729711922.1830425, \"EndTime\": 1729711922.1830525, \"Dimensions\": {\"Algorithm\": \"Linear Learner\", \"Host\": \"algo-1\", \"Operation\": \"training\", \"epoch\": 3, \"model\": 28}, \"Metrics\": {\"train_binary_classification_cross_entropy_objective\": {\"sum\": 0.5137888662355755, \"count\": 1, \"min\": 0.5137888662355755, \"max\": 0.5137888662355755}}}\u001b[0m\n",
      "\u001b[34m#metrics {\"StartTime\": 1729711922.1830845, \"EndTime\": 1729711922.1830945, \"Dimensions\": {\"Algorithm\": \"Linear Learner\", \"Host\": \"algo-1\", \"Operation\": \"training\", \"epoch\": 3, \"model\": 29}, \"Metrics\": {\"train_binary_classification_cross_entropy_objective\": {\"sum\": 0.5148574068028627, \"count\": 1, \"min\": 0.5148574068028627, \"max\": 0.5148574068028627}}}\u001b[0m\n",
      "\u001b[34m#metrics {\"StartTime\": 1729711922.1831279, \"EndTime\": 1729711922.1831374, \"Dimensions\": {\"Algorithm\": \"Linear Learner\", \"Host\": \"algo-1\", \"Operation\": \"training\", \"epoch\": 3, \"model\": 30}, \"Metrics\": {\"train_binary_classification_cross_entropy_objective\": {\"sum\": 0.5137889414796042, \"count\": 1, \"min\": 0.5137889414796042, \"max\": 0.5137889414796042}}}\u001b[0m\n",
      "\u001b[34m#metrics {\"StartTime\": 1729711922.1831694, \"EndTime\": 1729711922.183179, \"Dimensions\": {\"Algorithm\": \"Linear Learner\", \"Host\": \"algo-1\", \"Operation\": \"training\", \"epoch\": 3, \"model\": 31}, \"Metrics\": {\"train_binary_classification_cross_entropy_objective\": {\"sum\": 0.5148574172087037, \"count\": 1, \"min\": 0.5148574172087037, \"max\": 0.5148574172087037}}}\u001b[0m\n",
      "\u001b[34m[10/23/2024 19:32:02 INFO 140356875958080] #quality_metric: host=algo-1, epoch=3, train binary_classification_cross_entropy_objective <loss>=0.4920451676721602\u001b[0m\n",
      "\u001b[34m[2024-10-23 19:32:05.344] [tensorio] [info] epoch_stats={\"data_pipeline\": \"/opt/ml/input/data/validation\", \"epoch\": 11, \"duration\": 3144, \"num_examples\": 164, \"num_bytes\": 68694780}\u001b[0m\n",
      "\u001b[34m#metrics {\"StartTime\": 1729711925.3499644, \"EndTime\": 1729711925.35002, \"Dimensions\": {\"Algorithm\": \"Linear Learner\", \"Host\": \"algo-1\", \"Operation\": \"training\", \"epoch\": 3, \"model\": 0}, \"Metrics\": {\"validation_binary_classification_cross_entropy_objective\": {\"sum\": 0.4918431224371347, \"count\": 1, \"min\": 0.4918431224371347, \"max\": 0.4918431224371347}}}\u001b[0m\n",
      "\u001b[34m#metrics {\"StartTime\": 1729711925.3500903, \"EndTime\": 1729711925.350101, \"Dimensions\": {\"Algorithm\": \"Linear Learner\", \"Host\": \"algo-1\", \"Operation\": \"training\", \"epoch\": 3, \"model\": 1}, \"Metrics\": {\"validation_binary_classification_cross_entropy_objective\": {\"sum\": 0.4932851388767418, \"count\": 1, \"min\": 0.4932851388767418, \"max\": 0.4932851388767418}}}\u001b[0m\n",
      "\u001b[34m#metrics {\"StartTime\": 1729711925.3501382, \"EndTime\": 1729711925.350149, \"Dimensions\": {\"Algorithm\": \"Linear Learner\", \"Host\": \"algo-1\", \"Operation\": \"training\", \"epoch\": 3, \"model\": 2}, \"Metrics\": {\"validation_binary_classification_cross_entropy_objective\": {\"sum\": 0.4918632041562601, \"count\": 1, \"min\": 0.4918632041562601, \"max\": 0.4918632041562601}}}\u001b[0m\n",
      "\u001b[34m#metrics {\"StartTime\": 1729711925.350188, \"EndTime\": 1729711925.350208, \"Dimensions\": {\"Algorithm\": \"Linear Learner\", \"Host\": \"algo-1\", \"Operation\": \"training\", \"epoch\": 3, \"model\": 3}, \"Metrics\": {\"validation_binary_classification_cross_entropy_objective\": {\"sum\": 0.4932849864371859, \"count\": 1, \"min\": 0.4932849864371859, \"max\": 0.4932849864371859}}}\u001b[0m\n",
      "\u001b[34m#metrics {\"StartTime\": 1729711925.3502452, \"EndTime\": 1729711925.3502548, \"Dimensions\": {\"Algorithm\": \"Linear Learner\", \"Host\": \"algo-1\", \"Operation\": \"training\", \"epoch\": 3, \"model\": 4}, \"Metrics\": {\"validation_binary_classification_cross_entropy_objective\": {\"sum\": 0.49197961834550624, \"count\": 1, \"min\": 0.49197961834550624, \"max\": 0.49197961834550624}}}\u001b[0m\n",
      "\u001b[34m#metrics {\"StartTime\": 1729711925.3502884, \"EndTime\": 1729711925.3502986, \"Dimensions\": {\"Algorithm\": \"Linear Learner\", \"Host\": \"algo-1\", \"Operation\": \"training\", \"epoch\": 3, \"model\": 5}, \"Metrics\": {\"validation_binary_classification_cross_entropy_objective\": {\"sum\": 0.5053508733985734, \"count\": 1, \"min\": 0.5053508733985734, \"max\": 0.5053508733985734}}}\u001b[0m\n",
      "\u001b[34m#metrics {\"StartTime\": 1729711925.3503346, \"EndTime\": 1729711925.3503454, \"Dimensions\": {\"Algorithm\": \"Linear Learner\", \"Host\": \"algo-1\", \"Operation\": \"training\", \"epoch\": 3, \"model\": 6}, \"Metrics\": {\"validation_binary_classification_cross_entropy_objective\": {\"sum\": 0.4919796078967729, \"count\": 1, \"min\": 0.4919796078967729, \"max\": 0.4919796078967729}}}\u001b[0m\n",
      "\u001b[34m#metrics {\"StartTime\": 1729711925.3503854, \"EndTime\": 1729711925.3503942, \"Dimensions\": {\"Algorithm\": \"Linear Learner\", \"Host\": \"algo-1\", \"Operation\": \"training\", \"epoch\": 3, \"model\": 7}, \"Metrics\": {\"validation_binary_classification_cross_entropy_objective\": {\"sum\": 0.505481920479097, \"count\": 1, \"min\": 0.505481920479097, \"max\": 0.505481920479097}}}\u001b[0m\n",
      "\u001b[34m#metrics {\"StartTime\": 1729711925.3504314, \"EndTime\": 1729711925.3504388, \"Dimensions\": {\"Algorithm\": \"Linear Learner\", \"Host\": \"algo-1\", \"Operation\": \"training\", \"epoch\": 3, \"model\": 8}, \"Metrics\": {\"validation_binary_classification_cross_entropy_objective\": {\"sum\": 0.4921030329995001, \"count\": 1, \"min\": 0.4921030329995001, \"max\": 0.4921030329995001}}}\u001b[0m\n",
      "\u001b[34m#metrics {\"StartTime\": 1729711925.3504596, \"EndTime\": 1729711925.3504665, \"Dimensions\": {\"Algorithm\": \"Linear Learner\", \"Host\": \"algo-1\", \"Operation\": \"training\", \"epoch\": 3, \"model\": 9}, \"Metrics\": {\"validation_binary_classification_cross_entropy_objective\": {\"sum\": 0.4934710535620819, \"count\": 1, \"min\": 0.4934710535620819, \"max\": 0.4934710535620819}}}\u001b[0m\n",
      "\u001b[34m#metrics {\"StartTime\": 1729711925.3504999, \"EndTime\": 1729711925.3505096, \"Dimensions\": {\"Algorithm\": \"Linear Learner\", \"Host\": \"algo-1\", \"Operation\": \"training\", \"epoch\": 3, \"model\": 10}, \"Metrics\": {\"validation_binary_classification_cross_entropy_objective\": {\"sum\": 0.4921204685769093, \"count\": 1, \"min\": 0.4921204685769093, \"max\": 0.4921204685769093}}}\u001b[0m\n",
      "\u001b[34m#metrics {\"StartTime\": 1729711925.3505466, \"EndTime\": 1729711925.3505564, \"Dimensions\": {\"Algorithm\": \"Linear Learner\", \"Host\": \"algo-1\", \"Operation\": \"training\", \"epoch\": 3, \"model\": 11}, \"Metrics\": {\"validation_binary_classification_cross_entropy_objective\": {\"sum\": 0.49347105729377233, \"count\": 1, \"min\": 0.49347105729377233, \"max\": 0.49347105729377233}}}\u001b[0m\n",
      "\u001b[34m#metrics {\"StartTime\": 1729711925.3505907, \"EndTime\": 1729711925.3506007, \"Dimensions\": {\"Algorithm\": \"Linear Learner\", \"Host\": \"algo-1\", \"Operation\": \"training\", \"epoch\": 3, \"model\": 12}, \"Metrics\": {\"validation_binary_classification_cross_entropy_objective\": {\"sum\": 0.49225035920655447, \"count\": 1, \"min\": 0.49225035920655447, \"max\": 0.49225035920655447}}}\u001b[0m\n",
      "\u001b[34m#metrics {\"StartTime\": 1729711925.3506289, \"EndTime\": 1729711925.3506355, \"Dimensions\": {\"Algorithm\": \"Linear Learner\", \"Host\": \"algo-1\", \"Operation\": \"training\", \"epoch\": 3, \"model\": 13}, \"Metrics\": {\"validation_binary_classification_cross_entropy_objective\": {\"sum\": 0.5043267928581486, \"count\": 1, \"min\": 0.5043267928581486, \"max\": 0.5043267928581486}}}\u001b[0m\n",
      "\u001b[34m#metrics {\"StartTime\": 1729711925.3506944, \"EndTime\": 1729711925.350703, \"Dimensions\": {\"Algorithm\": \"Linear Learner\", \"Host\": \"algo-1\", \"Operation\": \"training\", \"epoch\": 3, \"model\": 14}, \"Metrics\": {\"validation_binary_classification_cross_entropy_objective\": {\"sum\": 0.49225035995289257, \"count\": 1, \"min\": 0.49225035995289257, \"max\": 0.49225035995289257}}}\u001b[0m\n",
      "\u001b[34m#metrics {\"StartTime\": 1729711925.3507261, \"EndTime\": 1729711925.3507323, \"Dimensions\": {\"Algorithm\": \"Linear Learner\", \"Host\": \"algo-1\", \"Operation\": \"training\", \"epoch\": 3, \"model\": 15}, \"Metrics\": {\"validation_binary_classification_cross_entropy_objective\": {\"sum\": 0.5043268057324808, \"count\": 1, \"min\": 0.5043268057324808, \"max\": 0.5043268057324808}}}\u001b[0m\n",
      "\u001b[34m#metrics {\"StartTime\": 1729711925.350757, \"EndTime\": 1729711925.350763, \"Dimensions\": {\"Algorithm\": \"Linear Learner\", \"Host\": \"algo-1\", \"Operation\": \"training\", \"epoch\": 3, \"model\": 16}, \"Metrics\": {\"validation_binary_classification_cross_entropy_objective\": {\"sum\": 0.5077751592124249, \"count\": 1, \"min\": 0.5077751592124249, \"max\": 0.5077751592124249}}}\u001b[0m\n",
      "\u001b[34m#metrics {\"StartTime\": 1729711925.350788, \"EndTime\": 1729711925.3507943, \"Dimensions\": {\"Algorithm\": \"Linear Learner\", \"Host\": \"algo-1\", \"Operation\": \"training\", \"epoch\": 3, \"model\": 17}, \"Metrics\": {\"validation_binary_classification_cross_entropy_objective\": {\"sum\": 0.5080946331523167, \"count\": 1, \"min\": 0.5080946331523167, \"max\": 0.5080946331523167}}}\u001b[0m\n",
      "\u001b[34m#metrics {\"StartTime\": 1729711925.3508177, \"EndTime\": 1729711925.3508236, \"Dimensions\": {\"Algorithm\": \"Linear Learner\", \"Host\": \"algo-1\", \"Operation\": \"training\", \"epoch\": 3, \"model\": 18}, \"Metrics\": {\"validation_binary_classification_cross_entropy_objective\": {\"sum\": 0.5077677883773974, \"count\": 1, \"min\": 0.5077677883773974, \"max\": 0.5077677883773974}}}\u001b[0m\n",
      "\u001b[34m#metrics {\"StartTime\": 1729711925.3508446, \"EndTime\": 1729711925.350853, \"Dimensions\": {\"Algorithm\": \"Linear Learner\", \"Host\": \"algo-1\", \"Operation\": \"training\", \"epoch\": 3, \"model\": 19}, \"Metrics\": {\"validation_binary_classification_cross_entropy_objective\": {\"sum\": 0.5080948063027547, \"count\": 1, \"min\": 0.5080948063027547, \"max\": 0.5080948063027547}}}\u001b[0m\n",
      "\u001b[34m#metrics {\"StartTime\": 1729711925.3508773, \"EndTime\": 1729711925.3508835, \"Dimensions\": {\"Algorithm\": \"Linear Learner\", \"Host\": \"algo-1\", \"Operation\": \"training\", \"epoch\": 3, \"model\": 20}, \"Metrics\": {\"validation_binary_classification_cross_entropy_objective\": {\"sum\": 0.5076176523939995, \"count\": 1, \"min\": 0.5076176523939995, \"max\": 0.5076176523939995}}}\u001b[0m\n",
      "\u001b[34m#metrics {\"StartTime\": 1729711925.350907, \"EndTime\": 1729711925.350913, \"Dimensions\": {\"Algorithm\": \"Linear Learner\", \"Host\": \"algo-1\", \"Operation\": \"training\", \"epoch\": 3, \"model\": 21}, \"Metrics\": {\"validation_binary_classification_cross_entropy_objective\": {\"sum\": 0.508701742435547, \"count\": 1, \"min\": 0.508701742435547, \"max\": 0.508701742435547}}}\u001b[0m\n",
      "\u001b[34m#metrics {\"StartTime\": 1729711925.3509367, \"EndTime\": 1729711925.3509426, \"Dimensions\": {\"Algorithm\": \"Linear Learner\", \"Host\": \"algo-1\", \"Operation\": \"training\", \"epoch\": 3, \"model\": 22}, \"Metrics\": {\"validation_binary_classification_cross_entropy_objective\": {\"sum\": 0.5076176613500566, \"count\": 1, \"min\": 0.5076176613500566, \"max\": 0.5076176613500566}}}\u001b[0m\n",
      "\u001b[34m#metrics {\"StartTime\": 1729711925.3509643, \"EndTime\": 1729711925.35097, \"Dimensions\": {\"Algorithm\": \"Linear Learner\", \"Host\": \"algo-1\", \"Operation\": \"training\", \"epoch\": 3, \"model\": 23}, \"Metrics\": {\"validation_binary_classification_cross_entropy_objective\": {\"sum\": 0.50870184897531, \"count\": 1, \"min\": 0.50870184897531, \"max\": 0.50870184897531}}}\u001b[0m\n",
      "\u001b[34m#metrics {\"StartTime\": 1729711925.3509924, \"EndTime\": 1729711925.3509982, \"Dimensions\": {\"Algorithm\": \"Linear Learner\", \"Host\": \"algo-1\", \"Operation\": \"training\", \"epoch\": 3, \"model\": 24}, \"Metrics\": {\"validation_binary_classification_cross_entropy_objective\": {\"sum\": 0.513755444715525, \"count\": 1, \"min\": 0.513755444715525, \"max\": 0.513755444715525}}}\u001b[0m\n",
      "\u001b[34m#metrics {\"StartTime\": 1729711925.3510265, \"EndTime\": 1729711925.351033, \"Dimensions\": {\"Algorithm\": \"Linear Learner\", \"Host\": \"algo-1\", \"Operation\": \"training\", \"epoch\": 3, \"model\": 25}, \"Metrics\": {\"validation_binary_classification_cross_entropy_objective\": {\"sum\": 0.5144019197881671, \"count\": 1, \"min\": 0.5144019197881671, \"max\": 0.5144019197881671}}}\u001b[0m\n",
      "\u001b[34m#metrics {\"StartTime\": 1729711925.3510573, \"EndTime\": 1729711925.3510633, \"Dimensions\": {\"Algorithm\": \"Linear Learner\", \"Host\": \"algo-1\", \"Operation\": \"training\", \"epoch\": 3, \"model\": 26}, \"Metrics\": {\"validation_binary_classification_cross_entropy_objective\": {\"sum\": 0.5137551788325787, \"count\": 1, \"min\": 0.5137551788325787, \"max\": 0.5137551788325787}}}\u001b[0m\n",
      "\u001b[34m#metrics {\"StartTime\": 1729711925.3510866, \"EndTime\": 1729711925.3510926, \"Dimensions\": {\"Algorithm\": \"Linear Learner\", \"Host\": \"algo-1\", \"Operation\": \"training\", \"epoch\": 3, \"model\": 27}, \"Metrics\": {\"validation_binary_classification_cross_entropy_objective\": {\"sum\": 0.514389749999188, \"count\": 1, \"min\": 0.514389749999188, \"max\": 0.514389749999188}}}\u001b[0m\n",
      "\u001b[34m#metrics {\"StartTime\": 1729711925.3511117, \"EndTime\": 1729711925.3511174, \"Dimensions\": {\"Algorithm\": \"Linear Learner\", \"Host\": \"algo-1\", \"Operation\": \"training\", \"epoch\": 3, \"model\": 28}, \"Metrics\": {\"validation_binary_classification_cross_entropy_objective\": {\"sum\": 0.513754573738968, \"count\": 1, \"min\": 0.513754573738968, \"max\": 0.513754573738968}}}\u001b[0m\n",
      "\u001b[34m#metrics {\"StartTime\": 1729711925.35114, \"EndTime\": 1729711925.3511457, \"Dimensions\": {\"Algorithm\": \"Linear Learner\", \"Host\": \"algo-1\", \"Operation\": \"training\", \"epoch\": 3, \"model\": 29}, \"Metrics\": {\"validation_binary_classification_cross_entropy_objective\": {\"sum\": 0.513943465007216, \"count\": 1, \"min\": 0.513943465007216, \"max\": 0.513943465007216}}}\u001b[0m\n",
      "\u001b[34m#metrics {\"StartTime\": 1729711925.351169, \"EndTime\": 1729711925.3511753, \"Dimensions\": {\"Algorithm\": \"Linear Learner\", \"Host\": \"algo-1\", \"Operation\": \"training\", \"epoch\": 3, \"model\": 30}, \"Metrics\": {\"validation_binary_classification_cross_entropy_objective\": {\"sum\": 0.5137547455833145, \"count\": 1, \"min\": 0.5137547455833145, \"max\": 0.5137547455833145}}}\u001b[0m\n",
      "\u001b[34m#metrics {\"StartTime\": 1729711925.351202, \"EndTime\": 1729711925.3512084, \"Dimensions\": {\"Algorithm\": \"Linear Learner\", \"Host\": \"algo-1\", \"Operation\": \"training\", \"epoch\": 3, \"model\": 31}, \"Metrics\": {\"validation_binary_classification_cross_entropy_objective\": {\"sum\": 0.5139434664998922, \"count\": 1, \"min\": 0.5139434664998922, \"max\": 0.5139434664998922}}}\u001b[0m\n",
      "\u001b[34m[10/23/2024 19:32:05 INFO 140356875958080] #quality_metric: host=algo-1, epoch=3, validation binary_classification_cross_entropy_objective <loss>=0.4918431224371347\u001b[0m\n",
      "\u001b[34m[10/23/2024 19:32:05 INFO 140356875958080] #early_stopping_criteria_metric: host=algo-1, epoch=3, criteria=binary_classification_cross_entropy_objective, value=0.4918431224371347\u001b[0m\n",
      "\u001b[34m[10/23/2024 19:32:05 INFO 140356875958080] Saving model for epoch: 3\u001b[0m\n",
      "\u001b[34m[10/23/2024 19:32:05 INFO 140356875958080] Saved checkpoint to \"/tmp/tmpw7ymdx5x/mx-mod-0000.params\"\u001b[0m\n",
      "\u001b[34m[10/23/2024 19:32:05 INFO 140356875958080] #progress_metric: host=algo-1, completed 26.666666666666668 % of epochs\u001b[0m\n",
      "\u001b[34m#metrics {\"StartTime\": 1729711890.5313666, \"EndTime\": 1729711925.3566387, \"Dimensions\": {\"Algorithm\": \"Linear Learner\", \"Host\": \"algo-1\", \"Operation\": \"training\", \"epoch\": 3, \"Meta\": \"training_data_iter\"}, \"Metrics\": {\"Total Records Seen\": {\"sum\": 5245888.0, \"count\": 1, \"min\": 5245888, \"max\": 5245888}, \"Total Batches Seen\": {\"sum\": 5248.0, \"count\": 1, \"min\": 5248, \"max\": 5248}, \"Max Records Seen Between Resets\": {\"sum\": 1308472.0, \"count\": 1, \"min\": 1308472, \"max\": 1308472}, \"Max Batches Seen Between Resets\": {\"sum\": 1309.0, \"count\": 1, \"min\": 1309, \"max\": 1309}, \"Reset Count\": {\"sum\": 6.0, \"count\": 1, \"min\": 6, \"max\": 6}, \"Number of Records Since Last Reset\": {\"sum\": 1308472.0, \"count\": 1, \"min\": 1308472, \"max\": 1308472}, \"Number of Batches Since Last Reset\": {\"sum\": 1309.0, \"count\": 1, \"min\": 1309, \"max\": 1309}}}\u001b[0m\n",
      "\u001b[34m[10/23/2024 19:32:05 INFO 140356875958080] #throughput_metric: host=algo-1, train throughput=37572.356786495904 records/second\u001b[0m\n",
      "\u001b[34m[2024-10-23 19:32:37.045] [tensorio] [info] epoch_stats={\"data_pipeline\": \"/opt/ml/input/data/train\", \"epoch\": 11, \"duration\": 31685, \"num_examples\": 1309, \"num_bytes\": 549558240}\u001b[0m\n",
      "\u001b[34m#metrics {\"StartTime\": 1729711957.0452647, \"EndTime\": 1729711957.0453308, \"Dimensions\": {\"Algorithm\": \"Linear Learner\", \"Host\": \"algo-1\", \"Operation\": \"training\", \"epoch\": 4, \"model\": 0}, \"Metrics\": {\"train_binary_classification_cross_entropy_objective\": {\"sum\": 0.49201813649402115, \"count\": 1, \"min\": 0.49201813649402115, \"max\": 0.49201813649402115}}}\u001b[0m\n",
      "\u001b[34m#metrics {\"StartTime\": 1729711957.0454051, \"EndTime\": 1729711957.0454175, \"Dimensions\": {\"Algorithm\": \"Linear Learner\", \"Host\": \"algo-1\", \"Operation\": \"training\", \"epoch\": 4, \"model\": 1}, \"Metrics\": {\"train_binary_classification_cross_entropy_objective\": {\"sum\": 0.49290216514750723, \"count\": 1, \"min\": 0.49290216514750723, \"max\": 0.49290216514750723}}}\u001b[0m\n",
      "\u001b[34m#metrics {\"StartTime\": 1729711957.0454504, \"EndTime\": 1729711957.0454607, \"Dimensions\": {\"Algorithm\": \"Linear Learner\", \"Host\": \"algo-1\", \"Operation\": \"training\", \"epoch\": 4, \"model\": 2}, \"Metrics\": {\"train_binary_classification_cross_entropy_objective\": {\"sum\": 0.4920630436468562, \"count\": 1, \"min\": 0.4920630436468562, \"max\": 0.4920630436468562}}}\u001b[0m\n",
      "\u001b[34m#metrics {\"StartTime\": 1729711957.045494, \"EndTime\": 1729711957.0455039, \"Dimensions\": {\"Algorithm\": \"Linear Learner\", \"Host\": \"algo-1\", \"Operation\": \"training\", \"epoch\": 4, \"model\": 3}, \"Metrics\": {\"train_binary_classification_cross_entropy_objective\": {\"sum\": 0.49290194370841395, \"count\": 1, \"min\": 0.49290194370841395, \"max\": 0.49290194370841395}}}\u001b[0m\n",
      "\u001b[34m#metrics {\"StartTime\": 1729711957.045535, \"EndTime\": 1729711957.045544, \"Dimensions\": {\"Algorithm\": \"Linear Learner\", \"Host\": \"algo-1\", \"Operation\": \"training\", \"epoch\": 4, \"model\": 4}, \"Metrics\": {\"train_binary_classification_cross_entropy_objective\": {\"sum\": 0.49212002941446564, \"count\": 1, \"min\": 0.49212002941446564, \"max\": 0.49212002941446564}}}\u001b[0m\n",
      "\u001b[34m#metrics {\"StartTime\": 1729711957.0455751, \"EndTime\": 1729711957.0455856, \"Dimensions\": {\"Algorithm\": \"Linear Learner\", \"Host\": \"algo-1\", \"Operation\": \"training\", \"epoch\": 4, \"model\": 5}, \"Metrics\": {\"train_binary_classification_cross_entropy_objective\": {\"sum\": 0.5071893982493549, \"count\": 1, \"min\": 0.5071893982493549, \"max\": 0.5071893982493549}}}\u001b[0m\n",
      "\u001b[34m#metrics {\"StartTime\": 1729711957.0456176, \"EndTime\": 1729711957.0456266, \"Dimensions\": {\"Algorithm\": \"Linear Learner\", \"Host\": \"algo-1\", \"Operation\": \"training\", \"epoch\": 4, \"model\": 6}, \"Metrics\": {\"train_binary_classification_cross_entropy_objective\": {\"sum\": 0.4921200284812064, \"count\": 1, \"min\": 0.4921200284812064, \"max\": 0.4921200284812064}}}\u001b[0m\n",
      "\u001b[34m#metrics {\"StartTime\": 1729711957.0456553, \"EndTime\": 1729711957.045664, \"Dimensions\": {\"Algorithm\": \"Linear Learner\", \"Host\": \"algo-1\", \"Operation\": \"training\", \"epoch\": 4, \"model\": 7}, \"Metrics\": {\"train_binary_classification_cross_entropy_objective\": {\"sum\": 0.5071874692024441, \"count\": 1, \"min\": 0.5071874692024441, \"max\": 0.5071874692024441}}}\u001b[0m\n",
      "\u001b[34m#metrics {\"StartTime\": 1729711957.0457008, \"EndTime\": 1729711957.045711, \"Dimensions\": {\"Algorithm\": \"Linear Learner\", \"Host\": \"algo-1\", \"Operation\": \"training\", \"epoch\": 4, \"model\": 8}, \"Metrics\": {\"train_binary_classification_cross_entropy_objective\": {\"sum\": 0.49221029901067054, \"count\": 1, \"min\": 0.49221029901067054, \"max\": 0.49221029901067054}}}\u001b[0m\n",
      "\u001b[34m#metrics {\"StartTime\": 1729711957.0457451, \"EndTime\": 1729711957.0457551, \"Dimensions\": {\"Algorithm\": \"Linear Learner\", \"Host\": \"algo-1\", \"Operation\": \"training\", \"epoch\": 4, \"model\": 9}, \"Metrics\": {\"train_binary_classification_cross_entropy_objective\": {\"sum\": 0.4930662445628315, \"count\": 1, \"min\": 0.4930662445628315, \"max\": 0.4930662445628315}}}\u001b[0m\n",
      "\u001b[34m#metrics {\"StartTime\": 1729711957.0457826, \"EndTime\": 1729711957.045791, \"Dimensions\": {\"Algorithm\": \"Linear Learner\", \"Host\": \"algo-1\", \"Operation\": \"training\", \"epoch\": 4, \"model\": 10}, \"Metrics\": {\"train_binary_classification_cross_entropy_objective\": {\"sum\": 0.4922512050010378, \"count\": 1, \"min\": 0.4922512050010378, \"max\": 0.4922512050010378}}}\u001b[0m\n",
      "\u001b[34m#metrics {\"StartTime\": 1729711957.0458212, \"EndTime\": 1729711957.0458312, \"Dimensions\": {\"Algorithm\": \"Linear Learner\", \"Host\": \"algo-1\", \"Operation\": \"training\", \"epoch\": 4, \"model\": 11}, \"Metrics\": {\"train_binary_classification_cross_entropy_objective\": {\"sum\": 0.493066244586163, \"count\": 1, \"min\": 0.493066244586163, \"max\": 0.493066244586163}}}\u001b[0m\n",
      "\u001b[34m#metrics {\"StartTime\": 1729711957.0458632, \"EndTime\": 1729711957.045873, \"Dimensions\": {\"Algorithm\": \"Linear Learner\", \"Host\": \"algo-1\", \"Operation\": \"training\", \"epoch\": 4, \"model\": 12}, \"Metrics\": {\"train_binary_classification_cross_entropy_objective\": {\"sum\": 0.4923254126452525, \"count\": 1, \"min\": 0.4923254126452525, \"max\": 0.4923254126452525}}}\u001b[0m\n",
      "\u001b[34m#metrics {\"StartTime\": 1729711957.0459058, \"EndTime\": 1729711957.0459156, \"Dimensions\": {\"Algorithm\": \"Linear Learner\", \"Host\": \"algo-1\", \"Operation\": \"training\", \"epoch\": 4, \"model\": 13}, \"Metrics\": {\"train_binary_classification_cross_entropy_objective\": {\"sum\": 0.5064397549877109, \"count\": 1, \"min\": 0.5064397549877109, \"max\": 0.5064397549877109}}}\u001b[0m\n",
      "\u001b[34m#metrics {\"StartTime\": 1729711957.045951, \"EndTime\": 1729711957.045962, \"Dimensions\": {\"Algorithm\": \"Linear Learner\", \"Host\": \"algo-1\", \"Operation\": \"training\", \"epoch\": 4, \"model\": 14}, \"Metrics\": {\"train_binary_classification_cross_entropy_objective\": {\"sum\": 0.4923254125285951, \"count\": 1, \"min\": 0.4923254125285951, \"max\": 0.4923254125285951}}}\u001b[0m\n",
      "\u001b[34m#metrics {\"StartTime\": 1729711957.0459979, \"EndTime\": 1729711957.0460067, \"Dimensions\": {\"Algorithm\": \"Linear Learner\", \"Host\": \"algo-1\", \"Operation\": \"training\", \"epoch\": 4, \"model\": 15}, \"Metrics\": {\"train_binary_classification_cross_entropy_objective\": {\"sum\": 0.5064397576474997, \"count\": 1, \"min\": 0.5064397576474997, \"max\": 0.5064397576474997}}}\u001b[0m\n",
      "\u001b[34m#metrics {\"StartTime\": 1729711957.046044, \"EndTime\": 1729711957.0460532, \"Dimensions\": {\"Algorithm\": \"Linear Learner\", \"Host\": \"algo-1\", \"Operation\": \"training\", \"epoch\": 4, \"model\": 16}, \"Metrics\": {\"train_binary_classification_cross_entropy_objective\": {\"sum\": 0.5077846685287055, \"count\": 1, \"min\": 0.5077846685287055, \"max\": 0.5077846685287055}}}\u001b[0m\n",
      "\u001b[34m#metrics {\"StartTime\": 1729711957.0460896, \"EndTime\": 1729711957.0461, \"Dimensions\": {\"Algorithm\": \"Linear Learner\", \"Host\": \"algo-1\", \"Operation\": \"training\", \"epoch\": 4, \"model\": 17}, \"Metrics\": {\"train_binary_classification_cross_entropy_objective\": {\"sum\": 0.5079966074858966, \"count\": 1, \"min\": 0.5079966074858966, \"max\": 0.5079966074858966}}}\u001b[0m\n",
      "\u001b[34m#metrics {\"StartTime\": 1729711957.0461295, \"EndTime\": 1729711957.0461388, \"Dimensions\": {\"Algorithm\": \"Linear Learner\", \"Host\": \"algo-1\", \"Operation\": \"training\", \"epoch\": 4, \"model\": 18}, \"Metrics\": {\"train_binary_classification_cross_entropy_objective\": {\"sum\": 0.5077996832004745, \"count\": 1, \"min\": 0.5077996832004745, \"max\": 0.5077996832004745}}}\u001b[0m\n",
      "\u001b[34m#metrics {\"StartTime\": 1729711957.0461743, \"EndTime\": 1729711957.0461836, \"Dimensions\": {\"Algorithm\": \"Linear Learner\", \"Host\": \"algo-1\", \"Operation\": \"training\", \"epoch\": 4, \"model\": 19}, \"Metrics\": {\"train_binary_classification_cross_entropy_objective\": {\"sum\": 0.507996607555891, \"count\": 1, \"min\": 0.507996607555891, \"max\": 0.507996607555891}}}\u001b[0m\n",
      "\u001b[34m#metrics {\"StartTime\": 1729711957.0462284, \"EndTime\": 1729711957.0462391, \"Dimensions\": {\"Algorithm\": \"Linear Learner\", \"Host\": \"algo-1\", \"Operation\": \"training\", \"epoch\": 4, \"model\": 20}, \"Metrics\": {\"train_binary_classification_cross_entropy_objective\": {\"sum\": 0.5078154676011578, \"count\": 1, \"min\": 0.5078154676011578, \"max\": 0.5078154676011578}}}\u001b[0m\n",
      "\u001b[34m#metrics {\"StartTime\": 1729711957.0462751, \"EndTime\": 1729711957.0462856, \"Dimensions\": {\"Algorithm\": \"Linear Learner\", \"Host\": \"algo-1\", \"Operation\": \"training\", \"epoch\": 4, \"model\": 21}, \"Metrics\": {\"train_binary_classification_cross_entropy_objective\": {\"sum\": 0.5104333768605457, \"count\": 1, \"min\": 0.5104333768605457, \"max\": 0.5104333768605457}}}\u001b[0m\n",
      "\u001b[34m#metrics {\"StartTime\": 1729711957.0463176, \"EndTime\": 1729711957.046328, \"Dimensions\": {\"Algorithm\": \"Linear Learner\", \"Host\": \"algo-1\", \"Operation\": \"training\", \"epoch\": 4, \"model\": 22}, \"Metrics\": {\"train_binary_classification_cross_entropy_objective\": {\"sum\": 0.5078154680677874, \"count\": 1, \"min\": 0.5078154680677874, \"max\": 0.5078154680677874}}}\u001b[0m\n",
      "\u001b[34m#metrics {\"StartTime\": 1729711957.046357, \"EndTime\": 1729711957.0463662, \"Dimensions\": {\"Algorithm\": \"Linear Learner\", \"Host\": \"algo-1\", \"Operation\": \"training\", \"epoch\": 4, \"model\": 23}, \"Metrics\": {\"train_binary_classification_cross_entropy_objective\": {\"sum\": 0.5104333761139382, \"count\": 1, \"min\": 0.5104333761139382, \"max\": 0.5104333761139382}}}\u001b[0m\n",
      "\u001b[34m#metrics {\"StartTime\": 1729711957.0464041, \"EndTime\": 1729711957.0464144, \"Dimensions\": {\"Algorithm\": \"Linear Learner\", \"Host\": \"algo-1\", \"Operation\": \"training\", \"epoch\": 4, \"model\": 24}, \"Metrics\": {\"train_binary_classification_cross_entropy_objective\": {\"sum\": 0.51376693065305, \"count\": 1, \"min\": 0.51376693065305, \"max\": 0.51376693065305}}}\u001b[0m\n",
      "\u001b[34m#metrics {\"StartTime\": 1729711957.0464478, \"EndTime\": 1729711957.0464587, \"Dimensions\": {\"Algorithm\": \"Linear Learner\", \"Host\": \"algo-1\", \"Operation\": \"training\", \"epoch\": 4, \"model\": 25}, \"Metrics\": {\"train_binary_classification_cross_entropy_objective\": {\"sum\": 0.5138579832771139, \"count\": 1, \"min\": 0.5138579832771139, \"max\": 0.5138579832771139}}}\u001b[0m\n",
      "\u001b[34m#metrics {\"StartTime\": 1729711957.0464845, \"EndTime\": 1729711957.0464911, \"Dimensions\": {\"Algorithm\": \"Linear Learner\", \"Host\": \"algo-1\", \"Operation\": \"training\", \"epoch\": 4, \"model\": 26}, \"Metrics\": {\"train_binary_classification_cross_entropy_objective\": {\"sum\": 0.513770337772661, \"count\": 1, \"min\": 0.513770337772661, \"max\": 0.513770337772661}}}\u001b[0m\n",
      "\u001b[34m#metrics {\"StartTime\": 1729711957.046523, \"EndTime\": 1729711957.0465326, \"Dimensions\": {\"Algorithm\": \"Linear Learner\", \"Host\": \"algo-1\", \"Operation\": \"training\", \"epoch\": 4, \"model\": 27}, \"Metrics\": {\"train_binary_classification_cross_entropy_objective\": {\"sum\": 0.5138583133709176, \"count\": 1, \"min\": 0.5138583133709176, \"max\": 0.5138583133709176}}}\u001b[0m\n",
      "\u001b[34m#metrics {\"StartTime\": 1729711957.0465705, \"EndTime\": 1729711957.0465817, \"Dimensions\": {\"Algorithm\": \"Linear Learner\", \"Host\": \"algo-1\", \"Operation\": \"training\", \"epoch\": 4, \"model\": 28}, \"Metrics\": {\"train_binary_classification_cross_entropy_objective\": {\"sum\": 0.5137758164012104, \"count\": 1, \"min\": 0.5137758164012104, \"max\": 0.5137758164012104}}}\u001b[0m\n",
      "\u001b[34m#metrics {\"StartTime\": 1729711957.0466187, \"EndTime\": 1729711957.0466294, \"Dimensions\": {\"Algorithm\": \"Linear Learner\", \"Host\": \"algo-1\", \"Operation\": \"training\", \"epoch\": 4, \"model\": 29}, \"Metrics\": {\"train_binary_classification_cross_entropy_objective\": {\"sum\": 0.5147232015533914, \"count\": 1, \"min\": 0.5147232015533914, \"max\": 0.5147232015533914}}}\u001b[0m\n",
      "\u001b[34m#metrics {\"StartTime\": 1729711957.0466852, \"EndTime\": 1729711957.0466974, \"Dimensions\": {\"Algorithm\": \"Linear Learner\", \"Host\": \"algo-1\", \"Operation\": \"training\", \"epoch\": 4, \"model\": 30}, \"Metrics\": {\"train_binary_classification_cross_entropy_objective\": {\"sum\": 0.513775857791259, \"count\": 1, \"min\": 0.513775857791259, \"max\": 0.513775857791259}}}\u001b[0m\n",
      "\u001b[34m#metrics {\"StartTime\": 1729711957.046723, \"EndTime\": 1729711957.0467317, \"Dimensions\": {\"Algorithm\": \"Linear Learner\", \"Host\": \"algo-1\", \"Operation\": \"training\", \"epoch\": 4, \"model\": 31}, \"Metrics\": {\"train_binary_classification_cross_entropy_objective\": {\"sum\": 0.5147232019033636, \"count\": 1, \"min\": 0.5147232019033636, \"max\": 0.5147232019033636}}}\u001b[0m\n",
      "\u001b[34m[10/23/2024 19:32:37 INFO 140356875958080] #quality_metric: host=algo-1, epoch=4, train binary_classification_cross_entropy_objective <loss>=0.49201813649402115\u001b[0m\n",
      "\u001b[34m[2024-10-23 19:32:39.784] [tensorio] [info] epoch_stats={\"data_pipeline\": \"/opt/ml/input/data/validation\", \"epoch\": 14, \"duration\": 2722, \"num_examples\": 164, \"num_bytes\": 68694780}\u001b[0m\n",
      "\u001b[34m#metrics {\"StartTime\": 1729711959.7897487, \"EndTime\": 1729711959.7898033, \"Dimensions\": {\"Algorithm\": \"Linear Learner\", \"Host\": \"algo-1\", \"Operation\": \"training\", \"epoch\": 4, \"model\": 0}, \"Metrics\": {\"validation_binary_classification_cross_entropy_objective\": {\"sum\": 0.4918397566389102, \"count\": 1, \"min\": 0.4918397566389102, \"max\": 0.4918397566389102}}}\u001b[0m\n",
      "\u001b[34m#metrics {\"StartTime\": 1729711959.7898722, \"EndTime\": 1729711959.7898831, \"Dimensions\": {\"Algorithm\": \"Linear Learner\", \"Host\": \"algo-1\", \"Operation\": \"training\", \"epoch\": 4, \"model\": 1}, \"Metrics\": {\"validation_binary_classification_cross_entropy_objective\": {\"sum\": 0.4930819048561509, \"count\": 1, \"min\": 0.4930819048561509, \"max\": 0.4930819048561509}}}\u001b[0m\n",
      "\u001b[34m#metrics {\"StartTime\": 1729711959.7899225, \"EndTime\": 1729711959.7899308, \"Dimensions\": {\"Algorithm\": \"Linear Learner\", \"Host\": \"algo-1\", \"Operation\": \"training\", \"epoch\": 4, \"model\": 2}, \"Metrics\": {\"validation_binary_classification_cross_entropy_objective\": {\"sum\": 0.4918616396450282, \"count\": 1, \"min\": 0.4918616396450282, \"max\": 0.4918616396450282}}}\u001b[0m\n",
      "\u001b[34m#metrics {\"StartTime\": 1729711959.7899632, \"EndTime\": 1729711959.789973, \"Dimensions\": {\"Algorithm\": \"Linear Learner\", \"Host\": \"algo-1\", \"Operation\": \"training\", \"epoch\": 4, \"model\": 3}, \"Metrics\": {\"validation_binary_classification_cross_entropy_objective\": {\"sum\": 0.4930818292894188, \"count\": 1, \"min\": 0.4930818292894188, \"max\": 0.4930818292894188}}}\u001b[0m\n",
      "\u001b[34m#metrics {\"StartTime\": 1729711959.7900102, \"EndTime\": 1729711959.7900212, \"Dimensions\": {\"Algorithm\": \"Linear Learner\", \"Host\": \"algo-1\", \"Operation\": \"training\", \"epoch\": 4, \"model\": 4}, \"Metrics\": {\"validation_binary_classification_cross_entropy_objective\": {\"sum\": 0.4918498450775265, \"count\": 1, \"min\": 0.4918498450775265, \"max\": 0.4918498450775265}}}\u001b[0m\n",
      "\u001b[34m#metrics {\"StartTime\": 1729711959.790053, \"EndTime\": 1729711959.790063, \"Dimensions\": {\"Algorithm\": \"Linear Learner\", \"Host\": \"algo-1\", \"Operation\": \"training\", \"epoch\": 4, \"model\": 5}, \"Metrics\": {\"validation_binary_classification_cross_entropy_objective\": {\"sum\": 0.5048694280457712, \"count\": 1, \"min\": 0.5048694280457712, \"max\": 0.5048694280457712}}}\u001b[0m\n",
      "\u001b[34m#metrics {\"StartTime\": 1729711959.7900915, \"EndTime\": 1729711959.7901006, \"Dimensions\": {\"Algorithm\": \"Linear Learner\", \"Host\": \"algo-1\", \"Operation\": \"training\", \"epoch\": 4, \"model\": 6}, \"Metrics\": {\"validation_binary_classification_cross_entropy_objective\": {\"sum\": 0.49184984078608246, \"count\": 1, \"min\": 0.49184984078608246, \"max\": 0.49184984078608246}}}\u001b[0m\n",
      "\u001b[34m#metrics {\"StartTime\": 1729711959.790138, \"EndTime\": 1729711959.7901478, \"Dimensions\": {\"Algorithm\": \"Linear Learner\", \"Host\": \"algo-1\", \"Operation\": \"training\", \"epoch\": 4, \"model\": 7}, \"Metrics\": {\"validation_binary_classification_cross_entropy_objective\": {\"sum\": 0.5049105119054779, \"count\": 1, \"min\": 0.5049105119054779, \"max\": 0.5049105119054779}}}\u001b[0m\n",
      "\u001b[34m#metrics {\"StartTime\": 1729711959.7901804, \"EndTime\": 1729711959.790202, \"Dimensions\": {\"Algorithm\": \"Linear Learner\", \"Host\": \"algo-1\", \"Operation\": \"training\", \"epoch\": 4, \"model\": 8}, \"Metrics\": {\"validation_binary_classification_cross_entropy_objective\": {\"sum\": 0.4920979526760866, \"count\": 1, \"min\": 0.4920979526760866, \"max\": 0.4920979526760866}}}\u001b[0m\n",
      "\u001b[34m#metrics {\"StartTime\": 1729711959.7902339, \"EndTime\": 1729711959.7902436, \"Dimensions\": {\"Algorithm\": \"Linear Learner\", \"Host\": \"algo-1\", \"Operation\": \"training\", \"epoch\": 4, \"model\": 9}, \"Metrics\": {\"validation_binary_classification_cross_entropy_objective\": {\"sum\": 0.4932766022616098, \"count\": 1, \"min\": 0.4932766022616098, \"max\": 0.4932766022616098}}}\u001b[0m\n",
      "\u001b[34m#metrics {\"StartTime\": 1729711959.790281, \"EndTime\": 1729711959.7902906, \"Dimensions\": {\"Algorithm\": \"Linear Learner\", \"Host\": \"algo-1\", \"Operation\": \"training\", \"epoch\": 4, \"model\": 10}, \"Metrics\": {\"validation_binary_classification_cross_entropy_objective\": {\"sum\": 0.492119842959001, \"count\": 1, \"min\": 0.492119842959001, \"max\": 0.492119842959001}}}\u001b[0m\n",
      "\u001b[34m#metrics {\"StartTime\": 1729711959.7903295, \"EndTime\": 1729711959.7903395, \"Dimensions\": {\"Algorithm\": \"Linear Learner\", \"Host\": \"algo-1\", \"Operation\": \"training\", \"epoch\": 4, \"model\": 11}, \"Metrics\": {\"validation_binary_classification_cross_entropy_objective\": {\"sum\": 0.493276603754286, \"count\": 1, \"min\": 0.493276603754286, \"max\": 0.493276603754286}}}\u001b[0m\n",
      "\u001b[34m#metrics {\"StartTime\": 1729711959.7903776, \"EndTime\": 1729711959.7903886, \"Dimensions\": {\"Algorithm\": \"Linear Learner\", \"Host\": \"algo-1\", \"Operation\": \"training\", \"epoch\": 4, \"model\": 12}, \"Metrics\": {\"validation_binary_classification_cross_entropy_objective\": {\"sum\": 0.492137920387172, \"count\": 1, \"min\": 0.492137920387172, \"max\": 0.492137920387172}}}\u001b[0m\n",
      "\u001b[34m#metrics {\"StartTime\": 1729711959.7904294, \"EndTime\": 1729711959.79044, \"Dimensions\": {\"Algorithm\": \"Linear Learner\", \"Host\": \"algo-1\", \"Operation\": \"training\", \"epoch\": 4, \"model\": 13}, \"Metrics\": {\"validation_binary_classification_cross_entropy_objective\": {\"sum\": 0.5036259270907331, \"count\": 1, \"min\": 0.5036259270907331, \"max\": 0.5036259270907331}}}\u001b[0m\n",
      "\u001b[34m#metrics {\"StartTime\": 1729711959.7904806, \"EndTime\": 1729711959.7904909, \"Dimensions\": {\"Algorithm\": \"Linear Learner\", \"Host\": \"algo-1\", \"Operation\": \"training\", \"epoch\": 4, \"model\": 14}, \"Metrics\": {\"validation_binary_classification_cross_entropy_objective\": {\"sum\": 0.4921379187079113, \"count\": 1, \"min\": 0.4921379187079113, \"max\": 0.4921379187079113}}}\u001b[0m\n",
      "\u001b[34m#metrics {\"StartTime\": 1729711959.7905333, \"EndTime\": 1729711959.7905443, \"Dimensions\": {\"Algorithm\": \"Linear Learner\", \"Host\": \"algo-1\", \"Operation\": \"training\", \"epoch\": 4, \"model\": 15}, \"Metrics\": {\"validation_binary_classification_cross_entropy_objective\": {\"sum\": 0.5036259306358389, \"count\": 1, \"min\": 0.5036259306358389, \"max\": 0.5036259306358389}}}\u001b[0m\n",
      "\u001b[34m#metrics {\"StartTime\": 1729711959.7905853, \"EndTime\": 1729711959.7905962, \"Dimensions\": {\"Algorithm\": \"Linear Learner\", \"Host\": \"algo-1\", \"Operation\": \"training\", \"epoch\": 4, \"model\": 16}, \"Metrics\": {\"validation_binary_classification_cross_entropy_objective\": {\"sum\": 0.507765568208149, \"count\": 1, \"min\": 0.507765568208149, \"max\": 0.507765568208149}}}\u001b[0m\n",
      "\u001b[34m#metrics {\"StartTime\": 1729711959.79064, \"EndTime\": 1729711959.7906516, \"Dimensions\": {\"Algorithm\": \"Linear Learner\", \"Host\": \"algo-1\", \"Operation\": \"training\", \"epoch\": 4, \"model\": 17}, \"Metrics\": {\"validation_binary_classification_cross_entropy_objective\": {\"sum\": 0.5079543342781815, \"count\": 1, \"min\": 0.5079543342781815, \"max\": 0.5079543342781815}}}\u001b[0m\n",
      "\u001b[34m#metrics {\"StartTime\": 1729711959.7907119, \"EndTime\": 1729711959.7907238, \"Dimensions\": {\"Algorithm\": \"Linear Learner\", \"Host\": \"algo-1\", \"Operation\": \"training\", \"epoch\": 4, \"model\": 18}, \"Metrics\": {\"validation_binary_classification_cross_entropy_objective\": {\"sum\": 0.5077677829664463, \"count\": 1, \"min\": 0.5077677829664463, \"max\": 0.5077677829664463}}}\u001b[0m\n",
      "\u001b[34m#metrics {\"StartTime\": 1729711959.7907646, \"EndTime\": 1729711959.7907922, \"Dimensions\": {\"Algorithm\": \"Linear Learner\", \"Host\": \"algo-1\", \"Operation\": \"training\", \"epoch\": 4, \"model\": 19}, \"Metrics\": {\"validation_binary_classification_cross_entropy_objective\": {\"sum\": 0.5079543620792755, \"count\": 1, \"min\": 0.5079543620792755, \"max\": 0.5079543620792755}}}\u001b[0m\n",
      "\u001b[34m#metrics {\"StartTime\": 1729711959.7908335, \"EndTime\": 1729711959.7908444, \"Dimensions\": {\"Algorithm\": \"Linear Learner\", \"Host\": \"algo-1\", \"Operation\": \"training\", \"epoch\": 4, \"model\": 20}, \"Metrics\": {\"validation_binary_classification_cross_entropy_objective\": {\"sum\": 0.5077618049848889, \"count\": 1, \"min\": 0.5077618049848889, \"max\": 0.5077618049848889}}}\u001b[0m\n",
      "\u001b[34m#metrics {\"StartTime\": 1729711959.7908807, \"EndTime\": 1729711959.7908912, \"Dimensions\": {\"Algorithm\": \"Linear Learner\", \"Host\": \"algo-1\", \"Operation\": \"training\", \"epoch\": 4, \"model\": 21}, \"Metrics\": {\"validation_binary_classification_cross_entropy_objective\": {\"sum\": 0.5088357065785153, \"count\": 1, \"min\": 0.5088357065785153, \"max\": 0.5088357065785153}}}\u001b[0m\n",
      "\u001b[34m#metrics {\"StartTime\": 1729711959.7909315, \"EndTime\": 1729711959.7909424, \"Dimensions\": {\"Algorithm\": \"Linear Learner\", \"Host\": \"algo-1\", \"Operation\": \"training\", \"epoch\": 4, \"model\": 22}, \"Metrics\": {\"validation_binary_classification_cross_entropy_objective\": {\"sum\": 0.5077618068507341, \"count\": 1, \"min\": 0.5077618068507341, \"max\": 0.5077618068507341}}}\u001b[0m\n",
      "\u001b[34m#metrics {\"StartTime\": 1729711959.7909844, \"EndTime\": 1729711959.790995, \"Dimensions\": {\"Algorithm\": \"Linear Learner\", \"Host\": \"algo-1\", \"Operation\": \"training\", \"epoch\": 4, \"model\": 23}, \"Metrics\": {\"validation_binary_classification_cross_entropy_objective\": {\"sum\": 0.5088357250503832, \"count\": 1, \"min\": 0.5088357250503832, \"max\": 0.5088357250503832}}}\u001b[0m\n",
      "\u001b[34m#metrics {\"StartTime\": 1729711959.7910342, \"EndTime\": 1729711959.791045, \"Dimensions\": {\"Algorithm\": \"Linear Learner\", \"Host\": \"algo-1\", \"Operation\": \"training\", \"epoch\": 4, \"model\": 24}, \"Metrics\": {\"validation_binary_classification_cross_entropy_objective\": {\"sum\": 0.5137570681874665, \"count\": 1, \"min\": 0.5137570681874665, \"max\": 0.5137570681874665}}}\u001b[0m\n",
      "\u001b[34m#metrics {\"StartTime\": 1729711959.791082, \"EndTime\": 1729711959.7910933, \"Dimensions\": {\"Algorithm\": \"Linear Learner\", \"Host\": \"algo-1\", \"Operation\": \"training\", \"epoch\": 4, \"model\": 25}, \"Metrics\": {\"validation_binary_classification_cross_entropy_objective\": {\"sum\": 0.5142574235085848, \"count\": 1, \"min\": 0.5142574235085848, \"max\": 0.5142574235085848}}}\u001b[0m\n",
      "\u001b[34m#metrics {\"StartTime\": 1729711959.7911248, \"EndTime\": 1729711959.7911344, \"Dimensions\": {\"Algorithm\": \"Linear Learner\", \"Host\": \"algo-1\", \"Operation\": \"training\", \"epoch\": 4, \"model\": 26}, \"Metrics\": {\"validation_binary_classification_cross_entropy_objective\": {\"sum\": 0.5137511428227448, \"count\": 1, \"min\": 0.5137511428227448, \"max\": 0.5137511428227448}}}\u001b[0m\n",
      "\u001b[34m#metrics {\"StartTime\": 1729711959.7911675, \"EndTime\": 1729711959.7911768, \"Dimensions\": {\"Algorithm\": \"Linear Learner\", \"Host\": \"algo-1\", \"Operation\": \"training\", \"epoch\": 4, \"model\": 27}, \"Metrics\": {\"validation_binary_classification_cross_entropy_objective\": {\"sum\": 0.5142567590810957, \"count\": 1, \"min\": 0.5142567590810957, \"max\": 0.5142567590810957}}}\u001b[0m\n",
      "\u001b[34m#metrics {\"StartTime\": 1729711959.7912092, \"EndTime\": 1729711959.791219, \"Dimensions\": {\"Algorithm\": \"Linear Learner\", \"Host\": \"algo-1\", \"Operation\": \"training\", \"epoch\": 4, \"model\": 28}, \"Metrics\": {\"validation_binary_classification_cross_entropy_objective\": {\"sum\": 0.5137492683946189, \"count\": 1, \"min\": 0.5137492683946189, \"max\": 0.5137492683946189}}}\u001b[0m\n",
      "\u001b[34m#metrics {\"StartTime\": 1729711959.7912426, \"EndTime\": 1729711959.7912514, \"Dimensions\": {\"Algorithm\": \"Linear Learner\", \"Host\": \"algo-1\", \"Operation\": \"training\", \"epoch\": 4, \"model\": 29}, \"Metrics\": {\"validation_binary_classification_cross_entropy_objective\": {\"sum\": 0.5139238366884833, \"count\": 1, \"min\": 0.5139238366884833, \"max\": 0.5139238366884833}}}\u001b[0m\n",
      "\u001b[34m#metrics {\"StartTime\": 1729711959.7912822, \"EndTime\": 1729711959.7912903, \"Dimensions\": {\"Algorithm\": \"Linear Learner\", \"Host\": \"algo-1\", \"Operation\": \"training\", \"epoch\": 4, \"model\": 30}, \"Metrics\": {\"validation_binary_classification_cross_entropy_objective\": {\"sum\": 0.5137498824442867, \"count\": 1, \"min\": 0.5137498824442867, \"max\": 0.5137498824442867}}}\u001b[0m\n",
      "\u001b[34m#metrics {\"StartTime\": 1729711959.791568, \"EndTime\": 1729711959.7915766, \"Dimensions\": {\"Algorithm\": \"Linear Learner\", \"Host\": \"algo-1\", \"Operation\": \"training\", \"epoch\": 4, \"model\": 31}, \"Metrics\": {\"validation_binary_classification_cross_entropy_objective\": {\"sum\": 0.5139238329567928, \"count\": 1, \"min\": 0.5139238329567928, \"max\": 0.5139238329567928}}}\u001b[0m\n",
      "\u001b[34m[10/23/2024 19:32:39 INFO 140356875958080] #quality_metric: host=algo-1, epoch=4, validation binary_classification_cross_entropy_objective <loss>=0.4918397566389102\u001b[0m\n",
      "\u001b[34m[10/23/2024 19:32:39 INFO 140356875958080] #early_stopping_criteria_metric: host=algo-1, epoch=4, criteria=binary_classification_cross_entropy_objective, value=0.4918397566389102\u001b[0m\n",
      "\u001b[34m[10/23/2024 19:32:39 INFO 140356875958080] Saving model for epoch: 4\u001b[0m\n",
      "\u001b[34m[10/23/2024 19:32:39 INFO 140356875958080] Saved checkpoint to \"/tmp/tmpcxhcqalp/mx-mod-0000.params\"\u001b[0m\n",
      "\u001b[34m[10/23/2024 19:32:39 INFO 140356875958080] Early stop condition met. Stopping training.\u001b[0m\n",
      "\u001b[34m[10/23/2024 19:32:39 INFO 140356875958080] #progress_metric: host=algo-1, completed 100 % epochs\u001b[0m\n",
      "\u001b[34m#metrics {\"StartTime\": 1729711925.3600755, \"EndTime\": 1729711959.7971065, \"Dimensions\": {\"Algorithm\": \"Linear Learner\", \"Host\": \"algo-1\", \"Operation\": \"training\", \"epoch\": 4, \"Meta\": \"training_data_iter\"}, \"Metrics\": {\"Total Records Seen\": {\"sum\": 6554360.0, \"count\": 1, \"min\": 6554360, \"max\": 6554360}, \"Total Batches Seen\": {\"sum\": 6557.0, \"count\": 1, \"min\": 6557, \"max\": 6557}, \"Max Records Seen Between Resets\": {\"sum\": 1308472.0, \"count\": 1, \"min\": 1308472, \"max\": 1308472}, \"Max Batches Seen Between Resets\": {\"sum\": 1309.0, \"count\": 1, \"min\": 1309, \"max\": 1309}, \"Reset Count\": {\"sum\": 7.0, \"count\": 1, \"min\": 7, \"max\": 7}, \"Number of Records Since Last Reset\": {\"sum\": 1308472.0, \"count\": 1, \"min\": 1308472, \"max\": 1308472}, \"Number of Batches Since Last Reset\": {\"sum\": 1309.0, \"count\": 1, \"min\": 1309, \"max\": 1309}}}\u001b[0m\n",
      "\u001b[34m[10/23/2024 19:32:39 INFO 140356875958080] #throughput_metric: host=algo-1, train throughput=37995.94859391164 records/second\u001b[0m\n",
      "\u001b[34m[10/23/2024 19:32:39 WARNING 140356875958080] wait_for_all_workers will not sync workers since the kv store is not running distributed\u001b[0m\n",
      "\u001b[34m[10/23/2024 19:32:39 WARNING 140356875958080] wait_for_all_workers will not sync workers since the kv store is not running distributed\u001b[0m\n",
      "\u001b[34m[2024-10-23 19:32:42.600] [tensorio] [info] epoch_stats={\"data_pipeline\": \"/opt/ml/input/data/validation\", \"epoch\": 17, \"duration\": 2788, \"num_examples\": 164, \"num_bytes\": 68694780}\u001b[0m\n",
      "\u001b[34m[10/23/2024 19:32:42 INFO 140356875958080] #early_stopping_criteria_metric: host=algo-1, epoch=4, criteria=binary_classification_cross_entropy_objective, value=0.4918397566389102\u001b[0m\n",
      "\u001b[34m[2024-10-23 19:32:43.152] [tensorio] [info] epoch_stats={\"data_pipeline\": \"/opt/ml/input/data/validation\", \"epoch\": 19, \"duration\": 542, \"num_examples\": 164, \"num_bytes\": 68694780}\u001b[0m\n",
      "\u001b[34m[10/23/2024 19:32:43 INFO 140356875958080] #validation_score (algo-1) : ('binary_classification_cross_entropy_objective', 0.4922361828876067)\u001b[0m\n",
      "\u001b[34m[10/23/2024 19:32:43 INFO 140356875958080] #validation_score (algo-1) : ('binary_classification_accuracy', 0.7902897425393894)\u001b[0m\n",
      "\u001b[34m[10/23/2024 19:32:43 INFO 140356875958080] #validation_score (algo-1) : ('binary_f_1.000', 0.00924321201617562)\u001b[0m\n",
      "\u001b[34m[10/23/2024 19:32:43 INFO 140356875958080] #validation_score (algo-1) : ('precision', 0.5574912891986062)\u001b[0m\n",
      "\u001b[34m[10/23/2024 19:32:43 INFO 140356875958080] #validation_score (algo-1) : ('recall', 0.004660239419800192)\u001b[0m\n",
      "\u001b[34m[10/23/2024 19:32:43 INFO 140356875958080] #validation_score (algo-1) : ('roc_auc_score', 0.6443016420862134)\u001b[0m\n",
      "\u001b[34m[10/23/2024 19:32:43 INFO 140356875958080] #validation_score (algo-1) : ('binary_balanced_accuracy', 0.5)\u001b[0m\n",
      "\u001b[34m[10/23/2024 19:32:43 INFO 140356875958080] #validation_score (algo-1) : ('binary_log_loss', 0.7538886568649135)\u001b[0m\n",
      "\u001b[34m[10/23/2024 19:32:43 INFO 140356875958080] #quality_metric: host=algo-1, validation binary_classification_cross_entropy_objective <loss>=0.4922361828876067\u001b[0m\n",
      "\u001b[34m[10/23/2024 19:32:43 INFO 140356875958080] #quality_metric: host=algo-1, validation binary_classification_accuracy <score>=0.7902897425393894\u001b[0m\n",
      "\u001b[34m[10/23/2024 19:32:43 INFO 140356875958080] #quality_metric: host=algo-1, validation binary_f_1.000 <score>=0.00924321201617562\u001b[0m\n",
      "\u001b[34m[10/23/2024 19:32:43 INFO 140356875958080] #quality_metric: host=algo-1, validation precision <score>=0.5574912891986062\u001b[0m\n",
      "\u001b[34m[10/23/2024 19:32:43 INFO 140356875958080] #quality_metric: host=algo-1, validation recall <score>=0.004660239419800192\u001b[0m\n",
      "\u001b[34m[10/23/2024 19:32:43 INFO 140356875958080] #quality_metric: host=algo-1, validation roc_auc_score <score>=0.6443016420862134\u001b[0m\n",
      "\u001b[34m[10/23/2024 19:32:43 INFO 140356875958080] #quality_metric: host=algo-1, validation binary_balanced_accuracy <score>=0.5\u001b[0m\n",
      "\u001b[34m[10/23/2024 19:32:43 INFO 140356875958080] #quality_metric: host=algo-1, validation binary_log_loss <score>=0.7538886568649135\u001b[0m\n",
      "\u001b[34m[10/23/2024 19:32:43 INFO 140356875958080] Best model found for hyperparameters: {\"optimizer\": \"adam\", \"learning_rate\": 0.005, \"l1\": 0.0, \"wd\": 0.0001, \"lr_scheduler_step\": 10, \"lr_scheduler_factor\": 0.99, \"lr_scheduler_minimum_lr\": 1e-05}\u001b[0m\n",
      "\u001b[34m[10/23/2024 19:32:43 INFO 140356875958080] Saved checkpoint to \"/tmp/tmp0z16petw/mx-mod-0000.params\"\u001b[0m\n",
      "\u001b[34m[2024-10-23 19:32:43.419] [tensorio] [info] epoch_stats={\"data_pipeline\": \"/opt/ml/input/data/test\", \"epoch\": 0, \"duration\": 177548, \"num_examples\": 1, \"num_bytes\": 420000}\u001b[0m\n",
      "\u001b[34m[2024-10-23 19:32:43.952] [tensorio] [info] epoch_stats={\"data_pipeline\": \"/opt/ml/input/data/test\", \"epoch\": 1, \"duration\": 532, \"num_examples\": 164, \"num_bytes\": 68694780}\u001b[0m\n",
      "\u001b[34m#metrics {\"StartTime\": 1729711963.4152548, \"EndTime\": 1729711964.2014933, \"Dimensions\": {\"Algorithm\": \"Linear Learner\", \"Host\": \"algo-1\", \"Operation\": \"training\", \"Meta\": \"test_data_iter\"}, \"Metrics\": {\"Total Records Seen\": {\"sum\": 163559.0, \"count\": 1, \"min\": 163559, \"max\": 163559}, \"Total Batches Seen\": {\"sum\": 164.0, \"count\": 1, \"min\": 164, \"max\": 164}, \"Max Records Seen Between Resets\": {\"sum\": 163559.0, \"count\": 1, \"min\": 163559, \"max\": 163559}, \"Max Batches Seen Between Resets\": {\"sum\": 164.0, \"count\": 1, \"min\": 164, \"max\": 164}, \"Reset Count\": {\"sum\": 1.0, \"count\": 1, \"min\": 1, \"max\": 1}, \"Number of Records Since Last Reset\": {\"sum\": 163559.0, \"count\": 1, \"min\": 163559, \"max\": 163559}, \"Number of Batches Since Last Reset\": {\"sum\": 164.0, \"count\": 1, \"min\": 164, \"max\": 164}}}\u001b[0m\n",
      "\u001b[34m[10/23/2024 19:32:44 INFO 140356875958080] #test_score (algo-1) : ('binary_classification_cross_entropy_objective', 0.4921990141309625)\u001b[0m\n",
      "\u001b[34m[10/23/2024 19:32:44 INFO 140356875958080] #test_score (algo-1) : ('binary_classification_accuracy', 0.7900818664824314)\u001b[0m\n",
      "\u001b[34m[10/23/2024 19:32:44 INFO 140356875958080] #test_score (algo-1) : ('binary_f_1.000', 0.007859908686354968)\u001b[0m\n",
      "\u001b[34m[10/23/2024 19:32:44 INFO 140356875958080] #test_score (algo-1) : ('precision', 0.4981684981684982)\u001b[0m\n",
      "\u001b[34m[10/23/2024 19:32:44 INFO 140356875958080] #test_score (algo-1) : ('recall', 0.003961203506830164)\u001b[0m\n",
      "\u001b[34m[10/23/2024 19:32:44 INFO 140356875958080] #test_score (algo-1) : ('roc_auc_score', 0.6445382856845292)\u001b[0m\n",
      "\u001b[34m[10/23/2024 19:32:44 INFO 140356875958080] #test_score (algo-1) : ('binary_balanced_accuracy', 0.5)\u001b[0m\n",
      "\u001b[34m[10/23/2024 19:32:44 INFO 140356875958080] #test_score (algo-1) : ('binary_log_loss', 0.7537777824256998)\u001b[0m\n",
      "\u001b[34m[10/23/2024 19:32:44 INFO 140356875958080] #quality_metric: host=algo-1, test binary_classification_cross_entropy_objective <loss>=0.4921990141309625\u001b[0m\n",
      "\u001b[34m[10/23/2024 19:32:44 INFO 140356875958080] #quality_metric: host=algo-1, test binary_classification_accuracy <score>=0.7900818664824314\u001b[0m\n",
      "\u001b[34m[10/23/2024 19:32:44 INFO 140356875958080] #quality_metric: host=algo-1, test binary_f_1.000 <score>=0.007859908686354968\u001b[0m\n",
      "\u001b[34m[10/23/2024 19:32:44 INFO 140356875958080] #quality_metric: host=algo-1, test precision <score>=0.4981684981684982\u001b[0m\n",
      "\u001b[34m[10/23/2024 19:32:44 INFO 140356875958080] #quality_metric: host=algo-1, test recall <score>=0.003961203506830164\u001b[0m\n",
      "\u001b[34m[10/23/2024 19:32:44 INFO 140356875958080] #quality_metric: host=algo-1, test roc_auc_score <score>=0.6445382856845292\u001b[0m\n",
      "\u001b[34m[10/23/2024 19:32:44 INFO 140356875958080] #quality_metric: host=algo-1, test binary_balanced_accuracy <score>=0.5\u001b[0m\n",
      "\u001b[34m[10/23/2024 19:32:44 INFO 140356875958080] #quality_metric: host=algo-1, test binary_log_loss <score>=0.7537777824256998\u001b[0m\n",
      "\u001b[34m#metrics {\"StartTime\": 1729711785.86136, \"EndTime\": 1729711964.2094698, \"Dimensions\": {\"Algorithm\": \"Linear Learner\", \"Host\": \"algo-1\", \"Operation\": \"training\"}, \"Metrics\": {\"initialize.time\": {\"sum\": 239.95494842529297, \"count\": 1, \"min\": 239.95494842529297, \"max\": 239.95494842529297}, \"epochs\": {\"sum\": 15.0, \"count\": 1, \"min\": 15, \"max\": 15}, \"check_early_stopping.time\": {\"sum\": 1.7573833465576172, \"count\": 6, \"min\": 0.1785755157470703, \"max\": 0.6983280181884766}, \"update.time\": {\"sum\": 173631.26492500305, \"count\": 5, \"min\": 34434.64732170105, \"max\": 35135.37526130676}, \"finalize.time\": {\"sum\": 3614.8908138275146, \"count\": 1, \"min\": 3614.8908138275146, \"max\": 3614.8908138275146}, \"setuptime\": {\"sum\": 2.5539398193359375, \"count\": 1, \"min\": 2.5539398193359375, \"max\": 2.5539398193359375}, \"totaltime\": {\"sum\": 178465.95549583435, \"count\": 1, \"min\": 178465.95549583435, \"max\": 178465.95549583435}}}\u001b[0m\n",
      "\n",
      "2024-10-23 19:33:02 Uploading - Uploading generated training model\n",
      "2024-10-23 19:33:02 Completed - Training job completed\n",
      "Training seconds: 336\n",
      "Billable seconds: 336\n"
     ]
    }
   ],
   "source": [
    "# Fit the classifier\n",
    "# Enter your code here\n",
    "classifier_estimator.fit([train_records, val_records, test_records])"
   ]
  },
  {
   "cell_type": "markdown",
   "metadata": {},
   "source": [
    "## Model evaluation\n",
    "In this section, you will evaluate your trained model. "
   ]
  },
  {
   "cell_type": "markdown",
   "metadata": {},
   "source": [
    "First, examine the metrics for the training job:"
   ]
  },
  {
   "cell_type": "code",
   "execution_count": 42,
   "metadata": {
    "tags": []
   },
   "outputs": [
    {
     "data": {
      "text/html": [
       "<div>\n",
       "<style scoped>\n",
       "    .dataframe tbody tr th:only-of-type {\n",
       "        vertical-align: middle;\n",
       "    }\n",
       "\n",
       "    .dataframe tbody tr th {\n",
       "        vertical-align: top;\n",
       "    }\n",
       "\n",
       "    .dataframe thead th {\n",
       "        text-align: right;\n",
       "    }\n",
       "</style>\n",
       "<table border=\"1\" class=\"dataframe\">\n",
       "  <thead>\n",
       "    <tr style=\"text-align: right;\">\n",
       "      <th></th>\n",
       "      <th>timestamp</th>\n",
       "      <th>metric_name</th>\n",
       "      <th>value</th>\n",
       "    </tr>\n",
       "  </thead>\n",
       "  <tbody>\n",
       "    <tr>\n",
       "      <th>0</th>\n",
       "      <td>0.0</td>\n",
       "      <td>test:objective_loss</td>\n",
       "      <td>0.492199</td>\n",
       "    </tr>\n",
       "    <tr>\n",
       "      <th>1</th>\n",
       "      <td>0.0</td>\n",
       "      <td>test:binary_f_beta</td>\n",
       "      <td>0.007860</td>\n",
       "    </tr>\n",
       "    <tr>\n",
       "      <th>2</th>\n",
       "      <td>0.0</td>\n",
       "      <td>test:precision</td>\n",
       "      <td>0.498168</td>\n",
       "    </tr>\n",
       "    <tr>\n",
       "      <th>3</th>\n",
       "      <td>0.0</td>\n",
       "      <td>test:recall</td>\n",
       "      <td>0.003961</td>\n",
       "    </tr>\n",
       "  </tbody>\n",
       "</table>\n",
       "</div>"
      ],
      "text/plain": [
       "   timestamp          metric_name     value\n",
       "0        0.0  test:objective_loss  0.492199\n",
       "1        0.0   test:binary_f_beta  0.007860\n",
       "2        0.0       test:precision  0.498168\n",
       "3        0.0          test:recall  0.003961"
      ]
     },
     "execution_count": 42,
     "metadata": {},
     "output_type": "execute_result"
    }
   ],
   "source": [
    "sagemaker.analytics.TrainingJobAnalytics(classifier_estimator._current_job_name, \n",
    "                                         metric_names = ['test:objective_loss', \n",
    "                                                         'test:binary_f_beta',\n",
    "                                                         'test:precision',\n",
    "                                                         'test:recall']\n",
    "                                        ).dataframe()"
   ]
  },
  {
   "cell_type": "markdown",
   "metadata": {},
   "source": [
    "Next, set up some functions that will help load the test data into Amazon S3 and perform a prediction by using the batch prediction function. Using batch prediction will help reduce costs because the instances will only run when predictions are performed on the supplied test data.\n",
    "\n",
    "**Note:** Replace `<LabBucketName>` with the name of the lab bucket that was created during the lab setup."
   ]
  },
  {
   "cell_type": "code",
   "execution_count": 43,
   "metadata": {
    "tags": []
   },
   "outputs": [
    {
     "name": "stderr",
     "output_type": "stream",
     "text": [
      "INFO:botocore.credentials:Found credentials from IAM Role: BaseNotebookInstanceEc2InstanceRole\n"
     ]
    }
   ],
   "source": [
    "import io\n",
    "bucket='c134412a3409745l8003998t1w11504374297-flightbucket-bixyqobwltva'\n",
    "prefix='flight-linear'\n",
    "train_file='flight_train.csv'\n",
    "test_file='flight_test.csv'\n",
    "validate_file='flight_validate.csv'\n",
    "whole_file='flight.csv'\n",
    "s3_resource = boto3.Session().resource('s3')\n",
    "\n",
    "def upload_s3_csv(filename, folder, dataframe):\n",
    "    csv_buffer = io.StringIO()\n",
    "    dataframe.to_csv(csv_buffer, header=False, index=False )\n",
    "    s3_resource.Bucket(bucket).Object(os.path.join(prefix, folder, filename)).put(Body=csv_buffer.getvalue())"
   ]
  },
  {
   "cell_type": "code",
   "execution_count": 44,
   "metadata": {
    "tags": []
   },
   "outputs": [],
   "source": [
    "def batch_linear_predict(test_data, estimator):\n",
    "    batch_X = test_data.iloc[:,1:];\n",
    "    batch_X_file='batch-in.csv'\n",
    "    upload_s3_csv(batch_X_file, 'batch-in', batch_X)\n",
    "\n",
    "    batch_output = \"s3://{}/{}/batch-out/\".format(bucket,prefix)\n",
    "    batch_input = \"s3://{}/{}/batch-in/{}\".format(bucket,prefix,batch_X_file)\n",
    "\n",
    "    classifier_transformer = estimator.transformer(instance_count=1,\n",
    "                                           instance_type='ml.m4.xlarge',\n",
    "                                           strategy='MultiRecord',\n",
    "                                           assemble_with='Line',\n",
    "                                           output_path=batch_output)\n",
    "\n",
    "    classifier_transformer.transform(data=batch_input,\n",
    "                             data_type='S3Prefix',\n",
    "                             content_type='text/csv',\n",
    "                             split_type='Line')\n",
    "    \n",
    "    classifier_transformer.wait()\n",
    "\n",
    "    s3 = boto3.client('s3')\n",
    "    obj = s3.get_object(Bucket=bucket, Key=\"{}/batch-out/{}\".format(prefix,'batch-in.csv.out'))\n",
    "    target_predicted_df = pd.read_json(io.BytesIO(obj['Body'].read()),orient=\"records\",lines=True)\n",
    "    return test_data.iloc[:,0], target_predicted_df.iloc[:,0]"
   ]
  },
  {
   "cell_type": "markdown",
   "metadata": {},
   "source": [
    "\n",
    "To run the predictions on the test dataset, run the `batch_linear_predict` function (which was defined previously) on your test dataset.\n"
   ]
  },
  {
   "cell_type": "code",
   "execution_count": 45,
   "metadata": {
    "tags": []
   },
   "outputs": [
    {
     "name": "stderr",
     "output_type": "stream",
     "text": [
      "INFO:sagemaker.image_uris:Same images used for training and inference. Defaulting to image scope: inference.\n",
      "INFO:sagemaker.image_uris:Ignoring unnecessary instance type: None.\n",
      "INFO:sagemaker:Creating model with name: linear-learner-2024-10-23-19-47-12-105\n",
      "INFO:sagemaker:Creating transform job with name: linear-learner-2024-10-23-19-47-13-250\n"
     ]
    },
    {
     "name": "stdout",
     "output_type": "stream",
     "text": [
      "..............................................\u001b[34mDocker entrypoint called with argument(s): serve\u001b[0m\n",
      "\u001b[34mRunning default environment configuration script\u001b[0m\n",
      "\u001b[34m[10/23/2024 19:54:49 INFO 140531097556800] Memory profiler is not enabled by the environment variable ENABLE_PROFILER.\u001b[0m\n",
      "\u001b[34m/opt/amazon/lib/python3.8/site-packages/mxnet/model.py:97: SyntaxWarning: \"is\" with a literal. Did you mean \"==\"?\n",
      "  if num_device is 1 and 'dist' not in kvstore:\u001b[0m\n",
      "\u001b[34m/opt/amazon/lib/python3.8/site-packages/scipy/optimize/_shgo.py:495: SyntaxWarning: \"is\" with a literal. Did you mean \"==\"?\n",
      "  if cons['type'] is 'ineq':\u001b[0m\n",
      "\u001b[34m/opt/amazon/lib/python3.8/site-packages/scipy/optimize/_shgo.py:743: SyntaxWarning: \"is not\" with a literal. Did you mean \"!=\"?\n",
      "  if len(self.X_min) is not 0:\u001b[0m\n",
      "\u001b[35mDocker entrypoint called with argument(s): serve\u001b[0m\n",
      "\u001b[35mRunning default environment configuration script\u001b[0m\n",
      "\u001b[35m[10/23/2024 19:54:49 INFO 140531097556800] Memory profiler is not enabled by the environment variable ENABLE_PROFILER.\u001b[0m\n",
      "\u001b[35m/opt/amazon/lib/python3.8/site-packages/mxnet/model.py:97: SyntaxWarning: \"is\" with a literal. Did you mean \"==\"?\n",
      "  if num_device is 1 and 'dist' not in kvstore:\u001b[0m\n",
      "\u001b[35m/opt/amazon/lib/python3.8/site-packages/scipy/optimize/_shgo.py:495: SyntaxWarning: \"is\" with a literal. Did you mean \"==\"?\n",
      "  if cons['type'] is 'ineq':\u001b[0m\n",
      "\u001b[35m/opt/amazon/lib/python3.8/site-packages/scipy/optimize/_shgo.py:743: SyntaxWarning: \"is not\" with a literal. Did you mean \"!=\"?\n",
      "  if len(self.X_min) is not 0:\u001b[0m\n",
      "\u001b[34m[10/23/2024 19:54:54 WARNING 140531097556800] Loggers have already been setup.\u001b[0m\n",
      "\u001b[35m[10/23/2024 19:54:54 WARNING 140531097556800] Loggers have already been setup.\u001b[0m\n",
      "\u001b[34m[10/23/2024 19:54:54 INFO 140531097556800] loaded entry point class algorithm.serve.server_config:config_api\u001b[0m\n",
      "\u001b[34m[10/23/2024 19:54:54 INFO 140531097556800] loading entry points\u001b[0m\n",
      "\u001b[34m[10/23/2024 19:54:54 INFO 140531097556800] loaded request iterator application/json\u001b[0m\n",
      "\u001b[34m[10/23/2024 19:54:54 INFO 140531097556800] loaded request iterator application/jsonlines\u001b[0m\n",
      "\u001b[34m[10/23/2024 19:54:54 INFO 140531097556800] loaded request iterator application/x-recordio-protobuf\u001b[0m\n",
      "\u001b[34m[10/23/2024 19:54:54 INFO 140531097556800] loaded request iterator text/csv\u001b[0m\n",
      "\u001b[34m[10/23/2024 19:54:54 INFO 140531097556800] loaded response encoder application/json\u001b[0m\n",
      "\u001b[34m[10/23/2024 19:54:54 INFO 140531097556800] loaded response encoder application/jsonlines\u001b[0m\n",
      "\u001b[34m[10/23/2024 19:54:54 INFO 140531097556800] loaded response encoder application/x-recordio-protobuf\u001b[0m\n",
      "\u001b[35m[10/23/2024 19:54:54 INFO 140531097556800] loaded entry point class algorithm.serve.server_config:config_api\u001b[0m\n",
      "\u001b[35m[10/23/2024 19:54:54 INFO 140531097556800] loading entry points\u001b[0m\n",
      "\u001b[35m[10/23/2024 19:54:54 INFO 140531097556800] loaded request iterator application/json\u001b[0m\n",
      "\u001b[35m[10/23/2024 19:54:54 INFO 140531097556800] loaded request iterator application/jsonlines\u001b[0m\n",
      "\u001b[35m[10/23/2024 19:54:54 INFO 140531097556800] loaded request iterator application/x-recordio-protobuf\u001b[0m\n",
      "\u001b[35m[10/23/2024 19:54:54 INFO 140531097556800] loaded request iterator text/csv\u001b[0m\n",
      "\u001b[35m[10/23/2024 19:54:54 INFO 140531097556800] loaded response encoder application/json\u001b[0m\n",
      "\u001b[35m[10/23/2024 19:54:54 INFO 140531097556800] loaded response encoder application/jsonlines\u001b[0m\n",
      "\u001b[35m[10/23/2024 19:54:54 INFO 140531097556800] loaded response encoder application/x-recordio-protobuf\u001b[0m\n",
      "\u001b[34m[10/23/2024 19:54:54 INFO 140531097556800] loaded response encoder text/csv\u001b[0m\n",
      "\u001b[34m[10/23/2024 19:54:54 INFO 140531097556800] loaded entry point class algorithm:model\u001b[0m\n",
      "\u001b[34m[10/23/2024 19:54:54 INFO 140531097556800] Number of server workers: 4\u001b[0m\n",
      "\u001b[34m[10/23/2024 19:54:54 INFO 140531097556800] loading model...\u001b[0m\n",
      "\u001b[34m[10/23/2024 19:54:54 INFO 140531097556800] ...model loaded.\u001b[0m\n",
      "\u001b[34m[2024-10-23 19:54:54 +0000] [1] [INFO] Starting gunicorn 20.1.0\u001b[0m\n",
      "\u001b[34m[2024-10-23 19:54:54 +0000] [1] [INFO] Listening at: http://0.0.0.0:8080 (1)\u001b[0m\n",
      "\u001b[34m[2024-10-23 19:54:54 +0000] [1] [INFO] Using worker: sync\u001b[0m\n",
      "\u001b[34m[2024-10-23 19:54:54 +0000] [43] [INFO] Booting worker with pid: 43\u001b[0m\n",
      "\u001b[34m[2024-10-23 19:54:54 +0000] [52] [INFO] Booting worker with pid: 52\u001b[0m\n",
      "\u001b[34m[2024-10-23 19:54:54 +0000] [61] [INFO] Booting worker with pid: 61\u001b[0m\n",
      "\u001b[34m[2024-10-23 19:54:54 +0000] [70] [INFO] Booting worker with pid: 70\u001b[0m\n",
      "\u001b[34m#metrics {\"StartTime\": 1729713294.259721, \"EndTime\": 1729713294.8067496, \"Dimensions\": {\"Algorithm\": \"LinearLearnerModel\", \"Host\": \"UNKNOWN\", \"Operation\": \"scoring\"}, \"Metrics\": {\"execution_parameters.count\": {\"sum\": 1.0, \"count\": 1, \"min\": 1, \"max\": 1}}}\u001b[0m\n",
      "\u001b[35m[10/23/2024 19:54:54 INFO 140531097556800] loaded response encoder text/csv\u001b[0m\n",
      "\u001b[35m[10/23/2024 19:54:54 INFO 140531097556800] loaded entry point class algorithm:model\u001b[0m\n",
      "\u001b[35m[10/23/2024 19:54:54 INFO 140531097556800] Number of server workers: 4\u001b[0m\n",
      "\u001b[35m[10/23/2024 19:54:54 INFO 140531097556800] loading model...\u001b[0m\n",
      "\u001b[35m[10/23/2024 19:54:54 INFO 140531097556800] ...model loaded.\u001b[0m\n",
      "\u001b[35m[2024-10-23 19:54:54 +0000] [1] [INFO] Starting gunicorn 20.1.0\u001b[0m\n",
      "\u001b[35m[2024-10-23 19:54:54 +0000] [1] [INFO] Listening at: http://0.0.0.0:8080 (1)\u001b[0m\n",
      "\u001b[35m[2024-10-23 19:54:54 +0000] [1] [INFO] Using worker: sync\u001b[0m\n",
      "\u001b[35m[2024-10-23 19:54:54 +0000] [43] [INFO] Booting worker with pid: 43\u001b[0m\n",
      "\u001b[35m[2024-10-23 19:54:54 +0000] [52] [INFO] Booting worker with pid: 52\u001b[0m\n",
      "\u001b[35m[2024-10-23 19:54:54 +0000] [61] [INFO] Booting worker with pid: 61\u001b[0m\n",
      "\u001b[35m[2024-10-23 19:54:54 +0000] [70] [INFO] Booting worker with pid: 70\u001b[0m\n",
      "\u001b[35m#metrics {\"StartTime\": 1729713294.259721, \"EndTime\": 1729713294.8067496, \"Dimensions\": {\"Algorithm\": \"LinearLearnerModel\", \"Host\": \"UNKNOWN\", \"Operation\": \"scoring\"}, \"Metrics\": {\"execution_parameters.count\": {\"sum\": 1.0, \"count\": 1, \"min\": 1, \"max\": 1}}}\u001b[0m\n",
      "\u001b[34m#metrics {\"StartTime\": 1729713294.259721, \"EndTime\": 1729713297.7133307, \"Dimensions\": {\"Algorithm\": \"LinearLearnerModel\", \"Host\": \"UNKNOWN\", \"Operation\": \"scoring\"}, \"Metrics\": {\"json.encoder.time\": {\"sum\": 90.82293510437012, \"count\": 1, \"min\": 90.82293510437012, \"max\": 90.82293510437012}, \"invocations.count\": {\"sum\": 1.0, \"count\": 1, \"min\": 1, \"max\": 1}}}\u001b[0m\n",
      "\u001b[34m#metrics {\"StartTime\": 1729713294.259721, \"EndTime\": 1729713297.729707, \"Dimensions\": {\"Algorithm\": \"LinearLearnerModel\", \"Host\": \"UNKNOWN\", \"Operation\": \"scoring\"}, \"Metrics\": {\"json.encoder.time\": {\"sum\": 119.07505989074707, \"count\": 1, \"min\": 119.07505989074707, \"max\": 119.07505989074707}, \"invocations.count\": {\"sum\": 1.0, \"count\": 1, \"min\": 1, \"max\": 1}}}\u001b[0m\n",
      "\u001b[34m#metrics {\"StartTime\": 1729713294.259721, \"EndTime\": 1729713297.8052685, \"Dimensions\": {\"Algorithm\": \"LinearLearnerModel\", \"Host\": \"UNKNOWN\", \"Operation\": \"scoring\"}, \"Metrics\": {\"json.encoder.time\": {\"sum\": 124.95946884155273, \"count\": 1, \"min\": 124.95946884155273, \"max\": 124.95946884155273}, \"invocations.count\": {\"sum\": 1.0, \"count\": 1, \"min\": 1, \"max\": 1}}}\u001b[0m\n",
      "\u001b[34m#metrics {\"StartTime\": 1729713294.8069072, \"EndTime\": 1729713298.0048332, \"Dimensions\": {\"Algorithm\": \"LinearLearnerModel\", \"Host\": \"UNKNOWN\", \"Operation\": \"scoring\"}, \"Metrics\": {\"json.encoder.time\": {\"sum\": 110.26787757873535, \"count\": 1, \"min\": 110.26787757873535, \"max\": 110.26787757873535}, \"invocations.count\": {\"sum\": 1.0, \"count\": 1, \"min\": 1, \"max\": 1}}}\u001b[0m\n",
      "\u001b[35m#metrics {\"StartTime\": 1729713294.259721, \"EndTime\": 1729713297.7133307, \"Dimensions\": {\"Algorithm\": \"LinearLearnerModel\", \"Host\": \"UNKNOWN\", \"Operation\": \"scoring\"}, \"Metrics\": {\"json.encoder.time\": {\"sum\": 90.82293510437012, \"count\": 1, \"min\": 90.82293510437012, \"max\": 90.82293510437012}, \"invocations.count\": {\"sum\": 1.0, \"count\": 1, \"min\": 1, \"max\": 1}}}\u001b[0m\n",
      "\u001b[35m#metrics {\"StartTime\": 1729713294.259721, \"EndTime\": 1729713297.729707, \"Dimensions\": {\"Algorithm\": \"LinearLearnerModel\", \"Host\": \"UNKNOWN\", \"Operation\": \"scoring\"}, \"Metrics\": {\"json.encoder.time\": {\"sum\": 119.07505989074707, \"count\": 1, \"min\": 119.07505989074707, \"max\": 119.07505989074707}, \"invocations.count\": {\"sum\": 1.0, \"count\": 1, \"min\": 1, \"max\": 1}}}\u001b[0m\n",
      "\u001b[35m#metrics {\"StartTime\": 1729713294.259721, \"EndTime\": 1729713297.8052685, \"Dimensions\": {\"Algorithm\": \"LinearLearnerModel\", \"Host\": \"UNKNOWN\", \"Operation\": \"scoring\"}, \"Metrics\": {\"json.encoder.time\": {\"sum\": 124.95946884155273, \"count\": 1, \"min\": 124.95946884155273, \"max\": 124.95946884155273}, \"invocations.count\": {\"sum\": 1.0, \"count\": 1, \"min\": 1, \"max\": 1}}}\u001b[0m\n",
      "\u001b[35m#metrics {\"StartTime\": 1729713294.8069072, \"EndTime\": 1729713298.0048332, \"Dimensions\": {\"Algorithm\": \"LinearLearnerModel\", \"Host\": \"UNKNOWN\", \"Operation\": \"scoring\"}, \"Metrics\": {\"json.encoder.time\": {\"sum\": 110.26787757873535, \"count\": 1, \"min\": 110.26787757873535, \"max\": 110.26787757873535}, \"invocations.count\": {\"sum\": 1.0, \"count\": 1, \"min\": 1, \"max\": 1}}}\u001b[0m\n",
      "\u001b[32m2024-10-23T19:54:54.828:[sagemaker logs]: MaxConcurrentTransforms=4, MaxPayloadInMB=6, BatchStrategy=MULTI_RECORD\u001b[0m\n",
      "\u001b[34m#metrics {\"StartTime\": 1729713297.805379, \"EndTime\": 1729713298.6324995, \"Dimensions\": {\"Algorithm\": \"LinearLearnerModel\", \"Host\": \"UNKNOWN\", \"Operation\": \"scoring\"}, \"Metrics\": {\"json.encoder.time\": {\"sum\": 64.91780281066895, \"count\": 1, \"min\": 64.91780281066895, \"max\": 64.91780281066895}, \"invocations.count\": {\"sum\": 1.0, \"count\": 1, \"min\": 1, \"max\": 1}}}\u001b[0m\n",
      "\u001b[35m#metrics {\"StartTime\": 1729713297.805379, \"EndTime\": 1729713298.6324995, \"Dimensions\": {\"Algorithm\": \"LinearLearnerModel\", \"Host\": \"UNKNOWN\", \"Operation\": \"scoring\"}, \"Metrics\": {\"json.encoder.time\": {\"sum\": 64.91780281066895, \"count\": 1, \"min\": 64.91780281066895, \"max\": 64.91780281066895}, \"invocations.count\": {\"sum\": 1.0, \"count\": 1, \"min\": 1, \"max\": 1}}}\u001b[0m\n",
      "\n",
      "\u001b[34mDocker entrypoint called with argument(s): serve\u001b[0m\n",
      "\u001b[34mRunning default environment configuration script\u001b[0m\n",
      "\u001b[34m[10/23/2024 19:54:49 INFO 140531097556800] Memory profiler is not enabled by the environment variable ENABLE_PROFILER.\u001b[0m\n",
      "\u001b[34m/opt/amazon/lib/python3.8/site-packages/mxnet/model.py:97: SyntaxWarning: \"is\" with a literal. Did you mean \"==\"?\n",
      "  if num_device is 1 and 'dist' not in kvstore:\u001b[0m\n",
      "\u001b[34m/opt/amazon/lib/python3.8/site-packages/scipy/optimize/_shgo.py:495: SyntaxWarning: \"is\" with a literal. Did you mean \"==\"?\n",
      "  if cons['type'] is 'ineq':\u001b[0m\n",
      "\u001b[34m/opt/amazon/lib/python3.8/site-packages/scipy/optimize/_shgo.py:743: SyntaxWarning: \"is not\" with a literal. Did you mean \"!=\"?\n",
      "  if len(self.X_min) is not 0:\u001b[0m\n",
      "\u001b[35mDocker entrypoint called with argument(s): serve\u001b[0m\n",
      "\u001b[35mRunning default environment configuration script\u001b[0m\n",
      "\u001b[35m[10/23/2024 19:54:49 INFO 140531097556800] Memory profiler is not enabled by the environment variable ENABLE_PROFILER.\u001b[0m\n",
      "\u001b[35m/opt/amazon/lib/python3.8/site-packages/mxnet/model.py:97: SyntaxWarning: \"is\" with a literal. Did you mean \"==\"?\n",
      "  if num_device is 1 and 'dist' not in kvstore:\u001b[0m\n",
      "\u001b[35m/opt/amazon/lib/python3.8/site-packages/scipy/optimize/_shgo.py:495: SyntaxWarning: \"is\" with a literal. Did you mean \"==\"?\n",
      "  if cons['type'] is 'ineq':\u001b[0m\n",
      "\u001b[35m/opt/amazon/lib/python3.8/site-packages/scipy/optimize/_shgo.py:743: SyntaxWarning: \"is not\" with a literal. Did you mean \"!=\"?\n",
      "  if len(self.X_min) is not 0:\u001b[0m\n",
      "\u001b[34m[10/23/2024 19:54:54 WARNING 140531097556800] Loggers have already been setup.\u001b[0m\n",
      "\u001b[35m[10/23/2024 19:54:54 WARNING 140531097556800] Loggers have already been setup.\u001b[0m\n",
      "\u001b[34m[10/23/2024 19:54:54 INFO 140531097556800] loaded entry point class algorithm.serve.server_config:config_api\u001b[0m\n",
      "\u001b[34m[10/23/2024 19:54:54 INFO 140531097556800] loading entry points\u001b[0m\n",
      "\u001b[34m[10/23/2024 19:54:54 INFO 140531097556800] loaded request iterator application/json\u001b[0m\n",
      "\u001b[34m[10/23/2024 19:54:54 INFO 140531097556800] loaded request iterator application/jsonlines\u001b[0m\n",
      "\u001b[34m[10/23/2024 19:54:54 INFO 140531097556800] loaded request iterator application/x-recordio-protobuf\u001b[0m\n",
      "\u001b[34m[10/23/2024 19:54:54 INFO 140531097556800] loaded request iterator text/csv\u001b[0m\n",
      "\u001b[34m[10/23/2024 19:54:54 INFO 140531097556800] loaded response encoder application/json\u001b[0m\n",
      "\u001b[34m[10/23/2024 19:54:54 INFO 140531097556800] loaded response encoder application/jsonlines\u001b[0m\n",
      "\u001b[34m[10/23/2024 19:54:54 INFO 140531097556800] loaded response encoder application/x-recordio-protobuf\u001b[0m\n",
      "\u001b[35m[10/23/2024 19:54:54 INFO 140531097556800] loaded entry point class algorithm.serve.server_config:config_api\u001b[0m\n",
      "\u001b[35m[10/23/2024 19:54:54 INFO 140531097556800] loading entry points\u001b[0m\n",
      "\u001b[35m[10/23/2024 19:54:54 INFO 140531097556800] loaded request iterator application/json\u001b[0m\n",
      "\u001b[35m[10/23/2024 19:54:54 INFO 140531097556800] loaded request iterator application/jsonlines\u001b[0m\n",
      "\u001b[35m[10/23/2024 19:54:54 INFO 140531097556800] loaded request iterator application/x-recordio-protobuf\u001b[0m\n",
      "\u001b[35m[10/23/2024 19:54:54 INFO 140531097556800] loaded request iterator text/csv\u001b[0m\n",
      "\u001b[35m[10/23/2024 19:54:54 INFO 140531097556800] loaded response encoder application/json\u001b[0m\n",
      "\u001b[35m[10/23/2024 19:54:54 INFO 140531097556800] loaded response encoder application/jsonlines\u001b[0m\n",
      "\u001b[35m[10/23/2024 19:54:54 INFO 140531097556800] loaded response encoder application/x-recordio-protobuf\u001b[0m\n",
      "\u001b[34m[10/23/2024 19:54:54 INFO 140531097556800] loaded response encoder text/csv\u001b[0m\n",
      "\u001b[34m[10/23/2024 19:54:54 INFO 140531097556800] loaded entry point class algorithm:model\u001b[0m\n",
      "\u001b[34m[10/23/2024 19:54:54 INFO 140531097556800] Number of server workers: 4\u001b[0m\n",
      "\u001b[34m[10/23/2024 19:54:54 INFO 140531097556800] loading model...\u001b[0m\n",
      "\u001b[34m[10/23/2024 19:54:54 INFO 140531097556800] ...model loaded.\u001b[0m\n",
      "\u001b[34m[2024-10-23 19:54:54 +0000] [1] [INFO] Starting gunicorn 20.1.0\u001b[0m\n",
      "\u001b[34m[2024-10-23 19:54:54 +0000] [1] [INFO] Listening at: http://0.0.0.0:8080 (1)\u001b[0m\n",
      "\u001b[34m[2024-10-23 19:54:54 +0000] [1] [INFO] Using worker: sync\u001b[0m\n",
      "\u001b[34m[2024-10-23 19:54:54 +0000] [43] [INFO] Booting worker with pid: 43\u001b[0m\n",
      "\u001b[34m[2024-10-23 19:54:54 +0000] [52] [INFO] Booting worker with pid: 52\u001b[0m\n",
      "\u001b[34m[2024-10-23 19:54:54 +0000] [61] [INFO] Booting worker with pid: 61\u001b[0m\n",
      "\u001b[34m[2024-10-23 19:54:54 +0000] [70] [INFO] Booting worker with pid: 70\u001b[0m\n",
      "\u001b[34m#metrics {\"StartTime\": 1729713294.259721, \"EndTime\": 1729713294.8067496, \"Dimensions\": {\"Algorithm\": \"LinearLearnerModel\", \"Host\": \"UNKNOWN\", \"Operation\": \"scoring\"}, \"Metrics\": {\"execution_parameters.count\": {\"sum\": 1.0, \"count\": 1, \"min\": 1, \"max\": 1}}}\u001b[0m\n",
      "\u001b[35m[10/23/2024 19:54:54 INFO 140531097556800] loaded response encoder text/csv\u001b[0m\n",
      "\u001b[35m[10/23/2024 19:54:54 INFO 140531097556800] loaded entry point class algorithm:model\u001b[0m\n",
      "\u001b[35m[10/23/2024 19:54:54 INFO 140531097556800] Number of server workers: 4\u001b[0m\n",
      "\u001b[35m[10/23/2024 19:54:54 INFO 140531097556800] loading model...\u001b[0m\n",
      "\u001b[35m[10/23/2024 19:54:54 INFO 140531097556800] ...model loaded.\u001b[0m\n",
      "\u001b[35m[2024-10-23 19:54:54 +0000] [1] [INFO] Starting gunicorn 20.1.0\u001b[0m\n",
      "\u001b[35m[2024-10-23 19:54:54 +0000] [1] [INFO] Listening at: http://0.0.0.0:8080 (1)\u001b[0m\n",
      "\u001b[35m[2024-10-23 19:54:54 +0000] [1] [INFO] Using worker: sync\u001b[0m\n",
      "\u001b[35m[2024-10-23 19:54:54 +0000] [43] [INFO] Booting worker with pid: 43\u001b[0m\n",
      "\u001b[35m[2024-10-23 19:54:54 +0000] [52] [INFO] Booting worker with pid: 52\u001b[0m\n",
      "\u001b[35m[2024-10-23 19:54:54 +0000] [61] [INFO] Booting worker with pid: 61\u001b[0m\n",
      "\u001b[35m[2024-10-23 19:54:54 +0000] [70] [INFO] Booting worker with pid: 70\u001b[0m\n",
      "\u001b[35m#metrics {\"StartTime\": 1729713294.259721, \"EndTime\": 1729713294.8067496, \"Dimensions\": {\"Algorithm\": \"LinearLearnerModel\", \"Host\": \"UNKNOWN\", \"Operation\": \"scoring\"}, \"Metrics\": {\"execution_parameters.count\": {\"sum\": 1.0, \"count\": 1, \"min\": 1, \"max\": 1}}}\u001b[0m\n",
      "\u001b[34m#metrics {\"StartTime\": 1729713294.259721, \"EndTime\": 1729713297.7133307, \"Dimensions\": {\"Algorithm\": \"LinearLearnerModel\", \"Host\": \"UNKNOWN\", \"Operation\": \"scoring\"}, \"Metrics\": {\"json.encoder.time\": {\"sum\": 90.82293510437012, \"count\": 1, \"min\": 90.82293510437012, \"max\": 90.82293510437012}, \"invocations.count\": {\"sum\": 1.0, \"count\": 1, \"min\": 1, \"max\": 1}}}\u001b[0m\n",
      "\u001b[34m#metrics {\"StartTime\": 1729713294.259721, \"EndTime\": 1729713297.729707, \"Dimensions\": {\"Algorithm\": \"LinearLearnerModel\", \"Host\": \"UNKNOWN\", \"Operation\": \"scoring\"}, \"Metrics\": {\"json.encoder.time\": {\"sum\": 119.07505989074707, \"count\": 1, \"min\": 119.07505989074707, \"max\": 119.07505989074707}, \"invocations.count\": {\"sum\": 1.0, \"count\": 1, \"min\": 1, \"max\": 1}}}\u001b[0m\n",
      "\u001b[34m#metrics {\"StartTime\": 1729713294.259721, \"EndTime\": 1729713297.8052685, \"Dimensions\": {\"Algorithm\": \"LinearLearnerModel\", \"Host\": \"UNKNOWN\", \"Operation\": \"scoring\"}, \"Metrics\": {\"json.encoder.time\": {\"sum\": 124.95946884155273, \"count\": 1, \"min\": 124.95946884155273, \"max\": 124.95946884155273}, \"invocations.count\": {\"sum\": 1.0, \"count\": 1, \"min\": 1, \"max\": 1}}}\u001b[0m\n",
      "\u001b[34m#metrics {\"StartTime\": 1729713294.8069072, \"EndTime\": 1729713298.0048332, \"Dimensions\": {\"Algorithm\": \"LinearLearnerModel\", \"Host\": \"UNKNOWN\", \"Operation\": \"scoring\"}, \"Metrics\": {\"json.encoder.time\": {\"sum\": 110.26787757873535, \"count\": 1, \"min\": 110.26787757873535, \"max\": 110.26787757873535}, \"invocations.count\": {\"sum\": 1.0, \"count\": 1, \"min\": 1, \"max\": 1}}}\u001b[0m\n",
      "\u001b[35m#metrics {\"StartTime\": 1729713294.259721, \"EndTime\": 1729713297.7133307, \"Dimensions\": {\"Algorithm\": \"LinearLearnerModel\", \"Host\": \"UNKNOWN\", \"Operation\": \"scoring\"}, \"Metrics\": {\"json.encoder.time\": {\"sum\": 90.82293510437012, \"count\": 1, \"min\": 90.82293510437012, \"max\": 90.82293510437012}, \"invocations.count\": {\"sum\": 1.0, \"count\": 1, \"min\": 1, \"max\": 1}}}\u001b[0m\n",
      "\u001b[35m#metrics {\"StartTime\": 1729713294.259721, \"EndTime\": 1729713297.729707, \"Dimensions\": {\"Algorithm\": \"LinearLearnerModel\", \"Host\": \"UNKNOWN\", \"Operation\": \"scoring\"}, \"Metrics\": {\"json.encoder.time\": {\"sum\": 119.07505989074707, \"count\": 1, \"min\": 119.07505989074707, \"max\": 119.07505989074707}, \"invocations.count\": {\"sum\": 1.0, \"count\": 1, \"min\": 1, \"max\": 1}}}\u001b[0m\n",
      "\u001b[35m#metrics {\"StartTime\": 1729713294.259721, \"EndTime\": 1729713297.8052685, \"Dimensions\": {\"Algorithm\": \"LinearLearnerModel\", \"Host\": \"UNKNOWN\", \"Operation\": \"scoring\"}, \"Metrics\": {\"json.encoder.time\": {\"sum\": 124.95946884155273, \"count\": 1, \"min\": 124.95946884155273, \"max\": 124.95946884155273}, \"invocations.count\": {\"sum\": 1.0, \"count\": 1, \"min\": 1, \"max\": 1}}}\u001b[0m\n",
      "\u001b[35m#metrics {\"StartTime\": 1729713294.8069072, \"EndTime\": 1729713298.0048332, \"Dimensions\": {\"Algorithm\": \"LinearLearnerModel\", \"Host\": \"UNKNOWN\", \"Operation\": \"scoring\"}, \"Metrics\": {\"json.encoder.time\": {\"sum\": 110.26787757873535, \"count\": 1, \"min\": 110.26787757873535, \"max\": 110.26787757873535}, \"invocations.count\": {\"sum\": 1.0, \"count\": 1, \"min\": 1, \"max\": 1}}}\u001b[0m\n",
      "\u001b[32m2024-10-23T19:54:54.828:[sagemaker logs]: MaxConcurrentTransforms=4, MaxPayloadInMB=6, BatchStrategy=MULTI_RECORD\u001b[0m\n",
      "\u001b[34m#metrics {\"StartTime\": 1729713297.805379, \"EndTime\": 1729713298.6324995, \"Dimensions\": {\"Algorithm\": \"LinearLearnerModel\", \"Host\": \"UNKNOWN\", \"Operation\": \"scoring\"}, \"Metrics\": {\"json.encoder.time\": {\"sum\": 64.91780281066895, \"count\": 1, \"min\": 64.91780281066895, \"max\": 64.91780281066895}, \"invocations.count\": {\"sum\": 1.0, \"count\": 1, \"min\": 1, \"max\": 1}}}\u001b[0m\n",
      "\u001b[35m#metrics {\"StartTime\": 1729713297.805379, \"EndTime\": 1729713298.6324995, \"Dimensions\": {\"Algorithm\": \"LinearLearnerModel\", \"Host\": \"UNKNOWN\", \"Operation\": \"scoring\"}, \"Metrics\": {\"json.encoder.time\": {\"sum\": 64.91780281066895, \"count\": 1, \"min\": 64.91780281066895, \"max\": 64.91780281066895}, \"invocations.count\": {\"sum\": 1.0, \"count\": 1, \"min\": 1, \"max\": 1}}}\u001b[0m\n"
     ]
    }
   ],
   "source": [
    "test_labels, target_predicted = batch_linear_predict(test, classifier_estimator)"
   ]
  },
  {
   "cell_type": "markdown",
   "metadata": {},
   "source": [
    "To view a plot of the confusion matrix, and various scoring metrics, create a couple of functions:"
   ]
  },
  {
   "cell_type": "code",
   "execution_count": 46,
   "metadata": {
    "tags": []
   },
   "outputs": [],
   "source": [
    "from sklearn.metrics import confusion_matrix\n",
    "\n",
    "def plot_confusion_matrix(test_labels, target_predicted):\n",
    "    matrix = confusion_matrix(test_labels, target_predicted)\n",
    "    df_confusion = pd.DataFrame(matrix)\n",
    "    colormap = sns.color_palette(\"BrBG\", 10)\n",
    "    sns.heatmap(df_confusion, annot=True, fmt='.2f', cbar=None, cmap=colormap)\n",
    "    plt.title(\"Confusion Matrix\")\n",
    "    plt.tight_layout()\n",
    "    plt.ylabel(\"True Class\")\n",
    "    plt.xlabel(\"Predicted Class\")\n",
    "    plt.show()"
   ]
  },
  {
   "cell_type": "code",
   "execution_count": 47,
   "metadata": {
    "tags": []
   },
   "outputs": [],
   "source": [
    "from sklearn import metrics\n",
    "\n",
    "def plot_roc(test_labels, target_predicted):\n",
    "    TN, FP, FN, TP = confusion_matrix(test_labels, target_predicted).ravel()\n",
    "    # Sensitivity, hit rate, recall, or true positive rate\n",
    "    Sensitivity  = float(TP)/(TP+FN)*100\n",
    "    # Specificity or true negative rate\n",
    "    Specificity  = float(TN)/(TN+FP)*100\n",
    "    # Precision or positive predictive value\n",
    "    Precision = float(TP)/(TP+FP)*100\n",
    "    # Negative predictive value\n",
    "    NPV = float(TN)/(TN+FN)*100\n",
    "    # Fall out or false positive rate\n",
    "    FPR = float(FP)/(FP+TN)*100\n",
    "    # False negative rate\n",
    "    FNR = float(FN)/(TP+FN)*100\n",
    "    # False discovery rate\n",
    "    FDR = float(FP)/(TP+FP)*100\n",
    "    # Overall accuracy\n",
    "    ACC = float(TP+TN)/(TP+FP+FN+TN)*100\n",
    "\n",
    "    print(\"Sensitivity or TPR: \", Sensitivity, \"%\") \n",
    "    print( \"Specificity or TNR: \",Specificity, \"%\") \n",
    "    print(\"Precision: \",Precision, \"%\") \n",
    "    print(\"Negative Predictive Value: \",NPV, \"%\") \n",
    "    print( \"False Positive Rate: \",FPR,\"%\")\n",
    "    print(\"False Negative Rate: \",FNR, \"%\") \n",
    "    print(\"False Discovery Rate: \",FDR, \"%\" )\n",
    "    print(\"Accuracy: \",ACC, \"%\") \n",
    "\n",
    "    test_labels = test.iloc[:,0];\n",
    "    print(\"Validation AUC\", metrics.roc_auc_score(test_labels, target_predicted) )\n",
    "\n",
    "    fpr, tpr, thresholds = metrics.roc_curve(test_labels, target_predicted)\n",
    "    roc_auc = metrics.auc(fpr, tpr)\n",
    "\n",
    "    plt.figure()\n",
    "    plt.plot(fpr, tpr, label='ROC curve (area = %0.2f)' % (roc_auc))\n",
    "    plt.plot([0, 1], [0, 1], 'k--')\n",
    "    plt.xlim([0.0, 1.0])\n",
    "    plt.ylim([0.0, 1.05])\n",
    "    plt.xlabel('False Positive Rate')\n",
    "    plt.ylabel('True Positive Rate')\n",
    "    plt.title('Receiver operating characteristic')\n",
    "    plt.legend(loc=\"lower right\")\n",
    "\n",
    "    # create the axis of thresholds (scores)\n",
    "    ax2 = plt.gca().twinx()\n",
    "    ax2.plot(fpr, thresholds, markeredgecolor='r',linestyle='dashed', color='r')\n",
    "    ax2.set_ylabel('Threshold',color='r')\n",
    "    ax2.set_ylim([thresholds[-1],thresholds[0]])\n",
    "    ax2.set_xlim([fpr[0],fpr[-1]])\n",
    "\n",
    "    print(plt.figure())"
   ]
  },
  {
   "cell_type": "markdown",
   "metadata": {},
   "source": [
    "To plot the confusion matrix, call the `plot_confusion_matrix` function on the `test_labels` and the `target_predicted` data from your batch job:"
   ]
  },
  {
   "cell_type": "code",
   "execution_count": 49,
   "metadata": {
    "tags": []
   },
   "outputs": [
    {
     "data": {
      "image/png": "[encoded data removed]",
      "text/plain": [
       "<Figure size 640x480 with 1 Axes>"
      ]
     },
     "metadata": {},
     "output_type": "display_data"
    }
   ],
   "source": [
    "# Enter your code here\n",
    "plot_confusion_matrix(test_labels, target_predicted)"
   ]
  },
  {
   "cell_type": "markdown",
   "metadata": {},
   "source": [
    "### Key questions to consider:\n",
    "\n",
    "1. How does your model's performance on the test set compare to its performance on the training set? What can you deduce from this comparison? \n",
    "2. Are there obvious differences between the outcomes of metrics like accuracy, precision, and recall? If so, why might you be seeing those differences? \n",
    "3. Given your business situation and goals, which metric (or metrics) is the most important for you to consider? Why?\n",
    "4. From a business standpoint, is the outcome for the metric (or metrics) that you consider to be the most important sufficient for what you need? If not, what are some things you might change in your next iteration? (This will happen in the feature engineering section, which is next.)\n",
    "\n",
    "Use the following cells to answer these (and other) questions. Insert and delete cells where needed.\n",
    "\n",
    "#### <span style=\"color: blue;\">Project presentation: In your project presentation, write down your answers to these questions -- and other similar questions that you might answer -- in this section. Record the key details and decisions that you made.</span>"
   ]
  },
  {
   "cell_type": "markdown",
   "metadata": {},
   "source": [
    "\n",
    "**Question**: What can you summarize from the confusion matrix?\n"
   ]
  },
  {
   "cell_type": "code",
   "execution_count": null,
   "metadata": {},
   "outputs": [],
   "source": [
    "# Enter your answer here"
   ]
  },
  {
   "cell_type": "markdown",
   "metadata": {},
   "source": [
    "## <span style=\"color:red\"> End of Step 3 </span>\n",
    "\n",
    "Save the project file to your local computer. Follow these steps:\n",
    "\n",
    "1. In the file explorer on the left, right-click the notebook that you're working on. \n",
    "\n",
    "2. Select **Download**, and save the file locally.  \n",
    "\n",
    "This action downloads the current notebook to the default download folder on your computer."
   ]
  },
  {
   "cell_type": "markdown",
   "metadata": {},
   "source": [
    "# Iteration II"
   ]
  },
  {
   "cell_type": "markdown",
   "metadata": {},
   "source": [
    "# Step 4: Feature engineering\n",
    "\n",
    "You have now gone through one iteration of training and evaluating your model. Given that the first outcome that you reached for your model probably wasn't sufficient for solving your business problem, what could you change about your data to possibly improve model performance?\n",
    "\n",
    "### Key questions to consider:\n",
    "\n",
    "1. How might the balance of your two main classes (*delay* and *no delay*) impact model performance?\n",
    "2. Do you have any features that are correlated?\n",
    "3. At this stage, could you perform any feature-reduction techniques that might have a positive impact on model performance? \n",
    "4. Can you think of adding some more data or datasets?\n",
    "5. After performing some feature engineering, how does the performance of your model compare to the first iteration?\n",
    "\n",
    "Use the following cells to perform specific feature-engineering techniques that you think could improve your model performance (use the previous questions as a guide). Insert and delete cells where needed.\n",
    "\n",
    "#### <span style=\"color: blue;\">Project presentation: In your project presentation, record your key decisions and the methods that you use in this section. Also include any new performance metrics that you obtain after you evaluate your model again.</span>\n",
    "\n",
    "Before you start, think about why the precision and recall are around 80 percent, and the accuracy is at 99 percent."
   ]
  },
  {
   "cell_type": "markdown",
   "metadata": {},
   "source": [
    "Add more features:\n",
    "\n",
    "1. Holidays\n",
    "2. Weather"
   ]
  },
  {
   "cell_type": "markdown",
   "metadata": {},
   "source": [
    "Because the list of holidays from 2014 to 2018 is known, you can create an indicator variable **is_holiday** to mark them.\n",
    "\n",
    "The hypothesis is that airplane delays could be higher during holidays compared to the rest of the days. Add a boolean variable `is_holiday` that includes the holidays for the years 2014-2018."
   ]
  },
  {
   "cell_type": "code",
   "execution_count": 50,
   "metadata": {
    "tags": []
   },
   "outputs": [],
   "source": [
    "# Source: http://www.calendarpedia.com/holidays/federal-holidays-2014.html\n",
    "\n",
    "holidays_14 = ['2014-01-01',  '2014-01-20', '2014-02-17', '2014-05-26', '2014-07-04', '2014-09-01', '2014-10-13', '2014-11-11', '2014-11-27', '2014-12-25' ] \n",
    "holidays_15 = ['2015-01-01',  '2015-01-19', '2015-02-16', '2015-05-25', '2015-06-03', '2015-07-04', '2015-09-07', '2015-10-12', '2015-11-11', '2015-11-26', '2015-12-25'] \n",
    "holidays_16 = ['2016-01-01',  '2016-01-18', '2016-02-15', '2016-05-30', '2016-07-04', '2016-09-05', '2016-10-10', '2016-11-11', '2016-11-24', '2016-12-25', '2016-12-26']\n",
    "holidays_17 = ['2017-01-02', '2017-01-16', '2017-02-20', '2017-05-29' , '2017-07-04', '2017-09-04' ,'2017-10-09', '2017-11-10', '2017-11-23', '2017-12-25']\n",
    "holidays_18 = ['2018-01-01', '2018-01-15', '2018-02-19', '2018-05-28' , '2018-07-04', '2018-09-03' ,'2018-10-08', '2018-11-12','2018-11-22', '2018-12-25']\n",
    "holidays = holidays_14+ holidays_15+ holidays_16 + holidays_17+ holidays_18\n",
    "\n",
    "# Add indicator variable for holidays\n",
    "# Enter your code here\n",
    "data_orig['is_holiday'] = data_orig['FlightDate'].isin(holidays).astype(int) "
   ]
  },
  {
   "cell_type": "markdown",
   "metadata": {},
   "source": [
    "Weather data was fetched from https://www.ncei.noaa.gov/access/services/data/v1?dataset=daily-summaries&stations=USW00023174,USW00012960,USW00003017,USW00094846,USW00013874,USW00023234,USW00003927,USW00023183,USW00013881&dataTypes=AWND,PRCP,SNOW,SNWD,TAVG,TMIN,TMAX&startDate=2014-01-01&endDate=2018-12-31.\n",
    "<br>\n",
    "\n",
    "This dataset has information on wind speed, precipitation, snow, and temperature for cities by their airport codes.\n",
    "\n",
    "**Question**: Could bad weather because of rain, heavy winds, or snow lead to airplane delays? You will now check."
   ]
  },
  {
   "cell_type": "code",
   "execution_count": 51,
   "metadata": {
    "tags": []
   },
   "outputs": [
    {
     "name": "stdout",
     "output_type": "stream",
     "text": [
      "download: s3://aws-tc-largeobjects/CUR-TF-200-ACMLFO-1/flight_delay_project/data2/daily-summaries.csv to ../project/data/daily-summaries.csv\n"
     ]
    }
   ],
   "source": [
    "!aws s3 cp s3://aws-tc-largeobjects/CUR-TF-200-ACMLFO-1/flight_delay_project/data2/daily-summaries.csv /home/ec2-user/SageMaker/project/data/\n",
    "#!wget 'https://www.ncei.noaa.gov/access/services/data/v1?dataset=daily-summaries&stations=USW00023174,USW00012960,USW00003017,USW00094846,USW00013874,USW00023234,USW00003927,USW00023183,USW00013881&dataTypes=AWND,PRCP,SNOW,SNWD,TAVG,TMIN,TMAX&startDate=2014-01-01&endDate=2018-12-31' -O /home/ec2-user/SageMaker/project/data/daily-summaries.csv"
   ]
  },
  {
   "cell_type": "markdown",
   "metadata": {},
   "source": [
    "Import the weather data that was prepared for the airport codes in the dataset. Use the following stations and airports  for the analysis. Create a new column called *airport* that maps the weather station to the airport name."
   ]
  },
  {
   "cell_type": "code",
   "execution_count": 52,
   "metadata": {
    "tags": []
   },
   "outputs": [],
   "source": [
    "weather = pd.read_csv('/home/ec2-user/SageMaker/project/data/daily-summaries.csv')\n",
    "station = ['USW00023174','USW00012960','USW00003017','USW00094846','USW00013874','USW00023234','USW00003927','USW00023183','USW00013881'] \n",
    "airports = ['LAX', 'IAH', 'DEN', 'ORD', 'ATL', 'SFO', 'DFW', 'PHX', 'CLT']\n",
    "\n",
    "### Map weather stations to airport code\n",
    "station_map = {s:a for s,a in zip(station, airports)}\n",
    "weather['airport'] = weather['STATION'].map(station_map)"
   ]
  },
  {
   "cell_type": "markdown",
   "metadata": {},
   "source": [
    "From the **DATE** column, create another column called *MONTH*."
   ]
  },
  {
   "cell_type": "code",
   "execution_count": 53,
   "metadata": {
    "tags": []
   },
   "outputs": [
    {
     "data": {
      "text/html": [
       "<div>\n",
       "<style scoped>\n",
       "    .dataframe tbody tr th:only-of-type {\n",
       "        vertical-align: middle;\n",
       "    }\n",
       "\n",
       "    .dataframe tbody tr th {\n",
       "        vertical-align: top;\n",
       "    }\n",
       "\n",
       "    .dataframe thead th {\n",
       "        text-align: right;\n",
       "    }\n",
       "</style>\n",
       "<table border=\"1\" class=\"dataframe\">\n",
       "  <thead>\n",
       "    <tr style=\"text-align: right;\">\n",
       "      <th></th>\n",
       "      <th>STATION</th>\n",
       "      <th>DATE</th>\n",
       "      <th>AWND</th>\n",
       "      <th>PRCP</th>\n",
       "      <th>SNOW</th>\n",
       "      <th>SNWD</th>\n",
       "      <th>TAVG</th>\n",
       "      <th>TMAX</th>\n",
       "      <th>TMIN</th>\n",
       "      <th>airport</th>\n",
       "      <th>MONTH</th>\n",
       "    </tr>\n",
       "  </thead>\n",
       "  <tbody>\n",
       "    <tr>\n",
       "      <th>0</th>\n",
       "      <td>USW00023174</td>\n",
       "      <td>2014-01-01</td>\n",
       "      <td>16</td>\n",
       "      <td>0</td>\n",
       "      <td>NaN</td>\n",
       "      <td>NaN</td>\n",
       "      <td>131.0</td>\n",
       "      <td>178.0</td>\n",
       "      <td>78.0</td>\n",
       "      <td>LAX</td>\n",
       "      <td>01</td>\n",
       "    </tr>\n",
       "    <tr>\n",
       "      <th>1</th>\n",
       "      <td>USW00023174</td>\n",
       "      <td>2014-01-02</td>\n",
       "      <td>22</td>\n",
       "      <td>0</td>\n",
       "      <td>NaN</td>\n",
       "      <td>NaN</td>\n",
       "      <td>159.0</td>\n",
       "      <td>256.0</td>\n",
       "      <td>100.0</td>\n",
       "      <td>LAX</td>\n",
       "      <td>01</td>\n",
       "    </tr>\n",
       "    <tr>\n",
       "      <th>2</th>\n",
       "      <td>USW00023174</td>\n",
       "      <td>2014-01-03</td>\n",
       "      <td>17</td>\n",
       "      <td>0</td>\n",
       "      <td>NaN</td>\n",
       "      <td>NaN</td>\n",
       "      <td>140.0</td>\n",
       "      <td>178.0</td>\n",
       "      <td>83.0</td>\n",
       "      <td>LAX</td>\n",
       "      <td>01</td>\n",
       "    </tr>\n",
       "    <tr>\n",
       "      <th>3</th>\n",
       "      <td>USW00023174</td>\n",
       "      <td>2014-01-04</td>\n",
       "      <td>18</td>\n",
       "      <td>0</td>\n",
       "      <td>NaN</td>\n",
       "      <td>NaN</td>\n",
       "      <td>136.0</td>\n",
       "      <td>183.0</td>\n",
       "      <td>100.0</td>\n",
       "      <td>LAX</td>\n",
       "      <td>01</td>\n",
       "    </tr>\n",
       "    <tr>\n",
       "      <th>4</th>\n",
       "      <td>USW00023174</td>\n",
       "      <td>2014-01-05</td>\n",
       "      <td>18</td>\n",
       "      <td>0</td>\n",
       "      <td>NaN</td>\n",
       "      <td>NaN</td>\n",
       "      <td>151.0</td>\n",
       "      <td>244.0</td>\n",
       "      <td>83.0</td>\n",
       "      <td>LAX</td>\n",
       "      <td>01</td>\n",
       "    </tr>\n",
       "  </tbody>\n",
       "</table>\n",
       "</div>"
      ],
      "text/plain": [
       "       STATION        DATE  AWND  PRCP  SNOW  SNWD   TAVG   TMAX   TMIN  \\\n",
       "0  USW00023174  2014-01-01    16     0   NaN   NaN  131.0  178.0   78.0   \n",
       "1  USW00023174  2014-01-02    22     0   NaN   NaN  159.0  256.0  100.0   \n",
       "2  USW00023174  2014-01-03    17     0   NaN   NaN  140.0  178.0   83.0   \n",
       "3  USW00023174  2014-01-04    18     0   NaN   NaN  136.0  183.0  100.0   \n",
       "4  USW00023174  2014-01-05    18     0   NaN   NaN  151.0  244.0   83.0   \n",
       "\n",
       "  airport MONTH  \n",
       "0     LAX    01  \n",
       "1     LAX    01  \n",
       "2     LAX    01  \n",
       "3     LAX    01  \n",
       "4     LAX    01  "
      ]
     },
     "execution_count": 53,
     "metadata": {},
     "output_type": "execute_result"
    }
   ],
   "source": [
    "weather['MONTH'] = weather['DATE'].apply(lambda x: x.split('-')[1])\n",
    "weather.head()"
   ]
  },
  {
   "cell_type": "markdown",
   "metadata": {},
   "source": [
    "### Sample output\n",
    "```\n",
    "  STATION     DATE      AWND PRCP SNOW SNWD TAVG TMAX  TMIN airport MONTH\n",
    "0 USW00023174 2014-01-01 16   0   NaN  NaN 131.0 178.0 78.0  LAX    01\n",
    "1 USW00023174 2014-01-02 22   0   NaN  NaN 159.0 256.0 100.0 LAX    01\n",
    "2 USW00023174 2014-01-03 17   0   NaN  NaN 140.0 178.0 83.0  LAX    01\n",
    "3 USW00023174 2014-01-04 18   0   NaN  NaN 136.0 183.0 100.0 LAX    01\n",
    "4 USW00023174 2014-01-05 18   0   NaN  NaN 151.0 244.0 83.0  LAX    01\n",
    "```"
   ]
  },
  {
   "cell_type": "markdown",
   "metadata": {},
   "source": [
    "Analyze and handle the **SNOW** and **SNWD** columns for missing values by using `fillna()`. To check the missing values for all the columns, use the `isna()` function."
   ]
  },
  {
   "cell_type": "code",
   "execution_count": 54,
   "metadata": {
    "tags": []
   },
   "outputs": [
    {
     "data": {
      "text/plain": [
       "STATION     0\n",
       "DATE        0\n",
       "AWND        0\n",
       "PRCP        0\n",
       "SNOW        0\n",
       "SNWD        0\n",
       "TAVG       62\n",
       "TMAX       20\n",
       "TMIN       20\n",
       "airport     0\n",
       "MONTH       0\n",
       "dtype: int64"
      ]
     },
     "execution_count": 54,
     "metadata": {},
     "output_type": "execute_result"
    }
   ],
   "source": [
    "weather.SNOW.fillna(0, inplace=True)\n",
    "weather.SNWD.fillna(0, inplace=True)\n",
    "weather.isna().sum()"
   ]
  },
  {
   "cell_type": "markdown",
   "metadata": {},
   "source": [
    "**Question**: Print the index of the rows that have missing values for *TAVG*, *TMAX*, *TMIN*.\n",
    "\n",
    "**Hint**: To find the rows that are missing, use the `isna()` function. Then, to get the index, use the list on the *idx* variable."
   ]
  },
  {
   "cell_type": "code",
   "execution_count": 55,
   "metadata": {
    "tags": []
   },
   "outputs": [
    {
     "data": {
      "text/plain": [
       "array([ 3956,  3957,  3958,  3959,  3960,  3961,  3962,  3963,  3964,\n",
       "        3965,  3966,  3967,  3968,  3969,  3970,  3971,  3972,  3973,\n",
       "        3974,  3975,  3976,  3977,  3978,  3979,  3980,  3981,  3982,\n",
       "        3983,  3984,  3985,  4017,  4018,  4019,  4020,  4021,  4022,\n",
       "        4023,  4024,  4025,  4026,  4027,  4028,  4029,  4030,  4031,\n",
       "        4032,  4033,  4034,  4035,  4036,  4037,  4038,  4039,  4040,\n",
       "        4041,  4042,  4043,  4044,  4045,  4046,  4047, 13420])"
      ]
     },
     "execution_count": 55,
     "metadata": {},
     "output_type": "execute_result"
    }
   ],
   "source": [
    "idx = np.array([i for i in range(len(weather))])\n",
    "TAVG_idx = idx[weather.TAVG.isna()] \n",
    "TMAX_idx = idx[weather.TMAX.isna()] # Enter your code here \n",
    "TMIN_idx = idx[weather.TMIN.isna()] # Enter your code here \n",
    "TAVG_idx"
   ]
  },
  {
   "cell_type": "markdown",
   "metadata": {},
   "source": [
    "### Sample output\n",
    "\n",
    "```\n",
    "array([ 3956,  3957,  3958,  3959,  3960,  3961,  3962,  3963,  3964,\n",
    "        3965,  3966,  3967,  3968,  3969,  3970,  3971,  3972,  3973,\n",
    "        3974,  3975,  3976,  3977,  3978,  3979,  3980,  3981,  3982,\n",
    "        3983,  3984,  3985,  4017,  4018,  4019,  4020,  4021,  4022,\n",
    "        4023,  4024,  4025,  4026,  4027,  4028,  4029,  4030,  4031,\n",
    "        4032,  4033,  4034,  4035,  4036,  4037,  4038,  4039,  4040,\n",
    "        4041,  4042,  4043,  4044,  4045,  4046,  4047, 13420])\n",
    "```"
   ]
  },
  {
   "cell_type": "markdown",
   "metadata": {},
   "source": [
    "You can replace the missing *TAVG*, *TMAX*, and *TMIN* values with the average value for a particular station or airport. Because consecutive rows of *TAVG_idx* are missing, replacing them with a previous value would not be possible. Instead, replace them with the mean. Use the `groupby` function to aggregate the variables with a mean value.\n",
    "\n",
    "**Hint:** Group by `MONTH` and `STATION`."
   ]
  },
  {
   "cell_type": "code",
   "execution_count": 57,
   "metadata": {
    "tags": []
   },
   "outputs": [
    {
     "data": {
      "text/html": [
       "<div>\n",
       "<style scoped>\n",
       "    .dataframe tbody tr th:only-of-type {\n",
       "        vertical-align: middle;\n",
       "    }\n",
       "\n",
       "    .dataframe tbody tr th {\n",
       "        vertical-align: top;\n",
       "    }\n",
       "\n",
       "    .dataframe thead th {\n",
       "        text-align: right;\n",
       "    }\n",
       "</style>\n",
       "<table border=\"1\" class=\"dataframe\">\n",
       "  <thead>\n",
       "    <tr style=\"text-align: right;\">\n",
       "      <th></th>\n",
       "      <th>MONTH</th>\n",
       "      <th>STATION</th>\n",
       "      <th>TAVG</th>\n",
       "      <th>TMAX</th>\n",
       "      <th>TMIN</th>\n",
       "    </tr>\n",
       "  </thead>\n",
       "  <tbody>\n",
       "    <tr>\n",
       "      <th>0</th>\n",
       "      <td>01</td>\n",
       "      <td>USW00003017</td>\n",
       "      <td>-2.741935</td>\n",
       "      <td>74.000000</td>\n",
       "      <td>-69.858065</td>\n",
       "    </tr>\n",
       "    <tr>\n",
       "      <th>1</th>\n",
       "      <td>01</td>\n",
       "      <td>USW00003927</td>\n",
       "      <td>79.529032</td>\n",
       "      <td>143.767742</td>\n",
       "      <td>20.696774</td>\n",
       "    </tr>\n",
       "  </tbody>\n",
       "</table>\n",
       "</div>"
      ],
      "text/plain": [
       "  MONTH      STATION       TAVG        TMAX       TMIN\n",
       "0    01  USW00003017  -2.741935   74.000000 -69.858065\n",
       "1    01  USW00003927  79.529032  143.767742  20.696774"
      ]
     },
     "execution_count": 57,
     "metadata": {},
     "output_type": "execute_result"
    }
   ],
   "source": [
    "# Enter your code here\n",
    "weather_impute = weather.groupby(['MONTH', 'STATION']).agg({'TAVG':'mean','TMAX':'mean', 'TMIN':'mean' }).reset_index()\n",
    "weather_impute.head(2)"
   ]
  },
  {
   "cell_type": "markdown",
   "metadata": {},
   "source": [
    "Merge the mean data with the weather data."
   ]
  },
  {
   "cell_type": "code",
   "execution_count": 58,
   "metadata": {
    "tags": []
   },
   "outputs": [],
   "source": [
    "weather = pd.merge(weather, weather_impute,  how='left', left_on=['MONTH','STATION'], right_on = ['MONTH','STATION'])\\\n",
    ".rename(columns = {'TAVG_y':'TAVG_AVG',\n",
    "                   'TMAX_y':'TMAX_AVG', \n",
    "                   'TMIN_y':'TMIN_AVG',\n",
    "                   'TAVG_x':'TAVG',\n",
    "                   'TMAX_x':'TMAX', \n",
    "                   'TMIN_x':'TMIN'})"
   ]
  },
  {
   "cell_type": "markdown",
   "metadata": {},
   "source": [
    "Check for missing values again."
   ]
  },
  {
   "cell_type": "code",
   "execution_count": 59,
   "metadata": {
    "tags": []
   },
   "outputs": [
    {
     "data": {
      "text/plain": [
       "STATION     0\n",
       "DATE        0\n",
       "AWND        0\n",
       "PRCP        0\n",
       "SNOW        0\n",
       "SNWD        0\n",
       "TAVG        0\n",
       "TMAX        0\n",
       "TMIN        0\n",
       "airport     0\n",
       "MONTH       0\n",
       "TAVG_AVG    0\n",
       "TMAX_AVG    0\n",
       "TMIN_AVG    0\n",
       "dtype: int64"
      ]
     },
     "execution_count": 59,
     "metadata": {},
     "output_type": "execute_result"
    }
   ],
   "source": [
    "weather.TAVG[TAVG_idx] = weather.TAVG_AVG[TAVG_idx]\n",
    "weather.TMAX[TMAX_idx] = weather.TMAX_AVG[TMAX_idx]\n",
    "weather.TMIN[TMIN_idx] = weather.TMIN_AVG[TMIN_idx]\n",
    "weather.isna().sum()"
   ]
  },
  {
   "cell_type": "markdown",
   "metadata": {},
   "source": [
    "Drop `STATION,MONTH,TAVG_AVG,TMAX_AVG,TMIN_AVG,TMAX,TMIN,SNWD` from the dataset."
   ]
  },
  {
   "cell_type": "code",
   "execution_count": 60,
   "metadata": {
    "tags": []
   },
   "outputs": [],
   "source": [
    "weather.drop(columns=['STATION','MONTH','TAVG_AVG', 'TMAX_AVG', 'TMIN_AVG', 'TMAX' ,'TMIN', 'SNWD'],inplace=True)"
   ]
  },
  {
   "cell_type": "markdown",
   "metadata": {},
   "source": [
    "Add the origin and destination weather conditions to the dataset."
   ]
  },
  {
   "cell_type": "code",
   "execution_count": 61,
   "metadata": {
    "tags": []
   },
   "outputs": [],
   "source": [
    "# Add origin weather conditions\n",
    "data_orig = pd.merge(data_orig, weather,  how='left', left_on=['FlightDate','Origin'], right_on = ['DATE','airport'])\\\n",
    ".rename(columns = {'AWND':'AWND_O','PRCP':'PRCP_O', 'TAVG':'TAVG_O', 'SNOW': 'SNOW_O'})\\\n",
    ".drop(columns=['DATE','airport'])\n",
    "\n",
    "# Add destination weather conditions\n",
    "data_orig = pd.merge(data_orig, weather,  how='left', left_on=['FlightDate','Dest'], right_on = ['DATE','airport'])\\\n",
    ".rename(columns = {'AWND':'AWND_D','PRCP':'PRCP_D', 'TAVG':'TAVG_D', 'SNOW': 'SNOW_D'})\\\n",
    ".drop(columns=['DATE','airport'])"
   ]
  },
  {
   "cell_type": "markdown",
   "metadata": {},
   "source": [
    "**Note**: It's always a good practice to check for nulls or NAs after joins."
   ]
  },
  {
   "cell_type": "code",
   "execution_count": 62,
   "metadata": {
    "tags": []
   },
   "outputs": [
    {
     "data": {
      "text/plain": [
       "0"
      ]
     },
     "execution_count": 62,
     "metadata": {},
     "output_type": "execute_result"
    }
   ],
   "source": [
    "sum(data.isna().any())"
   ]
  },
  {
   "cell_type": "code",
   "execution_count": 63,
   "metadata": {
    "tags": []
   },
   "outputs": [
    {
     "data": {
      "text/plain": [
       "Index(['Year', 'Quarter', 'Month', 'DayofMonth', 'DayOfWeek', 'FlightDate',\n",
       "       'Reporting_Airline', 'Origin', 'OriginState', 'Dest', 'DestState',\n",
       "       'CRSDepTime', 'Cancelled', 'Diverted', 'Distance', 'DistanceGroup',\n",
       "       'ArrDelay', 'ArrDelayMinutes', 'is_delay', 'AirTime', 'DepHourofDay',\n",
       "       'is_holiday', 'AWND_O', 'PRCP_O', 'SNOW_O', 'TAVG_O', 'AWND_D',\n",
       "       'PRCP_D', 'SNOW_D', 'TAVG_D'],\n",
       "      dtype='object')"
      ]
     },
     "execution_count": 63,
     "metadata": {},
     "output_type": "execute_result"
    }
   ],
   "source": [
    "data_orig.columns"
   ]
  },
  {
   "cell_type": "markdown",
   "metadata": {},
   "source": [
    "Convert the categorical data into numerical data by using one-hot encoding."
   ]
  },
  {
   "cell_type": "code",
   "execution_count": 64,
   "metadata": {
    "tags": []
   },
   "outputs": [],
   "source": [
    "data = data_orig.copy()\n",
    "data = data[['is_delay', 'Year', 'Quarter', 'Month', 'DayofMonth', 'DayOfWeek', \n",
    "       'Reporting_Airline', 'Origin', 'Dest','Distance','DepHourofDay','is_holiday', 'AWND_O', 'PRCP_O',\n",
    "       'TAVG_O', 'AWND_D', 'PRCP_D', 'TAVG_D', 'SNOW_O', 'SNOW_D']]\n",
    "\n",
    "\n",
    "categorical_columns  = ['Year', 'Quarter', 'Month', 'DayofMonth', 'DayOfWeek', \n",
    "       'Reporting_Airline', 'Origin', 'Dest', 'is_holiday']\n",
    "for c in categorical_columns:\n",
    "    data[c] = data[c].astype('category')"
   ]
  },
  {
   "cell_type": "code",
   "execution_count": 65,
   "metadata": {
    "tags": []
   },
   "outputs": [],
   "source": [
    "data_dummies = pd.get_dummies(data[['Year', 'Quarter', 'Month', 'DayofMonth', 'DayOfWeek', 'Reporting_Airline', 'Origin', 'Dest', 'is_holiday']], drop_first=True)\n",
    "data_dummies = data_dummies.replace({True: 1, False: 0})\n",
    "data = pd.concat([data, data_dummies], axis = 1)\n",
    "data.drop(categorical_columns,axis=1, inplace=True)"
   ]
  },
  {
   "cell_type": "markdown",
   "metadata": {},
   "source": [
    "Check the new columns."
   ]
  },
  {
   "cell_type": "code",
   "execution_count": 66,
   "metadata": {
    "tags": []
   },
   "outputs": [
    {
     "data": {
      "text/plain": [
       "(1635590, 86)"
      ]
     },
     "execution_count": 66,
     "metadata": {},
     "output_type": "execute_result"
    }
   ],
   "source": [
    "data.shape"
   ]
  },
  {
   "cell_type": "code",
   "execution_count": 67,
   "metadata": {
    "tags": []
   },
   "outputs": [
    {
     "data": {
      "text/plain": [
       "Index(['is_delay', 'Distance', 'DepHourofDay', 'AWND_O', 'PRCP_O', 'TAVG_O',\n",
       "       'AWND_D', 'PRCP_D', 'TAVG_D', 'SNOW_O', 'SNOW_D', 'Year_2015',\n",
       "       'Year_2016', 'Year_2017', 'Year_2018', 'Quarter_2', 'Quarter_3',\n",
       "       'Quarter_4', 'Month_2', 'Month_3', 'Month_4', 'Month_5', 'Month_6',\n",
       "       'Month_7', 'Month_8', 'Month_9', 'Month_10', 'Month_11', 'Month_12',\n",
       "       'DayofMonth_2', 'DayofMonth_3', 'DayofMonth_4', 'DayofMonth_5',\n",
       "       'DayofMonth_6', 'DayofMonth_7', 'DayofMonth_8', 'DayofMonth_9',\n",
       "       'DayofMonth_10', 'DayofMonth_11', 'DayofMonth_12', 'DayofMonth_13',\n",
       "       'DayofMonth_14', 'DayofMonth_15', 'DayofMonth_16', 'DayofMonth_17',\n",
       "       'DayofMonth_18', 'DayofMonth_19', 'DayofMonth_20', 'DayofMonth_21',\n",
       "       'DayofMonth_22', 'DayofMonth_23', 'DayofMonth_24', 'DayofMonth_25',\n",
       "       'DayofMonth_26', 'DayofMonth_27', 'DayofMonth_28', 'DayofMonth_29',\n",
       "       'DayofMonth_30', 'DayofMonth_31', 'DayOfWeek_2', 'DayOfWeek_3',\n",
       "       'DayOfWeek_4', 'DayOfWeek_5', 'DayOfWeek_6', 'DayOfWeek_7',\n",
       "       'Reporting_Airline_DL', 'Reporting_Airline_OO', 'Reporting_Airline_UA',\n",
       "       'Reporting_Airline_WN', 'Origin_CLT', 'Origin_DEN', 'Origin_DFW',\n",
       "       'Origin_IAH', 'Origin_LAX', 'Origin_ORD', 'Origin_PHX', 'Origin_SFO',\n",
       "       'Dest_CLT', 'Dest_DEN', 'Dest_DFW', 'Dest_IAH', 'Dest_LAX', 'Dest_ORD',\n",
       "       'Dest_PHX', 'Dest_SFO', 'is_holiday_1'],\n",
       "      dtype='object')"
      ]
     },
     "execution_count": 67,
     "metadata": {},
     "output_type": "execute_result"
    }
   ],
   "source": [
    "data.columns"
   ]
  },
  {
   "cell_type": "markdown",
   "metadata": {},
   "source": [
    "### Sample output\n",
    "\n",
    "```\n",
    "Index(['Distance', 'DepHourofDay', 'is_delay', 'AWND_O', 'PRCP_O', 'TAVG_O',\n",
    "       'AWND_D', 'PRCP_D', 'TAVG_D', 'SNOW_O', 'SNOW_D', 'Year_2015',\n",
    "       'Year_2016', 'Year_2017', 'Year_2018', 'Quarter_2', 'Quarter_3',\n",
    "       'Quarter_4', 'Month_2', 'Month_3', 'Month_4', 'Month_5', 'Month_6',\n",
    "       'Month_7', 'Month_8', 'Month_9', 'Month_10', 'Month_11', 'Month_12',\n",
    "       'DayofMonth_2', 'DayofMonth_3', 'DayofMonth_4', 'DayofMonth_5',\n",
    "       'DayofMonth_6', 'DayofMonth_7', 'DayofMonth_8', 'DayofMonth_9',\n",
    "       'DayofMonth_10', 'DayofMonth_11', 'DayofMonth_12', 'DayofMonth_13',\n",
    "       'DayofMonth_14', 'DayofMonth_15', 'DayofMonth_16', 'DayofMonth_17',\n",
    "       'DayofMonth_18', 'DayofMonth_19', 'DayofMonth_20', 'DayofMonth_21',\n",
    "       'DayofMonth_22', 'DayofMonth_23', 'DayofMonth_24', 'DayofMonth_25',\n",
    "       'DayofMonth_26', 'DayofMonth_27', 'DayofMonth_28', 'DayofMonth_29',\n",
    "       'DayofMonth_30', 'DayofMonth_31', 'DayOfWeek_2', 'DayOfWeek_3',\n",
    "       'DayOfWeek_4', 'DayOfWeek_5', 'DayOfWeek_6', 'DayOfWeek_7',\n",
    "       'Reporting_Airline_DL', 'Reporting_Airline_OO', 'Reporting_Airline_UA',\n",
    "       'Reporting_Airline_WN', 'Origin_CLT', 'Origin_DEN', 'Origin_DFW',\n",
    "       'Origin_IAH', 'Origin_LAX', 'Origin_ORD', 'Origin_PHX', 'Origin_SFO',\n",
    "       'Dest_CLT', 'Dest_DEN', 'Dest_DFW', 'Dest_IAH', 'Dest_LAX', 'Dest_ORD',\n",
    "       'Dest_PHX', 'Dest_SFO', 'is_holiday_1'],\n",
    "      dtype='object')\n",
    "```"
   ]
  },
  {
   "cell_type": "markdown",
   "metadata": {},
   "source": [
    "Rename the **is_delay** column to *target* again. Use the same code that you used previously."
   ]
  },
  {
   "cell_type": "code",
   "execution_count": 68,
   "metadata": {
    "tags": []
   },
   "outputs": [],
   "source": [
    "# Enter your code here\n",
    "data.rename(columns={'is_delay': 'target'}, inplace=True)"
   ]
  },
  {
   "cell_type": "markdown",
   "metadata": {},
   "source": [
    "Create the training sets again.\n",
    "\n",
    "**Hint:** Use the `split_data` function that you defined (and used) earlier."
   ]
  },
  {
   "cell_type": "code",
   "execution_count": 70,
   "metadata": {
    "tags": []
   },
   "outputs": [
    {
     "name": "stdout",
     "output_type": "stream",
     "text": [
      "target\n",
      "0.0    1033806\n",
      "1.0     274666\n",
      "Name: count, dtype: int64\n",
      "target\n",
      "0.0    129226\n",
      "1.0     34333\n",
      "Name: count, dtype: int64\n",
      "target\n",
      "0.0    129226\n",
      "1.0     34333\n",
      "Name: count, dtype: int64\n"
     ]
    }
   ],
   "source": [
    "# Enter your code here\n",
    "train, validate, test = split_data(data)\n",
    "print(train['target'].value_counts())\n",
    "print(validate['target'].value_counts())\n",
    "print(test['target'].value_counts())"
   ]
  },
  {
   "cell_type": "markdown",
   "metadata": {},
   "source": [
    "### New baseline classifier\n",
    "\n",
    "Now, see if these new features add any predictive power to the model."
   ]
  },
  {
   "cell_type": "code",
   "execution_count": 71,
   "metadata": {
    "tags": []
   },
   "outputs": [],
   "source": [
    "# Instantiate the LinearLearner estimator object\n",
    "# Enter your code here\n",
    "classifier_estimator2 = sagemaker.LinearLearner(role=sagemaker.get_execution_role(),\n",
    "                                                instance_count=1,\n",
    "                                                instance_type='ml.m4.xlarge',\n",
    "                                                predictor_type='binary_classifier',\n",
    "                                                binary_classifier_model_selection_criteria='cross_entropy_loss')"
   ]
  },
  {
   "cell_type": "markdown",
   "metadata": {},
   "source": [
    "### Sample code\n",
    "\n",
    "```\n",
    "num_classes = len(pd.unique(train_labels)) \n",
    "classifier_estimator2 = sagemaker.LinearLearner(role=sagemaker.get_execution_role(),\n",
    "                                               instance_count=1,\n",
    "                                               instance_type='ml.m4.xlarge',\n",
    "                                               predictor_type='binary_classifier',\n",
    "                                               binary_classifier_model_selection_criteria = 'cross_entropy_loss')\n",
    "```"
   ]
  },
  {
   "cell_type": "code",
   "execution_count": 72,
   "metadata": {
    "tags": []
   },
   "outputs": [],
   "source": [
    "train_records = classifier_estimator2.record_set(train.values[:, 1:].astype(np.float32), train.values[:, 0].astype(np.float32), channel='train')\n",
    "val_records = classifier_estimator2.record_set(validate.values[:, 1:].astype(np.float32), validate.values[:, 0].astype(np.float32), channel='validation')\n",
    "test_records = classifier_estimator2.record_set(test.values[:, 1:].astype(np.float32), test.values[:, 0].astype(np.float32), channel='test')"
   ]
  },
  {
   "cell_type": "markdown",
   "metadata": {},
   "source": [
    "Train your model by using the three datasets that you just created."
   ]
  },
  {
   "cell_type": "code",
   "execution_count": 73,
   "metadata": {
    "tags": []
   },
   "outputs": [
    {
     "name": "stderr",
     "output_type": "stream",
     "text": [
      "INFO:sagemaker.image_uris:Same images used for training and inference. Defaulting to image scope: inference.\n",
      "INFO:sagemaker.image_uris:Ignoring unnecessary instance type: None.\n",
      "INFO:sagemaker.image_uris:Same images used for training and inference. Defaulting to image scope: inference.\n",
      "INFO:sagemaker.image_uris:Ignoring unnecessary instance type: None.\n",
      "INFO:sagemaker:Creating training-job with name: linear-learner-2024-10-23-20-24-29-619\n"
     ]
    },
    {
     "name": "stdout",
     "output_type": "stream",
     "text": [
      "2024-10-23 20:24:31 Starting - Starting the training job...\n",
      "2024-10-23 20:24:46 Starting - Preparing the instances for training...\n",
      "2024-10-23 20:25:19 Downloading - Downloading input data......\n",
      "2024-10-23 20:26:10 Downloading - Downloading the training image......\n",
      "2024-10-23 20:27:06 Training - Training image download completed. Training in progress..\u001b[34mDocker entrypoint called with argument(s): train\u001b[0m\n",
      "\u001b[34mRunning default environment configuration script\u001b[0m\n",
      "\u001b[34m[10/23/2024 20:27:30 INFO 140160811239232] Reading default configuration from /opt/amazon/lib/python3.8/site-packages/algorithm/resources/default-input.json: {'mini_batch_size': '1000', 'epochs': '15', 'feature_dim': 'auto', 'use_bias': 'true', 'binary_classifier_model_selection_criteria': 'accuracy', 'f_beta': '1.0', 'target_recall': '0.8', 'target_precision': '0.8', 'num_models': 'auto', 'num_calibration_samples': '10000000', 'init_method': 'uniform', 'init_scale': '0.07', 'init_sigma': '0.01', 'init_bias': '0.0', 'optimizer': 'auto', 'loss': 'auto', 'margin': '1.0', 'quantile': '0.5', 'loss_insensitivity': '0.01', 'huber_delta': '1.0', 'num_classes': '1', 'accuracy_top_k': '3', 'wd': 'auto', 'l1': 'auto', 'momentum': 'auto', 'learning_rate': 'auto', 'beta_1': 'auto', 'beta_2': 'auto', 'bias_lr_mult': 'auto', 'bias_wd_mult': 'auto', 'use_lr_scheduler': 'true', 'lr_scheduler_step': 'auto', 'lr_scheduler_factor': 'auto', 'lr_scheduler_minimum_lr': 'auto', 'positive_example_weight_mult': '1.0', 'balance_multiclass_weights': 'false', 'normalize_data': 'true', 'normalize_label': 'auto', 'unbias_data': 'auto', 'unbias_label': 'auto', 'num_point_for_scaler': '10000', '_kvstore': 'auto', '_num_gpus': 'auto', '_num_kv_servers': 'auto', '_log_level': 'info', '_tuning_objective_metric': '', 'early_stopping_patience': '3', 'early_stopping_tolerance': '0.001', '_enable_profiler': 'false'}\u001b[0m\n",
      "\u001b[34m[10/23/2024 20:27:30 INFO 140160811239232] Merging with provided configuration from /opt/ml/input/config/hyperparameters.json: {'binary_classifier_model_selection_criteria': 'cross_entropy_loss', 'feature_dim': '85', 'mini_batch_size': '1000', 'predictor_type': 'binary_classifier'}\u001b[0m\n",
      "\u001b[34m[10/23/2024 20:27:30 INFO 140160811239232] Final configuration: {'mini_batch_size': '1000', 'epochs': '15', 'feature_dim': '85', 'use_bias': 'true', 'binary_classifier_model_selection_criteria': 'cross_entropy_loss', 'f_beta': '1.0', 'target_recall': '0.8', 'target_precision': '0.8', 'num_models': 'auto', 'num_calibration_samples': '10000000', 'init_method': 'uniform', 'init_scale': '0.07', 'init_sigma': '0.01', 'init_bias': '0.0', 'optimizer': 'auto', 'loss': 'auto', 'margin': '1.0', 'quantile': '0.5', 'loss_insensitivity': '0.01', 'huber_delta': '1.0', 'num_classes': '1', 'accuracy_top_k': '3', 'wd': 'auto', 'l1': 'auto', 'momentum': 'auto', 'learning_rate': 'auto', 'beta_1': 'auto', 'beta_2': 'auto', 'bias_lr_mult': 'auto', 'bias_wd_mult': 'auto', 'use_lr_scheduler': 'true', 'lr_scheduler_step': 'auto', 'lr_scheduler_factor': 'auto', 'lr_scheduler_minimum_lr': 'auto', 'positive_example_weight_mult': '1.0', 'balance_multiclass_weights': 'false', 'normalize_data': 'true', 'normalize_label': 'auto', 'unbias_data': 'auto', 'unbias_label': 'auto', 'num_point_for_scaler': '10000', '_kvstore': 'auto', '_num_gpus': 'auto', '_num_kv_servers': 'auto', '_log_level': 'info', '_tuning_objective_metric': '', 'early_stopping_patience': '3', 'early_stopping_tolerance': '0.001', '_enable_profiler': 'false', 'predictor_type': 'binary_classifier'}\u001b[0m\n",
      "\u001b[34m/opt/amazon/lib/python3.8/site-packages/mxnet/model.py:97: SyntaxWarning: \"is\" with a literal. Did you mean \"==\"?\n",
      "  if num_device is 1 and 'dist' not in kvstore:\u001b[0m\n",
      "\u001b[34m/opt/amazon/lib/python3.8/site-packages/scipy/optimize/_shgo.py:495: SyntaxWarning: \"is\" with a literal. Did you mean \"==\"?\n",
      "  if cons['type'] is 'ineq':\u001b[0m\n",
      "\u001b[34m/opt/amazon/lib/python3.8/site-packages/scipy/optimize/_shgo.py:743: SyntaxWarning: \"is not\" with a literal. Did you mean \"!=\"?\n",
      "  if len(self.X_min) is not 0:\u001b[0m\n",
      "\u001b[34m[10/23/2024 20:27:33 WARNING 140160811239232] Loggers have already been setup.\u001b[0m\n",
      "\u001b[34m[10/23/2024 20:27:33 INFO 140160811239232] Final configuration: {'mini_batch_size': '1000', 'epochs': '15', 'feature_dim': '85', 'use_bias': 'true', 'binary_classifier_model_selection_criteria': 'cross_entropy_loss', 'f_beta': '1.0', 'target_recall': '0.8', 'target_precision': '0.8', 'num_models': 'auto', 'num_calibration_samples': '10000000', 'init_method': 'uniform', 'init_scale': '0.07', 'init_sigma': '0.01', 'init_bias': '0.0', 'optimizer': 'auto', 'loss': 'auto', 'margin': '1.0', 'quantile': '0.5', 'loss_insensitivity': '0.01', 'huber_delta': '1.0', 'num_classes': '1', 'accuracy_top_k': '3', 'wd': 'auto', 'l1': 'auto', 'momentum': 'auto', 'learning_rate': 'auto', 'beta_1': 'auto', 'beta_2': 'auto', 'bias_lr_mult': 'auto', 'bias_wd_mult': 'auto', 'use_lr_scheduler': 'true', 'lr_scheduler_step': 'auto', 'lr_scheduler_factor': 'auto', 'lr_scheduler_minimum_lr': 'auto', 'positive_example_weight_mult': '1.0', 'balance_multiclass_weights': 'false', 'normalize_data': 'true', 'normalize_label': 'auto', 'unbias_data': 'auto', 'unbias_label': 'auto', 'num_point_for_scaler': '10000', '_kvstore': 'auto', '_num_gpus': 'auto', '_num_kv_servers': 'auto', '_log_level': 'info', '_tuning_objective_metric': '', 'early_stopping_patience': '3', 'early_stopping_tolerance': '0.001', '_enable_profiler': 'false', 'predictor_type': 'binary_classifier'}\u001b[0m\n",
      "\u001b[34m[10/23/2024 20:27:33 WARNING 140160811239232] Loggers have already been setup.\u001b[0m\n",
      "\u001b[34mProcess 7 is a worker.\u001b[0m\n",
      "\u001b[34m[10/23/2024 20:27:33 INFO 140160811239232] Using default worker.\u001b[0m\n",
      "\u001b[34m[10/23/2024 20:27:33 INFO 140160811239232] Checkpoint loading and saving are disabled.\u001b[0m\n",
      "\u001b[34m[2024-10-23 20:27:33.412] [tensorio] [warning] TensorIO is already initialized; ignoring the initialization routine.\u001b[0m\n",
      "\u001b[34m[2024-10-23 20:27:33.417] [tensorio] [warning] TensorIO is already initialized; ignoring the initialization routine.\u001b[0m\n",
      "\u001b[34m[2024-10-23 20:27:33.469] [tensorio] [info] epoch_stats={\"data_pipeline\": \"/opt/ml/input/data/train\", \"epoch\": 0, \"duration\": 60, \"num_examples\": 1, \"num_bytes\": 388000}\u001b[0m\n",
      "\u001b[34m[10/23/2024 20:27:33 INFO 140160811239232] Create Store: local\u001b[0m\n",
      "\u001b[34m[2024-10-23 20:27:33.574] [tensorio] [info] epoch_stats={\"data_pipeline\": \"/opt/ml/input/data/train\", \"epoch\": 1, \"duration\": 101, \"num_examples\": 11, \"num_bytes\": 4268000}\u001b[0m\n",
      "\u001b[34m[10/23/2024 20:27:33 INFO 140160811239232] Scaler algorithm parameters\n",
      " <algorithm.scaler.ScalerAlgorithmStable object at 0x7f792b560ac0>\u001b[0m\n",
      "\u001b[34m[10/23/2024 20:27:33 INFO 140160811239232] Scaling model computed with parameters:\n",
      " {'stdev_label': None, 'stdev_weight': \u001b[0m\n",
      "\u001b[34m[5.3940924e+02 4.9516268e+00 1.6293623e+01 8.0104851e+01 8.9052185e+01\n",
      " 1.6044336e+01 8.1177528e+01 8.8522194e+01 7.4376454e+00 7.3054762e+00\n",
      " 3.9114711e-01 4.1461444e-01 4.0923631e-01 4.0456253e-01 4.3364072e-01\n",
      " 4.4060445e-01 4.3190485e-01 2.6528886e-01 2.7847543e-01 2.7030548e-01\n",
      " 2.7711493e-01 2.8316265e-01 2.8526789e-01 2.8369114e-01 2.8036404e-01\n",
      " 2.8408653e-01 2.8009540e-01 2.6132658e-01 1.7624155e-01 1.7768294e-01\n",
      " 1.6729523e-01 1.8029132e-01 1.7058724e-01 1.8400961e-01 1.7648272e-01\n",
      " 1.8146269e-01 1.7911111e-01 1.7863652e-01 1.7600001e-01 1.7958423e-01\n",
      " 1.7527308e-01 1.8262550e-01 1.8192887e-01 1.7816046e-01 1.7958425e-01\n",
      " 1.8764298e-01 1.8122914e-01 1.7551576e-01 1.7600001e-01 1.7257784e-01\n",
      " 1.8239360e-01 1.7696394e-01 1.7356342e-01 1.7624155e-01 1.7816049e-01\n",
      " 1.7792191e-01 1.7503002e-01 1.2790464e-01 3.5626763e-01 3.5016555e-01\n",
      " 3.5849139e-01 3.5963666e-01 3.2011586e-01 3.4288508e-01 3.6669037e-01\n",
      " 2.3339933e-01 4.6170431e-01 3.1770080e-01 2.3511356e-01 3.1581336e-01\n",
      " 3.2801935e-01 2.8076640e-01 3.5751641e-01 3.3509928e-01 2.9694557e-01\n",
      " 3.3388731e-01 2.4891664e-01 3.1989762e-01 3.2686538e-01 2.6917037e-01\n",
      " 3.5419646e-01 3.3829302e-01 2.9975742e-01 3.3030611e-01 1.6155177e-01]\u001b[0m\n",
      "\u001b[34m<NDArray 85 @cpu(0)>, 'mean_label': None, 'mean_weight': \u001b[0m\n",
      "\u001b[34m[1.00970422e+03 1.28874550e+01 3.86335449e+01 2.14966354e+01\n",
      " 1.73501526e+02 3.84866371e+01 2.17148170e+01 1.73427383e+02\n",
      " 7.34272778e-01 7.05000043e-01 1.88545510e-01 2.20545456e-01\n",
      " 2.12727278e-01 2.06181824e-01 2.51090914e-01 2.63636380e-01\n",
      " 2.48090953e-01 7.61818141e-02 8.47272724e-02 7.93636441e-02\n",
      " 8.38181898e-02 8.79091024e-02 8.93636495e-02 8.82727355e-02\n",
      " 8.60000104e-02 8.85454640e-02 8.58181864e-02 7.37272799e-02\n",
      " 3.20909135e-02 3.26363631e-02 2.88181826e-02 3.36363651e-02\n",
      " 3.00000031e-02 3.50909159e-02 3.21818180e-02 3.40909138e-02\n",
      " 3.31818238e-02 3.30000035e-02 3.20000015e-02 3.33636366e-02\n",
      " 3.17272767e-02 3.45454589e-02 3.42727304e-02 3.28181833e-02\n",
      " 3.33636366e-02 3.65454555e-02 3.39999981e-02 3.18181813e-02\n",
      " 3.20000015e-02 3.07272747e-02 3.44545506e-02 3.23636346e-02\n",
      " 3.10909096e-02 3.20909098e-02 3.28181870e-02 3.27272713e-02\n",
      " 3.16363685e-02 1.66363642e-02 1.49181843e-01 1.43090934e-01\n",
      " 1.51454538e-01 1.52636379e-01 1.15909100e-01 1.36090919e-01\n",
      " 1.60090923e-01 5.78181893e-02 3.08090925e-01 1.13909103e-01\n",
      " 5.87272793e-02 1.12363644e-01 1.22636370e-01 8.62727389e-02\n",
      " 1.50454551e-01 1.28909096e-01 9.77272764e-02 1.27818182e-01\n",
      " 6.63636327e-02 1.15727283e-01 1.21636376e-01 7.86363780e-02\n",
      " 1.47090927e-01 1.31818190e-01 9.98181924e-02 1.24636374e-01\n",
      " 2.68181823e-02]\u001b[0m\n",
      "\u001b[34m<NDArray 85 @cpu(0)>}\u001b[0m\n",
      "\u001b[34m/opt/amazon/python3.8/lib/python3.8/subprocess.py:848: RuntimeWarning: line buffering (buffering=1) isn't supported in binary mode, the default buffer size will be used\n",
      "  self.stdout = io.open(c2pread, 'rb', bufsize)\u001b[0m\n",
      "\u001b[34m[10/23/2024 20:27:33 INFO 140160811239232] nvidia-smi: took 0.042 seconds to run.\u001b[0m\n",
      "\u001b[34m[10/23/2024 20:27:33 INFO 140160811239232] nvidia-smi identified 0 GPUs.\u001b[0m\n",
      "\u001b[34m[10/23/2024 20:27:33 INFO 140160811239232] Number of GPUs being used: 0\u001b[0m\n",
      "\u001b[34m#metrics {\"StartTime\": 1729715253.686501, \"EndTime\": 1729715253.6865404, \"Dimensions\": {\"Algorithm\": \"Linear Learner\", \"Host\": \"algo-1\", \"Operation\": \"training\", \"Meta\": \"init_train_data_iter\"}, \"Metrics\": {\"Total Records Seen\": {\"sum\": 12000.0, \"count\": 1, \"min\": 12000, \"max\": 12000}, \"Total Batches Seen\": {\"sum\": 12.0, \"count\": 1, \"min\": 12, \"max\": 12}, \"Max Records Seen Between Resets\": {\"sum\": 11000.0, \"count\": 1, \"min\": 11000, \"max\": 11000}, \"Max Batches Seen Between Resets\": {\"sum\": 11.0, \"count\": 1, \"min\": 11, \"max\": 11}, \"Reset Count\": {\"sum\": 2.0, \"count\": 1, \"min\": 2, \"max\": 2}, \"Number of Records Since Last Reset\": {\"sum\": 0.0, \"count\": 1, \"min\": 0, \"max\": 0}, \"Number of Batches Since Last Reset\": {\"sum\": 0.0, \"count\": 1, \"min\": 0, \"max\": 0}}}\u001b[0m\n",
      "\u001b[34m[2024-10-23 20:28:06.826] [tensorio] [info] epoch_stats={\"data_pipeline\": \"/opt/ml/input/data/train\", \"epoch\": 3, \"duration\": 33139, \"num_examples\": 1309, \"num_bytes\": 507687136}\u001b[0m\n",
      "\u001b[34m#metrics {\"StartTime\": 1729715286.8266692, \"EndTime\": 1729715286.8267379, \"Dimensions\": {\"Algorithm\": \"Linear Learner\", \"Host\": \"algo-1\", \"Operation\": \"training\", \"epoch\": 0, \"model\": 0}, \"Metrics\": {\"train_binary_classification_cross_entropy_objective\": {\"sum\": 0.48315978616603655, \"count\": 1, \"min\": 0.48315978616603655, \"max\": 0.48315978616603655}}}\u001b[0m\n",
      "\u001b[34m#metrics {\"StartTime\": 1729715286.8268094, \"EndTime\": 1729715286.8268216, \"Dimensions\": {\"Algorithm\": \"Linear Learner\", \"Host\": \"algo-1\", \"Operation\": \"training\", \"epoch\": 0, \"model\": 1}, \"Metrics\": {\"train_binary_classification_cross_entropy_objective\": {\"sum\": 0.48376345104252527, \"count\": 1, \"min\": 0.48376345104252527, \"max\": 0.48376345104252527}}}\u001b[0m\n",
      "\u001b[34m#metrics {\"StartTime\": 1729715286.8268497, \"EndTime\": 1729715286.8268576, \"Dimensions\": {\"Algorithm\": \"Linear Learner\", \"Host\": \"algo-1\", \"Operation\": \"training\", \"epoch\": 0, \"model\": 2}, \"Metrics\": {\"train_binary_classification_cross_entropy_objective\": {\"sum\": 0.48326793085034103, \"count\": 1, \"min\": 0.48326793085034103, \"max\": 0.48326793085034103}}}\u001b[0m\n",
      "\u001b[34m#metrics {\"StartTime\": 1729715286.8268824, \"EndTime\": 1729715286.8268893, \"Dimensions\": {\"Algorithm\": \"Linear Learner\", \"Host\": \"algo-1\", \"Operation\": \"training\", \"epoch\": 0, \"model\": 3}, \"Metrics\": {\"train_binary_classification_cross_entropy_objective\": {\"sum\": 0.48377875817441796, \"count\": 1, \"min\": 0.48377875817441796, \"max\": 0.48377875817441796}}}\u001b[0m\n",
      "\u001b[34m#metrics {\"StartTime\": 1729715286.8269145, \"EndTime\": 1729715286.826935, \"Dimensions\": {\"Algorithm\": \"Linear Learner\", \"Host\": \"algo-1\", \"Operation\": \"training\", \"epoch\": 0, \"model\": 4}, \"Metrics\": {\"train_binary_classification_cross_entropy_objective\": {\"sum\": 0.4948044026226079, \"count\": 1, \"min\": 0.4948044026226079, \"max\": 0.4948044026226079}}}\u001b[0m\n",
      "\u001b[34m#metrics {\"StartTime\": 1729715286.8269668, \"EndTime\": 1729715286.8269734, \"Dimensions\": {\"Algorithm\": \"Linear Learner\", \"Host\": \"algo-1\", \"Operation\": \"training\", \"epoch\": 0, \"model\": 5}, \"Metrics\": {\"train_binary_classification_cross_entropy_objective\": {\"sum\": 0.5043521671820125, \"count\": 1, \"min\": 0.5043521671820125, \"max\": 0.5043521671820125}}}\u001b[0m\n",
      "\u001b[34m#metrics {\"StartTime\": 1729715286.8269987, \"EndTime\": 1729715286.8270054, \"Dimensions\": {\"Algorithm\": \"Linear Learner\", \"Host\": \"algo-1\", \"Operation\": \"training\", \"epoch\": 0, \"model\": 6}, \"Metrics\": {\"train_binary_classification_cross_entropy_objective\": {\"sum\": 0.494902651142272, \"count\": 1, \"min\": 0.494902651142272, \"max\": 0.494902651142272}}}\u001b[0m\n",
      "\u001b[34m#metrics {\"StartTime\": 1729715286.8270283, \"EndTime\": 1729715286.8270347, \"Dimensions\": {\"Algorithm\": \"Linear Learner\", \"Host\": \"algo-1\", \"Operation\": \"training\", \"epoch\": 0, \"model\": 7}, \"Metrics\": {\"train_binary_classification_cross_entropy_objective\": {\"sum\": 0.5042555696913227, \"count\": 1, \"min\": 0.5042555696913227, \"max\": 0.5042555696913227}}}\u001b[0m\n",
      "\u001b[34m#metrics {\"StartTime\": 1729715286.8270593, \"EndTime\": 1729715286.8270657, \"Dimensions\": {\"Algorithm\": \"Linear Learner\", \"Host\": \"algo-1\", \"Operation\": \"training\", \"epoch\": 0, \"model\": 8}, \"Metrics\": {\"train_binary_classification_cross_entropy_objective\": {\"sum\": 0.48346076946666844, \"count\": 1, \"min\": 0.48346076946666844, \"max\": 0.48346076946666844}}}\u001b[0m\n",
      "\u001b[34m#metrics {\"StartTime\": 1729715286.8270884, \"EndTime\": 1729715286.8270948, \"Dimensions\": {\"Algorithm\": \"Linear Learner\", \"Host\": \"algo-1\", \"Operation\": \"training\", \"epoch\": 0, \"model\": 9}, \"Metrics\": {\"train_binary_classification_cross_entropy_objective\": {\"sum\": 0.483941843388642, \"count\": 1, \"min\": 0.483941843388642, \"max\": 0.483941843388642}}}\u001b[0m\n",
      "\u001b[34m#metrics {\"StartTime\": 1729715286.8271208, \"EndTime\": 1729715286.8271272, \"Dimensions\": {\"Algorithm\": \"Linear Learner\", \"Host\": \"algo-1\", \"Operation\": \"training\", \"epoch\": 0, \"model\": 10}, \"Metrics\": {\"train_binary_classification_cross_entropy_objective\": {\"sum\": 0.48341263549991337, \"count\": 1, \"min\": 0.48341263549991337, \"max\": 0.48341263549991337}}}\u001b[0m\n",
      "\u001b[34m#metrics {\"StartTime\": 1729715286.82715, \"EndTime\": 1729715286.8271565, \"Dimensions\": {\"Algorithm\": \"Linear Learner\", \"Host\": \"algo-1\", \"Operation\": \"training\", \"epoch\": 0, \"model\": 11}, \"Metrics\": {\"train_binary_classification_cross_entropy_objective\": {\"sum\": 0.48389863199123184, \"count\": 1, \"min\": 0.48389863199123184, \"max\": 0.48389863199123184}}}\u001b[0m\n",
      "\u001b[34m#metrics {\"StartTime\": 1729715286.827181, \"EndTime\": 1729715286.8271878, \"Dimensions\": {\"Algorithm\": \"Linear Learner\", \"Host\": \"algo-1\", \"Operation\": \"training\", \"epoch\": 0, \"model\": 12}, \"Metrics\": {\"train_binary_classification_cross_entropy_objective\": {\"sum\": 0.49410662109188347, \"count\": 1, \"min\": 0.49410662109188347, \"max\": 0.49410662109188347}}}\u001b[0m\n",
      "\u001b[34m#metrics {\"StartTime\": 1729715286.8272097, \"EndTime\": 1729715286.827216, \"Dimensions\": {\"Algorithm\": \"Linear Learner\", \"Host\": \"algo-1\", \"Operation\": \"training\", \"epoch\": 0, \"model\": 13}, \"Metrics\": {\"train_binary_classification_cross_entropy_objective\": {\"sum\": 0.5027903358622793, \"count\": 1, \"min\": 0.5027903358622793, \"max\": 0.5027903358622793}}}\u001b[0m\n",
      "\u001b[34m#metrics {\"StartTime\": 1729715286.8272378, \"EndTime\": 1729715286.8272443, \"Dimensions\": {\"Algorithm\": \"Linear Learner\", \"Host\": \"algo-1\", \"Operation\": \"training\", \"epoch\": 0, \"model\": 14}, \"Metrics\": {\"train_binary_classification_cross_entropy_objective\": {\"sum\": 0.4941069843630543, \"count\": 1, \"min\": 0.4941069843630543, \"max\": 0.4941069843630543}}}\u001b[0m\n",
      "\u001b[34m#metrics {\"StartTime\": 1729715286.8272693, \"EndTime\": 1729715286.8272758, \"Dimensions\": {\"Algorithm\": \"Linear Learner\", \"Host\": \"algo-1\", \"Operation\": \"training\", \"epoch\": 0, \"model\": 15}, \"Metrics\": {\"train_binary_classification_cross_entropy_objective\": {\"sum\": 0.5027634019997507, \"count\": 1, \"min\": 0.5027634019997507, \"max\": 0.5027634019997507}}}\u001b[0m\n",
      "\u001b[34m#metrics {\"StartTime\": 1729715286.8273, \"EndTime\": 1729715286.8273063, \"Dimensions\": {\"Algorithm\": \"Linear Learner\", \"Host\": \"algo-1\", \"Operation\": \"training\", \"epoch\": 0, \"model\": 16}, \"Metrics\": {\"train_binary_classification_cross_entropy_objective\": {\"sum\": 0.5059563681926202, \"count\": 1, \"min\": 0.5059563681926202, \"max\": 0.5059563681926202}}}\u001b[0m\n",
      "\u001b[34m#metrics {\"StartTime\": 1729715286.8273287, \"EndTime\": 1729715286.827335, \"Dimensions\": {\"Algorithm\": \"Linear Learner\", \"Host\": \"algo-1\", \"Operation\": \"training\", \"epoch\": 0, \"model\": 17}, \"Metrics\": {\"train_binary_classification_cross_entropy_objective\": {\"sum\": 0.506096156199044, \"count\": 1, \"min\": 0.506096156199044, \"max\": 0.506096156199044}}}\u001b[0m\n",
      "\u001b[34m#metrics {\"StartTime\": 1729715286.8273563, \"EndTime\": 1729715286.8273625, \"Dimensions\": {\"Algorithm\": \"Linear Learner\", \"Host\": \"algo-1\", \"Operation\": \"training\", \"epoch\": 0, \"model\": 18}, \"Metrics\": {\"train_binary_classification_cross_entropy_objective\": {\"sum\": 0.5059395863477608, \"count\": 1, \"min\": 0.5059395863477608, \"max\": 0.5059395863477608}}}\u001b[0m\n",
      "\u001b[34m#metrics {\"StartTime\": 1729715286.8273842, \"EndTime\": 1729715286.8273904, \"Dimensions\": {\"Algorithm\": \"Linear Learner\", \"Host\": \"algo-1\", \"Operation\": \"training\", \"epoch\": 0, \"model\": 19}, \"Metrics\": {\"train_binary_classification_cross_entropy_objective\": {\"sum\": 0.5060412630786955, \"count\": 1, \"min\": 0.5060412630786955, \"max\": 0.5060412630786955}}}\u001b[0m\n",
      "\u001b[34m#metrics {\"StartTime\": 1729715286.8274186, \"EndTime\": 1729715286.827425, \"Dimensions\": {\"Algorithm\": \"Linear Learner\", \"Host\": \"algo-1\", \"Operation\": \"training\", \"epoch\": 0, \"model\": 20}, \"Metrics\": {\"train_binary_classification_cross_entropy_objective\": {\"sum\": 0.5073184883514311, \"count\": 1, \"min\": 0.5073184883514311, \"max\": 0.5073184883514311}}}\u001b[0m\n",
      "\u001b[34m#metrics {\"StartTime\": 1729715286.8274517, \"EndTime\": 1729715286.8274581, \"Dimensions\": {\"Algorithm\": \"Linear Learner\", \"Host\": \"algo-1\", \"Operation\": \"training\", \"epoch\": 0, \"model\": 21}, \"Metrics\": {\"train_binary_classification_cross_entropy_objective\": {\"sum\": 0.5089530487993806, \"count\": 1, \"min\": 0.5089530487993806, \"max\": 0.5089530487993806}}}\u001b[0m\n",
      "\u001b[34m#metrics {\"StartTime\": 1729715286.8274848, \"EndTime\": 1729715286.8274915, \"Dimensions\": {\"Algorithm\": \"Linear Learner\", \"Host\": \"algo-1\", \"Operation\": \"training\", \"epoch\": 0, \"model\": 22}, \"Metrics\": {\"train_binary_classification_cross_entropy_objective\": {\"sum\": 0.5073111636893829, \"count\": 1, \"min\": 0.5073111636893829, \"max\": 0.5073111636893829}}}\u001b[0m\n",
      "\u001b[34m#metrics {\"StartTime\": 1729715286.8275163, \"EndTime\": 1729715286.8275228, \"Dimensions\": {\"Algorithm\": \"Linear Learner\", \"Host\": \"algo-1\", \"Operation\": \"training\", \"epoch\": 0, \"model\": 23}, \"Metrics\": {\"train_binary_classification_cross_entropy_objective\": {\"sum\": 0.5089807853348758, \"count\": 1, \"min\": 0.5089807853348758, \"max\": 0.5089807853348758}}}\u001b[0m\n",
      "\u001b[34m#metrics {\"StartTime\": 1729715286.8275473, \"EndTime\": 1729715286.8275537, \"Dimensions\": {\"Algorithm\": \"Linear Learner\", \"Host\": \"algo-1\", \"Operation\": \"training\", \"epoch\": 0, \"model\": 24}, \"Metrics\": {\"train_binary_classification_cross_entropy_objective\": {\"sum\": 0.5150212810877995, \"count\": 1, \"min\": 0.5150212810877995, \"max\": 0.5150212810877995}}}\u001b[0m\n",
      "\u001b[34m#metrics {\"StartTime\": 1729715286.8275754, \"EndTime\": 1729715286.827582, \"Dimensions\": {\"Algorithm\": \"Linear Learner\", \"Host\": \"algo-1\", \"Operation\": \"training\", \"epoch\": 0, \"model\": 25}, \"Metrics\": {\"train_binary_classification_cross_entropy_objective\": {\"sum\": 0.5150706537229206, \"count\": 1, \"min\": 0.5150706537229206, \"max\": 0.5150706537229206}}}\u001b[0m\n",
      "\u001b[34m#metrics {\"StartTime\": 1729715286.8276083, \"EndTime\": 1729715286.827615, \"Dimensions\": {\"Algorithm\": \"Linear Learner\", \"Host\": \"algo-1\", \"Operation\": \"training\", \"epoch\": 0, \"model\": 26}, \"Metrics\": {\"train_binary_classification_cross_entropy_objective\": {\"sum\": 0.5150403946809448, \"count\": 1, \"min\": 0.5150403946809448, \"max\": 0.5150403946809448}}}\u001b[0m\n",
      "\u001b[34m#metrics {\"StartTime\": 1729715286.8276374, \"EndTime\": 1729715286.8276439, \"Dimensions\": {\"Algorithm\": \"Linear Learner\", \"Host\": \"algo-1\", \"Operation\": \"training\", \"epoch\": 0, \"model\": 27}, \"Metrics\": {\"train_binary_classification_cross_entropy_objective\": {\"sum\": 0.5150653377147989, \"count\": 1, \"min\": 0.5150653377147989, \"max\": 0.5150653377147989}}}\u001b[0m\n",
      "\u001b[34m#metrics {\"StartTime\": 1729715286.8276703, \"EndTime\": 1729715286.8276768, \"Dimensions\": {\"Algorithm\": \"Linear Learner\", \"Host\": \"algo-1\", \"Operation\": \"training\", \"epoch\": 0, \"model\": 28}, \"Metrics\": {\"train_binary_classification_cross_entropy_objective\": {\"sum\": 0.5150697964542867, \"count\": 1, \"min\": 0.5150697964542867, \"max\": 0.5150697964542867}}}\u001b[0m\n",
      "\u001b[34m#metrics {\"StartTime\": 1729715286.8277032, \"EndTime\": 1729715286.82771, \"Dimensions\": {\"Algorithm\": \"Linear Learner\", \"Host\": \"algo-1\", \"Operation\": \"training\", \"epoch\": 0, \"model\": 29}, \"Metrics\": {\"train_binary_classification_cross_entropy_objective\": {\"sum\": 0.5157446317293592, \"count\": 1, \"min\": 0.5157446317293592, \"max\": 0.5157446317293592}}}\u001b[0m\n",
      "\u001b[34m#metrics {\"StartTime\": 1729715286.8277366, \"EndTime\": 1729715286.827743, \"Dimensions\": {\"Algorithm\": \"Linear Learner\", \"Host\": \"algo-1\", \"Operation\": \"training\", \"epoch\": 0, \"model\": 30}, \"Metrics\": {\"train_binary_classification_cross_entropy_objective\": {\"sum\": 0.5150370849702701, \"count\": 1, \"min\": 0.5150370849702701, \"max\": 0.5150370849702701}}}\u001b[0m\n",
      "\u001b[34m#metrics {\"StartTime\": 1729715286.8277674, \"EndTime\": 1729715286.8277738, \"Dimensions\": {\"Algorithm\": \"Linear Learner\", \"Host\": \"algo-1\", \"Operation\": \"training\", \"epoch\": 0, \"model\": 31}, \"Metrics\": {\"train_binary_classification_cross_entropy_objective\": {\"sum\": 0.5157665230054009, \"count\": 1, \"min\": 0.5157665230054009, \"max\": 0.5157665230054009}}}\u001b[0m\n",
      "\u001b[34m[10/23/2024 20:28:06 INFO 140160811239232] #quality_metric: host=algo-1, epoch=0, train binary_classification_cross_entropy_objective <loss>=0.48315978616603655\u001b[0m\n",
      "\u001b[34m[2024-10-23 20:28:06.848] [tensorio] [info] epoch_stats={\"data_pipeline\": \"/opt/ml/input/data/validation\", \"epoch\": 0, \"duration\": 33435, \"num_examples\": 1, \"num_bytes\": 388000}\u001b[0m\n",
      "\u001b[34m[2024-10-23 20:28:10.006] [tensorio] [info] epoch_stats={\"data_pipeline\": \"/opt/ml/input/data/validation\", \"epoch\": 2, \"duration\": 3158, \"num_examples\": 164, \"num_bytes\": 63460892}\u001b[0m\n",
      "\u001b[34m#metrics {\"StartTime\": 1729715290.0128214, \"EndTime\": 1729715290.0128765, \"Dimensions\": {\"Algorithm\": \"Linear Learner\", \"Host\": \"algo-1\", \"Operation\": \"training\", \"epoch\": 0, \"model\": 0}, \"Metrics\": {\"validation_binary_classification_cross_entropy_objective\": {\"sum\": 0.4810827548874756, \"count\": 1, \"min\": 0.4810827548874756, \"max\": 0.4810827548874756}}}\u001b[0m\n",
      "\u001b[34m#metrics {\"StartTime\": 1729715290.0129466, \"EndTime\": 1729715290.0129607, \"Dimensions\": {\"Algorithm\": \"Linear Learner\", \"Host\": \"algo-1\", \"Operation\": \"training\", \"epoch\": 0, \"model\": 1}, \"Metrics\": {\"validation_binary_classification_cross_entropy_objective\": {\"sum\": 0.48227425716133493, \"count\": 1, \"min\": 0.48227425716133493, \"max\": 0.48227425716133493}}}\u001b[0m\n",
      "\u001b[34m#metrics {\"StartTime\": 1729715290.0130053, \"EndTime\": 1729715290.0130165, \"Dimensions\": {\"Algorithm\": \"Linear Learner\", \"Host\": \"algo-1\", \"Operation\": \"training\", \"epoch\": 0, \"model\": 2}, \"Metrics\": {\"validation_binary_classification_cross_entropy_objective\": {\"sum\": 0.48108193932652216, \"count\": 1, \"min\": 0.48108193932652216, \"max\": 0.48108193932652216}}}\u001b[0m\n",
      "\u001b[34m#metrics {\"StartTime\": 1729715290.0130563, \"EndTime\": 1729715290.013066, \"Dimensions\": {\"Algorithm\": \"Linear Learner\", \"Host\": \"algo-1\", \"Operation\": \"training\", \"epoch\": 0, \"model\": 3}, \"Metrics\": {\"validation_binary_classification_cross_entropy_objective\": {\"sum\": 0.4822771591104333, \"count\": 1, \"min\": 0.4822771591104333, \"max\": 0.4822771591104333}}}\u001b[0m\n",
      "\u001b[34m#metrics {\"StartTime\": 1729715290.013104, \"EndTime\": 1729715290.013115, \"Dimensions\": {\"Algorithm\": \"Linear Learner\", \"Host\": \"algo-1\", \"Operation\": \"training\", \"epoch\": 0, \"model\": 4}, \"Metrics\": {\"validation_binary_classification_cross_entropy_objective\": {\"sum\": 0.4899073830098915, \"count\": 1, \"min\": 0.4899073830098915, \"max\": 0.4899073830098915}}}\u001b[0m\n",
      "\u001b[34m#metrics {\"StartTime\": 1729715290.0131514, \"EndTime\": 1729715290.013162, \"Dimensions\": {\"Algorithm\": \"Linear Learner\", \"Host\": \"algo-1\", \"Operation\": \"training\", \"epoch\": 0, \"model\": 5}, \"Metrics\": {\"validation_binary_classification_cross_entropy_objective\": {\"sum\": 0.5005228046112661, \"count\": 1, \"min\": 0.5005228046112661, \"max\": 0.5005228046112661}}}\u001b[0m\n",
      "\u001b[34m#metrics {\"StartTime\": 1729715290.0131955, \"EndTime\": 1729715290.0132058, \"Dimensions\": {\"Algorithm\": \"Linear Learner\", \"Host\": \"algo-1\", \"Operation\": \"training\", \"epoch\": 0, \"model\": 6}, \"Metrics\": {\"validation_binary_classification_cross_entropy_objective\": {\"sum\": 0.48990592877011313, \"count\": 1, \"min\": 0.48990592877011313, \"max\": 0.48990592877011313}}}\u001b[0m\n",
      "\u001b[34m#metrics {\"StartTime\": 1729715290.013235, \"EndTime\": 1729715290.0132418, \"Dimensions\": {\"Algorithm\": \"Linear Learner\", \"Host\": \"algo-1\", \"Operation\": \"training\", \"epoch\": 0, \"model\": 7}, \"Metrics\": {\"validation_binary_classification_cross_entropy_objective\": {\"sum\": 0.500558990440639, \"count\": 1, \"min\": 0.500558990440639, \"max\": 0.500558990440639}}}\u001b[0m\n",
      "\u001b[34m#metrics {\"StartTime\": 1729715290.0132744, \"EndTime\": 1729715290.013283, \"Dimensions\": {\"Algorithm\": \"Linear Learner\", \"Host\": \"algo-1\", \"Operation\": \"training\", \"epoch\": 0, \"model\": 8}, \"Metrics\": {\"validation_binary_classification_cross_entropy_objective\": {\"sum\": 0.48128780456206743, \"count\": 1, \"min\": 0.48128780456206743, \"max\": 0.48128780456206743}}}\u001b[0m\n",
      "\u001b[34m#metrics {\"StartTime\": 1729715290.0133185, \"EndTime\": 1729715290.0133288, \"Dimensions\": {\"Algorithm\": \"Linear Learner\", \"Host\": \"algo-1\", \"Operation\": \"training\", \"epoch\": 0, \"model\": 9}, \"Metrics\": {\"validation_binary_classification_cross_entropy_objective\": {\"sum\": 0.4823619673740272, \"count\": 1, \"min\": 0.4823619673740272, \"max\": 0.4823619673740272}}}\u001b[0m\n",
      "\u001b[34m#metrics {\"StartTime\": 1729715290.0133655, \"EndTime\": 1729715290.013375, \"Dimensions\": {\"Algorithm\": \"Linear Learner\", \"Host\": \"algo-1\", \"Operation\": \"training\", \"epoch\": 0, \"model\": 10}, \"Metrics\": {\"validation_binary_classification_cross_entropy_objective\": {\"sum\": 0.48128693489160207, \"count\": 1, \"min\": 0.48128693489160207, \"max\": 0.48128693489160207}}}\u001b[0m\n",
      "\u001b[34m#metrics {\"StartTime\": 1729715290.013403, \"EndTime\": 1729715290.0134113, \"Dimensions\": {\"Algorithm\": \"Linear Learner\", \"Host\": \"algo-1\", \"Operation\": \"training\", \"epoch\": 0, \"model\": 11}, \"Metrics\": {\"validation_binary_classification_cross_entropy_objective\": {\"sum\": 0.48235987128348706, \"count\": 1, \"min\": 0.48235987128348706, \"max\": 0.48235987128348706}}}\u001b[0m\n",
      "\u001b[34m#metrics {\"StartTime\": 1729715290.013443, \"EndTime\": 1729715290.0134504, \"Dimensions\": {\"Algorithm\": \"Linear Learner\", \"Host\": \"algo-1\", \"Operation\": \"training\", \"epoch\": 0, \"model\": 12}, \"Metrics\": {\"validation_binary_classification_cross_entropy_objective\": {\"sum\": 0.4896176336638986, \"count\": 1, \"min\": 0.4896176336638986, \"max\": 0.4896176336638986}}}\u001b[0m\n",
      "\u001b[34m#metrics {\"StartTime\": 1729715290.0134766, \"EndTime\": 1729715290.013483, \"Dimensions\": {\"Algorithm\": \"Linear Learner\", \"Host\": \"algo-1\", \"Operation\": \"training\", \"epoch\": 0, \"model\": 13}, \"Metrics\": {\"validation_binary_classification_cross_entropy_objective\": {\"sum\": 0.5001112435589231, \"count\": 1, \"min\": 0.5001112435589231, \"max\": 0.5001112435589231}}}\u001b[0m\n",
      "\u001b[34m#metrics {\"StartTime\": 1729715290.01351, \"EndTime\": 1729715290.0135188, \"Dimensions\": {\"Algorithm\": \"Linear Learner\", \"Host\": \"algo-1\", \"Operation\": \"training\", \"epoch\": 0, \"model\": 14}, \"Metrics\": {\"validation_binary_classification_cross_entropy_objective\": {\"sum\": 0.48960272444094144, \"count\": 1, \"min\": 0.48960272444094144, \"max\": 0.48960272444094144}}}\u001b[0m\n",
      "\u001b[34m#metrics {\"StartTime\": 1729715290.0135493, \"EndTime\": 1729715290.013559, \"Dimensions\": {\"Algorithm\": \"Linear Learner\", \"Host\": \"algo-1\", \"Operation\": \"training\", \"epoch\": 0, \"model\": 15}, \"Metrics\": {\"validation_binary_classification_cross_entropy_objective\": {\"sum\": 0.5001306280116832, \"count\": 1, \"min\": 0.5001306280116832, \"max\": 0.5001306280116832}}}\u001b[0m\n",
      "\u001b[34m#metrics {\"StartTime\": 1729715290.0135965, \"EndTime\": 1729715290.013606, \"Dimensions\": {\"Algorithm\": \"Linear Learner\", \"Host\": \"algo-1\", \"Operation\": \"training\", \"epoch\": 0, \"model\": 16}, \"Metrics\": {\"validation_binary_classification_cross_entropy_objective\": {\"sum\": 0.5039137064773238, \"count\": 1, \"min\": 0.5039137064773238, \"max\": 0.5039137064773238}}}\u001b[0m\n",
      "\u001b[34m#metrics {\"StartTime\": 1729715290.0136456, \"EndTime\": 1729715290.013656, \"Dimensions\": {\"Algorithm\": \"Linear Learner\", \"Host\": \"algo-1\", \"Operation\": \"training\", \"epoch\": 0, \"model\": 17}, \"Metrics\": {\"validation_binary_classification_cross_entropy_objective\": {\"sum\": 0.5043796231465499, \"count\": 1, \"min\": 0.5043796231465499, \"max\": 0.5043796231465499}}}\u001b[0m\n",
      "\u001b[34m#metrics {\"StartTime\": 1729715290.0137117, \"EndTime\": 1729715290.0137231, \"Dimensions\": {\"Algorithm\": \"Linear Learner\", \"Host\": \"algo-1\", \"Operation\": \"training\", \"epoch\": 0, \"model\": 18}, \"Metrics\": {\"validation_binary_classification_cross_entropy_objective\": {\"sum\": 0.50390459070383, \"count\": 1, \"min\": 0.50390459070383, \"max\": 0.50390459070383}}}\u001b[0m\n",
      "\u001b[34m#metrics {\"StartTime\": 1729715290.0137641, \"EndTime\": 1729715290.0137763, \"Dimensions\": {\"Algorithm\": \"Linear Learner\", \"Host\": \"algo-1\", \"Operation\": \"training\", \"epoch\": 0, \"model\": 19}, \"Metrics\": {\"validation_binary_classification_cross_entropy_objective\": {\"sum\": 0.5043767551558349, \"count\": 1, \"min\": 0.5043767551558349, \"max\": 0.5043767551558349}}}\u001b[0m\n",
      "\u001b[34m#metrics {\"StartTime\": 1729715290.0138144, \"EndTime\": 1729715290.0138261, \"Dimensions\": {\"Algorithm\": \"Linear Learner\", \"Host\": \"algo-1\", \"Operation\": \"training\", \"epoch\": 0, \"model\": 20}, \"Metrics\": {\"validation_binary_classification_cross_entropy_objective\": {\"sum\": 0.5065888796259707, \"count\": 1, \"min\": 0.5065888796259707, \"max\": 0.5065888796259707}}}\u001b[0m\n",
      "\u001b[34m#metrics {\"StartTime\": 1729715290.0138624, \"EndTime\": 1729715290.0138738, \"Dimensions\": {\"Algorithm\": \"Linear Learner\", \"Host\": \"algo-1\", \"Operation\": \"training\", \"epoch\": 0, \"model\": 21}, \"Metrics\": {\"validation_binary_classification_cross_entropy_objective\": {\"sum\": 0.505301137614499, \"count\": 1, \"min\": 0.505301137614499, \"max\": 0.505301137614499}}}\u001b[0m\n",
      "\u001b[34m#metrics {\"StartTime\": 1729715290.0139105, \"EndTime\": 1729715290.0139196, \"Dimensions\": {\"Algorithm\": \"Linear Learner\", \"Host\": \"algo-1\", \"Operation\": \"training\", \"epoch\": 0, \"model\": 22}, \"Metrics\": {\"validation_binary_classification_cross_entropy_objective\": {\"sum\": 0.5065950165775424, \"count\": 1, \"min\": 0.5065950165775424, \"max\": 0.5065950165775424}}}\u001b[0m\n",
      "\u001b[34m#metrics {\"StartTime\": 1729715290.0139565, \"EndTime\": 1729715290.0139663, \"Dimensions\": {\"Algorithm\": \"Linear Learner\", \"Host\": \"algo-1\", \"Operation\": \"training\", \"epoch\": 0, \"model\": 23}, \"Metrics\": {\"validation_binary_classification_cross_entropy_objective\": {\"sum\": 0.5053025530446964, \"count\": 1, \"min\": 0.5053025530446964, \"max\": 0.5053025530446964}}}\u001b[0m\n",
      "\u001b[34m#metrics {\"StartTime\": 1729715290.0140035, \"EndTime\": 1729715290.0140128, \"Dimensions\": {\"Algorithm\": \"Linear Learner\", \"Host\": \"algo-1\", \"Operation\": \"training\", \"epoch\": 0, \"model\": 24}, \"Metrics\": {\"validation_binary_classification_cross_entropy_objective\": {\"sum\": 0.5137029342329975, \"count\": 1, \"min\": 0.5137029342329975, \"max\": 0.5137029342329975}}}\u001b[0m\n",
      "\u001b[34m#metrics {\"StartTime\": 1729715290.0140502, \"EndTime\": 1729715290.0140605, \"Dimensions\": {\"Algorithm\": \"Linear Learner\", \"Host\": \"algo-1\", \"Operation\": \"training\", \"epoch\": 0, \"model\": 25}, \"Metrics\": {\"validation_binary_classification_cross_entropy_objective\": {\"sum\": 0.5144009689534339, \"count\": 1, \"min\": 0.5144009689534339, \"max\": 0.5144009689534339}}}\u001b[0m\n",
      "\u001b[34m#metrics {\"StartTime\": 1729715290.014099, \"EndTime\": 1729715290.0141103, \"Dimensions\": {\"Algorithm\": \"Linear Learner\", \"Host\": \"algo-1\", \"Operation\": \"training\", \"epoch\": 0, \"model\": 26}, \"Metrics\": {\"validation_binary_classification_cross_entropy_objective\": {\"sum\": 0.5137073480764921, \"count\": 1, \"min\": 0.5137073480764921, \"max\": 0.5137073480764921}}}\u001b[0m\n",
      "\u001b[34m#metrics {\"StartTime\": 1729715290.014146, \"EndTime\": 1729715290.0141559, \"Dimensions\": {\"Algorithm\": \"Linear Learner\", \"Host\": \"algo-1\", \"Operation\": \"training\", \"epoch\": 0, \"model\": 27}, \"Metrics\": {\"validation_binary_classification_cross_entropy_objective\": {\"sum\": 0.5143688952603805, \"count\": 1, \"min\": 0.5143688952603805, \"max\": 0.5143688952603805}}}\u001b[0m\n",
      "\u001b[34m#metrics {\"StartTime\": 1729715290.0141895, \"EndTime\": 1729715290.0141993, \"Dimensions\": {\"Algorithm\": \"Linear Learner\", \"Host\": \"algo-1\", \"Operation\": \"training\", \"epoch\": 0, \"model\": 28}, \"Metrics\": {\"validation_binary_classification_cross_entropy_objective\": {\"sum\": 0.5152746666591356, \"count\": 1, \"min\": 0.5152746666591356, \"max\": 0.5152746666591356}}}\u001b[0m\n",
      "\u001b[34m#metrics {\"StartTime\": 1729715290.0142393, \"EndTime\": 1729715290.0142593, \"Dimensions\": {\"Algorithm\": \"Linear Learner\", \"Host\": \"algo-1\", \"Operation\": \"training\", \"epoch\": 0, \"model\": 29}, \"Metrics\": {\"validation_binary_classification_cross_entropy_objective\": {\"sum\": 0.5140566665841316, \"count\": 1, \"min\": 0.5140566665841316, \"max\": 0.5140566665841316}}}\u001b[0m\n",
      "\u001b[34m#metrics {\"StartTime\": 1729715290.0142975, \"EndTime\": 1729715290.0143082, \"Dimensions\": {\"Algorithm\": \"Linear Learner\", \"Host\": \"algo-1\", \"Operation\": \"training\", \"epoch\": 0, \"model\": 30}, \"Metrics\": {\"validation_binary_classification_cross_entropy_objective\": {\"sum\": 0.5152747459575582, \"count\": 1, \"min\": 0.5152747459575582, \"max\": 0.5152747459575582}}}\u001b[0m\n",
      "\u001b[34m#metrics {\"StartTime\": 1729715290.0143423, \"EndTime\": 1729715290.0143523, \"Dimensions\": {\"Algorithm\": \"Linear Learner\", \"Host\": \"algo-1\", \"Operation\": \"training\", \"epoch\": 0, \"model\": 31}, \"Metrics\": {\"validation_binary_classification_cross_entropy_objective\": {\"sum\": 0.5139507190403315, \"count\": 1, \"min\": 0.5139507190403315, \"max\": 0.5139507190403315}}}\u001b[0m\n",
      "\u001b[34m[10/23/2024 20:28:10 INFO 140160811239232] #quality_metric: host=algo-1, epoch=0, validation binary_classification_cross_entropy_objective <loss>=0.4810827548874756\u001b[0m\n",
      "\u001b[34m[10/23/2024 20:28:10 INFO 140160811239232] #early_stopping_criteria_metric: host=algo-1, epoch=0, criteria=binary_classification_cross_entropy_objective, value=0.48108193932652216\u001b[0m\n",
      "\u001b[34m[10/23/2024 20:28:10 INFO 140160811239232] Epoch 0: Loss improved. Updating best model\u001b[0m\n",
      "\u001b[34m[10/23/2024 20:28:10 INFO 140160811239232] Saving model for epoch: 0\u001b[0m\n",
      "\u001b[34m[10/23/2024 20:28:10 INFO 140160811239232] Saved checkpoint to \"/tmp/tmpzxclf9v4/mx-mod-0000.params\"\u001b[0m\n",
      "\u001b[34m[10/23/2024 20:28:10 INFO 140160811239232] #progress_metric: host=algo-1, completed 6.666666666666667 % of epochs\u001b[0m\n",
      "\u001b[34m#metrics {\"StartTime\": 1729715253.6867867, \"EndTime\": 1729715290.0212865, \"Dimensions\": {\"Algorithm\": \"Linear Learner\", \"Host\": \"algo-1\", \"Operation\": \"training\", \"epoch\": 0, \"Meta\": \"training_data_iter\"}, \"Metrics\": {\"Total Records Seen\": {\"sum\": 1320472.0, \"count\": 1, \"min\": 1320472, \"max\": 1320472}, \"Total Batches Seen\": {\"sum\": 1321.0, \"count\": 1, \"min\": 1321, \"max\": 1321}, \"Max Records Seen Between Resets\": {\"sum\": 1308472.0, \"count\": 1, \"min\": 1308472, \"max\": 1308472}, \"Max Batches Seen Between Resets\": {\"sum\": 1309.0, \"count\": 1, \"min\": 1309, \"max\": 1309}, \"Reset Count\": {\"sum\": 3.0, \"count\": 1, \"min\": 3, \"max\": 3}, \"Number of Records Since Last Reset\": {\"sum\": 1308472.0, \"count\": 1, \"min\": 1308472, \"max\": 1308472}, \"Number of Batches Since Last Reset\": {\"sum\": 1309.0, \"count\": 1, \"min\": 1309, \"max\": 1309}}}\u001b[0m\n",
      "\u001b[34m[10/23/2024 20:28:10 INFO 140160811239232] #throughput_metric: host=algo-1, train throughput=36011.723111074454 records/second\u001b[0m\n",
      "\u001b[34m[2024-10-23 20:28:42.911] [tensorio] [info] epoch_stats={\"data_pipeline\": \"/opt/ml/input/data/train\", \"epoch\": 5, \"duration\": 32890, \"num_examples\": 1309, \"num_bytes\": 507687136}\u001b[0m\n",
      "\u001b[34m#metrics {\"StartTime\": 1729715322.912023, \"EndTime\": 1729715322.9120955, \"Dimensions\": {\"Algorithm\": \"Linear Learner\", \"Host\": \"algo-1\", \"Operation\": \"training\", \"epoch\": 1, \"model\": 0}, \"Metrics\": {\"train_binary_classification_cross_entropy_objective\": {\"sum\": 0.4808598310838052, \"count\": 1, \"min\": 0.4808598310838052, \"max\": 0.4808598310838052}}}\u001b[0m\n",
      "\u001b[34m#metrics {\"StartTime\": 1729715322.9121697, \"EndTime\": 1729715322.9121838, \"Dimensions\": {\"Algorithm\": \"Linear Learner\", \"Host\": \"algo-1\", \"Operation\": \"training\", \"epoch\": 1, \"model\": 1}, \"Metrics\": {\"train_binary_classification_cross_entropy_objective\": {\"sum\": 0.4818489868210725, \"count\": 1, \"min\": 0.4818489868210725, \"max\": 0.4818489868210725}}}\u001b[0m\n",
      "\u001b[34m#metrics {\"StartTime\": 1729715322.912219, \"EndTime\": 1729715322.9122288, \"Dimensions\": {\"Algorithm\": \"Linear Learner\", \"Host\": \"algo-1\", \"Operation\": \"training\", \"epoch\": 1, \"model\": 2}, \"Metrics\": {\"train_binary_classification_cross_entropy_objective\": {\"sum\": 0.48086017895619804, \"count\": 1, \"min\": 0.48086017895619804, \"max\": 0.48086017895619804}}}\u001b[0m\n",
      "\u001b[34m#metrics {\"StartTime\": 1729715322.9122665, \"EndTime\": 1729715322.9122765, \"Dimensions\": {\"Algorithm\": \"Linear Learner\", \"Host\": \"algo-1\", \"Operation\": \"training\", \"epoch\": 1, \"model\": 3}, \"Metrics\": {\"train_binary_classification_cross_entropy_objective\": {\"sum\": 0.4818488158946373, \"count\": 1, \"min\": 0.4818488158946373, \"max\": 0.4818488158946373}}}\u001b[0m\n",
      "\u001b[34m#metrics {\"StartTime\": 1729715322.9123101, \"EndTime\": 1729715322.912319, \"Dimensions\": {\"Algorithm\": \"Linear Learner\", \"Host\": \"algo-1\", \"Operation\": \"training\", \"epoch\": 1, \"model\": 4}, \"Metrics\": {\"train_binary_classification_cross_entropy_objective\": {\"sum\": 0.4847093908327435, \"count\": 1, \"min\": 0.4847093908327435, \"max\": 0.4847093908327435}}}\u001b[0m\n",
      "\u001b[34m#metrics {\"StartTime\": 1729715322.9123561, \"EndTime\": 1729715322.9123647, \"Dimensions\": {\"Algorithm\": \"Linear Learner\", \"Host\": \"algo-1\", \"Operation\": \"training\", \"epoch\": 1, \"model\": 5}, \"Metrics\": {\"train_binary_classification_cross_entropy_objective\": {\"sum\": 0.5010140011522018, \"count\": 1, \"min\": 0.5010140011522018, \"max\": 0.5010140011522018}}}\u001b[0m\n",
      "\u001b[34m#metrics {\"StartTime\": 1729715322.9124014, \"EndTime\": 1729715322.9124124, \"Dimensions\": {\"Algorithm\": \"Linear Learner\", \"Host\": \"algo-1\", \"Operation\": \"training\", \"epoch\": 1, \"model\": 6}, \"Metrics\": {\"train_binary_classification_cross_entropy_objective\": {\"sum\": 0.48470855295257104, \"count\": 1, \"min\": 0.48470855295257104, \"max\": 0.48470855295257104}}}\u001b[0m\n",
      "\u001b[34m#metrics {\"StartTime\": 1729715322.9124508, \"EndTime\": 1729715322.912462, \"Dimensions\": {\"Algorithm\": \"Linear Learner\", \"Host\": \"algo-1\", \"Operation\": \"training\", \"epoch\": 1, \"model\": 7}, \"Metrics\": {\"train_binary_classification_cross_entropy_objective\": {\"sum\": 0.5010166796996324, \"count\": 1, \"min\": 0.5010166796996324, \"max\": 0.5010166796996324}}}\u001b[0m\n",
      "\u001b[34m#metrics {\"StartTime\": 1729715322.9125004, \"EndTime\": 1729715322.9125113, \"Dimensions\": {\"Algorithm\": \"Linear Learner\", \"Host\": \"algo-1\", \"Operation\": \"training\", \"epoch\": 1, \"model\": 8}, \"Metrics\": {\"train_binary_classification_cross_entropy_objective\": {\"sum\": 0.48110946965582146, \"count\": 1, \"min\": 0.48110946965582146, \"max\": 0.48110946965582146}}}\u001b[0m\n",
      "\u001b[34m#metrics {\"StartTime\": 1729715322.912549, \"EndTime\": 1729715322.9125602, \"Dimensions\": {\"Algorithm\": \"Linear Learner\", \"Host\": \"algo-1\", \"Operation\": \"training\", \"epoch\": 1, \"model\": 9}, \"Metrics\": {\"train_binary_classification_cross_entropy_objective\": {\"sum\": 0.4820441477830986, \"count\": 1, \"min\": 0.4820441477830986, \"max\": 0.4820441477830986}}}\u001b[0m\n",
      "\u001b[34m#metrics {\"StartTime\": 1729715322.9125998, \"EndTime\": 1729715322.9126108, \"Dimensions\": {\"Algorithm\": \"Linear Learner\", \"Host\": \"algo-1\", \"Operation\": \"training\", \"epoch\": 1, \"model\": 10}, \"Metrics\": {\"train_binary_classification_cross_entropy_objective\": {\"sum\": 0.48110919614086095, \"count\": 1, \"min\": 0.48110919614086095, \"max\": 0.48110919614086095}}}\u001b[0m\n",
      "\u001b[34m#metrics {\"StartTime\": 1729715322.9126527, \"EndTime\": 1729715322.9126632, \"Dimensions\": {\"Algorithm\": \"Linear Learner\", \"Host\": \"algo-1\", \"Operation\": \"training\", \"epoch\": 1, \"model\": 11}, \"Metrics\": {\"train_binary_classification_cross_entropy_objective\": {\"sum\": 0.48204416780150994, \"count\": 1, \"min\": 0.48204416780150994, \"max\": 0.48204416780150994}}}\u001b[0m\n",
      "\u001b[34m#metrics {\"StartTime\": 1729715322.9127038, \"EndTime\": 1729715322.9127154, \"Dimensions\": {\"Algorithm\": \"Linear Learner\", \"Host\": \"algo-1\", \"Operation\": \"training\", \"epoch\": 1, \"model\": 12}, \"Metrics\": {\"train_binary_classification_cross_entropy_objective\": {\"sum\": 0.48470588875400183, \"count\": 1, \"min\": 0.48470588875400183, \"max\": 0.48470588875400183}}}\u001b[0m\n",
      "\u001b[34m#metrics {\"StartTime\": 1729715322.9127574, \"EndTime\": 1729715322.9127688, \"Dimensions\": {\"Algorithm\": \"Linear Learner\", \"Host\": \"algo-1\", \"Operation\": \"training\", \"epoch\": 1, \"model\": 13}, \"Metrics\": {\"train_binary_classification_cross_entropy_objective\": {\"sum\": 0.4997676858931142, \"count\": 1, \"min\": 0.4997676858931142, \"max\": 0.4997676858931142}}}\u001b[0m\n",
      "\u001b[34m#metrics {\"StartTime\": 1729715322.9128087, \"EndTime\": 1729715322.9128203, \"Dimensions\": {\"Algorithm\": \"Linear Learner\", \"Host\": \"algo-1\", \"Operation\": \"training\", \"epoch\": 1, \"model\": 14}, \"Metrics\": {\"train_binary_classification_cross_entropy_objective\": {\"sum\": 0.48470507016896475, \"count\": 1, \"min\": 0.48470507016896475, \"max\": 0.48470507016896475}}}\u001b[0m\n",
      "\u001b[34m#metrics {\"StartTime\": 1729715322.9128542, \"EndTime\": 1729715322.912864, \"Dimensions\": {\"Algorithm\": \"Linear Learner\", \"Host\": \"algo-1\", \"Operation\": \"training\", \"epoch\": 1, \"model\": 15}, \"Metrics\": {\"train_binary_classification_cross_entropy_objective\": {\"sum\": 0.49977022314509123, \"count\": 1, \"min\": 0.49977022314509123, \"max\": 0.49977022314509123}}}\u001b[0m\n",
      "\u001b[34m#metrics {\"StartTime\": 1729715322.9128976, \"EndTime\": 1729715322.9129062, \"Dimensions\": {\"Algorithm\": \"Linear Learner\", \"Host\": \"algo-1\", \"Operation\": \"training\", \"epoch\": 1, \"model\": 16}, \"Metrics\": {\"train_binary_classification_cross_entropy_objective\": {\"sum\": 0.5045516477112376, \"count\": 1, \"min\": 0.5045516477112376, \"max\": 0.5045516477112376}}}\u001b[0m\n",
      "\u001b[34m#metrics {\"StartTime\": 1729715322.912936, \"EndTime\": 1729715322.9129455, \"Dimensions\": {\"Algorithm\": \"Linear Learner\", \"Host\": \"algo-1\", \"Operation\": \"training\", \"epoch\": 1, \"model\": 17}, \"Metrics\": {\"train_binary_classification_cross_entropy_objective\": {\"sum\": 0.5047614820287862, \"count\": 1, \"min\": 0.5047614820287862, \"max\": 0.5047614820287862}}}\u001b[0m\n",
      "\u001b[34m#metrics {\"StartTime\": 1729715322.9129772, \"EndTime\": 1729715322.9129863, \"Dimensions\": {\"Algorithm\": \"Linear Learner\", \"Host\": \"algo-1\", \"Operation\": \"training\", \"epoch\": 1, \"model\": 18}, \"Metrics\": {\"train_binary_classification_cross_entropy_objective\": {\"sum\": 0.5045517044767327, \"count\": 1, \"min\": 0.5045517044767327, \"max\": 0.5045517044767327}}}\u001b[0m\n",
      "\u001b[34m#metrics {\"StartTime\": 1729715322.913016, \"EndTime\": 1729715322.9130259, \"Dimensions\": {\"Algorithm\": \"Linear Learner\", \"Host\": \"algo-1\", \"Operation\": \"training\", \"epoch\": 1, \"model\": 19}, \"Metrics\": {\"train_binary_classification_cross_entropy_objective\": {\"sum\": 0.5047616795764421, \"count\": 1, \"min\": 0.5047616795764421, \"max\": 0.5047616795764421}}}\u001b[0m\n",
      "\u001b[34m#metrics {\"StartTime\": 1729715322.9130592, \"EndTime\": 1729715322.913069, \"Dimensions\": {\"Algorithm\": \"Linear Learner\", \"Host\": \"algo-1\", \"Operation\": \"training\", \"epoch\": 1, \"model\": 20}, \"Metrics\": {\"train_binary_classification_cross_entropy_objective\": {\"sum\": 0.505380287450388, \"count\": 1, \"min\": 0.505380287450388, \"max\": 0.505380287450388}}}\u001b[0m\n",
      "\u001b[34m#metrics {\"StartTime\": 1729715322.9131021, \"EndTime\": 1729715322.913112, \"Dimensions\": {\"Algorithm\": \"Linear Learner\", \"Host\": \"algo-1\", \"Operation\": \"training\", \"epoch\": 1, \"model\": 21}, \"Metrics\": {\"train_binary_classification_cross_entropy_objective\": {\"sum\": 0.5082265163736606, \"count\": 1, \"min\": 0.5082265163736606, \"max\": 0.5082265163736606}}}\u001b[0m\n",
      "\u001b[34m#metrics {\"StartTime\": 1729715322.9131348, \"EndTime\": 1729715322.9131422, \"Dimensions\": {\"Algorithm\": \"Linear Learner\", \"Host\": \"algo-1\", \"Operation\": \"training\", \"epoch\": 1, \"model\": 22}, \"Metrics\": {\"train_binary_classification_cross_entropy_objective\": {\"sum\": 0.5053812180965319, \"count\": 1, \"min\": 0.5053812180965319, \"max\": 0.5053812180965319}}}\u001b[0m\n",
      "\u001b[34m#metrics {\"StartTime\": 1729715322.913172, \"EndTime\": 1729715322.913181, \"Dimensions\": {\"Algorithm\": \"Linear Learner\", \"Host\": \"algo-1\", \"Operation\": \"training\", \"epoch\": 1, \"model\": 23}, \"Metrics\": {\"train_binary_classification_cross_entropy_objective\": {\"sum\": 0.508226639703873, \"count\": 1, \"min\": 0.508226639703873, \"max\": 0.508226639703873}}}\u001b[0m\n",
      "\u001b[34m#metrics {\"StartTime\": 1729715322.913216, \"EndTime\": 1729715322.9132254, \"Dimensions\": {\"Algorithm\": \"Linear Learner\", \"Host\": \"algo-1\", \"Operation\": \"training\", \"epoch\": 1, \"model\": 24}, \"Metrics\": {\"train_binary_classification_cross_entropy_objective\": {\"sum\": 0.513739356178027, \"count\": 1, \"min\": 0.513739356178027, \"max\": 0.513739356178027}}}\u001b[0m\n",
      "\u001b[34m#metrics {\"StartTime\": 1729715322.9132583, \"EndTime\": 1729715322.9132683, \"Dimensions\": {\"Algorithm\": \"Linear Learner\", \"Host\": \"algo-1\", \"Operation\": \"training\", \"epoch\": 1, \"model\": 25}, \"Metrics\": {\"train_binary_classification_cross_entropy_objective\": {\"sum\": 0.5138363744986532, \"count\": 1, \"min\": 0.5138363744986532, \"max\": 0.5138363744986532}}}\u001b[0m\n",
      "\u001b[34m#metrics {\"StartTime\": 1729715322.913293, \"EndTime\": 1729715322.9133015, \"Dimensions\": {\"Algorithm\": \"Linear Learner\", \"Host\": \"algo-1\", \"Operation\": \"training\", \"epoch\": 1, \"model\": 26}, \"Metrics\": {\"train_binary_classification_cross_entropy_objective\": {\"sum\": 0.5137389147463924, \"count\": 1, \"min\": 0.5137389147463924, \"max\": 0.5137389147463924}}}\u001b[0m\n",
      "\u001b[34m#metrics {\"StartTime\": 1729715322.913332, \"EndTime\": 1729715322.9133418, \"Dimensions\": {\"Algorithm\": \"Linear Learner\", \"Host\": \"algo-1\", \"Operation\": \"training\", \"epoch\": 1, \"model\": 27}, \"Metrics\": {\"train_binary_classification_cross_entropy_objective\": {\"sum\": 0.5138378708399035, \"count\": 1, \"min\": 0.5138378708399035, \"max\": 0.5138378708399035}}}\u001b[0m\n",
      "\u001b[34m#metrics {\"StartTime\": 1729715322.913381, \"EndTime\": 1729715322.9133923, \"Dimensions\": {\"Algorithm\": \"Linear Learner\", \"Host\": \"algo-1\", \"Operation\": \"training\", \"epoch\": 1, \"model\": 28}, \"Metrics\": {\"train_binary_classification_cross_entropy_objective\": {\"sum\": 0.5141217636201725, \"count\": 1, \"min\": 0.5141217636201725, \"max\": 0.5141217636201725}}}\u001b[0m\n",
      "\u001b[34m#metrics {\"StartTime\": 1729715322.913434, \"EndTime\": 1729715322.9134455, \"Dimensions\": {\"Algorithm\": \"Linear Learner\", \"Host\": \"algo-1\", \"Operation\": \"training\", \"epoch\": 1, \"model\": 29}, \"Metrics\": {\"train_binary_classification_cross_entropy_objective\": {\"sum\": 0.5152102662766016, \"count\": 1, \"min\": 0.5152102662766016, \"max\": 0.5152102662766016}}}\u001b[0m\n",
      "\u001b[34m#metrics {\"StartTime\": 1729715322.9134862, \"EndTime\": 1729715322.913497, \"Dimensions\": {\"Algorithm\": \"Linear Learner\", \"Host\": \"algo-1\", \"Operation\": \"training\", \"epoch\": 1, \"model\": 30}, \"Metrics\": {\"train_binary_classification_cross_entropy_objective\": {\"sum\": 0.5141207819714094, \"count\": 1, \"min\": 0.5141207819714094, \"max\": 0.5141207819714094}}}\u001b[0m\n",
      "\u001b[34m#metrics {\"StartTime\": 1729715322.9135332, \"EndTime\": 1729715322.9140382, \"Dimensions\": {\"Algorithm\": \"Linear Learner\", \"Host\": \"algo-1\", \"Operation\": \"training\", \"epoch\": 1, \"model\": 31}, \"Metrics\": {\"train_binary_classification_cross_entropy_objective\": {\"sum\": 0.5152078919016987, \"count\": 1, \"min\": 0.5152078919016987, \"max\": 0.5152078919016987}}}\u001b[0m\n",
      "\u001b[34m[10/23/2024 20:28:42 INFO 140160811239232] #quality_metric: host=algo-1, epoch=1, train binary_classification_cross_entropy_objective <loss>=0.4808598310838052\u001b[0m\n",
      "\u001b[34m[2024-10-23 20:28:45.743] [tensorio] [info] epoch_stats={\"data_pipeline\": \"/opt/ml/input/data/validation\", \"epoch\": 5, \"duration\": 2812, \"num_examples\": 164, \"num_bytes\": 63460892}\u001b[0m\n",
      "\u001b[34m#metrics {\"StartTime\": 1729715325.7505753, \"EndTime\": 1729715325.7506568, \"Dimensions\": {\"Algorithm\": \"Linear Learner\", \"Host\": \"algo-1\", \"Operation\": \"training\", \"epoch\": 1, \"model\": 0}, \"Metrics\": {\"validation_binary_classification_cross_entropy_objective\": {\"sum\": 0.4808552264423814, \"count\": 1, \"min\": 0.4808552264423814, \"max\": 0.4808552264423814}}}\u001b[0m\n",
      "\u001b[34m#metrics {\"StartTime\": 1729715325.7507472, \"EndTime\": 1729715325.7507617, \"Dimensions\": {\"Algorithm\": \"Linear Learner\", \"Host\": \"algo-1\", \"Operation\": \"training\", \"epoch\": 1, \"model\": 1}, \"Metrics\": {\"validation_binary_classification_cross_entropy_objective\": {\"sum\": 0.4822863248885795, \"count\": 1, \"min\": 0.4822863248885795, \"max\": 0.4822863248885795}}}\u001b[0m\n",
      "\u001b[34m#metrics {\"StartTime\": 1729715325.7508016, \"EndTime\": 1729715325.7508116, \"Dimensions\": {\"Algorithm\": \"Linear Learner\", \"Host\": \"algo-1\", \"Operation\": \"training\", \"epoch\": 1, \"model\": 2}, \"Metrics\": {\"validation_binary_classification_cross_entropy_objective\": {\"sum\": 0.4808545049200279, \"count\": 1, \"min\": 0.4808545049200279, \"max\": 0.4808545049200279}}}\u001b[0m\n",
      "\u001b[34m#metrics {\"StartTime\": 1729715325.7508523, \"EndTime\": 1729715325.750862, \"Dimensions\": {\"Algorithm\": \"Linear Learner\", \"Host\": \"algo-1\", \"Operation\": \"training\", \"epoch\": 1, \"model\": 3}, \"Metrics\": {\"validation_binary_classification_cross_entropy_objective\": {\"sum\": 0.482286893598208, \"count\": 1, \"min\": 0.482286893598208, \"max\": 0.482286893598208}}}\u001b[0m\n",
      "\u001b[34m#metrics {\"StartTime\": 1729715325.750897, \"EndTime\": 1729715325.7509058, \"Dimensions\": {\"Algorithm\": \"Linear Learner\", \"Host\": \"algo-1\", \"Operation\": \"training\", \"epoch\": 1, \"model\": 4}, \"Metrics\": {\"validation_binary_classification_cross_entropy_objective\": {\"sum\": 0.4826831052747021, \"count\": 1, \"min\": 0.4826831052747021, \"max\": 0.4826831052747021}}}\u001b[0m\n",
      "\u001b[34m#metrics {\"StartTime\": 1729715325.7509403, \"EndTime\": 1729715325.7509496, \"Dimensions\": {\"Algorithm\": \"Linear Learner\", \"Host\": \"algo-1\", \"Operation\": \"training\", \"epoch\": 1, \"model\": 5}, \"Metrics\": {\"validation_binary_classification_cross_entropy_objective\": {\"sum\": 0.4957473558316017, \"count\": 1, \"min\": 0.4957473558316017, \"max\": 0.4957473558316017}}}\u001b[0m\n",
      "\u001b[34m#metrics {\"StartTime\": 1729715325.750988, \"EndTime\": 1729715325.7509975, \"Dimensions\": {\"Algorithm\": \"Linear Learner\", \"Host\": \"algo-1\", \"Operation\": \"training\", \"epoch\": 1, \"model\": 6}, \"Metrics\": {\"validation_binary_classification_cross_entropy_objective\": {\"sum\": 0.48268266792057835, \"count\": 1, \"min\": 0.48268266792057835, \"max\": 0.48268266792057835}}}\u001b[0m\n",
      "\u001b[34m#metrics {\"StartTime\": 1729715325.751035, \"EndTime\": 1729715325.7510438, \"Dimensions\": {\"Algorithm\": \"Linear Learner\", \"Host\": \"algo-1\", \"Operation\": \"training\", \"epoch\": 1, \"model\": 7}, \"Metrics\": {\"validation_binary_classification_cross_entropy_objective\": {\"sum\": 0.49575095728607965, \"count\": 1, \"min\": 0.49575095728607965, \"max\": 0.49575095728607965}}}\u001b[0m\n",
      "\u001b[34m#metrics {\"StartTime\": 1729715325.7510781, \"EndTime\": 1729715325.751087, \"Dimensions\": {\"Algorithm\": \"Linear Learner\", \"Host\": \"algo-1\", \"Operation\": \"training\", \"epoch\": 1, \"model\": 8}, \"Metrics\": {\"validation_binary_classification_cross_entropy_objective\": {\"sum\": 0.48112284891628365, \"count\": 1, \"min\": 0.48112284891628365, \"max\": 0.48112284891628365}}}\u001b[0m\n",
      "\u001b[34m#metrics {\"StartTime\": 1729715325.7511203, \"EndTime\": 1729715325.751129, \"Dimensions\": {\"Algorithm\": \"Linear Learner\", \"Host\": \"algo-1\", \"Operation\": \"training\", \"epoch\": 1, \"model\": 9}, \"Metrics\": {\"validation_binary_classification_cross_entropy_objective\": {\"sum\": 0.48239265698308315, \"count\": 1, \"min\": 0.48239265698308315, \"max\": 0.48239265698308315}}}\u001b[0m\n",
      "\u001b[34m#metrics {\"StartTime\": 1729715325.751159, \"EndTime\": 1729715325.7511673, \"Dimensions\": {\"Algorithm\": \"Linear Learner\", \"Host\": \"algo-1\", \"Operation\": \"training\", \"epoch\": 1, \"model\": 10}, \"Metrics\": {\"validation_binary_classification_cross_entropy_objective\": {\"sum\": 0.48112265990616104, \"count\": 1, \"min\": 0.48112265990616104, \"max\": 0.48112265990616104}}}\u001b[0m\n",
      "\u001b[34m#metrics {\"StartTime\": 1729715325.7511964, \"EndTime\": 1729715325.7512043, \"Dimensions\": {\"Algorithm\": \"Linear Learner\", \"Host\": \"algo-1\", \"Operation\": \"training\", \"epoch\": 1, \"model\": 11}, \"Metrics\": {\"validation_binary_classification_cross_entropy_objective\": {\"sum\": 0.4823922996737201, \"count\": 1, \"min\": 0.4823922996737201, \"max\": 0.4823922996737201}}}\u001b[0m\n",
      "\u001b[34m#metrics {\"StartTime\": 1729715325.7512333, \"EndTime\": 1729715325.751241, \"Dimensions\": {\"Algorithm\": \"Linear Learner\", \"Host\": \"algo-1\", \"Operation\": \"training\", \"epoch\": 1, \"model\": 12}, \"Metrics\": {\"validation_binary_classification_cross_entropy_objective\": {\"sum\": 0.48267384807013924, \"count\": 1, \"min\": 0.48267384807013924, \"max\": 0.48267384807013924}}}\u001b[0m\n",
      "\u001b[34m#metrics {\"StartTime\": 1729715325.7512763, \"EndTime\": 1729715325.7512848, \"Dimensions\": {\"Algorithm\": \"Linear Learner\", \"Host\": \"algo-1\", \"Operation\": \"training\", \"epoch\": 1, \"model\": 13}, \"Metrics\": {\"validation_binary_classification_cross_entropy_objective\": {\"sum\": 0.4952997218335227, \"count\": 1, \"min\": 0.4952997218335227, \"max\": 0.4952997218335227}}}\u001b[0m\n",
      "\u001b[34m#metrics {\"StartTime\": 1729715325.75132, \"EndTime\": 1729715325.7513275, \"Dimensions\": {\"Algorithm\": \"Linear Learner\", \"Host\": \"algo-1\", \"Operation\": \"training\", \"epoch\": 1, \"model\": 14}, \"Metrics\": {\"validation_binary_classification_cross_entropy_objective\": {\"sum\": 0.48267472296497127, \"count\": 1, \"min\": 0.48267472296497127, \"max\": 0.48267472296497127}}}\u001b[0m\n",
      "\u001b[34m#metrics {\"StartTime\": 1729715325.7513576, \"EndTime\": 1729715325.7513657, \"Dimensions\": {\"Algorithm\": \"Linear Learner\", \"Host\": \"algo-1\", \"Operation\": \"training\", \"epoch\": 1, \"model\": 15}, \"Metrics\": {\"validation_binary_classification_cross_entropy_objective\": {\"sum\": 0.49530151323153554, \"count\": 1, \"min\": 0.49530151323153554, \"max\": 0.49530151323153554}}}\u001b[0m\n",
      "\u001b[34m#metrics {\"StartTime\": 1729715325.7513947, \"EndTime\": 1729715325.751403, \"Dimensions\": {\"Algorithm\": \"Linear Learner\", \"Host\": \"algo-1\", \"Operation\": \"training\", \"epoch\": 1, \"model\": 16}, \"Metrics\": {\"validation_binary_classification_cross_entropy_objective\": {\"sum\": 0.5043788786743001, \"count\": 1, \"min\": 0.5043788786743001, \"max\": 0.5043788786743001}}}\u001b[0m\n",
      "\u001b[34m#metrics {\"StartTime\": 1729715325.7514324, \"EndTime\": 1729715325.7514403, \"Dimensions\": {\"Algorithm\": \"Linear Learner\", \"Host\": \"algo-1\", \"Operation\": \"training\", \"epoch\": 1, \"model\": 17}, \"Metrics\": {\"validation_binary_classification_cross_entropy_objective\": {\"sum\": 0.5046279285247053, \"count\": 1, \"min\": 0.5046279285247053, \"max\": 0.5046279285247053}}}\u001b[0m\n",
      "\u001b[34m#metrics {\"StartTime\": 1729715325.7515154, \"EndTime\": 1729715325.751525, \"Dimensions\": {\"Algorithm\": \"Linear Learner\", \"Host\": \"algo-1\", \"Operation\": \"training\", \"epoch\": 1, \"model\": 18}, \"Metrics\": {\"validation_binary_classification_cross_entropy_objective\": {\"sum\": 0.5043781317764514, \"count\": 1, \"min\": 0.5043781317764514, \"max\": 0.5043781317764514}}}\u001b[0m\n",
      "\u001b[34m#metrics {\"StartTime\": 1729715325.751554, \"EndTime\": 1729715325.7515616, \"Dimensions\": {\"Algorithm\": \"Linear Learner\", \"Host\": \"algo-1\", \"Operation\": \"training\", \"epoch\": 1, \"model\": 19}, \"Metrics\": {\"validation_binary_classification_cross_entropy_objective\": {\"sum\": 0.504628232657479, \"count\": 1, \"min\": 0.504628232657479, \"max\": 0.504628232657479}}}\u001b[0m\n",
      "\u001b[34m#metrics {\"StartTime\": 1729715325.7515903, \"EndTime\": 1729715325.7515981, \"Dimensions\": {\"Algorithm\": \"Linear Learner\", \"Host\": \"algo-1\", \"Operation\": \"training\", \"epoch\": 1, \"model\": 20}, \"Metrics\": {\"validation_binary_classification_cross_entropy_objective\": {\"sum\": 0.503592330308212, \"count\": 1, \"min\": 0.503592330308212, \"max\": 0.503592330308212}}}\u001b[0m\n",
      "\u001b[34m#metrics {\"StartTime\": 1729715325.751633, \"EndTime\": 1729715325.7516408, \"Dimensions\": {\"Algorithm\": \"Linear Learner\", \"Host\": \"algo-1\", \"Operation\": \"training\", \"epoch\": 1, \"model\": 21}, \"Metrics\": {\"validation_binary_classification_cross_entropy_objective\": {\"sum\": 0.5056077131528464, \"count\": 1, \"min\": 0.5056077131528464, \"max\": 0.5056077131528464}}}\u001b[0m\n",
      "\u001b[34m#metrics {\"StartTime\": 1729715325.751672, \"EndTime\": 1729715325.7516804, \"Dimensions\": {\"Algorithm\": \"Linear Learner\", \"Host\": \"algo-1\", \"Operation\": \"training\", \"epoch\": 1, \"model\": 22}, \"Metrics\": {\"validation_binary_classification_cross_entropy_objective\": {\"sum\": 0.5035906680266897, \"count\": 1, \"min\": 0.5035906680266897, \"max\": 0.5035906680266897}}}\u001b[0m\n",
      "\u001b[34m#metrics {\"StartTime\": 1729715325.7517092, \"EndTime\": 1729715325.751717, \"Dimensions\": {\"Algorithm\": \"Linear Learner\", \"Host\": \"algo-1\", \"Operation\": \"training\", \"epoch\": 1, \"model\": 23}, \"Metrics\": {\"validation_binary_classification_cross_entropy_objective\": {\"sum\": 0.5056035370180352, \"count\": 1, \"min\": 0.5056035370180352, \"max\": 0.5056035370180352}}}\u001b[0m\n",
      "\u001b[34m#metrics {\"StartTime\": 1729715325.7517464, \"EndTime\": 1729715325.7517545, \"Dimensions\": {\"Algorithm\": \"Linear Learner\", \"Host\": \"algo-1\", \"Operation\": \"training\", \"epoch\": 1, \"model\": 24}, \"Metrics\": {\"validation_binary_classification_cross_entropy_objective\": {\"sum\": 0.5137093275517048, \"count\": 1, \"min\": 0.5137093275517048, \"max\": 0.5137093275517048}}}\u001b[0m\n",
      "\u001b[34m#metrics {\"StartTime\": 1729715325.751783, \"EndTime\": 1729715325.7517908, \"Dimensions\": {\"Algorithm\": \"Linear Learner\", \"Host\": \"algo-1\", \"Operation\": \"training\", \"epoch\": 1, \"model\": 25}, \"Metrics\": {\"validation_binary_classification_cross_entropy_objective\": {\"sum\": 0.5144863976105694, \"count\": 1, \"min\": 0.5144863976105694, \"max\": 0.5144863976105694}}}\u001b[0m\n",
      "\u001b[34m#metrics {\"StartTime\": 1729715325.7518194, \"EndTime\": 1729715325.7518272, \"Dimensions\": {\"Algorithm\": \"Linear Learner\", \"Host\": \"algo-1\", \"Operation\": \"training\", \"epoch\": 1, \"model\": 26}, \"Metrics\": {\"validation_binary_classification_cross_entropy_objective\": {\"sum\": 0.5137076370959194, \"count\": 1, \"min\": 0.5137076370959194, \"max\": 0.5137076370959194}}}\u001b[0m\n",
      "\u001b[34m#metrics {\"StartTime\": 1729715325.7518623, \"EndTime\": 1729715325.7518709, \"Dimensions\": {\"Algorithm\": \"Linear Learner\", \"Host\": \"algo-1\", \"Operation\": \"training\", \"epoch\": 1, \"model\": 27}, \"Metrics\": {\"validation_binary_classification_cross_entropy_objective\": {\"sum\": 0.5145062944244317, \"count\": 1, \"min\": 0.5145062944244317, \"max\": 0.5145062944244317}}}\u001b[0m\n",
      "\u001b[34m#metrics {\"StartTime\": 1729715325.7519047, \"EndTime\": 1729715325.7519133, \"Dimensions\": {\"Algorithm\": \"Linear Learner\", \"Host\": \"algo-1\", \"Operation\": \"training\", \"epoch\": 1, \"model\": 28}, \"Metrics\": {\"validation_binary_classification_cross_entropy_objective\": {\"sum\": 0.5138792851554022, \"count\": 1, \"min\": 0.5138792851554022, \"max\": 0.5138792851554022}}}\u001b[0m\n",
      "\u001b[34m#metrics {\"StartTime\": 1729715325.7519484, \"EndTime\": 1729715325.7519567, \"Dimensions\": {\"Algorithm\": \"Linear Learner\", \"Host\": \"algo-1\", \"Operation\": \"training\", \"epoch\": 1, \"model\": 29}, \"Metrics\": {\"validation_binary_classification_cross_entropy_objective\": {\"sum\": 0.5140937095828068, \"count\": 1, \"min\": 0.5140937095828068, \"max\": 0.5140937095828068}}}\u001b[0m\n",
      "\u001b[34m#metrics {\"StartTime\": 1729715325.7519908, \"EndTime\": 1729715325.7519991, \"Dimensions\": {\"Algorithm\": \"Linear Learner\", \"Host\": \"algo-1\", \"Operation\": \"training\", \"epoch\": 1, \"model\": 30}, \"Metrics\": {\"validation_binary_classification_cross_entropy_objective\": {\"sum\": 0.5138888304464697, \"count\": 1, \"min\": 0.5138888304464697, \"max\": 0.5138888304464697}}}\u001b[0m\n",
      "\u001b[34m#metrics {\"StartTime\": 1729715325.7520313, \"EndTime\": 1729715325.7520397, \"Dimensions\": {\"Algorithm\": \"Linear Learner\", \"Host\": \"algo-1\", \"Operation\": \"training\", \"epoch\": 1, \"model\": 31}, \"Metrics\": {\"validation_binary_classification_cross_entropy_objective\": {\"sum\": 0.5140849647393463, \"count\": 1, \"min\": 0.5140849647393463, \"max\": 0.5140849647393463}}}\u001b[0m\n",
      "\u001b[34m[10/23/2024 20:28:45 INFO 140160811239232] #quality_metric: host=algo-1, epoch=1, validation binary_classification_cross_entropy_objective <loss>=0.4808552264423814\u001b[0m\n",
      "\u001b[34m[10/23/2024 20:28:45 INFO 140160811239232] #early_stopping_criteria_metric: host=algo-1, epoch=1, criteria=binary_classification_cross_entropy_objective, value=0.4808545049200279\u001b[0m\n",
      "\u001b[34m[10/23/2024 20:28:45 INFO 140160811239232] Saving model for epoch: 1\u001b[0m\n",
      "\u001b[34m[10/23/2024 20:28:45 INFO 140160811239232] Saved checkpoint to \"/tmp/tmpdo79ew4k/mx-mod-0000.params\"\u001b[0m\n",
      "\u001b[34m[10/23/2024 20:28:45 INFO 140160811239232] #progress_metric: host=algo-1, completed 13.333333333333334 % of epochs\u001b[0m\n",
      "\u001b[34m#metrics {\"StartTime\": 1729715290.0216036, \"EndTime\": 1729715325.7705216, \"Dimensions\": {\"Algorithm\": \"Linear Learner\", \"Host\": \"algo-1\", \"Operation\": \"training\", \"epoch\": 1, \"Meta\": \"training_data_iter\"}, \"Metrics\": {\"Total Records Seen\": {\"sum\": 2628944.0, \"count\": 1, \"min\": 2628944, \"max\": 2628944}, \"Total Batches Seen\": {\"sum\": 2630.0, \"count\": 1, \"min\": 2630, \"max\": 2630}, \"Max Records Seen Between Resets\": {\"sum\": 1308472.0, \"count\": 1, \"min\": 1308472, \"max\": 1308472}, \"Max Batches Seen Between Resets\": {\"sum\": 1309.0, \"count\": 1, \"min\": 1309, \"max\": 1309}, \"Reset Count\": {\"sum\": 4.0, \"count\": 1, \"min\": 4, \"max\": 4}, \"Number of Records Since Last Reset\": {\"sum\": 1308472.0, \"count\": 1, \"min\": 1308472, \"max\": 1308472}, \"Number of Batches Since Last Reset\": {\"sum\": 1309.0, \"count\": 1, \"min\": 1309, \"max\": 1309}}}\u001b[0m\n",
      "\u001b[34m[10/23/2024 20:28:45 INFO 140160811239232] #throughput_metric: host=algo-1, train throughput=36601.60422549693 records/second\u001b[0m\n",
      "\u001b[34m[2024-10-23 20:29:19.437] [tensorio] [info] epoch_stats={\"data_pipeline\": \"/opt/ml/input/data/train\", \"epoch\": 7, \"duration\": 33666, \"num_examples\": 1309, \"num_bytes\": 507687136}\u001b[0m\n",
      "\u001b[34m#metrics {\"StartTime\": 1729715359.4378097, \"EndTime\": 1729715359.437918, \"Dimensions\": {\"Algorithm\": \"Linear Learner\", \"Host\": \"algo-1\", \"Operation\": \"training\", \"epoch\": 2, \"model\": 0}, \"Metrics\": {\"train_binary_classification_cross_entropy_objective\": {\"sum\": 0.4806998970895003, \"count\": 1, \"min\": 0.4806998970895003, \"max\": 0.4806998970895003}}}\u001b[0m\n",
      "\u001b[34m#metrics {\"StartTime\": 1729715359.438002, \"EndTime\": 1729715359.4380193, \"Dimensions\": {\"Algorithm\": \"Linear Learner\", \"Host\": \"algo-1\", \"Operation\": \"training\", \"epoch\": 2, \"model\": 1}, \"Metrics\": {\"train_binary_classification_cross_entropy_objective\": {\"sum\": 0.4817198629816738, \"count\": 1, \"min\": 0.4817198629816738, \"max\": 0.4817198629816738}}}\u001b[0m\n",
      "\u001b[34m#metrics {\"StartTime\": 1729715359.4380622, \"EndTime\": 1729715359.4380734, \"Dimensions\": {\"Algorithm\": \"Linear Learner\", \"Host\": \"algo-1\", \"Operation\": \"training\", \"epoch\": 2, \"model\": 2}, \"Metrics\": {\"train_binary_classification_cross_entropy_objective\": {\"sum\": 0.48070010548629527, \"count\": 1, \"min\": 0.48070010548629527, \"max\": 0.48070010548629527}}}\u001b[0m\n",
      "\u001b[34m#metrics {\"StartTime\": 1729715359.4381146, \"EndTime\": 1729715359.4381247, \"Dimensions\": {\"Algorithm\": \"Linear Learner\", \"Host\": \"algo-1\", \"Operation\": \"training\", \"epoch\": 2, \"model\": 3}, \"Metrics\": {\"train_binary_classification_cross_entropy_objective\": {\"sum\": 0.48171982994429563, \"count\": 1, \"min\": 0.48171982994429563, \"max\": 0.48171982994429563}}}\u001b[0m\n",
      "\u001b[34m#metrics {\"StartTime\": 1729715359.4381642, \"EndTime\": 1729715359.438175, \"Dimensions\": {\"Algorithm\": \"Linear Learner\", \"Host\": \"algo-1\", \"Operation\": \"training\", \"epoch\": 2, \"model\": 4}, \"Metrics\": {\"train_binary_classification_cross_entropy_objective\": {\"sum\": 0.4818116849380166, \"count\": 1, \"min\": 0.4818116849380166, \"max\": 0.4818116849380166}}}\u001b[0m\n",
      "\u001b[34m#metrics {\"StartTime\": 1729715359.4382167, \"EndTime\": 1729715359.4382272, \"Dimensions\": {\"Algorithm\": \"Linear Learner\", \"Host\": \"algo-1\", \"Operation\": \"training\", \"epoch\": 2, \"model\": 5}, \"Metrics\": {\"train_binary_classification_cross_entropy_objective\": {\"sum\": 0.4985561858710893, \"count\": 1, \"min\": 0.4985561858710893, \"max\": 0.4985561858710893}}}\u001b[0m\n",
      "\u001b[34m#metrics {\"StartTime\": 1729715359.4382734, \"EndTime\": 1729715359.4382844, \"Dimensions\": {\"Algorithm\": \"Linear Learner\", \"Host\": \"algo-1\", \"Operation\": \"training\", \"epoch\": 2, \"model\": 6}, \"Metrics\": {\"train_binary_classification_cross_entropy_objective\": {\"sum\": 0.4818116176500233, \"count\": 1, \"min\": 0.4818116176500233, \"max\": 0.4818116176500233}}}\u001b[0m\n",
      "\u001b[34m#metrics {\"StartTime\": 1729715359.438324, \"EndTime\": 1729715359.4383345, \"Dimensions\": {\"Algorithm\": \"Linear Learner\", \"Host\": \"algo-1\", \"Operation\": \"training\", \"epoch\": 2, \"model\": 7}, \"Metrics\": {\"train_binary_classification_cross_entropy_objective\": {\"sum\": 0.4985566766254763, \"count\": 1, \"min\": 0.4985566766254763, \"max\": 0.4985566766254763}}}\u001b[0m\n",
      "\u001b[34m#metrics {\"StartTime\": 1729715359.4383914, \"EndTime\": 1729715359.4384038, \"Dimensions\": {\"Algorithm\": \"Linear Learner\", \"Host\": \"algo-1\", \"Operation\": \"training\", \"epoch\": 2, \"model\": 8}, \"Metrics\": {\"train_binary_classification_cross_entropy_objective\": {\"sum\": 0.48096173748984616, \"count\": 1, \"min\": 0.48096173748984616, \"max\": 0.48096173748984616}}}\u001b[0m\n",
      "\u001b[34m#metrics {\"StartTime\": 1729715359.4384432, \"EndTime\": 1729715359.4384544, \"Dimensions\": {\"Algorithm\": \"Linear Learner\", \"Host\": \"algo-1\", \"Operation\": \"training\", \"epoch\": 2, \"model\": 9}, \"Metrics\": {\"train_binary_classification_cross_entropy_objective\": {\"sum\": 0.48192455142426566, \"count\": 1, \"min\": 0.48192455142426566, \"max\": 0.48192455142426566}}}\u001b[0m\n",
      "\u001b[34m#metrics {\"StartTime\": 1729715359.438494, \"EndTime\": 1729715359.4385052, \"Dimensions\": {\"Algorithm\": \"Linear Learner\", \"Host\": \"algo-1\", \"Operation\": \"training\", \"epoch\": 2, \"model\": 10}, \"Metrics\": {\"train_binary_classification_cross_entropy_objective\": {\"sum\": 0.48096164533049324, \"count\": 1, \"min\": 0.48096164533049324, \"max\": 0.48096164533049324}}}\u001b[0m\n",
      "\u001b[34m#metrics {\"StartTime\": 1729715359.438545, \"EndTime\": 1729715359.4385552, \"Dimensions\": {\"Algorithm\": \"Linear Learner\", \"Host\": \"algo-1\", \"Operation\": \"training\", \"epoch\": 2, \"model\": 11}, \"Metrics\": {\"train_binary_classification_cross_entropy_objective\": {\"sum\": 0.4819245576304398, \"count\": 1, \"min\": 0.4819245576304398, \"max\": 0.4819245576304398}}}\u001b[0m\n",
      "\u001b[34m#metrics {\"StartTime\": 1729715359.4385936, \"EndTime\": 1729715359.4386046, \"Dimensions\": {\"Algorithm\": \"Linear Learner\", \"Host\": \"algo-1\", \"Operation\": \"training\", \"epoch\": 2, \"model\": 12}, \"Metrics\": {\"train_binary_classification_cross_entropy_objective\": {\"sum\": 0.4820068953394525, \"count\": 1, \"min\": 0.4820068953394525, \"max\": 0.4820068953394525}}}\u001b[0m\n",
      "\u001b[34m#metrics {\"StartTime\": 1729715359.4386454, \"EndTime\": 1729715359.4386554, \"Dimensions\": {\"Algorithm\": \"Linear Learner\", \"Host\": \"algo-1\", \"Operation\": \"training\", \"epoch\": 2, \"model\": 13}, \"Metrics\": {\"train_binary_classification_cross_entropy_objective\": {\"sum\": 0.49753468836046505, \"count\": 1, \"min\": 0.49753468836046505, \"max\": 0.49753468836046505}}}\u001b[0m\n",
      "\u001b[34m#metrics {\"StartTime\": 1729715359.4386947, \"EndTime\": 1729715359.4387064, \"Dimensions\": {\"Algorithm\": \"Linear Learner\", \"Host\": \"algo-1\", \"Operation\": \"training\", \"epoch\": 2, \"model\": 14}, \"Metrics\": {\"train_binary_classification_cross_entropy_objective\": {\"sum\": 0.48200684625001494, \"count\": 1, \"min\": 0.48200684625001494, \"max\": 0.48200684625001494}}}\u001b[0m\n",
      "\u001b[34m#metrics {\"StartTime\": 1729715359.4387457, \"EndTime\": 1729715359.438757, \"Dimensions\": {\"Algorithm\": \"Linear Learner\", \"Host\": \"algo-1\", \"Operation\": \"training\", \"epoch\": 2, \"model\": 15}, \"Metrics\": {\"train_binary_classification_cross_entropy_objective\": {\"sum\": 0.4975351091204069, \"count\": 1, \"min\": 0.4975351091204069, \"max\": 0.4975351091204069}}}\u001b[0m\n",
      "\u001b[34m#metrics {\"StartTime\": 1729715359.4387953, \"EndTime\": 1729715359.4388063, \"Dimensions\": {\"Algorithm\": \"Linear Learner\", \"Host\": \"algo-1\", \"Operation\": \"training\", \"epoch\": 2, \"model\": 16}, \"Metrics\": {\"train_binary_classification_cross_entropy_objective\": {\"sum\": 0.5045120892539301, \"count\": 1, \"min\": 0.5045120892539301, \"max\": 0.5045120892539301}}}\u001b[0m\n",
      "\u001b[34m#metrics {\"StartTime\": 1729715359.4388483, \"EndTime\": 1729715359.4388585, \"Dimensions\": {\"Algorithm\": \"Linear Learner\", \"Host\": \"algo-1\", \"Operation\": \"training\", \"epoch\": 2, \"model\": 17}, \"Metrics\": {\"train_binary_classification_cross_entropy_objective\": {\"sum\": 0.5047455924497832, \"count\": 1, \"min\": 0.5047455924497832, \"max\": 0.5047455924497832}}}\u001b[0m\n",
      "\u001b[34m#metrics {\"StartTime\": 1729715359.4388983, \"EndTime\": 1729715359.43891, \"Dimensions\": {\"Algorithm\": \"Linear Learner\", \"Host\": \"algo-1\", \"Operation\": \"training\", \"epoch\": 2, \"model\": 18}, \"Metrics\": {\"train_binary_classification_cross_entropy_objective\": {\"sum\": 0.5045120951567951, \"count\": 1, \"min\": 0.5045120951567951, \"max\": 0.5045120951567951}}}\u001b[0m\n",
      "\u001b[34m#metrics {\"StartTime\": 1729715359.4389505, \"EndTime\": 1729715359.4389615, \"Dimensions\": {\"Algorithm\": \"Linear Learner\", \"Host\": \"algo-1\", \"Operation\": \"training\", \"epoch\": 2, \"model\": 19}, \"Metrics\": {\"train_binary_classification_cross_entropy_objective\": {\"sum\": 0.5047456214741465, \"count\": 1, \"min\": 0.5047456214741465, \"max\": 0.5047456214741465}}}\u001b[0m\n",
      "\u001b[34m#metrics {\"StartTime\": 1729715359.4390023, \"EndTime\": 1729715359.4390125, \"Dimensions\": {\"Algorithm\": \"Linear Learner\", \"Host\": \"algo-1\", \"Operation\": \"training\", \"epoch\": 2, \"model\": 20}, \"Metrics\": {\"train_binary_classification_cross_entropy_objective\": {\"sum\": 0.5047414124515078, \"count\": 1, \"min\": 0.5047414124515078, \"max\": 0.5047414124515078}}}\u001b[0m\n",
      "\u001b[34m#metrics {\"StartTime\": 1729715359.4390538, \"EndTime\": 1729715359.4390643, \"Dimensions\": {\"Algorithm\": \"Linear Learner\", \"Host\": \"algo-1\", \"Operation\": \"training\", \"epoch\": 2, \"model\": 21}, \"Metrics\": {\"train_binary_classification_cross_entropy_objective\": {\"sum\": 0.5078318251396903, \"count\": 1, \"min\": 0.5078318251396903, \"max\": 0.5078318251396903}}}\u001b[0m\n",
      "\u001b[34m#metrics {\"StartTime\": 1729715359.439103, \"EndTime\": 1729715359.439115, \"Dimensions\": {\"Algorithm\": \"Linear Learner\", \"Host\": \"algo-1\", \"Operation\": \"training\", \"epoch\": 2, \"model\": 22}, \"Metrics\": {\"train_binary_classification_cross_entropy_objective\": {\"sum\": 0.5047414511351046, \"count\": 1, \"min\": 0.5047414511351046, \"max\": 0.5047414511351046}}}\u001b[0m\n",
      "\u001b[34m#metrics {\"StartTime\": 1729715359.4391537, \"EndTime\": 1729715359.4391644, \"Dimensions\": {\"Algorithm\": \"Linear Learner\", \"Host\": \"algo-1\", \"Operation\": \"training\", \"epoch\": 2, \"model\": 23}, \"Metrics\": {\"train_binary_classification_cross_entropy_objective\": {\"sum\": 0.5078318256063199, \"count\": 1, \"min\": 0.5078318256063199, \"max\": 0.5078318256063199}}}\u001b[0m\n",
      "\u001b[34m#metrics {\"StartTime\": 1729715359.4392033, \"EndTime\": 1729715359.4392152, \"Dimensions\": {\"Algorithm\": \"Linear Learner\", \"Host\": \"algo-1\", \"Operation\": \"training\", \"epoch\": 2, \"model\": 24}, \"Metrics\": {\"train_binary_classification_cross_entropy_objective\": {\"sum\": 0.5137314493255148, \"count\": 1, \"min\": 0.5137314493255148, \"max\": 0.5137314493255148}}}\u001b[0m\n",
      "\u001b[34m#metrics {\"StartTime\": 1729715359.4392545, \"EndTime\": 1729715359.439265, \"Dimensions\": {\"Algorithm\": \"Linear Learner\", \"Host\": \"algo-1\", \"Operation\": \"training\", \"epoch\": 2, \"model\": 25}, \"Metrics\": {\"train_binary_classification_cross_entropy_objective\": {\"sum\": 0.5138386171440101, \"count\": 1, \"min\": 0.5138386171440101, \"max\": 0.5138386171440101}}}\u001b[0m\n",
      "\u001b[34m#metrics {\"StartTime\": 1729715359.4393036, \"EndTime\": 1729715359.4393156, \"Dimensions\": {\"Algorithm\": \"Linear Learner\", \"Host\": \"algo-1\", \"Operation\": \"training\", \"epoch\": 2, \"model\": 26}, \"Metrics\": {\"train_binary_classification_cross_entropy_objective\": {\"sum\": 0.5137313802409974, \"count\": 1, \"min\": 0.5137313802409974, \"max\": 0.5137313802409974}}}\u001b[0m\n",
      "\u001b[34m#metrics {\"StartTime\": 1729715359.4398575, \"EndTime\": 1729715359.439876, \"Dimensions\": {\"Algorithm\": \"Linear Learner\", \"Host\": \"algo-1\", \"Operation\": \"training\", \"epoch\": 2, \"model\": 27}, \"Metrics\": {\"train_binary_classification_cross_entropy_objective\": {\"sum\": 0.5138394592238493, \"count\": 1, \"min\": 0.5138394592238493, \"max\": 0.5138394592238493}}}\u001b[0m\n",
      "\u001b[34m#metrics {\"StartTime\": 1729715359.4399257, \"EndTime\": 1729715359.4399383, \"Dimensions\": {\"Algorithm\": \"Linear Learner\", \"Host\": \"algo-1\", \"Operation\": \"training\", \"epoch\": 2, \"model\": 28}, \"Metrics\": {\"train_binary_classification_cross_entropy_objective\": {\"sum\": 0.5138327659816917, \"count\": 1, \"min\": 0.5138327659816917, \"max\": 0.5138327659816917}}}\u001b[0m\n",
      "\u001b[34m#metrics {\"StartTime\": 1729715359.43998, \"EndTime\": 1729715359.4399905, \"Dimensions\": {\"Algorithm\": \"Linear Learner\", \"Host\": \"algo-1\", \"Operation\": \"training\", \"epoch\": 2, \"model\": 29}, \"Metrics\": {\"train_binary_classification_cross_entropy_objective\": {\"sum\": 0.5150173499431085, \"count\": 1, \"min\": 0.5150173499431085, \"max\": 0.5150173499431085}}}\u001b[0m\n",
      "\u001b[34m#metrics {\"StartTime\": 1729715359.4400308, \"EndTime\": 1729715359.4400423, \"Dimensions\": {\"Algorithm\": \"Linear Learner\", \"Host\": \"algo-1\", \"Operation\": \"training\", \"epoch\": 2, \"model\": 30}, \"Metrics\": {\"train_binary_classification_cross_entropy_objective\": {\"sum\": 0.5138328827324263, \"count\": 1, \"min\": 0.5138328827324263, \"max\": 0.5138328827324263}}}\u001b[0m\n",
      "\u001b[34m#metrics {\"StartTime\": 1729715359.4400826, \"EndTime\": 1729715359.4400938, \"Dimensions\": {\"Algorithm\": \"Linear Learner\", \"Host\": \"algo-1\", \"Operation\": \"training\", \"epoch\": 2, \"model\": 31}, \"Metrics\": {\"train_binary_classification_cross_entropy_objective\": {\"sum\": 0.5150173324211658, \"count\": 1, \"min\": 0.5150173324211658, \"max\": 0.5150173324211658}}}\u001b[0m\n",
      "\u001b[34m[10/23/2024 20:29:19 INFO 140160811239232] #quality_metric: host=algo-1, epoch=2, train binary_classification_cross_entropy_objective <loss>=0.4806998970895003\u001b[0m\n",
      "\u001b[34m[2024-10-23 20:29:22.237] [tensorio] [info] epoch_stats={\"data_pipeline\": \"/opt/ml/input/data/validation\", \"epoch\": 8, \"duration\": 2782, \"num_examples\": 164, \"num_bytes\": 63460892}\u001b[0m\n",
      "\u001b[34m#metrics {\"StartTime\": 1729715362.2434797, \"EndTime\": 1729715362.2435346, \"Dimensions\": {\"Algorithm\": \"Linear Learner\", \"Host\": \"algo-1\", \"Operation\": \"training\", \"epoch\": 2, \"model\": 0}, \"Metrics\": {\"validation_binary_classification_cross_entropy_objective\": {\"sum\": 0.4807919894021662, \"count\": 1, \"min\": 0.4807919894021662, \"max\": 0.4807919894021662}}}\u001b[0m\n",
      "\u001b[34m#metrics {\"StartTime\": 1729715362.243601, \"EndTime\": 1729715362.2436128, \"Dimensions\": {\"Algorithm\": \"Linear Learner\", \"Host\": \"algo-1\", \"Operation\": \"training\", \"epoch\": 2, \"model\": 1}, \"Metrics\": {\"validation_binary_classification_cross_entropy_objective\": {\"sum\": 0.4821425788653674, \"count\": 1, \"min\": 0.4821425788653674, \"max\": 0.4821425788653674}}}\u001b[0m\n",
      "\u001b[34m#metrics {\"StartTime\": 1729715362.2436514, \"EndTime\": 1729715362.2436616, \"Dimensions\": {\"Algorithm\": \"Linear Learner\", \"Host\": \"algo-1\", \"Operation\": \"training\", \"epoch\": 2, \"model\": 2}, \"Metrics\": {\"validation_binary_classification_cross_entropy_objective\": {\"sum\": 0.4807913065028092, \"count\": 1, \"min\": 0.4807913065028092, \"max\": 0.4807913065028092}}}\u001b[0m\n",
      "\u001b[34m#metrics {\"StartTime\": 1729715362.243695, \"EndTime\": 1729715362.2437024, \"Dimensions\": {\"Algorithm\": \"Linear Learner\", \"Host\": \"algo-1\", \"Operation\": \"training\", \"epoch\": 2, \"model\": 3}, \"Metrics\": {\"validation_binary_classification_cross_entropy_objective\": {\"sum\": 0.4821427036904138, \"count\": 1, \"min\": 0.4821427036904138, \"max\": 0.4821427036904138}}}\u001b[0m\n",
      "\u001b[34m#metrics {\"StartTime\": 1729715362.2437344, \"EndTime\": 1729715362.2437449, \"Dimensions\": {\"Algorithm\": \"Linear Learner\", \"Host\": \"algo-1\", \"Operation\": \"training\", \"epoch\": 2, \"model\": 4}, \"Metrics\": {\"validation_binary_classification_cross_entropy_objective\": {\"sum\": 0.48141002451535553, \"count\": 1, \"min\": 0.48141002451535553, \"max\": 0.48141002451535553}}}\u001b[0m\n",
      "\u001b[34m#metrics {\"StartTime\": 1729715362.243777, \"EndTime\": 1729715362.2437868, \"Dimensions\": {\"Algorithm\": \"Linear Learner\", \"Host\": \"algo-1\", \"Operation\": \"training\", \"epoch\": 2, \"model\": 5}, \"Metrics\": {\"validation_binary_classification_cross_entropy_objective\": {\"sum\": 0.4934228860209299, \"count\": 1, \"min\": 0.4934228860209299, \"max\": 0.4934228860209299}}}\u001b[0m\n",
      "\u001b[34m#metrics {\"StartTime\": 1729715362.243822, \"EndTime\": 1729715362.2438312, \"Dimensions\": {\"Algorithm\": \"Linear Learner\", \"Host\": \"algo-1\", \"Operation\": \"training\", \"epoch\": 2, \"model\": 6}, \"Metrics\": {\"validation_binary_classification_cross_entropy_objective\": {\"sum\": 0.4814100181714817, \"count\": 1, \"min\": 0.4814100181714817, \"max\": 0.4814100181714817}}}\u001b[0m\n",
      "\u001b[34m#metrics {\"StartTime\": 1729715362.2438629, \"EndTime\": 1729715362.2438695, \"Dimensions\": {\"Algorithm\": \"Linear Learner\", \"Host\": \"algo-1\", \"Operation\": \"training\", \"epoch\": 2, \"model\": 7}, \"Metrics\": {\"validation_binary_classification_cross_entropy_objective\": {\"sum\": 0.49342309779436433, \"count\": 1, \"min\": 0.49342309779436433, \"max\": 0.49342309779436433}}}\u001b[0m\n",
      "\u001b[34m#metrics {\"StartTime\": 1729715362.2439003, \"EndTime\": 1729715362.2439096, \"Dimensions\": {\"Algorithm\": \"Linear Learner\", \"Host\": \"algo-1\", \"Operation\": \"training\", \"epoch\": 2, \"model\": 8}, \"Metrics\": {\"validation_binary_classification_cross_entropy_objective\": {\"sum\": 0.4810591461610972, \"count\": 1, \"min\": 0.4810591461610972, \"max\": 0.4810591461610972}}}\u001b[0m\n",
      "\u001b[34m#metrics {\"StartTime\": 1729715362.2439427, \"EndTime\": 1729715362.2439518, \"Dimensions\": {\"Algorithm\": \"Linear Learner\", \"Host\": \"algo-1\", \"Operation\": \"training\", \"epoch\": 2, \"model\": 9}, \"Metrics\": {\"validation_binary_classification_cross_entropy_objective\": {\"sum\": 0.4822629820451474, \"count\": 1, \"min\": 0.4822629820451474, \"max\": 0.4822629820451474}}}\u001b[0m\n",
      "\u001b[34m#metrics {\"StartTime\": 1729715362.2439797, \"EndTime\": 1729715362.243987, \"Dimensions\": {\"Algorithm\": \"Linear Learner\", \"Host\": \"algo-1\", \"Operation\": \"training\", \"epoch\": 2, \"model\": 10}, \"Metrics\": {\"validation_binary_classification_cross_entropy_objective\": {\"sum\": 0.48105885658191627, \"count\": 1, \"min\": 0.48105885658191627, \"max\": 0.48105885658191627}}}\u001b[0m\n",
      "\u001b[34m#metrics {\"StartTime\": 1729715362.2440207, \"EndTime\": 1729715362.2440295, \"Dimensions\": {\"Algorithm\": \"Linear Learner\", \"Host\": \"algo-1\", \"Operation\": \"training\", \"epoch\": 2, \"model\": 11}, \"Metrics\": {\"validation_binary_classification_cross_entropy_objective\": {\"sum\": 0.4822629187929939, \"count\": 1, \"min\": 0.4822629187929939, \"max\": 0.4822629187929939}}}\u001b[0m\n",
      "\u001b[34m#metrics {\"StartTime\": 1729715362.2440631, \"EndTime\": 1729715362.244073, \"Dimensions\": {\"Algorithm\": \"Linear Learner\", \"Host\": \"algo-1\", \"Operation\": \"training\", \"epoch\": 2, \"model\": 12}, \"Metrics\": {\"validation_binary_classification_cross_entropy_objective\": {\"sum\": 0.48158304397108803, \"count\": 1, \"min\": 0.48158304397108803, \"max\": 0.48158304397108803}}}\u001b[0m\n",
      "\u001b[34m#metrics {\"StartTime\": 1729715362.2440972, \"EndTime\": 1729715362.2441037, \"Dimensions\": {\"Algorithm\": \"Linear Learner\", \"Host\": \"algo-1\", \"Operation\": \"training\", \"epoch\": 2, \"model\": 13}, \"Metrics\": {\"validation_binary_classification_cross_entropy_objective\": {\"sum\": 0.4924321208935642, \"count\": 1, \"min\": 0.4924321208935642, \"max\": 0.4924321208935642}}}\u001b[0m\n",
      "\u001b[34m#metrics {\"StartTime\": 1729715362.244134, \"EndTime\": 1729715362.2441416, \"Dimensions\": {\"Algorithm\": \"Linear Learner\", \"Host\": \"algo-1\", \"Operation\": \"training\", \"epoch\": 2, \"model\": 14}, \"Metrics\": {\"validation_binary_classification_cross_entropy_objective\": {\"sum\": 0.4815829801591809, \"count\": 1, \"min\": 0.4815829801591809, \"max\": 0.4815829801591809}}}\u001b[0m\n",
      "\u001b[34m#metrics {\"StartTime\": 1729715362.244174, \"EndTime\": 1729715362.2441833, \"Dimensions\": {\"Algorithm\": \"Linear Learner\", \"Host\": \"algo-1\", \"Operation\": \"training\", \"epoch\": 2, \"model\": 15}, \"Metrics\": {\"validation_binary_classification_cross_entropy_objective\": {\"sum\": 0.49243250245891534, \"count\": 1, \"min\": 0.49243250245891534, \"max\": 0.49243250245891534}}}\u001b[0m\n",
      "\u001b[34m#metrics {\"StartTime\": 1729715362.2442176, \"EndTime\": 1729715362.2442276, \"Dimensions\": {\"Algorithm\": \"Linear Learner\", \"Host\": \"algo-1\", \"Operation\": \"training\", \"epoch\": 2, \"model\": 16}, \"Metrics\": {\"validation_binary_classification_cross_entropy_objective\": {\"sum\": 0.504524456024613, \"count\": 1, \"min\": 0.504524456024613, \"max\": 0.504524456024613}}}\u001b[0m\n",
      "\u001b[34m#metrics {\"StartTime\": 1729715362.244261, \"EndTime\": 1729715362.2442698, \"Dimensions\": {\"Algorithm\": \"Linear Learner\", \"Host\": \"algo-1\", \"Operation\": \"training\", \"epoch\": 2, \"model\": 17}, \"Metrics\": {\"validation_binary_classification_cross_entropy_objective\": {\"sum\": 0.5046494473178328, \"count\": 1, \"min\": 0.5046494473178328, \"max\": 0.5046494473178328}}}\u001b[0m\n",
      "\u001b[34m#metrics {\"StartTime\": 1729715362.244293, \"EndTime\": 1729715362.2442992, \"Dimensions\": {\"Algorithm\": \"Linear Learner\", \"Host\": \"algo-1\", \"Operation\": \"training\", \"epoch\": 2, \"model\": 18}, \"Metrics\": {\"validation_binary_classification_cross_entropy_objective\": {\"sum\": 0.5045230950770966, \"count\": 1, \"min\": 0.5045230950770966, \"max\": 0.5045230950770966}}}\u001b[0m\n",
      "\u001b[34m#metrics {\"StartTime\": 1729715362.244319, \"EndTime\": 1729715362.2443268, \"Dimensions\": {\"Algorithm\": \"Linear Learner\", \"Host\": \"algo-1\", \"Operation\": \"training\", \"epoch\": 2, \"model\": 19}, \"Metrics\": {\"validation_binary_classification_cross_entropy_objective\": {\"sum\": 0.5046497719749042, \"count\": 1, \"min\": 0.5046497719749042, \"max\": 0.5046497719749042}}}\u001b[0m\n",
      "\u001b[34m#metrics {\"StartTime\": 1729715362.2443557, \"EndTime\": 1729715362.244365, \"Dimensions\": {\"Algorithm\": \"Linear Learner\", \"Host\": \"algo-1\", \"Operation\": \"training\", \"epoch\": 2, \"model\": 20}, \"Metrics\": {\"validation_binary_classification_cross_entropy_objective\": {\"sum\": 0.5040293036129403, \"count\": 1, \"min\": 0.5040293036129403, \"max\": 0.5040293036129403}}}\u001b[0m\n",
      "\u001b[34m#metrics {\"StartTime\": 1729715362.2443988, \"EndTime\": 1729715362.244408, \"Dimensions\": {\"Algorithm\": \"Linear Learner\", \"Host\": \"algo-1\", \"Operation\": \"training\", \"epoch\": 2, \"model\": 21}, \"Metrics\": {\"validation_binary_classification_cross_entropy_objective\": {\"sum\": 0.5045752529148742, \"count\": 1, \"min\": 0.5045752529148742, \"max\": 0.5045752529148742}}}\u001b[0m\n",
      "\u001b[34m#metrics {\"StartTime\": 1729715362.24444, \"EndTime\": 1729715362.244447, \"Dimensions\": {\"Algorithm\": \"Linear Learner\", \"Host\": \"algo-1\", \"Operation\": \"training\", \"epoch\": 2, \"model\": 22}, \"Metrics\": {\"validation_binary_classification_cross_entropy_objective\": {\"sum\": 0.5040293567895296, \"count\": 1, \"min\": 0.5040293567895296, \"max\": 0.5040293567895296}}}\u001b[0m\n",
      "\u001b[34m#metrics {\"StartTime\": 1729715362.244471, \"EndTime\": 1729715362.244479, \"Dimensions\": {\"Algorithm\": \"Linear Learner\", \"Host\": \"algo-1\", \"Operation\": \"training\", \"epoch\": 2, \"model\": 23}, \"Metrics\": {\"validation_binary_classification_cross_entropy_objective\": {\"sum\": 0.5045747164843684, \"count\": 1, \"min\": 0.5045747164843684, \"max\": 0.5045747164843684}}}\u001b[0m\n",
      "\u001b[34m#metrics {\"StartTime\": 1729715362.2445478, \"EndTime\": 1729715362.2445605, \"Dimensions\": {\"Algorithm\": \"Linear Learner\", \"Host\": \"algo-1\", \"Operation\": \"training\", \"epoch\": 2, \"model\": 24}, \"Metrics\": {\"validation_binary_classification_cross_entropy_objective\": {\"sum\": 0.5137035184291415, \"count\": 1, \"min\": 0.5137035184291415, \"max\": 0.5137035184291415}}}\u001b[0m\n",
      "\u001b[34m#metrics {\"StartTime\": 1729715362.2445905, \"EndTime\": 1729715362.2445996, \"Dimensions\": {\"Algorithm\": \"Linear Learner\", \"Host\": \"algo-1\", \"Operation\": \"training\", \"epoch\": 2, \"model\": 25}, \"Metrics\": {\"validation_binary_classification_cross_entropy_objective\": {\"sum\": 0.5144661878944606, \"count\": 1, \"min\": 0.5144661878944606, \"max\": 0.5144661878944606}}}\u001b[0m\n",
      "\u001b[34m#metrics {\"StartTime\": 1729715362.2446368, \"EndTime\": 1729715362.2446463, \"Dimensions\": {\"Algorithm\": \"Linear Learner\", \"Host\": \"algo-1\", \"Operation\": \"training\", \"epoch\": 2, \"model\": 26}, \"Metrics\": {\"validation_binary_classification_cross_entropy_objective\": {\"sum\": 0.5137034283088165, \"count\": 1, \"min\": 0.5137034283088165, \"max\": 0.5137034283088165}}}\u001b[0m\n",
      "\u001b[34m#metrics {\"StartTime\": 1729715362.2446854, \"EndTime\": 1729715362.2447119, \"Dimensions\": {\"Algorithm\": \"Linear Learner\", \"Host\": \"algo-1\", \"Operation\": \"training\", \"epoch\": 2, \"model\": 27}, \"Metrics\": {\"validation_binary_classification_cross_entropy_objective\": {\"sum\": 0.5144448933759306, \"count\": 1, \"min\": 0.5144448933759306, \"max\": 0.5144448933759306}}}\u001b[0m\n",
      "\u001b[34m#metrics {\"StartTime\": 1729715362.2447467, \"EndTime\": 1729715362.2447567, \"Dimensions\": {\"Algorithm\": \"Linear Learner\", \"Host\": \"algo-1\", \"Operation\": \"training\", \"epoch\": 2, \"model\": 28}, \"Metrics\": {\"validation_binary_classification_cross_entropy_objective\": {\"sum\": 0.513886212292432, \"count\": 1, \"min\": 0.513886212292432, \"max\": 0.513886212292432}}}\u001b[0m\n",
      "\u001b[34m#metrics {\"StartTime\": 1729715362.2447944, \"EndTime\": 1729715362.2448041, \"Dimensions\": {\"Algorithm\": \"Linear Learner\", \"Host\": \"algo-1\", \"Operation\": \"training\", \"epoch\": 2, \"model\": 29}, \"Metrics\": {\"validation_binary_classification_cross_entropy_objective\": {\"sum\": 0.5141128664024479, \"count\": 1, \"min\": 0.5141128664024479, \"max\": 0.5141128664024479}}}\u001b[0m\n",
      "\u001b[34m#metrics {\"StartTime\": 1729715362.2448432, \"EndTime\": 1729715362.244854, \"Dimensions\": {\"Algorithm\": \"Linear Learner\", \"Host\": \"algo-1\", \"Operation\": \"training\", \"epoch\": 2, \"model\": 30}, \"Metrics\": {\"validation_binary_classification_cross_entropy_objective\": {\"sum\": 0.5138891420426245, \"count\": 1, \"min\": 0.5138891420426245, \"max\": 0.5138891420426245}}}\u001b[0m\n",
      "\u001b[34m#metrics {\"StartTime\": 1729715362.244893, \"EndTime\": 1729715362.244904, \"Dimensions\": {\"Algorithm\": \"Linear Learner\", \"Host\": \"algo-1\", \"Operation\": \"training\", \"epoch\": 2, \"model\": 31}, \"Metrics\": {\"validation_binary_classification_cross_entropy_objective\": {\"sum\": 0.5141129393569966, \"count\": 1, \"min\": 0.5141129393569966, \"max\": 0.5141129393569966}}}\u001b[0m\n",
      "\u001b[34m[10/23/2024 20:29:22 INFO 140160811239232] #quality_metric: host=algo-1, epoch=2, validation binary_classification_cross_entropy_objective <loss>=0.4807919894021662\u001b[0m\n",
      "\u001b[34m[10/23/2024 20:29:22 INFO 140160811239232] #early_stopping_criteria_metric: host=algo-1, epoch=2, criteria=binary_classification_cross_entropy_objective, value=0.4807913065028092\u001b[0m\n",
      "\u001b[34m[10/23/2024 20:29:22 INFO 140160811239232] Saving model for epoch: 2\u001b[0m\n",
      "\u001b[34m[10/23/2024 20:29:22 INFO 140160811239232] Saved checkpoint to \"/tmp/tmpspnua5_a/mx-mod-0000.params\"\u001b[0m\n",
      "\u001b[34m[10/23/2024 20:29:22 INFO 140160811239232] #progress_metric: host=algo-1, completed 20.0 % of epochs\u001b[0m\n",
      "\u001b[34m#metrics {\"StartTime\": 1729715325.7707248, \"EndTime\": 1729715362.249906, \"Dimensions\": {\"Algorithm\": \"Linear Learner\", \"Host\": \"algo-1\", \"Operation\": \"training\", \"epoch\": 2, \"Meta\": \"training_data_iter\"}, \"Metrics\": {\"Total Records Seen\": {\"sum\": 3937416.0, \"count\": 1, \"min\": 3937416, \"max\": 3937416}, \"Total Batches Seen\": {\"sum\": 3939.0, \"count\": 1, \"min\": 3939, \"max\": 3939}, \"Max Records Seen Between Resets\": {\"sum\": 1308472.0, \"count\": 1, \"min\": 1308472, \"max\": 1308472}, \"Max Batches Seen Between Resets\": {\"sum\": 1309.0, \"count\": 1, \"min\": 1309, \"max\": 1309}, \"Reset Count\": {\"sum\": 5.0, \"count\": 1, \"min\": 5, \"max\": 5}, \"Number of Records Since Last Reset\": {\"sum\": 1308472.0, \"count\": 1, \"min\": 1308472, \"max\": 1308472}, \"Number of Batches Since Last Reset\": {\"sum\": 1309.0, \"count\": 1, \"min\": 1309, \"max\": 1309}}}\u001b[0m\n",
      "\u001b[34m[10/23/2024 20:29:22 INFO 140160811239232] #throughput_metric: host=algo-1, train throughput=35868.89961788431 records/second\u001b[0m\n",
      "\u001b[34m[2024-10-23 20:29:55.074] [tensorio] [info] epoch_stats={\"data_pipeline\": \"/opt/ml/input/data/train\", \"epoch\": 9, \"duration\": 32819, \"num_examples\": 1309, \"num_bytes\": 507687136}\u001b[0m\n",
      "\u001b[34m#metrics {\"StartTime\": 1729715395.0745268, \"EndTime\": 1729715395.0746055, \"Dimensions\": {\"Algorithm\": \"Linear Learner\", \"Host\": \"algo-1\", \"Operation\": \"training\", \"epoch\": 3, \"model\": 0}, \"Metrics\": {\"train_binary_classification_cross_entropy_objective\": {\"sum\": 0.480638478247033, \"count\": 1, \"min\": 0.480638478247033, \"max\": 0.480638478247033}}}\u001b[0m\n",
      "\u001b[34m#metrics {\"StartTime\": 1729715395.0746877, \"EndTime\": 1729715395.0747056, \"Dimensions\": {\"Algorithm\": \"Linear Learner\", \"Host\": \"algo-1\", \"Operation\": \"training\", \"epoch\": 3, \"model\": 1}, \"Metrics\": {\"train_binary_classification_cross_entropy_objective\": {\"sum\": 0.4815913855409768, \"count\": 1, \"min\": 0.4815913855409768, \"max\": 0.4815913855409768}}}\u001b[0m\n",
      "\u001b[34m#metrics {\"StartTime\": 1729715395.0747461, \"EndTime\": 1729715395.0747564, \"Dimensions\": {\"Algorithm\": \"Linear Learner\", \"Host\": \"algo-1\", \"Operation\": \"training\", \"epoch\": 3, \"model\": 2}, \"Metrics\": {\"train_binary_classification_cross_entropy_objective\": {\"sum\": 0.4806529071819527, \"count\": 1, \"min\": 0.4806529071819527, \"max\": 0.4806529071819527}}}\u001b[0m\n",
      "\u001b[34m#metrics {\"StartTime\": 1729715395.0747893, \"EndTime\": 1729715395.0747986, \"Dimensions\": {\"Algorithm\": \"Linear Learner\", \"Host\": \"algo-1\", \"Operation\": \"training\", \"epoch\": 3, \"model\": 3}, \"Metrics\": {\"train_binary_classification_cross_entropy_objective\": {\"sum\": 0.4815913782148915, \"count\": 1, \"min\": 0.4815913782148915, \"max\": 0.4815913782148915}}}\u001b[0m\n",
      "\u001b[34m#metrics {\"StartTime\": 1729715395.074843, \"EndTime\": 1729715395.074853, \"Dimensions\": {\"Algorithm\": \"Linear Learner\", \"Host\": \"algo-1\", \"Operation\": \"training\", \"epoch\": 3, \"model\": 4}, \"Metrics\": {\"train_binary_classification_cross_entropy_objective\": {\"sum\": 0.480955358732731, \"count\": 1, \"min\": 0.480955358732731, \"max\": 0.480955358732731}}}\u001b[0m\n",
      "\u001b[34m#metrics {\"StartTime\": 1729715395.0748832, \"EndTime\": 1729715395.074892, \"Dimensions\": {\"Algorithm\": \"Linear Learner\", \"Host\": \"algo-1\", \"Operation\": \"training\", \"epoch\": 3, \"model\": 5}, \"Metrics\": {\"train_binary_classification_cross_entropy_objective\": {\"sum\": 0.49636833249246676, \"count\": 1, \"min\": 0.49636833249246676, \"max\": 0.49636833249246676}}}\u001b[0m\n",
      "\u001b[34m#metrics {\"StartTime\": 1729715395.0749238, \"EndTime\": 1729715395.0749323, \"Dimensions\": {\"Algorithm\": \"Linear Learner\", \"Host\": \"algo-1\", \"Operation\": \"training\", \"epoch\": 3, \"model\": 6}, \"Metrics\": {\"train_binary_classification_cross_entropy_objective\": {\"sum\": 0.4809553530865124, \"count\": 1, \"min\": 0.4809553530865124, \"max\": 0.4809553530865124}}}\u001b[0m\n",
      "\u001b[34m#metrics {\"StartTime\": 1729715395.0749612, \"EndTime\": 1729715395.074971, \"Dimensions\": {\"Algorithm\": \"Linear Learner\", \"Host\": \"algo-1\", \"Operation\": \"training\", \"epoch\": 3, \"model\": 7}, \"Metrics\": {\"train_binary_classification_cross_entropy_objective\": {\"sum\": 0.4963684257250678, \"count\": 1, \"min\": 0.4963684257250678, \"max\": 0.4963684257250678}}}\u001b[0m\n",
      "\u001b[34m#metrics {\"StartTime\": 1729715395.0750024, \"EndTime\": 1729715395.075013, \"Dimensions\": {\"Algorithm\": \"Linear Learner\", \"Host\": \"algo-1\", \"Operation\": \"training\", \"epoch\": 3, \"model\": 8}, \"Metrics\": {\"train_binary_classification_cross_entropy_objective\": {\"sum\": 0.48090545670628915, \"count\": 1, \"min\": 0.48090545670628915, \"max\": 0.48090545670628915}}}\u001b[0m\n",
      "\u001b[34m#metrics {\"StartTime\": 1729715395.0750456, \"EndTime\": 1729715395.0750558, \"Dimensions\": {\"Algorithm\": \"Linear Learner\", \"Host\": \"algo-1\", \"Operation\": \"training\", \"epoch\": 3, \"model\": 9}, \"Metrics\": {\"train_binary_classification_cross_entropy_objective\": {\"sum\": 0.48180444111955273, \"count\": 1, \"min\": 0.48180444111955273, \"max\": 0.48180444111955273}}}\u001b[0m\n",
      "\u001b[34m#metrics {\"StartTime\": 1729715395.0750875, \"EndTime\": 1729715395.0750966, \"Dimensions\": {\"Algorithm\": \"Linear Learner\", \"Host\": \"algo-1\", \"Operation\": \"training\", \"epoch\": 3, \"model\": 10}, \"Metrics\": {\"train_binary_classification_cross_entropy_objective\": {\"sum\": 0.4809204448268319, \"count\": 1, \"min\": 0.4809204448268319, \"max\": 0.4809204448268319}}}\u001b[0m\n",
      "\u001b[34m#metrics {\"StartTime\": 1729715395.075127, \"EndTime\": 1729715395.075134, \"Dimensions\": {\"Algorithm\": \"Linear Learner\", \"Host\": \"algo-1\", \"Operation\": \"training\", \"epoch\": 3, \"model\": 11}, \"Metrics\": {\"train_binary_classification_cross_entropy_objective\": {\"sum\": 0.48180444261276756, \"count\": 1, \"min\": 0.48180444261276756, \"max\": 0.48180444261276756}}}\u001b[0m\n",
      "\u001b[34m#metrics {\"StartTime\": 1729715395.075154, \"EndTime\": 1729715395.07516, \"Dimensions\": {\"Algorithm\": \"Linear Learner\", \"Host\": \"algo-1\", \"Operation\": \"training\", \"epoch\": 3, \"model\": 12}, \"Metrics\": {\"train_binary_classification_cross_entropy_objective\": {\"sum\": 0.48120135278730947, \"count\": 1, \"min\": 0.48120135278730947, \"max\": 0.48120135278730947}}}\u001b[0m\n",
      "\u001b[34m#metrics {\"StartTime\": 1729715395.0751789, \"EndTime\": 1729715395.0751843, \"Dimensions\": {\"Algorithm\": \"Linear Learner\", \"Host\": \"algo-1\", \"Operation\": \"training\", \"epoch\": 3, \"model\": 13}, \"Metrics\": {\"train_binary_classification_cross_entropy_objective\": {\"sum\": 0.4955437434251884, \"count\": 1, \"min\": 0.4955437434251884, \"max\": 0.4955437434251884}}}\u001b[0m\n",
      "\u001b[34m#metrics {\"StartTime\": 1729715395.0752056, \"EndTime\": 1729715395.0752113, \"Dimensions\": {\"Algorithm\": \"Linear Learner\", \"Host\": \"algo-1\", \"Operation\": \"training\", \"epoch\": 3, \"model\": 14}, \"Metrics\": {\"train_binary_classification_cross_entropy_objective\": {\"sum\": 0.4812013494509076, \"count\": 1, \"min\": 0.4812013494509076, \"max\": 0.4812013494509076}}}\u001b[0m\n",
      "\u001b[34m#metrics {\"StartTime\": 1729715395.0752294, \"EndTime\": 1729715395.075235, \"Dimensions\": {\"Algorithm\": \"Linear Learner\", \"Host\": \"algo-1\", \"Operation\": \"training\", \"epoch\": 3, \"model\": 15}, \"Metrics\": {\"train_binary_classification_cross_entropy_objective\": {\"sum\": 0.49554380982658547, \"count\": 1, \"min\": 0.49554380982658547, \"max\": 0.49554380982658547}}}\u001b[0m\n",
      "\u001b[34m#metrics {\"StartTime\": 1729715395.0752532, \"EndTime\": 1729715395.0752587, \"Dimensions\": {\"Algorithm\": \"Linear Learner\", \"Host\": \"algo-1\", \"Operation\": \"training\", \"epoch\": 3, \"model\": 16}, \"Metrics\": {\"train_binary_classification_cross_entropy_objective\": {\"sum\": 0.5045056871653332, \"count\": 1, \"min\": 0.5045056871653332, \"max\": 0.5045056871653332}}}\u001b[0m\n",
      "\u001b[34m#metrics {\"StartTime\": 1729715395.0752766, \"EndTime\": 1729715395.0752819, \"Dimensions\": {\"Algorithm\": \"Linear Learner\", \"Host\": \"algo-1\", \"Operation\": \"training\", \"epoch\": 3, \"model\": 17}, \"Metrics\": {\"train_binary_classification_cross_entropy_objective\": {\"sum\": 0.5047185089624621, \"count\": 1, \"min\": 0.5047185089624621, \"max\": 0.5047185089624621}}}\u001b[0m\n",
      "\u001b[34m#metrics {\"StartTime\": 1729715395.0752997, \"EndTime\": 1729715395.075305, \"Dimensions\": {\"Algorithm\": \"Linear Learner\", \"Host\": \"algo-1\", \"Operation\": \"training\", \"epoch\": 3, \"model\": 18}, \"Metrics\": {\"train_binary_classification_cross_entropy_objective\": {\"sum\": 0.5045094418540278, \"count\": 1, \"min\": 0.5045094418540278, \"max\": 0.5045094418540278}}}\u001b[0m\n",
      "\u001b[34m#metrics {\"StartTime\": 1729715395.075323, \"EndTime\": 1729715395.0753284, \"Dimensions\": {\"Algorithm\": \"Linear Learner\", \"Host\": \"algo-1\", \"Operation\": \"training\", \"epoch\": 3, \"model\": 19}, \"Metrics\": {\"train_binary_classification_cross_entropy_objective\": {\"sum\": 0.5047185124388529, \"count\": 1, \"min\": 0.5047185124388529, \"max\": 0.5047185124388529}}}\u001b[0m\n",
      "\u001b[34m#metrics {\"StartTime\": 1729715395.0753467, \"EndTime\": 1729715395.075352, \"Dimensions\": {\"Algorithm\": \"Linear Learner\", \"Host\": \"algo-1\", \"Operation\": \"training\", \"epoch\": 3, \"model\": 20}, \"Metrics\": {\"train_binary_classification_cross_entropy_objective\": {\"sum\": 0.5045738592351977, \"count\": 1, \"min\": 0.5045738592351977, \"max\": 0.5045738592351977}}}\u001b[0m\n",
      "\u001b[34m#metrics {\"StartTime\": 1729715395.07537, \"EndTime\": 1729715395.0753753, \"Dimensions\": {\"Algorithm\": \"Linear Learner\", \"Host\": \"algo-1\", \"Operation\": \"training\", \"epoch\": 3, \"model\": 21}, \"Metrics\": {\"train_binary_classification_cross_entropy_objective\": {\"sum\": 0.5074399614946558, \"count\": 1, \"min\": 0.5074399614946558, \"max\": 0.5074399614946558}}}\u001b[0m\n",
      "\u001b[34m#metrics {\"StartTime\": 1729715395.0753932, \"EndTime\": 1729715395.0753987, \"Dimensions\": {\"Algorithm\": \"Linear Learner\", \"Host\": \"algo-1\", \"Operation\": \"training\", \"epoch\": 3, \"model\": 22}, \"Metrics\": {\"train_binary_classification_cross_entropy_objective\": {\"sum\": 0.5045738654647034, \"count\": 1, \"min\": 0.5045738654647034, \"max\": 0.5045738654647034}}}\u001b[0m\n",
      "\u001b[34m#metrics {\"StartTime\": 1729715395.0754166, \"EndTime\": 1729715395.0754223, \"Dimensions\": {\"Algorithm\": \"Linear Learner\", \"Host\": \"algo-1\", \"Operation\": \"training\", \"epoch\": 3, \"model\": 23}, \"Metrics\": {\"train_binary_classification_cross_entropy_objective\": {\"sum\": 0.507439950995489, \"count\": 1, \"min\": 0.507439950995489, \"max\": 0.507439950995489}}}\u001b[0m\n",
      "\u001b[34m#metrics {\"StartTime\": 1729715395.0754402, \"EndTime\": 1729715395.0754454, \"Dimensions\": {\"Algorithm\": \"Linear Learner\", \"Host\": \"algo-1\", \"Operation\": \"training\", \"epoch\": 3, \"model\": 24}, \"Metrics\": {\"train_binary_classification_cross_entropy_objective\": {\"sum\": 0.513726699269146, \"count\": 1, \"min\": 0.513726699269146, \"max\": 0.513726699269146}}}\u001b[0m\n",
      "\u001b[34m#metrics {\"StartTime\": 1729715395.0754645, \"EndTime\": 1729715395.0754695, \"Dimensions\": {\"Algorithm\": \"Linear Learner\", \"Host\": \"algo-1\", \"Operation\": \"training\", \"epoch\": 3, \"model\": 25}, \"Metrics\": {\"train_binary_classification_cross_entropy_objective\": {\"sum\": 0.5138276658597707, \"count\": 1, \"min\": 0.5138276658597707, \"max\": 0.5138276658597707}}}\u001b[0m\n",
      "\u001b[34m#metrics {\"StartTime\": 1729715395.0754879, \"EndTime\": 1729715395.0754957, \"Dimensions\": {\"Algorithm\": \"Linear Learner\", \"Host\": \"algo-1\", \"Operation\": \"training\", \"epoch\": 3, \"model\": 26}, \"Metrics\": {\"train_binary_classification_cross_entropy_objective\": {\"sum\": 0.5137282569721934, \"count\": 1, \"min\": 0.5137282569721934, \"max\": 0.5137282569721934}}}\u001b[0m\n",
      "\u001b[34m#metrics {\"StartTime\": 1729715395.075523, \"EndTime\": 1729715395.0755289, \"Dimensions\": {\"Algorithm\": \"Linear Learner\", \"Host\": \"algo-1\", \"Operation\": \"training\", \"epoch\": 3, \"model\": 27}, \"Metrics\": {\"train_binary_classification_cross_entropy_objective\": {\"sum\": 0.5138286163376741, \"count\": 1, \"min\": 0.5138286163376741, \"max\": 0.5138286163376741}}}\u001b[0m\n",
      "\u001b[34m#metrics {\"StartTime\": 1729715395.0755544, \"EndTime\": 1729715395.07556, \"Dimensions\": {\"Algorithm\": \"Linear Learner\", \"Host\": \"algo-1\", \"Operation\": \"training\", \"epoch\": 3, \"model\": 28}, \"Metrics\": {\"train_binary_classification_cross_entropy_objective\": {\"sum\": 0.5137470819782409, \"count\": 1, \"min\": 0.5137470819782409, \"max\": 0.5137470819782409}}}\u001b[0m\n",
      "\u001b[34m#metrics {\"StartTime\": 1729715395.0755792, \"EndTime\": 1729715395.0755844, \"Dimensions\": {\"Algorithm\": \"Linear Learner\", \"Host\": \"algo-1\", \"Operation\": \"training\", \"epoch\": 3, \"model\": 29}, \"Metrics\": {\"train_binary_classification_cross_entropy_objective\": {\"sum\": 0.5148151709880304, \"count\": 1, \"min\": 0.5148151709880304, \"max\": 0.5148151709880304}}}\u001b[0m\n",
      "\u001b[34m#metrics {\"StartTime\": 1729715395.075611, \"EndTime\": 1729715395.0756192, \"Dimensions\": {\"Algorithm\": \"Linear Learner\", \"Host\": \"algo-1\", \"Operation\": \"training\", \"epoch\": 3, \"model\": 30}, \"Metrics\": {\"train_binary_classification_cross_entropy_objective\": {\"sum\": 0.513747281905708, \"count\": 1, \"min\": 0.513747281905708, \"max\": 0.513747281905708}}}\u001b[0m\n",
      "\u001b[34m#metrics {\"StartTime\": 1729715395.0756497, \"EndTime\": 1729715395.0756586, \"Dimensions\": {\"Algorithm\": \"Linear Learner\", \"Host\": \"algo-1\", \"Operation\": \"training\", \"epoch\": 3, \"model\": 31}, \"Metrics\": {\"train_binary_classification_cross_entropy_objective\": {\"sum\": 0.5148151824904509, \"count\": 1, \"min\": 0.5148151824904509, \"max\": 0.5148151824904509}}}\u001b[0m\n",
      "\u001b[34m[10/23/2024 20:29:55 INFO 140160811239232] #quality_metric: host=algo-1, epoch=3, train binary_classification_cross_entropy_objective <loss>=0.480638478247033\u001b[0m\n",
      "\u001b[34m[2024-10-23 20:29:58.003] [tensorio] [info] epoch_stats={\"data_pipeline\": \"/opt/ml/input/data/validation\", \"epoch\": 11, \"duration\": 2913, \"num_examples\": 164, \"num_bytes\": 63460892}\u001b[0m\n",
      "\u001b[34m#metrics {\"StartTime\": 1729715398.008638, \"EndTime\": 1729715398.0086932, \"Dimensions\": {\"Algorithm\": \"Linear Learner\", \"Host\": \"algo-1\", \"Operation\": \"training\", \"epoch\": 3, \"model\": 0}, \"Metrics\": {\"validation_binary_classification_cross_entropy_objective\": {\"sum\": 0.4807762746938199, \"count\": 1, \"min\": 0.4807762746938199, \"max\": 0.4807762746938199}}}\u001b[0m\n",
      "\u001b[34m#metrics {\"StartTime\": 1729715398.008762, \"EndTime\": 1729715398.0087729, \"Dimensions\": {\"Algorithm\": \"Linear Learner\", \"Host\": \"algo-1\", \"Operation\": \"training\", \"epoch\": 3, \"model\": 1}, \"Metrics\": {\"validation_binary_classification_cross_entropy_objective\": {\"sum\": 0.4819701365155669, \"count\": 1, \"min\": 0.4819701365155669, \"max\": 0.4819701365155669}}}\u001b[0m\n",
      "\u001b[34m#metrics {\"StartTime\": 1729715398.0087981, \"EndTime\": 1729715398.0088048, \"Dimensions\": {\"Algorithm\": \"Linear Learner\", \"Host\": \"algo-1\", \"Operation\": \"training\", \"epoch\": 3, \"model\": 2}, \"Metrics\": {\"validation_binary_classification_cross_entropy_objective\": {\"sum\": 0.4807872484760015, \"count\": 1, \"min\": 0.4807872484760015, \"max\": 0.4807872484760015}}}\u001b[0m\n",
      "\u001b[34m#metrics {\"StartTime\": 1729715398.0088263, \"EndTime\": 1729715398.0088322, \"Dimensions\": {\"Algorithm\": \"Linear Learner\", \"Host\": \"algo-1\", \"Operation\": \"training\", \"epoch\": 3, \"model\": 3}, \"Metrics\": {\"validation_binary_classification_cross_entropy_objective\": {\"sum\": 0.4819701520020824, \"count\": 1, \"min\": 0.4819701520020824, \"max\": 0.4819701520020824}}}\u001b[0m\n",
      "\u001b[34m#metrics {\"StartTime\": 1729715398.008852, \"EndTime\": 1729715398.0088575, \"Dimensions\": {\"Algorithm\": \"Linear Learner\", \"Host\": \"algo-1\", \"Operation\": \"training\", \"epoch\": 3, \"model\": 4}, \"Metrics\": {\"validation_binary_classification_cross_entropy_objective\": {\"sum\": 0.48088645565388005, \"count\": 1, \"min\": 0.48088645565388005, \"max\": 0.48088645565388005}}}\u001b[0m\n",
      "\u001b[34m#metrics {\"StartTime\": 1729715398.0088768, \"EndTime\": 1729715398.0088825, \"Dimensions\": {\"Algorithm\": \"Linear Learner\", \"Host\": \"algo-1\", \"Operation\": \"training\", \"epoch\": 3, \"model\": 5}, \"Metrics\": {\"validation_binary_classification_cross_entropy_objective\": {\"sum\": 0.4923883832421758, \"count\": 1, \"min\": 0.4923883832421758, \"max\": 0.4923883832421758}}}\u001b[0m\n",
      "\u001b[34m#metrics {\"StartTime\": 1729715398.0089054, \"EndTime\": 1729715398.0089118, \"Dimensions\": {\"Algorithm\": \"Linear Learner\", \"Host\": \"algo-1\", \"Operation\": \"training\", \"epoch\": 3, \"model\": 6}, \"Metrics\": {\"validation_binary_classification_cross_entropy_objective\": {\"sum\": 0.48088644539173125, \"count\": 1, \"min\": 0.48088644539173125, \"max\": 0.48088644539173125}}}\u001b[0m\n",
      "\u001b[34m#metrics {\"StartTime\": 1729715398.0089312, \"EndTime\": 1729715398.0089366, \"Dimensions\": {\"Algorithm\": \"Linear Learner\", \"Host\": \"algo-1\", \"Operation\": \"training\", \"epoch\": 3, \"model\": 7}, \"Metrics\": {\"validation_binary_classification_cross_entropy_objective\": {\"sum\": 0.49238837913731626, \"count\": 1, \"min\": 0.49238837913731626, \"max\": 0.49238837913731626}}}\u001b[0m\n",
      "\u001b[34m#metrics {\"StartTime\": 1729715398.0089595, \"EndTime\": 1729715398.0089648, \"Dimensions\": {\"Algorithm\": \"Linear Learner\", \"Host\": \"algo-1\", \"Operation\": \"training\", \"epoch\": 3, \"model\": 8}, \"Metrics\": {\"validation_binary_classification_cross_entropy_objective\": {\"sum\": 0.4810397398779478, \"count\": 1, \"min\": 0.4810397398779478, \"max\": 0.4810397398779478}}}\u001b[0m\n",
      "\u001b[34m#metrics {\"StartTime\": 1729715398.0089836, \"EndTime\": 1729715398.0089889, \"Dimensions\": {\"Algorithm\": \"Linear Learner\", \"Host\": \"algo-1\", \"Operation\": \"training\", \"epoch\": 3, \"model\": 9}, \"Metrics\": {\"validation_binary_classification_cross_entropy_objective\": {\"sum\": 0.4821032526318747, \"count\": 1, \"min\": 0.4821032526318747, \"max\": 0.4821032526318747}}}\u001b[0m\n",
      "\u001b[34m#metrics {\"StartTime\": 1729715398.0090096, \"EndTime\": 1729715398.0090153, \"Dimensions\": {\"Algorithm\": \"Linear Learner\", \"Host\": \"algo-1\", \"Operation\": \"training\", \"epoch\": 3, \"model\": 10}, \"Metrics\": {\"validation_binary_classification_cross_entropy_objective\": {\"sum\": 0.4810546474216443, \"count\": 1, \"min\": 0.4810546474216443, \"max\": 0.4810546474216443}}}\u001b[0m\n",
      "\u001b[34m#metrics {\"StartTime\": 1729715398.009036, \"EndTime\": 1729715398.0090415, \"Dimensions\": {\"Algorithm\": \"Linear Learner\", \"Host\": \"algo-1\", \"Operation\": \"training\", \"epoch\": 3, \"model\": 11}, \"Metrics\": {\"validation_binary_classification_cross_entropy_objective\": {\"sum\": 0.48210324255631043, \"count\": 1, \"min\": 0.48210324255631043, \"max\": 0.48210324255631043}}}\u001b[0m\n",
      "\u001b[34m#metrics {\"StartTime\": 1729715398.0090635, \"EndTime\": 1729715398.009071, \"Dimensions\": {\"Algorithm\": \"Linear Learner\", \"Host\": \"algo-1\", \"Operation\": \"training\", \"epoch\": 3, \"model\": 12}, \"Metrics\": {\"validation_binary_classification_cross_entropy_objective\": {\"sum\": 0.48115789751298416, \"count\": 1, \"min\": 0.48115789751298416, \"max\": 0.48115789751298416}}}\u001b[0m\n",
      "\u001b[34m#metrics {\"StartTime\": 1729715398.0090978, \"EndTime\": 1729715398.0091057, \"Dimensions\": {\"Algorithm\": \"Linear Learner\", \"Host\": \"algo-1\", \"Operation\": \"training\", \"epoch\": 3, \"model\": 13}, \"Metrics\": {\"validation_binary_classification_cross_entropy_objective\": {\"sum\": 0.4911143846735567, \"count\": 1, \"min\": 0.4911143846735567, \"max\": 0.4911143846735567}}}\u001b[0m\n",
      "\u001b[34m#metrics {\"StartTime\": 1729715398.009137, \"EndTime\": 1729715398.0091465, \"Dimensions\": {\"Algorithm\": \"Linear Learner\", \"Host\": \"algo-1\", \"Operation\": \"training\", \"epoch\": 3, \"model\": 14}, \"Metrics\": {\"validation_binary_classification_cross_entropy_objective\": {\"sum\": 0.48115789471421627, \"count\": 1, \"min\": 0.48115789471421627, \"max\": 0.48115789471421627}}}\u001b[0m\n",
      "\u001b[34m#metrics {\"StartTime\": 1729715398.009177, \"EndTime\": 1729715398.0091856, \"Dimensions\": {\"Algorithm\": \"Linear Learner\", \"Host\": \"algo-1\", \"Operation\": \"training\", \"epoch\": 3, \"model\": 15}, \"Metrics\": {\"validation_binary_classification_cross_entropy_objective\": {\"sum\": 0.49111452554487217, \"count\": 1, \"min\": 0.49111452554487217, \"max\": 0.49111452554487217}}}\u001b[0m\n",
      "\u001b[34m#metrics {\"StartTime\": 1729715398.0092144, \"EndTime\": 1729715398.0092237, \"Dimensions\": {\"Algorithm\": \"Linear Learner\", \"Host\": \"algo-1\", \"Operation\": \"training\", \"epoch\": 3, \"model\": 16}, \"Metrics\": {\"validation_binary_classification_cross_entropy_objective\": {\"sum\": 0.5044994092913099, \"count\": 1, \"min\": 0.5044994092913099, \"max\": 0.5044994092913099}}}\u001b[0m\n",
      "\u001b[34m#metrics {\"StartTime\": 1729715398.009258, \"EndTime\": 1729715398.0092676, \"Dimensions\": {\"Algorithm\": \"Linear Learner\", \"Host\": \"algo-1\", \"Operation\": \"training\", \"epoch\": 3, \"model\": 17}, \"Metrics\": {\"validation_binary_classification_cross_entropy_objective\": {\"sum\": 0.504554043852056, \"count\": 1, \"min\": 0.504554043852056, \"max\": 0.504554043852056}}}\u001b[0m\n",
      "\u001b[34m#metrics {\"StartTime\": 1729715398.009302, \"EndTime\": 1729715398.009311, \"Dimensions\": {\"Algorithm\": \"Linear Learner\", \"Host\": \"algo-1\", \"Operation\": \"training\", \"epoch\": 3, \"model\": 18}, \"Metrics\": {\"validation_binary_classification_cross_entropy_objective\": {\"sum\": 0.5045190247357103, \"count\": 1, \"min\": 0.5045190247357103, \"max\": 0.5045190247357103}}}\u001b[0m\n",
      "\u001b[34m#metrics {\"StartTime\": 1729715398.0093458, \"EndTime\": 1729715398.009355, \"Dimensions\": {\"Algorithm\": \"Linear Learner\", \"Host\": \"algo-1\", \"Operation\": \"training\", \"epoch\": 3, \"model\": 19}, \"Metrics\": {\"validation_binary_classification_cross_entropy_objective\": {\"sum\": 0.5045541707295322, \"count\": 1, \"min\": 0.5045541707295322, \"max\": 0.5045541707295322}}}\u001b[0m\n",
      "\u001b[34m#metrics {\"StartTime\": 1729715398.0093834, \"EndTime\": 1729715398.0093925, \"Dimensions\": {\"Algorithm\": \"Linear Learner\", \"Host\": \"algo-1\", \"Operation\": \"training\", \"epoch\": 3, \"model\": 20}, \"Metrics\": {\"validation_binary_classification_cross_entropy_objective\": {\"sum\": 0.504280754619582, \"count\": 1, \"min\": 0.504280754619582, \"max\": 0.504280754619582}}}\u001b[0m\n",
      "\u001b[34m#metrics {\"StartTime\": 1729715398.009417, \"EndTime\": 1729715398.009423, \"Dimensions\": {\"Algorithm\": \"Linear Learner\", \"Host\": \"algo-1\", \"Operation\": \"training\", \"epoch\": 3, \"model\": 21}, \"Metrics\": {\"validation_binary_classification_cross_entropy_objective\": {\"sum\": 0.5038452174559334, \"count\": 1, \"min\": 0.5038452174559334, \"max\": 0.5038452174559334}}}\u001b[0m\n",
      "\u001b[34m#metrics {\"StartTime\": 1729715398.009442, \"EndTime\": 1729715398.0094476, \"Dimensions\": {\"Algorithm\": \"Linear Learner\", \"Host\": \"algo-1\", \"Operation\": \"training\", \"epoch\": 3, \"model\": 22}, \"Metrics\": {\"validation_binary_classification_cross_entropy_objective\": {\"sum\": 0.5042807471562011, \"count\": 1, \"min\": 0.5042807471562011, \"max\": 0.5042807471562011}}}\u001b[0m\n",
      "\u001b[34m#metrics {\"StartTime\": 1729715398.0094817, \"EndTime\": 1729715398.009491, \"Dimensions\": {\"Algorithm\": \"Linear Learner\", \"Host\": \"algo-1\", \"Operation\": \"training\", \"epoch\": 3, \"model\": 23}, \"Metrics\": {\"validation_binary_classification_cross_entropy_objective\": {\"sum\": 0.503845223053469, \"count\": 1, \"min\": 0.503845223053469, \"max\": 0.503845223053469}}}\u001b[0m\n",
      "\u001b[34m#metrics {\"StartTime\": 1729715398.0095272, \"EndTime\": 1729715398.0095365, \"Dimensions\": {\"Algorithm\": \"Linear Learner\", \"Host\": \"algo-1\", \"Operation\": \"training\", \"epoch\": 3, \"model\": 24}, \"Metrics\": {\"validation_binary_classification_cross_entropy_objective\": {\"sum\": 0.5137086394279812, \"count\": 1, \"min\": 0.5137086394279812, \"max\": 0.5137086394279812}}}\u001b[0m\n",
      "\u001b[34m#metrics {\"StartTime\": 1729715398.0095708, \"EndTime\": 1729715398.0095813, \"Dimensions\": {\"Algorithm\": \"Linear Learner\", \"Host\": \"algo-1\", \"Operation\": \"training\", \"epoch\": 3, \"model\": 25}, \"Metrics\": {\"validation_binary_classification_cross_entropy_objective\": {\"sum\": 0.5143873268259777, \"count\": 1, \"min\": 0.5143873268259777, \"max\": 0.5143873268259777}}}\u001b[0m\n",
      "\u001b[34m#metrics {\"StartTime\": 1729715398.009619, \"EndTime\": 1729715398.0096288, \"Dimensions\": {\"Algorithm\": \"Linear Learner\", \"Host\": \"algo-1\", \"Operation\": \"training\", \"epoch\": 3, \"model\": 26}, \"Metrics\": {\"validation_binary_classification_cross_entropy_objective\": {\"sum\": 0.5137021423682786, \"count\": 1, \"min\": 0.5137021423682786, \"max\": 0.5137021423682786}}}\u001b[0m\n",
      "\u001b[34m#metrics {\"StartTime\": 1729715398.0096774, \"EndTime\": 1729715398.0096889, \"Dimensions\": {\"Algorithm\": \"Linear Learner\", \"Host\": \"algo-1\", \"Operation\": \"training\", \"epoch\": 3, \"model\": 27}, \"Metrics\": {\"validation_binary_classification_cross_entropy_objective\": {\"sum\": 0.5143627191260589, \"count\": 1, \"min\": 0.5143627191260589, \"max\": 0.5143627191260589}}}\u001b[0m\n",
      "\u001b[34m#metrics {\"StartTime\": 1729715398.0097287, \"EndTime\": 1729715398.0097358, \"Dimensions\": {\"Algorithm\": \"Linear Learner\", \"Host\": \"algo-1\", \"Operation\": \"training\", \"epoch\": 3, \"model\": 28}, \"Metrics\": {\"validation_binary_classification_cross_entropy_objective\": {\"sum\": 0.5137202311781055, \"count\": 1, \"min\": 0.5137202311781055, \"max\": 0.5137202311781055}}}\u001b[0m\n",
      "\u001b[34m#metrics {\"StartTime\": 1729715398.0097716, \"EndTime\": 1729715398.0097792, \"Dimensions\": {\"Algorithm\": \"Linear Learner\", \"Host\": \"algo-1\", \"Operation\": \"training\", \"epoch\": 3, \"model\": 29}, \"Metrics\": {\"validation_binary_classification_cross_entropy_objective\": {\"sum\": 0.513920896676142, \"count\": 1, \"min\": 0.513920896676142, \"max\": 0.513920896676142}}}\u001b[0m\n",
      "\u001b[34m#metrics {\"StartTime\": 1729715398.0098035, \"EndTime\": 1729715398.0098097, \"Dimensions\": {\"Algorithm\": \"Linear Learner\", \"Host\": \"algo-1\", \"Operation\": \"training\", \"epoch\": 3, \"model\": 30}, \"Metrics\": {\"validation_binary_classification_cross_entropy_objective\": {\"sum\": 0.5137211025278317, \"count\": 1, \"min\": 0.5137211025278317, \"max\": 0.5137211025278317}}}\u001b[0m\n",
      "\u001b[34m#metrics {\"StartTime\": 1729715398.0098393, \"EndTime\": 1729715398.0098455, \"Dimensions\": {\"Algorithm\": \"Linear Learner\", \"Host\": \"algo-1\", \"Operation\": \"training\", \"epoch\": 3, \"model\": 31}, \"Metrics\": {\"validation_binary_classification_cross_entropy_objective\": {\"sum\": 0.5139208996614945, \"count\": 1, \"min\": 0.5139208996614945, \"max\": 0.5139208996614945}}}\u001b[0m\n",
      "\u001b[34m[10/23/2024 20:29:58 INFO 140160811239232] #quality_metric: host=algo-1, epoch=3, validation binary_classification_cross_entropy_objective <loss>=0.4807762746938199\u001b[0m\n",
      "\u001b[34m[10/23/2024 20:29:58 INFO 140160811239232] #early_stopping_criteria_metric: host=algo-1, epoch=3, criteria=binary_classification_cross_entropy_objective, value=0.4807762746938199\u001b[0m\n",
      "\u001b[34m[10/23/2024 20:29:58 INFO 140160811239232] Saving model for epoch: 3\u001b[0m\n",
      "\u001b[34m[10/23/2024 20:29:58 INFO 140160811239232] Saved checkpoint to \"/tmp/tmpg83005xx/mx-mod-0000.params\"\u001b[0m\n",
      "\u001b[34m[10/23/2024 20:29:58 INFO 140160811239232] #progress_metric: host=algo-1, completed 26.666666666666668 % of epochs\u001b[0m\n",
      "\u001b[34m#metrics {\"StartTime\": 1729715362.2548542, \"EndTime\": 1729715398.0155764, \"Dimensions\": {\"Algorithm\": \"Linear Learner\", \"Host\": \"algo-1\", \"Operation\": \"training\", \"epoch\": 3, \"Meta\": \"training_data_iter\"}, \"Metrics\": {\"Total Records Seen\": {\"sum\": 5245888.0, \"count\": 1, \"min\": 5245888, \"max\": 5245888}, \"Total Batches Seen\": {\"sum\": 5248.0, \"count\": 1, \"min\": 5248, \"max\": 5248}, \"Max Records Seen Between Resets\": {\"sum\": 1308472.0, \"count\": 1, \"min\": 1308472, \"max\": 1308472}, \"Max Batches Seen Between Resets\": {\"sum\": 1309.0, \"count\": 1, \"min\": 1309, \"max\": 1309}, \"Reset Count\": {\"sum\": 6.0, \"count\": 1, \"min\": 6, \"max\": 6}, \"Number of Records Since Last Reset\": {\"sum\": 1308472.0, \"count\": 1, \"min\": 1308472, \"max\": 1308472}, \"Number of Batches Since Last Reset\": {\"sum\": 1309.0, \"count\": 1, \"min\": 1309, \"max\": 1309}}}\u001b[0m\n",
      "\u001b[34m[10/23/2024 20:29:58 INFO 140160811239232] #throughput_metric: host=algo-1, train throughput=36589.52552502948 records/second\u001b[0m\n",
      "\u001b[34m[2024-10-23 20:30:31.512] [tensorio] [info] epoch_stats={\"data_pipeline\": \"/opt/ml/input/data/train\", \"epoch\": 11, \"duration\": 33494, \"num_examples\": 1309, \"num_bytes\": 507687136}\u001b[0m\n",
      "\u001b[34m#metrics {\"StartTime\": 1729715431.512113, \"EndTime\": 1729715431.5121906, \"Dimensions\": {\"Algorithm\": \"Linear Learner\", \"Host\": \"algo-1\", \"Operation\": \"training\", \"epoch\": 4, \"model\": 0}, \"Metrics\": {\"train_binary_classification_cross_entropy_objective\": {\"sum\": 0.48061401728825465, \"count\": 1, \"min\": 0.48061401728825465, \"max\": 0.48061401728825465}}}\u001b[0m\n",
      "\u001b[34m#metrics {\"StartTime\": 1729715431.512274, \"EndTime\": 1729715431.5122895, \"Dimensions\": {\"Algorithm\": \"Linear Learner\", \"Host\": \"algo-1\", \"Operation\": \"training\", \"epoch\": 4, \"model\": 1}, \"Metrics\": {\"train_binary_classification_cross_entropy_objective\": {\"sum\": 0.48147393133880895, \"count\": 1, \"min\": 0.48147393133880895, \"max\": 0.48147393133880895}}}\u001b[0m\n",
      "\u001b[34m#metrics {\"StartTime\": 1729715431.512331, \"EndTime\": 1729715431.512341, \"Dimensions\": {\"Algorithm\": \"Linear Learner\", \"Host\": \"algo-1\", \"Operation\": \"training\", \"epoch\": 4, \"model\": 2}, \"Metrics\": {\"train_binary_classification_cross_entropy_objective\": {\"sum\": 0.48065230714290513, \"count\": 1, \"min\": 0.48065230714290513, \"max\": 0.48065230714290513}}}\u001b[0m\n",
      "\u001b[34m#metrics {\"StartTime\": 1729715431.5123763, \"EndTime\": 1729715431.5123858, \"Dimensions\": {\"Algorithm\": \"Linear Learner\", \"Host\": \"algo-1\", \"Operation\": \"training\", \"epoch\": 4, \"model\": 3}, \"Metrics\": {\"train_binary_classification_cross_entropy_objective\": {\"sum\": 0.4814739297289367, \"count\": 1, \"min\": 0.4814739297289367, \"max\": 0.4814739297289367}}}\u001b[0m\n",
      "\u001b[34m#metrics {\"StartTime\": 1729715431.512424, \"EndTime\": 1729715431.5124354, \"Dimensions\": {\"Algorithm\": \"Linear Learner\", \"Host\": \"algo-1\", \"Operation\": \"training\", \"epoch\": 4, \"model\": 4}, \"Metrics\": {\"train_binary_classification_cross_entropy_objective\": {\"sum\": 0.4807259558348116, \"count\": 1, \"min\": 0.4807259558348116, \"max\": 0.4807259558348116}}}\u001b[0m\n",
      "\u001b[34m#metrics {\"StartTime\": 1729715431.5124707, \"EndTime\": 1729715431.5124807, \"Dimensions\": {\"Algorithm\": \"Linear Learner\", \"Host\": \"algo-1\", \"Operation\": \"training\", \"epoch\": 4, \"model\": 5}, \"Metrics\": {\"train_binary_classification_cross_entropy_objective\": {\"sum\": 0.49445034962692025, \"count\": 1, \"min\": 0.49445034962692025, \"max\": 0.49445034962692025}}}\u001b[0m\n",
      "\u001b[34m#metrics {\"StartTime\": 1729715431.5125241, \"EndTime\": 1729715431.5125353, \"Dimensions\": {\"Algorithm\": \"Linear Learner\", \"Host\": \"algo-1\", \"Operation\": \"training\", \"epoch\": 4, \"model\": 6}, \"Metrics\": {\"train_binary_classification_cross_entropy_objective\": {\"sum\": 0.48072595602146345, \"count\": 1, \"min\": 0.48072595602146345, \"max\": 0.48072595602146345}}}\u001b[0m\n",
      "\u001b[34m#metrics {\"StartTime\": 1729715431.5125716, \"EndTime\": 1729715431.5125818, \"Dimensions\": {\"Algorithm\": \"Linear Learner\", \"Host\": \"algo-1\", \"Operation\": \"training\", \"epoch\": 4, \"model\": 7}, \"Metrics\": {\"train_binary_classification_cross_entropy_objective\": {\"sum\": 0.49445036686888527, \"count\": 1, \"min\": 0.49445036686888527, \"max\": 0.49445036686888527}}}\u001b[0m\n",
      "\u001b[34m#metrics {\"StartTime\": 1729715431.5126216, \"EndTime\": 1729715431.5126321, \"Dimensions\": {\"Algorithm\": \"Linear Learner\", \"Host\": \"algo-1\", \"Operation\": \"training\", \"epoch\": 4, \"model\": 8}, \"Metrics\": {\"train_binary_classification_cross_entropy_objective\": {\"sum\": 0.4808819098283027, \"count\": 1, \"min\": 0.4808819098283027, \"max\": 0.4808819098283027}}}\u001b[0m\n",
      "\u001b[34m#metrics {\"StartTime\": 1729715431.5126677, \"EndTime\": 1729715431.5126786, \"Dimensions\": {\"Algorithm\": \"Linear Learner\", \"Host\": \"algo-1\", \"Operation\": \"training\", \"epoch\": 4, \"model\": 9}, \"Metrics\": {\"train_binary_classification_cross_entropy_objective\": {\"sum\": 0.4816943070531256, \"count\": 1, \"min\": 0.4816943070531256, \"max\": 0.4816943070531256}}}\u001b[0m\n",
      "\u001b[34m#metrics {\"StartTime\": 1729715431.5127165, \"EndTime\": 1729715431.512728, \"Dimensions\": {\"Algorithm\": \"Linear Learner\", \"Host\": \"algo-1\", \"Operation\": \"training\", \"epoch\": 4, \"model\": 10}, \"Metrics\": {\"train_binary_classification_cross_entropy_objective\": {\"sum\": 0.480919625331867, \"count\": 1, \"min\": 0.480919625331867, \"max\": 0.480919625331867}}}\u001b[0m\n",
      "\u001b[34m#metrics {\"StartTime\": 1729715431.512764, \"EndTime\": 1729715431.512775, \"Dimensions\": {\"Algorithm\": \"Linear Learner\", \"Host\": \"algo-1\", \"Operation\": \"training\", \"epoch\": 4, \"model\": 11}, \"Metrics\": {\"train_binary_classification_cross_entropy_objective\": {\"sum\": 0.481694307169783, \"count\": 1, \"min\": 0.481694307169783, \"max\": 0.481694307169783}}}\u001b[0m\n",
      "\u001b[34m#metrics {\"StartTime\": 1729715431.5128114, \"EndTime\": 1729715431.512823, \"Dimensions\": {\"Algorithm\": \"Linear Learner\", \"Host\": \"algo-1\", \"Operation\": \"training\", \"epoch\": 4, \"model\": 12}, \"Metrics\": {\"train_binary_classification_cross_entropy_objective\": {\"sum\": 0.48098697307714994, \"count\": 1, \"min\": 0.48098697307714994, \"max\": 0.48098697307714994}}}\u001b[0m\n",
      "\u001b[34m#metrics {\"StartTime\": 1729715431.5128596, \"EndTime\": 1729715431.5128703, \"Dimensions\": {\"Algorithm\": \"Linear Learner\", \"Host\": \"algo-1\", \"Operation\": \"training\", \"epoch\": 4, \"model\": 13}, \"Metrics\": {\"train_binary_classification_cross_entropy_objective\": {\"sum\": 0.49378623766417895, \"count\": 1, \"min\": 0.49378623766417895, \"max\": 0.49378623766417895}}}\u001b[0m\n",
      "\u001b[34m#metrics {\"StartTime\": 1729715431.5129113, \"EndTime\": 1729715431.5129216, \"Dimensions\": {\"Algorithm\": \"Linear Learner\", \"Host\": \"algo-1\", \"Operation\": \"training\", \"epoch\": 4, \"model\": 14}, \"Metrics\": {\"train_binary_classification_cross_entropy_objective\": {\"sum\": 0.4809869728438351, \"count\": 1, \"min\": 0.4809869728438351, \"max\": 0.4809869728438351}}}\u001b[0m\n",
      "\u001b[34m#metrics {\"StartTime\": 1729715431.5129573, \"EndTime\": 1729715431.5129673, \"Dimensions\": {\"Algorithm\": \"Linear Learner\", \"Host\": \"algo-1\", \"Operation\": \"training\", \"epoch\": 4, \"model\": 15}, \"Metrics\": {\"train_binary_classification_cross_entropy_objective\": {\"sum\": 0.49378624634349016, \"count\": 1, \"min\": 0.49378624634349016, \"max\": 0.49378624634349016}}}\u001b[0m\n",
      "\u001b[34m#metrics {\"StartTime\": 1729715431.513006, \"EndTime\": 1729715431.5130165, \"Dimensions\": {\"Algorithm\": \"Linear Learner\", \"Host\": \"algo-1\", \"Operation\": \"training\", \"epoch\": 4, \"model\": 16}, \"Metrics\": {\"train_binary_classification_cross_entropy_objective\": {\"sum\": 0.5044966973587642, \"count\": 1, \"min\": 0.5044966973587642, \"max\": 0.5044966973587642}}}\u001b[0m\n",
      "\u001b[34m#metrics {\"StartTime\": 1729715431.5130491, \"EndTime\": 1729715431.5130591, \"Dimensions\": {\"Algorithm\": \"Linear Learner\", \"Host\": \"algo-1\", \"Operation\": \"training\", \"epoch\": 4, \"model\": 17}, \"Metrics\": {\"train_binary_classification_cross_entropy_objective\": {\"sum\": 0.5046917530258132, \"count\": 1, \"min\": 0.5046917530258132, \"max\": 0.5046917530258132}}}\u001b[0m\n",
      "\u001b[34m#metrics {\"StartTime\": 1729715431.5130994, \"EndTime\": 1729715431.513109, \"Dimensions\": {\"Algorithm\": \"Linear Learner\", \"Host\": \"algo-1\", \"Operation\": \"training\", \"epoch\": 4, \"model\": 18}, \"Metrics\": {\"train_binary_classification_cross_entropy_objective\": {\"sum\": 0.504509159753082, \"count\": 1, \"min\": 0.504509159753082, \"max\": 0.504509159753082}}}\u001b[0m\n",
      "\u001b[34m#metrics {\"StartTime\": 1729715431.5140102, \"EndTime\": 1729715431.5140297, \"Dimensions\": {\"Algorithm\": \"Linear Learner\", \"Host\": \"algo-1\", \"Operation\": \"training\", \"epoch\": 4, \"model\": 19}, \"Metrics\": {\"train_binary_classification_cross_entropy_objective\": {\"sum\": 0.5046917542157188, \"count\": 1, \"min\": 0.5046917542157188, \"max\": 0.5046917542157188}}}\u001b[0m\n",
      "\u001b[34m#metrics {\"StartTime\": 1729715431.514075, \"EndTime\": 1729715431.5140855, \"Dimensions\": {\"Algorithm\": \"Linear Learner\", \"Host\": \"algo-1\", \"Operation\": \"training\", \"epoch\": 4, \"model\": 20}, \"Metrics\": {\"train_binary_classification_cross_entropy_objective\": {\"sum\": 0.5045203158877312, \"count\": 1, \"min\": 0.5045203158877312, \"max\": 0.5045203158877312}}}\u001b[0m\n",
      "\u001b[34m#metrics {\"StartTime\": 1729715431.5141234, \"EndTime\": 1729715431.514134, \"Dimensions\": {\"Algorithm\": \"Linear Learner\", \"Host\": \"algo-1\", \"Operation\": \"training\", \"epoch\": 4, \"model\": 21}, \"Metrics\": {\"train_binary_classification_cross_entropy_objective\": {\"sum\": 0.5071134308981239, \"count\": 1, \"min\": 0.5071134308981239, \"max\": 0.5071134308981239}}}\u001b[0m\n",
      "\u001b[34m#metrics {\"StartTime\": 1729715431.5141687, \"EndTime\": 1729715431.514179, \"Dimensions\": {\"Algorithm\": \"Linear Learner\", \"Host\": \"algo-1\", \"Operation\": \"training\", \"epoch\": 4, \"model\": 22}, \"Metrics\": {\"train_binary_classification_cross_entropy_objective\": {\"sum\": 0.5045203170309738, \"count\": 1, \"min\": 0.5045203170309738, \"max\": 0.5045203170309738}}}\u001b[0m\n",
      "\u001b[34m#metrics {\"StartTime\": 1729715431.5142133, \"EndTime\": 1729715431.5142233, \"Dimensions\": {\"Algorithm\": \"Linear Learner\", \"Host\": \"algo-1\", \"Operation\": \"training\", \"epoch\": 4, \"model\": 23}, \"Metrics\": {\"train_binary_classification_cross_entropy_objective\": {\"sum\": 0.5071134286116387, \"count\": 1, \"min\": 0.5071134286116387, \"max\": 0.5071134286116387}}}\u001b[0m\n",
      "\u001b[34m#metrics {\"StartTime\": 1729715431.5142741, \"EndTime\": 1729715431.5142848, \"Dimensions\": {\"Algorithm\": \"Linear Learner\", \"Host\": \"algo-1\", \"Operation\": \"training\", \"epoch\": 4, \"model\": 24}, \"Metrics\": {\"train_binary_classification_cross_entropy_objective\": {\"sum\": 0.5137249125209423, \"count\": 1, \"min\": 0.5137249125209423, \"max\": 0.5137249125209423}}}\u001b[0m\n",
      "\u001b[34m#metrics {\"StartTime\": 1729715431.514323, \"EndTime\": 1729715431.5143332, \"Dimensions\": {\"Algorithm\": \"Linear Learner\", \"Host\": \"algo-1\", \"Operation\": \"training\", \"epoch\": 4, \"model\": 25}, \"Metrics\": {\"train_binary_classification_cross_entropy_objective\": {\"sum\": 0.5138154062860238, \"count\": 1, \"min\": 0.5138154062860238, \"max\": 0.5138154062860238}}}\u001b[0m\n",
      "\u001b[34m#metrics {\"StartTime\": 1729715431.5143695, \"EndTime\": 1729715431.5143797, \"Dimensions\": {\"Algorithm\": \"Linear Learner\", \"Host\": \"algo-1\", \"Operation\": \"training\", \"epoch\": 4, \"model\": 26}, \"Metrics\": {\"train_binary_classification_cross_entropy_objective\": {\"sum\": 0.5137281692691534, \"count\": 1, \"min\": 0.5137281692691534, \"max\": 0.5137281692691534}}}\u001b[0m\n",
      "\u001b[34m#metrics {\"StartTime\": 1729715431.514411, \"EndTime\": 1729715431.5144198, \"Dimensions\": {\"Algorithm\": \"Linear Learner\", \"Host\": \"algo-1\", \"Operation\": \"training\", \"epoch\": 4, \"model\": 27}, \"Metrics\": {\"train_binary_classification_cross_entropy_objective\": {\"sum\": 0.513815723127546, \"count\": 1, \"min\": 0.513815723127546, \"max\": 0.513815723127546}}}\u001b[0m\n",
      "\u001b[34m#metrics {\"StartTime\": 1729715431.5144541, \"EndTime\": 1729715431.5144637, \"Dimensions\": {\"Algorithm\": \"Linear Learner\", \"Host\": \"algo-1\", \"Operation\": \"training\", \"epoch\": 4, \"model\": 28}, \"Metrics\": {\"train_binary_classification_cross_entropy_objective\": {\"sum\": 0.5137338783194165, \"count\": 1, \"min\": 0.5137338783194165, \"max\": 0.5137338783194165}}}\u001b[0m\n",
      "\u001b[34m#metrics {\"StartTime\": 1729715431.5145028, \"EndTime\": 1729715431.5145133, \"Dimensions\": {\"Algorithm\": \"Linear Learner\", \"Host\": \"algo-1\", \"Operation\": \"training\", \"epoch\": 4, \"model\": 29}, \"Metrics\": {\"train_binary_classification_cross_entropy_objective\": {\"sum\": 0.5146780722381872, \"count\": 1, \"min\": 0.5146780722381872, \"max\": 0.5146780722381872}}}\u001b[0m\n",
      "\u001b[34m#metrics {\"StartTime\": 1729715431.5145504, \"EndTime\": 1729715431.51456, \"Dimensions\": {\"Algorithm\": \"Linear Learner\", \"Host\": \"algo-1\", \"Operation\": \"training\", \"epoch\": 4, \"model\": 30}, \"Metrics\": {\"train_binary_classification_cross_entropy_objective\": {\"sum\": 0.5137340052426773, \"count\": 1, \"min\": 0.5137340052426773, \"max\": 0.5137340052426773}}}\u001b[0m\n",
      "\u001b[34m#metrics {\"StartTime\": 1729715431.514596, \"EndTime\": 1729715431.5146055, \"Dimensions\": {\"Algorithm\": \"Linear Learner\", \"Host\": \"algo-1\", \"Operation\": \"training\", \"epoch\": 4, \"model\": 31}, \"Metrics\": {\"train_binary_classification_cross_entropy_objective\": {\"sum\": 0.5146780724481705, \"count\": 1, \"min\": 0.5146780724481705, \"max\": 0.5146780724481705}}}\u001b[0m\n",
      "\u001b[34m[10/23/2024 20:30:31 INFO 140160811239232] #quality_metric: host=algo-1, epoch=4, train binary_classification_cross_entropy_objective <loss>=0.48061401728825465\u001b[0m\n",
      "\u001b[34m[2024-10-23 20:30:34.428] [tensorio] [info] epoch_stats={\"data_pipeline\": \"/opt/ml/input/data/validation\", \"epoch\": 14, \"duration\": 2898, \"num_examples\": 164, \"num_bytes\": 63460892}\u001b[0m\n",
      "\u001b[34m#metrics {\"StartTime\": 1729715434.4337082, \"EndTime\": 1729715434.433762, \"Dimensions\": {\"Algorithm\": \"Linear Learner\", \"Host\": \"algo-1\", \"Operation\": \"training\", \"epoch\": 4, \"model\": 0}, \"Metrics\": {\"validation_binary_classification_cross_entropy_objective\": {\"sum\": 0.48077299491106085, \"count\": 1, \"min\": 0.48077299491106085, \"max\": 0.48077299491106085}}}\u001b[0m\n",
      "\u001b[34m#metrics {\"StartTime\": 1729715434.4338288, \"EndTime\": 1729715434.433839, \"Dimensions\": {\"Algorithm\": \"Linear Learner\", \"Host\": \"algo-1\", \"Operation\": \"training\", \"epoch\": 4, \"model\": 1}, \"Metrics\": {\"validation_binary_classification_cross_entropy_objective\": {\"sum\": 0.48179827369729733, \"count\": 1, \"min\": 0.48179827369729733, \"max\": 0.48179827369729733}}}\u001b[0m\n",
      "\u001b[34m#metrics {\"StartTime\": 1729715434.4338803, \"EndTime\": 1729715434.4338906, \"Dimensions\": {\"Algorithm\": \"Linear Learner\", \"Host\": \"algo-1\", \"Operation\": \"training\", \"epoch\": 4, \"model\": 2}, \"Metrics\": {\"validation_binary_classification_cross_entropy_objective\": {\"sum\": 0.48078621629041596, \"count\": 1, \"min\": 0.48078621629041596, \"max\": 0.48078621629041596}}}\u001b[0m\n",
      "\u001b[34m#metrics {\"StartTime\": 1729715434.4339256, \"EndTime\": 1729715434.4339364, \"Dimensions\": {\"Algorithm\": \"Linear Learner\", \"Host\": \"algo-1\", \"Operation\": \"training\", \"epoch\": 4, \"model\": 3}, \"Metrics\": {\"validation_binary_classification_cross_entropy_objective\": {\"sum\": 0.4817982626888104, \"count\": 1, \"min\": 0.4817982626888104, \"max\": 0.4817982626888104}}}\u001b[0m\n",
      "\u001b[34m#metrics {\"StartTime\": 1729715434.4339674, \"EndTime\": 1729715434.4339778, \"Dimensions\": {\"Algorithm\": \"Linear Learner\", \"Host\": \"algo-1\", \"Operation\": \"training\", \"epoch\": 4, \"model\": 4}, \"Metrics\": {\"validation_binary_classification_cross_entropy_objective\": {\"sum\": 0.4807948344429848, \"count\": 1, \"min\": 0.4807948344429848, \"max\": 0.4807948344429848}}}\u001b[0m\n",
      "\u001b[34m#metrics {\"StartTime\": 1729715434.4340143, \"EndTime\": 1729715434.4340258, \"Dimensions\": {\"Algorithm\": \"Linear Learner\", \"Host\": \"algo-1\", \"Operation\": \"training\", \"epoch\": 4, \"model\": 5}, \"Metrics\": {\"validation_binary_classification_cross_entropy_objective\": {\"sum\": 0.492095366987756, \"count\": 1, \"min\": 0.492095366987756, \"max\": 0.492095366987756}}}\u001b[0m\n",
      "\u001b[34m#metrics {\"StartTime\": 1729715434.434053, \"EndTime\": 1729715434.4340632, \"Dimensions\": {\"Algorithm\": \"Linear Learner\", \"Host\": \"algo-1\", \"Operation\": \"training\", \"epoch\": 4, \"model\": 6}, \"Metrics\": {\"validation_binary_classification_cross_entropy_objective\": {\"sum\": 0.48079482772594195, \"count\": 1, \"min\": 0.48079482772594195, \"max\": 0.48079482772594195}}}\u001b[0m\n",
      "\u001b[34m#metrics {\"StartTime\": 1729715434.434946, \"EndTime\": 1729715434.4349594, \"Dimensions\": {\"Algorithm\": \"Linear Learner\", \"Host\": \"algo-1\", \"Operation\": \"training\", \"epoch\": 4, \"model\": 7}, \"Metrics\": {\"validation_binary_classification_cross_entropy_objective\": {\"sum\": 0.4920953651219108, \"count\": 1, \"min\": 0.4920953651219108, \"max\": 0.4920953651219108}}}\u001b[0m\n",
      "\u001b[34m#metrics {\"StartTime\": 1729715434.434997, \"EndTime\": 1729715434.4350073, \"Dimensions\": {\"Algorithm\": \"Linear Learner\", \"Host\": \"algo-1\", \"Operation\": \"training\", \"epoch\": 4, \"model\": 8}, \"Metrics\": {\"validation_binary_classification_cross_entropy_objective\": {\"sum\": 0.4810348922254355, \"count\": 1, \"min\": 0.4810348922254355, \"max\": 0.4810348922254355}}}\u001b[0m\n",
      "\u001b[34m#metrics {\"StartTime\": 1729715434.4350405, \"EndTime\": 1729715434.4350493, \"Dimensions\": {\"Algorithm\": \"Linear Learner\", \"Host\": \"algo-1\", \"Operation\": \"training\", \"epoch\": 4, \"model\": 9}, \"Metrics\": {\"validation_binary_classification_cross_entropy_objective\": {\"sum\": 0.48194316161779494, \"count\": 1, \"min\": 0.48194316161779494, \"max\": 0.48194316161779494}}}\u001b[0m\n",
      "\u001b[34m#metrics {\"StartTime\": 1729715434.4350781, \"EndTime\": 1729715434.4350882, \"Dimensions\": {\"Algorithm\": \"Linear Learner\", \"Host\": \"algo-1\", \"Operation\": \"training\", \"epoch\": 4, \"model\": 10}, \"Metrics\": {\"validation_binary_classification_cross_entropy_objective\": {\"sum\": 0.48105401807204556, \"count\": 1, \"min\": 0.48105401807204556, \"max\": 0.48105401807204556}}}\u001b[0m\n",
      "\u001b[34m#metrics {\"StartTime\": 1729715434.4351249, \"EndTime\": 1729715434.435135, \"Dimensions\": {\"Algorithm\": \"Linear Learner\", \"Host\": \"algo-1\", \"Operation\": \"training\", \"epoch\": 4, \"model\": 11}, \"Metrics\": {\"validation_binary_classification_cross_entropy_objective\": {\"sum\": 0.48194316031170326, \"count\": 1, \"min\": 0.48194316031170326, \"max\": 0.48194316031170326}}}\u001b[0m\n",
      "\u001b[34m#metrics {\"StartTime\": 1729715434.435172, \"EndTime\": 1729715434.4351816, \"Dimensions\": {\"Algorithm\": \"Linear Learner\", \"Host\": \"algo-1\", \"Operation\": \"training\", \"epoch\": 4, \"model\": 12}, \"Metrics\": {\"validation_binary_classification_cross_entropy_objective\": {\"sum\": 0.48106962157601574, \"count\": 1, \"min\": 0.48106962157601574, \"max\": 0.48106962157601574}}}\u001b[0m\n",
      "\u001b[34m#metrics {\"StartTime\": 1729715434.4352086, \"EndTime\": 1729715434.4352145, \"Dimensions\": {\"Algorithm\": \"Linear Learner\", \"Host\": \"algo-1\", \"Operation\": \"training\", \"epoch\": 4, \"model\": 13}, \"Metrics\": {\"validation_binary_classification_cross_entropy_objective\": {\"sum\": 0.49078291353537035, \"count\": 1, \"min\": 0.49078291353537035, \"max\": 0.49078291353537035}}}\u001b[0m\n",
      "\u001b[34m#metrics {\"StartTime\": 1729715434.4352405, \"EndTime\": 1729715434.4352467, \"Dimensions\": {\"Algorithm\": \"Linear Learner\", \"Host\": \"algo-1\", \"Operation\": \"training\", \"epoch\": 4, \"model\": 14}, \"Metrics\": {\"validation_binary_classification_cross_entropy_objective\": {\"sum\": 0.48106962306869194, \"count\": 1, \"min\": 0.48106962306869194, \"max\": 0.48106962306869194}}}\u001b[0m\n",
      "\u001b[34m#metrics {\"StartTime\": 1729715434.4352658, \"EndTime\": 1729715434.435272, \"Dimensions\": {\"Algorithm\": \"Linear Learner\", \"Host\": \"algo-1\", \"Operation\": \"training\", \"epoch\": 4, \"model\": 15}, \"Metrics\": {\"validation_binary_classification_cross_entropy_objective\": {\"sum\": 0.4907829405901263, \"count\": 1, \"min\": 0.4907829405901263, \"max\": 0.4907829405901263}}}\u001b[0m\n",
      "\u001b[34m#metrics {\"StartTime\": 1729715434.4353032, \"EndTime\": 1729715434.4353127, \"Dimensions\": {\"Algorithm\": \"Linear Learner\", \"Host\": \"algo-1\", \"Operation\": \"training\", \"epoch\": 4, \"model\": 16}, \"Metrics\": {\"validation_binary_classification_cross_entropy_objective\": {\"sum\": 0.5044904773035719, \"count\": 1, \"min\": 0.5044904773035719, \"max\": 0.5044904773035719}}}\u001b[0m\n",
      "\u001b[34m#metrics {\"StartTime\": 1729715434.4353416, \"EndTime\": 1729715434.4353518, \"Dimensions\": {\"Algorithm\": \"Linear Learner\", \"Host\": \"algo-1\", \"Operation\": \"training\", \"epoch\": 4, \"model\": 17}, \"Metrics\": {\"validation_binary_classification_cross_entropy_objective\": {\"sum\": 0.5043970534995925, \"count\": 1, \"min\": 0.5043970534995925, \"max\": 0.5043970534995925}}}\u001b[0m\n",
      "\u001b[34m#metrics {\"StartTime\": 1729715434.435379, \"EndTime\": 1729715434.4353876, \"Dimensions\": {\"Algorithm\": \"Linear Learner\", \"Host\": \"algo-1\", \"Operation\": \"training\", \"epoch\": 4, \"model\": 18}, \"Metrics\": {\"validation_binary_classification_cross_entropy_objective\": {\"sum\": 0.5045190519770508, \"count\": 1, \"min\": 0.5045190519770508, \"max\": 0.5045190519770508}}}\u001b[0m\n",
      "\u001b[34m#metrics {\"StartTime\": 1729715434.4354224, \"EndTime\": 1729715434.4354334, \"Dimensions\": {\"Algorithm\": \"Linear Learner\", \"Host\": \"algo-1\", \"Operation\": \"training\", \"epoch\": 4, \"model\": 19}, \"Metrics\": {\"validation_binary_classification_cross_entropy_objective\": {\"sum\": 0.504397085032377, \"count\": 1, \"min\": 0.504397085032377, \"max\": 0.504397085032377}}}\u001b[0m\n",
      "\u001b[34m#metrics {\"StartTime\": 1729715434.4354646, \"EndTime\": 1729715434.435475, \"Dimensions\": {\"Algorithm\": \"Linear Learner\", \"Host\": \"algo-1\", \"Operation\": \"training\", \"epoch\": 4, \"model\": 20}, \"Metrics\": {\"validation_binary_classification_cross_entropy_objective\": {\"sum\": 0.5045185106953474, \"count\": 1, \"min\": 0.5045185106953474, \"max\": 0.5045185106953474}}}\u001b[0m\n",
      "\u001b[34m#metrics {\"StartTime\": 1729715434.4355013, \"EndTime\": 1729715434.4355116, \"Dimensions\": {\"Algorithm\": \"Linear Learner\", \"Host\": \"algo-1\", \"Operation\": \"training\", \"epoch\": 4, \"model\": 21}, \"Metrics\": {\"validation_binary_classification_cross_entropy_objective\": {\"sum\": 0.5040613911132484, \"count\": 1, \"min\": 0.5040613911132484, \"max\": 0.5040613911132484}}}\u001b[0m\n",
      "\u001b[34m#metrics {\"StartTime\": 1729715434.4355388, \"EndTime\": 1729715434.4355476, \"Dimensions\": {\"Algorithm\": \"Linear Learner\", \"Host\": \"algo-1\", \"Operation\": \"training\", \"epoch\": 4, \"model\": 22}, \"Metrics\": {\"validation_binary_classification_cross_entropy_objective\": {\"sum\": 0.5045185110685164, \"count\": 1, \"min\": 0.5045185110685164, \"max\": 0.5045185110685164}}}\u001b[0m\n",
      "\u001b[34m#metrics {\"StartTime\": 1729715434.4355822, \"EndTime\": 1729715434.435593, \"Dimensions\": {\"Algorithm\": \"Linear Learner\", \"Host\": \"algo-1\", \"Operation\": \"training\", \"epoch\": 4, \"model\": 23}, \"Metrics\": {\"validation_binary_classification_cross_entropy_objective\": {\"sum\": 0.5040613968973686, \"count\": 1, \"min\": 0.5040613968973686, \"max\": 0.5040613968973686}}}\u001b[0m\n",
      "\u001b[34m#metrics {\"StartTime\": 1729715434.435623, \"EndTime\": 1729715434.435633, \"Dimensions\": {\"Algorithm\": \"Linear Learner\", \"Host\": \"algo-1\", \"Operation\": \"training\", \"epoch\": 4, \"model\": 24}, \"Metrics\": {\"validation_binary_classification_cross_entropy_objective\": {\"sum\": 0.5137136217945196, \"count\": 1, \"min\": 0.5137136217945196, \"max\": 0.5137136217945196}}}\u001b[0m\n",
      "\u001b[34m#metrics {\"StartTime\": 1729715434.4356592, \"EndTime\": 1729715434.4356692, \"Dimensions\": {\"Algorithm\": \"Linear Learner\", \"Host\": \"algo-1\", \"Operation\": \"training\", \"epoch\": 4, \"model\": 25}, \"Metrics\": {\"validation_binary_classification_cross_entropy_objective\": {\"sum\": 0.5142431083707514, \"count\": 1, \"min\": 0.5142431083707514, \"max\": 0.5142431083707514}}}\u001b[0m\n",
      "\u001b[34m#metrics {\"StartTime\": 1729715434.4356966, \"EndTime\": 1729715434.4357054, \"Dimensions\": {\"Algorithm\": \"Linear Learner\", \"Host\": \"algo-1\", \"Operation\": \"training\", \"epoch\": 4, \"model\": 26}, \"Metrics\": {\"validation_binary_classification_cross_entropy_objective\": {\"sum\": 0.5137005823350753, \"count\": 1, \"min\": 0.5137005823350753, \"max\": 0.5137005823350753}}}\u001b[0m\n",
      "\u001b[34m#metrics {\"StartTime\": 1729715434.4357424, \"EndTime\": 1729715434.4357522, \"Dimensions\": {\"Algorithm\": \"Linear Learner\", \"Host\": \"algo-1\", \"Operation\": \"training\", \"epoch\": 4, \"model\": 27}, \"Metrics\": {\"validation_binary_classification_cross_entropy_objective\": {\"sum\": 0.5142433264880596, \"count\": 1, \"min\": 0.5142433264880596, \"max\": 0.5142433264880596}}}\u001b[0m\n",
      "\u001b[34m#metrics {\"StartTime\": 1729715434.435784, \"EndTime\": 1729715434.4357939, \"Dimensions\": {\"Algorithm\": \"Linear Learner\", \"Host\": \"algo-1\", \"Operation\": \"training\", \"epoch\": 4, \"model\": 28}, \"Metrics\": {\"validation_binary_classification_cross_entropy_objective\": {\"sum\": 0.5137004882964753, \"count\": 1, \"min\": 0.5137004882964753, \"max\": 0.5137004882964753}}}\u001b[0m\n",
      "\u001b[34m#metrics {\"StartTime\": 1729715434.4358218, \"EndTime\": 1729715434.4358294, \"Dimensions\": {\"Algorithm\": \"Linear Learner\", \"Host\": \"algo-1\", \"Operation\": \"training\", \"epoch\": 4, \"model\": 29}, \"Metrics\": {\"validation_binary_classification_cross_entropy_objective\": {\"sum\": 0.5141294964944679, \"count\": 1, \"min\": 0.5141294964944679, \"max\": 0.5141294964944679}}}\u001b[0m\n",
      "\u001b[34m#metrics {\"StartTime\": 1729715434.4358573, \"EndTime\": 1729715434.435866, \"Dimensions\": {\"Algorithm\": \"Linear Learner\", \"Host\": \"algo-1\", \"Operation\": \"training\", \"epoch\": 4, \"model\": 30}, \"Metrics\": {\"validation_binary_classification_cross_entropy_objective\": {\"sum\": 0.5137010495427228, \"count\": 1, \"min\": 0.5137010495427228, \"max\": 0.5137010495427228}}}\u001b[0m\n",
      "\u001b[34m#metrics {\"StartTime\": 1729715434.4359024, \"EndTime\": 1729715434.4359128, \"Dimensions\": {\"Algorithm\": \"Linear Learner\", \"Host\": \"algo-1\", \"Operation\": \"training\", \"epoch\": 4, \"model\": 31}, \"Metrics\": {\"validation_binary_classification_cross_entropy_objective\": {\"sum\": 0.5141294940688691, \"count\": 1, \"min\": 0.5141294940688691, \"max\": 0.5141294940688691}}}\u001b[0m\n",
      "\u001b[34m[10/23/2024 20:30:34 INFO 140160811239232] #quality_metric: host=algo-1, epoch=4, validation binary_classification_cross_entropy_objective <loss>=0.48077299491106085\u001b[0m\n",
      "\u001b[34m[10/23/2024 20:30:34 INFO 140160811239232] #early_stopping_criteria_metric: host=algo-1, epoch=4, criteria=binary_classification_cross_entropy_objective, value=0.48077299491106085\u001b[0m\n",
      "\u001b[34m[10/23/2024 20:30:34 INFO 140160811239232] Saving model for epoch: 4\u001b[0m\n",
      "\u001b[34m[10/23/2024 20:30:34 INFO 140160811239232] Saved checkpoint to \"/tmp/tmp6rn3txtv/mx-mod-0000.params\"\u001b[0m\n",
      "\u001b[34m[10/23/2024 20:30:34 INFO 140160811239232] Early stop condition met. Stopping training.\u001b[0m\n",
      "\u001b[34m[10/23/2024 20:30:34 INFO 140160811239232] #progress_metric: host=algo-1, completed 100 % epochs\u001b[0m\n",
      "\u001b[34m#metrics {\"StartTime\": 1729715398.0171447, \"EndTime\": 1729715434.441848, \"Dimensions\": {\"Algorithm\": \"Linear Learner\", \"Host\": \"algo-1\", \"Operation\": \"training\", \"epoch\": 4, \"Meta\": \"training_data_iter\"}, \"Metrics\": {\"Total Records Seen\": {\"sum\": 6554360.0, \"count\": 1, \"min\": 6554360, \"max\": 6554360}, \"Total Batches Seen\": {\"sum\": 6557.0, \"count\": 1, \"min\": 6557, \"max\": 6557}, \"Max Records Seen Between Resets\": {\"sum\": 1308472.0, \"count\": 1, \"min\": 1308472, \"max\": 1308472}, \"Max Batches Seen Between Resets\": {\"sum\": 1309.0, \"count\": 1, \"min\": 1309, \"max\": 1309}, \"Reset Count\": {\"sum\": 7.0, \"count\": 1, \"min\": 7, \"max\": 7}, \"Number of Records Since Last Reset\": {\"sum\": 1308472.0, \"count\": 1, \"min\": 1308472, \"max\": 1308472}, \"Number of Batches Since Last Reset\": {\"sum\": 1309.0, \"count\": 1, \"min\": 1309, \"max\": 1309}}}\u001b[0m\n",
      "\u001b[34m[10/23/2024 20:30:34 INFO 140160811239232] #throughput_metric: host=algo-1, train throughput=35922.54070194014 records/second\u001b[0m\n",
      "\u001b[34m[10/23/2024 20:30:34 WARNING 140160811239232] wait_for_all_workers will not sync workers since the kv store is not running distributed\u001b[0m\n",
      "\u001b[34m[10/23/2024 20:30:34 WARNING 140160811239232] wait_for_all_workers will not sync workers since the kv store is not running distributed\u001b[0m\n",
      "\u001b[34m[2024-10-23 20:30:37.282] [tensorio] [info] epoch_stats={\"data_pipeline\": \"/opt/ml/input/data/validation\", \"epoch\": 17, \"duration\": 2826, \"num_examples\": 164, \"num_bytes\": 63460892}\u001b[0m\n",
      "\u001b[34m[10/23/2024 20:30:37 INFO 140160811239232] #early_stopping_criteria_metric: host=algo-1, epoch=4, criteria=binary_classification_cross_entropy_objective, value=0.48077299491106085\u001b[0m\n",
      "\u001b[34m[2024-10-23 20:30:37.815] [tensorio] [info] epoch_stats={\"data_pipeline\": \"/opt/ml/input/data/validation\", \"epoch\": 19, \"duration\": 524, \"num_examples\": 164, \"num_bytes\": 63460892}\u001b[0m\n",
      "\u001b[34m[10/23/2024 20:30:38 INFO 140160811239232] #validation_score (algo-1) : ('binary_classification_cross_entropy_objective', 0.48108193932652216)\u001b[0m\n",
      "\u001b[34m[10/23/2024 20:30:38 INFO 140160811239232] #validation_score (algo-1) : ('binary_classification_accuracy', 0.7925886071692784)\u001b[0m\n",
      "\u001b[34m[10/23/2024 20:30:38 INFO 140160811239232] #validation_score (algo-1) : ('binary_f_1.000', 0.10452961672473868)\u001b[0m\n",
      "\u001b[34m[10/23/2024 20:30:38 INFO 140160811239232] #validation_score (algo-1) : ('precision', 0.557589411433399)\u001b[0m\n",
      "\u001b[34m[10/23/2024 20:30:38 INFO 140160811239232] #validation_score (algo-1) : ('recall', 0.05767046282002738)\u001b[0m\n",
      "\u001b[34m[10/23/2024 20:30:38 INFO 140160811239232] #validation_score (algo-1) : ('roc_auc_score', 0.6767108349753747)\u001b[0m\n",
      "\u001b[34m[10/23/2024 20:30:38 INFO 140160811239232] #validation_score (algo-1) : ('binary_balanced_accuracy', 0.5)\u001b[0m\n",
      "\u001b[34m[10/23/2024 20:30:38 INFO 140160811239232] #validation_score (algo-1) : ('binary_log_loss', 0.7497968976395653)\u001b[0m\n",
      "\u001b[34m[10/23/2024 20:30:38 INFO 140160811239232] #quality_metric: host=algo-1, validation binary_classification_cross_entropy_objective <loss>=0.48108193932652216\u001b[0m\n",
      "\u001b[34m[10/23/2024 20:30:38 INFO 140160811239232] #quality_metric: host=algo-1, validation binary_classification_accuracy <score>=0.7925886071692784\u001b[0m\n",
      "\u001b[34m[10/23/2024 20:30:38 INFO 140160811239232] #quality_metric: host=algo-1, validation binary_f_1.000 <score>=0.10452961672473868\u001b[0m\n",
      "\u001b[34m[10/23/2024 20:30:38 INFO 140160811239232] #quality_metric: host=algo-1, validation precision <score>=0.557589411433399\u001b[0m\n",
      "\u001b[34m[10/23/2024 20:30:38 INFO 140160811239232] #quality_metric: host=algo-1, validation recall <score>=0.05767046282002738\u001b[0m\n",
      "\u001b[34m[10/23/2024 20:30:38 INFO 140160811239232] #quality_metric: host=algo-1, validation roc_auc_score <score>=0.6767108349753747\u001b[0m\n",
      "\u001b[34m[10/23/2024 20:30:38 INFO 140160811239232] #quality_metric: host=algo-1, validation binary_balanced_accuracy <score>=0.5\u001b[0m\n",
      "\u001b[34m[10/23/2024 20:30:38 INFO 140160811239232] #quality_metric: host=algo-1, validation binary_log_loss <score>=0.7497968976395653\u001b[0m\n",
      "\u001b[34m[10/23/2024 20:30:38 INFO 140160811239232] Best model found for hyperparameters: {\"optimizer\": \"adam\", \"learning_rate\": 0.005, \"wd\": 0.0001, \"l1\": 0.0, \"lr_scheduler_step\": 10, \"lr_scheduler_factor\": 0.99, \"lr_scheduler_minimum_lr\": 0.0001}\u001b[0m\n",
      "\u001b[34m[10/23/2024 20:30:38 INFO 140160811239232] Saved checkpoint to \"/tmp/tmp_muh2fo1/mx-mod-0000.params\"\u001b[0m\n",
      "\u001b[34m[2024-10-23 20:30:38.070] [tensorio] [info] epoch_stats={\"data_pipeline\": \"/opt/ml/input/data/test\", \"epoch\": 0, \"duration\": 184652, \"num_examples\": 1, \"num_bytes\": 388000}\u001b[0m\n",
      "\u001b[34m[2024-10-23 20:30:38.548] [tensorio] [info] epoch_stats={\"data_pipeline\": \"/opt/ml/input/data/test\", \"epoch\": 1, \"duration\": 477, \"num_examples\": 164, \"num_bytes\": 63460892}\u001b[0m\n",
      "\u001b[34m#metrics {\"StartTime\": 1729715438.0663729, \"EndTime\": 1729715438.7961497, \"Dimensions\": {\"Algorithm\": \"Linear Learner\", \"Host\": \"algo-1\", \"Operation\": \"training\", \"Meta\": \"test_data_iter\"}, \"Metrics\": {\"Total Records Seen\": {\"sum\": 163559.0, \"count\": 1, \"min\": 163559, \"max\": 163559}, \"Total Batches Seen\": {\"sum\": 164.0, \"count\": 1, \"min\": 164, \"max\": 164}, \"Max Records Seen Between Resets\": {\"sum\": 163559.0, \"count\": 1, \"min\": 163559, \"max\": 163559}, \"Max Batches Seen Between Resets\": {\"sum\": 164.0, \"count\": 1, \"min\": 164, \"max\": 164}, \"Reset Count\": {\"sum\": 1.0, \"count\": 1, \"min\": 1, \"max\": 1}, \"Number of Records Since Last Reset\": {\"sum\": 163559.0, \"count\": 1, \"min\": 163559, \"max\": 163559}, \"Number of Batches Since Last Reset\": {\"sum\": 164.0, \"count\": 1, \"min\": 164, \"max\": 164}}}\u001b[0m\n",
      "\u001b[34m[10/23/2024 20:30:38 INFO 140160811239232] #test_score (algo-1) : ('binary_classification_cross_entropy_objective', 0.4801060395747506)\u001b[0m\n",
      "\u001b[34m[10/23/2024 20:30:38 INFO 140160811239232] #test_score (algo-1) : ('binary_classification_accuracy', 0.7929737892748182)\u001b[0m\n",
      "\u001b[34m[10/23/2024 20:30:38 INFO 140160811239232] #test_score (algo-1) : ('binary_f_1.000', 0.10432482475862981)\u001b[0m\n",
      "\u001b[34m[10/23/2024 20:30:38 INFO 140160811239232] #test_score (algo-1) : ('precision', 0.5679723502304147)\u001b[0m\n",
      "\u001b[34m[10/23/2024 20:30:38 INFO 140160811239232] #test_score (algo-1) : ('recall', 0.05743745084903737)\u001b[0m\n",
      "\u001b[34m[10/23/2024 20:30:38 INFO 140160811239232] #test_score (algo-1) : ('roc_auc_score', 0.6787044156971644)\u001b[0m\n",
      "\u001b[34m[10/23/2024 20:30:38 INFO 140160811239232] #test_score (algo-1) : ('binary_balanced_accuracy', 0.5)\u001b[0m\n",
      "\u001b[34m[10/23/2024 20:30:38 INFO 140160811239232] #test_score (algo-1) : ('binary_log_loss', 0.7494775043669744)\u001b[0m\n",
      "\u001b[34m[10/23/2024 20:30:38 INFO 140160811239232] #quality_metric: host=algo-1, test binary_classification_cross_entropy_objective <loss>=0.4801060395747506\u001b[0m\n",
      "\u001b[34m[10/23/2024 20:30:38 INFO 140160811239232] #quality_metric: host=algo-1, test binary_classification_accuracy <score>=0.7929737892748182\u001b[0m\n",
      "\u001b[34m[10/23/2024 20:30:38 INFO 140160811239232] #quality_metric: host=algo-1, test binary_f_1.000 <score>=0.10432482475862981\u001b[0m\n",
      "\u001b[34m[10/23/2024 20:30:38 INFO 140160811239232] #quality_metric: host=algo-1, test precision <score>=0.5679723502304147\u001b[0m\n",
      "\u001b[34m[10/23/2024 20:30:38 INFO 140160811239232] #quality_metric: host=algo-1, test recall <score>=0.05743745084903737\u001b[0m\n",
      "\u001b[34m[10/23/2024 20:30:38 INFO 140160811239232] #quality_metric: host=algo-1, test roc_auc_score <score>=0.6787044156971644\u001b[0m\n",
      "\u001b[34m[10/23/2024 20:30:38 INFO 140160811239232] #quality_metric: host=algo-1, test binary_balanced_accuracy <score>=0.5\u001b[0m\n",
      "\u001b[34m[10/23/2024 20:30:38 INFO 140160811239232] #quality_metric: host=algo-1, test binary_log_loss <score>=0.7494775043669744\u001b[0m\n",
      "\u001b[34m#metrics {\"StartTime\": 1729715253.4093153, \"EndTime\": 1729715438.8044722, \"Dimensions\": {\"Algorithm\": \"Linear Learner\", \"Host\": \"algo-1\", \"Operation\": \"training\"}, \"Metrics\": {\"initialize.time\": {\"sum\": 246.01340293884277, \"count\": 1, \"min\": 246.01340293884277, \"max\": 246.01340293884277}, \"epochs\": {\"sum\": 15.0, \"count\": 1, \"min\": 15, \"max\": 15}, \"check_early_stopping.time\": {\"sum\": 1.7490386962890625, \"count\": 6, \"min\": 0.1666545867919922, \"max\": 0.6718635559082031}, \"update.time\": {\"sum\": 180734.47513580322, \"count\": 5, \"min\": 35746.25086784363, \"max\": 36476.895570755005}, \"finalize.time\": {\"sum\": 3621.478319168091, \"count\": 1, \"min\": 3621.478319168091, \"max\": 3621.478319168091}, \"setuptime\": {\"sum\": 2.6428699493408203, \"count\": 1, \"min\": 2.6428699493408203, \"max\": 2.6428699493408203}, \"totaltime\": {\"sum\": 185512.46881484985, \"count\": 1, \"min\": 185512.46881484985, \"max\": 185512.46881484985}}}\u001b[0m\n",
      "\n",
      "2024-10-23 20:30:55 Uploading - Uploading generated training model\n",
      "2024-10-23 20:30:55 Completed - Training job completed\n",
      "Training seconds: 336\n",
      "Billable seconds: 336\n"
     ]
    }
   ],
   "source": [
    "# Enter your code here\n",
    "classifier_estimator2.fit([train_records, val_records, test_records])"
   ]
  },
  {
   "cell_type": "markdown",
   "metadata": {},
   "source": [
    "Perform a batch prediction by using the newly trained model."
   ]
  },
  {
   "cell_type": "code",
   "execution_count": 75,
   "metadata": {
    "tags": []
   },
   "outputs": [
    {
     "name": "stderr",
     "output_type": "stream",
     "text": [
      "INFO:sagemaker.image_uris:Same images used for training and inference. Defaulting to image scope: inference.\n",
      "INFO:sagemaker.image_uris:Ignoring unnecessary instance type: None.\n",
      "INFO:sagemaker:Creating model with name: linear-learner-2024-10-23-20-42-22-665\n",
      "INFO:sagemaker:Creating transform job with name: linear-learner-2024-10-23-20-42-23-387\n"
     ]
    },
    {
     "name": "stdout",
     "output_type": "stream",
     "text": [
      ".............................................\n",
      ".\u001b[34mDocker entrypoint called with argument(s): serve\u001b[0m\n",
      "\u001b[34mRunning default environment configuration script\u001b[0m\n",
      "\u001b[34m[10/23/2024 20:49:57 INFO 140490551355200] Memory profiler is not enabled by the environment variable ENABLE_PROFILER.\u001b[0m\n",
      "\u001b[34m/opt/amazon/lib/python3.8/site-packages/mxnet/model.py:97: SyntaxWarning: \"is\" with a literal. Did you mean \"==\"?\n",
      "  if num_device is 1 and 'dist' not in kvstore:\u001b[0m\n",
      "\u001b[34m/opt/amazon/lib/python3.8/site-packages/scipy/optimize/_shgo.py:495: SyntaxWarning: \"is\" with a literal. Did you mean \"==\"?\n",
      "  if cons['type'] is 'ineq':\u001b[0m\n",
      "\u001b[34m/opt/amazon/lib/python3.8/site-packages/scipy/optimize/_shgo.py:743: SyntaxWarning: \"is not\" with a literal. Did you mean \"!=\"?\n",
      "  if len(self.X_min) is not 0:\u001b[0m\n",
      "\u001b[35mDocker entrypoint called with argument(s): serve\u001b[0m\n",
      "\u001b[35mRunning default environment configuration script\u001b[0m\n",
      "\u001b[35m[10/23/2024 20:49:57 INFO 140490551355200] Memory profiler is not enabled by the environment variable ENABLE_PROFILER.\u001b[0m\n",
      "\u001b[35m/opt/amazon/lib/python3.8/site-packages/mxnet/model.py:97: SyntaxWarning: \"is\" with a literal. Did you mean \"==\"?\n",
      "  if num_device is 1 and 'dist' not in kvstore:\u001b[0m\n",
      "\u001b[35m/opt/amazon/lib/python3.8/site-packages/scipy/optimize/_shgo.py:495: SyntaxWarning: \"is\" with a literal. Did you mean \"==\"?\n",
      "  if cons['type'] is 'ineq':\u001b[0m\n",
      "\u001b[35m/opt/amazon/lib/python3.8/site-packages/scipy/optimize/_shgo.py:743: SyntaxWarning: \"is not\" with a literal. Did you mean \"!=\"?\n",
      "  if len(self.X_min) is not 0:\u001b[0m\n",
      "\u001b[34m[10/23/2024 20:50:01 WARNING 140490551355200] Loggers have already been setup.\u001b[0m\n",
      "\u001b[34m[10/23/2024 20:50:01 INFO 140490551355200] loaded entry point class algorithm.serve.server_config:config_api\u001b[0m\n",
      "\u001b[34m[10/23/2024 20:50:01 INFO 140490551355200] loading entry points\u001b[0m\n",
      "\u001b[34m[10/23/2024 20:50:01 INFO 140490551355200] loaded request iterator application/json\u001b[0m\n",
      "\u001b[34m[10/23/2024 20:50:01 INFO 140490551355200] loaded request iterator application/jsonlines\u001b[0m\n",
      "\u001b[34m[10/23/2024 20:50:01 INFO 140490551355200] loaded request iterator application/x-recordio-protobuf\u001b[0m\n",
      "\u001b[34m[10/23/2024 20:50:01 INFO 140490551355200] loaded request iterator text/csv\u001b[0m\n",
      "\u001b[34m[10/23/2024 20:50:01 INFO 140490551355200] loaded response encoder application/json\u001b[0m\n",
      "\u001b[34m[10/23/2024 20:50:01 INFO 140490551355200] loaded response encoder application/jsonlines\u001b[0m\n",
      "\u001b[34m[10/23/2024 20:50:01 INFO 140490551355200] loaded response encoder application/x-recordio-protobuf\u001b[0m\n",
      "\u001b[34m[10/23/2024 20:50:01 INFO 140490551355200] loaded response encoder text/csv\u001b[0m\n",
      "\u001b[34m[10/23/2024 20:50:01 INFO 140490551355200] loaded entry point class algorithm:model\u001b[0m\n",
      "\u001b[34m[10/23/2024 20:50:01 INFO 140490551355200] Number of server workers: 4\u001b[0m\n",
      "\u001b[34m[10/23/2024 20:50:01 INFO 140490551355200] loading model...\u001b[0m\n",
      "\u001b[34m[10/23/2024 20:50:01 INFO 140490551355200] ...model loaded.\u001b[0m\n",
      "\u001b[35m[10/23/2024 20:50:01 WARNING 140490551355200] Loggers have already been setup.\u001b[0m\n",
      "\u001b[35m[10/23/2024 20:50:01 INFO 140490551355200] loaded entry point class algorithm.serve.server_config:config_api\u001b[0m\n",
      "\u001b[35m[10/23/2024 20:50:01 INFO 140490551355200] loading entry points\u001b[0m\n",
      "\u001b[35m[10/23/2024 20:50:01 INFO 140490551355200] loaded request iterator application/json\u001b[0m\n",
      "\u001b[35m[10/23/2024 20:50:01 INFO 140490551355200] loaded request iterator application/jsonlines\u001b[0m\n",
      "\u001b[35m[10/23/2024 20:50:01 INFO 140490551355200] loaded request iterator application/x-recordio-protobuf\u001b[0m\n",
      "\u001b[35m[10/23/2024 20:50:01 INFO 140490551355200] loaded request iterator text/csv\u001b[0m\n",
      "\u001b[35m[10/23/2024 20:50:01 INFO 140490551355200] loaded response encoder application/json\u001b[0m\n",
      "\u001b[35m[10/23/2024 20:50:01 INFO 140490551355200] loaded response encoder application/jsonlines\u001b[0m\n",
      "\u001b[35m[10/23/2024 20:50:01 INFO 140490551355200] loaded response encoder application/x-recordio-protobuf\u001b[0m\n",
      "\u001b[35m[10/23/2024 20:50:01 INFO 140490551355200] loaded response encoder text/csv\u001b[0m\n",
      "\u001b[35m[10/23/2024 20:50:01 INFO 140490551355200] loaded entry point class algorithm:model\u001b[0m\n",
      "\u001b[35m[10/23/2024 20:50:01 INFO 140490551355200] Number of server workers: 4\u001b[0m\n",
      "\u001b[35m[10/23/2024 20:50:01 INFO 140490551355200] loading model...\u001b[0m\n",
      "\u001b[35m[10/23/2024 20:50:01 INFO 140490551355200] ...model loaded.\u001b[0m\n",
      "\u001b[34m[2024-10-23 20:50:01 +0000] [1] [INFO] Starting gunicorn 20.1.0\u001b[0m\n",
      "\u001b[34m[2024-10-23 20:50:01 +0000] [1] [INFO] Listening at: http://0.0.0.0:8080 (1)\u001b[0m\n",
      "\u001b[34m[2024-10-23 20:50:01 +0000] [1] [INFO] Using worker: sync\u001b[0m\n",
      "\u001b[34m[2024-10-23 20:50:01 +0000] [43] [INFO] Booting worker with pid: 43\u001b[0m\n",
      "\u001b[34m[2024-10-23 20:50:01 +0000] [52] [INFO] Booting worker with pid: 52\u001b[0m\n",
      "\u001b[34m[2024-10-23 20:50:01 +0000] [61] [INFO] Booting worker with pid: 61\u001b[0m\n",
      "\u001b[34m[2024-10-23 20:50:01 +0000] [70] [INFO] Booting worker with pid: 70\u001b[0m\n",
      "\u001b[34m#metrics {\"StartTime\": 1729716601.5179791, \"EndTime\": 1729716602.442047, \"Dimensions\": {\"Algorithm\": \"LinearLearnerModel\", \"Host\": \"UNKNOWN\", \"Operation\": \"scoring\"}, \"Metrics\": {\"execution_parameters.count\": {\"sum\": 1.0, \"count\": 1, \"min\": 1, \"max\": 1}}}\u001b[0m\n",
      "\u001b[35m[2024-10-23 20:50:01 +0000] [1] [INFO] Starting gunicorn 20.1.0\u001b[0m\n",
      "\u001b[35m[2024-10-23 20:50:01 +0000] [1] [INFO] Listening at: http://0.0.0.0:8080 (1)\u001b[0m\n",
      "\u001b[35m[2024-10-23 20:50:01 +0000] [1] [INFO] Using worker: sync\u001b[0m\n",
      "\u001b[35m[2024-10-23 20:50:01 +0000] [43] [INFO] Booting worker with pid: 43\u001b[0m\n",
      "\u001b[35m[2024-10-23 20:50:01 +0000] [52] [INFO] Booting worker with pid: 52\u001b[0m\n",
      "\u001b[35m[2024-10-23 20:50:01 +0000] [61] [INFO] Booting worker with pid: 61\u001b[0m\n",
      "\u001b[35m[2024-10-23 20:50:01 +0000] [70] [INFO] Booting worker with pid: 70\u001b[0m\n",
      "\u001b[35m#metrics {\"StartTime\": 1729716601.5179791, \"EndTime\": 1729716602.442047, \"Dimensions\": {\"Algorithm\": \"LinearLearnerModel\", \"Host\": \"UNKNOWN\", \"Operation\": \"scoring\"}, \"Metrics\": {\"execution_parameters.count\": {\"sum\": 1.0, \"count\": 1, \"min\": 1, \"max\": 1}}}\u001b[0m\n",
      "\u001b[34m[10/23/2024 20:50:04 ERROR 140490551355200] Customer Error: The feature dimension of the input: 85 does not match the feature dimension of the model: 93. Please fix the input and try again.\u001b[0m\n",
      "\u001b[34m#metrics {\"StartTime\": 1729716601.5179791, \"EndTime\": 1729716604.5554345, \"Dimensions\": {\"Algorithm\": \"LinearLearnerModel\", \"Host\": \"UNKNOWN\", \"Operation\": \"scoring\"}, \"Metrics\": {\"invocations_error.count\": {\"sum\": 1.0, \"count\": 1, \"min\": 1, \"max\": 1}}}\u001b[0m\n",
      "\u001b[34m#metrics {\"StartTime\": 1729716604.5559096, \"EndTime\": 1729716604.555945, \"Dimensions\": {\"Algorithm\": \"LinearLearnerModel\", \"Host\": \"UNKNOWN\", \"Operation\": \"scoring\"}, \"Metrics\": {\"invocations.count\": {\"sum\": 1.0, \"count\": 1, \"min\": 1, \"max\": 1}}}\u001b[0m\n",
      "\u001b[34m[10/23/2024 20:50:04 ERROR 140490551355200] Customer Error: The feature dimension of the input: 85 does not match the feature dimension of the model: 93. Please fix the input and try again.\u001b[0m\n",
      "\u001b[34m#metrics {\"StartTime\": 1729716601.5179791, \"EndTime\": 1729716604.5709703, \"Dimensions\": {\"Algorithm\": \"LinearLearnerModel\", \"Host\": \"UNKNOWN\", \"Operation\": \"scoring\"}, \"Metrics\": {\"invocations_error.count\": {\"sum\": 1.0, \"count\": 1, \"min\": 1, \"max\": 1}}}\u001b[0m\n",
      "\u001b[34m#metrics {\"StartTime\": 1729716604.5715253, \"EndTime\": 1729716604.5716712, \"Dimensions\": {\"Algorithm\": \"LinearLearnerModel\", \"Host\": \"UNKNOWN\", \"Operation\": \"scoring\"}, \"Metrics\": {\"invocations.count\": {\"sum\": 1.0, \"count\": 1, \"min\": 1, \"max\": 1}}}\u001b[0m\n",
      "\u001b[35m[10/23/2024 20:50:04 ERROR 140490551355200] Customer Error: The feature dimension of the input: 85 does not match the feature dimension of the model: 93. Please fix the input and try again.\u001b[0m\n",
      "\u001b[35m#metrics {\"StartTime\": 1729716601.5179791, \"EndTime\": 1729716604.5554345, \"Dimensions\": {\"Algorithm\": \"LinearLearnerModel\", \"Host\": \"UNKNOWN\", \"Operation\": \"scoring\"}, \"Metrics\": {\"invocations_error.count\": {\"sum\": 1.0, \"count\": 1, \"min\": 1, \"max\": 1}}}\u001b[0m\n",
      "\u001b[35m#metrics {\"StartTime\": 1729716604.5559096, \"EndTime\": 1729716604.555945, \"Dimensions\": {\"Algorithm\": \"LinearLearnerModel\", \"Host\": \"UNKNOWN\", \"Operation\": \"scoring\"}, \"Metrics\": {\"invocations.count\": {\"sum\": 1.0, \"count\": 1, \"min\": 1, \"max\": 1}}}\u001b[0m\n",
      "\u001b[35m[10/23/2024 20:50:04 ERROR 140490551355200] Customer Error: The feature dimension of the input: 85 does not match the feature dimension of the model: 93. Please fix the input and try again.\u001b[0m\n",
      "\u001b[35m#metrics {\"StartTime\": 1729716601.5179791, \"EndTime\": 1729716604.5709703, \"Dimensions\": {\"Algorithm\": \"LinearLearnerModel\", \"Host\": \"UNKNOWN\", \"Operation\": \"scoring\"}, \"Metrics\": {\"invocations_error.count\": {\"sum\": 1.0, \"count\": 1, \"min\": 1, \"max\": 1}}}\u001b[0m\n",
      "\u001b[35m#metrics {\"StartTime\": 1729716604.5715253, \"EndTime\": 1729716604.5716712, \"Dimensions\": {\"Algorithm\": \"LinearLearnerModel\", \"Host\": \"UNKNOWN\", \"Operation\": \"scoring\"}, \"Metrics\": {\"invocations.count\": {\"sum\": 1.0, \"count\": 1, \"min\": 1, \"max\": 1}}}\u001b[0m\n",
      "\u001b[34m[10/23/2024 20:50:04 ERROR 140490551355200] Customer Error: The feature dimension of the input: 85 does not match the feature dimension of the model: 93. Please fix the input and try again.\u001b[0m\n",
      "\u001b[34m#metrics {\"StartTime\": 1729716602.4422588, \"EndTime\": 1729716604.6454377, \"Dimensions\": {\"Algorithm\": \"LinearLearnerModel\", \"Host\": \"UNKNOWN\", \"Operation\": \"scoring\"}, \"Metrics\": {\"invocations_error.count\": {\"sum\": 1.0, \"count\": 1, \"min\": 1, \"max\": 1}}}\u001b[0m\n",
      "\u001b[34m#metrics {\"StartTime\": 1729716604.6455157, \"EndTime\": 1729716604.645528, \"Dimensions\": {\"Algorithm\": \"LinearLearnerModel\", \"Host\": \"UNKNOWN\", \"Operation\": \"scoring\"}, \"Metrics\": {\"invocations.count\": {\"sum\": 1.0, \"count\": 1, \"min\": 1, \"max\": 1}}}\u001b[0m\n",
      "\u001b[34m[10/23/2024 20:50:04 ERROR 140490551355200] Customer Error: The feature dimension of the input: 85 does not match the feature dimension of the model: 93. Please fix the input and try again.\u001b[0m\n",
      "\u001b[34m#metrics {\"StartTime\": 1729716601.5179791, \"EndTime\": 1729716604.6859436, \"Dimensions\": {\"Algorithm\": \"LinearLearnerModel\", \"Host\": \"UNKNOWN\", \"Operation\": \"scoring\"}, \"Metrics\": {\"invocations_error.count\": {\"sum\": 1.0, \"count\": 1, \"min\": 1, \"max\": 1}}}\u001b[0m\n",
      "\u001b[34m#metrics {\"StartTime\": 1729716604.6861277, \"EndTime\": 1729716604.686146, \"Dimensions\": {\"Algorithm\": \"LinearLearnerModel\", \"Host\": \"UNKNOWN\", \"Operation\": \"scoring\"}, \"Metrics\": {\"invocations.count\": {\"sum\": 1.0, \"count\": 1, \"min\": 1, \"max\": 1}}}\u001b[0m\n",
      "\u001b[35m[10/23/2024 20:50:04 ERROR 140490551355200] Customer Error: The feature dimension of the input: 85 does not match the feature dimension of the model: 93. Please fix the input and try again.\u001b[0m\n",
      "\u001b[35m#metrics {\"StartTime\": 1729716602.4422588, \"EndTime\": 1729716604.6454377, \"Dimensions\": {\"Algorithm\": \"LinearLearnerModel\", \"Host\": \"UNKNOWN\", \"Operation\": \"scoring\"}, \"Metrics\": {\"invocations_error.count\": {\"sum\": 1.0, \"count\": 1, \"min\": 1, \"max\": 1}}}\u001b[0m\n",
      "\u001b[35m#metrics {\"StartTime\": 1729716604.6455157, \"EndTime\": 1729716604.645528, \"Dimensions\": {\"Algorithm\": \"LinearLearnerModel\", \"Host\": \"UNKNOWN\", \"Operation\": \"scoring\"}, \"Metrics\": {\"invocations.count\": {\"sum\": 1.0, \"count\": 1, \"min\": 1, \"max\": 1}}}\u001b[0m\n",
      "\u001b[35m[10/23/2024 20:50:04 ERROR 140490551355200] Customer Error: The feature dimension of the input: 85 does not match the feature dimension of the model: 93. Please fix the input and try again.\u001b[0m\n",
      "\u001b[35m#metrics {\"StartTime\": 1729716601.5179791, \"EndTime\": 1729716604.6859436, \"Dimensions\": {\"Algorithm\": \"LinearLearnerModel\", \"Host\": \"UNKNOWN\", \"Operation\": \"scoring\"}, \"Metrics\": {\"invocations_error.count\": {\"sum\": 1.0, \"count\": 1, \"min\": 1, \"max\": 1}}}\u001b[0m\n",
      "\u001b[35m#metrics {\"StartTime\": 1729716604.6861277, \"EndTime\": 1729716604.686146, \"Dimensions\": {\"Algorithm\": \"LinearLearnerModel\", \"Host\": \"UNKNOWN\", \"Operation\": \"scoring\"}, \"Metrics\": {\"invocations.count\": {\"sum\": 1.0, \"count\": 1, \"min\": 1, \"max\": 1}}}\u001b[0m\n",
      "\u001b[32m2024-10-23T20:50:02.449:[sagemaker logs]: MaxConcurrentTransforms=4, MaxPayloadInMB=6, BatchStrategy=MULTI_RECORD\u001b[0m\n",
      "\u001b[32m2024-10-23T20:50:04.568:[sagemaker logs]: c134412a3409745l8003998t1w11504374297-flightbucket-bixyqobwltva/flight-linear/batch-in/batch-in.csv: ClientError: 400\u001b[0m\n",
      "\u001b[32m2024-10-23T20:50:04.568:[sagemaker logs]: c134412a3409745l8003998t1w11504374297-flightbucket-bixyqobwltva/flight-linear/batch-in/batch-in.csv: \u001b[0m\n",
      "\u001b[32m2024-10-23T20:50:04.568:[sagemaker logs]: c134412a3409745l8003998t1w11504374297-flightbucket-bixyqobwltva/flight-linear/batch-in/batch-in.csv: Message:\u001b[0m\n",
      "\u001b[32m2024-10-23T20:50:04.569:[sagemaker logs]: c134412a3409745l8003998t1w11504374297-flightbucket-bixyqobwltva/flight-linear/batch-in/batch-in.csv: unable to evaluate payload provided\u001b[0m\n",
      "\u001b[32m2024-10-23T20:50:04.583:[sagemaker logs]: c134412a3409745l8003998t1w11504374297-flightbucket-bixyqobwltva/flight-linear/batch-in/batch-in.csv: ClientError: 400\u001b[0m\n",
      "\u001b[32m2024-10-23T20:50:04.584:[sagemaker logs]: c134412a3409745l8003998t1w11504374297-flightbucket-bixyqobwltva/flight-linear/batch-in/batch-in.csv: \u001b[0m\n",
      "\u001b[32m2024-10-23T20:50:04.584:[sagemaker logs]: c134412a3409745l8003998t1w11504374297-flightbucket-bixyqobwltva/flight-linear/batch-in/batch-in.csv: Message:\u001b[0m\n",
      "\u001b[32m2024-10-23T20:50:04.584:[sagemaker logs]: c134412a3409745l8003998t1w11504374297-flightbucket-bixyqobwltva/flight-linear/batch-in/batch-in.csv: unable to evaluate payload provided\u001b[0m\n",
      "\u001b[32m2024-10-23T20:50:04.651:[sagemaker logs]: c134412a3409745l8003998t1w11504374297-flightbucket-bixyqobwltva/flight-linear/batch-in/batch-in.csv: ClientError: 400\u001b[0m\n",
      "\u001b[32m2024-10-23T20:50:04.652:[sagemaker logs]: c134412a3409745l8003998t1w11504374297-flightbucket-bixyqobwltva/flight-linear/batch-in/batch-in.csv: \u001b[0m\n",
      "\u001b[32m2024-10-23T20:50:04.652:[sagemaker logs]: c134412a3409745l8003998t1w11504374297-flightbucket-bixyqobwltva/flight-linear/batch-in/batch-in.csv: Message:\u001b[0m\n",
      "\u001b[32m2024-10-23T20:50:04.652:[sagemaker logs]: c134412a3409745l8003998t1w11504374297-flightbucket-bixyqobwltva/flight-linear/batch-in/batch-in.csv: unable to evaluate payload provided\u001b[0m\n",
      "\u001b[32m2024-10-23T20:50:04.690:[sagemaker logs]: c134412a3409745l8003998t1w11504374297-flightbucket-bixyqobwltva/flight-linear/batch-in/batch-in.csv: ClientError: 400\u001b[0m\n",
      "\u001b[32m2024-10-23T20:50:04.690:[sagemaker logs]: c134412a3409745l8003998t1w11504374297-flightbucket-bixyqobwltva/flight-linear/batch-in/batch-in.csv: \u001b[0m\n",
      "\u001b[32m2024-10-23T20:50:04.690:[sagemaker logs]: c134412a3409745l8003998t1w11504374297-flightbucket-bixyqobwltva/flight-linear/batch-in/batch-in.csv: Message:\u001b[0m\n",
      "\u001b[32m2024-10-23T20:50:04.690:[sagemaker logs]: c134412a3409745l8003998t1w11504374297-flightbucket-bixyqobwltva/flight-linear/batch-in/batch-in.csv: unable to evaluate payload provided\u001b[0m\n"
     ]
    },
    {
     "ename": "UnexpectedStatusException",
     "evalue": "Error for Transform job linear-learner-2024-10-23-20-42-23-387: Failed. Reason: ClientError: See job logs for more information. Check troubleshooting guide for common errors: https://docs.aws.amazon.com/sagemaker/latest/dg/sagemaker-python-sdk-troubleshooting.html",
     "output_type": "error",
     "traceback": [
      "\u001b[0;31m---------------------------------------------------------------------------\u001b[0m",
      "\u001b[0;31mUnexpectedStatusException\u001b[0m                 Traceback (most recent call last)",
      "Cell \u001b[0;32mIn[75], line 2\u001b[0m\n\u001b[1;32m      1\u001b[0m \u001b[38;5;66;03m# Enter your code here\u001b[39;00m\n\u001b[0;32m----> 2\u001b[0m test_labels, target_predicted \u001b[38;5;241m=\u001b[39m \u001b[43mbatch_linear_predict\u001b[49m\u001b[43m(\u001b[49m\u001b[43mtest\u001b[49m\u001b[43m,\u001b[49m\u001b[43m \u001b[49m\u001b[43mclassifier_estimator\u001b[49m\u001b[43m)\u001b[49m\n",
      "Cell \u001b[0;32mIn[44], line 15\u001b[0m, in \u001b[0;36mbatch_linear_predict\u001b[0;34m(test_data, estimator)\u001b[0m\n\u001b[1;32m      7\u001b[0m batch_input \u001b[38;5;241m=\u001b[39m \u001b[38;5;124m\"\u001b[39m\u001b[38;5;124ms3://\u001b[39m\u001b[38;5;132;01m{}\u001b[39;00m\u001b[38;5;124m/\u001b[39m\u001b[38;5;132;01m{}\u001b[39;00m\u001b[38;5;124m/batch-in/\u001b[39m\u001b[38;5;132;01m{}\u001b[39;00m\u001b[38;5;124m\"\u001b[39m\u001b[38;5;241m.\u001b[39mformat(bucket,prefix,batch_X_file)\n\u001b[1;32m      9\u001b[0m classifier_transformer \u001b[38;5;241m=\u001b[39m estimator\u001b[38;5;241m.\u001b[39mtransformer(instance_count\u001b[38;5;241m=\u001b[39m\u001b[38;5;241m1\u001b[39m,\n\u001b[1;32m     10\u001b[0m                                        instance_type\u001b[38;5;241m=\u001b[39m\u001b[38;5;124m'\u001b[39m\u001b[38;5;124mml.m4.xlarge\u001b[39m\u001b[38;5;124m'\u001b[39m,\n\u001b[1;32m     11\u001b[0m                                        strategy\u001b[38;5;241m=\u001b[39m\u001b[38;5;124m'\u001b[39m\u001b[38;5;124mMultiRecord\u001b[39m\u001b[38;5;124m'\u001b[39m,\n\u001b[1;32m     12\u001b[0m                                        assemble_with\u001b[38;5;241m=\u001b[39m\u001b[38;5;124m'\u001b[39m\u001b[38;5;124mLine\u001b[39m\u001b[38;5;124m'\u001b[39m,\n\u001b[1;32m     13\u001b[0m                                        output_path\u001b[38;5;241m=\u001b[39mbatch_output)\n\u001b[0;32m---> 15\u001b[0m \u001b[43mclassifier_transformer\u001b[49m\u001b[38;5;241;43m.\u001b[39;49m\u001b[43mtransform\u001b[49m\u001b[43m(\u001b[49m\u001b[43mdata\u001b[49m\u001b[38;5;241;43m=\u001b[39;49m\u001b[43mbatch_input\u001b[49m\u001b[43m,\u001b[49m\n\u001b[1;32m     16\u001b[0m \u001b[43m                         \u001b[49m\u001b[43mdata_type\u001b[49m\u001b[38;5;241;43m=\u001b[39;49m\u001b[38;5;124;43m'\u001b[39;49m\u001b[38;5;124;43mS3Prefix\u001b[39;49m\u001b[38;5;124;43m'\u001b[39;49m\u001b[43m,\u001b[49m\n\u001b[1;32m     17\u001b[0m \u001b[43m                         \u001b[49m\u001b[43mcontent_type\u001b[49m\u001b[38;5;241;43m=\u001b[39;49m\u001b[38;5;124;43m'\u001b[39;49m\u001b[38;5;124;43mtext/csv\u001b[39;49m\u001b[38;5;124;43m'\u001b[39;49m\u001b[43m,\u001b[49m\n\u001b[1;32m     18\u001b[0m \u001b[43m                         \u001b[49m\u001b[43msplit_type\u001b[49m\u001b[38;5;241;43m=\u001b[39;49m\u001b[38;5;124;43m'\u001b[39;49m\u001b[38;5;124;43mLine\u001b[39;49m\u001b[38;5;124;43m'\u001b[39;49m\u001b[43m)\u001b[49m\n\u001b[1;32m     20\u001b[0m classifier_transformer\u001b[38;5;241m.\u001b[39mwait()\n\u001b[1;32m     22\u001b[0m s3 \u001b[38;5;241m=\u001b[39m boto3\u001b[38;5;241m.\u001b[39mclient(\u001b[38;5;124m'\u001b[39m\u001b[38;5;124ms3\u001b[39m\u001b[38;5;124m'\u001b[39m)\n",
      "File \u001b[0;32m~/anaconda3/envs/python3/lib/python3.10/site-packages/sagemaker/workflow/pipeline_context.py:346\u001b[0m, in \u001b[0;36mrunnable_by_pipeline.<locals>.wrapper\u001b[0;34m(*args, **kwargs)\u001b[0m\n\u001b[1;32m    342\u001b[0m         \u001b[38;5;28;01mreturn\u001b[39;00m context\n\u001b[1;32m    344\u001b[0m     \u001b[38;5;28;01mreturn\u001b[39;00m _StepArguments(retrieve_caller_name(self_instance), run_func, \u001b[38;5;241m*\u001b[39margs, \u001b[38;5;241m*\u001b[39m\u001b[38;5;241m*\u001b[39mkwargs)\n\u001b[0;32m--> 346\u001b[0m \u001b[38;5;28;01mreturn\u001b[39;00m \u001b[43mrun_func\u001b[49m\u001b[43m(\u001b[49m\u001b[38;5;241;43m*\u001b[39;49m\u001b[43margs\u001b[49m\u001b[43m,\u001b[49m\u001b[43m \u001b[49m\u001b[38;5;241;43m*\u001b[39;49m\u001b[38;5;241;43m*\u001b[39;49m\u001b[43mkwargs\u001b[49m\u001b[43m)\u001b[49m\n",
      "File \u001b[0;32m~/anaconda3/envs/python3/lib/python3.10/site-packages/sagemaker/transformer.py:318\u001b[0m, in \u001b[0;36mTransformer.transform\u001b[0;34m(self, data, data_type, content_type, compression_type, split_type, job_name, input_filter, output_filter, join_source, experiment_config, model_client_config, batch_data_capture_config, wait, logs)\u001b[0m\n\u001b[1;32m    302\u001b[0m \u001b[38;5;28mself\u001b[39m\u001b[38;5;241m.\u001b[39mlatest_transform_job \u001b[38;5;241m=\u001b[39m _TransformJob\u001b[38;5;241m.\u001b[39mstart_new(\n\u001b[1;32m    303\u001b[0m     \u001b[38;5;28mself\u001b[39m,\n\u001b[1;32m    304\u001b[0m     data,\n\u001b[0;32m   (...)\u001b[0m\n\u001b[1;32m    314\u001b[0m     batch_data_capture_config,\n\u001b[1;32m    315\u001b[0m )\n\u001b[1;32m    317\u001b[0m \u001b[38;5;28;01mif\u001b[39;00m wait:\n\u001b[0;32m--> 318\u001b[0m     \u001b[38;5;28;43mself\u001b[39;49m\u001b[38;5;241;43m.\u001b[39;49m\u001b[43mlatest_transform_job\u001b[49m\u001b[38;5;241;43m.\u001b[39;49m\u001b[43mwait\u001b[49m\u001b[43m(\u001b[49m\u001b[43mlogs\u001b[49m\u001b[38;5;241;43m=\u001b[39;49m\u001b[43mlogs\u001b[49m\u001b[43m)\u001b[49m\n",
      "File \u001b[0;32m~/anaconda3/envs/python3/lib/python3.10/site-packages/sagemaker/transformer.py:686\u001b[0m, in \u001b[0;36m_TransformJob.wait\u001b[0;34m(self, logs)\u001b[0m\n\u001b[1;32m    684\u001b[0m \u001b[38;5;28;01mdef\u001b[39;00m \u001b[38;5;21mwait\u001b[39m(\u001b[38;5;28mself\u001b[39m, logs\u001b[38;5;241m=\u001b[39m\u001b[38;5;28;01mTrue\u001b[39;00m):\n\u001b[1;32m    685\u001b[0m     \u001b[38;5;28;01mif\u001b[39;00m logs:\n\u001b[0;32m--> 686\u001b[0m         \u001b[38;5;28;43mself\u001b[39;49m\u001b[38;5;241;43m.\u001b[39;49m\u001b[43msagemaker_session\u001b[49m\u001b[38;5;241;43m.\u001b[39;49m\u001b[43mlogs_for_transform_job\u001b[49m\u001b[43m(\u001b[49m\u001b[38;5;28;43mself\u001b[39;49m\u001b[38;5;241;43m.\u001b[39;49m\u001b[43mjob_name\u001b[49m\u001b[43m,\u001b[49m\u001b[43m \u001b[49m\u001b[43mwait\u001b[49m\u001b[38;5;241;43m=\u001b[39;49m\u001b[38;5;28;43;01mTrue\u001b[39;49;00m\u001b[43m)\u001b[49m\n\u001b[1;32m    687\u001b[0m     \u001b[38;5;28;01melse\u001b[39;00m:\n\u001b[1;32m    688\u001b[0m         \u001b[38;5;28mself\u001b[39m\u001b[38;5;241m.\u001b[39msagemaker_session\u001b[38;5;241m.\u001b[39mwait_for_transform_job(\u001b[38;5;28mself\u001b[39m\u001b[38;5;241m.\u001b[39mjob_name)\n",
      "File \u001b[0;32m~/anaconda3/envs/python3/lib/python3.10/site-packages/sagemaker/session.py:6102\u001b[0m, in \u001b[0;36mSession.logs_for_transform_job\u001b[0;34m(self, job_name, wait, poll)\u001b[0m\n\u001b[1;32m   6099\u001b[0m             state \u001b[38;5;241m=\u001b[39m LogState\u001b[38;5;241m.\u001b[39mJOB_COMPLETE\n\u001b[1;32m   6101\u001b[0m \u001b[38;5;28;01mif\u001b[39;00m wait:\n\u001b[0;32m-> 6102\u001b[0m     \u001b[43m_check_job_status\u001b[49m\u001b[43m(\u001b[49m\u001b[43mjob_name\u001b[49m\u001b[43m,\u001b[49m\u001b[43m \u001b[49m\u001b[43mdescription\u001b[49m\u001b[43m,\u001b[49m\u001b[43m \u001b[49m\u001b[38;5;124;43m\"\u001b[39;49m\u001b[38;5;124;43mTransformJobStatus\u001b[39;49m\u001b[38;5;124;43m\"\u001b[39;49m\u001b[43m)\u001b[49m\n\u001b[1;32m   6103\u001b[0m     \u001b[38;5;28;01mif\u001b[39;00m dot:\n\u001b[1;32m   6104\u001b[0m         \u001b[38;5;28mprint\u001b[39m()\n",
      "File \u001b[0;32m~/anaconda3/envs/python3/lib/python3.10/site-packages/sagemaker/session.py:8611\u001b[0m, in \u001b[0;36m_check_job_status\u001b[0;34m(job, desc, status_key_name)\u001b[0m\n\u001b[1;32m   8605\u001b[0m \u001b[38;5;28;01mif\u001b[39;00m \u001b[38;5;124m\"\u001b[39m\u001b[38;5;124mCapacityError\u001b[39m\u001b[38;5;124m\"\u001b[39m \u001b[38;5;129;01min\u001b[39;00m \u001b[38;5;28mstr\u001b[39m(reason):\n\u001b[1;32m   8606\u001b[0m     \u001b[38;5;28;01mraise\u001b[39;00m exceptions\u001b[38;5;241m.\u001b[39mCapacityError(\n\u001b[1;32m   8607\u001b[0m         message\u001b[38;5;241m=\u001b[39mmessage,\n\u001b[1;32m   8608\u001b[0m         allowed_statuses\u001b[38;5;241m=\u001b[39m[\u001b[38;5;124m\"\u001b[39m\u001b[38;5;124mCompleted\u001b[39m\u001b[38;5;124m\"\u001b[39m, \u001b[38;5;124m\"\u001b[39m\u001b[38;5;124mStopped\u001b[39m\u001b[38;5;124m\"\u001b[39m],\n\u001b[1;32m   8609\u001b[0m         actual_status\u001b[38;5;241m=\u001b[39mstatus,\n\u001b[1;32m   8610\u001b[0m     )\n\u001b[0;32m-> 8611\u001b[0m \u001b[38;5;28;01mraise\u001b[39;00m exceptions\u001b[38;5;241m.\u001b[39mUnexpectedStatusException(\n\u001b[1;32m   8612\u001b[0m     message\u001b[38;5;241m=\u001b[39mmessage,\n\u001b[1;32m   8613\u001b[0m     allowed_statuses\u001b[38;5;241m=\u001b[39m[\u001b[38;5;124m\"\u001b[39m\u001b[38;5;124mCompleted\u001b[39m\u001b[38;5;124m\"\u001b[39m, \u001b[38;5;124m\"\u001b[39m\u001b[38;5;124mStopped\u001b[39m\u001b[38;5;124m\"\u001b[39m],\n\u001b[1;32m   8614\u001b[0m     actual_status\u001b[38;5;241m=\u001b[39mstatus,\n\u001b[1;32m   8615\u001b[0m )\n",
      "\u001b[0;31mUnexpectedStatusException\u001b[0m: Error for Transform job linear-learner-2024-10-23-20-42-23-387: Failed. Reason: ClientError: See job logs for more information. Check troubleshooting guide for common errors: https://docs.aws.amazon.com/sagemaker/latest/dg/sagemaker-python-sdk-troubleshooting.html"
     ]
    }
   ],
   "source": [
    "# Enter your code here\n",
    "test_labels, target_predicted = batch_linear_predict(test, classifier_estimator)"
   ]
  },
  {
   "cell_type": "markdown",
   "metadata": {},
   "source": [
    "Plot a confusion matrix."
   ]
  },
  {
   "cell_type": "code",
   "execution_count": 76,
   "metadata": {
    "tags": []
   },
   "outputs": [
    {
     "data": {
      "image/png": "[encoded data removed]",
      "text/plain": [
       "<Figure size 640x480 with 1 Axes>"
      ]
     },
     "metadata": {},
     "output_type": "display_data"
    }
   ],
   "source": [
    "# Enter your code here\n",
    "plot_confusion_matrix(test_labels, target_predicted)"
   ]
  },
  {
   "cell_type": "markdown",
   "metadata": {},
   "source": [
    "The linear model shows only a little improvement in performance. Try a tree-based ensemble model, which is called *XGBoost*, with Amazon SageMaker."
   ]
  },
  {
   "cell_type": "markdown",
   "metadata": {},
   "source": [
    "### Try the XGBoost model"
   ]
  },
  {
   "cell_type": "markdown",
   "metadata": {},
   "source": [
    "Perform these steps:  \n",
    "\n",
    "1. Use the training set variables and save them as CSV files: train.csv, validation.csv and test.csv.\n",
    "2. Store the bucket name in the variable. The Amazon S3 bucket name is provided to the left of the lab instructions.  \n",
    "a. `bucket = <LabBucketName>`  \n",
    "b. `prefix = 'flight-xgb'`  \n",
    "3. Use the AWS SDK for Python (Boto3) to upload the model to the bucket.    "
   ]
  },
  {
   "cell_type": "code",
   "execution_count": 77,
   "metadata": {
    "tags": []
   },
   "outputs": [
    {
     "name": "stderr",
     "output_type": "stream",
     "text": [
      "INFO:botocore.credentials:Found credentials from IAM Role: BaseNotebookInstanceEc2InstanceRole\n"
     ]
    }
   ],
   "source": [
    "bucket='c134412a3409745l8003998t1w11504374297-flightbucket-bixyqobwltva'\n",
    "prefix='flight-xgb'\n",
    "train_file='flight_train.csv'\n",
    "test_file='flight_test.csv'\n",
    "validate_file='flight_validate.csv'\n",
    "whole_file='flight.csv'\n",
    "s3_resource = boto3.Session().resource('s3')\n",
    "\n",
    "def upload_s3_csv(filename, folder, dataframe):\n",
    "    csv_buffer = io.StringIO()\n",
    "    dataframe.to_csv(csv_buffer, header=False, index=False )\n",
    "    s3_resource.Bucket(bucket).Object(os.path.join(prefix, folder, filename)).put(Body=csv_buffer.getvalue())\n",
    "\n",
    "upload_s3_csv(train_file, 'train', train)\n",
    "upload_s3_csv(test_file, 'test', test)\n",
    "upload_s3_csv(validate_file, 'validate', validate)"
   ]
  },
  {
   "cell_type": "markdown",
   "metadata": {},
   "source": [
    "Use the `sagemaker.inputs.TrainingInput` function to create a `record_set` for the training and validation datasets."
   ]
  },
  {
   "cell_type": "code",
   "execution_count": 78,
   "metadata": {
    "tags": []
   },
   "outputs": [],
   "source": [
    "train_channel = sagemaker.inputs.TrainingInput(\n",
    "    \"s3://{}/{}/train/\".format(bucket,prefix,train_file),\n",
    "    content_type='text/csv')\n",
    "\n",
    "validate_channel = sagemaker.inputs.TrainingInput(\n",
    "    \"s3://{}/{}/validate/\".format(bucket,prefix,validate_file),\n",
    "    content_type='text/csv')\n",
    "\n",
    "data_channels = {'train': train_channel, 'validation': validate_channel}"
   ]
  },
  {
   "cell_type": "code",
   "execution_count": 79,
   "metadata": {
    "tags": []
   },
   "outputs": [
    {
     "name": "stderr",
     "output_type": "stream",
     "text": [
      "INFO:sagemaker.image_uris:Defaulting to only available Python version: py3\n",
      "INFO:sagemaker.image_uris:Defaulting to only supported image scope: cpu.\n"
     ]
    }
   ],
   "source": [
    "from sagemaker.image_uris import retrieve\n",
    "container = retrieve('xgboost',boto3.Session().region_name,'1.0-1')"
   ]
  },
  {
   "cell_type": "code",
   "execution_count": 80,
   "metadata": {
    "tags": []
   },
   "outputs": [
    {
     "name": "stderr",
     "output_type": "stream",
     "text": [
      "INFO:sagemaker:Creating training-job with name: sagemaker-xgboost-2024-10-23-20-54-52-556\n"
     ]
    },
    {
     "name": "stdout",
     "output_type": "stream",
     "text": [
      "2024-10-23 20:54:55 Starting - Starting the training job...\n",
      "2024-10-23 20:55:09 Starting - Preparing the instances for training...\n",
      "2024-10-23 20:55:40 Downloading - Downloading input data...\n",
      "2024-10-23 20:56:20 Downloading - Downloading the training image......\n",
      "2024-10-23 20:57:06 Training - Training image download completed. Training in progress.\u001b[34m[2024-10-23 20:57:15.765 ip-10-0-121-122.ec2.internal:7 INFO utils.py:27] RULE_JOB_STOP_SIGNAL_FILENAME: None\u001b[0m\n",
      "\u001b[34mINFO:sagemaker-containers:Imported framework sagemaker_xgboost_container.training\u001b[0m\n",
      "\u001b[34mINFO:sagemaker-containers:Failed to parse hyperparameter eval_metric value auc to Json.\u001b[0m\n",
      "\u001b[34mReturning the value itself\u001b[0m\n",
      "\u001b[34mINFO:sagemaker-containers:Failed to parse hyperparameter objective value binary:logistic to Json.\u001b[0m\n",
      "\u001b[34mReturning the value itself\u001b[0m\n",
      "\u001b[34mINFO:sagemaker-containers:No GPUs detected (normal if no gpus installed)\u001b[0m\n",
      "\u001b[34mINFO:sagemaker_xgboost_container.training:Running XGBoost Sagemaker in algorithm mode\u001b[0m\n",
      "\u001b[34mINFO:root:Determined delimiter of CSV input is ','\u001b[0m\n",
      "\u001b[34mINFO:root:Determined delimiter of CSV input is ','\u001b[0m\n",
      "\u001b[34mINFO:root:Determined delimiter of CSV input is ','\u001b[0m\n",
      "\u001b[34mINFO:root:Determined delimiter of CSV input is ','\u001b[0m\n",
      "\u001b[34mINFO:root:Single node training.\u001b[0m\n",
      "\u001b[34m[20:57:20] 1308472x85 matrix with 111220120 entries loaded from /opt/ml/input/data/train?format=csv&label_column=0&delimiter=,\u001b[0m\n",
      "\u001b[34m[20:57:21] 163559x85 matrix with 13902515 entries loaded from /opt/ml/input/data/validation?format=csv&label_column=0&delimiter=,\u001b[0m\n",
      "\u001b[34m[2024-10-23 20:57:21.264 ip-10-0-121-122.ec2.internal:7 INFO json_config.py:91] Creating hook from json_config at /opt/ml/input/config/debughookconfig.json.\u001b[0m\n",
      "\u001b[34m[2024-10-23 20:57:21.264 ip-10-0-121-122.ec2.internal:7 INFO hook.py:201] tensorboard_dir has not been set for the hook. SMDebug will not be exporting tensorboard summaries.\u001b[0m\n",
      "\u001b[34m[2024-10-23 20:57:21.265 ip-10-0-121-122.ec2.internal:7 INFO profiler_config_parser.py:102] User has disabled profiler.\u001b[0m\n",
      "\u001b[34m[2024-10-23 20:57:21.265 ip-10-0-121-122.ec2.internal:7 INFO hook.py:255] Saving to /opt/ml/output/tensors\u001b[0m\n",
      "\u001b[34m[2024-10-23 20:57:21.265 ip-10-0-121-122.ec2.internal:7 INFO state_store.py:77] The checkpoint config file /opt/ml/input/config/checkpointconfig.json does not exist.\u001b[0m\n",
      "\u001b[34mINFO:root:Debug hook created from config\u001b[0m\n",
      "\u001b[34mINFO:root:Train matrix has 1308472 rows\u001b[0m\n",
      "\u001b[34mINFO:root:Validation matrix has 163559 rows\u001b[0m\n",
      "\u001b[34m[0]#011train-auc:0.65399#011validation-auc:0.65270\u001b[0m\n",
      "\u001b[34m[2024-10-23 20:57:26.430 ip-10-0-121-122.ec2.internal:7 INFO hook.py:423] Monitoring the collections: metrics\u001b[0m\n",
      "\u001b[34m[2024-10-23 20:57:26.433 ip-10-0-121-122.ec2.internal:7 INFO hook.py:486] Hook is writing from the hook with pid: 7\u001b[0m\n",
      "\u001b[34m[1]#011train-auc:0.66324#011validation-auc:0.66254\u001b[0m\n",
      "\u001b[34m[2]#011train-auc:0.67084#011validation-auc:0.66975\u001b[0m\n",
      "\u001b[34m[3]#011train-auc:0.67269#011validation-auc:0.67147\u001b[0m\n",
      "\u001b[34m[4]#011train-auc:0.67731#011validation-auc:0.67668\u001b[0m\n",
      "\u001b[34m[5]#011train-auc:0.67870#011validation-auc:0.67795\u001b[0m\n",
      "\u001b[34m[6]#011train-auc:0.68067#011validation-auc:0.68021\u001b[0m\n",
      "\u001b[34m[7]#011train-auc:0.68360#011validation-auc:0.68324\u001b[0m\n",
      "\u001b[34m[8]#011train-auc:0.68527#011validation-auc:0.68495\u001b[0m\n",
      "\u001b[34m[9]#011train-auc:0.68754#011validation-auc:0.68743\u001b[0m\n",
      "\u001b[34m[10]#011train-auc:0.68912#011validation-auc:0.68905\u001b[0m\n",
      "\u001b[34m[11]#011train-auc:0.69146#011validation-auc:0.69157\u001b[0m\n",
      "\u001b[34m[12]#011train-auc:0.69290#011validation-auc:0.69300\u001b[0m\n",
      "\u001b[34m[13]#011train-auc:0.69549#011validation-auc:0.69565\u001b[0m\n",
      "\u001b[34m[14]#011train-auc:0.69597#011validation-auc:0.69611\u001b[0m\n",
      "\u001b[34m[15]#011train-auc:0.69760#011validation-auc:0.69765\u001b[0m\n",
      "\u001b[34m[16]#011train-auc:0.69915#011validation-auc:0.69929\u001b[0m\n",
      "\u001b[34m[17]#011train-auc:0.70054#011validation-auc:0.70069\u001b[0m\n",
      "\u001b[34m[18]#011train-auc:0.70166#011validation-auc:0.70201\u001b[0m\n",
      "\u001b[34m[19]#011train-auc:0.70274#011validation-auc:0.70306\u001b[0m\n",
      "\u001b[34m[20]#011train-auc:0.70398#011validation-auc:0.70430\u001b[0m\n",
      "\u001b[34m[21]#011train-auc:0.70475#011validation-auc:0.70507\u001b[0m\n",
      "\u001b[34m[22]#011train-auc:0.70645#011validation-auc:0.70671\u001b[0m\n",
      "\u001b[34m[23]#011train-auc:0.70722#011validation-auc:0.70749\u001b[0m\n",
      "\u001b[34m[24]#011train-auc:0.70773#011validation-auc:0.70804\u001b[0m\n",
      "\u001b[34m[25]#011train-auc:0.70833#011validation-auc:0.70866\u001b[0m\n",
      "\u001b[34m[26]#011train-auc:0.70922#011validation-auc:0.70961\u001b[0m\n",
      "\u001b[34m[27]#011train-auc:0.70982#011validation-auc:0.71007\u001b[0m\n",
      "\u001b[34m[28]#011train-auc:0.71088#011validation-auc:0.71120\u001b[0m\n",
      "\u001b[34m[29]#011train-auc:0.71124#011validation-auc:0.71158\u001b[0m\n",
      "\u001b[34m[30]#011train-auc:0.71191#011validation-auc:0.71234\u001b[0m\n",
      "\u001b[34m[31]#011train-auc:0.71236#011validation-auc:0.71271\u001b[0m\n",
      "\u001b[34m[32]#011train-auc:0.71314#011validation-auc:0.71339\u001b[0m\n",
      "\u001b[34m[33]#011train-auc:0.71522#011validation-auc:0.71538\u001b[0m\n",
      "\u001b[34m[34]#011train-auc:0.71563#011validation-auc:0.71579\u001b[0m\n",
      "\u001b[34m[35]#011train-auc:0.71673#011validation-auc:0.71682\u001b[0m\n",
      "\u001b[34m[36]#011train-auc:0.71712#011validation-auc:0.71710\u001b[0m\n",
      "\u001b[34m[37]#011train-auc:0.71751#011validation-auc:0.71754\u001b[0m\n",
      "\u001b[34m[38]#011train-auc:0.71772#011validation-auc:0.71767\u001b[0m\n",
      "\u001b[34m[39]#011train-auc:0.71806#011validation-auc:0.71797\u001b[0m\n",
      "\u001b[34m[40]#011train-auc:0.71831#011validation-auc:0.71813\u001b[0m\n",
      "\u001b[34m[41]#011train-auc:0.71875#011validation-auc:0.71854\u001b[0m\n",
      "\u001b[34m[42]#011train-auc:0.71976#011validation-auc:0.71937\u001b[0m\n",
      "\u001b[34m[43]#011train-auc:0.72010#011validation-auc:0.71971\u001b[0m\n",
      "\u001b[34m[44]#011train-auc:0.72048#011validation-auc:0.72011\u001b[0m\n",
      "\u001b[34m[45]#011train-auc:0.72078#011validation-auc:0.72036\u001b[0m\n",
      "\u001b[34m[46]#011train-auc:0.72123#011validation-auc:0.72072\u001b[0m\n",
      "\u001b[34m[47]#011train-auc:0.72138#011validation-auc:0.72078\u001b[0m\n",
      "\u001b[34m[48]#011train-auc:0.72166#011validation-auc:0.72097\u001b[0m\n",
      "\u001b[34m[49]#011train-auc:0.72193#011validation-auc:0.72129\u001b[0m\n",
      "\u001b[34m[50]#011train-auc:0.72232#011validation-auc:0.72171\u001b[0m\n",
      "\u001b[34m[51]#011train-auc:0.72259#011validation-auc:0.72192\u001b[0m\n",
      "\u001b[34m[52]#011train-auc:0.72320#011validation-auc:0.72250\u001b[0m\n",
      "\u001b[34m[53]#011train-auc:0.72354#011validation-auc:0.72283\u001b[0m\n",
      "\u001b[34m[54]#011train-auc:0.72383#011validation-auc:0.72312\u001b[0m\n",
      "\u001b[34m[55]#011train-auc:0.72411#011validation-auc:0.72335\u001b[0m\n",
      "\u001b[34m[56]#011train-auc:0.72429#011validation-auc:0.72354\u001b[0m\n",
      "\u001b[34m[57]#011train-auc:0.72474#011validation-auc:0.72401\u001b[0m\n",
      "\u001b[34m[58]#011train-auc:0.72502#011validation-auc:0.72425\u001b[0m\n",
      "\u001b[34m[59]#011train-auc:0.72535#011validation-auc:0.72453\u001b[0m\n",
      "\u001b[34m[60]#011train-auc:0.72574#011validation-auc:0.72486\u001b[0m\n",
      "\u001b[34m[61]#011train-auc:0.72601#011validation-auc:0.72513\u001b[0m\n",
      "\u001b[34m[62]#011train-auc:0.72621#011validation-auc:0.72538\u001b[0m\n",
      "\u001b[34m[63]#011train-auc:0.72648#011validation-auc:0.72558\u001b[0m\n",
      "\u001b[34m[64]#011train-auc:0.72652#011validation-auc:0.72560\u001b[0m\n",
      "\u001b[34m[65]#011train-auc:0.72693#011validation-auc:0.72602\u001b[0m\n",
      "\u001b[34m[66]#011train-auc:0.72710#011validation-auc:0.72619\u001b[0m\n",
      "\u001b[34m[67]#011train-auc:0.72729#011validation-auc:0.72635\u001b[0m\n",
      "\u001b[34m[68]#011train-auc:0.72754#011validation-auc:0.72651\u001b[0m\n",
      "\u001b[34m[69]#011train-auc:0.72778#011validation-auc:0.72668\u001b[0m\n",
      "\u001b[34m[70]#011train-auc:0.72795#011validation-auc:0.72683\u001b[0m\n",
      "\u001b[34m[71]#011train-auc:0.72812#011validation-auc:0.72698\u001b[0m\n",
      "\u001b[34m[72]#011train-auc:0.72842#011validation-auc:0.72733\u001b[0m\n",
      "\u001b[34m[73]#011train-auc:0.72864#011validation-auc:0.72755\u001b[0m\n",
      "\u001b[34m[74]#011train-auc:0.72883#011validation-auc:0.72770\u001b[0m\n",
      "\u001b[34m[75]#011train-auc:0.72907#011validation-auc:0.72786\u001b[0m\n",
      "\u001b[34m[76]#011train-auc:0.72931#011validation-auc:0.72808\u001b[0m\n",
      "\u001b[34m[77]#011train-auc:0.72961#011validation-auc:0.72830\u001b[0m\n",
      "\u001b[34m[78]#011train-auc:0.72975#011validation-auc:0.72838\u001b[0m\n",
      "\u001b[34m[79]#011train-auc:0.73001#011validation-auc:0.72857\u001b[0m\n",
      "\u001b[34m[80]#011train-auc:0.73030#011validation-auc:0.72882\u001b[0m\n",
      "\u001b[34m[81]#011train-auc:0.73047#011validation-auc:0.72902\u001b[0m\n",
      "\u001b[34m[82]#011train-auc:0.73077#011validation-auc:0.72928\u001b[0m\n",
      "\u001b[34m[83]#011train-auc:0.73106#011validation-auc:0.72951\u001b[0m\n",
      "\u001b[34m[84]#011train-auc:0.73125#011validation-auc:0.72968\u001b[0m\n",
      "\u001b[34m[85]#011train-auc:0.73152#011validation-auc:0.72993\u001b[0m\n",
      "\u001b[34m[86]#011train-auc:0.73166#011validation-auc:0.73003\u001b[0m\n",
      "\u001b[34m[87]#011train-auc:0.73183#011validation-auc:0.73013\u001b[0m\n",
      "\u001b[34m[88]#011train-auc:0.73203#011validation-auc:0.73029\u001b[0m\n",
      "\u001b[34m[89]#011train-auc:0.73216#011validation-auc:0.73038\u001b[0m\n",
      "\u001b[34m[90]#011train-auc:0.73223#011validation-auc:0.73043\u001b[0m\n",
      "\u001b[34m[91]#011train-auc:0.73228#011validation-auc:0.73045\u001b[0m\n",
      "\u001b[34m[92]#011train-auc:0.73263#011validation-auc:0.73080\u001b[0m\n",
      "\u001b[34m[93]#011train-auc:0.73268#011validation-auc:0.73084\u001b[0m\n",
      "\u001b[34m[94]#011train-auc:0.73277#011validation-auc:0.73091\u001b[0m\n",
      "\u001b[34m[95]#011train-auc:0.73302#011validation-auc:0.73110\u001b[0m\n",
      "\u001b[34m[96]#011train-auc:0.73321#011validation-auc:0.73122\u001b[0m\n",
      "\u001b[34m[97]#011train-auc:0.73342#011validation-auc:0.73143\u001b[0m\n",
      "\u001b[34m[98]#011train-auc:0.73357#011validation-auc:0.73157\u001b[0m\n",
      "\u001b[34m[99]#011train-auc:0.73384#011validation-auc:0.73182\u001b[0m\n",
      "\n",
      "2024-10-23 21:01:22 Uploading - Uploading generated training model\n",
      "2024-10-23 21:01:35 Completed - Training job completed\n",
      "Training seconds: 356\n",
      "Billable seconds: 356\n"
     ]
    }
   ],
   "source": [
    "sess = sagemaker.Session()\n",
    "s3_output_location=\"s3://{}/{}/output/\".format(bucket,prefix)\n",
    "\n",
    "xgb = sagemaker.estimator.Estimator(container,\n",
    "                                    role = sagemaker.get_execution_role(), \n",
    "                                    instance_count=1, \n",
    "                                    instance_type=instance_type,\n",
    "                                    output_path=s3_output_location,\n",
    "                                    sagemaker_session=sess)\n",
    "xgb.set_hyperparameters(max_depth=5,\n",
    "                        eta=0.2,\n",
    "                        gamma=4,\n",
    "                        min_child_weight=6,\n",
    "                        subsample=0.8,\n",
    "                        silent=0,\n",
    "                        objective='binary:logistic',\n",
    "                        eval_metric = \"auc\", \n",
    "                        num_round=100)\n",
    "\n",
    "xgb.fit(inputs=data_channels)"
   ]
  },
  {
   "cell_type": "markdown",
   "metadata": {},
   "source": [
    "Use the batch transformer for your new model, and evaluate the model on the test dataset."
   ]
  },
  {
   "cell_type": "code",
   "execution_count": 81,
   "metadata": {
    "tags": []
   },
   "outputs": [],
   "source": [
    "batch_X = test.iloc[:,1:];\n",
    "batch_X_file='batch-in.csv'\n",
    "upload_s3_csv(batch_X_file, 'batch-in', batch_X)"
   ]
  },
  {
   "cell_type": "code",
   "execution_count": 82,
   "metadata": {
    "tags": []
   },
   "outputs": [
    {
     "name": "stderr",
     "output_type": "stream",
     "text": [
      "INFO:sagemaker:Creating model with name: sagemaker-xgboost-2024-10-23-21-02-57-153\n",
      "INFO:sagemaker:Creating transform job with name: sagemaker-xgboost-2024-10-23-21-02-57-805\n"
     ]
    },
    {
     "name": "stdout",
     "output_type": "stream",
     "text": [
      "...........................................\u001b[34m[2024-10-23:21:10:06:INFO] No GPUs detected (normal if no gpus installed)\u001b[0m\n",
      "\u001b[34m[2024-10-23:21:10:06:INFO] No GPUs detected (normal if no gpus installed)\u001b[0m\n",
      "\u001b[34m[2024-10-23:21:10:06:INFO] nginx config: \u001b[0m\n",
      "\u001b[34mworker_processes auto;\u001b[0m\n",
      "\u001b[34mdaemon off;\u001b[0m\n",
      "\u001b[34mpid /tmp/nginx.pid;\u001b[0m\n",
      "\u001b[34merror_log  /dev/stderr;\u001b[0m\n",
      "\u001b[34mworker_rlimit_nofile 4096;\u001b[0m\n",
      "\u001b[34mevents {\n",
      "  worker_connections 2048;\u001b[0m\n",
      "\u001b[34m}\u001b[0m\n",
      "\u001b[34mhttp {\n",
      "  include /etc/nginx/mime.types;\n",
      "  default_type application/octet-stream;\n",
      "  access_log /dev/stdout combined;\n",
      "  upstream gunicorn {\n",
      "    server unix:/tmp/gunicorn.sock;\n",
      "  }\n",
      "  server {\n",
      "    listen 8080 deferred;\n",
      "    client_max_body_size 0;\n",
      "    keepalive_timeout 3;\n",
      "    location ~ ^/(ping|invocations|execution-parameters) {\n",
      "      proxy_set_header X-Forwarded-For $proxy_add_x_forwarded_for;\n",
      "      proxy_set_header Host $http_host;\n",
      "      proxy_redirect off;\n",
      "      proxy_read_timeout 60s;\n",
      "      proxy_pass http://gunicorn;\n",
      "    }\n",
      "    location / {\n",
      "      return 404 \"{}\";\n",
      "    }\n",
      "  }\u001b[0m\n",
      "\u001b[34m}\u001b[0m\n",
      "\u001b[34m[2024-10-23 21:10:06 +0000] [19] [INFO] Starting gunicorn 19.10.0\u001b[0m\n",
      "\u001b[34m[2024-10-23 21:10:06 +0000] [19] [INFO] Listening at: unix:/tmp/gunicorn.sock (19)\u001b[0m\n",
      "\u001b[34m[2024-10-23 21:10:06 +0000] [19] [INFO] Using worker: gevent\u001b[0m\n",
      "\u001b[34m[2024-10-23 21:10:06 +0000] [26] [INFO] Booting worker with pid: 26\u001b[0m\n",
      "\u001b[34m[2024-10-23 21:10:06 +0000] [27] [INFO] Booting worker with pid: 27\u001b[0m\n",
      "\u001b[34m[2024-10-23 21:10:07 +0000] [28] [INFO] Booting worker with pid: 28\u001b[0m\n",
      "\u001b[34m[2024-10-23 21:10:07 +0000] [29] [INFO] Booting worker with pid: 29\u001b[0m\n",
      "\u001b[34m[2024-10-23:21:10:12:INFO] No GPUs detected (normal if no gpus installed)\u001b[0m\n",
      "\u001b[34m169.254.255.130 - - [23/Oct/2024:21:10:12 +0000] \"GET /ping HTTP/1.1\" 200 0 \"-\" \"Go-http-client/1.1\"\u001b[0m\n",
      "\u001b[34m[2024-10-23:21:10:12:INFO] No GPUs detected (normal if no gpus installed)\u001b[0m\n",
      "\u001b[34m169.254.255.130 - - [23/Oct/2024:21:10:12 +0000] \"GET /execution-parameters HTTP/1.1\" 200 84 \"-\" \"Go-http-client/1.1\"\u001b[0m\n",
      "\u001b[34m[2024-10-23:21:10:13:INFO] No GPUs detected (normal if no gpus installed)\u001b[0m\n",
      "\u001b[34m[2024-10-23:21:10:13:INFO] Determined delimiter of CSV input is ','\u001b[0m\n",
      "\u001b[34m[2024-10-23:21:10:13:INFO] Determined delimiter of CSV input is ','\u001b[0m\n",
      "\u001b[34m[2024-10-23:21:10:14:INFO] Determined delimiter of CSV input is ','\u001b[0m\n",
      "\u001b[34m[2024-10-23:21:10:14:INFO] No GPUs detected (normal if no gpus installed)\u001b[0m\n",
      "\u001b[34m[2024-10-23:21:10:14:INFO] Determined delimiter of CSV input is ','\u001b[0m\n",
      "\u001b[32m2024-10-23T21:10:12.944:[sagemaker logs]: MaxConcurrentTransforms=4, MaxPayloadInMB=6, BatchStrategy=MULTI_RECORD\u001b[0m\n",
      "\u001b[34m169.254.255.130 - - [23/Oct/2024:21:10:18 +0000] \"POST /invocations HTTP/1.1\" 200 652763 \"-\" \"Go-http-client/1.1\"\u001b[0m\n",
      "\u001b[35m169.254.255.130 - - [23/Oct/2024:21:10:18 +0000] \"POST /invocations HTTP/1.1\" 200 652763 \"-\" \"Go-http-client/1.1\"\u001b[0m\n",
      "\u001b[34m169.254.255.130 - - [23/Oct/2024:21:10:18 +0000] \"POST /invocations HTTP/1.1\" 200 652821 \"-\" \"Go-http-client/1.1\"\u001b[0m\n",
      "\u001b[34m169.254.255.130 - - [23/Oct/2024:21:10:18 +0000] \"POST /invocations HTTP/1.1\" 200 652482 \"-\" \"Go-http-client/1.1\"\u001b[0m\n",
      "\u001b[35m169.254.255.130 - - [23/Oct/2024:21:10:18 +0000] \"POST /invocations HTTP/1.1\" 200 652821 \"-\" \"Go-http-client/1.1\"\u001b[0m\n",
      "\u001b[35m169.254.255.130 - - [23/Oct/2024:21:10:18 +0000] \"POST /invocations HTTP/1.1\" 200 652482 \"-\" \"Go-http-client/1.1\"\u001b[0m\n",
      "\u001b[34m169.254.255.130 - - [23/Oct/2024:21:10:18 +0000] \"POST /invocations HTTP/1.1\" 200 652677 \"-\" \"Go-http-client/1.1\"\u001b[0m\n",
      "\u001b[34m[2024-10-23:21:10:18:INFO] Determined delimiter of CSV input is ','\u001b[0m\n",
      "\u001b[35m169.254.255.130 - - [23/Oct/2024:21:10:18 +0000] \"POST /invocations HTTP/1.1\" 200 652677 \"-\" \"Go-http-client/1.1\"\u001b[0m\n",
      "\u001b[35m[2024-10-23:21:10:18:INFO] Determined delimiter of CSV input is ','\u001b[0m\n",
      "\u001b[34m169.254.255.130 - - [23/Oct/2024:21:10:20 +0000] \"POST /invocations HTTP/1.1\" 200 602188 \"-\" \"Go-http-client/1.1\"\u001b[0m\n",
      "\u001b[35m169.254.255.130 - - [23/Oct/2024:21:10:20 +0000] \"POST /invocations HTTP/1.1\" 200 602188 \"-\" \"Go-http-client/1.1\"\u001b[0m\n",
      "\n",
      "\u001b[34m[2024-10-23:21:10:06:INFO] No GPUs detected (normal if no gpus installed)\u001b[0m\n",
      "\u001b[34m[2024-10-23:21:10:06:INFO] No GPUs detected (normal if no gpus installed)\u001b[0m\n",
      "\u001b[35m[2024-10-23:21:10:06:INFO] No GPUs detected (normal if no gpus installed)\u001b[0m\n",
      "\u001b[35m[2024-10-23:21:10:06:INFO] No GPUs detected (normal if no gpus installed)\u001b[0m\n",
      "\u001b[34m[2024-10-23:21:10:06:INFO] nginx config: \u001b[0m\n",
      "\u001b[34mworker_processes auto;\u001b[0m\n",
      "\u001b[34mdaemon off;\u001b[0m\n",
      "\u001b[34mpid /tmp/nginx.pid;\u001b[0m\n",
      "\u001b[34merror_log  /dev/stderr;\u001b[0m\n",
      "\u001b[34mworker_rlimit_nofile 4096;\u001b[0m\n",
      "\u001b[34mevents {\n",
      "  worker_connections 2048;\u001b[0m\n",
      "\u001b[34m}\u001b[0m\n",
      "\u001b[35m[2024-10-23:21:10:06:INFO] nginx config: \u001b[0m\n",
      "\u001b[35mworker_processes auto;\u001b[0m\n",
      "\u001b[35mdaemon off;\u001b[0m\n",
      "\u001b[35mpid /tmp/nginx.pid;\u001b[0m\n",
      "\u001b[35merror_log  /dev/stderr;\u001b[0m\n",
      "\u001b[35mworker_rlimit_nofile 4096;\u001b[0m\n",
      "\u001b[35mevents {\n",
      "  worker_connections 2048;\u001b[0m\n",
      "\u001b[35m}\u001b[0m\n",
      "\u001b[34mhttp {\n",
      "  include /etc/nginx/mime.types;\n",
      "  default_type application/octet-stream;\n",
      "  access_log /dev/stdout combined;\n",
      "  upstream gunicorn {\n",
      "    server unix:/tmp/gunicorn.sock;\n",
      "  }\n",
      "  server {\n",
      "    listen 8080 deferred;\n",
      "    client_max_body_size 0;\n",
      "    keepalive_timeout 3;\n",
      "    location ~ ^/(ping|invocations|execution-parameters) {\n",
      "      proxy_set_header X-Forwarded-For $proxy_add_x_forwarded_for;\n",
      "      proxy_set_header Host $http_host;\n",
      "      proxy_redirect off;\n",
      "      proxy_read_timeout 60s;\n",
      "      proxy_pass http://gunicorn;\n",
      "    }\n",
      "    location / {\n",
      "      return 404 \"{}\";\n",
      "    }\n",
      "  }\u001b[0m\n",
      "\u001b[34m}\u001b[0m\n",
      "\u001b[34m[2024-10-23 21:10:06 +0000] [19] [INFO] Starting gunicorn 19.10.0\u001b[0m\n",
      "\u001b[34m[2024-10-23 21:10:06 +0000] [19] [INFO] Listening at: unix:/tmp/gunicorn.sock (19)\u001b[0m\n",
      "\u001b[34m[2024-10-23 21:10:06 +0000] [19] [INFO] Using worker: gevent\u001b[0m\n",
      "\u001b[34m[2024-10-23 21:10:06 +0000] [26] [INFO] Booting worker with pid: 26\u001b[0m\n",
      "\u001b[34m[2024-10-23 21:10:06 +0000] [27] [INFO] Booting worker with pid: 27\u001b[0m\n",
      "\u001b[34m[2024-10-23 21:10:07 +0000] [28] [INFO] Booting worker with pid: 28\u001b[0m\n",
      "\u001b[34m[2024-10-23 21:10:07 +0000] [29] [INFO] Booting worker with pid: 29\u001b[0m\n",
      "\u001b[35mhttp {\n",
      "  include /etc/nginx/mime.types;\n",
      "  default_type application/octet-stream;\n",
      "  access_log /dev/stdout combined;\n",
      "  upstream gunicorn {\n",
      "    server unix:/tmp/gunicorn.sock;\n",
      "  }\n",
      "  server {\n",
      "    listen 8080 deferred;\n",
      "    client_max_body_size 0;\n",
      "    keepalive_timeout 3;\n",
      "    location ~ ^/(ping|invocations|execution-parameters) {\n",
      "      proxy_set_header X-Forwarded-For $proxy_add_x_forwarded_for;\n",
      "      proxy_set_header Host $http_host;\n",
      "      proxy_redirect off;\n",
      "      proxy_read_timeout 60s;\n",
      "      proxy_pass http://gunicorn;\n",
      "    }\n",
      "    location / {\n",
      "      return 404 \"{}\";\n",
      "    }\n",
      "  }\u001b[0m\n",
      "\u001b[35m}\u001b[0m\n",
      "\u001b[35m[2024-10-23 21:10:06 +0000] [19] [INFO] Starting gunicorn 19.10.0\u001b[0m\n",
      "\u001b[35m[2024-10-23 21:10:06 +0000] [19] [INFO] Listening at: unix:/tmp/gunicorn.sock (19)\u001b[0m\n",
      "\u001b[35m[2024-10-23 21:10:06 +0000] [19] [INFO] Using worker: gevent\u001b[0m\n",
      "\u001b[35m[2024-10-23 21:10:06 +0000] [26] [INFO] Booting worker with pid: 26\u001b[0m\n",
      "\u001b[35m[2024-10-23 21:10:06 +0000] [27] [INFO] Booting worker with pid: 27\u001b[0m\n",
      "\u001b[35m[2024-10-23 21:10:07 +0000] [28] [INFO] Booting worker with pid: 28\u001b[0m\n",
      "\u001b[35m[2024-10-23 21:10:07 +0000] [29] [INFO] Booting worker with pid: 29\u001b[0m\n",
      "\u001b[34m[2024-10-23:21:10:12:INFO] No GPUs detected (normal if no gpus installed)\u001b[0m\n",
      "\u001b[34m169.254.255.130 - - [23/Oct/2024:21:10:12 +0000] \"GET /ping HTTP/1.1\" 200 0 \"-\" \"Go-http-client/1.1\"\u001b[0m\n",
      "\u001b[34m[2024-10-23:21:10:12:INFO] No GPUs detected (normal if no gpus installed)\u001b[0m\n",
      "\u001b[34m169.254.255.130 - - [23/Oct/2024:21:10:12 +0000] \"GET /execution-parameters HTTP/1.1\" 200 84 \"-\" \"Go-http-client/1.1\"\u001b[0m\n",
      "\u001b[35m[2024-10-23:21:10:12:INFO] No GPUs detected (normal if no gpus installed)\u001b[0m\n",
      "\u001b[35m169.254.255.130 - - [23/Oct/2024:21:10:12 +0000] \"GET /ping HTTP/1.1\" 200 0 \"-\" \"Go-http-client/1.1\"\u001b[0m\n",
      "\u001b[35m[2024-10-23:21:10:12:INFO] No GPUs detected (normal if no gpus installed)\u001b[0m\n",
      "\u001b[35m169.254.255.130 - - [23/Oct/2024:21:10:12 +0000] \"GET /execution-parameters HTTP/1.1\" 200 84 \"-\" \"Go-http-client/1.1\"\u001b[0m\n",
      "\u001b[34m[2024-10-23:21:10:13:INFO] No GPUs detected (normal if no gpus installed)\u001b[0m\n",
      "\u001b[34m[2024-10-23:21:10:13:INFO] Determined delimiter of CSV input is ','\u001b[0m\n",
      "\u001b[34m[2024-10-23:21:10:13:INFO] Determined delimiter of CSV input is ','\u001b[0m\n",
      "\u001b[34m[2024-10-23:21:10:14:INFO] Determined delimiter of CSV input is ','\u001b[0m\n",
      "\u001b[34m[2024-10-23:21:10:14:INFO] No GPUs detected (normal if no gpus installed)\u001b[0m\n",
      "\u001b[34m[2024-10-23:21:10:14:INFO] Determined delimiter of CSV input is ','\u001b[0m\n",
      "\u001b[35m[2024-10-23:21:10:13:INFO] No GPUs detected (normal if no gpus installed)\u001b[0m\n",
      "\u001b[35m[2024-10-23:21:10:13:INFO] Determined delimiter of CSV input is ','\u001b[0m\n",
      "\u001b[35m[2024-10-23:21:10:13:INFO] Determined delimiter of CSV input is ','\u001b[0m\n",
      "\u001b[35m[2024-10-23:21:10:14:INFO] Determined delimiter of CSV input is ','\u001b[0m\n",
      "\u001b[35m[2024-10-23:21:10:14:INFO] No GPUs detected (normal if no gpus installed)\u001b[0m\n",
      "\u001b[35m[2024-10-23:21:10:14:INFO] Determined delimiter of CSV input is ','\u001b[0m\n",
      "\u001b[32m2024-10-23T21:10:12.944:[sagemaker logs]: MaxConcurrentTransforms=4, MaxPayloadInMB=6, BatchStrategy=MULTI_RECORD\u001b[0m\n",
      "\u001b[34m169.254.255.130 - - [23/Oct/2024:21:10:18 +0000] \"POST /invocations HTTP/1.1\" 200 652763 \"-\" \"Go-http-client/1.1\"\u001b[0m\n",
      "\u001b[35m169.254.255.130 - - [23/Oct/2024:21:10:18 +0000] \"POST /invocations HTTP/1.1\" 200 652763 \"-\" \"Go-http-client/1.1\"\u001b[0m\n",
      "\u001b[34m169.254.255.130 - - [23/Oct/2024:21:10:18 +0000] \"POST /invocations HTTP/1.1\" 200 652821 \"-\" \"Go-http-client/1.1\"\u001b[0m\n",
      "\u001b[34m169.254.255.130 - - [23/Oct/2024:21:10:18 +0000] \"POST /invocations HTTP/1.1\" 200 652482 \"-\" \"Go-http-client/1.1\"\u001b[0m\n",
      "\u001b[35m169.254.255.130 - - [23/Oct/2024:21:10:18 +0000] \"POST /invocations HTTP/1.1\" 200 652821 \"-\" \"Go-http-client/1.1\"\u001b[0m\n",
      "\u001b[35m169.254.255.130 - - [23/Oct/2024:21:10:18 +0000] \"POST /invocations HTTP/1.1\" 200 652482 \"-\" \"Go-http-client/1.1\"\u001b[0m\n",
      "\u001b[34m169.254.255.130 - - [23/Oct/2024:21:10:18 +0000] \"POST /invocations HTTP/1.1\" 200 652677 \"-\" \"Go-http-client/1.1\"\u001b[0m\n",
      "\u001b[34m[2024-10-23:21:10:18:INFO] Determined delimiter of CSV input is ','\u001b[0m\n",
      "\u001b[35m169.254.255.130 - - [23/Oct/2024:21:10:18 +0000] \"POST /invocations HTTP/1.1\" 200 652677 \"-\" \"Go-http-client/1.1\"\u001b[0m\n",
      "\u001b[35m[2024-10-23:21:10:18:INFO] Determined delimiter of CSV input is ','\u001b[0m\n",
      "\u001b[34m169.254.255.130 - - [23/Oct/2024:21:10:20 +0000] \"POST /invocations HTTP/1.1\" 200 602188 \"-\" \"Go-http-client/1.1\"\u001b[0m\n",
      "\u001b[35m169.254.255.130 - - [23/Oct/2024:21:10:20 +0000] \"POST /invocations HTTP/1.1\" 200 602188 \"-\" \"Go-http-client/1.1\"\u001b[0m\n"
     ]
    }
   ],
   "source": [
    "batch_output = \"s3://{}/{}/batch-out/\".format(bucket,prefix)\n",
    "batch_input = \"s3://{}/{}/batch-in/{}\".format(bucket,prefix,batch_X_file)\n",
    "\n",
    "xgb_transformer = xgb.transformer(instance_count=1,\n",
    "                                       instance_type=instance_type,\n",
    "                                       strategy='MultiRecord',\n",
    "                                       assemble_with='Line',\n",
    "                                       output_path=batch_output)\n",
    "\n",
    "xgb_transformer.transform(data=batch_input,\n",
    "                         data_type='S3Prefix',\n",
    "                         content_type='text/csv',\n",
    "                         split_type='Line')\n",
    "xgb_transformer.wait()"
   ]
  },
  {
   "cell_type": "markdown",
   "metadata": {},
   "source": [
    "Get the predicted target and test labels."
   ]
  },
  {
   "cell_type": "code",
   "execution_count": 83,
   "metadata": {
    "tags": []
   },
   "outputs": [],
   "source": [
    "s3 = boto3.client('s3')\n",
    "obj = s3.get_object(Bucket=bucket, Key=\"{}/batch-out/{}\".format(prefix,'batch-in.csv.out'))\n",
    "target_predicted = pd.read_csv(io.BytesIO(obj['Body'].read()),sep=',',names=['target'])\n",
    "test_labels = test.iloc[:,0]"
   ]
  },
  {
   "cell_type": "markdown",
   "metadata": {},
   "source": [
    "Calculate the predicted values based on the defined threshold.\n",
    "\n",
    "**Note:** The predicted target will be a score, which must be converted to a binary class."
   ]
  },
  {
   "cell_type": "code",
   "execution_count": 84,
   "metadata": {
    "tags": []
   },
   "outputs": [
    {
     "name": "stdout",
     "output_type": "stream",
     "text": [
      "     target\n",
      "0  0.103151\n",
      "1  0.065853\n",
      "2  0.251920\n",
      "3  0.177309\n",
      "4  0.068207\n",
      "   target\n",
      "0       0\n",
      "1       0\n",
      "2       0\n",
      "3       0\n",
      "4       0\n"
     ]
    }
   ],
   "source": [
    "print(target_predicted.head())\n",
    "\n",
    "def binary_convert(x):\n",
    "    threshold = 0.55\n",
    "    if x > threshold:\n",
    "        return 1\n",
    "    else:\n",
    "        return 0\n",
    "\n",
    "target_predicted['target'] = target_predicted['target'].apply(binary_convert)\n",
    "\n",
    "test_labels = test.iloc[:,0]\n",
    "\n",
    "print(target_predicted.head())"
   ]
  },
  {
   "cell_type": "markdown",
   "metadata": {},
   "source": [
    "Plot a confusion matrix for your `target_predicted` and `test_labels`."
   ]
  },
  {
   "cell_type": "code",
   "execution_count": 87,
   "metadata": {
    "tags": []
   },
   "outputs": [
    {
     "data": {
      "image/png": "[encoded data removed]",
      "text/plain": [
       "<Figure size 640x480 with 1 Axes>"
      ]
     },
     "metadata": {},
     "output_type": "display_data"
    }
   ],
   "source": [
    "# Enter your code here\n",
    "plot_confusion_matrix(test_labels, target_predicted)"
   ]
  },
  {
   "cell_type": "markdown",
   "metadata": {},
   "source": [
    "### Try different thresholds"
   ]
  },
  {
   "cell_type": "markdown",
   "metadata": {},
   "source": [
    "**Question**: Based on how well the model handled the test set, what can you conclude?"
   ]
  },
  {
   "cell_type": "code",
   "execution_count": 86,
   "metadata": {
    "tags": []
   },
   "outputs": [],
   "source": [
    "#Enter your answer here"
   ]
  },
  {
   "cell_type": "markdown",
   "metadata": {},
   "source": [
    "### Hyperparameter optimization (HPO)"
   ]
  },
  {
   "cell_type": "code",
   "execution_count": 88,
   "metadata": {
    "tags": []
   },
   "outputs": [],
   "source": [
    "from sagemaker.tuner import IntegerParameter, CategoricalParameter, ContinuousParameter, HyperparameterTuner\n",
    "\n",
    "### You can spin up multiple instances to do hyperparameter optimization in parallel\n",
    "\n",
    "xgb = sagemaker.estimator.Estimator(container,\n",
    "                                    role=sagemaker.get_execution_role(), \n",
    "                                    instance_count= 1, # make sure you have a limit set for these instances\n",
    "                                    instance_type=instance_type, \n",
    "                                    output_path='s3://{}/{}/output'.format(bucket, prefix),\n",
    "                                    sagemaker_session=sess)\n",
    "\n",
    "xgb.set_hyperparameters(eval_metric='auc',\n",
    "                        objective='binary:logistic',\n",
    "                        num_round=100,\n",
    "                        rate_drop=0.3,\n",
    "                        tweedie_variance_power=1.4)\n",
    "\n",
    "hyperparameter_ranges = {'alpha': ContinuousParameter(0, 1000, scaling_type='Linear'),\n",
    "                         'eta': ContinuousParameter(0.1, 0.5, scaling_type='Linear'),\n",
    "                         'min_child_weight': ContinuousParameter(3, 10, scaling_type='Linear'),\n",
    "                         'subsample': ContinuousParameter(0.5, 1),\n",
    "                         'num_round': IntegerParameter(10,150)}\n",
    "\n",
    "objective_metric_name = 'validation:auc'\n",
    "\n",
    "tuner = HyperparameterTuner(xgb,\n",
    "                            objective_metric_name,\n",
    "                            hyperparameter_ranges,\n",
    "                            max_jobs=10, # Set this to 10 or above depending upon budget and available time.\n",
    "                            max_parallel_jobs=1)"
   ]
  },
  {
   "cell_type": "code",
   "execution_count": 89,
   "metadata": {
    "tags": []
   },
   "outputs": [
    {
     "name": "stderr",
     "output_type": "stream",
     "text": [
      "WARNING:sagemaker.estimator:No finished training job found associated with this estimator. Please make sure this estimator is only used for building workflow config\n",
      "WARNING:sagemaker.estimator:No finished training job found associated with this estimator. Please make sure this estimator is only used for building workflow config\n",
      "INFO:sagemaker:Creating hyperparameter tuning job with name: sagemaker-xgboost-241023-2229\n"
     ]
    },
    {
     "name": "stdout",
     "output_type": "stream",
     "text": [
      "...........................................................................................................................................................................................................................................................................................................................................................................................................................................................................................................................................................................................................................................................................!\n",
      "!\n"
     ]
    }
   ],
   "source": [
    "tuner.fit(inputs=data_channels)\n",
    "tuner.wait()"
   ]
  },
  {
   "cell_type": "markdown",
   "metadata": {},
   "source": [
    "<i class=\"fas fa-exclamation-triangle\" style=\"color:red\"></i> Wait until the training job is finished. It might take 25-30 minutes.\n",
    "\n",
    "**To monitor hyperparameter optimization jobs:**  \n",
    "\n",
    "1. In the AWS Management Console, on the **Services** menu, choose **Amazon SageMaker**.  \n",
    "2. Choose **Training > Hyperparameter tuning jobs**.\n",
    "3. You can check the status of each hyperparameter tuning job, its objective metric value, and its logs.  "
   ]
  },
  {
   "cell_type": "markdown",
   "metadata": {},
   "source": [
    "Check that the job completed successfully."
   ]
  },
  {
   "cell_type": "code",
   "execution_count": 90,
   "metadata": {
    "tags": []
   },
   "outputs": [
    {
     "data": {
      "text/plain": [
       "'Completed'"
      ]
     },
     "execution_count": 90,
     "metadata": {},
     "output_type": "execute_result"
    }
   ],
   "source": [
    "boto3.client('sagemaker').describe_hyper_parameter_tuning_job(\n",
    "    HyperParameterTuningJobName=tuner.latest_tuning_job.job_name)['HyperParameterTuningJobStatus']"
   ]
  },
  {
   "cell_type": "markdown",
   "metadata": {},
   "source": [
    "The hyperparameter tuning job will have a model that worked the best. You can get the information about that model from the tuning job."
   ]
  },
  {
   "cell_type": "code",
   "execution_count": 91,
   "metadata": {
    "tags": []
   },
   "outputs": [
    {
     "name": "stderr",
     "output_type": "stream",
     "text": [
      "INFO:botocore.credentials:Found credentials from IAM Role: BaseNotebookInstanceEc2InstanceRole\n"
     ]
    },
    {
     "name": "stdout",
     "output_type": "stream",
     "text": [
      "tuning job name:sagemaker-xgboost-241023-2229\n",
      "best training job: sagemaker-xgboost-241023-2229-009-cb12ee00\n",
      "\n",
      "2024-10-23 23:21:57 Starting - Found matching resource for reuse\n",
      "2024-10-23 23:21:57 Downloading - Downloading the training image\n",
      "2024-10-23 23:21:57 Training - Training image download completed. Training in progress.\n",
      "2024-10-23 23:21:57 Uploading - Uploading generated training model\n",
      "2024-10-23 23:21:57 Completed - Resource reused by training job: sagemaker-xgboost-241023-2229-010-e287ec75\n"
     ]
    },
    {
     "data": {
      "text/html": [
       "<div>\n",
       "<style scoped>\n",
       "    .dataframe tbody tr th:only-of-type {\n",
       "        vertical-align: middle;\n",
       "    }\n",
       "\n",
       "    .dataframe tbody tr th {\n",
       "        vertical-align: top;\n",
       "    }\n",
       "\n",
       "    .dataframe thead th {\n",
       "        text-align: right;\n",
       "    }\n",
       "</style>\n",
       "<table border=\"1\" class=\"dataframe\">\n",
       "  <thead>\n",
       "    <tr style=\"text-align: right;\">\n",
       "      <th></th>\n",
       "      <th>alpha</th>\n",
       "      <th>eta</th>\n",
       "      <th>min_child_weight</th>\n",
       "      <th>num_round</th>\n",
       "      <th>subsample</th>\n",
       "      <th>TrainingJobName</th>\n",
       "      <th>TrainingJobStatus</th>\n",
       "      <th>FinalObjectiveValue</th>\n",
       "      <th>TrainingStartTime</th>\n",
       "      <th>TrainingEndTime</th>\n",
       "      <th>TrainingElapsedTimeSeconds</th>\n",
       "    </tr>\n",
       "  </thead>\n",
       "  <tbody>\n",
       "    <tr>\n",
       "      <th>0</th>\n",
       "      <td>62.021975</td>\n",
       "      <td>0.499855</td>\n",
       "      <td>3.857294</td>\n",
       "      <td>39.0</td>\n",
       "      <td>0.740526</td>\n",
       "      <td>sagemaker-xgboost-241023-2229-010-e287ec75</td>\n",
       "      <td>Completed</td>\n",
       "      <td>0.73069</td>\n",
       "      <td>2024-10-23 23:21:58+00:00</td>\n",
       "      <td>2024-10-23 23:24:37+00:00</td>\n",
       "      <td>159.0</td>\n",
       "    </tr>\n",
       "    <tr>\n",
       "      <th>1</th>\n",
       "      <td>25.632853</td>\n",
       "      <td>0.421248</td>\n",
       "      <td>3.042272</td>\n",
       "      <td>145.0</td>\n",
       "      <td>0.926806</td>\n",
       "      <td>sagemaker-xgboost-241023-2229-009-cb12ee00</td>\n",
       "      <td>Completed</td>\n",
       "      <td>0.75165</td>\n",
       "      <td>2024-10-23 23:14:26+00:00</td>\n",
       "      <td>2024-10-23 23:21:32+00:00</td>\n",
       "      <td>426.0</td>\n",
       "    </tr>\n",
       "    <tr>\n",
       "      <th>2</th>\n",
       "      <td>40.700891</td>\n",
       "      <td>0.132366</td>\n",
       "      <td>5.972742</td>\n",
       "      <td>113.0</td>\n",
       "      <td>0.784767</td>\n",
       "      <td>sagemaker-xgboost-241023-2229-008-f40b3f7e</td>\n",
       "      <td>Completed</td>\n",
       "      <td>0.73180</td>\n",
       "      <td>2024-10-23 23:06:51+00:00</td>\n",
       "      <td>2024-10-23 23:13:22+00:00</td>\n",
       "      <td>391.0</td>\n",
       "    </tr>\n",
       "    <tr>\n",
       "      <th>3</th>\n",
       "      <td>185.018599</td>\n",
       "      <td>0.277161</td>\n",
       "      <td>3.266760</td>\n",
       "      <td>99.0</td>\n",
       "      <td>0.861987</td>\n",
       "      <td>sagemaker-xgboost-241023-2229-007-09733b42</td>\n",
       "      <td>Completed</td>\n",
       "      <td>0.73002</td>\n",
       "      <td>2024-10-23 23:01:21+00:00</td>\n",
       "      <td>2024-10-23 23:06:31+00:00</td>\n",
       "      <td>310.0</td>\n",
       "    </tr>\n",
       "    <tr>\n",
       "      <th>4</th>\n",
       "      <td>0.000000</td>\n",
       "      <td>0.100000</td>\n",
       "      <td>8.816807</td>\n",
       "      <td>75.0</td>\n",
       "      <td>0.827056</td>\n",
       "      <td>sagemaker-xgboost-241023-2229-006-1a673625</td>\n",
       "      <td>Completed</td>\n",
       "      <td>0.72455</td>\n",
       "      <td>2024-10-23 22:56:41+00:00</td>\n",
       "      <td>2024-10-23 23:00:51+00:00</td>\n",
       "      <td>250.0</td>\n",
       "    </tr>\n",
       "  </tbody>\n",
       "</table>\n",
       "</div>"
      ],
      "text/plain": [
       "        alpha       eta  min_child_weight  num_round  subsample  \\\n",
       "0   62.021975  0.499855          3.857294       39.0   0.740526   \n",
       "1   25.632853  0.421248          3.042272      145.0   0.926806   \n",
       "2   40.700891  0.132366          5.972742      113.0   0.784767   \n",
       "3  185.018599  0.277161          3.266760       99.0   0.861987   \n",
       "4    0.000000  0.100000          8.816807       75.0   0.827056   \n",
       "\n",
       "                              TrainingJobName TrainingJobStatus  \\\n",
       "0  sagemaker-xgboost-241023-2229-010-e287ec75         Completed   \n",
       "1  sagemaker-xgboost-241023-2229-009-cb12ee00         Completed   \n",
       "2  sagemaker-xgboost-241023-2229-008-f40b3f7e         Completed   \n",
       "3  sagemaker-xgboost-241023-2229-007-09733b42         Completed   \n",
       "4  sagemaker-xgboost-241023-2229-006-1a673625         Completed   \n",
       "\n",
       "   FinalObjectiveValue         TrainingStartTime           TrainingEndTime  \\\n",
       "0              0.73069 2024-10-23 23:21:58+00:00 2024-10-23 23:24:37+00:00   \n",
       "1              0.75165 2024-10-23 23:14:26+00:00 2024-10-23 23:21:32+00:00   \n",
       "2              0.73180 2024-10-23 23:06:51+00:00 2024-10-23 23:13:22+00:00   \n",
       "3              0.73002 2024-10-23 23:01:21+00:00 2024-10-23 23:06:31+00:00   \n",
       "4              0.72455 2024-10-23 22:56:41+00:00 2024-10-23 23:00:51+00:00   \n",
       "\n",
       "   TrainingElapsedTimeSeconds  \n",
       "0                       159.0  \n",
       "1                       426.0  \n",
       "2                       391.0  \n",
       "3                       310.0  \n",
       "4                       250.0  "
      ]
     },
     "execution_count": 91,
     "metadata": {},
     "output_type": "execute_result"
    }
   ],
   "source": [
    "sage_client = boto3.Session().client('sagemaker')\n",
    "tuning_job_name = tuner.latest_tuning_job.job_name\n",
    "print(f'tuning job name:{tuning_job_name}')\n",
    "tuning_job_result = sage_client.describe_hyper_parameter_tuning_job(HyperParameterTuningJobName=tuning_job_name)\n",
    "best_training_job = tuning_job_result['BestTrainingJob']\n",
    "best_training_job_name = best_training_job['TrainingJobName']\n",
    "print(f\"best training job: {best_training_job_name}\")\n",
    "\n",
    "best_estimator = tuner.best_estimator()\n",
    "\n",
    "tuner_df = sagemaker.HyperparameterTuningJobAnalytics(tuning_job_name).dataframe()\n",
    "tuner_df.head()"
   ]
  },
  {
   "cell_type": "markdown",
   "metadata": {},
   "source": [
    "Use the estimator `best_estimator` and train it by using the data. \n",
    "\n",
    "**Tip:** See the previous XGBoost estimator fit function."
   ]
  },
  {
   "cell_type": "code",
   "execution_count": 92,
   "metadata": {
    "tags": []
   },
   "outputs": [
    {
     "name": "stderr",
     "output_type": "stream",
     "text": [
      "INFO:sagemaker:Creating training-job with name: sagemaker-xgboost-2024-10-23-23-26-26-178\n"
     ]
    },
    {
     "name": "stdout",
     "output_type": "stream",
     "text": [
      "2024-10-23 23:26:27 Starting - Starting the training job...\n",
      "2024-10-23 23:26:42 Starting - Preparing the instances for training...\n",
      "2024-10-23 23:27:14 Downloading - Downloading input data...\n",
      "2024-10-23 23:27:50 Downloading - Downloading the training image......\n",
      "2024-10-23 23:28:41 Training - Training image download completed. Training in progress.\u001b[34m[2024-10-23 23:28:51.141 ip-10-2-86-0.ec2.internal:7 INFO utils.py:27] RULE_JOB_STOP_SIGNAL_FILENAME: None\u001b[0m\n",
      "\u001b[34mINFO:sagemaker-containers:Imported framework sagemaker_xgboost_container.training\u001b[0m\n",
      "\u001b[34mINFO:sagemaker-containers:Failed to parse hyperparameter _tuning_objective_metric value validation:auc to Json.\u001b[0m\n",
      "\u001b[34mReturning the value itself\u001b[0m\n",
      "\u001b[34mINFO:sagemaker-containers:Failed to parse hyperparameter eval_metric value auc to Json.\u001b[0m\n",
      "\u001b[34mReturning the value itself\u001b[0m\n",
      "\u001b[34mINFO:sagemaker-containers:Failed to parse hyperparameter objective value binary:logistic to Json.\u001b[0m\n",
      "\u001b[34mReturning the value itself\u001b[0m\n",
      "\u001b[34mINFO:sagemaker-containers:No GPUs detected (normal if no gpus installed)\u001b[0m\n",
      "\u001b[34mINFO:sagemaker_xgboost_container.training:Running XGBoost Sagemaker in algorithm mode\u001b[0m\n",
      "\u001b[34mINFO:root:Determined delimiter of CSV input is ','\u001b[0m\n",
      "\u001b[34mINFO:root:Determined delimiter of CSV input is ','\u001b[0m\n",
      "\u001b[34mINFO:root:Determined delimiter of CSV input is ','\u001b[0m\n",
      "\u001b[34mINFO:root:Determined delimiter of CSV input is ','\u001b[0m\n",
      "\u001b[34mINFO:root:Single node training.\u001b[0m\n",
      "\u001b[34mINFO:root:Setting up HPO optimized metric to be : auc\u001b[0m\n",
      "\u001b[34m[23:28:57] 1308472x85 matrix with 111220120 entries loaded from /opt/ml/input/data/train?format=csv&label_column=0&delimiter=,\u001b[0m\n",
      "\u001b[34m[23:28:58] 163559x85 matrix with 13902515 entries loaded from /opt/ml/input/data/validation?format=csv&label_column=0&delimiter=,\u001b[0m\n",
      "\u001b[34m[2024-10-23 23:28:58.653 ip-10-2-86-0.ec2.internal:7 INFO json_config.py:91] Creating hook from json_config at /opt/ml/input/config/debughookconfig.json.\u001b[0m\n",
      "\u001b[34m[2024-10-23 23:28:58.654 ip-10-2-86-0.ec2.internal:7 INFO hook.py:201] tensorboard_dir has not been set for the hook. SMDebug will not be exporting tensorboard summaries.\u001b[0m\n",
      "\u001b[34m[2024-10-23 23:28:58.654 ip-10-2-86-0.ec2.internal:7 INFO profiler_config_parser.py:102] User has disabled profiler.\u001b[0m\n",
      "\u001b[34m[2024-10-23 23:28:58.655 ip-10-2-86-0.ec2.internal:7 INFO hook.py:255] Saving to /opt/ml/output/tensors\u001b[0m\n",
      "\u001b[34m[2024-10-23 23:28:58.655 ip-10-2-86-0.ec2.internal:7 INFO state_store.py:77] The checkpoint config file /opt/ml/input/config/checkpointconfig.json does not exist.\u001b[0m\n",
      "\u001b[34mINFO:root:Debug hook created from config\u001b[0m\n",
      "\u001b[34mINFO:root:Train matrix has 1308472 rows\u001b[0m\n",
      "\u001b[34mINFO:root:Validation matrix has 163559 rows\u001b[0m\n",
      "\u001b[34m[0]#011train-auc:0.66197#011validation-auc:0.66073\u001b[0m\n",
      "\u001b[34m[2024-10-23 23:29:05.103 ip-10-2-86-0.ec2.internal:7 INFO hook.py:423] Monitoring the collections: metrics\u001b[0m\n",
      "\u001b[34m[2024-10-23 23:29:05.105 ip-10-2-86-0.ec2.internal:7 INFO hook.py:486] Hook is writing from the hook with pid: 7\u001b[0m\n",
      "\u001b[34m[1]#011train-auc:0.67798#011validation-auc:0.67596\u001b[0m\n",
      "\u001b[34m[2]#011train-auc:0.68290#011validation-auc:0.68135\u001b[0m\n",
      "\u001b[34m[3]#011train-auc:0.68936#011validation-auc:0.68833\u001b[0m\n",
      "\u001b[34m[4]#011train-auc:0.69306#011validation-auc:0.69240\u001b[0m\n",
      "\u001b[34m[5]#011train-auc:0.69603#011validation-auc:0.69558\u001b[0m\n",
      "\u001b[34m[6]#011train-auc:0.69875#011validation-auc:0.69827\u001b[0m\n",
      "\u001b[34m[7]#011train-auc:0.70276#011validation-auc:0.70210\u001b[0m\n",
      "\u001b[34m[8]#011train-auc:0.70571#011validation-auc:0.70513\u001b[0m\n",
      "\u001b[34m[9]#011train-auc:0.70860#011validation-auc:0.70785\u001b[0m\n",
      "\u001b[34m[10]#011train-auc:0.71105#011validation-auc:0.71056\u001b[0m\n",
      "\u001b[34m[11]#011train-auc:0.71252#011validation-auc:0.71199\u001b[0m\n",
      "\u001b[34m[12]#011train-auc:0.71699#011validation-auc:0.71622\u001b[0m\n",
      "\u001b[34m[13]#011train-auc:0.71821#011validation-auc:0.71738\u001b[0m\n",
      "\u001b[34m[14]#011train-auc:0.71883#011validation-auc:0.71785\u001b[0m\n",
      "\u001b[34m[15]#011train-auc:0.71998#011validation-auc:0.71877\u001b[0m\n",
      "\u001b[34m[16]#011train-auc:0.72134#011validation-auc:0.72010\u001b[0m\n",
      "\u001b[34m[17]#011train-auc:0.72206#011validation-auc:0.72076\u001b[0m\n",
      "\u001b[34m[18]#011train-auc:0.72386#011validation-auc:0.72247\u001b[0m\n",
      "\u001b[34m[19]#011train-auc:0.72461#011validation-auc:0.72303\u001b[0m\n",
      "\u001b[34m[20]#011train-auc:0.72538#011validation-auc:0.72371\u001b[0m\n",
      "\u001b[34m[21]#011train-auc:0.72651#011validation-auc:0.72471\u001b[0m\n",
      "\u001b[34m[22]#011train-auc:0.72700#011validation-auc:0.72518\u001b[0m\n",
      "\u001b[34m[23]#011train-auc:0.72752#011validation-auc:0.72566\u001b[0m\n",
      "\u001b[34m[24]#011train-auc:0.72810#011validation-auc:0.72624\u001b[0m\n",
      "\u001b[34m[25]#011train-auc:0.72867#011validation-auc:0.72679\u001b[0m\n",
      "\u001b[34m[26]#011train-auc:0.72937#011validation-auc:0.72733\u001b[0m\n",
      "\u001b[34m[27]#011train-auc:0.72988#011validation-auc:0.72781\u001b[0m\n",
      "\u001b[34m[28]#011train-auc:0.73051#011validation-auc:0.72839\u001b[0m\n",
      "\u001b[34m[29]#011train-auc:0.73111#011validation-auc:0.72892\u001b[0m\n",
      "\u001b[34m[30]#011train-auc:0.73209#011validation-auc:0.72984\u001b[0m\n",
      "\u001b[34m[31]#011train-auc:0.73266#011validation-auc:0.73028\u001b[0m\n",
      "\u001b[34m[32]#011train-auc:0.73342#011validation-auc:0.73088\u001b[0m\n",
      "\u001b[34m[33]#011train-auc:0.73391#011validation-auc:0.73132\u001b[0m\n",
      "\u001b[34m[34]#011train-auc:0.73434#011validation-auc:0.73172\u001b[0m\n",
      "\u001b[34m[35]#011train-auc:0.73500#011validation-auc:0.73224\u001b[0m\n",
      "\u001b[34m[36]#011train-auc:0.73524#011validation-auc:0.73246\u001b[0m\n",
      "\u001b[34m[37]#011train-auc:0.73559#011validation-auc:0.73269\u001b[0m\n",
      "\u001b[34m[38]#011train-auc:0.73605#011validation-auc:0.73301\u001b[0m\n",
      "\u001b[34m[39]#011train-auc:0.73664#011validation-auc:0.73366\u001b[0m\n",
      "\u001b[34m[40]#011train-auc:0.73699#011validation-auc:0.73392\u001b[0m\n",
      "\u001b[34m[41]#011train-auc:0.73735#011validation-auc:0.73413\u001b[0m\n",
      "\u001b[34m[42]#011train-auc:0.73784#011validation-auc:0.73446\u001b[0m\n",
      "\u001b[34m[43]#011train-auc:0.73823#011validation-auc:0.73481\u001b[0m\n",
      "\u001b[34m[44]#011train-auc:0.73866#011validation-auc:0.73513\u001b[0m\n",
      "\u001b[34m[45]#011train-auc:0.73907#011validation-auc:0.73545\u001b[0m\n",
      "\u001b[34m[46]#011train-auc:0.73949#011validation-auc:0.73577\u001b[0m\n",
      "\u001b[34m[47]#011train-auc:0.73991#011validation-auc:0.73602\u001b[0m\n",
      "\u001b[34m[48]#011train-auc:0.74012#011validation-auc:0.73622\u001b[0m\n",
      "\u001b[34m[49]#011train-auc:0.74053#011validation-auc:0.73656\u001b[0m\n",
      "\u001b[34m[50]#011train-auc:0.74089#011validation-auc:0.73680\u001b[0m\n",
      "\u001b[34m[51]#011train-auc:0.74123#011validation-auc:0.73715\u001b[0m\n",
      "\u001b[34m[52]#011train-auc:0.74157#011validation-auc:0.73741\u001b[0m\n",
      "\u001b[34m[53]#011train-auc:0.74193#011validation-auc:0.73771\u001b[0m\n",
      "\u001b[34m[54]#011train-auc:0.74224#011validation-auc:0.73789\u001b[0m\n",
      "\u001b[34m[55]#011train-auc:0.74252#011validation-auc:0.73813\u001b[0m\n",
      "\u001b[34m[56]#011train-auc:0.74292#011validation-auc:0.73848\u001b[0m\n",
      "\u001b[34m[57]#011train-auc:0.74315#011validation-auc:0.73863\u001b[0m\n",
      "\u001b[34m[58]#011train-auc:0.74345#011validation-auc:0.73891\u001b[0m\n",
      "\u001b[34m[59]#011train-auc:0.74379#011validation-auc:0.73908\u001b[0m\n",
      "\u001b[34m[60]#011train-auc:0.74389#011validation-auc:0.73916\u001b[0m\n",
      "\u001b[34m[61]#011train-auc:0.74422#011validation-auc:0.73936\u001b[0m\n",
      "\u001b[34m[62]#011train-auc:0.74460#011validation-auc:0.73960\u001b[0m\n",
      "\u001b[34m[63]#011train-auc:0.74486#011validation-auc:0.73982\u001b[0m\n",
      "\u001b[34m[64]#011train-auc:0.74514#011validation-auc:0.74006\u001b[0m\n",
      "\u001b[34m[65]#011train-auc:0.74544#011validation-auc:0.74030\u001b[0m\n",
      "\u001b[34m[66]#011train-auc:0.74571#011validation-auc:0.74049\u001b[0m\n",
      "\u001b[34m[67]#011train-auc:0.74614#011validation-auc:0.74089\u001b[0m\n",
      "\u001b[34m[68]#011train-auc:0.74640#011validation-auc:0.74107\u001b[0m\n",
      "\u001b[34m[69]#011train-auc:0.74663#011validation-auc:0.74126\u001b[0m\n",
      "\u001b[34m[70]#011train-auc:0.74681#011validation-auc:0.74139\u001b[0m\n",
      "\u001b[34m[71]#011train-auc:0.74709#011validation-auc:0.74166\u001b[0m\n",
      "\u001b[34m[72]#011train-auc:0.74727#011validation-auc:0.74186\u001b[0m\n",
      "\u001b[34m[73]#011train-auc:0.74750#011validation-auc:0.74206\u001b[0m\n",
      "\u001b[34m[74]#011train-auc:0.74788#011validation-auc:0.74232\u001b[0m\n",
      "\u001b[34m[75]#011train-auc:0.74799#011validation-auc:0.74237\u001b[0m\n",
      "\u001b[34m[76]#011train-auc:0.74823#011validation-auc:0.74259\u001b[0m\n",
      "\u001b[34m[77]#011train-auc:0.74849#011validation-auc:0.74284\u001b[0m\n",
      "\u001b[34m[78]#011train-auc:0.74877#011validation-auc:0.74307\u001b[0m\n",
      "\u001b[34m[79]#011train-auc:0.74891#011validation-auc:0.74312\u001b[0m\n",
      "\u001b[34m[80]#011train-auc:0.74926#011validation-auc:0.74349\u001b[0m\n",
      "\u001b[34m[81]#011train-auc:0.74950#011validation-auc:0.74360\u001b[0m\n",
      "\u001b[34m[82]#011train-auc:0.74980#011validation-auc:0.74386\u001b[0m\n",
      "\u001b[34m[83]#011train-auc:0.75006#011validation-auc:0.74406\u001b[0m\n",
      "\u001b[34m[84]#011train-auc:0.75023#011validation-auc:0.74421\u001b[0m\n",
      "\u001b[34m[85]#011train-auc:0.75051#011validation-auc:0.74432\u001b[0m\n",
      "\u001b[34m[86]#011train-auc:0.75079#011validation-auc:0.74448\u001b[0m\n",
      "\u001b[34m[87]#011train-auc:0.75097#011validation-auc:0.74457\u001b[0m\n",
      "\u001b[34m[88]#011train-auc:0.75113#011validation-auc:0.74475\u001b[0m\n",
      "\u001b[34m[89]#011train-auc:0.75120#011validation-auc:0.74480\u001b[0m\n",
      "\u001b[34m[90]#011train-auc:0.75127#011validation-auc:0.74483\u001b[0m\n",
      "\u001b[34m[91]#011train-auc:0.75142#011validation-auc:0.74491\u001b[0m\n",
      "\u001b[34m[92]#011train-auc:0.75169#011validation-auc:0.74513\u001b[0m\n",
      "\u001b[34m[93]#011train-auc:0.75197#011validation-auc:0.74535\u001b[0m\n",
      "\u001b[34m[94]#011train-auc:0.75227#011validation-auc:0.74554\u001b[0m\n",
      "\u001b[34m[95]#011train-auc:0.75265#011validation-auc:0.74589\u001b[0m\n",
      "\u001b[34m[96]#011train-auc:0.75287#011validation-auc:0.74603\u001b[0m\n",
      "\u001b[34m[97]#011train-auc:0.75306#011validation-auc:0.74616\u001b[0m\n",
      "\u001b[34m[98]#011train-auc:0.75334#011validation-auc:0.74634\u001b[0m\n",
      "\u001b[34m[99]#011train-auc:0.75355#011validation-auc:0.74652\u001b[0m\n",
      "\u001b[34m[100]#011train-auc:0.75380#011validation-auc:0.74667\u001b[0m\n",
      "\u001b[34m[101]#011train-auc:0.75404#011validation-auc:0.74686\u001b[0m\n",
      "\u001b[34m[102]#011train-auc:0.75427#011validation-auc:0.74693\u001b[0m\n",
      "\u001b[34m[103]#011train-auc:0.75452#011validation-auc:0.74716\u001b[0m\n",
      "\u001b[34m[104]#011train-auc:0.75475#011validation-auc:0.74730\u001b[0m\n",
      "\u001b[34m[105]#011train-auc:0.75495#011validation-auc:0.74741\u001b[0m\n",
      "\u001b[34m[106]#011train-auc:0.75515#011validation-auc:0.74751\u001b[0m\n",
      "\u001b[34m[107]#011train-auc:0.75526#011validation-auc:0.74760\u001b[0m\n",
      "\u001b[34m[108]#011train-auc:0.75546#011validation-auc:0.74775\u001b[0m\n",
      "\u001b[34m[109]#011train-auc:0.75561#011validation-auc:0.74778\u001b[0m\n",
      "\u001b[34m[110]#011train-auc:0.75579#011validation-auc:0.74791\u001b[0m\n",
      "\u001b[34m[111]#011train-auc:0.75601#011validation-auc:0.74801\u001b[0m\n",
      "\u001b[34m[112]#011train-auc:0.75614#011validation-auc:0.74806\u001b[0m\n",
      "\u001b[34m[113]#011train-auc:0.75637#011validation-auc:0.74824\u001b[0m\n",
      "\u001b[34m[114]#011train-auc:0.75655#011validation-auc:0.74840\u001b[0m\n",
      "\u001b[34m[115]#011train-auc:0.75675#011validation-auc:0.74858\u001b[0m\n",
      "\u001b[34m[116]#011train-auc:0.75687#011validation-auc:0.74864\u001b[0m\n",
      "\u001b[34m[117]#011train-auc:0.75703#011validation-auc:0.74876\u001b[0m\n",
      "\u001b[34m[118]#011train-auc:0.75716#011validation-auc:0.74882\u001b[0m\n",
      "\u001b[34m[119]#011train-auc:0.75730#011validation-auc:0.74890\u001b[0m\n",
      "\u001b[34m[120]#011train-auc:0.75746#011validation-auc:0.74905\u001b[0m\n",
      "\u001b[34m[121]#011train-auc:0.75769#011validation-auc:0.74921\u001b[0m\n",
      "\u001b[34m[122]#011train-auc:0.75789#011validation-auc:0.74940\u001b[0m\n",
      "\u001b[34m[123]#011train-auc:0.75808#011validation-auc:0.74956\u001b[0m\n",
      "\u001b[34m[124]#011train-auc:0.75827#011validation-auc:0.74963\u001b[0m\n",
      "\u001b[34m[125]#011train-auc:0.75840#011validation-auc:0.74969\u001b[0m\n",
      "\u001b[34m[126]#011train-auc:0.75845#011validation-auc:0.74972\u001b[0m\n",
      "\u001b[34m[127]#011train-auc:0.75860#011validation-auc:0.74977\u001b[0m\n",
      "\u001b[34m[128]#011train-auc:0.75874#011validation-auc:0.74984\u001b[0m\n",
      "\u001b[34m[129]#011train-auc:0.75897#011validation-auc:0.75001\u001b[0m\n",
      "\u001b[34m[130]#011train-auc:0.75913#011validation-auc:0.75013\u001b[0m\n",
      "\u001b[34m[131]#011train-auc:0.75937#011validation-auc:0.75029\u001b[0m\n",
      "\u001b[34m[132]#011train-auc:0.75960#011validation-auc:0.75043\u001b[0m\n",
      "\u001b[34m[133]#011train-auc:0.75980#011validation-auc:0.75057\u001b[0m\n",
      "\u001b[34m[134]#011train-auc:0.76000#011validation-auc:0.75069\u001b[0m\n",
      "\u001b[34m[135]#011train-auc:0.76016#011validation-auc:0.75078\u001b[0m\n",
      "\u001b[34m[136]#011train-auc:0.76032#011validation-auc:0.75088\u001b[0m\n",
      "\u001b[34m[137]#011train-auc:0.76053#011validation-auc:0.75092\u001b[0m\n",
      "\u001b[34m[138]#011train-auc:0.76068#011validation-auc:0.75098\u001b[0m\n",
      "\u001b[34m[139]#011train-auc:0.76080#011validation-auc:0.75109\u001b[0m\n",
      "\u001b[34m[140]#011train-auc:0.76099#011validation-auc:0.75124\u001b[0m\n",
      "\u001b[34m[141]#011train-auc:0.76116#011validation-auc:0.75137\u001b[0m\n",
      "\n",
      "2024-10-23 23:35:38 Uploading - Uploading generated training model\u001b[34m[142]#011train-auc:0.76121#011validation-auc:0.75141\u001b[0m\n",
      "\u001b[34m[143]#011train-auc:0.76137#011validation-auc:0.75153\u001b[0m\n",
      "\u001b[34m[144]#011train-auc:0.76155#011validation-auc:0.75165\u001b[0m\n",
      "\n",
      "2024-10-23 23:35:51 Completed - Training job completed\n",
      "Training seconds: 517\n",
      "Billable seconds: 517\n"
     ]
    }
   ],
   "source": [
    "# Enter your code here'\n",
    "best_estimator.fit(inputs=data_channels)"
   ]
  },
  {
   "cell_type": "markdown",
   "metadata": {},
   "source": [
    "Use the batch transformer for your new model, and evaluate the model on the test dataset."
   ]
  },
  {
   "cell_type": "code",
   "execution_count": 93,
   "metadata": {
    "tags": []
   },
   "outputs": [
    {
     "name": "stderr",
     "output_type": "stream",
     "text": [
      "INFO:sagemaker:Creating model with name: sagemaker-xgboost-2024-10-23-23-37-02-890\n",
      "INFO:sagemaker:Creating transform job with name: sagemaker-xgboost-2024-10-23-23-37-03-683\n"
     ]
    },
    {
     "name": "stdout",
     "output_type": "stream",
     "text": [
      ".......................................\n",
      "\u001b[34m[2024-10-23:23:43:29:INFO] No GPUs detected (normal if no gpus installed)\u001b[0m\n",
      "\u001b[34m[2024-10-23:23:43:29:INFO] No GPUs detected (normal if no gpus installed)\u001b[0m\n",
      "\u001b[34m[2024-10-23:23:43:29:INFO] nginx config: \u001b[0m\n",
      "\u001b[34mworker_processes auto;\u001b[0m\n",
      "\u001b[34mdaemon off;\u001b[0m\n",
      "\u001b[34mpid /tmp/nginx.pid;\u001b[0m\n",
      "\u001b[34merror_log  /dev/stderr;\u001b[0m\n",
      "\u001b[34mworker_rlimit_nofile 4096;\u001b[0m\n",
      "\u001b[34mevents {\n",
      "  worker_connections 2048;\u001b[0m\n",
      "\u001b[34m}\u001b[0m\n",
      "\u001b[35m[2024-10-23:23:43:29:INFO] No GPUs detected (normal if no gpus installed)\u001b[0m\n",
      "\u001b[35m[2024-10-23:23:43:29:INFO] No GPUs detected (normal if no gpus installed)\u001b[0m\n",
      "\u001b[35m[2024-10-23:23:43:29:INFO] nginx config: \u001b[0m\n",
      "\u001b[35mworker_processes auto;\u001b[0m\n",
      "\u001b[35mdaemon off;\u001b[0m\n",
      "\u001b[35mpid /tmp/nginx.pid;\u001b[0m\n",
      "\u001b[35merror_log  /dev/stderr;\u001b[0m\n",
      "\u001b[35mworker_rlimit_nofile 4096;\u001b[0m\n",
      "\u001b[35mevents {\n",
      "  worker_connections 2048;\u001b[0m\n",
      "\u001b[35m}\u001b[0m\n",
      "\u001b[34mhttp {\n",
      "  include /etc/nginx/mime.types;\n",
      "  default_type application/octet-stream;\n",
      "  access_log /dev/stdout combined;\n",
      "  upstream gunicorn {\n",
      "    server unix:/tmp/gunicorn.sock;\n",
      "  }\n",
      "  server {\n",
      "    listen 8080 deferred;\n",
      "    client_max_body_size 0;\n",
      "    keepalive_timeout 3;\n",
      "    location ~ ^/(ping|invocations|execution-parameters) {\n",
      "      proxy_set_header X-Forwarded-For $proxy_add_x_forwarded_for;\n",
      "      proxy_set_header Host $http_host;\n",
      "      proxy_redirect off;\n",
      "      proxy_read_timeout 60s;\n",
      "      proxy_pass http://gunicorn;\n",
      "    }\n",
      "    location / {\n",
      "      return 404 \"{}\";\n",
      "    }\n",
      "  }\u001b[0m\n",
      "\u001b[34m}\u001b[0m\n",
      "\u001b[34m[2024-10-23 23:43:29 +0000] [19] [INFO] Starting gunicorn 19.10.0\u001b[0m\n",
      "\u001b[34m[2024-10-23 23:43:29 +0000] [19] [INFO] Listening at: unix:/tmp/gunicorn.sock (19)\u001b[0m\n",
      "\u001b[34m[2024-10-23 23:43:29 +0000] [19] [INFO] Using worker: gevent\u001b[0m\n",
      "\u001b[34m[2024-10-23 23:43:29 +0000] [26] [INFO] Booting worker with pid: 26\u001b[0m\n",
      "\u001b[34m[2024-10-23 23:43:29 +0000] [27] [INFO] Booting worker with pid: 27\u001b[0m\n",
      "\u001b[34m[2024-10-23 23:43:29 +0000] [28] [INFO] Booting worker with pid: 28\u001b[0m\n",
      "\u001b[34m[2024-10-23 23:43:29 +0000] [29] [INFO] Booting worker with pid: 29\u001b[0m\n",
      "\u001b[35mhttp {\n",
      "  include /etc/nginx/mime.types;\n",
      "  default_type application/octet-stream;\n",
      "  access_log /dev/stdout combined;\n",
      "  upstream gunicorn {\n",
      "    server unix:/tmp/gunicorn.sock;\n",
      "  }\n",
      "  server {\n",
      "    listen 8080 deferred;\n",
      "    client_max_body_size 0;\n",
      "    keepalive_timeout 3;\n",
      "    location ~ ^/(ping|invocations|execution-parameters) {\n",
      "      proxy_set_header X-Forwarded-For $proxy_add_x_forwarded_for;\n",
      "      proxy_set_header Host $http_host;\n",
      "      proxy_redirect off;\n",
      "      proxy_read_timeout 60s;\n",
      "      proxy_pass http://gunicorn;\n",
      "    }\n",
      "    location / {\n",
      "      return 404 \"{}\";\n",
      "    }\n",
      "  }\u001b[0m\n",
      "\u001b[35m}\u001b[0m\n",
      "\u001b[35m[2024-10-23 23:43:29 +0000] [19] [INFO] Starting gunicorn 19.10.0\u001b[0m\n",
      "\u001b[35m[2024-10-23 23:43:29 +0000] [19] [INFO] Listening at: unix:/tmp/gunicorn.sock (19)\u001b[0m\n",
      "\u001b[35m[2024-10-23 23:43:29 +0000] [19] [INFO] Using worker: gevent\u001b[0m\n",
      "\u001b[35m[2024-10-23 23:43:29 +0000] [26] [INFO] Booting worker with pid: 26\u001b[0m\n",
      "\u001b[35m[2024-10-23 23:43:29 +0000] [27] [INFO] Booting worker with pid: 27\u001b[0m\n",
      "\u001b[35m[2024-10-23 23:43:29 +0000] [28] [INFO] Booting worker with pid: 28\u001b[0m\n",
      "\u001b[35m[2024-10-23 23:43:29 +0000] [29] [INFO] Booting worker with pid: 29\u001b[0m\n",
      "\u001b[34m[2024-10-23:23:43:34:INFO] No GPUs detected (normal if no gpus installed)\u001b[0m\n",
      "\u001b[34m169.254.255.130 - - [23/Oct/2024:23:43:34 +0000] \"GET /ping HTTP/1.1\" 200 0 \"-\" \"Go-http-client/1.1\"\u001b[0m\n",
      "\u001b[34m169.254.255.130 - - [23/Oct/2024:23:43:34 +0000] \"GET /execution-parameters HTTP/1.1\" 200 84 \"-\" \"Go-http-client/1.1\"\u001b[0m\n",
      "\u001b[35m[2024-10-23:23:43:34:INFO] No GPUs detected (normal if no gpus installed)\u001b[0m\n",
      "\u001b[35m169.254.255.130 - - [23/Oct/2024:23:43:34 +0000] \"GET /ping HTTP/1.1\" 200 0 \"-\" \"Go-http-client/1.1\"\u001b[0m\n",
      "\u001b[35m169.254.255.130 - - [23/Oct/2024:23:43:34 +0000] \"GET /execution-parameters HTTP/1.1\" 200 84 \"-\" \"Go-http-client/1.1\"\u001b[0m\n",
      "\u001b[34m[2024-10-23:23:43:35:INFO] No GPUs detected (normal if no gpus installed)\u001b[0m\n",
      "\u001b[34m[2024-10-23:23:43:35:INFO] Determined delimiter of CSV input is ','\u001b[0m\n",
      "\u001b[34m[2024-10-23:23:43:35:INFO] No GPUs detected (normal if no gpus installed)\u001b[0m\n",
      "\u001b[34m[2024-10-23:23:43:35:INFO] Determined delimiter of CSV input is ','\u001b[0m\n",
      "\u001b[34m[2024-10-23:23:43:35:INFO] Determined delimiter of CSV input is ','\u001b[0m\n",
      "\u001b[34m[2024-10-23:23:43:35:INFO] No GPUs detected (normal if no gpus installed)\u001b[0m\n",
      "\u001b[34m[2024-10-23:23:43:35:INFO] Determined delimiter of CSV input is ','\u001b[0m\n",
      "\u001b[35m[2024-10-23:23:43:35:INFO] No GPUs detected (normal if no gpus installed)\u001b[0m\n",
      "\u001b[35m[2024-10-23:23:43:35:INFO] Determined delimiter of CSV input is ','\u001b[0m\n",
      "\u001b[35m[2024-10-23:23:43:35:INFO] No GPUs detected (normal if no gpus installed)\u001b[0m\n",
      "\u001b[35m[2024-10-23:23:43:35:INFO] Determined delimiter of CSV input is ','\u001b[0m\n",
      "\u001b[35m[2024-10-23:23:43:35:INFO] Determined delimiter of CSV input is ','\u001b[0m\n",
      "\u001b[35m[2024-10-23:23:43:35:INFO] No GPUs detected (normal if no gpus installed)\u001b[0m\n",
      "\u001b[35m[2024-10-23:23:43:35:INFO] Determined delimiter of CSV input is ','\u001b[0m\n",
      "\u001b[32m2024-10-23T23:43:34.565:[sagemaker logs]: MaxConcurrentTransforms=4, MaxPayloadInMB=6, BatchStrategy=MULTI_RECORD\u001b[0m\n",
      "\u001b[34m169.254.255.130 - - [23/Oct/2024:23:43:39 +0000] \"POST /invocations HTTP/1.1\" 200 653266 \"-\" \"Go-http-client/1.1\"\u001b[0m\n",
      "\u001b[34m169.254.255.130 - - [23/Oct/2024:23:43:39 +0000] \"POST /invocations HTTP/1.1\" 200 653133 \"-\" \"Go-http-client/1.1\"\u001b[0m\n",
      "\u001b[34m169.254.255.130 - - [23/Oct/2024:23:43:39 +0000] \"POST /invocations HTTP/1.1\" 200 653226 \"-\" \"Go-http-client/1.1\"\u001b[0m\n",
      "\u001b[34m169.254.255.130 - - [23/Oct/2024:23:43:39 +0000] \"POST /invocations HTTP/1.1\" 200 653215 \"-\" \"Go-http-client/1.1\"\u001b[0m\n",
      "\u001b[34m[2024-10-23:23:43:39:INFO] Determined delimiter of CSV input is ','\u001b[0m\n",
      "\u001b[35m169.254.255.130 - - [23/Oct/2024:23:43:39 +0000] \"POST /invocations HTTP/1.1\" 200 653266 \"-\" \"Go-http-client/1.1\"\u001b[0m\n",
      "\u001b[35m169.254.255.130 - - [23/Oct/2024:23:43:39 +0000] \"POST /invocations HTTP/1.1\" 200 653133 \"-\" \"Go-http-client/1.1\"\u001b[0m\n",
      "\u001b[35m169.254.255.130 - - [23/Oct/2024:23:43:39 +0000] \"POST /invocations HTTP/1.1\" 200 653226 \"-\" \"Go-http-client/1.1\"\u001b[0m\n",
      "\u001b[35m169.254.255.130 - - [23/Oct/2024:23:43:39 +0000] \"POST /invocations HTTP/1.1\" 200 653215 \"-\" \"Go-http-client/1.1\"\u001b[0m\n",
      "\u001b[35m[2024-10-23:23:43:39:INFO] Determined delimiter of CSV input is ','\u001b[0m\n",
      "\u001b[34m169.254.255.130 - - [23/Oct/2024:23:43:41 +0000] \"POST /invocations HTTP/1.1\" 200 602926 \"-\" \"Go-http-client/1.1\"\u001b[0m\n",
      "\u001b[35m169.254.255.130 - - [23/Oct/2024:23:43:41 +0000] \"POST /invocations HTTP/1.1\" 200 602926 \"-\" \"Go-http-client/1.1\"\u001b[0m\n",
      "\u001b[34m[2024-10-23:23:43:29:INFO] No GPUs detected (normal if no gpus installed)\u001b[0m\n",
      "\u001b[34m[2024-10-23:23:43:29:INFO] No GPUs detected (normal if no gpus installed)\u001b[0m\n",
      "\u001b[34m[2024-10-23:23:43:29:INFO] nginx config: \u001b[0m\n",
      "\u001b[34mworker_processes auto;\u001b[0m\n",
      "\u001b[34mdaemon off;\u001b[0m\n",
      "\u001b[34mpid /tmp/nginx.pid;\u001b[0m\n",
      "\u001b[34merror_log  /dev/stderr;\u001b[0m\n",
      "\u001b[34mworker_rlimit_nofile 4096;\u001b[0m\n",
      "\u001b[34mevents {\n",
      "  worker_connections 2048;\u001b[0m\n",
      "\u001b[34m}\u001b[0m\n",
      "\u001b[35m[2024-10-23:23:43:29:INFO] No GPUs detected (normal if no gpus installed)\u001b[0m\n",
      "\u001b[35m[2024-10-23:23:43:29:INFO] No GPUs detected (normal if no gpus installed)\u001b[0m\n",
      "\u001b[35m[2024-10-23:23:43:29:INFO] nginx config: \u001b[0m\n",
      "\u001b[35mworker_processes auto;\u001b[0m\n",
      "\u001b[35mdaemon off;\u001b[0m\n",
      "\u001b[35mpid /tmp/nginx.pid;\u001b[0m\n",
      "\u001b[35merror_log  /dev/stderr;\u001b[0m\n",
      "\u001b[35mworker_rlimit_nofile 4096;\u001b[0m\n",
      "\u001b[35mevents {\n",
      "  worker_connections 2048;\u001b[0m\n",
      "\u001b[35m}\u001b[0m\n",
      "\u001b[34mhttp {\n",
      "  include /etc/nginx/mime.types;\n",
      "  default_type application/octet-stream;\n",
      "  access_log /dev/stdout combined;\n",
      "  upstream gunicorn {\n",
      "    server unix:/tmp/gunicorn.sock;\n",
      "  }\n",
      "  server {\n",
      "    listen 8080 deferred;\n",
      "    client_max_body_size 0;\n",
      "    keepalive_timeout 3;\n",
      "    location ~ ^/(ping|invocations|execution-parameters) {\n",
      "      proxy_set_header X-Forwarded-For $proxy_add_x_forwarded_for;\n",
      "      proxy_set_header Host $http_host;\n",
      "      proxy_redirect off;\n",
      "      proxy_read_timeout 60s;\n",
      "      proxy_pass http://gunicorn;\n",
      "    }\n",
      "    location / {\n",
      "      return 404 \"{}\";\n",
      "    }\n",
      "  }\u001b[0m\n",
      "\u001b[34m}\u001b[0m\n",
      "\u001b[34m[2024-10-23 23:43:29 +0000] [19] [INFO] Starting gunicorn 19.10.0\u001b[0m\n",
      "\u001b[34m[2024-10-23 23:43:29 +0000] [19] [INFO] Listening at: unix:/tmp/gunicorn.sock (19)\u001b[0m\n",
      "\u001b[34m[2024-10-23 23:43:29 +0000] [19] [INFO] Using worker: gevent\u001b[0m\n",
      "\u001b[34m[2024-10-23 23:43:29 +0000] [26] [INFO] Booting worker with pid: 26\u001b[0m\n",
      "\u001b[34m[2024-10-23 23:43:29 +0000] [27] [INFO] Booting worker with pid: 27\u001b[0m\n",
      "\u001b[34m[2024-10-23 23:43:29 +0000] [28] [INFO] Booting worker with pid: 28\u001b[0m\n",
      "\u001b[34m[2024-10-23 23:43:29 +0000] [29] [INFO] Booting worker with pid: 29\u001b[0m\n",
      "\u001b[35mhttp {\n",
      "  include /etc/nginx/mime.types;\n",
      "  default_type application/octet-stream;\n",
      "  access_log /dev/stdout combined;\n",
      "  upstream gunicorn {\n",
      "    server unix:/tmp/gunicorn.sock;\n",
      "  }\n",
      "  server {\n",
      "    listen 8080 deferred;\n",
      "    client_max_body_size 0;\n",
      "    keepalive_timeout 3;\n",
      "    location ~ ^/(ping|invocations|execution-parameters) {\n",
      "      proxy_set_header X-Forwarded-For $proxy_add_x_forwarded_for;\n",
      "      proxy_set_header Host $http_host;\n",
      "      proxy_redirect off;\n",
      "      proxy_read_timeout 60s;\n",
      "      proxy_pass http://gunicorn;\n",
      "    }\n",
      "    location / {\n",
      "      return 404 \"{}\";\n",
      "    }\n",
      "  }\u001b[0m\n",
      "\u001b[35m}\u001b[0m\n",
      "\u001b[35m[2024-10-23 23:43:29 +0000] [19] [INFO] Starting gunicorn 19.10.0\u001b[0m\n",
      "\u001b[35m[2024-10-23 23:43:29 +0000] [19] [INFO] Listening at: unix:/tmp/gunicorn.sock (19)\u001b[0m\n",
      "\u001b[35m[2024-10-23 23:43:29 +0000] [19] [INFO] Using worker: gevent\u001b[0m\n",
      "\u001b[35m[2024-10-23 23:43:29 +0000] [26] [INFO] Booting worker with pid: 26\u001b[0m\n",
      "\u001b[35m[2024-10-23 23:43:29 +0000] [27] [INFO] Booting worker with pid: 27\u001b[0m\n",
      "\u001b[35m[2024-10-23 23:43:29 +0000] [28] [INFO] Booting worker with pid: 28\u001b[0m\n",
      "\u001b[35m[2024-10-23 23:43:29 +0000] [29] [INFO] Booting worker with pid: 29\u001b[0m\n",
      "\u001b[34m[2024-10-23:23:43:34:INFO] No GPUs detected (normal if no gpus installed)\u001b[0m\n",
      "\u001b[34m169.254.255.130 - - [23/Oct/2024:23:43:34 +0000] \"GET /ping HTTP/1.1\" 200 0 \"-\" \"Go-http-client/1.1\"\u001b[0m\n",
      "\u001b[34m169.254.255.130 - - [23/Oct/2024:23:43:34 +0000] \"GET /execution-parameters HTTP/1.1\" 200 84 \"-\" \"Go-http-client/1.1\"\u001b[0m\n",
      "\u001b[35m[2024-10-23:23:43:34:INFO] No GPUs detected (normal if no gpus installed)\u001b[0m\n",
      "\u001b[35m169.254.255.130 - - [23/Oct/2024:23:43:34 +0000] \"GET /ping HTTP/1.1\" 200 0 \"-\" \"Go-http-client/1.1\"\u001b[0m\n",
      "\u001b[35m169.254.255.130 - - [23/Oct/2024:23:43:34 +0000] \"GET /execution-parameters HTTP/1.1\" 200 84 \"-\" \"Go-http-client/1.1\"\u001b[0m\n",
      "\u001b[34m[2024-10-23:23:43:35:INFO] No GPUs detected (normal if no gpus installed)\u001b[0m\n",
      "\u001b[34m[2024-10-23:23:43:35:INFO] Determined delimiter of CSV input is ','\u001b[0m\n",
      "\u001b[34m[2024-10-23:23:43:35:INFO] No GPUs detected (normal if no gpus installed)\u001b[0m\n",
      "\u001b[34m[2024-10-23:23:43:35:INFO] Determined delimiter of CSV input is ','\u001b[0m\n",
      "\u001b[34m[2024-10-23:23:43:35:INFO] Determined delimiter of CSV input is ','\u001b[0m\n",
      "\u001b[34m[2024-10-23:23:43:35:INFO] No GPUs detected (normal if no gpus installed)\u001b[0m\n",
      "\u001b[34m[2024-10-23:23:43:35:INFO] Determined delimiter of CSV input is ','\u001b[0m\n",
      "\u001b[35m[2024-10-23:23:43:35:INFO] No GPUs detected (normal if no gpus installed)\u001b[0m\n",
      "\u001b[35m[2024-10-23:23:43:35:INFO] Determined delimiter of CSV input is ','\u001b[0m\n",
      "\u001b[35m[2024-10-23:23:43:35:INFO] No GPUs detected (normal if no gpus installed)\u001b[0m\n",
      "\u001b[35m[2024-10-23:23:43:35:INFO] Determined delimiter of CSV input is ','\u001b[0m\n",
      "\u001b[35m[2024-10-23:23:43:35:INFO] Determined delimiter of CSV input is ','\u001b[0m\n",
      "\u001b[35m[2024-10-23:23:43:35:INFO] No GPUs detected (normal if no gpus installed)\u001b[0m\n",
      "\u001b[35m[2024-10-23:23:43:35:INFO] Determined delimiter of CSV input is ','\u001b[0m\n",
      "\u001b[32m2024-10-23T23:43:34.565:[sagemaker logs]: MaxConcurrentTransforms=4, MaxPayloadInMB=6, BatchStrategy=MULTI_RECORD\u001b[0m\n",
      "\u001b[34m169.254.255.130 - - [23/Oct/2024:23:43:39 +0000] \"POST /invocations HTTP/1.1\" 200 653266 \"-\" \"Go-http-client/1.1\"\u001b[0m\n",
      "\u001b[34m169.254.255.130 - - [23/Oct/2024:23:43:39 +0000] \"POST /invocations HTTP/1.1\" 200 653133 \"-\" \"Go-http-client/1.1\"\u001b[0m\n",
      "\u001b[34m169.254.255.130 - - [23/Oct/2024:23:43:39 +0000] \"POST /invocations HTTP/1.1\" 200 653226 \"-\" \"Go-http-client/1.1\"\u001b[0m\n",
      "\u001b[34m169.254.255.130 - - [23/Oct/2024:23:43:39 +0000] \"POST /invocations HTTP/1.1\" 200 653215 \"-\" \"Go-http-client/1.1\"\u001b[0m\n",
      "\u001b[34m[2024-10-23:23:43:39:INFO] Determined delimiter of CSV input is ','\u001b[0m\n",
      "\u001b[35m169.254.255.130 - - [23/Oct/2024:23:43:39 +0000] \"POST /invocations HTTP/1.1\" 200 653266 \"-\" \"Go-http-client/1.1\"\u001b[0m\n",
      "\u001b[35m169.254.255.130 - - [23/Oct/2024:23:43:39 +0000] \"POST /invocations HTTP/1.1\" 200 653133 \"-\" \"Go-http-client/1.1\"\u001b[0m\n",
      "\u001b[35m169.254.255.130 - - [23/Oct/2024:23:43:39 +0000] \"POST /invocations HTTP/1.1\" 200 653226 \"-\" \"Go-http-client/1.1\"\u001b[0m\n",
      "\u001b[35m169.254.255.130 - - [23/Oct/2024:23:43:39 +0000] \"POST /invocations HTTP/1.1\" 200 653215 \"-\" \"Go-http-client/1.1\"\u001b[0m\n",
      "\u001b[35m[2024-10-23:23:43:39:INFO] Determined delimiter of CSV input is ','\u001b[0m\n",
      "\u001b[34m169.254.255.130 - - [23/Oct/2024:23:43:41 +0000] \"POST /invocations HTTP/1.1\" 200 602926 \"-\" \"Go-http-client/1.1\"\u001b[0m\n",
      "\u001b[35m169.254.255.130 - - [23/Oct/2024:23:43:41 +0000] \"POST /invocations HTTP/1.1\" 200 602926 \"-\" \"Go-http-client/1.1\"\u001b[0m\n"
     ]
    }
   ],
   "source": [
    "batch_output = \"s3://{}/{}/batch-out/\".format(bucket,prefix)\n",
    "batch_input = \"s3://{}/{}/batch-in/{}\".format(bucket,prefix,batch_X_file)\n",
    "\n",
    "xgb_transformer = best_estimator.transformer(instance_count=1,\n",
    "                                       instance_type=instance_type,\n",
    "                                       strategy='MultiRecord',\n",
    "                                       assemble_with='Line',\n",
    "                                       output_path=batch_output)\n",
    "\n",
    "xgb_transformer.transform(data=batch_input,\n",
    "                         data_type='S3Prefix',\n",
    "                         content_type='text/csv',\n",
    "                         split_type='Line')\n",
    "xgb_transformer.wait()"
   ]
  },
  {
   "cell_type": "code",
   "execution_count": 94,
   "metadata": {
    "tags": []
   },
   "outputs": [],
   "source": [
    "s3 = boto3.client('s3')\n",
    "obj = s3.get_object(Bucket=bucket, Key=\"{}/batch-out/{}\".format(prefix,'batch-in.csv.out'))\n",
    "target_predicted = pd.read_csv(io.BytesIO(obj['Body'].read()),sep=',',names=['target'])\n",
    "test_labels = test.iloc[:,0]"
   ]
  },
  {
   "cell_type": "markdown",
   "metadata": {},
   "source": [
    "Get the predicted target and test labels."
   ]
  },
  {
   "cell_type": "code",
   "execution_count": 95,
   "metadata": {
    "tags": []
   },
   "outputs": [
    {
     "name": "stdout",
     "output_type": "stream",
     "text": [
      "     target\n",
      "0  0.105873\n",
      "1  0.059272\n",
      "2  0.133132\n",
      "3  0.176237\n",
      "4  0.064341\n",
      "   target\n",
      "0       0\n",
      "1       0\n",
      "2       0\n",
      "3       0\n",
      "4       0\n"
     ]
    }
   ],
   "source": [
    "print(target_predicted.head())\n",
    "\n",
    "def binary_convert(x):\n",
    "    threshold = 0.55\n",
    "    if x > threshold:\n",
    "        return 1\n",
    "    else:\n",
    "        return 0\n",
    "\n",
    "target_predicted['target'] = target_predicted['target'].apply(binary_convert)\n",
    "\n",
    "test_labels = test.iloc[:,0]\n",
    "\n",
    "print(target_predicted.head())"
   ]
  },
  {
   "cell_type": "markdown",
   "metadata": {},
   "source": [
    "Plot a confusion matrix for your `target_predicted` and `test_labels`."
   ]
  },
  {
   "cell_type": "code",
   "execution_count": 96,
   "metadata": {
    "tags": []
   },
   "outputs": [
    {
     "data": {
      "image/png": "[encoded data removed]",
      "text/plain": [
       "<Figure size 640x480 with 1 Axes>"
      ]
     },
     "metadata": {},
     "output_type": "display_data"
    }
   ],
   "source": [
    "# Enter your code here\n",
    "plot_confusion_matrix(test_labels, target_predicted)"
   ]
  },
  {
   "cell_type": "markdown",
   "metadata": {},
   "source": [
    "**Question**: Try different hyperparameters and hyperparameter ranges. Do these changes improve the model?"
   ]
  },
  {
   "cell_type": "markdown",
   "metadata": {},
   "source": [
    "## Conclusion\n",
    "\n",
    "You have now iterated through training and evaluating your model at least a couple of times. It's time to wrap up this project and reflect on:\n",
    "\n",
    "- What you learned \n",
    "- What types of steps you might take moving forward (assuming that you had more time)\n",
    "\n",
    "Use the following cell to answer some of these questions and other relevant questions:\n",
    "\n",
    "1. Does your model performance meet your business goal? If not, what are some things you'd like to do differently if you had more time for tuning?\n",
    "2. How much did your model improve as you made changes to your dataset, features, and hyperparameters? What types of techniques did you employ throughout this project, and which yielded the greatest improvements in your model?\n",
    "3. What were some of the biggest challenges that you encountered throughout this project?\n",
    "4. Do you have any unanswered questions about aspects of the pipeline that didn't make sense to you?\n",
    "5. What were the three most important things that you learned about machine learning while working on this project?\n",
    "\n",
    "#### <span style=\"color: blue;\">Project presentation: Make sure that you also summarize your answers to these questions in your project presentation. Combine all your notes for your project presentation and prepare to present your findings to the class.</span>"
   ]
  },
  {
   "cell_type": "code",
   "execution_count": null,
   "metadata": {},
   "outputs": [],
   "source": [
    "# Write your answers here"
   ]
  }
 ],
 "metadata": {
  "kernelspec": {
   "display_name": "conda_python3",
   "language": "python",
   "name": "conda_python3"
  },
  "language_info": {
   "codemirror_mode": {
    "name": "ipython",
    "version": 3
   },
   "file_extension": ".py",
   "mimetype": "text/x-python",
   "name": "python",
   "nbconvert_exporter": "python",
   "pygments_lexer": "ipython3",
   "version": "3.10.14"
  }
 },
 "nbformat": 4,
 "nbformat_minor": 4
}
