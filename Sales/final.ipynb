{
 "cells": [
  {
   "cell_type": "markdown",
   "id": "b3c376ea6ed0fd00",
   "metadata": {},
   "source": [
    "#### From ML Class\n",
    "1. Problem Definition\n",
    "2. Data Collection\n",
    "3. Data Cleaning\n",
    "4. Exploratory Data Analysis\n",
    "5. Feature Engineering\n",
    "6. Data Preprocessing\n",
    "7. Splitting the Data\n",
    "8. Model Selection\n",
    "9. Model Training\n",
    "10. Model Evaluation\n",
    "11. Hyperparameter Tuning\n",
    "12. Model Deployment\n",
    "13. Model Monitoring and Updating"
   ]
  },
  {
   "cell_type": "markdown",
   "id": "31f2c6c8d47714d6",
   "metadata": {},
   "source": [
    "#### From DS Class\n",
    "1. Introduction (Background, Objectives, Data Description) (variables=description)\n",
    "2. Install and import libraries\n",
    "3. Load (read) the dataset (always create a copy of the dataset)\n",
    "4. Basic data exploration\n",
    "5. EDA\n",
    "    - data cleaning\n",
    "    - data engineering\n",
    "    - data visualization\n",
    "    - handling missing values\n",
    "    - correlation\n",
    "    - skewness\n",
    "    - EDA summary\n",
    "6. Data mining\n",
    "7. Conclusion (presenting your findings and providing actionable insights)"
   ]
  },
  {
   "cell_type": "markdown",
   "id": "d4b1d093017e6e89",
   "metadata": {},
   "source": [
    "#### **Importing Necessary Libraries**"
   ]
  },
  {
   "cell_type": "code",
   "execution_count": 1,
   "id": "initial_id",
   "metadata": {
    "ExecuteTime": {
     "end_time": "2024-11-04T07:45:05.394939Z",
     "start_time": "2024-11-04T07:45:05.379016Z"
    },
    "collapsed": true
   },
   "outputs": [],
   "source": [
    "import pandas as pd\n",
    "\n",
    "import matplotlib.pyplot as plt\n",
    "import seaborn as sns\n",
    "\n",
    "import warnings\n",
    "warnings.filterwarnings('ignore')\n",
    "\n",
    "%matplotlib inline"
   ]
  },
  {
   "cell_type": "code",
   "execution_count": 2,
   "id": "ea92cf6904b74a58",
   "metadata": {
    "ExecuteTime": {
     "end_time": "2024-11-04T07:45:05.655004Z",
     "start_time": "2024-11-04T07:45:05.404001Z"
    }
   },
   "outputs": [
    {
     "data": {
      "text/html": [
       "<div>\n",
       "<style scoped>\n",
       "    .dataframe tbody tr th:only-of-type {\n",
       "        vertical-align: middle;\n",
       "    }\n",
       "\n",
       "    .dataframe tbody tr th {\n",
       "        vertical-align: top;\n",
       "    }\n",
       "\n",
       "    .dataframe thead th {\n",
       "        text-align: right;\n",
       "    }\n",
       "</style>\n",
       "<table border=\"1\" class=\"dataframe\">\n",
       "  <thead>\n",
       "    <tr style=\"text-align: right;\">\n",
       "      <th></th>\n",
       "      <th>Order Date</th>\n",
       "      <th>Order ID</th>\n",
       "      <th>Product</th>\n",
       "      <th>Product_ean</th>\n",
       "      <th>catégorie</th>\n",
       "      <th>Purchase Address</th>\n",
       "      <th>Quantity Ordered</th>\n",
       "      <th>Price Each</th>\n",
       "      <th>Cost price</th>\n",
       "      <th>turnover</th>\n",
       "      <th>margin</th>\n",
       "    </tr>\n",
       "  </thead>\n",
       "  <tbody>\n",
       "    <tr>\n",
       "      <th>0</th>\n",
       "      <td>1/22/2019 21:25</td>\n",
       "      <td>141234</td>\n",
       "      <td>iPhone</td>\n",
       "      <td>5.638010e+12</td>\n",
       "      <td>Vêtements</td>\n",
       "      <td>944 Walnut St, Boston, MA 02215</td>\n",
       "      <td>1</td>\n",
       "      <td>700.00</td>\n",
       "      <td>231.0000</td>\n",
       "      <td>700.00</td>\n",
       "      <td>469.0000</td>\n",
       "    </tr>\n",
       "    <tr>\n",
       "      <th>1</th>\n",
       "      <td>1/28/2019 14:15</td>\n",
       "      <td>141235</td>\n",
       "      <td>Lightning Charging Cable</td>\n",
       "      <td>5.563320e+12</td>\n",
       "      <td>Alimentation</td>\n",
       "      <td>185 Maple St, Portland, OR 97035</td>\n",
       "      <td>1</td>\n",
       "      <td>14.95</td>\n",
       "      <td>7.4750</td>\n",
       "      <td>14.95</td>\n",
       "      <td>7.4750</td>\n",
       "    </tr>\n",
       "    <tr>\n",
       "      <th>2</th>\n",
       "      <td>1/17/2019 13:33</td>\n",
       "      <td>141236</td>\n",
       "      <td>Wired Headphones</td>\n",
       "      <td>2.113970e+12</td>\n",
       "      <td>Vêtements</td>\n",
       "      <td>538 Adams St, San Francisco, CA 94016</td>\n",
       "      <td>2</td>\n",
       "      <td>11.99</td>\n",
       "      <td>5.9950</td>\n",
       "      <td>23.98</td>\n",
       "      <td>11.9900</td>\n",
       "    </tr>\n",
       "    <tr>\n",
       "      <th>3</th>\n",
       "      <td>1/5/2019 20:33</td>\n",
       "      <td>141237</td>\n",
       "      <td>27in FHD Monitor</td>\n",
       "      <td>3.069160e+12</td>\n",
       "      <td>Sports</td>\n",
       "      <td>738 10th St, Los Angeles, CA 90001</td>\n",
       "      <td>1</td>\n",
       "      <td>149.99</td>\n",
       "      <td>97.4935</td>\n",
       "      <td>149.99</td>\n",
       "      <td>52.4965</td>\n",
       "    </tr>\n",
       "    <tr>\n",
       "      <th>4</th>\n",
       "      <td>1/25/2019 11:59</td>\n",
       "      <td>141238</td>\n",
       "      <td>Wired Headphones</td>\n",
       "      <td>9.692680e+12</td>\n",
       "      <td>Électronique</td>\n",
       "      <td>387 10th St, Austin, TX 73301</td>\n",
       "      <td>1</td>\n",
       "      <td>11.99</td>\n",
       "      <td>5.9950</td>\n",
       "      <td>11.99</td>\n",
       "      <td>5.9950</td>\n",
       "    </tr>\n",
       "  </tbody>\n",
       "</table>\n",
       "</div>"
      ],
      "text/plain": [
       "        Order Date  Order ID                   Product   Product_ean  \\\n",
       "0  1/22/2019 21:25    141234                    iPhone  5.638010e+12   \n",
       "1  1/28/2019 14:15    141235  Lightning Charging Cable  5.563320e+12   \n",
       "2  1/17/2019 13:33    141236          Wired Headphones  2.113970e+12   \n",
       "3   1/5/2019 20:33    141237          27in FHD Monitor  3.069160e+12   \n",
       "4  1/25/2019 11:59    141238          Wired Headphones  9.692680e+12   \n",
       "\n",
       "      catégorie                       Purchase Address  Quantity Ordered  \\\n",
       "0     Vêtements        944 Walnut St, Boston, MA 02215                 1   \n",
       "1  Alimentation       185 Maple St, Portland, OR 97035                 1   \n",
       "2     Vêtements  538 Adams St, San Francisco, CA 94016                 2   \n",
       "3        Sports     738 10th St, Los Angeles, CA 90001                 1   \n",
       "4  Électronique          387 10th St, Austin, TX 73301                 1   \n",
       "\n",
       "   Price Each  Cost price  turnover    margin  \n",
       "0      700.00    231.0000    700.00  469.0000  \n",
       "1       14.95      7.4750     14.95    7.4750  \n",
       "2       11.99      5.9950     23.98   11.9900  \n",
       "3      149.99     97.4935    149.99   52.4965  \n",
       "4       11.99      5.9950     11.99    5.9950  "
      ]
     },
     "execution_count": 2,
     "metadata": {},
     "output_type": "execute_result"
    }
   ],
   "source": [
    "df = pd.read_csv('sales_data.csv')\n",
    "df.head()"
   ]
  },
  {
   "cell_type": "code",
   "execution_count": 3,
   "id": "5907aadb3129d804",
   "metadata": {
    "ExecuteTime": {
     "end_time": "2024-11-04T07:45:05.749295Z",
     "start_time": "2024-11-04T07:45:05.743572Z"
    }
   },
   "outputs": [],
   "source": [
    "sales = df.copy()"
   ]
  },
  {
   "cell_type": "code",
   "execution_count": 4,
   "id": "97f41ebe3ae98a66",
   "metadata": {
    "ExecuteTime": {
     "end_time": "2024-11-04T07:45:05.766966Z",
     "start_time": "2024-11-04T07:45:05.765261Z"
    }
   },
   "outputs": [],
   "source": [
    "# setting the index as order date (not needed for this but good for DS)\n",
    "# sales.set_index('Order Date', inplace=True)\n",
    "# sales.head(2)"
   ]
  },
  {
   "cell_type": "code",
   "execution_count": 5,
   "id": "802364377bf82b4e",
   "metadata": {
    "ExecuteTime": {
     "end_time": "2024-11-04T07:45:05.799794Z",
     "start_time": "2024-11-04T07:45:05.796726Z"
    }
   },
   "outputs": [
    {
     "data": {
      "text/plain": [
       "(185950, 11)"
      ]
     },
     "execution_count": 5,
     "metadata": {},
     "output_type": "execute_result"
    }
   ],
   "source": [
    "# getting the shape of the DataFrame\n",
    "sales.shape"
   ]
  },
  {
   "cell_type": "code",
   "execution_count": 6,
   "id": "a001680050533b12",
   "metadata": {
    "ExecuteTime": {
     "end_time": "2024-11-04T07:45:05.824113Z",
     "start_time": "2024-11-04T07:45:05.821831Z"
    }
   },
   "outputs": [
    {
     "data": {
      "text/plain": [
       "Index(['Order Date', 'Order ID', 'Product', 'Product_ean', 'catégorie',\n",
       "       'Purchase Address', 'Quantity Ordered', 'Price Each', 'Cost price',\n",
       "       'turnover', 'margin'],\n",
       "      dtype='object')"
      ]
     },
     "execution_count": 6,
     "metadata": {},
     "output_type": "execute_result"
    }
   ],
   "source": [
    "# looking at the columns (features)\n",
    "sales.columns"
   ]
  },
  {
   "cell_type": "code",
   "execution_count": 7,
   "id": "d2feddcbde1de4fa",
   "metadata": {
    "ExecuteTime": {
     "end_time": "2024-11-04T07:45:05.855592Z",
     "start_time": "2024-11-04T07:45:05.834183Z"
    }
   },
   "outputs": [
    {
     "name": "stdout",
     "output_type": "stream",
     "text": [
      "<class 'pandas.core.frame.DataFrame'>\n",
      "RangeIndex: 185950 entries, 0 to 185949\n",
      "Data columns (total 11 columns):\n",
      " #   Column            Non-Null Count   Dtype  \n",
      "---  ------            --------------   -----  \n",
      " 0   Order Date        185950 non-null  object \n",
      " 1   Order ID          185950 non-null  int64  \n",
      " 2   Product           185950 non-null  object \n",
      " 3   Product_ean       185950 non-null  float64\n",
      " 4   catégorie         185950 non-null  object \n",
      " 5   Purchase Address  185950 non-null  object \n",
      " 6   Quantity Ordered  185950 non-null  int64  \n",
      " 7   Price Each        185950 non-null  float64\n",
      " 8   Cost price        185950 non-null  float64\n",
      " 9   turnover          185950 non-null  float64\n",
      " 10  margin            185950 non-null  float64\n",
      "dtypes: float64(5), int64(2), object(4)\n",
      "memory usage: 15.6+ MB\n"
     ]
    }
   ],
   "source": [
    "# getting an idea about the dataset\n",
    "sales.info()"
   ]
  },
  {
   "cell_type": "code",
   "execution_count": 8,
   "id": "d38218da72b7a42",
   "metadata": {
    "ExecuteTime": {
     "end_time": "2024-11-04T07:45:05.881666Z",
     "start_time": "2024-11-04T07:45:05.863158Z"
    }
   },
   "outputs": [
    {
     "data": {
      "text/plain": [
       "Order Date          0\n",
       "Order ID            0\n",
       "Product             0\n",
       "Product_ean         0\n",
       "catégorie           0\n",
       "Purchase Address    0\n",
       "Quantity Ordered    0\n",
       "Price Each          0\n",
       "Cost price          0\n",
       "turnover            0\n",
       "margin              0\n",
       "dtype: int64"
      ]
     },
     "execution_count": 8,
     "metadata": {},
     "output_type": "execute_result"
    }
   ],
   "source": [
    "# looking for NaN (empty data points)\n",
    "sales.isnull().sum()"
   ]
  },
  {
   "cell_type": "code",
   "execution_count": 9,
   "id": "ac8888a3abee7f9",
   "metadata": {
    "ExecuteTime": {
     "end_time": "2024-11-04T07:45:06.044920Z",
     "start_time": "2024-11-04T07:45:05.903784Z"
    }
   },
   "outputs": [],
   "source": [
    "# Lowercase all the column names and replace spaces with underscores\n",
    "sales.columns = sales.columns.str.lower().str.replace(' ', '_')\n",
    "\n",
    "# Selects only columns with string values\n",
    "string_column = list(sales.dtypes[sales.dtypes == 'object'].index)\n",
    "\n",
    "# Lowercase and replace spaces with underscores in all string columns\n",
    "for col in string_column:\n",
    "    sales[col] = sales[col].str.lower().str.replace(' ', '_')"
   ]
  },
  {
   "cell_type": "code",
   "execution_count": 10,
   "id": "82c6bdde776bbc33",
   "metadata": {
    "ExecuteTime": {
     "end_time": "2024-11-04T07:45:06.070136Z",
     "start_time": "2024-11-04T07:45:06.067748Z"
    }
   },
   "outputs": [
    {
     "data": {
      "text/plain": [
       "Index(['order_date', 'order_id', 'product', 'product_ean', 'catégorie',\n",
       "       'purchase_address', 'quantity_ordered', 'price_each', 'cost_price',\n",
       "       'turnover', 'margin'],\n",
       "      dtype='object')"
      ]
     },
     "execution_count": 10,
     "metadata": {},
     "output_type": "execute_result"
    }
   ],
   "source": [
    "# check the data to make sure everything was done\n",
    "sales.columns"
   ]
  },
  {
   "cell_type": "code",
   "execution_count": 11,
   "id": "8d085ed702a9e134",
   "metadata": {
    "ExecuteTime": {
     "end_time": "2024-11-04T07:45:06.084961Z",
     "start_time": "2024-11-04T07:45:06.079979Z"
    }
   },
   "outputs": [
    {
     "data": {
      "text/html": [
       "<div>\n",
       "<style scoped>\n",
       "    .dataframe tbody tr th:only-of-type {\n",
       "        vertical-align: middle;\n",
       "    }\n",
       "\n",
       "    .dataframe tbody tr th {\n",
       "        vertical-align: top;\n",
       "    }\n",
       "\n",
       "    .dataframe thead th {\n",
       "        text-align: right;\n",
       "    }\n",
       "</style>\n",
       "<table border=\"1\" class=\"dataframe\">\n",
       "  <thead>\n",
       "    <tr style=\"text-align: right;\">\n",
       "      <th></th>\n",
       "      <th>order_date</th>\n",
       "      <th>order_id</th>\n",
       "      <th>product</th>\n",
       "      <th>product_ean</th>\n",
       "      <th>catégorie</th>\n",
       "      <th>purchase_address</th>\n",
       "      <th>quantity_ordered</th>\n",
       "      <th>price_each</th>\n",
       "      <th>cost_price</th>\n",
       "      <th>turnover</th>\n",
       "      <th>margin</th>\n",
       "    </tr>\n",
       "  </thead>\n",
       "  <tbody>\n",
       "    <tr>\n",
       "      <th>0</th>\n",
       "      <td>1/22/2019_21:25</td>\n",
       "      <td>141234</td>\n",
       "      <td>iphone</td>\n",
       "      <td>5.638010e+12</td>\n",
       "      <td>vêtements</td>\n",
       "      <td>944_walnut_st,_boston,_ma_02215</td>\n",
       "      <td>1</td>\n",
       "      <td>700.00</td>\n",
       "      <td>231.000</td>\n",
       "      <td>700.00</td>\n",
       "      <td>469.000</td>\n",
       "    </tr>\n",
       "    <tr>\n",
       "      <th>1</th>\n",
       "      <td>1/28/2019_14:15</td>\n",
       "      <td>141235</td>\n",
       "      <td>lightning_charging_cable</td>\n",
       "      <td>5.563320e+12</td>\n",
       "      <td>alimentation</td>\n",
       "      <td>185_maple_st,_portland,_or_97035</td>\n",
       "      <td>1</td>\n",
       "      <td>14.95</td>\n",
       "      <td>7.475</td>\n",
       "      <td>14.95</td>\n",
       "      <td>7.475</td>\n",
       "    </tr>\n",
       "  </tbody>\n",
       "</table>\n",
       "</div>"
      ],
      "text/plain": [
       "        order_date  order_id                   product   product_ean  \\\n",
       "0  1/22/2019_21:25    141234                    iphone  5.638010e+12   \n",
       "1  1/28/2019_14:15    141235  lightning_charging_cable  5.563320e+12   \n",
       "\n",
       "      catégorie                  purchase_address  quantity_ordered  \\\n",
       "0     vêtements   944_walnut_st,_boston,_ma_02215                 1   \n",
       "1  alimentation  185_maple_st,_portland,_or_97035                 1   \n",
       "\n",
       "   price_each  cost_price  turnover   margin  \n",
       "0      700.00     231.000    700.00  469.000  \n",
       "1       14.95       7.475     14.95    7.475  "
      ]
     },
     "execution_count": 11,
     "metadata": {},
     "output_type": "execute_result"
    }
   ],
   "source": [
    "sales.head(2)"
   ]
  },
  {
   "cell_type": "code",
   "execution_count": 12,
   "id": "66f6b6016e994f98",
   "metadata": {
    "ExecuteTime": {
     "end_time": "2024-11-04T07:45:06.122478Z",
     "start_time": "2024-11-04T07:45:06.108713Z"
    }
   },
   "outputs": [
    {
     "data": {
      "text/plain": [
       "product\n",
       "usb-c_charging_cable          21903\n",
       "lightning_charging_cable      21658\n",
       "aaa_batteries_(4-pack)        20641\n",
       "aa_batteries_(4-pack)         20577\n",
       "wired_headphones              18882\n",
       "apple_airpods_headphones      15549\n",
       "bose_soundsport_headphones    13325\n",
       "27in_fhd_monitor               7507\n",
       "iphone                         6842\n",
       "27in_4k_gaming_monitor         6230\n",
       "34in_ultrawide_monitor         6181\n",
       "google_phone                   5525\n",
       "flatscreen_tv                  4800\n",
       "macbook_pro_laptop             4724\n",
       "thinkpad_laptop                4128\n",
       "20in_monitor                   4101\n",
       "vareebadd_phone                2065\n",
       "lg_washing_machine              666\n",
       "lg_dryer                        646\n",
       "Name: count, dtype: int64"
      ]
     },
     "execution_count": 12,
     "metadata": {},
     "output_type": "execute_result"
    }
   ],
   "source": [
    "# looking at 'product' values\n",
    "sales['product'].value_counts()"
   ]
  },
  {
   "cell_type": "code",
   "execution_count": 13,
   "id": "9e7ba786b98be39b",
   "metadata": {
    "ExecuteTime": {
     "end_time": "2024-11-04T07:45:06.151235Z",
     "start_time": "2024-11-04T07:45:06.148187Z"
    }
   },
   "outputs": [
    {
     "data": {
      "text/plain": [
       "0    1/22/2019_21:25\n",
       "Name: order_date, dtype: object"
      ]
     },
     "execution_count": 13,
     "metadata": {},
     "output_type": "execute_result"
    }
   ],
   "source": [
    "# looking at the format of order date\n",
    "sales['order_date'].head(1)"
   ]
  },
  {
   "cell_type": "code",
   "execution_count": 14,
   "id": "a097f3a7d5756f48",
   "metadata": {
    "ExecuteTime": {
     "end_time": "2024-11-04T07:45:06.442603Z",
     "start_time": "2024-11-04T07:45:06.196718Z"
    }
   },
   "outputs": [],
   "source": [
    "# setting the date time format to be able to change the columns\n",
    "sales['order_dt'] = pd.to_datetime(sales['order_date'], format='%m/%d/%Y_%H:%M')"
   ]
  },
  {
   "cell_type": "code",
   "execution_count": 15,
   "id": "2b74ad5921434853",
   "metadata": {
    "ExecuteTime": {
     "end_time": "2024-11-04T07:45:06.488194Z",
     "start_time": "2024-11-04T07:45:06.472629Z"
    }
   },
   "outputs": [],
   "source": [
    "# creating new columns using pandas .to_datetime() method\n",
    "sales['order_year'] = pd.to_datetime(sales['order_dt']).dt.year\n",
    "sales['order_month'] = pd.to_datetime(sales['order_dt']).dt.month"
   ]
  },
  {
   "cell_type": "code",
   "execution_count": 16,
   "id": "d95148a894d35ce2",
   "metadata": {
    "ExecuteTime": {
     "end_time": "2024-11-04T07:45:06.498967Z",
     "start_time": "2024-11-04T07:45:06.496729Z"
    }
   },
   "outputs": [
    {
     "data": {
      "text/plain": [
       "Index(['order_date', 'order_id', 'product', 'product_ean', 'catégorie',\n",
       "       'purchase_address', 'quantity_ordered', 'price_each', 'cost_price',\n",
       "       'turnover', 'margin', 'order_dt', 'order_year', 'order_month'],\n",
       "      dtype='object')"
      ]
     },
     "execution_count": 16,
     "metadata": {},
     "output_type": "execute_result"
    }
   ],
   "source": [
    "sales.columns"
   ]
  },
  {
   "cell_type": "code",
   "execution_count": null,
   "id": "65057f1e3c99c024",
   "metadata": {
    "ExecuteTime": {
     "end_time": "2024-11-04T07:45:06.516858Z",
     "start_time": "2024-11-04T07:45:06.507037Z"
    }
   },
   "outputs": [
    {
     "data": {
      "text/plain": [
       "Index(['product', 'category', 'quantity_ordered', 'price_each', 'cost_price',\n",
       "       'turnover', 'margin', 'order_year', 'order_month'],\n",
       "      dtype='object')"
      ]
     },
     "execution_count": 17,
     "metadata": {},
     "output_type": "execute_result"
    }
   ],
   "source": [
    "sales.drop(columns={'order_date', 'order_dt', 'product_ean', 'order_id', 'purchase_address'}, axis=1, inplace=True)\n",
    "sales = sales.rename(columns={'catégorie' : 'category'})\n",
    "sales.columns"
   ]
  },
  {
   "cell_type": "code",
   "execution_count": 18,
   "id": "19e72c26b31b18a9",
   "metadata": {
    "ExecuteTime": {
     "end_time": "2024-11-04T07:45:06.541534Z",
     "start_time": "2024-11-04T07:45:06.523601Z"
    }
   },
   "outputs": [
    {
     "name": "stdout",
     "output_type": "stream",
     "text": [
      "<class 'pandas.core.frame.DataFrame'>\n",
      "RangeIndex: 185950 entries, 0 to 185949\n",
      "Data columns (total 9 columns):\n",
      " #   Column            Non-Null Count   Dtype  \n",
      "---  ------            --------------   -----  \n",
      " 0   product           185950 non-null  object \n",
      " 1   category          185950 non-null  object \n",
      " 2   quantity_ordered  185950 non-null  int64  \n",
      " 3   price_each        185950 non-null  float64\n",
      " 4   cost_price        185950 non-null  float64\n",
      " 5   turnover          185950 non-null  float64\n",
      " 6   margin            185950 non-null  float64\n",
      " 7   order_year        185950 non-null  int32  \n",
      " 8   order_month       185950 non-null  int32  \n",
      "dtypes: float64(4), int32(2), int64(1), object(2)\n",
      "memory usage: 11.3+ MB\n"
     ]
    }
   ],
   "source": [
    "sales.info()"
   ]
  },
  {
   "cell_type": "code",
   "execution_count": 19,
   "id": "65b3b79f96041705",
   "metadata": {
    "ExecuteTime": {
     "end_time": "2024-11-04T07:45:06.561078Z",
     "start_time": "2024-11-04T07:45:06.548618Z"
    }
   },
   "outputs": [
    {
     "data": {
      "text/plain": [
       "category\n",
       "sports          46925\n",
       "vêtements       46405\n",
       "alimentation    46342\n",
       "électronique    46278\n",
       "Name: count, dtype: int64"
      ]
     },
     "execution_count": 19,
     "metadata": {},
     "output_type": "execute_result"
    }
   ],
   "source": [
    "sales['category'].value_counts()"
   ]
  },
  {
   "cell_type": "code",
   "execution_count": 20,
   "id": "f6465a2871f2f4df",
   "metadata": {
    "ExecuteTime": {
     "end_time": "2024-11-04T07:45:06.587432Z",
     "start_time": "2024-11-04T07:45:06.584413Z"
    }
   },
   "outputs": [
    {
     "data": {
      "text/plain": [
       "order_year\n",
       "2019    185916\n",
       "2020        34\n",
       "Name: count, dtype: int64"
      ]
     },
     "execution_count": 20,
     "metadata": {},
     "output_type": "execute_result"
    }
   ],
   "source": [
    "sales['order_year'].value_counts()"
   ]
  },
  {
   "cell_type": "markdown",
   "id": "03551c76",
   "metadata": {},
   "source": [
    "#### Linear regression is a good starting point for small to moderate datasets with few features, while Lasso regression is good for large datasets with many features."
   ]
  },
  {
   "cell_type": "code",
   "execution_count": null,
   "id": "d669e7d2df7bfb8b",
   "metadata": {
    "ExecuteTime": {
     "end_time": "2024-11-04T07:45:06.612414Z",
     "start_time": "2024-11-04T07:45:06.610456Z"
    }
   },
   "outputs": [],
   "source": []
  }
 ],
 "metadata": {
  "kernelspec": {
   "display_name": "base",
   "language": "python",
   "name": "python3"
  },
  "language_info": {
   "codemirror_mode": {
    "name": "ipython",
    "version": 3
   },
   "file_extension": ".py",
   "mimetype": "text/x-python",
   "name": "python",
   "nbconvert_exporter": "python",
   "pygments_lexer": "ipython3",
   "version": "3.11.7"
  }
 },
 "nbformat": 4,
 "nbformat_minor": 5
}
